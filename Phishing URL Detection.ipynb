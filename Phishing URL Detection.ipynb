{
 "cells": [
  {
   "cell_type": "markdown",
   "id": "f41546c8",
   "metadata": {},
   "source": [
    "# Phishing URL Detection "
   ]
  },
  {
   "cell_type": "markdown",
   "id": "86acf7a9",
   "metadata": {},
   "source": [
    "The steps demonstrated in this notebook are:\n",
    "1. Loading the data\n",
    "2. Familiarizing with data & EDA\n",
    "3. Visualizing the data\n",
    "4. Splitting the data\n",
    "5. Training the data\n",
    "6. Comparision of Model\n",
    "7. Conclusion"
   ]
  },
  {
   "cell_type": "code",
   "execution_count": 1,
   "id": "51ca7313",
   "metadata": {},
   "outputs": [],
   "source": [
    "#importing required libraries\n",
    "import numpy as np\n",
    "import pandas as pd\n",
    "import matplotlib.pyplot as plt\n",
    "%matplotlib inline\n",
    "import seaborn as sns\n",
    "from sklearn import metrics \n",
    "import warnings\n",
    "warnings.filterwarnings('ignore')\n",
    "\n",
    "import plotly.express as px\n",
    "from IPython.display import display\n",
    "import plotly.graph_objects as go"
   ]
  },
  {
   "cell_type": "markdown",
   "id": "7db94f12",
   "metadata": {},
   "source": [
    "## 1. Loading Data:"
   ]
  },
  {
   "cell_type": "code",
   "execution_count": 2,
   "id": "ec491f22",
   "metadata": {},
   "outputs": [],
   "source": [
    "#Loading data into dataframe\n",
    "data = pd.read_csv(\"phishing.csv\")"
   ]
  },
  {
   "cell_type": "markdown",
   "id": "0413b490",
   "metadata": {},
   "source": [
    "## 2. Familiarizing with Data & EDA:\n",
    "In this step, few dataframe methods are used to look into the data and its features."
   ]
  },
  {
   "cell_type": "code",
   "execution_count": 3,
   "id": "9ccdddc5",
   "metadata": {},
   "outputs": [
    {
     "data": {
      "text/html": [
       "<div>\n",
       "<style scoped>\n",
       "    .dataframe tbody tr th:only-of-type {\n",
       "        vertical-align: middle;\n",
       "    }\n",
       "\n",
       "    .dataframe tbody tr th {\n",
       "        vertical-align: top;\n",
       "    }\n",
       "\n",
       "    .dataframe thead th {\n",
       "        text-align: right;\n",
       "    }\n",
       "</style>\n",
       "<table border=\"1\" class=\"dataframe\">\n",
       "  <thead>\n",
       "    <tr style=\"text-align: right;\">\n",
       "      <th></th>\n",
       "      <th>UsingIP</th>\n",
       "      <th>LongURL</th>\n",
       "      <th>ShortURL</th>\n",
       "      <th>Symbol@</th>\n",
       "      <th>Redirecting//</th>\n",
       "      <th>PrefixSuffix-</th>\n",
       "      <th>SubDomains</th>\n",
       "      <th>HTTPS</th>\n",
       "      <th>DomainRegLen</th>\n",
       "      <th>Favicon</th>\n",
       "      <th>...</th>\n",
       "      <th>UsingPopupWindow</th>\n",
       "      <th>IframeRedirection</th>\n",
       "      <th>AgeofDomain</th>\n",
       "      <th>DNSRecording</th>\n",
       "      <th>WebsiteTraffic</th>\n",
       "      <th>PageRank</th>\n",
       "      <th>GoogleIndex</th>\n",
       "      <th>LinksPointingToPage</th>\n",
       "      <th>StatsReport</th>\n",
       "      <th>class</th>\n",
       "    </tr>\n",
       "  </thead>\n",
       "  <tbody>\n",
       "    <tr>\n",
       "      <th>0</th>\n",
       "      <td>1</td>\n",
       "      <td>1</td>\n",
       "      <td>1</td>\n",
       "      <td>1</td>\n",
       "      <td>1</td>\n",
       "      <td>-1</td>\n",
       "      <td>0</td>\n",
       "      <td>1</td>\n",
       "      <td>-1</td>\n",
       "      <td>1</td>\n",
       "      <td>...</td>\n",
       "      <td>1</td>\n",
       "      <td>1</td>\n",
       "      <td>-1</td>\n",
       "      <td>-1</td>\n",
       "      <td>0</td>\n",
       "      <td>-1</td>\n",
       "      <td>1</td>\n",
       "      <td>1</td>\n",
       "      <td>1</td>\n",
       "      <td>-1</td>\n",
       "    </tr>\n",
       "    <tr>\n",
       "      <th>1</th>\n",
       "      <td>1</td>\n",
       "      <td>0</td>\n",
       "      <td>1</td>\n",
       "      <td>1</td>\n",
       "      <td>1</td>\n",
       "      <td>-1</td>\n",
       "      <td>-1</td>\n",
       "      <td>-1</td>\n",
       "      <td>-1</td>\n",
       "      <td>1</td>\n",
       "      <td>...</td>\n",
       "      <td>1</td>\n",
       "      <td>1</td>\n",
       "      <td>1</td>\n",
       "      <td>-1</td>\n",
       "      <td>1</td>\n",
       "      <td>-1</td>\n",
       "      <td>1</td>\n",
       "      <td>0</td>\n",
       "      <td>-1</td>\n",
       "      <td>-1</td>\n",
       "    </tr>\n",
       "    <tr>\n",
       "      <th>2</th>\n",
       "      <td>1</td>\n",
       "      <td>0</td>\n",
       "      <td>1</td>\n",
       "      <td>1</td>\n",
       "      <td>1</td>\n",
       "      <td>-1</td>\n",
       "      <td>-1</td>\n",
       "      <td>-1</td>\n",
       "      <td>1</td>\n",
       "      <td>1</td>\n",
       "      <td>...</td>\n",
       "      <td>1</td>\n",
       "      <td>1</td>\n",
       "      <td>-1</td>\n",
       "      <td>-1</td>\n",
       "      <td>1</td>\n",
       "      <td>-1</td>\n",
       "      <td>1</td>\n",
       "      <td>-1</td>\n",
       "      <td>1</td>\n",
       "      <td>-1</td>\n",
       "    </tr>\n",
       "    <tr>\n",
       "      <th>3</th>\n",
       "      <td>1</td>\n",
       "      <td>0</td>\n",
       "      <td>-1</td>\n",
       "      <td>1</td>\n",
       "      <td>1</td>\n",
       "      <td>-1</td>\n",
       "      <td>1</td>\n",
       "      <td>1</td>\n",
       "      <td>-1</td>\n",
       "      <td>1</td>\n",
       "      <td>...</td>\n",
       "      <td>-1</td>\n",
       "      <td>1</td>\n",
       "      <td>-1</td>\n",
       "      <td>-1</td>\n",
       "      <td>0</td>\n",
       "      <td>-1</td>\n",
       "      <td>1</td>\n",
       "      <td>1</td>\n",
       "      <td>1</td>\n",
       "      <td>1</td>\n",
       "    </tr>\n",
       "    <tr>\n",
       "      <th>4</th>\n",
       "      <td>-1</td>\n",
       "      <td>0</td>\n",
       "      <td>-1</td>\n",
       "      <td>1</td>\n",
       "      <td>-1</td>\n",
       "      <td>-1</td>\n",
       "      <td>1</td>\n",
       "      <td>1</td>\n",
       "      <td>-1</td>\n",
       "      <td>1</td>\n",
       "      <td>...</td>\n",
       "      <td>1</td>\n",
       "      <td>1</td>\n",
       "      <td>1</td>\n",
       "      <td>1</td>\n",
       "      <td>1</td>\n",
       "      <td>-1</td>\n",
       "      <td>1</td>\n",
       "      <td>-1</td>\n",
       "      <td>-1</td>\n",
       "      <td>1</td>\n",
       "    </tr>\n",
       "  </tbody>\n",
       "</table>\n",
       "<p>5 rows × 31 columns</p>\n",
       "</div>"
      ],
      "text/plain": [
       "   UsingIP  LongURL  ShortURL  Symbol@  Redirecting//  PrefixSuffix-  \\\n",
       "0        1        1         1        1              1             -1   \n",
       "1        1        0         1        1              1             -1   \n",
       "2        1        0         1        1              1             -1   \n",
       "3        1        0        -1        1              1             -1   \n",
       "4       -1        0        -1        1             -1             -1   \n",
       "\n",
       "   SubDomains  HTTPS  DomainRegLen  Favicon  ...  UsingPopupWindow  \\\n",
       "0           0      1            -1        1  ...                 1   \n",
       "1          -1     -1            -1        1  ...                 1   \n",
       "2          -1     -1             1        1  ...                 1   \n",
       "3           1      1            -1        1  ...                -1   \n",
       "4           1      1            -1        1  ...                 1   \n",
       "\n",
       "   IframeRedirection  AgeofDomain  DNSRecording  WebsiteTraffic  PageRank  \\\n",
       "0                  1           -1            -1               0        -1   \n",
       "1                  1            1            -1               1        -1   \n",
       "2                  1           -1            -1               1        -1   \n",
       "3                  1           -1            -1               0        -1   \n",
       "4                  1            1             1               1        -1   \n",
       "\n",
       "   GoogleIndex  LinksPointingToPage  StatsReport  class  \n",
       "0            1                    1            1     -1  \n",
       "1            1                    0           -1     -1  \n",
       "2            1                   -1            1     -1  \n",
       "3            1                    1            1      1  \n",
       "4            1                   -1           -1      1  \n",
       "\n",
       "[5 rows x 31 columns]"
      ]
     },
     "metadata": {},
     "output_type": "display_data"
    },
    {
     "data": {
      "text/plain": [
       "(11054, 31)"
      ]
     },
     "metadata": {},
     "output_type": "display_data"
    },
    {
     "data": {
      "text/plain": [
       "Index(['UsingIP', 'LongURL', 'ShortURL', 'Symbol@', 'Redirecting//',\n",
       "       'PrefixSuffix-', 'SubDomains', 'HTTPS', 'DomainRegLen', 'Favicon',\n",
       "       'NonStdPort', 'HTTPSDomainURL', 'RequestURL', 'AnchorURL',\n",
       "       'LinksInScriptTags', 'ServerFormHandler', 'InfoEmail', 'AbnormalURL',\n",
       "       'WebsiteForwarding', 'StatusBarCust', 'DisableRightClick',\n",
       "       'UsingPopupWindow', 'IframeRedirection', 'AgeofDomain', 'DNSRecording',\n",
       "       'WebsiteTraffic', 'PageRank', 'GoogleIndex', 'LinksPointingToPage',\n",
       "       'StatsReport', 'class'],\n",
       "      dtype='object')"
      ]
     },
     "metadata": {},
     "output_type": "display_data"
    },
    {
     "data": {
      "application/vnd.plotly.v1+json": {
       "config": {
        "plotlyServerURL": "https://plot.ly"
       },
       "data": [
        {
         "customdata": [
          [
           6157
          ],
          [
           4897
          ]
         ],
         "domain": {
          "x": [
           0,
           1
          ],
          "y": [
           0,
           1
          ]
         },
         "hole": 0.4,
         "hovertemplate": "class=%{label}<br>count=%{customdata[0]}<extra></extra>",
         "labels": [
          1,
          -1
         ],
         "legendgroup": "",
         "name": "",
         "showlegend": true,
         "type": "pie",
         "values": [
          6157,
          4897
         ]
        }
       ],
       "layout": {
        "legend": {
         "tracegroupgap": 0
        },
        "template": {
         "data": {
          "bar": [
           {
            "error_x": {
             "color": "#2a3f5f"
            },
            "error_y": {
             "color": "#2a3f5f"
            },
            "marker": {
             "line": {
              "color": "#E5ECF6",
              "width": 0.5
             },
             "pattern": {
              "fillmode": "overlay",
              "size": 10,
              "solidity": 0.2
             }
            },
            "type": "bar"
           }
          ],
          "barpolar": [
           {
            "marker": {
             "line": {
              "color": "#E5ECF6",
              "width": 0.5
             },
             "pattern": {
              "fillmode": "overlay",
              "size": 10,
              "solidity": 0.2
             }
            },
            "type": "barpolar"
           }
          ],
          "carpet": [
           {
            "aaxis": {
             "endlinecolor": "#2a3f5f",
             "gridcolor": "white",
             "linecolor": "white",
             "minorgridcolor": "white",
             "startlinecolor": "#2a3f5f"
            },
            "baxis": {
             "endlinecolor": "#2a3f5f",
             "gridcolor": "white",
             "linecolor": "white",
             "minorgridcolor": "white",
             "startlinecolor": "#2a3f5f"
            },
            "type": "carpet"
           }
          ],
          "choropleth": [
           {
            "colorbar": {
             "outlinewidth": 0,
             "ticks": ""
            },
            "type": "choropleth"
           }
          ],
          "contour": [
           {
            "colorbar": {
             "outlinewidth": 0,
             "ticks": ""
            },
            "colorscale": [
             [
              0,
              "#0d0887"
             ],
             [
              0.1111111111111111,
              "#46039f"
             ],
             [
              0.2222222222222222,
              "#7201a8"
             ],
             [
              0.3333333333333333,
              "#9c179e"
             ],
             [
              0.4444444444444444,
              "#bd3786"
             ],
             [
              0.5555555555555556,
              "#d8576b"
             ],
             [
              0.6666666666666666,
              "#ed7953"
             ],
             [
              0.7777777777777778,
              "#fb9f3a"
             ],
             [
              0.8888888888888888,
              "#fdca26"
             ],
             [
              1,
              "#f0f921"
             ]
            ],
            "type": "contour"
           }
          ],
          "contourcarpet": [
           {
            "colorbar": {
             "outlinewidth": 0,
             "ticks": ""
            },
            "type": "contourcarpet"
           }
          ],
          "heatmap": [
           {
            "colorbar": {
             "outlinewidth": 0,
             "ticks": ""
            },
            "colorscale": [
             [
              0,
              "#0d0887"
             ],
             [
              0.1111111111111111,
              "#46039f"
             ],
             [
              0.2222222222222222,
              "#7201a8"
             ],
             [
              0.3333333333333333,
              "#9c179e"
             ],
             [
              0.4444444444444444,
              "#bd3786"
             ],
             [
              0.5555555555555556,
              "#d8576b"
             ],
             [
              0.6666666666666666,
              "#ed7953"
             ],
             [
              0.7777777777777778,
              "#fb9f3a"
             ],
             [
              0.8888888888888888,
              "#fdca26"
             ],
             [
              1,
              "#f0f921"
             ]
            ],
            "type": "heatmap"
           }
          ],
          "heatmapgl": [
           {
            "colorbar": {
             "outlinewidth": 0,
             "ticks": ""
            },
            "colorscale": [
             [
              0,
              "#0d0887"
             ],
             [
              0.1111111111111111,
              "#46039f"
             ],
             [
              0.2222222222222222,
              "#7201a8"
             ],
             [
              0.3333333333333333,
              "#9c179e"
             ],
             [
              0.4444444444444444,
              "#bd3786"
             ],
             [
              0.5555555555555556,
              "#d8576b"
             ],
             [
              0.6666666666666666,
              "#ed7953"
             ],
             [
              0.7777777777777778,
              "#fb9f3a"
             ],
             [
              0.8888888888888888,
              "#fdca26"
             ],
             [
              1,
              "#f0f921"
             ]
            ],
            "type": "heatmapgl"
           }
          ],
          "histogram": [
           {
            "marker": {
             "pattern": {
              "fillmode": "overlay",
              "size": 10,
              "solidity": 0.2
             }
            },
            "type": "histogram"
           }
          ],
          "histogram2d": [
           {
            "colorbar": {
             "outlinewidth": 0,
             "ticks": ""
            },
            "colorscale": [
             [
              0,
              "#0d0887"
             ],
             [
              0.1111111111111111,
              "#46039f"
             ],
             [
              0.2222222222222222,
              "#7201a8"
             ],
             [
              0.3333333333333333,
              "#9c179e"
             ],
             [
              0.4444444444444444,
              "#bd3786"
             ],
             [
              0.5555555555555556,
              "#d8576b"
             ],
             [
              0.6666666666666666,
              "#ed7953"
             ],
             [
              0.7777777777777778,
              "#fb9f3a"
             ],
             [
              0.8888888888888888,
              "#fdca26"
             ],
             [
              1,
              "#f0f921"
             ]
            ],
            "type": "histogram2d"
           }
          ],
          "histogram2dcontour": [
           {
            "colorbar": {
             "outlinewidth": 0,
             "ticks": ""
            },
            "colorscale": [
             [
              0,
              "#0d0887"
             ],
             [
              0.1111111111111111,
              "#46039f"
             ],
             [
              0.2222222222222222,
              "#7201a8"
             ],
             [
              0.3333333333333333,
              "#9c179e"
             ],
             [
              0.4444444444444444,
              "#bd3786"
             ],
             [
              0.5555555555555556,
              "#d8576b"
             ],
             [
              0.6666666666666666,
              "#ed7953"
             ],
             [
              0.7777777777777778,
              "#fb9f3a"
             ],
             [
              0.8888888888888888,
              "#fdca26"
             ],
             [
              1,
              "#f0f921"
             ]
            ],
            "type": "histogram2dcontour"
           }
          ],
          "mesh3d": [
           {
            "colorbar": {
             "outlinewidth": 0,
             "ticks": ""
            },
            "type": "mesh3d"
           }
          ],
          "parcoords": [
           {
            "line": {
             "colorbar": {
              "outlinewidth": 0,
              "ticks": ""
             }
            },
            "type": "parcoords"
           }
          ],
          "pie": [
           {
            "automargin": true,
            "type": "pie"
           }
          ],
          "scatter": [
           {
            "fillpattern": {
             "fillmode": "overlay",
             "size": 10,
             "solidity": 0.2
            },
            "type": "scatter"
           }
          ],
          "scatter3d": [
           {
            "line": {
             "colorbar": {
              "outlinewidth": 0,
              "ticks": ""
             }
            },
            "marker": {
             "colorbar": {
              "outlinewidth": 0,
              "ticks": ""
             }
            },
            "type": "scatter3d"
           }
          ],
          "scattercarpet": [
           {
            "marker": {
             "colorbar": {
              "outlinewidth": 0,
              "ticks": ""
             }
            },
            "type": "scattercarpet"
           }
          ],
          "scattergeo": [
           {
            "marker": {
             "colorbar": {
              "outlinewidth": 0,
              "ticks": ""
             }
            },
            "type": "scattergeo"
           }
          ],
          "scattergl": [
           {
            "marker": {
             "colorbar": {
              "outlinewidth": 0,
              "ticks": ""
             }
            },
            "type": "scattergl"
           }
          ],
          "scattermapbox": [
           {
            "marker": {
             "colorbar": {
              "outlinewidth": 0,
              "ticks": ""
             }
            },
            "type": "scattermapbox"
           }
          ],
          "scatterpolar": [
           {
            "marker": {
             "colorbar": {
              "outlinewidth": 0,
              "ticks": ""
             }
            },
            "type": "scatterpolar"
           }
          ],
          "scatterpolargl": [
           {
            "marker": {
             "colorbar": {
              "outlinewidth": 0,
              "ticks": ""
             }
            },
            "type": "scatterpolargl"
           }
          ],
          "scatterternary": [
           {
            "marker": {
             "colorbar": {
              "outlinewidth": 0,
              "ticks": ""
             }
            },
            "type": "scatterternary"
           }
          ],
          "surface": [
           {
            "colorbar": {
             "outlinewidth": 0,
             "ticks": ""
            },
            "colorscale": [
             [
              0,
              "#0d0887"
             ],
             [
              0.1111111111111111,
              "#46039f"
             ],
             [
              0.2222222222222222,
              "#7201a8"
             ],
             [
              0.3333333333333333,
              "#9c179e"
             ],
             [
              0.4444444444444444,
              "#bd3786"
             ],
             [
              0.5555555555555556,
              "#d8576b"
             ],
             [
              0.6666666666666666,
              "#ed7953"
             ],
             [
              0.7777777777777778,
              "#fb9f3a"
             ],
             [
              0.8888888888888888,
              "#fdca26"
             ],
             [
              1,
              "#f0f921"
             ]
            ],
            "type": "surface"
           }
          ],
          "table": [
           {
            "cells": {
             "fill": {
              "color": "#EBF0F8"
             },
             "line": {
              "color": "white"
             }
            },
            "header": {
             "fill": {
              "color": "#C8D4E3"
             },
             "line": {
              "color": "white"
             }
            },
            "type": "table"
           }
          ]
         },
         "layout": {
          "annotationdefaults": {
           "arrowcolor": "#2a3f5f",
           "arrowhead": 0,
           "arrowwidth": 1
          },
          "autotypenumbers": "strict",
          "coloraxis": {
           "colorbar": {
            "outlinewidth": 0,
            "ticks": ""
           }
          },
          "colorscale": {
           "diverging": [
            [
             0,
             "#8e0152"
            ],
            [
             0.1,
             "#c51b7d"
            ],
            [
             0.2,
             "#de77ae"
            ],
            [
             0.3,
             "#f1b6da"
            ],
            [
             0.4,
             "#fde0ef"
            ],
            [
             0.5,
             "#f7f7f7"
            ],
            [
             0.6,
             "#e6f5d0"
            ],
            [
             0.7,
             "#b8e186"
            ],
            [
             0.8,
             "#7fbc41"
            ],
            [
             0.9,
             "#4d9221"
            ],
            [
             1,
             "#276419"
            ]
           ],
           "sequential": [
            [
             0,
             "#0d0887"
            ],
            [
             0.1111111111111111,
             "#46039f"
            ],
            [
             0.2222222222222222,
             "#7201a8"
            ],
            [
             0.3333333333333333,
             "#9c179e"
            ],
            [
             0.4444444444444444,
             "#bd3786"
            ],
            [
             0.5555555555555556,
             "#d8576b"
            ],
            [
             0.6666666666666666,
             "#ed7953"
            ],
            [
             0.7777777777777778,
             "#fb9f3a"
            ],
            [
             0.8888888888888888,
             "#fdca26"
            ],
            [
             1,
             "#f0f921"
            ]
           ],
           "sequentialminus": [
            [
             0,
             "#0d0887"
            ],
            [
             0.1111111111111111,
             "#46039f"
            ],
            [
             0.2222222222222222,
             "#7201a8"
            ],
            [
             0.3333333333333333,
             "#9c179e"
            ],
            [
             0.4444444444444444,
             "#bd3786"
            ],
            [
             0.5555555555555556,
             "#d8576b"
            ],
            [
             0.6666666666666666,
             "#ed7953"
            ],
            [
             0.7777777777777778,
             "#fb9f3a"
            ],
            [
             0.8888888888888888,
             "#fdca26"
            ],
            [
             1,
             "#f0f921"
            ]
           ]
          },
          "colorway": [
           "#636efa",
           "#EF553B",
           "#00cc96",
           "#ab63fa",
           "#FFA15A",
           "#19d3f3",
           "#FF6692",
           "#B6E880",
           "#FF97FF",
           "#FECB52"
          ],
          "font": {
           "color": "#2a3f5f"
          },
          "geo": {
           "bgcolor": "white",
           "lakecolor": "white",
           "landcolor": "#E5ECF6",
           "showlakes": true,
           "showland": true,
           "subunitcolor": "white"
          },
          "hoverlabel": {
           "align": "left"
          },
          "hovermode": "closest",
          "mapbox": {
           "style": "light"
          },
          "paper_bgcolor": "white",
          "plot_bgcolor": "#E5ECF6",
          "polar": {
           "angularaxis": {
            "gridcolor": "white",
            "linecolor": "white",
            "ticks": ""
           },
           "bgcolor": "#E5ECF6",
           "radialaxis": {
            "gridcolor": "white",
            "linecolor": "white",
            "ticks": ""
           }
          },
          "scene": {
           "xaxis": {
            "backgroundcolor": "#E5ECF6",
            "gridcolor": "white",
            "gridwidth": 2,
            "linecolor": "white",
            "showbackground": true,
            "ticks": "",
            "zerolinecolor": "white"
           },
           "yaxis": {
            "backgroundcolor": "#E5ECF6",
            "gridcolor": "white",
            "gridwidth": 2,
            "linecolor": "white",
            "showbackground": true,
            "ticks": "",
            "zerolinecolor": "white"
           },
           "zaxis": {
            "backgroundcolor": "#E5ECF6",
            "gridcolor": "white",
            "gridwidth": 2,
            "linecolor": "white",
            "showbackground": true,
            "ticks": "",
            "zerolinecolor": "white"
           }
          },
          "shapedefaults": {
           "line": {
            "color": "#2a3f5f"
           }
          },
          "ternary": {
           "aaxis": {
            "gridcolor": "white",
            "linecolor": "white",
            "ticks": ""
           },
           "baxis": {
            "gridcolor": "white",
            "linecolor": "white",
            "ticks": ""
           },
           "bgcolor": "#E5ECF6",
           "caxis": {
            "gridcolor": "white",
            "linecolor": "white",
            "ticks": ""
           }
          },
          "title": {
           "x": 0.05
          },
          "xaxis": {
           "automargin": true,
           "gridcolor": "white",
           "linecolor": "white",
           "ticks": "",
           "title": {
            "standoff": 15
           },
           "zerolinecolor": "white",
           "zerolinewidth": 2
          },
          "yaxis": {
           "automargin": true,
           "gridcolor": "white",
           "linecolor": "white",
           "ticks": "",
           "title": {
            "standoff": 15
           },
           "zerolinecolor": "white",
           "zerolinewidth": 2
          }
         }
        },
        "title": {
         "text": "Phishing Count"
        }
       }
      }
     },
     "metadata": {},
     "output_type": "display_data"
    }
   ],
   "source": [
    "display(data.head())\n",
    "\n",
    "#Shape of dataframe\n",
    "\n",
    "display(data.shape)\n",
    "#Listing the features of the dataset\n",
    "\n",
    "display(data.columns)\n",
    "\n",
    "\n",
    "#Information about the dataset\n",
    "\n",
    "# data.info()\n",
    "\n",
    "# nunique value in columns\n",
    "\n",
    "# data.nunique()\n",
    "\n",
    "#description of dataset\n",
    "\n",
    "# data.describe().T\n",
    "\n",
    "\n",
    "\n",
    "# Calculate the value counts of 'class'\n",
    "class_counts = data['class'].value_counts()\n",
    "\n",
    "# Create a DataFrame with class counts and labels\n",
    "class_counts_df = pd.DataFrame({'class': class_counts.index, 'count': class_counts.values})\n",
    "\n",
    "# Create a pie chart using Plotly Express\n",
    "fig = px.pie(class_counts_df, names='class', values='count', labels='class',\n",
    "             title=\"Phishing Count\", hole=0.4, hover_data=['count'])\n",
    "\n",
    "# Show the interactive pie chart\n",
    "fig.show()"
   ]
  },
  {
   "cell_type": "markdown",
   "id": "48657bd4",
   "metadata": {},
   "source": [
    "data_set.append(9 OBSERVATIONS:\n",
    "1. There are 11054 instances and 31 fearures in dataset.\n",
    "2. Out of which 30 are independent features where as 1 is dependent feature.\n",
    "3. Each feature is in int datatype, so there is no need to use LabelEncoder.\n",
    "4. There is no outlier present in dataset.\n",
    "5. There is no missing value in dataset."
   ]
  },
  {
   "cell_type": "markdown",
   "id": "3eee8c08",
   "metadata": {},
   "source": [
    "## 4. Splitting the Data:\n",
    "The data is split into train & test sets, 80-20 split."
   ]
  },
  {
   "cell_type": "code",
   "execution_count": 4,
   "id": "f3d90a24",
   "metadata": {},
   "outputs": [],
   "source": [
    "# Splitting the dataset into dependant and independant fetature\n",
    "\n",
    "X = data.drop([\"class\"],axis =1)\n",
    "y = data[\"class\"]"
   ]
  },
  {
   "cell_type": "code",
   "execution_count": 5,
   "id": "9de941d7",
   "metadata": {},
   "outputs": [
    {
     "data": {
      "text/plain": [
       "(8843, 30)"
      ]
     },
     "metadata": {},
     "output_type": "display_data"
    },
    {
     "data": {
      "text/plain": [
       "(8843,)"
      ]
     },
     "metadata": {},
     "output_type": "display_data"
    },
    {
     "data": {
      "text/plain": [
       "(2211, 30)"
      ]
     },
     "metadata": {},
     "output_type": "display_data"
    },
    {
     "data": {
      "text/plain": [
       "(2211,)"
      ]
     },
     "metadata": {},
     "output_type": "display_data"
    }
   ],
   "source": [
    "# Splitting the dataset into train and test sets: 80-20 split\n",
    "\n",
    "from sklearn.model_selection import train_test_split\n",
    "\n",
    "X_train, X_test, y_train, y_test = train_test_split(X, y, test_size = 0.2, random_state = 42)\n",
    "display(X_train.shape, y_train.shape, X_test.shape, y_test.shape)\n"
   ]
  },
  {
   "cell_type": "markdown",
   "id": "1f1ae9dc",
   "metadata": {},
   "source": [
    "## 5. Model Building & Training:\n",
    "1. Logistic Regression\n",
    "2. k-Nearest Neighbors \n",
    "3. Support Vector Clasifier\n",
    "4. Naive Bayes\n",
    "5. Decision Tree\n",
    "6. Random Forest\n",
    "7. Gradient Boosting\n",
    "8. Catboost\n",
    "9. Xgboost\n",
    "10. Multilayer Perceptrons          \n",
    "  The metrics considered to evaluate the model performance are Accuracy & F1 score."
   ]
  },
  {
   "cell_type": "code",
   "execution_count": 6,
   "id": "55ac1416",
   "metadata": {},
   "outputs": [],
   "source": [
    "# Creating holders to store the model performance results\n",
    "ML_Model = []\n",
    "accuracy = []\n",
    "f1_score = []\n",
    "recall = []\n",
    "precision = []\n",
    "\n",
    "#function to call for storing the results\n",
    "def storeResults(model, a,b,c,d):\n",
    "  ML_Model.append(model)\n",
    "  accuracy.append(round(a, 3))\n",
    "  f1_score.append(round(b, 3))\n",
    "  recall.append(round(c, 3))\n",
    "  precision.append(round(d, 3))"
   ]
  },
  {
   "cell_type": "markdown",
   "id": "a8724a53",
   "metadata": {},
   "source": [
    "## 5.1. Logistic Regression"
   ]
  },
  {
   "cell_type": "code",
   "execution_count": 7,
   "id": "1aa0632f",
   "metadata": {},
   "outputs": [
    {
     "data": {
      "text/html": [
       "<style>#sk-container-id-1 {color: black;background-color: white;}#sk-container-id-1 pre{padding: 0;}#sk-container-id-1 div.sk-toggleable {background-color: white;}#sk-container-id-1 label.sk-toggleable__label {cursor: pointer;display: block;width: 100%;margin-bottom: 0;padding: 0.3em;box-sizing: border-box;text-align: center;}#sk-container-id-1 label.sk-toggleable__label-arrow:before {content: \"▸\";float: left;margin-right: 0.25em;color: #696969;}#sk-container-id-1 label.sk-toggleable__label-arrow:hover:before {color: black;}#sk-container-id-1 div.sk-estimator:hover label.sk-toggleable__label-arrow:before {color: black;}#sk-container-id-1 div.sk-toggleable__content {max-height: 0;max-width: 0;overflow: hidden;text-align: left;background-color: #f0f8ff;}#sk-container-id-1 div.sk-toggleable__content pre {margin: 0.2em;color: black;border-radius: 0.25em;background-color: #f0f8ff;}#sk-container-id-1 input.sk-toggleable__control:checked~div.sk-toggleable__content {max-height: 200px;max-width: 100%;overflow: auto;}#sk-container-id-1 input.sk-toggleable__control:checked~label.sk-toggleable__label-arrow:before {content: \"▾\";}#sk-container-id-1 div.sk-estimator input.sk-toggleable__control:checked~label.sk-toggleable__label {background-color: #d4ebff;}#sk-container-id-1 div.sk-label input.sk-toggleable__control:checked~label.sk-toggleable__label {background-color: #d4ebff;}#sk-container-id-1 input.sk-hidden--visually {border: 0;clip: rect(1px 1px 1px 1px);clip: rect(1px, 1px, 1px, 1px);height: 1px;margin: -1px;overflow: hidden;padding: 0;position: absolute;width: 1px;}#sk-container-id-1 div.sk-estimator {font-family: monospace;background-color: #f0f8ff;border: 1px dotted black;border-radius: 0.25em;box-sizing: border-box;margin-bottom: 0.5em;}#sk-container-id-1 div.sk-estimator:hover {background-color: #d4ebff;}#sk-container-id-1 div.sk-parallel-item::after {content: \"\";width: 100%;border-bottom: 1px solid gray;flex-grow: 1;}#sk-container-id-1 div.sk-label:hover label.sk-toggleable__label {background-color: #d4ebff;}#sk-container-id-1 div.sk-serial::before {content: \"\";position: absolute;border-left: 1px solid gray;box-sizing: border-box;top: 0;bottom: 0;left: 50%;z-index: 0;}#sk-container-id-1 div.sk-serial {display: flex;flex-direction: column;align-items: center;background-color: white;padding-right: 0.2em;padding-left: 0.2em;position: relative;}#sk-container-id-1 div.sk-item {position: relative;z-index: 1;}#sk-container-id-1 div.sk-parallel {display: flex;align-items: stretch;justify-content: center;background-color: white;position: relative;}#sk-container-id-1 div.sk-item::before, #sk-container-id-1 div.sk-parallel-item::before {content: \"\";position: absolute;border-left: 1px solid gray;box-sizing: border-box;top: 0;bottom: 0;left: 50%;z-index: -1;}#sk-container-id-1 div.sk-parallel-item {display: flex;flex-direction: column;z-index: 1;position: relative;background-color: white;}#sk-container-id-1 div.sk-parallel-item:first-child::after {align-self: flex-end;width: 50%;}#sk-container-id-1 div.sk-parallel-item:last-child::after {align-self: flex-start;width: 50%;}#sk-container-id-1 div.sk-parallel-item:only-child::after {width: 0;}#sk-container-id-1 div.sk-dashed-wrapped {border: 1px dashed gray;margin: 0 0.4em 0.5em 0.4em;box-sizing: border-box;padding-bottom: 0.4em;background-color: white;}#sk-container-id-1 div.sk-label label {font-family: monospace;font-weight: bold;display: inline-block;line-height: 1.2em;}#sk-container-id-1 div.sk-label-container {text-align: center;}#sk-container-id-1 div.sk-container {/* jupyter's `normalize.less` sets `[hidden] { display: none; }` but bootstrap.min.css set `[hidden] { display: none !important; }` so we also need the `!important` here to be able to override the default hidden behavior on the sphinx rendered scikit-learn.org. See: https://github.com/scikit-learn/scikit-learn/issues/21755 */display: inline-block !important;position: relative;}#sk-container-id-1 div.sk-text-repr-fallback {display: none;}</style><div id=\"sk-container-id-1\" class=\"sk-top-container\"><div class=\"sk-text-repr-fallback\"><pre>LogisticRegression()</pre><b>In a Jupyter environment, please rerun this cell to show the HTML representation or trust the notebook. <br />On GitHub, the HTML representation is unable to render, please try loading this page with nbviewer.org.</b></div><div class=\"sk-container\" hidden><div class=\"sk-item\"><div class=\"sk-estimator sk-toggleable\"><input class=\"sk-toggleable__control sk-hidden--visually\" id=\"sk-estimator-id-1\" type=\"checkbox\" checked><label for=\"sk-estimator-id-1\" class=\"sk-toggleable__label sk-toggleable__label-arrow\">LogisticRegression</label><div class=\"sk-toggleable__content\"><pre>LogisticRegression()</pre></div></div></div></div></div>"
      ],
      "text/plain": [
       "LogisticRegression()"
      ]
     },
     "execution_count": 7,
     "metadata": {},
     "output_type": "execute_result"
    }
   ],
   "source": [
    "# Linear regression model \n",
    "from sklearn.linear_model import LogisticRegression\n",
    "#from sklearn.pipeline import Pipeline\n",
    "\n",
    "# instantiate the model\n",
    "log = LogisticRegression()\n",
    "\n",
    "# fit the model \n",
    "log.fit(X_train,y_train)"
   ]
  },
  {
   "cell_type": "code",
   "execution_count": 8,
   "id": "66af98cc",
   "metadata": {},
   "outputs": [],
   "source": [
    "#predicting the target value from the model for the samples\n",
    "\n",
    "y_train_log = log.predict(X_train)\n",
    "y_test_log = log.predict(X_test)"
   ]
  },
  {
   "cell_type": "code",
   "execution_count": 9,
   "id": "bd4f1e81",
   "metadata": {},
   "outputs": [
    {
     "name": "stdout",
     "output_type": "stream",
     "text": [
      "Logistic Regression : Accuracy on training Data: 0.927\n",
      "Logistic Regression : Accuracy on test Data: 0.934\n",
      "\n",
      "Logistic Regression : f1_score on training Data: 0.935\n",
      "Logistic Regression : f1_score on test Data: 0.941\n",
      "\n",
      "Logistic Regression : Recall on training Data: 0.943\n",
      "Logistic Regression : Recall on test Data: 0.953\n",
      "\n",
      "Logistic Regression : precision on training Data: 0.927\n",
      "Logistic Regression : precision on test Data: 0.930\n"
     ]
    }
   ],
   "source": [
    "#computing the accuracy, f1_score, Recall, precision of the model performance\n",
    "\n",
    "acc_train_log = metrics.accuracy_score(y_train,y_train_log)\n",
    "acc_test_log = metrics.accuracy_score(y_test,y_test_log)\n",
    "print(\"Logistic Regression : Accuracy on training Data: {:.3f}\".format(acc_train_log))\n",
    "print(\"Logistic Regression : Accuracy on test Data: {:.3f}\".format(acc_test_log))\n",
    "print()\n",
    "\n",
    "f1_score_train_log = metrics.f1_score(y_train,y_train_log)\n",
    "f1_score_test_log = metrics.f1_score(y_test,y_test_log)\n",
    "print(\"Logistic Regression : f1_score on training Data: {:.3f}\".format(f1_score_train_log))\n",
    "print(\"Logistic Regression : f1_score on test Data: {:.3f}\".format(f1_score_test_log))\n",
    "print()\n",
    "\n",
    "recall_score_train_log = metrics.recall_score(y_train,y_train_log)\n",
    "recall_score_test_log = metrics.recall_score(y_test,y_test_log)\n",
    "print(\"Logistic Regression : Recall on training Data: {:.3f}\".format(recall_score_train_log))\n",
    "print(\"Logistic Regression : Recall on test Data: {:.3f}\".format(recall_score_test_log))\n",
    "print()\n",
    "\n",
    "precision_score_train_log = metrics.precision_score(y_train,y_train_log)\n",
    "precision_score_test_log = metrics.precision_score(y_test,y_test_log)\n",
    "print(\"Logistic Regression : precision on training Data: {:.3f}\".format(precision_score_train_log))\n",
    "print(\"Logistic Regression : precision on test Data: {:.3f}\".format(precision_score_test_log))"
   ]
  },
  {
   "cell_type": "code",
   "execution_count": 10,
   "id": "314ae927",
   "metadata": {},
   "outputs": [
    {
     "name": "stdout",
     "output_type": "stream",
     "text": [
      "              precision    recall  f1-score   support\n",
      "\n",
      "          -1       0.94      0.91      0.92       976\n",
      "           1       0.93      0.95      0.94      1235\n",
      "\n",
      "    accuracy                           0.93      2211\n",
      "   macro avg       0.93      0.93      0.93      2211\n",
      "weighted avg       0.93      0.93      0.93      2211\n",
      "\n"
     ]
    }
   ],
   "source": [
    "#computing the classification report of the model\n",
    "\n",
    "print(metrics.classification_report(y_test, y_test_log))"
   ]
  },
  {
   "cell_type": "code",
   "execution_count": 11,
   "id": "e557df04",
   "metadata": {},
   "outputs": [],
   "source": [
    "#storing the results. The below mentioned order of parameter passing is important.\n",
    "\n",
    "storeResults('Logistic Regression',acc_test_log,f1_score_test_log,\n",
    "             recall_score_train_log,precision_score_train_log)"
   ]
  },
  {
   "cell_type": "markdown",
   "id": "94a3a5bf",
   "metadata": {},
   "source": [
    "## 5.2. K-Nearest Neighbors : Classifier"
   ]
  },
  {
   "cell_type": "code",
   "execution_count": 12,
   "id": "fcdb78be",
   "metadata": {},
   "outputs": [
    {
     "data": {
      "text/html": [
       "<style>#sk-container-id-2 {color: black;background-color: white;}#sk-container-id-2 pre{padding: 0;}#sk-container-id-2 div.sk-toggleable {background-color: white;}#sk-container-id-2 label.sk-toggleable__label {cursor: pointer;display: block;width: 100%;margin-bottom: 0;padding: 0.3em;box-sizing: border-box;text-align: center;}#sk-container-id-2 label.sk-toggleable__label-arrow:before {content: \"▸\";float: left;margin-right: 0.25em;color: #696969;}#sk-container-id-2 label.sk-toggleable__label-arrow:hover:before {color: black;}#sk-container-id-2 div.sk-estimator:hover label.sk-toggleable__label-arrow:before {color: black;}#sk-container-id-2 div.sk-toggleable__content {max-height: 0;max-width: 0;overflow: hidden;text-align: left;background-color: #f0f8ff;}#sk-container-id-2 div.sk-toggleable__content pre {margin: 0.2em;color: black;border-radius: 0.25em;background-color: #f0f8ff;}#sk-container-id-2 input.sk-toggleable__control:checked~div.sk-toggleable__content {max-height: 200px;max-width: 100%;overflow: auto;}#sk-container-id-2 input.sk-toggleable__control:checked~label.sk-toggleable__label-arrow:before {content: \"▾\";}#sk-container-id-2 div.sk-estimator input.sk-toggleable__control:checked~label.sk-toggleable__label {background-color: #d4ebff;}#sk-container-id-2 div.sk-label input.sk-toggleable__control:checked~label.sk-toggleable__label {background-color: #d4ebff;}#sk-container-id-2 input.sk-hidden--visually {border: 0;clip: rect(1px 1px 1px 1px);clip: rect(1px, 1px, 1px, 1px);height: 1px;margin: -1px;overflow: hidden;padding: 0;position: absolute;width: 1px;}#sk-container-id-2 div.sk-estimator {font-family: monospace;background-color: #f0f8ff;border: 1px dotted black;border-radius: 0.25em;box-sizing: border-box;margin-bottom: 0.5em;}#sk-container-id-2 div.sk-estimator:hover {background-color: #d4ebff;}#sk-container-id-2 div.sk-parallel-item::after {content: \"\";width: 100%;border-bottom: 1px solid gray;flex-grow: 1;}#sk-container-id-2 div.sk-label:hover label.sk-toggleable__label {background-color: #d4ebff;}#sk-container-id-2 div.sk-serial::before {content: \"\";position: absolute;border-left: 1px solid gray;box-sizing: border-box;top: 0;bottom: 0;left: 50%;z-index: 0;}#sk-container-id-2 div.sk-serial {display: flex;flex-direction: column;align-items: center;background-color: white;padding-right: 0.2em;padding-left: 0.2em;position: relative;}#sk-container-id-2 div.sk-item {position: relative;z-index: 1;}#sk-container-id-2 div.sk-parallel {display: flex;align-items: stretch;justify-content: center;background-color: white;position: relative;}#sk-container-id-2 div.sk-item::before, #sk-container-id-2 div.sk-parallel-item::before {content: \"\";position: absolute;border-left: 1px solid gray;box-sizing: border-box;top: 0;bottom: 0;left: 50%;z-index: -1;}#sk-container-id-2 div.sk-parallel-item {display: flex;flex-direction: column;z-index: 1;position: relative;background-color: white;}#sk-container-id-2 div.sk-parallel-item:first-child::after {align-self: flex-end;width: 50%;}#sk-container-id-2 div.sk-parallel-item:last-child::after {align-self: flex-start;width: 50%;}#sk-container-id-2 div.sk-parallel-item:only-child::after {width: 0;}#sk-container-id-2 div.sk-dashed-wrapped {border: 1px dashed gray;margin: 0 0.4em 0.5em 0.4em;box-sizing: border-box;padding-bottom: 0.4em;background-color: white;}#sk-container-id-2 div.sk-label label {font-family: monospace;font-weight: bold;display: inline-block;line-height: 1.2em;}#sk-container-id-2 div.sk-label-container {text-align: center;}#sk-container-id-2 div.sk-container {/* jupyter's `normalize.less` sets `[hidden] { display: none; }` but bootstrap.min.css set `[hidden] { display: none !important; }` so we also need the `!important` here to be able to override the default hidden behavior on the sphinx rendered scikit-learn.org. See: https://github.com/scikit-learn/scikit-learn/issues/21755 */display: inline-block !important;position: relative;}#sk-container-id-2 div.sk-text-repr-fallback {display: none;}</style><div id=\"sk-container-id-2\" class=\"sk-top-container\"><div class=\"sk-text-repr-fallback\"><pre>KNeighborsClassifier(n_neighbors=1)</pre><b>In a Jupyter environment, please rerun this cell to show the HTML representation or trust the notebook. <br />On GitHub, the HTML representation is unable to render, please try loading this page with nbviewer.org.</b></div><div class=\"sk-container\" hidden><div class=\"sk-item\"><div class=\"sk-estimator sk-toggleable\"><input class=\"sk-toggleable__control sk-hidden--visually\" id=\"sk-estimator-id-2\" type=\"checkbox\" checked><label for=\"sk-estimator-id-2\" class=\"sk-toggleable__label sk-toggleable__label-arrow\">KNeighborsClassifier</label><div class=\"sk-toggleable__content\"><pre>KNeighborsClassifier(n_neighbors=1)</pre></div></div></div></div></div>"
      ],
      "text/plain": [
       "KNeighborsClassifier(n_neighbors=1)"
      ]
     },
     "execution_count": 12,
     "metadata": {},
     "output_type": "execute_result"
    }
   ],
   "source": [
    "# K-Nearest Neighbors Classifier model\n",
    "from sklearn.neighbors import KNeighborsClassifier\n",
    "\n",
    "# instantiate the model\n",
    "knn = KNeighborsClassifier(n_neighbors=1)\n",
    "\n",
    "# fit the model \n",
    "knn.fit(X_train,y_train)"
   ]
  },
  {
   "cell_type": "code",
   "execution_count": 13,
   "id": "269c61e7",
   "metadata": {},
   "outputs": [],
   "source": [
    "#predicting the target value from the model for the samples\n",
    "y_train_knn = knn.predict(X_train)\n",
    "y_test_knn = knn.predict(X_test)"
   ]
  },
  {
   "cell_type": "code",
   "execution_count": 14,
   "id": "77d9c3bf",
   "metadata": {},
   "outputs": [
    {
     "name": "stdout",
     "output_type": "stream",
     "text": [
      "K-Nearest Neighbors : Accuracy on training Data: 0.989\n",
      "K-Nearest Neighbors : Accuracy on test Data: 0.956\n",
      "\n",
      "K-Nearest Neighbors : f1_score on training Data: 0.990\n",
      "K-Nearest Neighbors : f1_score on test Data: 0.961\n",
      "\n",
      "K-Nearest Neighborsn : Recall on training Data: 0.991\n",
      "Logistic Regression : Recall on test Data: 0.962\n",
      "\n",
      "K-Nearest Neighbors : precision on training Data: 0.989\n",
      "K-Nearest Neighbors : precision on test Data: 0.960\n"
     ]
    }
   ],
   "source": [
    "#computing the accuracy,f1_score,Recall,precision of the model performance\n",
    "\n",
    "acc_train_knn = metrics.accuracy_score(y_train,y_train_knn)\n",
    "acc_test_knn = metrics.accuracy_score(y_test,y_test_knn)\n",
    "print(\"K-Nearest Neighbors : Accuracy on training Data: {:.3f}\".format(acc_train_knn))\n",
    "print(\"K-Nearest Neighbors : Accuracy on test Data: {:.3f}\".format(acc_test_knn))\n",
    "print()\n",
    "\n",
    "f1_score_train_knn = metrics.f1_score(y_train,y_train_knn)\n",
    "f1_score_test_knn = metrics.f1_score(y_test,y_test_knn)\n",
    "print(\"K-Nearest Neighbors : f1_score on training Data: {:.3f}\".format(f1_score_train_knn))\n",
    "print(\"K-Nearest Neighbors : f1_score on test Data: {:.3f}\".format(f1_score_test_knn))\n",
    "print()\n",
    "\n",
    "recall_score_train_knn = metrics.recall_score(y_train,y_train_knn)\n",
    "recall_score_test_knn = metrics.recall_score(y_test,y_test_knn)\n",
    "print(\"K-Nearest Neighborsn : Recall on training Data: {:.3f}\".format(recall_score_train_knn))\n",
    "print(\"Logistic Regression : Recall on test Data: {:.3f}\".format(recall_score_test_knn))\n",
    "print()\n",
    "\n",
    "precision_score_train_knn = metrics.precision_score(y_train,y_train_knn)\n",
    "precision_score_test_knn = metrics.precision_score(y_test,y_test_knn)\n",
    "print(\"K-Nearest Neighbors : precision on training Data: {:.3f}\".format(precision_score_train_knn))\n",
    "print(\"K-Nearest Neighbors : precision on test Data: {:.3f}\".format(precision_score_test_knn))"
   ]
  },
  {
   "cell_type": "code",
   "execution_count": 15,
   "id": "f6a6658f",
   "metadata": {},
   "outputs": [
    {
     "name": "stdout",
     "output_type": "stream",
     "text": [
      "              precision    recall  f1-score   support\n",
      "\n",
      "          -1       0.95      0.95      0.95       976\n",
      "           1       0.96      0.96      0.96      1235\n",
      "\n",
      "    accuracy                           0.96      2211\n",
      "   macro avg       0.96      0.96      0.96      2211\n",
      "weighted avg       0.96      0.96      0.96      2211\n",
      "\n"
     ]
    }
   ],
   "source": [
    "#computing the classification report of the model\n",
    "\n",
    "print(metrics.classification_report(y_test, y_test_knn))"
   ]
  },
  {
   "cell_type": "code",
   "execution_count": 16,
   "id": "d4dc5c1b",
   "metadata": {},
   "outputs": [
    {
     "data": {
      "application/vnd.plotly.v1+json": {
       "config": {
        "plotlyServerURL": "https://plot.ly"
       },
       "data": [
        {
         "hovertemplate": "Accuracy Type=Training Accuracy<br>Number of Neighbors=%{x}<br>Accuracy=%{y}<extra></extra>",
         "legendgroup": "Training Accuracy",
         "line": {
          "color": "#636efa",
          "dash": "solid"
         },
         "marker": {
          "symbol": "circle"
         },
         "mode": "lines",
         "name": "Training Accuracy",
         "orientation": "v",
         "showlegend": true,
         "type": "scatter",
         "x": [
          1,
          2,
          3,
          4,
          5,
          6,
          7,
          8,
          9,
          10,
          11,
          12,
          13,
          14,
          15,
          16,
          17,
          18,
          19
         ],
         "xaxis": "x",
         "y": [
          0.9891439556711523,
          0.9773832409815674,
          0.9762524030306458,
          0.9672056994232726,
          0.9648309397263373,
          0.9588374985864525,
          0.9580459120208075,
          0.9535225602171209,
          0.9525048060612914,
          0.9492253760036187,
          0.9497907949790795,
          0.9483207056428814,
          0.94877304082325,
          0.9462851973312224,
          0.9457197783557616,
          0.9426665158882732,
          0.9418749293226281,
          0.9414225941422594,
          0.939726337215877
         ],
         "yaxis": "y"
        },
        {
         "hovertemplate": "Accuracy Type=Test Accuracy<br>Number of Neighbors=%{x}<br>Accuracy=%{y}<extra></extra>",
         "legendgroup": "Test Accuracy",
         "line": {
          "color": "#EF553B",
          "dash": "solid"
         },
         "marker": {
          "symbol": "circle"
         },
         "mode": "lines",
         "name": "Test Accuracy",
         "orientation": "v",
         "showlegend": true,
         "type": "scatter",
         "x": [
          1,
          2,
          3,
          4,
          5,
          6,
          7,
          8,
          9,
          10,
          11,
          12,
          13,
          14,
          15,
          16,
          17,
          18,
          19
         ],
         "xaxis": "x",
         "y": [
          0.9561284486657621,
          0.9457259158751696,
          0.9461781999095432,
          0.9407507914970602,
          0.9412030755314338,
          0.9298959746720941,
          0.9357756671189507,
          0.9389416553595658,
          0.937584803256445,
          0.9384893713251922,
          0.9393939393939394,
          0.9371325192220714,
          0.9384893713251922,
          0.937584803256445,
          0.9362279511533242,
          0.9339665309814563,
          0.9317051108095884,
          0.9312528267752148,
          0.9335142469470827
         ],
         "yaxis": "y"
        }
       ],
       "layout": {
        "legend": {
         "title": {
          "text": "Accuracy Type"
         },
         "tracegroupgap": 0
        },
        "template": {
         "data": {
          "bar": [
           {
            "error_x": {
             "color": "#2a3f5f"
            },
            "error_y": {
             "color": "#2a3f5f"
            },
            "marker": {
             "line": {
              "color": "#E5ECF6",
              "width": 0.5
             },
             "pattern": {
              "fillmode": "overlay",
              "size": 10,
              "solidity": 0.2
             }
            },
            "type": "bar"
           }
          ],
          "barpolar": [
           {
            "marker": {
             "line": {
              "color": "#E5ECF6",
              "width": 0.5
             },
             "pattern": {
              "fillmode": "overlay",
              "size": 10,
              "solidity": 0.2
             }
            },
            "type": "barpolar"
           }
          ],
          "carpet": [
           {
            "aaxis": {
             "endlinecolor": "#2a3f5f",
             "gridcolor": "white",
             "linecolor": "white",
             "minorgridcolor": "white",
             "startlinecolor": "#2a3f5f"
            },
            "baxis": {
             "endlinecolor": "#2a3f5f",
             "gridcolor": "white",
             "linecolor": "white",
             "minorgridcolor": "white",
             "startlinecolor": "#2a3f5f"
            },
            "type": "carpet"
           }
          ],
          "choropleth": [
           {
            "colorbar": {
             "outlinewidth": 0,
             "ticks": ""
            },
            "type": "choropleth"
           }
          ],
          "contour": [
           {
            "colorbar": {
             "outlinewidth": 0,
             "ticks": ""
            },
            "colorscale": [
             [
              0,
              "#0d0887"
             ],
             [
              0.1111111111111111,
              "#46039f"
             ],
             [
              0.2222222222222222,
              "#7201a8"
             ],
             [
              0.3333333333333333,
              "#9c179e"
             ],
             [
              0.4444444444444444,
              "#bd3786"
             ],
             [
              0.5555555555555556,
              "#d8576b"
             ],
             [
              0.6666666666666666,
              "#ed7953"
             ],
             [
              0.7777777777777778,
              "#fb9f3a"
             ],
             [
              0.8888888888888888,
              "#fdca26"
             ],
             [
              1,
              "#f0f921"
             ]
            ],
            "type": "contour"
           }
          ],
          "contourcarpet": [
           {
            "colorbar": {
             "outlinewidth": 0,
             "ticks": ""
            },
            "type": "contourcarpet"
           }
          ],
          "heatmap": [
           {
            "colorbar": {
             "outlinewidth": 0,
             "ticks": ""
            },
            "colorscale": [
             [
              0,
              "#0d0887"
             ],
             [
              0.1111111111111111,
              "#46039f"
             ],
             [
              0.2222222222222222,
              "#7201a8"
             ],
             [
              0.3333333333333333,
              "#9c179e"
             ],
             [
              0.4444444444444444,
              "#bd3786"
             ],
             [
              0.5555555555555556,
              "#d8576b"
             ],
             [
              0.6666666666666666,
              "#ed7953"
             ],
             [
              0.7777777777777778,
              "#fb9f3a"
             ],
             [
              0.8888888888888888,
              "#fdca26"
             ],
             [
              1,
              "#f0f921"
             ]
            ],
            "type": "heatmap"
           }
          ],
          "heatmapgl": [
           {
            "colorbar": {
             "outlinewidth": 0,
             "ticks": ""
            },
            "colorscale": [
             [
              0,
              "#0d0887"
             ],
             [
              0.1111111111111111,
              "#46039f"
             ],
             [
              0.2222222222222222,
              "#7201a8"
             ],
             [
              0.3333333333333333,
              "#9c179e"
             ],
             [
              0.4444444444444444,
              "#bd3786"
             ],
             [
              0.5555555555555556,
              "#d8576b"
             ],
             [
              0.6666666666666666,
              "#ed7953"
             ],
             [
              0.7777777777777778,
              "#fb9f3a"
             ],
             [
              0.8888888888888888,
              "#fdca26"
             ],
             [
              1,
              "#f0f921"
             ]
            ],
            "type": "heatmapgl"
           }
          ],
          "histogram": [
           {
            "marker": {
             "pattern": {
              "fillmode": "overlay",
              "size": 10,
              "solidity": 0.2
             }
            },
            "type": "histogram"
           }
          ],
          "histogram2d": [
           {
            "colorbar": {
             "outlinewidth": 0,
             "ticks": ""
            },
            "colorscale": [
             [
              0,
              "#0d0887"
             ],
             [
              0.1111111111111111,
              "#46039f"
             ],
             [
              0.2222222222222222,
              "#7201a8"
             ],
             [
              0.3333333333333333,
              "#9c179e"
             ],
             [
              0.4444444444444444,
              "#bd3786"
             ],
             [
              0.5555555555555556,
              "#d8576b"
             ],
             [
              0.6666666666666666,
              "#ed7953"
             ],
             [
              0.7777777777777778,
              "#fb9f3a"
             ],
             [
              0.8888888888888888,
              "#fdca26"
             ],
             [
              1,
              "#f0f921"
             ]
            ],
            "type": "histogram2d"
           }
          ],
          "histogram2dcontour": [
           {
            "colorbar": {
             "outlinewidth": 0,
             "ticks": ""
            },
            "colorscale": [
             [
              0,
              "#0d0887"
             ],
             [
              0.1111111111111111,
              "#46039f"
             ],
             [
              0.2222222222222222,
              "#7201a8"
             ],
             [
              0.3333333333333333,
              "#9c179e"
             ],
             [
              0.4444444444444444,
              "#bd3786"
             ],
             [
              0.5555555555555556,
              "#d8576b"
             ],
             [
              0.6666666666666666,
              "#ed7953"
             ],
             [
              0.7777777777777778,
              "#fb9f3a"
             ],
             [
              0.8888888888888888,
              "#fdca26"
             ],
             [
              1,
              "#f0f921"
             ]
            ],
            "type": "histogram2dcontour"
           }
          ],
          "mesh3d": [
           {
            "colorbar": {
             "outlinewidth": 0,
             "ticks": ""
            },
            "type": "mesh3d"
           }
          ],
          "parcoords": [
           {
            "line": {
             "colorbar": {
              "outlinewidth": 0,
              "ticks": ""
             }
            },
            "type": "parcoords"
           }
          ],
          "pie": [
           {
            "automargin": true,
            "type": "pie"
           }
          ],
          "scatter": [
           {
            "fillpattern": {
             "fillmode": "overlay",
             "size": 10,
             "solidity": 0.2
            },
            "type": "scatter"
           }
          ],
          "scatter3d": [
           {
            "line": {
             "colorbar": {
              "outlinewidth": 0,
              "ticks": ""
             }
            },
            "marker": {
             "colorbar": {
              "outlinewidth": 0,
              "ticks": ""
             }
            },
            "type": "scatter3d"
           }
          ],
          "scattercarpet": [
           {
            "marker": {
             "colorbar": {
              "outlinewidth": 0,
              "ticks": ""
             }
            },
            "type": "scattercarpet"
           }
          ],
          "scattergeo": [
           {
            "marker": {
             "colorbar": {
              "outlinewidth": 0,
              "ticks": ""
             }
            },
            "type": "scattergeo"
           }
          ],
          "scattergl": [
           {
            "marker": {
             "colorbar": {
              "outlinewidth": 0,
              "ticks": ""
             }
            },
            "type": "scattergl"
           }
          ],
          "scattermapbox": [
           {
            "marker": {
             "colorbar": {
              "outlinewidth": 0,
              "ticks": ""
             }
            },
            "type": "scattermapbox"
           }
          ],
          "scatterpolar": [
           {
            "marker": {
             "colorbar": {
              "outlinewidth": 0,
              "ticks": ""
             }
            },
            "type": "scatterpolar"
           }
          ],
          "scatterpolargl": [
           {
            "marker": {
             "colorbar": {
              "outlinewidth": 0,
              "ticks": ""
             }
            },
            "type": "scatterpolargl"
           }
          ],
          "scatterternary": [
           {
            "marker": {
             "colorbar": {
              "outlinewidth": 0,
              "ticks": ""
             }
            },
            "type": "scatterternary"
           }
          ],
          "surface": [
           {
            "colorbar": {
             "outlinewidth": 0,
             "ticks": ""
            },
            "colorscale": [
             [
              0,
              "#0d0887"
             ],
             [
              0.1111111111111111,
              "#46039f"
             ],
             [
              0.2222222222222222,
              "#7201a8"
             ],
             [
              0.3333333333333333,
              "#9c179e"
             ],
             [
              0.4444444444444444,
              "#bd3786"
             ],
             [
              0.5555555555555556,
              "#d8576b"
             ],
             [
              0.6666666666666666,
              "#ed7953"
             ],
             [
              0.7777777777777778,
              "#fb9f3a"
             ],
             [
              0.8888888888888888,
              "#fdca26"
             ],
             [
              1,
              "#f0f921"
             ]
            ],
            "type": "surface"
           }
          ],
          "table": [
           {
            "cells": {
             "fill": {
              "color": "#EBF0F8"
             },
             "line": {
              "color": "white"
             }
            },
            "header": {
             "fill": {
              "color": "#C8D4E3"
             },
             "line": {
              "color": "white"
             }
            },
            "type": "table"
           }
          ]
         },
         "layout": {
          "annotationdefaults": {
           "arrowcolor": "#2a3f5f",
           "arrowhead": 0,
           "arrowwidth": 1
          },
          "autotypenumbers": "strict",
          "coloraxis": {
           "colorbar": {
            "outlinewidth": 0,
            "ticks": ""
           }
          },
          "colorscale": {
           "diverging": [
            [
             0,
             "#8e0152"
            ],
            [
             0.1,
             "#c51b7d"
            ],
            [
             0.2,
             "#de77ae"
            ],
            [
             0.3,
             "#f1b6da"
            ],
            [
             0.4,
             "#fde0ef"
            ],
            [
             0.5,
             "#f7f7f7"
            ],
            [
             0.6,
             "#e6f5d0"
            ],
            [
             0.7,
             "#b8e186"
            ],
            [
             0.8,
             "#7fbc41"
            ],
            [
             0.9,
             "#4d9221"
            ],
            [
             1,
             "#276419"
            ]
           ],
           "sequential": [
            [
             0,
             "#0d0887"
            ],
            [
             0.1111111111111111,
             "#46039f"
            ],
            [
             0.2222222222222222,
             "#7201a8"
            ],
            [
             0.3333333333333333,
             "#9c179e"
            ],
            [
             0.4444444444444444,
             "#bd3786"
            ],
            [
             0.5555555555555556,
             "#d8576b"
            ],
            [
             0.6666666666666666,
             "#ed7953"
            ],
            [
             0.7777777777777778,
             "#fb9f3a"
            ],
            [
             0.8888888888888888,
             "#fdca26"
            ],
            [
             1,
             "#f0f921"
            ]
           ],
           "sequentialminus": [
            [
             0,
             "#0d0887"
            ],
            [
             0.1111111111111111,
             "#46039f"
            ],
            [
             0.2222222222222222,
             "#7201a8"
            ],
            [
             0.3333333333333333,
             "#9c179e"
            ],
            [
             0.4444444444444444,
             "#bd3786"
            ],
            [
             0.5555555555555556,
             "#d8576b"
            ],
            [
             0.6666666666666666,
             "#ed7953"
            ],
            [
             0.7777777777777778,
             "#fb9f3a"
            ],
            [
             0.8888888888888888,
             "#fdca26"
            ],
            [
             1,
             "#f0f921"
            ]
           ]
          },
          "colorway": [
           "#636efa",
           "#EF553B",
           "#00cc96",
           "#ab63fa",
           "#FFA15A",
           "#19d3f3",
           "#FF6692",
           "#B6E880",
           "#FF97FF",
           "#FECB52"
          ],
          "font": {
           "color": "#2a3f5f"
          },
          "geo": {
           "bgcolor": "white",
           "lakecolor": "white",
           "landcolor": "#E5ECF6",
           "showlakes": true,
           "showland": true,
           "subunitcolor": "white"
          },
          "hoverlabel": {
           "align": "left"
          },
          "hovermode": "closest",
          "mapbox": {
           "style": "light"
          },
          "paper_bgcolor": "white",
          "plot_bgcolor": "#E5ECF6",
          "polar": {
           "angularaxis": {
            "gridcolor": "white",
            "linecolor": "white",
            "ticks": ""
           },
           "bgcolor": "#E5ECF6",
           "radialaxis": {
            "gridcolor": "white",
            "linecolor": "white",
            "ticks": ""
           }
          },
          "scene": {
           "xaxis": {
            "backgroundcolor": "#E5ECF6",
            "gridcolor": "white",
            "gridwidth": 2,
            "linecolor": "white",
            "showbackground": true,
            "ticks": "",
            "zerolinecolor": "white"
           },
           "yaxis": {
            "backgroundcolor": "#E5ECF6",
            "gridcolor": "white",
            "gridwidth": 2,
            "linecolor": "white",
            "showbackground": true,
            "ticks": "",
            "zerolinecolor": "white"
           },
           "zaxis": {
            "backgroundcolor": "#E5ECF6",
            "gridcolor": "white",
            "gridwidth": 2,
            "linecolor": "white",
            "showbackground": true,
            "ticks": "",
            "zerolinecolor": "white"
           }
          },
          "shapedefaults": {
           "line": {
            "color": "#2a3f5f"
           }
          },
          "ternary": {
           "aaxis": {
            "gridcolor": "white",
            "linecolor": "white",
            "ticks": ""
           },
           "baxis": {
            "gridcolor": "white",
            "linecolor": "white",
            "ticks": ""
           },
           "bgcolor": "#E5ECF6",
           "caxis": {
            "gridcolor": "white",
            "linecolor": "white",
            "ticks": ""
           }
          },
          "title": {
           "x": 0.05
          },
          "xaxis": {
           "automargin": true,
           "gridcolor": "white",
           "linecolor": "white",
           "ticks": "",
           "title": {
            "standoff": 15
           },
           "zerolinecolor": "white",
           "zerolinewidth": 2
          },
          "yaxis": {
           "automargin": true,
           "gridcolor": "white",
           "linecolor": "white",
           "ticks": "",
           "title": {
            "standoff": 15
           },
           "zerolinecolor": "white",
           "zerolinewidth": 2
          }
         }
        },
        "title": {
         "text": "Training & Testing Accuracy vs n_neighbors"
        },
        "xaxis": {
         "anchor": "y",
         "domain": [
          0,
          1
         ],
         "title": {
          "text": "Number of Neighbors"
         }
        },
        "yaxis": {
         "anchor": "x",
         "domain": [
          0,
          1
         ],
         "title": {
          "text": "Accuracy"
         }
        }
       }
      }
     },
     "metadata": {},
     "output_type": "display_data"
    }
   ],
   "source": [
    "training_accuracy = []\n",
    "test_accuracy = []\n",
    "# try max_depth from 1 to 20\n",
    "depth = range(1,20)\n",
    "for n in depth:\n",
    "    knn = KNeighborsClassifier(n_neighbors=n)\n",
    "\n",
    "    knn.fit(X_train, y_train)\n",
    "    # record training set accuracy\n",
    "    training_accuracy.append(knn.score(X_train, y_train))\n",
    "    # record generalization accuracy\n",
    "    test_accuracy.append(knn.score(X_test, y_test))\n",
    "    \n",
    "\n",
    "#plotting the training & testing accuracy for n_estimators from 1 to 20\n",
    "# plt.plot(depth, training_accuracy, label=\"training accuracy\")\n",
    "# plt.plot(depth, test_accuracy, label=\"test accuracy\")\n",
    "# plt.ylabel(\"Accuracy\")  \n",
    "# plt.xlabel(\"n_neighbors\")\n",
    "# plt.legend();\n",
    "# \n",
    "# #plotting the training & testing accuracy for n_estimators from 1 to 20\n",
    "\n",
    "# # Create a DataFrame to hold training and testing accuracy values\n",
    "accuracy_df = pd.DataFrame({'n_neighbors': depth, 'Training Accuracy': training_accuracy, 'Test Accuracy': test_accuracy})\n",
    "\n",
    "# Create an interactive line chart using Plotly Express\n",
    "fig = px.line(accuracy_df, x='n_neighbors', y=['Training Accuracy', 'Test Accuracy'],\n",
    "              title=\"Training & Testing Accuracy vs n_neighbors\",\n",
    "              labels={'n_neighbors': 'Number of Neighbors', 'value': 'Accuracy', 'variable': 'Accuracy Type'})\n",
    "\n",
    "# Show the interactive line chart\n",
    "fig.show()"
   ]
  },
  {
   "cell_type": "code",
   "execution_count": 17,
   "id": "19e5bf0c",
   "metadata": {},
   "outputs": [],
   "source": [
    "#storing the results. The below mentioned order of parameter passing is important.\n",
    "\n",
    "storeResults('K-Nearest Neighbors',acc_test_knn,f1_score_test_knn,\n",
    "             recall_score_train_knn,precision_score_train_knn)"
   ]
  },
  {
   "cell_type": "markdown",
   "id": "b8bc8b53",
   "metadata": {},
   "source": [
    "## 5.3. Support Vector Machine : Classifier"
   ]
  },
  {
   "cell_type": "code",
   "execution_count": 18,
   "id": "be3cb194",
   "metadata": {},
   "outputs": [
    {
     "data": {
      "text/html": [
       "<style>#sk-container-id-3 {color: black;background-color: white;}#sk-container-id-3 pre{padding: 0;}#sk-container-id-3 div.sk-toggleable {background-color: white;}#sk-container-id-3 label.sk-toggleable__label {cursor: pointer;display: block;width: 100%;margin-bottom: 0;padding: 0.3em;box-sizing: border-box;text-align: center;}#sk-container-id-3 label.sk-toggleable__label-arrow:before {content: \"▸\";float: left;margin-right: 0.25em;color: #696969;}#sk-container-id-3 label.sk-toggleable__label-arrow:hover:before {color: black;}#sk-container-id-3 div.sk-estimator:hover label.sk-toggleable__label-arrow:before {color: black;}#sk-container-id-3 div.sk-toggleable__content {max-height: 0;max-width: 0;overflow: hidden;text-align: left;background-color: #f0f8ff;}#sk-container-id-3 div.sk-toggleable__content pre {margin: 0.2em;color: black;border-radius: 0.25em;background-color: #f0f8ff;}#sk-container-id-3 input.sk-toggleable__control:checked~div.sk-toggleable__content {max-height: 200px;max-width: 100%;overflow: auto;}#sk-container-id-3 input.sk-toggleable__control:checked~label.sk-toggleable__label-arrow:before {content: \"▾\";}#sk-container-id-3 div.sk-estimator input.sk-toggleable__control:checked~label.sk-toggleable__label {background-color: #d4ebff;}#sk-container-id-3 div.sk-label input.sk-toggleable__control:checked~label.sk-toggleable__label {background-color: #d4ebff;}#sk-container-id-3 input.sk-hidden--visually {border: 0;clip: rect(1px 1px 1px 1px);clip: rect(1px, 1px, 1px, 1px);height: 1px;margin: -1px;overflow: hidden;padding: 0;position: absolute;width: 1px;}#sk-container-id-3 div.sk-estimator {font-family: monospace;background-color: #f0f8ff;border: 1px dotted black;border-radius: 0.25em;box-sizing: border-box;margin-bottom: 0.5em;}#sk-container-id-3 div.sk-estimator:hover {background-color: #d4ebff;}#sk-container-id-3 div.sk-parallel-item::after {content: \"\";width: 100%;border-bottom: 1px solid gray;flex-grow: 1;}#sk-container-id-3 div.sk-label:hover label.sk-toggleable__label {background-color: #d4ebff;}#sk-container-id-3 div.sk-serial::before {content: \"\";position: absolute;border-left: 1px solid gray;box-sizing: border-box;top: 0;bottom: 0;left: 50%;z-index: 0;}#sk-container-id-3 div.sk-serial {display: flex;flex-direction: column;align-items: center;background-color: white;padding-right: 0.2em;padding-left: 0.2em;position: relative;}#sk-container-id-3 div.sk-item {position: relative;z-index: 1;}#sk-container-id-3 div.sk-parallel {display: flex;align-items: stretch;justify-content: center;background-color: white;position: relative;}#sk-container-id-3 div.sk-item::before, #sk-container-id-3 div.sk-parallel-item::before {content: \"\";position: absolute;border-left: 1px solid gray;box-sizing: border-box;top: 0;bottom: 0;left: 50%;z-index: -1;}#sk-container-id-3 div.sk-parallel-item {display: flex;flex-direction: column;z-index: 1;position: relative;background-color: white;}#sk-container-id-3 div.sk-parallel-item:first-child::after {align-self: flex-end;width: 50%;}#sk-container-id-3 div.sk-parallel-item:last-child::after {align-self: flex-start;width: 50%;}#sk-container-id-3 div.sk-parallel-item:only-child::after {width: 0;}#sk-container-id-3 div.sk-dashed-wrapped {border: 1px dashed gray;margin: 0 0.4em 0.5em 0.4em;box-sizing: border-box;padding-bottom: 0.4em;background-color: white;}#sk-container-id-3 div.sk-label label {font-family: monospace;font-weight: bold;display: inline-block;line-height: 1.2em;}#sk-container-id-3 div.sk-label-container {text-align: center;}#sk-container-id-3 div.sk-container {/* jupyter's `normalize.less` sets `[hidden] { display: none; }` but bootstrap.min.css set `[hidden] { display: none !important; }` so we also need the `!important` here to be able to override the default hidden behavior on the sphinx rendered scikit-learn.org. See: https://github.com/scikit-learn/scikit-learn/issues/21755 */display: inline-block !important;position: relative;}#sk-container-id-3 div.sk-text-repr-fallback {display: none;}</style><div id=\"sk-container-id-3\" class=\"sk-top-container\"><div class=\"sk-text-repr-fallback\"><pre>GridSearchCV(estimator=SVC(),\n",
       "             param_grid={&#x27;gamma&#x27;: [0.1], &#x27;kernel&#x27;: [&#x27;rbf&#x27;, &#x27;linear&#x27;]})</pre><b>In a Jupyter environment, please rerun this cell to show the HTML representation or trust the notebook. <br />On GitHub, the HTML representation is unable to render, please try loading this page with nbviewer.org.</b></div><div class=\"sk-container\" hidden><div class=\"sk-item sk-dashed-wrapped\"><div class=\"sk-label-container\"><div class=\"sk-label sk-toggleable\"><input class=\"sk-toggleable__control sk-hidden--visually\" id=\"sk-estimator-id-3\" type=\"checkbox\" ><label for=\"sk-estimator-id-3\" class=\"sk-toggleable__label sk-toggleable__label-arrow\">GridSearchCV</label><div class=\"sk-toggleable__content\"><pre>GridSearchCV(estimator=SVC(),\n",
       "             param_grid={&#x27;gamma&#x27;: [0.1], &#x27;kernel&#x27;: [&#x27;rbf&#x27;, &#x27;linear&#x27;]})</pre></div></div></div><div class=\"sk-parallel\"><div class=\"sk-parallel-item\"><div class=\"sk-item\"><div class=\"sk-label-container\"><div class=\"sk-label sk-toggleable\"><input class=\"sk-toggleable__control sk-hidden--visually\" id=\"sk-estimator-id-4\" type=\"checkbox\" ><label for=\"sk-estimator-id-4\" class=\"sk-toggleable__label sk-toggleable__label-arrow\">estimator: SVC</label><div class=\"sk-toggleable__content\"><pre>SVC()</pre></div></div></div><div class=\"sk-serial\"><div class=\"sk-item\"><div class=\"sk-estimator sk-toggleable\"><input class=\"sk-toggleable__control sk-hidden--visually\" id=\"sk-estimator-id-5\" type=\"checkbox\" ><label for=\"sk-estimator-id-5\" class=\"sk-toggleable__label sk-toggleable__label-arrow\">SVC</label><div class=\"sk-toggleable__content\"><pre>SVC()</pre></div></div></div></div></div></div></div></div></div></div>"
      ],
      "text/plain": [
       "GridSearchCV(estimator=SVC(),\n",
       "             param_grid={'gamma': [0.1], 'kernel': ['rbf', 'linear']})"
      ]
     },
     "execution_count": 18,
     "metadata": {},
     "output_type": "execute_result"
    }
   ],
   "source": [
    "# Support Vector Classifier model \n",
    "from sklearn.svm import SVC\n",
    "from sklearn.model_selection import GridSearchCV\n",
    "\n",
    "# defining parameter range\n",
    "param_grid = {'gamma': [0.1],'kernel': ['rbf','linear']}\n",
    "\n",
    "svc = GridSearchCV(SVC(), param_grid)\n",
    "\n",
    "# fitting the model for grid search\n",
    "svc.fit(X_train, y_train)\n"
   ]
  },
  {
   "cell_type": "code",
   "execution_count": 19,
   "id": "2b25eef4",
   "metadata": {},
   "outputs": [],
   "source": [
    "#predicting the target value from the model for the samples\n",
    "y_train_svc = svc.predict(X_train)\n",
    "y_test_svc = svc.predict(X_test)"
   ]
  },
  {
   "cell_type": "code",
   "execution_count": 20,
   "id": "079d4b39",
   "metadata": {},
   "outputs": [
    {
     "name": "stdout",
     "output_type": "stream",
     "text": [
      "Support Vector Machine : Accuracy on training Data: 0.969\n",
      "Support Vector Machine : Accuracy on test Data: 0.964\n",
      "\n",
      "Support Vector Machine : f1_score on training Data: 0.973\n",
      "Support Vector Machine : f1_score on test Data: 0.968\n",
      "\n",
      "Support Vector Machine : Recall on training Data: 0.980\n",
      "Support Vector Machine : Recall on test Data: 0.980\n",
      "\n",
      "Support Vector Machine : precision on training Data: 0.965\n",
      "Support Vector Machine : precision on test Data: 0.957\n"
     ]
    }
   ],
   "source": [
    "#computing the accuracy, f1_score, Recall, precision of the model performance\n",
    "\n",
    "acc_train_svc = metrics.accuracy_score(y_train,y_train_svc)\n",
    "acc_test_svc = metrics.accuracy_score(y_test,y_test_svc)\n",
    "print(\"Support Vector Machine : Accuracy on training Data: {:.3f}\".format(acc_train_svc))\n",
    "print(\"Support Vector Machine : Accuracy on test Data: {:.3f}\".format(acc_test_svc))\n",
    "print()\n",
    "\n",
    "f1_score_train_svc = metrics.f1_score(y_train,y_train_svc)\n",
    "f1_score_test_svc = metrics.f1_score(y_test,y_test_svc)\n",
    "print(\"Support Vector Machine : f1_score on training Data: {:.3f}\".format(f1_score_train_svc))\n",
    "print(\"Support Vector Machine : f1_score on test Data: {:.3f}\".format(f1_score_test_svc))\n",
    "print()\n",
    "\n",
    "recall_score_train_svc = metrics.recall_score(y_train,y_train_svc)\n",
    "recall_score_test_svc = metrics.recall_score(y_test,y_test_svc)\n",
    "print(\"Support Vector Machine : Recall on training Data: {:.3f}\".format(recall_score_train_svc))\n",
    "print(\"Support Vector Machine : Recall on test Data: {:.3f}\".format(recall_score_test_svc))\n",
    "print()\n",
    "\n",
    "precision_score_train_svc = metrics.precision_score(y_train,y_train_svc)\n",
    "precision_score_test_svc = metrics.precision_score(y_test,y_test_svc)\n",
    "print(\"Support Vector Machine : precision on training Data: {:.3f}\".format(precision_score_train_svc))\n",
    "print(\"Support Vector Machine : precision on test Data: {:.3f}\".format(precision_score_test_svc))"
   ]
  },
  {
   "cell_type": "code",
   "execution_count": 21,
   "id": "b80c577b",
   "metadata": {},
   "outputs": [
    {
     "name": "stdout",
     "output_type": "stream",
     "text": [
      "              precision    recall  f1-score   support\n",
      "\n",
      "          -1       0.97      0.94      0.96       976\n",
      "           1       0.96      0.98      0.97      1235\n",
      "\n",
      "    accuracy                           0.96      2211\n",
      "   macro avg       0.97      0.96      0.96      2211\n",
      "weighted avg       0.96      0.96      0.96      2211\n",
      "\n"
     ]
    }
   ],
   "source": [
    "#computing the classification report of the model\n",
    "\n",
    "print(metrics.classification_report(y_test, y_test_svc))"
   ]
  },
  {
   "cell_type": "code",
   "execution_count": 22,
   "id": "b82e2f70",
   "metadata": {},
   "outputs": [],
   "source": [
    "#storing the results. The below mentioned order of parameter passing is important.\n",
    "\n",
    "storeResults('Support Vector Machine',acc_test_svc,f1_score_test_svc,\n",
    "             recall_score_train_svc,precision_score_train_svc)"
   ]
  },
  {
   "cell_type": "markdown",
   "id": "8ba22f40",
   "metadata": {},
   "source": [
    "## 5.4. Naive Bayes : Classifier"
   ]
  },
  {
   "cell_type": "code",
   "execution_count": 23,
   "id": "69469f59",
   "metadata": {},
   "outputs": [
    {
     "data": {
      "text/html": [
       "<style>#sk-container-id-4 {color: black;background-color: white;}#sk-container-id-4 pre{padding: 0;}#sk-container-id-4 div.sk-toggleable {background-color: white;}#sk-container-id-4 label.sk-toggleable__label {cursor: pointer;display: block;width: 100%;margin-bottom: 0;padding: 0.3em;box-sizing: border-box;text-align: center;}#sk-container-id-4 label.sk-toggleable__label-arrow:before {content: \"▸\";float: left;margin-right: 0.25em;color: #696969;}#sk-container-id-4 label.sk-toggleable__label-arrow:hover:before {color: black;}#sk-container-id-4 div.sk-estimator:hover label.sk-toggleable__label-arrow:before {color: black;}#sk-container-id-4 div.sk-toggleable__content {max-height: 0;max-width: 0;overflow: hidden;text-align: left;background-color: #f0f8ff;}#sk-container-id-4 div.sk-toggleable__content pre {margin: 0.2em;color: black;border-radius: 0.25em;background-color: #f0f8ff;}#sk-container-id-4 input.sk-toggleable__control:checked~div.sk-toggleable__content {max-height: 200px;max-width: 100%;overflow: auto;}#sk-container-id-4 input.sk-toggleable__control:checked~label.sk-toggleable__label-arrow:before {content: \"▾\";}#sk-container-id-4 div.sk-estimator input.sk-toggleable__control:checked~label.sk-toggleable__label {background-color: #d4ebff;}#sk-container-id-4 div.sk-label input.sk-toggleable__control:checked~label.sk-toggleable__label {background-color: #d4ebff;}#sk-container-id-4 input.sk-hidden--visually {border: 0;clip: rect(1px 1px 1px 1px);clip: rect(1px, 1px, 1px, 1px);height: 1px;margin: -1px;overflow: hidden;padding: 0;position: absolute;width: 1px;}#sk-container-id-4 div.sk-estimator {font-family: monospace;background-color: #f0f8ff;border: 1px dotted black;border-radius: 0.25em;box-sizing: border-box;margin-bottom: 0.5em;}#sk-container-id-4 div.sk-estimator:hover {background-color: #d4ebff;}#sk-container-id-4 div.sk-parallel-item::after {content: \"\";width: 100%;border-bottom: 1px solid gray;flex-grow: 1;}#sk-container-id-4 div.sk-label:hover label.sk-toggleable__label {background-color: #d4ebff;}#sk-container-id-4 div.sk-serial::before {content: \"\";position: absolute;border-left: 1px solid gray;box-sizing: border-box;top: 0;bottom: 0;left: 50%;z-index: 0;}#sk-container-id-4 div.sk-serial {display: flex;flex-direction: column;align-items: center;background-color: white;padding-right: 0.2em;padding-left: 0.2em;position: relative;}#sk-container-id-4 div.sk-item {position: relative;z-index: 1;}#sk-container-id-4 div.sk-parallel {display: flex;align-items: stretch;justify-content: center;background-color: white;position: relative;}#sk-container-id-4 div.sk-item::before, #sk-container-id-4 div.sk-parallel-item::before {content: \"\";position: absolute;border-left: 1px solid gray;box-sizing: border-box;top: 0;bottom: 0;left: 50%;z-index: -1;}#sk-container-id-4 div.sk-parallel-item {display: flex;flex-direction: column;z-index: 1;position: relative;background-color: white;}#sk-container-id-4 div.sk-parallel-item:first-child::after {align-self: flex-end;width: 50%;}#sk-container-id-4 div.sk-parallel-item:last-child::after {align-self: flex-start;width: 50%;}#sk-container-id-4 div.sk-parallel-item:only-child::after {width: 0;}#sk-container-id-4 div.sk-dashed-wrapped {border: 1px dashed gray;margin: 0 0.4em 0.5em 0.4em;box-sizing: border-box;padding-bottom: 0.4em;background-color: white;}#sk-container-id-4 div.sk-label label {font-family: monospace;font-weight: bold;display: inline-block;line-height: 1.2em;}#sk-container-id-4 div.sk-label-container {text-align: center;}#sk-container-id-4 div.sk-container {/* jupyter's `normalize.less` sets `[hidden] { display: none; }` but bootstrap.min.css set `[hidden] { display: none !important; }` so we also need the `!important` here to be able to override the default hidden behavior on the sphinx rendered scikit-learn.org. See: https://github.com/scikit-learn/scikit-learn/issues/21755 */display: inline-block !important;position: relative;}#sk-container-id-4 div.sk-text-repr-fallback {display: none;}</style><div id=\"sk-container-id-4\" class=\"sk-top-container\"><div class=\"sk-text-repr-fallback\"><pre>GaussianNB()</pre><b>In a Jupyter environment, please rerun this cell to show the HTML representation or trust the notebook. <br />On GitHub, the HTML representation is unable to render, please try loading this page with nbviewer.org.</b></div><div class=\"sk-container\" hidden><div class=\"sk-item\"><div class=\"sk-estimator sk-toggleable\"><input class=\"sk-toggleable__control sk-hidden--visually\" id=\"sk-estimator-id-6\" type=\"checkbox\" checked><label for=\"sk-estimator-id-6\" class=\"sk-toggleable__label sk-toggleable__label-arrow\">GaussianNB</label><div class=\"sk-toggleable__content\"><pre>GaussianNB()</pre></div></div></div></div></div>"
      ],
      "text/plain": [
       "GaussianNB()"
      ]
     },
     "execution_count": 23,
     "metadata": {},
     "output_type": "execute_result"
    }
   ],
   "source": [
    "# Naive Bayes Classifier Model\n",
    "from sklearn.naive_bayes import GaussianNB\n",
    "from sklearn.pipeline import Pipeline\n",
    "\n",
    "# instantiate the model\n",
    "nb=  GaussianNB()\n",
    "\n",
    "# fit the model \n",
    "nb.fit(X_train,y_train)"
   ]
  },
  {
   "cell_type": "code",
   "execution_count": 24,
   "id": "d5af1028",
   "metadata": {},
   "outputs": [],
   "source": [
    "#predicting the target value from the model for the samples\n",
    "y_train_nb = nb.predict(X_train)\n",
    "y_test_nb = nb.predict(X_test)"
   ]
  },
  {
   "cell_type": "code",
   "execution_count": 25,
   "id": "63968c7a",
   "metadata": {},
   "outputs": [
    {
     "name": "stdout",
     "output_type": "stream",
     "text": [
      "Naive Bayes Classifier : Accuracy on training Data: 0.605\n",
      "Naive Bayes Classifier : Accuracy on test Data: 0.605\n",
      "\n",
      "Naive Bayes Classifier : f1_score on training Data: 0.451\n",
      "Naive Bayes Classifier : f1_score on test Data: 0.454\n",
      "\n",
      "Naive Bayes Classifier : Recall on training Data: 0.292\n",
      "Naive Bayes Classifier : Recall on test Data: 0.294\n",
      "\n",
      "Naive Bayes Classifier : precision on training Data: 0.997\n",
      "Naive Bayes Classifier : precision on test Data: 0.995\n"
     ]
    }
   ],
   "source": [
    "#computing the accuracy, f1_score, Recall, precision of the model performance\n",
    "\n",
    "acc_train_nb = metrics.accuracy_score(y_train,y_train_nb)\n",
    "acc_test_nb = metrics.accuracy_score(y_test,y_test_nb)\n",
    "print(\"Naive Bayes Classifier : Accuracy on training Data: {:.3f}\".format(acc_train_nb))\n",
    "print(\"Naive Bayes Classifier : Accuracy on test Data: {:.3f}\".format(acc_test_nb))\n",
    "print()\n",
    "\n",
    "f1_score_train_nb = metrics.f1_score(y_train,y_train_nb)\n",
    "f1_score_test_nb = metrics.f1_score(y_test,y_test_nb)\n",
    "print(\"Naive Bayes Classifier : f1_score on training Data: {:.3f}\".format(f1_score_train_nb))\n",
    "print(\"Naive Bayes Classifier : f1_score on test Data: {:.3f}\".format(f1_score_test_nb))\n",
    "print()\n",
    "\n",
    "recall_score_train_nb = metrics.recall_score(y_train,y_train_nb)\n",
    "recall_score_test_nb = metrics.recall_score(y_test,y_test_nb)\n",
    "print(\"Naive Bayes Classifier : Recall on training Data: {:.3f}\".format(recall_score_train_nb))\n",
    "print(\"Naive Bayes Classifier : Recall on test Data: {:.3f}\".format(recall_score_test_nb))\n",
    "print()\n",
    "\n",
    "precision_score_train_nb = metrics.precision_score(y_train,y_train_nb)\n",
    "precision_score_test_nb = metrics.precision_score(y_test,y_test_nb)\n",
    "print(\"Naive Bayes Classifier : precision on training Data: {:.3f}\".format(precision_score_train_nb))\n",
    "print(\"Naive Bayes Classifier : precision on test Data: {:.3f}\".format(precision_score_test_nb))"
   ]
  },
  {
   "cell_type": "code",
   "execution_count": 26,
   "id": "cb7d8f0b",
   "metadata": {},
   "outputs": [
    {
     "name": "stdout",
     "output_type": "stream",
     "text": [
      "              precision    recall  f1-score   support\n",
      "\n",
      "          -1       0.97      0.94      0.96       976\n",
      "           1       0.96      0.98      0.97      1235\n",
      "\n",
      "    accuracy                           0.96      2211\n",
      "   macro avg       0.97      0.96      0.96      2211\n",
      "weighted avg       0.96      0.96      0.96      2211\n",
      "\n"
     ]
    }
   ],
   "source": [
    "#computing the classification report of the model\n",
    "\n",
    "print(metrics.classification_report(y_test, y_test_svc))"
   ]
  },
  {
   "cell_type": "code",
   "execution_count": 27,
   "id": "51080f01",
   "metadata": {},
   "outputs": [],
   "source": [
    "#storing the results. The below mentioned order of parameter passing is important.\n",
    "\n",
    "storeResults('Naive Bayes Classifier',acc_test_nb,f1_score_test_nb,\n",
    "             recall_score_train_nb,precision_score_train_nb)"
   ]
  },
  {
   "cell_type": "markdown",
   "id": "bffea1bb",
   "metadata": {},
   "source": [
    "## 5.5. Decision Trees : Classifier"
   ]
  },
  {
   "cell_type": "code",
   "execution_count": 28,
   "id": "31379c27",
   "metadata": {},
   "outputs": [
    {
     "data": {
      "text/html": [
       "<style>#sk-container-id-5 {color: black;background-color: white;}#sk-container-id-5 pre{padding: 0;}#sk-container-id-5 div.sk-toggleable {background-color: white;}#sk-container-id-5 label.sk-toggleable__label {cursor: pointer;display: block;width: 100%;margin-bottom: 0;padding: 0.3em;box-sizing: border-box;text-align: center;}#sk-container-id-5 label.sk-toggleable__label-arrow:before {content: \"▸\";float: left;margin-right: 0.25em;color: #696969;}#sk-container-id-5 label.sk-toggleable__label-arrow:hover:before {color: black;}#sk-container-id-5 div.sk-estimator:hover label.sk-toggleable__label-arrow:before {color: black;}#sk-container-id-5 div.sk-toggleable__content {max-height: 0;max-width: 0;overflow: hidden;text-align: left;background-color: #f0f8ff;}#sk-container-id-5 div.sk-toggleable__content pre {margin: 0.2em;color: black;border-radius: 0.25em;background-color: #f0f8ff;}#sk-container-id-5 input.sk-toggleable__control:checked~div.sk-toggleable__content {max-height: 200px;max-width: 100%;overflow: auto;}#sk-container-id-5 input.sk-toggleable__control:checked~label.sk-toggleable__label-arrow:before {content: \"▾\";}#sk-container-id-5 div.sk-estimator input.sk-toggleable__control:checked~label.sk-toggleable__label {background-color: #d4ebff;}#sk-container-id-5 div.sk-label input.sk-toggleable__control:checked~label.sk-toggleable__label {background-color: #d4ebff;}#sk-container-id-5 input.sk-hidden--visually {border: 0;clip: rect(1px 1px 1px 1px);clip: rect(1px, 1px, 1px, 1px);height: 1px;margin: -1px;overflow: hidden;padding: 0;position: absolute;width: 1px;}#sk-container-id-5 div.sk-estimator {font-family: monospace;background-color: #f0f8ff;border: 1px dotted black;border-radius: 0.25em;box-sizing: border-box;margin-bottom: 0.5em;}#sk-container-id-5 div.sk-estimator:hover {background-color: #d4ebff;}#sk-container-id-5 div.sk-parallel-item::after {content: \"\";width: 100%;border-bottom: 1px solid gray;flex-grow: 1;}#sk-container-id-5 div.sk-label:hover label.sk-toggleable__label {background-color: #d4ebff;}#sk-container-id-5 div.sk-serial::before {content: \"\";position: absolute;border-left: 1px solid gray;box-sizing: border-box;top: 0;bottom: 0;left: 50%;z-index: 0;}#sk-container-id-5 div.sk-serial {display: flex;flex-direction: column;align-items: center;background-color: white;padding-right: 0.2em;padding-left: 0.2em;position: relative;}#sk-container-id-5 div.sk-item {position: relative;z-index: 1;}#sk-container-id-5 div.sk-parallel {display: flex;align-items: stretch;justify-content: center;background-color: white;position: relative;}#sk-container-id-5 div.sk-item::before, #sk-container-id-5 div.sk-parallel-item::before {content: \"\";position: absolute;border-left: 1px solid gray;box-sizing: border-box;top: 0;bottom: 0;left: 50%;z-index: -1;}#sk-container-id-5 div.sk-parallel-item {display: flex;flex-direction: column;z-index: 1;position: relative;background-color: white;}#sk-container-id-5 div.sk-parallel-item:first-child::after {align-self: flex-end;width: 50%;}#sk-container-id-5 div.sk-parallel-item:last-child::after {align-self: flex-start;width: 50%;}#sk-container-id-5 div.sk-parallel-item:only-child::after {width: 0;}#sk-container-id-5 div.sk-dashed-wrapped {border: 1px dashed gray;margin: 0 0.4em 0.5em 0.4em;box-sizing: border-box;padding-bottom: 0.4em;background-color: white;}#sk-container-id-5 div.sk-label label {font-family: monospace;font-weight: bold;display: inline-block;line-height: 1.2em;}#sk-container-id-5 div.sk-label-container {text-align: center;}#sk-container-id-5 div.sk-container {/* jupyter's `normalize.less` sets `[hidden] { display: none; }` but bootstrap.min.css set `[hidden] { display: none !important; }` so we also need the `!important` here to be able to override the default hidden behavior on the sphinx rendered scikit-learn.org. See: https://github.com/scikit-learn/scikit-learn/issues/21755 */display: inline-block !important;position: relative;}#sk-container-id-5 div.sk-text-repr-fallback {display: none;}</style><div id=\"sk-container-id-5\" class=\"sk-top-container\"><div class=\"sk-text-repr-fallback\"><pre>DecisionTreeClassifier(max_depth=30)</pre><b>In a Jupyter environment, please rerun this cell to show the HTML representation or trust the notebook. <br />On GitHub, the HTML representation is unable to render, please try loading this page with nbviewer.org.</b></div><div class=\"sk-container\" hidden><div class=\"sk-item\"><div class=\"sk-estimator sk-toggleable\"><input class=\"sk-toggleable__control sk-hidden--visually\" id=\"sk-estimator-id-7\" type=\"checkbox\" checked><label for=\"sk-estimator-id-7\" class=\"sk-toggleable__label sk-toggleable__label-arrow\">DecisionTreeClassifier</label><div class=\"sk-toggleable__content\"><pre>DecisionTreeClassifier(max_depth=30)</pre></div></div></div></div></div>"
      ],
      "text/plain": [
       "DecisionTreeClassifier(max_depth=30)"
      ]
     },
     "execution_count": 28,
     "metadata": {},
     "output_type": "execute_result"
    }
   ],
   "source": [
    "# Decision Tree Classifier model \n",
    "from sklearn.tree import DecisionTreeClassifier\n",
    "\n",
    "# instantiate the model \n",
    "tree = DecisionTreeClassifier(max_depth=30)\n",
    "\n",
    "# fit the model \n",
    "tree.fit(X_train, y_train)"
   ]
  },
  {
   "cell_type": "code",
   "execution_count": 29,
   "id": "6c19c3ec",
   "metadata": {},
   "outputs": [],
   "source": [
    "#predicting the target value from the model for the samples\n",
    "\n",
    "y_train_tree = tree.predict(X_train)\n",
    "y_test_tree = tree.predict(X_test)"
   ]
  },
  {
   "cell_type": "code",
   "execution_count": 30,
   "id": "b577d598",
   "metadata": {},
   "outputs": [
    {
     "name": "stdout",
     "output_type": "stream",
     "text": [
      "Decision Tree : Accuracy on training Data: 0.991\n",
      "Decision Tree : Accuracy on test Data: 0.960\n",
      "\n",
      "Decision Tree : f1_score on training Data: 0.992\n",
      "Decision Tree : f1_score on test Data: 0.964\n",
      "\n",
      "Decision Tree : Recall on training Data: 0.991\n",
      "Decision Tree : Recall on test Data: 0.965\n",
      "\n",
      "Decision Tree : precision on training Data: 0.993\n",
      "Decision Tree : precision on test Data: 0.964\n"
     ]
    }
   ],
   "source": [
    "#computing the accuracy, f1_score, Recall, precision of the model performance\n",
    "\n",
    "acc_train_tree = metrics.accuracy_score(y_train,y_train_tree)\n",
    "acc_test_tree = metrics.accuracy_score(y_test,y_test_tree)\n",
    "print(\"Decision Tree : Accuracy on training Data: {:.3f}\".format(acc_train_tree))\n",
    "print(\"Decision Tree : Accuracy on test Data: {:.3f}\".format(acc_test_tree))\n",
    "print()\n",
    "\n",
    "f1_score_train_tree = metrics.f1_score(y_train,y_train_tree)\n",
    "f1_score_test_tree = metrics.f1_score(y_test,y_test_tree)\n",
    "print(\"Decision Tree : f1_score on training Data: {:.3f}\".format(f1_score_train_tree))\n",
    "print(\"Decision Tree : f1_score on test Data: {:.3f}\".format(f1_score_test_tree))\n",
    "print()\n",
    "\n",
    "recall_score_train_tree = metrics.recall_score(y_train,y_train_tree)\n",
    "recall_score_test_tree = metrics.recall_score(y_test,y_test_tree)\n",
    "print(\"Decision Tree : Recall on training Data: {:.3f}\".format(recall_score_train_tree))\n",
    "print(\"Decision Tree : Recall on test Data: {:.3f}\".format(recall_score_test_tree))\n",
    "print()\n",
    "\n",
    "precision_score_train_tree = metrics.precision_score(y_train,y_train_tree)\n",
    "precision_score_test_tree = metrics.precision_score(y_test,y_test_tree)\n",
    "print(\"Decision Tree : precision on training Data: {:.3f}\".format(precision_score_train_tree))\n",
    "print(\"Decision Tree : precision on test Data: {:.3f}\".format(precision_score_test_tree))"
   ]
  },
  {
   "cell_type": "code",
   "execution_count": 31,
   "id": "87bcb8b6",
   "metadata": {},
   "outputs": [
    {
     "name": "stdout",
     "output_type": "stream",
     "text": [
      "              precision    recall  f1-score   support\n",
      "\n",
      "          -1       0.96      0.95      0.95       976\n",
      "           1       0.96      0.97      0.96      1235\n",
      "\n",
      "    accuracy                           0.96      2211\n",
      "   macro avg       0.96      0.96      0.96      2211\n",
      "weighted avg       0.96      0.96      0.96      2211\n",
      "\n"
     ]
    }
   ],
   "source": [
    "#computing the classification report of the model\n",
    "\n",
    "print(metrics.classification_report(y_test, y_test_tree))"
   ]
  },
  {
   "cell_type": "code",
   "execution_count": 32,
   "id": "b0fdcdd9",
   "metadata": {},
   "outputs": [
    {
     "data": {
      "application/vnd.plotly.v1+json": {
       "config": {
        "plotlyServerURL": "https://plot.ly"
       },
       "data": [
        {
         "hovertemplate": "Accuracy Type=Training Accuracy<br>Max Depth=%{x}<br>Accuracy=%{y}<extra></extra>",
         "legendgroup": "Training Accuracy",
         "line": {
          "color": "#636efa",
          "dash": "solid"
         },
         "marker": {
          "symbol": "circle"
         },
         "mode": "lines",
         "name": "Training Accuracy",
         "orientation": "v",
         "showlegend": true,
         "type": "scatter",
         "x": [
          1,
          2,
          3,
          4,
          5,
          6,
          7,
          8,
          9,
          10,
          11,
          12,
          13,
          14,
          15,
          16,
          17,
          18,
          19,
          20,
          21,
          22,
          23,
          24,
          25,
          26,
          27,
          28,
          29
         ],
         "xaxis": "x",
         "y": [
          0.8874816238832975,
          0.9046703607373063,
          0.9070451204342418,
          0.9165441592219835,
          0.9215198462060387,
          0.9315843039692412,
          0.9387085830600475,
          0.9444758566097479,
          0.9531833088318444,
          0.9592898337668212,
          0.9650571073165215,
          0.9692412077349316,
          0.9748953974895398,
          0.9791925817030419,
          0.9839421010969128,
          0.9863168607938483,
          0.9894832070564288,
          0.9901617098269818,
          0.9910663801877191,
          0.9910663801877191,
          0.9910663801877191,
          0.9910663801877191,
          0.9910663801877191,
          0.9910663801877191,
          0.9910663801877191,
          0.9910663801877191,
          0.9910663801877191,
          0.9910663801877191,
          0.9910663801877191
         ],
         "yaxis": "y"
        },
        {
         "hovertemplate": "Accuracy Type=Test Accuracy<br>Max Depth=%{x}<br>Accuracy=%{y}<extra></extra>",
         "legendgroup": "Test Accuracy",
         "line": {
          "color": "#EF553B",
          "dash": "solid"
         },
         "marker": {
          "symbol": "circle"
         },
         "mode": "lines",
         "name": "Test Accuracy",
         "orientation": "v",
         "showlegend": true,
         "type": "scatter",
         "x": [
          1,
          2,
          3,
          4,
          5,
          6,
          7,
          8,
          9,
          10,
          11,
          12,
          13,
          14,
          15,
          16,
          17,
          18,
          19,
          20,
          21,
          22,
          23,
          24,
          25,
          26,
          27,
          28,
          29
         ],
         "xaxis": "x",
         "y": [
          0.8946178199909544,
          0.9127091813658977,
          0.9099954771596562,
          0.9231117141564903,
          0.9271822704658526,
          0.9344188150158299,
          0.9371325192220714,
          0.9434644957033017,
          0.9434644957033017,
          0.9516056083220262,
          0.9547715965626413,
          0.9538670284938942,
          0.9543193125282677,
          0.9543193125282677,
          0.9565807327001357,
          0.9574853007688828,
          0.95838986883763,
          0.9615558570782451,
          0.9574853007688828,
          0.9597467209407508,
          0.9592944369063772,
          0.9574853007688828,
          0.9597467209407508,
          0.9597467209407508,
          0.9592944369063772,
          0.9615558570782451,
          0.9606512890094979,
          0.9601990049751243,
          0.9592944369063772
         ],
         "yaxis": "y"
        }
       ],
       "layout": {
        "legend": {
         "title": {
          "text": "Accuracy Type"
         },
         "tracegroupgap": 0
        },
        "template": {
         "data": {
          "bar": [
           {
            "error_x": {
             "color": "#2a3f5f"
            },
            "error_y": {
             "color": "#2a3f5f"
            },
            "marker": {
             "line": {
              "color": "#E5ECF6",
              "width": 0.5
             },
             "pattern": {
              "fillmode": "overlay",
              "size": 10,
              "solidity": 0.2
             }
            },
            "type": "bar"
           }
          ],
          "barpolar": [
           {
            "marker": {
             "line": {
              "color": "#E5ECF6",
              "width": 0.5
             },
             "pattern": {
              "fillmode": "overlay",
              "size": 10,
              "solidity": 0.2
             }
            },
            "type": "barpolar"
           }
          ],
          "carpet": [
           {
            "aaxis": {
             "endlinecolor": "#2a3f5f",
             "gridcolor": "white",
             "linecolor": "white",
             "minorgridcolor": "white",
             "startlinecolor": "#2a3f5f"
            },
            "baxis": {
             "endlinecolor": "#2a3f5f",
             "gridcolor": "white",
             "linecolor": "white",
             "minorgridcolor": "white",
             "startlinecolor": "#2a3f5f"
            },
            "type": "carpet"
           }
          ],
          "choropleth": [
           {
            "colorbar": {
             "outlinewidth": 0,
             "ticks": ""
            },
            "type": "choropleth"
           }
          ],
          "contour": [
           {
            "colorbar": {
             "outlinewidth": 0,
             "ticks": ""
            },
            "colorscale": [
             [
              0,
              "#0d0887"
             ],
             [
              0.1111111111111111,
              "#46039f"
             ],
             [
              0.2222222222222222,
              "#7201a8"
             ],
             [
              0.3333333333333333,
              "#9c179e"
             ],
             [
              0.4444444444444444,
              "#bd3786"
             ],
             [
              0.5555555555555556,
              "#d8576b"
             ],
             [
              0.6666666666666666,
              "#ed7953"
             ],
             [
              0.7777777777777778,
              "#fb9f3a"
             ],
             [
              0.8888888888888888,
              "#fdca26"
             ],
             [
              1,
              "#f0f921"
             ]
            ],
            "type": "contour"
           }
          ],
          "contourcarpet": [
           {
            "colorbar": {
             "outlinewidth": 0,
             "ticks": ""
            },
            "type": "contourcarpet"
           }
          ],
          "heatmap": [
           {
            "colorbar": {
             "outlinewidth": 0,
             "ticks": ""
            },
            "colorscale": [
             [
              0,
              "#0d0887"
             ],
             [
              0.1111111111111111,
              "#46039f"
             ],
             [
              0.2222222222222222,
              "#7201a8"
             ],
             [
              0.3333333333333333,
              "#9c179e"
             ],
             [
              0.4444444444444444,
              "#bd3786"
             ],
             [
              0.5555555555555556,
              "#d8576b"
             ],
             [
              0.6666666666666666,
              "#ed7953"
             ],
             [
              0.7777777777777778,
              "#fb9f3a"
             ],
             [
              0.8888888888888888,
              "#fdca26"
             ],
             [
              1,
              "#f0f921"
             ]
            ],
            "type": "heatmap"
           }
          ],
          "heatmapgl": [
           {
            "colorbar": {
             "outlinewidth": 0,
             "ticks": ""
            },
            "colorscale": [
             [
              0,
              "#0d0887"
             ],
             [
              0.1111111111111111,
              "#46039f"
             ],
             [
              0.2222222222222222,
              "#7201a8"
             ],
             [
              0.3333333333333333,
              "#9c179e"
             ],
             [
              0.4444444444444444,
              "#bd3786"
             ],
             [
              0.5555555555555556,
              "#d8576b"
             ],
             [
              0.6666666666666666,
              "#ed7953"
             ],
             [
              0.7777777777777778,
              "#fb9f3a"
             ],
             [
              0.8888888888888888,
              "#fdca26"
             ],
             [
              1,
              "#f0f921"
             ]
            ],
            "type": "heatmapgl"
           }
          ],
          "histogram": [
           {
            "marker": {
             "pattern": {
              "fillmode": "overlay",
              "size": 10,
              "solidity": 0.2
             }
            },
            "type": "histogram"
           }
          ],
          "histogram2d": [
           {
            "colorbar": {
             "outlinewidth": 0,
             "ticks": ""
            },
            "colorscale": [
             [
              0,
              "#0d0887"
             ],
             [
              0.1111111111111111,
              "#46039f"
             ],
             [
              0.2222222222222222,
              "#7201a8"
             ],
             [
              0.3333333333333333,
              "#9c179e"
             ],
             [
              0.4444444444444444,
              "#bd3786"
             ],
             [
              0.5555555555555556,
              "#d8576b"
             ],
             [
              0.6666666666666666,
              "#ed7953"
             ],
             [
              0.7777777777777778,
              "#fb9f3a"
             ],
             [
              0.8888888888888888,
              "#fdca26"
             ],
             [
              1,
              "#f0f921"
             ]
            ],
            "type": "histogram2d"
           }
          ],
          "histogram2dcontour": [
           {
            "colorbar": {
             "outlinewidth": 0,
             "ticks": ""
            },
            "colorscale": [
             [
              0,
              "#0d0887"
             ],
             [
              0.1111111111111111,
              "#46039f"
             ],
             [
              0.2222222222222222,
              "#7201a8"
             ],
             [
              0.3333333333333333,
              "#9c179e"
             ],
             [
              0.4444444444444444,
              "#bd3786"
             ],
             [
              0.5555555555555556,
              "#d8576b"
             ],
             [
              0.6666666666666666,
              "#ed7953"
             ],
             [
              0.7777777777777778,
              "#fb9f3a"
             ],
             [
              0.8888888888888888,
              "#fdca26"
             ],
             [
              1,
              "#f0f921"
             ]
            ],
            "type": "histogram2dcontour"
           }
          ],
          "mesh3d": [
           {
            "colorbar": {
             "outlinewidth": 0,
             "ticks": ""
            },
            "type": "mesh3d"
           }
          ],
          "parcoords": [
           {
            "line": {
             "colorbar": {
              "outlinewidth": 0,
              "ticks": ""
             }
            },
            "type": "parcoords"
           }
          ],
          "pie": [
           {
            "automargin": true,
            "type": "pie"
           }
          ],
          "scatter": [
           {
            "fillpattern": {
             "fillmode": "overlay",
             "size": 10,
             "solidity": 0.2
            },
            "type": "scatter"
           }
          ],
          "scatter3d": [
           {
            "line": {
             "colorbar": {
              "outlinewidth": 0,
              "ticks": ""
             }
            },
            "marker": {
             "colorbar": {
              "outlinewidth": 0,
              "ticks": ""
             }
            },
            "type": "scatter3d"
           }
          ],
          "scattercarpet": [
           {
            "marker": {
             "colorbar": {
              "outlinewidth": 0,
              "ticks": ""
             }
            },
            "type": "scattercarpet"
           }
          ],
          "scattergeo": [
           {
            "marker": {
             "colorbar": {
              "outlinewidth": 0,
              "ticks": ""
             }
            },
            "type": "scattergeo"
           }
          ],
          "scattergl": [
           {
            "marker": {
             "colorbar": {
              "outlinewidth": 0,
              "ticks": ""
             }
            },
            "type": "scattergl"
           }
          ],
          "scattermapbox": [
           {
            "marker": {
             "colorbar": {
              "outlinewidth": 0,
              "ticks": ""
             }
            },
            "type": "scattermapbox"
           }
          ],
          "scatterpolar": [
           {
            "marker": {
             "colorbar": {
              "outlinewidth": 0,
              "ticks": ""
             }
            },
            "type": "scatterpolar"
           }
          ],
          "scatterpolargl": [
           {
            "marker": {
             "colorbar": {
              "outlinewidth": 0,
              "ticks": ""
             }
            },
            "type": "scatterpolargl"
           }
          ],
          "scatterternary": [
           {
            "marker": {
             "colorbar": {
              "outlinewidth": 0,
              "ticks": ""
             }
            },
            "type": "scatterternary"
           }
          ],
          "surface": [
           {
            "colorbar": {
             "outlinewidth": 0,
             "ticks": ""
            },
            "colorscale": [
             [
              0,
              "#0d0887"
             ],
             [
              0.1111111111111111,
              "#46039f"
             ],
             [
              0.2222222222222222,
              "#7201a8"
             ],
             [
              0.3333333333333333,
              "#9c179e"
             ],
             [
              0.4444444444444444,
              "#bd3786"
             ],
             [
              0.5555555555555556,
              "#d8576b"
             ],
             [
              0.6666666666666666,
              "#ed7953"
             ],
             [
              0.7777777777777778,
              "#fb9f3a"
             ],
             [
              0.8888888888888888,
              "#fdca26"
             ],
             [
              1,
              "#f0f921"
             ]
            ],
            "type": "surface"
           }
          ],
          "table": [
           {
            "cells": {
             "fill": {
              "color": "#EBF0F8"
             },
             "line": {
              "color": "white"
             }
            },
            "header": {
             "fill": {
              "color": "#C8D4E3"
             },
             "line": {
              "color": "white"
             }
            },
            "type": "table"
           }
          ]
         },
         "layout": {
          "annotationdefaults": {
           "arrowcolor": "#2a3f5f",
           "arrowhead": 0,
           "arrowwidth": 1
          },
          "autotypenumbers": "strict",
          "coloraxis": {
           "colorbar": {
            "outlinewidth": 0,
            "ticks": ""
           }
          },
          "colorscale": {
           "diverging": [
            [
             0,
             "#8e0152"
            ],
            [
             0.1,
             "#c51b7d"
            ],
            [
             0.2,
             "#de77ae"
            ],
            [
             0.3,
             "#f1b6da"
            ],
            [
             0.4,
             "#fde0ef"
            ],
            [
             0.5,
             "#f7f7f7"
            ],
            [
             0.6,
             "#e6f5d0"
            ],
            [
             0.7,
             "#b8e186"
            ],
            [
             0.8,
             "#7fbc41"
            ],
            [
             0.9,
             "#4d9221"
            ],
            [
             1,
             "#276419"
            ]
           ],
           "sequential": [
            [
             0,
             "#0d0887"
            ],
            [
             0.1111111111111111,
             "#46039f"
            ],
            [
             0.2222222222222222,
             "#7201a8"
            ],
            [
             0.3333333333333333,
             "#9c179e"
            ],
            [
             0.4444444444444444,
             "#bd3786"
            ],
            [
             0.5555555555555556,
             "#d8576b"
            ],
            [
             0.6666666666666666,
             "#ed7953"
            ],
            [
             0.7777777777777778,
             "#fb9f3a"
            ],
            [
             0.8888888888888888,
             "#fdca26"
            ],
            [
             1,
             "#f0f921"
            ]
           ],
           "sequentialminus": [
            [
             0,
             "#0d0887"
            ],
            [
             0.1111111111111111,
             "#46039f"
            ],
            [
             0.2222222222222222,
             "#7201a8"
            ],
            [
             0.3333333333333333,
             "#9c179e"
            ],
            [
             0.4444444444444444,
             "#bd3786"
            ],
            [
             0.5555555555555556,
             "#d8576b"
            ],
            [
             0.6666666666666666,
             "#ed7953"
            ],
            [
             0.7777777777777778,
             "#fb9f3a"
            ],
            [
             0.8888888888888888,
             "#fdca26"
            ],
            [
             1,
             "#f0f921"
            ]
           ]
          },
          "colorway": [
           "#636efa",
           "#EF553B",
           "#00cc96",
           "#ab63fa",
           "#FFA15A",
           "#19d3f3",
           "#FF6692",
           "#B6E880",
           "#FF97FF",
           "#FECB52"
          ],
          "font": {
           "color": "#2a3f5f"
          },
          "geo": {
           "bgcolor": "white",
           "lakecolor": "white",
           "landcolor": "#E5ECF6",
           "showlakes": true,
           "showland": true,
           "subunitcolor": "white"
          },
          "hoverlabel": {
           "align": "left"
          },
          "hovermode": "closest",
          "mapbox": {
           "style": "light"
          },
          "paper_bgcolor": "white",
          "plot_bgcolor": "#E5ECF6",
          "polar": {
           "angularaxis": {
            "gridcolor": "white",
            "linecolor": "white",
            "ticks": ""
           },
           "bgcolor": "#E5ECF6",
           "radialaxis": {
            "gridcolor": "white",
            "linecolor": "white",
            "ticks": ""
           }
          },
          "scene": {
           "xaxis": {
            "backgroundcolor": "#E5ECF6",
            "gridcolor": "white",
            "gridwidth": 2,
            "linecolor": "white",
            "showbackground": true,
            "ticks": "",
            "zerolinecolor": "white"
           },
           "yaxis": {
            "backgroundcolor": "#E5ECF6",
            "gridcolor": "white",
            "gridwidth": 2,
            "linecolor": "white",
            "showbackground": true,
            "ticks": "",
            "zerolinecolor": "white"
           },
           "zaxis": {
            "backgroundcolor": "#E5ECF6",
            "gridcolor": "white",
            "gridwidth": 2,
            "linecolor": "white",
            "showbackground": true,
            "ticks": "",
            "zerolinecolor": "white"
           }
          },
          "shapedefaults": {
           "line": {
            "color": "#2a3f5f"
           }
          },
          "ternary": {
           "aaxis": {
            "gridcolor": "white",
            "linecolor": "white",
            "ticks": ""
           },
           "baxis": {
            "gridcolor": "white",
            "linecolor": "white",
            "ticks": ""
           },
           "bgcolor": "#E5ECF6",
           "caxis": {
            "gridcolor": "white",
            "linecolor": "white",
            "ticks": ""
           }
          },
          "title": {
           "x": 0.05
          },
          "xaxis": {
           "automargin": true,
           "gridcolor": "white",
           "linecolor": "white",
           "ticks": "",
           "title": {
            "standoff": 15
           },
           "zerolinecolor": "white",
           "zerolinewidth": 2
          },
          "yaxis": {
           "automargin": true,
           "gridcolor": "white",
           "linecolor": "white",
           "ticks": "",
           "title": {
            "standoff": 15
           },
           "zerolinecolor": "white",
           "zerolinewidth": 2
          }
         }
        },
        "title": {
         "text": "Training & Testing Accuracy vs max_depth"
        },
        "xaxis": {
         "anchor": "y",
         "domain": [
          0,
          1
         ],
         "title": {
          "text": "Max Depth"
         }
        },
        "yaxis": {
         "anchor": "x",
         "domain": [
          0,
          1
         ],
         "title": {
          "text": "Accuracy"
         }
        }
       }
      }
     },
     "metadata": {},
     "output_type": "display_data"
    }
   ],
   "source": [
    "training_accuracy = []\n",
    "test_accuracy = []\n",
    "# try max_depth from 1 to 30\n",
    "depth = range(1,30)\n",
    "for n in depth:\n",
    "    tree_test = DecisionTreeClassifier(max_depth=n)\n",
    "\n",
    "    tree_test.fit(X_train, y_train)\n",
    "    # record training set accuracy\n",
    "    training_accuracy.append(tree_test.score(X_train, y_train))\n",
    "    # record generalization accuracy\n",
    "    test_accuracy.append(tree_test.score(X_test, y_test))\n",
    "    \n",
    "\n",
    "#plotting the training & testing accuracy for max_depth from 1 to 30\n",
    "# plt.plot(depth, training_accuracy, label=\"training accuracy\")\n",
    "# plt.plot(depth, test_accuracy, label=\"test accuracy\")\n",
    "# plt.ylabel(\"Accuracy\")  \n",
    "# plt.xlabel(\"max_depth\")\n",
    "# plt.legend();\n",
    "\n",
    "# using plotly express to plot the training & testing accuracy for max_depth from 1 to 30\n",
    "# Create a DataFrame to hold training and testing accuracy values\n",
    "accuracy_df = pd.DataFrame({'max_depth': depth, 'Training Accuracy': training_accuracy, 'Test Accuracy': test_accuracy})\n",
    "\n",
    "# Create an interactive line chart using Plotly Express\n",
    "fig = px.line(accuracy_df, x='max_depth', y=['Training Accuracy', 'Test Accuracy'],\n",
    "              title=\"Training & Testing Accuracy vs max_depth\",\n",
    "              labels={'max_depth': 'Max Depth', 'value': 'Accuracy', 'variable': 'Accuracy Type'})\n",
    "\n",
    "# Show the interactive line chart\n",
    "fig.show()"
   ]
  },
  {
   "cell_type": "code",
   "execution_count": 33,
   "id": "0f3b12b8",
   "metadata": {},
   "outputs": [],
   "source": [
    "#storing the results. The below mentioned order of parameter passing is important.\n",
    "\n",
    "storeResults('Decision Tree',acc_test_tree,f1_score_test_tree,\n",
    "             recall_score_train_tree,precision_score_train_tree)"
   ]
  },
  {
   "cell_type": "markdown",
   "id": "02637ba8",
   "metadata": {},
   "source": [
    "## 5.6. Random Forest : Classifier"
   ]
  },
  {
   "cell_type": "code",
   "execution_count": 34,
   "id": "49272c25",
   "metadata": {},
   "outputs": [
    {
     "data": {
      "text/html": [
       "<style>#sk-container-id-6 {color: black;background-color: white;}#sk-container-id-6 pre{padding: 0;}#sk-container-id-6 div.sk-toggleable {background-color: white;}#sk-container-id-6 label.sk-toggleable__label {cursor: pointer;display: block;width: 100%;margin-bottom: 0;padding: 0.3em;box-sizing: border-box;text-align: center;}#sk-container-id-6 label.sk-toggleable__label-arrow:before {content: \"▸\";float: left;margin-right: 0.25em;color: #696969;}#sk-container-id-6 label.sk-toggleable__label-arrow:hover:before {color: black;}#sk-container-id-6 div.sk-estimator:hover label.sk-toggleable__label-arrow:before {color: black;}#sk-container-id-6 div.sk-toggleable__content {max-height: 0;max-width: 0;overflow: hidden;text-align: left;background-color: #f0f8ff;}#sk-container-id-6 div.sk-toggleable__content pre {margin: 0.2em;color: black;border-radius: 0.25em;background-color: #f0f8ff;}#sk-container-id-6 input.sk-toggleable__control:checked~div.sk-toggleable__content {max-height: 200px;max-width: 100%;overflow: auto;}#sk-container-id-6 input.sk-toggleable__control:checked~label.sk-toggleable__label-arrow:before {content: \"▾\";}#sk-container-id-6 div.sk-estimator input.sk-toggleable__control:checked~label.sk-toggleable__label {background-color: #d4ebff;}#sk-container-id-6 div.sk-label input.sk-toggleable__control:checked~label.sk-toggleable__label {background-color: #d4ebff;}#sk-container-id-6 input.sk-hidden--visually {border: 0;clip: rect(1px 1px 1px 1px);clip: rect(1px, 1px, 1px, 1px);height: 1px;margin: -1px;overflow: hidden;padding: 0;position: absolute;width: 1px;}#sk-container-id-6 div.sk-estimator {font-family: monospace;background-color: #f0f8ff;border: 1px dotted black;border-radius: 0.25em;box-sizing: border-box;margin-bottom: 0.5em;}#sk-container-id-6 div.sk-estimator:hover {background-color: #d4ebff;}#sk-container-id-6 div.sk-parallel-item::after {content: \"\";width: 100%;border-bottom: 1px solid gray;flex-grow: 1;}#sk-container-id-6 div.sk-label:hover label.sk-toggleable__label {background-color: #d4ebff;}#sk-container-id-6 div.sk-serial::before {content: \"\";position: absolute;border-left: 1px solid gray;box-sizing: border-box;top: 0;bottom: 0;left: 50%;z-index: 0;}#sk-container-id-6 div.sk-serial {display: flex;flex-direction: column;align-items: center;background-color: white;padding-right: 0.2em;padding-left: 0.2em;position: relative;}#sk-container-id-6 div.sk-item {position: relative;z-index: 1;}#sk-container-id-6 div.sk-parallel {display: flex;align-items: stretch;justify-content: center;background-color: white;position: relative;}#sk-container-id-6 div.sk-item::before, #sk-container-id-6 div.sk-parallel-item::before {content: \"\";position: absolute;border-left: 1px solid gray;box-sizing: border-box;top: 0;bottom: 0;left: 50%;z-index: -1;}#sk-container-id-6 div.sk-parallel-item {display: flex;flex-direction: column;z-index: 1;position: relative;background-color: white;}#sk-container-id-6 div.sk-parallel-item:first-child::after {align-self: flex-end;width: 50%;}#sk-container-id-6 div.sk-parallel-item:last-child::after {align-self: flex-start;width: 50%;}#sk-container-id-6 div.sk-parallel-item:only-child::after {width: 0;}#sk-container-id-6 div.sk-dashed-wrapped {border: 1px dashed gray;margin: 0 0.4em 0.5em 0.4em;box-sizing: border-box;padding-bottom: 0.4em;background-color: white;}#sk-container-id-6 div.sk-label label {font-family: monospace;font-weight: bold;display: inline-block;line-height: 1.2em;}#sk-container-id-6 div.sk-label-container {text-align: center;}#sk-container-id-6 div.sk-container {/* jupyter's `normalize.less` sets `[hidden] { display: none; }` but bootstrap.min.css set `[hidden] { display: none !important; }` so we also need the `!important` here to be able to override the default hidden behavior on the sphinx rendered scikit-learn.org. See: https://github.com/scikit-learn/scikit-learn/issues/21755 */display: inline-block !important;position: relative;}#sk-container-id-6 div.sk-text-repr-fallback {display: none;}</style><div id=\"sk-container-id-6\" class=\"sk-top-container\"><div class=\"sk-text-repr-fallback\"><pre>RandomForestClassifier(n_estimators=10)</pre><b>In a Jupyter environment, please rerun this cell to show the HTML representation or trust the notebook. <br />On GitHub, the HTML representation is unable to render, please try loading this page with nbviewer.org.</b></div><div class=\"sk-container\" hidden><div class=\"sk-item\"><div class=\"sk-estimator sk-toggleable\"><input class=\"sk-toggleable__control sk-hidden--visually\" id=\"sk-estimator-id-8\" type=\"checkbox\" checked><label for=\"sk-estimator-id-8\" class=\"sk-toggleable__label sk-toggleable__label-arrow\">RandomForestClassifier</label><div class=\"sk-toggleable__content\"><pre>RandomForestClassifier(n_estimators=10)</pre></div></div></div></div></div>"
      ],
      "text/plain": [
       "RandomForestClassifier(n_estimators=10)"
      ]
     },
     "execution_count": 34,
     "metadata": {},
     "output_type": "execute_result"
    }
   ],
   "source": [
    "# Random Forest Classifier Model\n",
    "from sklearn.ensemble import RandomForestClassifier\n",
    "\n",
    "# instantiate the model\n",
    "forest = RandomForestClassifier(n_estimators=10)\n",
    "\n",
    "# fit the model \n",
    "forest.fit(X_train,y_train)"
   ]
  },
  {
   "cell_type": "code",
   "execution_count": 35,
   "id": "82c1f8b7",
   "metadata": {},
   "outputs": [],
   "source": [
    "#predicting the target value from the model for the samples\n",
    "y_train_forest = forest.predict(X_train)\n",
    "y_test_forest = forest.predict(X_test)"
   ]
  },
  {
   "cell_type": "code",
   "execution_count": 36,
   "id": "a41bd7f0",
   "metadata": {},
   "outputs": [
    {
     "name": "stdout",
     "output_type": "stream",
     "text": [
      "Random Forest : Accuracy on training Data: 0.990\n",
      "Random Forest : Accuracy on test Data: 0.969\n",
      "\n",
      "Random Forest : f1_score on training Data: 0.991\n",
      "Random Forest : f1_score on test Data: 0.972\n",
      "\n",
      "Random Forest : Recall on training Data: 0.992\n",
      "Random Forest : Recall on test Data: 0.977\n",
      "\n",
      "Random Forest : precision on training Data: 0.990\n",
      "Random Forest : precision on test Data: 0.964\n"
     ]
    }
   ],
   "source": [
    "#computing the accuracy, f1_score, Recall, precision of the model performance\n",
    "\n",
    "acc_train_forest = metrics.accuracy_score(y_train,y_train_forest)\n",
    "acc_test_forest = metrics.accuracy_score(y_test,y_test_forest)\n",
    "print(\"Random Forest : Accuracy on training Data: {:.3f}\".format(acc_train_forest))\n",
    "print(\"Random Forest : Accuracy on test Data: {:.3f}\".format(acc_test_forest))\n",
    "print()\n",
    "\n",
    "f1_score_train_forest = metrics.f1_score(y_train,y_train_forest)\n",
    "f1_score_test_forest = metrics.f1_score(y_test,y_test_forest)\n",
    "print(\"Random Forest : f1_score on training Data: {:.3f}\".format(f1_score_train_forest))\n",
    "print(\"Random Forest : f1_score on test Data: {:.3f}\".format(f1_score_test_forest))\n",
    "print()\n",
    "\n",
    "recall_score_train_forest = metrics.recall_score(y_train,y_train_forest)\n",
    "recall_score_test_forest = metrics.recall_score(y_test,y_test_forest)\n",
    "print(\"Random Forest : Recall on training Data: {:.3f}\".format(recall_score_train_forest))\n",
    "print(\"Random Forest : Recall on test Data: {:.3f}\".format(recall_score_test_forest))\n",
    "print()\n",
    "\n",
    "precision_score_train_forest = metrics.precision_score(y_train,y_train_forest)\n",
    "precision_score_test_forest = metrics.precision_score(y_test,y_test_tree)\n",
    "print(\"Random Forest : precision on training Data: {:.3f}\".format(precision_score_train_forest))\n",
    "print(\"Random Forest : precision on test Data: {:.3f}\".format(precision_score_test_forest))"
   ]
  },
  {
   "cell_type": "code",
   "execution_count": 37,
   "id": "fb33464b",
   "metadata": {},
   "outputs": [
    {
     "name": "stdout",
     "output_type": "stream",
     "text": [
      "              precision    recall  f1-score   support\n",
      "\n",
      "          -1       0.97      0.96      0.96       976\n",
      "           1       0.97      0.98      0.97      1235\n",
      "\n",
      "    accuracy                           0.97      2211\n",
      "   macro avg       0.97      0.97      0.97      2211\n",
      "weighted avg       0.97      0.97      0.97      2211\n",
      "\n"
     ]
    }
   ],
   "source": [
    "#computing the classification report of the model\n",
    "\n",
    "print(metrics.classification_report(y_test, y_test_forest))"
   ]
  },
  {
   "cell_type": "code",
   "execution_count": 38,
   "id": "4f10c481",
   "metadata": {},
   "outputs": [
    {
     "data": {
      "application/vnd.plotly.v1+json": {
       "config": {
        "plotlyServerURL": "https://plot.ly"
       },
       "data": [
        {
         "hovertemplate": "Accuracy Type=Training Accuracy<br>Number of Estimators=%{x}<br>Accuracy=%{y}<extra></extra>",
         "legendgroup": "Training Accuracy",
         "line": {
          "color": "#636efa",
          "dash": "solid"
         },
         "marker": {
          "symbol": "circle"
         },
         "mode": "lines",
         "name": "Training Accuracy",
         "orientation": "v",
         "showlegend": true,
         "type": "scatter",
         "x": [
          1,
          2,
          3,
          4,
          5,
          6,
          7,
          8,
          9,
          10,
          11,
          12,
          13,
          14,
          15,
          16,
          17,
          18,
          19
         ],
         "xaxis": "x",
         "y": [
          0.9754608164650006,
          0.9796449168834106,
          0.9871084473594934,
          0.9871084473594934,
          0.9891439556711523,
          0.989596290851521,
          0.9899355422367975,
          0.9899355422367975,
          0.9902747936220739,
          0.9905009612122583,
          0.9906140450073504,
          0.9906140450073504,
          0.9905009612122583,
          0.9905009612122583,
          0.990953296392627,
          0.9907271288024426,
          0.9907271288024426,
          0.990953296392627,
          0.9907271288024426
         ],
         "yaxis": "y"
        },
        {
         "hovertemplate": "Accuracy Type=Test Accuracy<br>Number of Estimators=%{x}<br>Accuracy=%{y}<extra></extra>",
         "legendgroup": "Test Accuracy",
         "line": {
          "color": "#EF553B",
          "dash": "solid"
         },
         "marker": {
          "symbol": "circle"
         },
         "mode": "lines",
         "name": "Test Accuracy",
         "orientation": "v",
         "showlegend": true,
         "type": "scatter",
         "x": [
          1,
          2,
          3,
          4,
          5,
          6,
          7,
          8,
          9,
          10,
          11,
          12,
          13,
          14,
          15,
          16,
          17,
          18,
          19
         ],
         "xaxis": "x",
         "y": [
          0.9507010402532791,
          0.9412030755314338,
          0.9651741293532339,
          0.9633649932157394,
          0.966078697421981,
          0.9674355495251018,
          0.9674355495251018,
          0.9665309814563546,
          0.9678878335594754,
          0.9674355495251018,
          0.9651741293532339,
          0.9669832654907282,
          0.9692446856625961,
          0.9706015377657169,
          0.9678878335594754,
          0.9701492537313433,
          0.9669832654907282,
          0.966078697421981,
          0.966078697421981
         ],
         "yaxis": "y"
        }
       ],
       "layout": {
        "legend": {
         "title": {
          "text": "Accuracy Type"
         },
         "tracegroupgap": 0
        },
        "template": {
         "data": {
          "bar": [
           {
            "error_x": {
             "color": "#2a3f5f"
            },
            "error_y": {
             "color": "#2a3f5f"
            },
            "marker": {
             "line": {
              "color": "#E5ECF6",
              "width": 0.5
             },
             "pattern": {
              "fillmode": "overlay",
              "size": 10,
              "solidity": 0.2
             }
            },
            "type": "bar"
           }
          ],
          "barpolar": [
           {
            "marker": {
             "line": {
              "color": "#E5ECF6",
              "width": 0.5
             },
             "pattern": {
              "fillmode": "overlay",
              "size": 10,
              "solidity": 0.2
             }
            },
            "type": "barpolar"
           }
          ],
          "carpet": [
           {
            "aaxis": {
             "endlinecolor": "#2a3f5f",
             "gridcolor": "white",
             "linecolor": "white",
             "minorgridcolor": "white",
             "startlinecolor": "#2a3f5f"
            },
            "baxis": {
             "endlinecolor": "#2a3f5f",
             "gridcolor": "white",
             "linecolor": "white",
             "minorgridcolor": "white",
             "startlinecolor": "#2a3f5f"
            },
            "type": "carpet"
           }
          ],
          "choropleth": [
           {
            "colorbar": {
             "outlinewidth": 0,
             "ticks": ""
            },
            "type": "choropleth"
           }
          ],
          "contour": [
           {
            "colorbar": {
             "outlinewidth": 0,
             "ticks": ""
            },
            "colorscale": [
             [
              0,
              "#0d0887"
             ],
             [
              0.1111111111111111,
              "#46039f"
             ],
             [
              0.2222222222222222,
              "#7201a8"
             ],
             [
              0.3333333333333333,
              "#9c179e"
             ],
             [
              0.4444444444444444,
              "#bd3786"
             ],
             [
              0.5555555555555556,
              "#d8576b"
             ],
             [
              0.6666666666666666,
              "#ed7953"
             ],
             [
              0.7777777777777778,
              "#fb9f3a"
             ],
             [
              0.8888888888888888,
              "#fdca26"
             ],
             [
              1,
              "#f0f921"
             ]
            ],
            "type": "contour"
           }
          ],
          "contourcarpet": [
           {
            "colorbar": {
             "outlinewidth": 0,
             "ticks": ""
            },
            "type": "contourcarpet"
           }
          ],
          "heatmap": [
           {
            "colorbar": {
             "outlinewidth": 0,
             "ticks": ""
            },
            "colorscale": [
             [
              0,
              "#0d0887"
             ],
             [
              0.1111111111111111,
              "#46039f"
             ],
             [
              0.2222222222222222,
              "#7201a8"
             ],
             [
              0.3333333333333333,
              "#9c179e"
             ],
             [
              0.4444444444444444,
              "#bd3786"
             ],
             [
              0.5555555555555556,
              "#d8576b"
             ],
             [
              0.6666666666666666,
              "#ed7953"
             ],
             [
              0.7777777777777778,
              "#fb9f3a"
             ],
             [
              0.8888888888888888,
              "#fdca26"
             ],
             [
              1,
              "#f0f921"
             ]
            ],
            "type": "heatmap"
           }
          ],
          "heatmapgl": [
           {
            "colorbar": {
             "outlinewidth": 0,
             "ticks": ""
            },
            "colorscale": [
             [
              0,
              "#0d0887"
             ],
             [
              0.1111111111111111,
              "#46039f"
             ],
             [
              0.2222222222222222,
              "#7201a8"
             ],
             [
              0.3333333333333333,
              "#9c179e"
             ],
             [
              0.4444444444444444,
              "#bd3786"
             ],
             [
              0.5555555555555556,
              "#d8576b"
             ],
             [
              0.6666666666666666,
              "#ed7953"
             ],
             [
              0.7777777777777778,
              "#fb9f3a"
             ],
             [
              0.8888888888888888,
              "#fdca26"
             ],
             [
              1,
              "#f0f921"
             ]
            ],
            "type": "heatmapgl"
           }
          ],
          "histogram": [
           {
            "marker": {
             "pattern": {
              "fillmode": "overlay",
              "size": 10,
              "solidity": 0.2
             }
            },
            "type": "histogram"
           }
          ],
          "histogram2d": [
           {
            "colorbar": {
             "outlinewidth": 0,
             "ticks": ""
            },
            "colorscale": [
             [
              0,
              "#0d0887"
             ],
             [
              0.1111111111111111,
              "#46039f"
             ],
             [
              0.2222222222222222,
              "#7201a8"
             ],
             [
              0.3333333333333333,
              "#9c179e"
             ],
             [
              0.4444444444444444,
              "#bd3786"
             ],
             [
              0.5555555555555556,
              "#d8576b"
             ],
             [
              0.6666666666666666,
              "#ed7953"
             ],
             [
              0.7777777777777778,
              "#fb9f3a"
             ],
             [
              0.8888888888888888,
              "#fdca26"
             ],
             [
              1,
              "#f0f921"
             ]
            ],
            "type": "histogram2d"
           }
          ],
          "histogram2dcontour": [
           {
            "colorbar": {
             "outlinewidth": 0,
             "ticks": ""
            },
            "colorscale": [
             [
              0,
              "#0d0887"
             ],
             [
              0.1111111111111111,
              "#46039f"
             ],
             [
              0.2222222222222222,
              "#7201a8"
             ],
             [
              0.3333333333333333,
              "#9c179e"
             ],
             [
              0.4444444444444444,
              "#bd3786"
             ],
             [
              0.5555555555555556,
              "#d8576b"
             ],
             [
              0.6666666666666666,
              "#ed7953"
             ],
             [
              0.7777777777777778,
              "#fb9f3a"
             ],
             [
              0.8888888888888888,
              "#fdca26"
             ],
             [
              1,
              "#f0f921"
             ]
            ],
            "type": "histogram2dcontour"
           }
          ],
          "mesh3d": [
           {
            "colorbar": {
             "outlinewidth": 0,
             "ticks": ""
            },
            "type": "mesh3d"
           }
          ],
          "parcoords": [
           {
            "line": {
             "colorbar": {
              "outlinewidth": 0,
              "ticks": ""
             }
            },
            "type": "parcoords"
           }
          ],
          "pie": [
           {
            "automargin": true,
            "type": "pie"
           }
          ],
          "scatter": [
           {
            "fillpattern": {
             "fillmode": "overlay",
             "size": 10,
             "solidity": 0.2
            },
            "type": "scatter"
           }
          ],
          "scatter3d": [
           {
            "line": {
             "colorbar": {
              "outlinewidth": 0,
              "ticks": ""
             }
            },
            "marker": {
             "colorbar": {
              "outlinewidth": 0,
              "ticks": ""
             }
            },
            "type": "scatter3d"
           }
          ],
          "scattercarpet": [
           {
            "marker": {
             "colorbar": {
              "outlinewidth": 0,
              "ticks": ""
             }
            },
            "type": "scattercarpet"
           }
          ],
          "scattergeo": [
           {
            "marker": {
             "colorbar": {
              "outlinewidth": 0,
              "ticks": ""
             }
            },
            "type": "scattergeo"
           }
          ],
          "scattergl": [
           {
            "marker": {
             "colorbar": {
              "outlinewidth": 0,
              "ticks": ""
             }
            },
            "type": "scattergl"
           }
          ],
          "scattermapbox": [
           {
            "marker": {
             "colorbar": {
              "outlinewidth": 0,
              "ticks": ""
             }
            },
            "type": "scattermapbox"
           }
          ],
          "scatterpolar": [
           {
            "marker": {
             "colorbar": {
              "outlinewidth": 0,
              "ticks": ""
             }
            },
            "type": "scatterpolar"
           }
          ],
          "scatterpolargl": [
           {
            "marker": {
             "colorbar": {
              "outlinewidth": 0,
              "ticks": ""
             }
            },
            "type": "scatterpolargl"
           }
          ],
          "scatterternary": [
           {
            "marker": {
             "colorbar": {
              "outlinewidth": 0,
              "ticks": ""
             }
            },
            "type": "scatterternary"
           }
          ],
          "surface": [
           {
            "colorbar": {
             "outlinewidth": 0,
             "ticks": ""
            },
            "colorscale": [
             [
              0,
              "#0d0887"
             ],
             [
              0.1111111111111111,
              "#46039f"
             ],
             [
              0.2222222222222222,
              "#7201a8"
             ],
             [
              0.3333333333333333,
              "#9c179e"
             ],
             [
              0.4444444444444444,
              "#bd3786"
             ],
             [
              0.5555555555555556,
              "#d8576b"
             ],
             [
              0.6666666666666666,
              "#ed7953"
             ],
             [
              0.7777777777777778,
              "#fb9f3a"
             ],
             [
              0.8888888888888888,
              "#fdca26"
             ],
             [
              1,
              "#f0f921"
             ]
            ],
            "type": "surface"
           }
          ],
          "table": [
           {
            "cells": {
             "fill": {
              "color": "#EBF0F8"
             },
             "line": {
              "color": "white"
             }
            },
            "header": {
             "fill": {
              "color": "#C8D4E3"
             },
             "line": {
              "color": "white"
             }
            },
            "type": "table"
           }
          ]
         },
         "layout": {
          "annotationdefaults": {
           "arrowcolor": "#2a3f5f",
           "arrowhead": 0,
           "arrowwidth": 1
          },
          "autotypenumbers": "strict",
          "coloraxis": {
           "colorbar": {
            "outlinewidth": 0,
            "ticks": ""
           }
          },
          "colorscale": {
           "diverging": [
            [
             0,
             "#8e0152"
            ],
            [
             0.1,
             "#c51b7d"
            ],
            [
             0.2,
             "#de77ae"
            ],
            [
             0.3,
             "#f1b6da"
            ],
            [
             0.4,
             "#fde0ef"
            ],
            [
             0.5,
             "#f7f7f7"
            ],
            [
             0.6,
             "#e6f5d0"
            ],
            [
             0.7,
             "#b8e186"
            ],
            [
             0.8,
             "#7fbc41"
            ],
            [
             0.9,
             "#4d9221"
            ],
            [
             1,
             "#276419"
            ]
           ],
           "sequential": [
            [
             0,
             "#0d0887"
            ],
            [
             0.1111111111111111,
             "#46039f"
            ],
            [
             0.2222222222222222,
             "#7201a8"
            ],
            [
             0.3333333333333333,
             "#9c179e"
            ],
            [
             0.4444444444444444,
             "#bd3786"
            ],
            [
             0.5555555555555556,
             "#d8576b"
            ],
            [
             0.6666666666666666,
             "#ed7953"
            ],
            [
             0.7777777777777778,
             "#fb9f3a"
            ],
            [
             0.8888888888888888,
             "#fdca26"
            ],
            [
             1,
             "#f0f921"
            ]
           ],
           "sequentialminus": [
            [
             0,
             "#0d0887"
            ],
            [
             0.1111111111111111,
             "#46039f"
            ],
            [
             0.2222222222222222,
             "#7201a8"
            ],
            [
             0.3333333333333333,
             "#9c179e"
            ],
            [
             0.4444444444444444,
             "#bd3786"
            ],
            [
             0.5555555555555556,
             "#d8576b"
            ],
            [
             0.6666666666666666,
             "#ed7953"
            ],
            [
             0.7777777777777778,
             "#fb9f3a"
            ],
            [
             0.8888888888888888,
             "#fdca26"
            ],
            [
             1,
             "#f0f921"
            ]
           ]
          },
          "colorway": [
           "#636efa",
           "#EF553B",
           "#00cc96",
           "#ab63fa",
           "#FFA15A",
           "#19d3f3",
           "#FF6692",
           "#B6E880",
           "#FF97FF",
           "#FECB52"
          ],
          "font": {
           "color": "#2a3f5f"
          },
          "geo": {
           "bgcolor": "white",
           "lakecolor": "white",
           "landcolor": "#E5ECF6",
           "showlakes": true,
           "showland": true,
           "subunitcolor": "white"
          },
          "hoverlabel": {
           "align": "left"
          },
          "hovermode": "closest",
          "mapbox": {
           "style": "light"
          },
          "paper_bgcolor": "white",
          "plot_bgcolor": "#E5ECF6",
          "polar": {
           "angularaxis": {
            "gridcolor": "white",
            "linecolor": "white",
            "ticks": ""
           },
           "bgcolor": "#E5ECF6",
           "radialaxis": {
            "gridcolor": "white",
            "linecolor": "white",
            "ticks": ""
           }
          },
          "scene": {
           "xaxis": {
            "backgroundcolor": "#E5ECF6",
            "gridcolor": "white",
            "gridwidth": 2,
            "linecolor": "white",
            "showbackground": true,
            "ticks": "",
            "zerolinecolor": "white"
           },
           "yaxis": {
            "backgroundcolor": "#E5ECF6",
            "gridcolor": "white",
            "gridwidth": 2,
            "linecolor": "white",
            "showbackground": true,
            "ticks": "",
            "zerolinecolor": "white"
           },
           "zaxis": {
            "backgroundcolor": "#E5ECF6",
            "gridcolor": "white",
            "gridwidth": 2,
            "linecolor": "white",
            "showbackground": true,
            "ticks": "",
            "zerolinecolor": "white"
           }
          },
          "shapedefaults": {
           "line": {
            "color": "#2a3f5f"
           }
          },
          "ternary": {
           "aaxis": {
            "gridcolor": "white",
            "linecolor": "white",
            "ticks": ""
           },
           "baxis": {
            "gridcolor": "white",
            "linecolor": "white",
            "ticks": ""
           },
           "bgcolor": "#E5ECF6",
           "caxis": {
            "gridcolor": "white",
            "linecolor": "white",
            "ticks": ""
           }
          },
          "title": {
           "x": 0.05
          },
          "xaxis": {
           "automargin": true,
           "gridcolor": "white",
           "linecolor": "white",
           "ticks": "",
           "title": {
            "standoff": 15
           },
           "zerolinecolor": "white",
           "zerolinewidth": 2
          },
          "yaxis": {
           "automargin": true,
           "gridcolor": "white",
           "linecolor": "white",
           "ticks": "",
           "title": {
            "standoff": 15
           },
           "zerolinecolor": "white",
           "zerolinewidth": 2
          }
         }
        },
        "title": {
         "text": "Training & Testing Accuracy vs n_estimators"
        },
        "xaxis": {
         "anchor": "y",
         "domain": [
          0,
          1
         ],
         "title": {
          "text": "Number of Estimators"
         }
        },
        "yaxis": {
         "anchor": "x",
         "domain": [
          0,
          1
         ],
         "title": {
          "text": "Accuracy"
         }
        }
       }
      }
     },
     "metadata": {},
     "output_type": "display_data"
    }
   ],
   "source": [
    "training_accuracy = []\n",
    "test_accuracy = []\n",
    "# try max_depth from 1 to 20\n",
    "depth = range(1,20)\n",
    "for n in depth:\n",
    "    forest_test =  RandomForestClassifier(n_estimators=n)\n",
    "\n",
    "    forest_test.fit(X_train, y_train)\n",
    "    # record training set accuracy\n",
    "    training_accuracy.append(forest_test.score(X_train, y_train))\n",
    "    # record generalization accuracy\n",
    "    test_accuracy.append(forest_test.score(X_test, y_test))\n",
    "    \n",
    "\n",
    "#plotting the training & testing accuracy for n_estimators from 1 to 20\n",
    "# plt.figure(figsize=None)\n",
    "# plt.plot(depth, training_accuracy, label=\"training accuracy\")\n",
    "# plt.plot(depth, test_accuracy, label=\"test accuracy\")\n",
    "# plt.ylabel(\"Accuracy\")  \n",
    "# plt.xlabel(\"n_estimators\")\n",
    "# plt.legend();\n",
    "\n",
    "#using plotly express to plot the training & testing accuracy for n_estimators from 1 to 20\n",
    "# Create a DataFrame to hold training and testing accuracy values\n",
    "accuracy_df = pd.DataFrame({'n_estimators': depth, 'Training Accuracy': training_accuracy, 'Test Accuracy': test_accuracy})\n",
    "\n",
    "# Create an interactive line chart using Plotly Express\n",
    "fig = px.line(accuracy_df, x='n_estimators', y=['Training Accuracy', 'Test Accuracy'],\n",
    "              title=\"Training & Testing Accuracy vs n_estimators\",\n",
    "              labels={'n_estimators': 'Number of Estimators', 'value': 'Accuracy', 'variable': 'Accuracy Type'})\n",
    "\n",
    "# Show the interactive line chart\n",
    "fig.show()"
   ]
  },
  {
   "cell_type": "code",
   "execution_count": 39,
   "id": "310a4d15",
   "metadata": {},
   "outputs": [],
   "source": [
    "#storing the results. The below mentioned order of parameter passing is important.\n",
    "\n",
    "storeResults('Random Forest',acc_test_forest,f1_score_test_forest,\n",
    "             recall_score_train_forest,precision_score_train_forest)"
   ]
  },
  {
   "cell_type": "markdown",
   "id": "08ba9a1a",
   "metadata": {},
   "source": [
    "## 5.7.Gradient Boosting Classifier"
   ]
  },
  {
   "cell_type": "code",
   "execution_count": 40,
   "id": "46672600",
   "metadata": {},
   "outputs": [
    {
     "data": {
      "text/html": [
       "<style>#sk-container-id-7 {color: black;background-color: white;}#sk-container-id-7 pre{padding: 0;}#sk-container-id-7 div.sk-toggleable {background-color: white;}#sk-container-id-7 label.sk-toggleable__label {cursor: pointer;display: block;width: 100%;margin-bottom: 0;padding: 0.3em;box-sizing: border-box;text-align: center;}#sk-container-id-7 label.sk-toggleable__label-arrow:before {content: \"▸\";float: left;margin-right: 0.25em;color: #696969;}#sk-container-id-7 label.sk-toggleable__label-arrow:hover:before {color: black;}#sk-container-id-7 div.sk-estimator:hover label.sk-toggleable__label-arrow:before {color: black;}#sk-container-id-7 div.sk-toggleable__content {max-height: 0;max-width: 0;overflow: hidden;text-align: left;background-color: #f0f8ff;}#sk-container-id-7 div.sk-toggleable__content pre {margin: 0.2em;color: black;border-radius: 0.25em;background-color: #f0f8ff;}#sk-container-id-7 input.sk-toggleable__control:checked~div.sk-toggleable__content {max-height: 200px;max-width: 100%;overflow: auto;}#sk-container-id-7 input.sk-toggleable__control:checked~label.sk-toggleable__label-arrow:before {content: \"▾\";}#sk-container-id-7 div.sk-estimator input.sk-toggleable__control:checked~label.sk-toggleable__label {background-color: #d4ebff;}#sk-container-id-7 div.sk-label input.sk-toggleable__control:checked~label.sk-toggleable__label {background-color: #d4ebff;}#sk-container-id-7 input.sk-hidden--visually {border: 0;clip: rect(1px 1px 1px 1px);clip: rect(1px, 1px, 1px, 1px);height: 1px;margin: -1px;overflow: hidden;padding: 0;position: absolute;width: 1px;}#sk-container-id-7 div.sk-estimator {font-family: monospace;background-color: #f0f8ff;border: 1px dotted black;border-radius: 0.25em;box-sizing: border-box;margin-bottom: 0.5em;}#sk-container-id-7 div.sk-estimator:hover {background-color: #d4ebff;}#sk-container-id-7 div.sk-parallel-item::after {content: \"\";width: 100%;border-bottom: 1px solid gray;flex-grow: 1;}#sk-container-id-7 div.sk-label:hover label.sk-toggleable__label {background-color: #d4ebff;}#sk-container-id-7 div.sk-serial::before {content: \"\";position: absolute;border-left: 1px solid gray;box-sizing: border-box;top: 0;bottom: 0;left: 50%;z-index: 0;}#sk-container-id-7 div.sk-serial {display: flex;flex-direction: column;align-items: center;background-color: white;padding-right: 0.2em;padding-left: 0.2em;position: relative;}#sk-container-id-7 div.sk-item {position: relative;z-index: 1;}#sk-container-id-7 div.sk-parallel {display: flex;align-items: stretch;justify-content: center;background-color: white;position: relative;}#sk-container-id-7 div.sk-item::before, #sk-container-id-7 div.sk-parallel-item::before {content: \"\";position: absolute;border-left: 1px solid gray;box-sizing: border-box;top: 0;bottom: 0;left: 50%;z-index: -1;}#sk-container-id-7 div.sk-parallel-item {display: flex;flex-direction: column;z-index: 1;position: relative;background-color: white;}#sk-container-id-7 div.sk-parallel-item:first-child::after {align-self: flex-end;width: 50%;}#sk-container-id-7 div.sk-parallel-item:last-child::after {align-self: flex-start;width: 50%;}#sk-container-id-7 div.sk-parallel-item:only-child::after {width: 0;}#sk-container-id-7 div.sk-dashed-wrapped {border: 1px dashed gray;margin: 0 0.4em 0.5em 0.4em;box-sizing: border-box;padding-bottom: 0.4em;background-color: white;}#sk-container-id-7 div.sk-label label {font-family: monospace;font-weight: bold;display: inline-block;line-height: 1.2em;}#sk-container-id-7 div.sk-label-container {text-align: center;}#sk-container-id-7 div.sk-container {/* jupyter's `normalize.less` sets `[hidden] { display: none; }` but bootstrap.min.css set `[hidden] { display: none !important; }` so we also need the `!important` here to be able to override the default hidden behavior on the sphinx rendered scikit-learn.org. See: https://github.com/scikit-learn/scikit-learn/issues/21755 */display: inline-block !important;position: relative;}#sk-container-id-7 div.sk-text-repr-fallback {display: none;}</style><div id=\"sk-container-id-7\" class=\"sk-top-container\"><div class=\"sk-text-repr-fallback\"><pre>GradientBoostingClassifier(learning_rate=0.7, max_depth=4)</pre><b>In a Jupyter environment, please rerun this cell to show the HTML representation or trust the notebook. <br />On GitHub, the HTML representation is unable to render, please try loading this page with nbviewer.org.</b></div><div class=\"sk-container\" hidden><div class=\"sk-item\"><div class=\"sk-estimator sk-toggleable\"><input class=\"sk-toggleable__control sk-hidden--visually\" id=\"sk-estimator-id-9\" type=\"checkbox\" checked><label for=\"sk-estimator-id-9\" class=\"sk-toggleable__label sk-toggleable__label-arrow\">GradientBoostingClassifier</label><div class=\"sk-toggleable__content\"><pre>GradientBoostingClassifier(learning_rate=0.7, max_depth=4)</pre></div></div></div></div></div>"
      ],
      "text/plain": [
       "GradientBoostingClassifier(learning_rate=0.7, max_depth=4)"
      ]
     },
     "execution_count": 40,
     "metadata": {},
     "output_type": "execute_result"
    }
   ],
   "source": [
    "# Gradient Boosting Classifier Model\n",
    "from sklearn.ensemble import GradientBoostingClassifier\n",
    "\n",
    "# instantiate the model\n",
    "gbc = GradientBoostingClassifier(max_depth=4,learning_rate=0.7)\n",
    "\n",
    "# fit the model \n",
    "gbc.fit(X_train,y_train)"
   ]
  },
  {
   "cell_type": "code",
   "execution_count": 41,
   "id": "1abd4a9e",
   "metadata": {},
   "outputs": [],
   "source": [
    "#predicting the target value from the model for the samples\n",
    "y_train_gbc = gbc.predict(X_train)\n",
    "y_test_gbc = gbc.predict(X_test)"
   ]
  },
  {
   "cell_type": "code",
   "execution_count": 42,
   "id": "4c8ea93d",
   "metadata": {},
   "outputs": [
    {
     "name": "stdout",
     "output_type": "stream",
     "text": [
      "Gradient Boosting Classifier : Accuracy on training Data: 0.989\n",
      "Gradient Boosting Classifier : Accuracy on test Data: 0.974\n",
      "\n",
      "Gradient Boosting Classifier : f1_score on training Data: 0.990\n",
      "Gradient Boosting Classifier : f1_score on test Data: 0.977\n",
      "\n",
      "Gradient Boosting Classifier : Recall on training Data: 0.994\n",
      "Gradient Boosting Classifier : Recall on test Data: 0.989\n",
      "\n",
      "Gradient Boosting Classifier : precision on training Data: 0.986\n",
      "Gradient Boosting Classifier : precision on test Data: 0.966\n"
     ]
    }
   ],
   "source": [
    "#computing the accuracy, f1_score, Recall, precision of the model performance\n",
    "\n",
    "acc_train_gbc = metrics.accuracy_score(y_train,y_train_gbc)\n",
    "acc_test_gbc = metrics.accuracy_score(y_test,y_test_gbc)\n",
    "print(\"Gradient Boosting Classifier : Accuracy on training Data: {:.3f}\".format(acc_train_gbc))\n",
    "print(\"Gradient Boosting Classifier : Accuracy on test Data: {:.3f}\".format(acc_test_gbc))\n",
    "print()\n",
    "\n",
    "f1_score_train_gbc = metrics.f1_score(y_train,y_train_gbc)\n",
    "f1_score_test_gbc = metrics.f1_score(y_test,y_test_gbc)\n",
    "print(\"Gradient Boosting Classifier : f1_score on training Data: {:.3f}\".format(f1_score_train_gbc))\n",
    "print(\"Gradient Boosting Classifier : f1_score on test Data: {:.3f}\".format(f1_score_test_gbc))\n",
    "print()\n",
    "\n",
    "recall_score_train_gbc = metrics.recall_score(y_train,y_train_gbc)\n",
    "recall_score_test_gbc =  metrics.recall_score(y_test,y_test_gbc)\n",
    "print(\"Gradient Boosting Classifier : Recall on training Data: {:.3f}\".format(recall_score_train_gbc))\n",
    "print(\"Gradient Boosting Classifier : Recall on test Data: {:.3f}\".format(recall_score_test_gbc))\n",
    "print()\n",
    "\n",
    "precision_score_train_gbc = metrics.precision_score(y_train,y_train_gbc)\n",
    "precision_score_test_gbc = metrics.precision_score(y_test,y_test_gbc)\n",
    "print(\"Gradient Boosting Classifier : precision on training Data: {:.3f}\".format(precision_score_train_gbc))\n",
    "print(\"Gradient Boosting Classifier : precision on test Data: {:.3f}\".format(precision_score_test_gbc))"
   ]
  },
  {
   "cell_type": "code",
   "execution_count": 43,
   "id": "1f7959d8",
   "metadata": {},
   "outputs": [
    {
     "name": "stdout",
     "output_type": "stream",
     "text": [
      "              precision    recall  f1-score   support\n",
      "\n",
      "          -1       0.99      0.96      0.97       976\n",
      "           1       0.97      0.99      0.98      1235\n",
      "\n",
      "    accuracy                           0.97      2211\n",
      "   macro avg       0.98      0.97      0.97      2211\n",
      "weighted avg       0.97      0.97      0.97      2211\n",
      "\n"
     ]
    }
   ],
   "source": [
    "#computing the classification report of the model\n",
    "\n",
    "print(metrics.classification_report(y_test, y_test_gbc))"
   ]
  },
  {
   "cell_type": "code",
   "execution_count": 44,
   "id": "7e310444",
   "metadata": {},
   "outputs": [
    {
     "data": {
      "application/vnd.plotly.v1+json": {
       "config": {
        "plotlyServerURL": "https://plot.ly"
       },
       "data": [
        {
         "hovertemplate": "variable=wide_variable_0<br>learning_rate=%{x}<br>value=%{y}<extra></extra>",
         "legendgroup": "wide_variable_0",
         "line": {
          "color": "#636efa",
          "dash": "solid"
         },
         "marker": {
          "symbol": "circle"
         },
         "mode": "lines",
         "name": "wide_variable_0",
         "orientation": "v",
         "showlegend": true,
         "type": "scatter",
         "x": [
          1,
          2,
          3,
          4,
          5,
          6,
          7,
          8,
          9
         ],
         "xaxis": "x",
         "y": [
          0.9511478005201854,
          0.9607599231030194,
          0.9673187832183648,
          0.9708243808662219,
          0.9735383919484338,
          0.9761393192355535,
          0.9767047382110143,
          0.9799841682686871,
          0.9787402465226733
         ],
         "yaxis": "y"
        },
        {
         "hovertemplate": "variable=wide_variable_1<br>learning_rate=%{x}<br>value=%{y}<extra></extra>",
         "legendgroup": "wide_variable_1",
         "line": {
          "color": "#EF553B",
          "dash": "solid"
         },
         "marker": {
          "symbol": "circle"
         },
         "mode": "lines",
         "name": "wide_variable_1",
         "orientation": "v",
         "showlegend": true,
         "type": "scatter",
         "x": [
          1,
          2,
          3,
          4,
          5,
          6,
          7,
          8,
          9
         ],
         "xaxis": "x",
         "y": [
          0.9493441881501583,
          0.9570330167345092,
          0.9615558570782451,
          0.9647218453188603,
          0.9651741293532339,
          0.9647218453188603,
          0.9665309814563546,
          0.9629127091813658,
          0.9642695612844867
         ],
         "yaxis": "y"
        }
       ],
       "layout": {
        "legend": {
         "title": {
          "text": "variable"
         },
         "tracegroupgap": 0
        },
        "template": {
         "data": {
          "bar": [
           {
            "error_x": {
             "color": "#2a3f5f"
            },
            "error_y": {
             "color": "#2a3f5f"
            },
            "marker": {
             "line": {
              "color": "#E5ECF6",
              "width": 0.5
             },
             "pattern": {
              "fillmode": "overlay",
              "size": 10,
              "solidity": 0.2
             }
            },
            "type": "bar"
           }
          ],
          "barpolar": [
           {
            "marker": {
             "line": {
              "color": "#E5ECF6",
              "width": 0.5
             },
             "pattern": {
              "fillmode": "overlay",
              "size": 10,
              "solidity": 0.2
             }
            },
            "type": "barpolar"
           }
          ],
          "carpet": [
           {
            "aaxis": {
             "endlinecolor": "#2a3f5f",
             "gridcolor": "white",
             "linecolor": "white",
             "minorgridcolor": "white",
             "startlinecolor": "#2a3f5f"
            },
            "baxis": {
             "endlinecolor": "#2a3f5f",
             "gridcolor": "white",
             "linecolor": "white",
             "minorgridcolor": "white",
             "startlinecolor": "#2a3f5f"
            },
            "type": "carpet"
           }
          ],
          "choropleth": [
           {
            "colorbar": {
             "outlinewidth": 0,
             "ticks": ""
            },
            "type": "choropleth"
           }
          ],
          "contour": [
           {
            "colorbar": {
             "outlinewidth": 0,
             "ticks": ""
            },
            "colorscale": [
             [
              0,
              "#0d0887"
             ],
             [
              0.1111111111111111,
              "#46039f"
             ],
             [
              0.2222222222222222,
              "#7201a8"
             ],
             [
              0.3333333333333333,
              "#9c179e"
             ],
             [
              0.4444444444444444,
              "#bd3786"
             ],
             [
              0.5555555555555556,
              "#d8576b"
             ],
             [
              0.6666666666666666,
              "#ed7953"
             ],
             [
              0.7777777777777778,
              "#fb9f3a"
             ],
             [
              0.8888888888888888,
              "#fdca26"
             ],
             [
              1,
              "#f0f921"
             ]
            ],
            "type": "contour"
           }
          ],
          "contourcarpet": [
           {
            "colorbar": {
             "outlinewidth": 0,
             "ticks": ""
            },
            "type": "contourcarpet"
           }
          ],
          "heatmap": [
           {
            "colorbar": {
             "outlinewidth": 0,
             "ticks": ""
            },
            "colorscale": [
             [
              0,
              "#0d0887"
             ],
             [
              0.1111111111111111,
              "#46039f"
             ],
             [
              0.2222222222222222,
              "#7201a8"
             ],
             [
              0.3333333333333333,
              "#9c179e"
             ],
             [
              0.4444444444444444,
              "#bd3786"
             ],
             [
              0.5555555555555556,
              "#d8576b"
             ],
             [
              0.6666666666666666,
              "#ed7953"
             ],
             [
              0.7777777777777778,
              "#fb9f3a"
             ],
             [
              0.8888888888888888,
              "#fdca26"
             ],
             [
              1,
              "#f0f921"
             ]
            ],
            "type": "heatmap"
           }
          ],
          "heatmapgl": [
           {
            "colorbar": {
             "outlinewidth": 0,
             "ticks": ""
            },
            "colorscale": [
             [
              0,
              "#0d0887"
             ],
             [
              0.1111111111111111,
              "#46039f"
             ],
             [
              0.2222222222222222,
              "#7201a8"
             ],
             [
              0.3333333333333333,
              "#9c179e"
             ],
             [
              0.4444444444444444,
              "#bd3786"
             ],
             [
              0.5555555555555556,
              "#d8576b"
             ],
             [
              0.6666666666666666,
              "#ed7953"
             ],
             [
              0.7777777777777778,
              "#fb9f3a"
             ],
             [
              0.8888888888888888,
              "#fdca26"
             ],
             [
              1,
              "#f0f921"
             ]
            ],
            "type": "heatmapgl"
           }
          ],
          "histogram": [
           {
            "marker": {
             "pattern": {
              "fillmode": "overlay",
              "size": 10,
              "solidity": 0.2
             }
            },
            "type": "histogram"
           }
          ],
          "histogram2d": [
           {
            "colorbar": {
             "outlinewidth": 0,
             "ticks": ""
            },
            "colorscale": [
             [
              0,
              "#0d0887"
             ],
             [
              0.1111111111111111,
              "#46039f"
             ],
             [
              0.2222222222222222,
              "#7201a8"
             ],
             [
              0.3333333333333333,
              "#9c179e"
             ],
             [
              0.4444444444444444,
              "#bd3786"
             ],
             [
              0.5555555555555556,
              "#d8576b"
             ],
             [
              0.6666666666666666,
              "#ed7953"
             ],
             [
              0.7777777777777778,
              "#fb9f3a"
             ],
             [
              0.8888888888888888,
              "#fdca26"
             ],
             [
              1,
              "#f0f921"
             ]
            ],
            "type": "histogram2d"
           }
          ],
          "histogram2dcontour": [
           {
            "colorbar": {
             "outlinewidth": 0,
             "ticks": ""
            },
            "colorscale": [
             [
              0,
              "#0d0887"
             ],
             [
              0.1111111111111111,
              "#46039f"
             ],
             [
              0.2222222222222222,
              "#7201a8"
             ],
             [
              0.3333333333333333,
              "#9c179e"
             ],
             [
              0.4444444444444444,
              "#bd3786"
             ],
             [
              0.5555555555555556,
              "#d8576b"
             ],
             [
              0.6666666666666666,
              "#ed7953"
             ],
             [
              0.7777777777777778,
              "#fb9f3a"
             ],
             [
              0.8888888888888888,
              "#fdca26"
             ],
             [
              1,
              "#f0f921"
             ]
            ],
            "type": "histogram2dcontour"
           }
          ],
          "mesh3d": [
           {
            "colorbar": {
             "outlinewidth": 0,
             "ticks": ""
            },
            "type": "mesh3d"
           }
          ],
          "parcoords": [
           {
            "line": {
             "colorbar": {
              "outlinewidth": 0,
              "ticks": ""
             }
            },
            "type": "parcoords"
           }
          ],
          "pie": [
           {
            "automargin": true,
            "type": "pie"
           }
          ],
          "scatter": [
           {
            "fillpattern": {
             "fillmode": "overlay",
             "size": 10,
             "solidity": 0.2
            },
            "type": "scatter"
           }
          ],
          "scatter3d": [
           {
            "line": {
             "colorbar": {
              "outlinewidth": 0,
              "ticks": ""
             }
            },
            "marker": {
             "colorbar": {
              "outlinewidth": 0,
              "ticks": ""
             }
            },
            "type": "scatter3d"
           }
          ],
          "scattercarpet": [
           {
            "marker": {
             "colorbar": {
              "outlinewidth": 0,
              "ticks": ""
             }
            },
            "type": "scattercarpet"
           }
          ],
          "scattergeo": [
           {
            "marker": {
             "colorbar": {
              "outlinewidth": 0,
              "ticks": ""
             }
            },
            "type": "scattergeo"
           }
          ],
          "scattergl": [
           {
            "marker": {
             "colorbar": {
              "outlinewidth": 0,
              "ticks": ""
             }
            },
            "type": "scattergl"
           }
          ],
          "scattermapbox": [
           {
            "marker": {
             "colorbar": {
              "outlinewidth": 0,
              "ticks": ""
             }
            },
            "type": "scattermapbox"
           }
          ],
          "scatterpolar": [
           {
            "marker": {
             "colorbar": {
              "outlinewidth": 0,
              "ticks": ""
             }
            },
            "type": "scatterpolar"
           }
          ],
          "scatterpolargl": [
           {
            "marker": {
             "colorbar": {
              "outlinewidth": 0,
              "ticks": ""
             }
            },
            "type": "scatterpolargl"
           }
          ],
          "scatterternary": [
           {
            "marker": {
             "colorbar": {
              "outlinewidth": 0,
              "ticks": ""
             }
            },
            "type": "scatterternary"
           }
          ],
          "surface": [
           {
            "colorbar": {
             "outlinewidth": 0,
             "ticks": ""
            },
            "colorscale": [
             [
              0,
              "#0d0887"
             ],
             [
              0.1111111111111111,
              "#46039f"
             ],
             [
              0.2222222222222222,
              "#7201a8"
             ],
             [
              0.3333333333333333,
              "#9c179e"
             ],
             [
              0.4444444444444444,
              "#bd3786"
             ],
             [
              0.5555555555555556,
              "#d8576b"
             ],
             [
              0.6666666666666666,
              "#ed7953"
             ],
             [
              0.7777777777777778,
              "#fb9f3a"
             ],
             [
              0.8888888888888888,
              "#fdca26"
             ],
             [
              1,
              "#f0f921"
             ]
            ],
            "type": "surface"
           }
          ],
          "table": [
           {
            "cells": {
             "fill": {
              "color": "#EBF0F8"
             },
             "line": {
              "color": "white"
             }
            },
            "header": {
             "fill": {
              "color": "#C8D4E3"
             },
             "line": {
              "color": "white"
             }
            },
            "type": "table"
           }
          ]
         },
         "layout": {
          "annotationdefaults": {
           "arrowcolor": "#2a3f5f",
           "arrowhead": 0,
           "arrowwidth": 1
          },
          "autotypenumbers": "strict",
          "coloraxis": {
           "colorbar": {
            "outlinewidth": 0,
            "ticks": ""
           }
          },
          "colorscale": {
           "diverging": [
            [
             0,
             "#8e0152"
            ],
            [
             0.1,
             "#c51b7d"
            ],
            [
             0.2,
             "#de77ae"
            ],
            [
             0.3,
             "#f1b6da"
            ],
            [
             0.4,
             "#fde0ef"
            ],
            [
             0.5,
             "#f7f7f7"
            ],
            [
             0.6,
             "#e6f5d0"
            ],
            [
             0.7,
             "#b8e186"
            ],
            [
             0.8,
             "#7fbc41"
            ],
            [
             0.9,
             "#4d9221"
            ],
            [
             1,
             "#276419"
            ]
           ],
           "sequential": [
            [
             0,
             "#0d0887"
            ],
            [
             0.1111111111111111,
             "#46039f"
            ],
            [
             0.2222222222222222,
             "#7201a8"
            ],
            [
             0.3333333333333333,
             "#9c179e"
            ],
            [
             0.4444444444444444,
             "#bd3786"
            ],
            [
             0.5555555555555556,
             "#d8576b"
            ],
            [
             0.6666666666666666,
             "#ed7953"
            ],
            [
             0.7777777777777778,
             "#fb9f3a"
            ],
            [
             0.8888888888888888,
             "#fdca26"
            ],
            [
             1,
             "#f0f921"
            ]
           ],
           "sequentialminus": [
            [
             0,
             "#0d0887"
            ],
            [
             0.1111111111111111,
             "#46039f"
            ],
            [
             0.2222222222222222,
             "#7201a8"
            ],
            [
             0.3333333333333333,
             "#9c179e"
            ],
            [
             0.4444444444444444,
             "#bd3786"
            ],
            [
             0.5555555555555556,
             "#d8576b"
            ],
            [
             0.6666666666666666,
             "#ed7953"
            ],
            [
             0.7777777777777778,
             "#fb9f3a"
            ],
            [
             0.8888888888888888,
             "#fdca26"
            ],
            [
             1,
             "#f0f921"
            ]
           ]
          },
          "colorway": [
           "#636efa",
           "#EF553B",
           "#00cc96",
           "#ab63fa",
           "#FFA15A",
           "#19d3f3",
           "#FF6692",
           "#B6E880",
           "#FF97FF",
           "#FECB52"
          ],
          "font": {
           "color": "#2a3f5f"
          },
          "geo": {
           "bgcolor": "white",
           "lakecolor": "white",
           "landcolor": "#E5ECF6",
           "showlakes": true,
           "showland": true,
           "subunitcolor": "white"
          },
          "hoverlabel": {
           "align": "left"
          },
          "hovermode": "closest",
          "mapbox": {
           "style": "light"
          },
          "paper_bgcolor": "white",
          "plot_bgcolor": "#E5ECF6",
          "polar": {
           "angularaxis": {
            "gridcolor": "white",
            "linecolor": "white",
            "ticks": ""
           },
           "bgcolor": "#E5ECF6",
           "radialaxis": {
            "gridcolor": "white",
            "linecolor": "white",
            "ticks": ""
           }
          },
          "scene": {
           "xaxis": {
            "backgroundcolor": "#E5ECF6",
            "gridcolor": "white",
            "gridwidth": 2,
            "linecolor": "white",
            "showbackground": true,
            "ticks": "",
            "zerolinecolor": "white"
           },
           "yaxis": {
            "backgroundcolor": "#E5ECF6",
            "gridcolor": "white",
            "gridwidth": 2,
            "linecolor": "white",
            "showbackground": true,
            "ticks": "",
            "zerolinecolor": "white"
           },
           "zaxis": {
            "backgroundcolor": "#E5ECF6",
            "gridcolor": "white",
            "gridwidth": 2,
            "linecolor": "white",
            "showbackground": true,
            "ticks": "",
            "zerolinecolor": "white"
           }
          },
          "shapedefaults": {
           "line": {
            "color": "#2a3f5f"
           }
          },
          "ternary": {
           "aaxis": {
            "gridcolor": "white",
            "linecolor": "white",
            "ticks": ""
           },
           "baxis": {
            "gridcolor": "white",
            "linecolor": "white",
            "ticks": ""
           },
           "bgcolor": "#E5ECF6",
           "caxis": {
            "gridcolor": "white",
            "linecolor": "white",
            "ticks": ""
           }
          },
          "title": {
           "x": 0.05
          },
          "xaxis": {
           "automargin": true,
           "gridcolor": "white",
           "linecolor": "white",
           "ticks": "",
           "title": {
            "standoff": 15
           },
           "zerolinecolor": "white",
           "zerolinewidth": 2
          },
          "yaxis": {
           "automargin": true,
           "gridcolor": "white",
           "linecolor": "white",
           "ticks": "",
           "title": {
            "standoff": 15
           },
           "zerolinecolor": "white",
           "zerolinewidth": 2
          }
         }
        },
        "title": {
         "text": "Training & Testing Accuracy vs Learning Rate"
        },
        "xaxis": {
         "anchor": "y",
         "domain": [
          0,
          1
         ],
         "title": {
          "text": "learning_rate"
         }
        },
        "yaxis": {
         "anchor": "x",
         "domain": [
          0,
          1
         ],
         "title": {
          "text": "value"
         }
        }
       }
      }
     },
     "metadata": {},
     "output_type": "display_data"
    }
   ],
   "source": [
    "training_accuracy = []\n",
    "test_accuracy = []\n",
    "# try learning_rate from 0.1 to 0.9\n",
    "depth = range(1,10)\n",
    "for n in depth:\n",
    "    forest_test =  GradientBoostingClassifier(learning_rate = n*0.1)\n",
    "\n",
    "    forest_test.fit(X_train, y_train)\n",
    "    # record training set accuracy\n",
    "    training_accuracy.append(forest_test.score(X_train, y_train))\n",
    "    # record generalization accuracy\n",
    "    test_accuracy.append(forest_test.score(X_test, y_test))\n",
    "    \n",
    "\n",
    "# #plotting the training & testing accuracy for n_estimators from 1 to 50\n",
    "# plt.figure(figsize=None)\n",
    "# plt.plot(depth, training_accuracy, label=\"training accuracy\")\n",
    "# plt.plot(depth, test_accuracy, label=\"test accuracy\")\n",
    "# plt.ylabel(\"Accuracy\")  \n",
    "# plt.xlabel(\"learning_rate\")\n",
    "# plt.legend();\n",
    "\n",
    "\n",
    "# using the plotly library to plot the training & testing accuracy for n_estimators from 1 to 50\n",
    "fig = px.line(x=depth, y=[training_accuracy, test_accuracy], labels={\"x\": \"learning_rate\", \"y\": \"Accuracy\"},\n",
    "              title=\"Training & Testing Accuracy vs Learning Rate\")\n",
    "fig.update_traces(line=dict(width=2), selector=dict(mode='lines+markers'))\n",
    "fig.show()\n"
   ]
  },
  {
   "cell_type": "code",
   "execution_count": 45,
   "id": "660fe8b1",
   "metadata": {},
   "outputs": [],
   "source": [
    "#storing the results. The below mentioned order of parameter passing is important.\n",
    "\n",
    "storeResults('Gradient Boosting Classifier',acc_test_gbc,f1_score_test_gbc,\n",
    "             recall_score_train_gbc,precision_score_train_gbc)"
   ]
  },
  {
   "cell_type": "markdown",
   "id": "c6820aa6",
   "metadata": {},
   "source": [
    "## 5.8. CatBoost Classifier"
   ]
  },
  {
   "cell_type": "code",
   "execution_count": 46,
   "id": "387e3c57",
   "metadata": {},
   "outputs": [
    {
     "name": "stdout",
     "output_type": "stream",
     "text": [
      "0:\tlearn: 0.5487232\ttotal: 49ms\tremaining: 49s\n",
      "1:\tlearn: 0.4349357\ttotal: 53ms\tremaining: 26.4s\n",
      "2:\tlearn: 0.3609236\ttotal: 55ms\tremaining: 18.3s\n",
      "3:\tlearn: 0.3050829\ttotal: 57.3ms\tremaining: 14.3s\n",
      "4:\tlearn: 0.2766620\ttotal: 59.6ms\tremaining: 11.9s\n",
      "5:\tlearn: 0.2475476\ttotal: 63.4ms\tremaining: 10.5s\n",
      "6:\tlearn: 0.2286637\ttotal: 65.7ms\tremaining: 9.32s\n",
      "7:\tlearn: 0.2138754\ttotal: 69.2ms\tremaining: 8.59s\n",
      "8:\tlearn: 0.2013643\ttotal: 72.2ms\tremaining: 7.96s\n",
      "9:\tlearn: 0.1896378\ttotal: 74.2ms\tremaining: 7.35s\n",
      "10:\tlearn: 0.1819539\ttotal: 76.2ms\tremaining: 6.85s\n",
      "11:\tlearn: 0.1767867\ttotal: 78.4ms\tremaining: 6.45s\n",
      "12:\tlearn: 0.1727735\ttotal: 81.1ms\tremaining: 6.16s\n",
      "13:\tlearn: 0.1682578\ttotal: 83.3ms\tremaining: 5.86s\n",
      "14:\tlearn: 0.1641759\ttotal: 86.1ms\tremaining: 5.66s\n",
      "15:\tlearn: 0.1614218\ttotal: 88.1ms\tremaining: 5.42s\n",
      "16:\tlearn: 0.1558968\ttotal: 90.3ms\tremaining: 5.22s\n",
      "17:\tlearn: 0.1535881\ttotal: 92.4ms\tremaining: 5.04s\n",
      "18:\tlearn: 0.1514228\ttotal: 95ms\tremaining: 4.91s\n",
      "19:\tlearn: 0.1482580\ttotal: 97.5ms\tremaining: 4.78s\n",
      "20:\tlearn: 0.1452536\ttotal: 100ms\tremaining: 4.67s\n",
      "21:\tlearn: 0.1426992\ttotal: 102ms\tremaining: 4.55s\n",
      "22:\tlearn: 0.1405068\ttotal: 105ms\tremaining: 4.45s\n",
      "23:\tlearn: 0.1381617\ttotal: 108ms\tremaining: 4.41s\n",
      "24:\tlearn: 0.1363558\ttotal: 111ms\tremaining: 4.33s\n",
      "25:\tlearn: 0.1341378\ttotal: 113ms\tremaining: 4.24s\n",
      "26:\tlearn: 0.1323241\ttotal: 116ms\tremaining: 4.18s\n",
      "27:\tlearn: 0.1305175\ttotal: 118ms\tremaining: 4.1s\n",
      "28:\tlearn: 0.1289123\ttotal: 120ms\tremaining: 4.03s\n",
      "29:\tlearn: 0.1278445\ttotal: 122ms\tremaining: 3.95s\n",
      "30:\tlearn: 0.1256489\ttotal: 125ms\tremaining: 3.9s\n",
      "31:\tlearn: 0.1239303\ttotal: 127ms\tremaining: 3.85s\n",
      "32:\tlearn: 0.1216332\ttotal: 130ms\tremaining: 3.8s\n",
      "33:\tlearn: 0.1207898\ttotal: 132ms\tremaining: 3.75s\n",
      "34:\tlearn: 0.1197948\ttotal: 134ms\tremaining: 3.69s\n",
      "35:\tlearn: 0.1187666\ttotal: 137ms\tremaining: 3.66s\n",
      "36:\tlearn: 0.1175524\ttotal: 139ms\tremaining: 3.63s\n",
      "37:\tlearn: 0.1164566\ttotal: 142ms\tremaining: 3.58s\n",
      "38:\tlearn: 0.1156115\ttotal: 144ms\tremaining: 3.54s\n",
      "39:\tlearn: 0.1143547\ttotal: 146ms\tremaining: 3.5s\n",
      "40:\tlearn: 0.1131558\ttotal: 148ms\tremaining: 3.46s\n",
      "41:\tlearn: 0.1122965\ttotal: 151ms\tremaining: 3.44s\n",
      "42:\tlearn: 0.1113744\ttotal: 153ms\tremaining: 3.4s\n",
      "43:\tlearn: 0.1103635\ttotal: 155ms\tremaining: 3.36s\n",
      "44:\tlearn: 0.1093154\ttotal: 158ms\tremaining: 3.35s\n",
      "45:\tlearn: 0.1085949\ttotal: 160ms\tremaining: 3.31s\n",
      "46:\tlearn: 0.1078806\ttotal: 162ms\tremaining: 3.28s\n",
      "47:\tlearn: 0.1071933\ttotal: 164ms\tremaining: 3.25s\n",
      "48:\tlearn: 0.1061508\ttotal: 166ms\tremaining: 3.22s\n",
      "49:\tlearn: 0.1051555\ttotal: 168ms\tremaining: 3.19s\n",
      "50:\tlearn: 0.1044416\ttotal: 170ms\tremaining: 3.16s\n",
      "51:\tlearn: 0.1035176\ttotal: 172ms\tremaining: 3.13s\n",
      "52:\tlearn: 0.1021724\ttotal: 174ms\tremaining: 3.11s\n",
      "53:\tlearn: 0.1012434\ttotal: 176ms\tremaining: 3.08s\n",
      "54:\tlearn: 0.1005327\ttotal: 178ms\tremaining: 3.06s\n",
      "55:\tlearn: 0.0998745\ttotal: 180ms\tremaining: 3.03s\n",
      "56:\tlearn: 0.0986848\ttotal: 183ms\tremaining: 3.02s\n",
      "57:\tlearn: 0.0979806\ttotal: 185ms\tremaining: 3s\n",
      "58:\tlearn: 0.0974501\ttotal: 187ms\tremaining: 2.98s\n",
      "59:\tlearn: 0.0967877\ttotal: 190ms\tremaining: 2.97s\n",
      "60:\tlearn: 0.0956301\ttotal: 192ms\tremaining: 2.95s\n",
      "61:\tlearn: 0.0950716\ttotal: 194ms\tremaining: 2.93s\n",
      "62:\tlearn: 0.0943425\ttotal: 196ms\tremaining: 2.92s\n",
      "63:\tlearn: 0.0938689\ttotal: 198ms\tremaining: 2.9s\n",
      "64:\tlearn: 0.0936562\ttotal: 200ms\tremaining: 2.88s\n",
      "65:\tlearn: 0.0931162\ttotal: 202ms\tremaining: 2.86s\n",
      "66:\tlearn: 0.0925359\ttotal: 204ms\tremaining: 2.85s\n",
      "67:\tlearn: 0.0916716\ttotal: 206ms\tremaining: 2.83s\n",
      "68:\tlearn: 0.0906297\ttotal: 209ms\tremaining: 2.82s\n",
      "69:\tlearn: 0.0899342\ttotal: 211ms\tremaining: 2.8s\n",
      "70:\tlearn: 0.0892701\ttotal: 213ms\tremaining: 2.79s\n",
      "71:\tlearn: 0.0888753\ttotal: 215ms\tremaining: 2.78s\n",
      "72:\tlearn: 0.0881357\ttotal: 218ms\tremaining: 2.76s\n",
      "73:\tlearn: 0.0877790\ttotal: 220ms\tremaining: 2.75s\n",
      "74:\tlearn: 0.0874838\ttotal: 222ms\tremaining: 2.74s\n",
      "75:\tlearn: 0.0869608\ttotal: 224ms\tremaining: 2.73s\n",
      "76:\tlearn: 0.0865361\ttotal: 226ms\tremaining: 2.71s\n",
      "77:\tlearn: 0.0861421\ttotal: 229ms\tremaining: 2.7s\n",
      "78:\tlearn: 0.0857547\ttotal: 231ms\tremaining: 2.69s\n",
      "79:\tlearn: 0.0844840\ttotal: 233ms\tremaining: 2.67s\n",
      "80:\tlearn: 0.0840523\ttotal: 235ms\tremaining: 2.67s\n",
      "81:\tlearn: 0.0838115\ttotal: 237ms\tremaining: 2.66s\n",
      "82:\tlearn: 0.0835476\ttotal: 241ms\tremaining: 2.66s\n",
      "83:\tlearn: 0.0831790\ttotal: 243ms\tremaining: 2.65s\n",
      "84:\tlearn: 0.0826715\ttotal: 246ms\tremaining: 2.64s\n",
      "85:\tlearn: 0.0817979\ttotal: 248ms\tremaining: 2.64s\n",
      "86:\tlearn: 0.0813965\ttotal: 251ms\tremaining: 2.63s\n",
      "87:\tlearn: 0.0810891\ttotal: 253ms\tremaining: 2.62s\n",
      "88:\tlearn: 0.0805226\ttotal: 256ms\tremaining: 2.62s\n",
      "89:\tlearn: 0.0800868\ttotal: 258ms\tremaining: 2.61s\n",
      "90:\tlearn: 0.0796689\ttotal: 260ms\tremaining: 2.6s\n",
      "91:\tlearn: 0.0793265\ttotal: 262ms\tremaining: 2.59s\n",
      "92:\tlearn: 0.0789320\ttotal: 265ms\tremaining: 2.58s\n",
      "93:\tlearn: 0.0785365\ttotal: 267ms\tremaining: 2.57s\n",
      "94:\tlearn: 0.0780166\ttotal: 269ms\tremaining: 2.56s\n",
      "95:\tlearn: 0.0771478\ttotal: 271ms\tremaining: 2.55s\n",
      "96:\tlearn: 0.0768522\ttotal: 273ms\tremaining: 2.54s\n",
      "97:\tlearn: 0.0761982\ttotal: 276ms\tremaining: 2.54s\n",
      "98:\tlearn: 0.0758859\ttotal: 278ms\tremaining: 2.53s\n",
      "99:\tlearn: 0.0755311\ttotal: 280ms\tremaining: 2.52s\n",
      "100:\tlearn: 0.0749254\ttotal: 282ms\tremaining: 2.51s\n",
      "101:\tlearn: 0.0745232\ttotal: 284ms\tremaining: 2.5s\n",
      "102:\tlearn: 0.0742103\ttotal: 286ms\tremaining: 2.49s\n",
      "103:\tlearn: 0.0738550\ttotal: 288ms\tremaining: 2.48s\n",
      "104:\tlearn: 0.0733823\ttotal: 290ms\tremaining: 2.47s\n",
      "105:\tlearn: 0.0727215\ttotal: 292ms\tremaining: 2.46s\n",
      "106:\tlearn: 0.0721881\ttotal: 294ms\tremaining: 2.46s\n",
      "107:\tlearn: 0.0719881\ttotal: 296ms\tremaining: 2.45s\n",
      "108:\tlearn: 0.0715811\ttotal: 298ms\tremaining: 2.44s\n",
      "109:\tlearn: 0.0710623\ttotal: 300ms\tremaining: 2.43s\n",
      "110:\tlearn: 0.0707868\ttotal: 302ms\tremaining: 2.42s\n",
      "111:\tlearn: 0.0705032\ttotal: 304ms\tremaining: 2.41s\n",
      "112:\tlearn: 0.0702643\ttotal: 307ms\tremaining: 2.41s\n",
      "113:\tlearn: 0.0700158\ttotal: 309ms\tremaining: 2.4s\n",
      "114:\tlearn: 0.0697033\ttotal: 311ms\tremaining: 2.39s\n",
      "115:\tlearn: 0.0693206\ttotal: 313ms\tremaining: 2.39s\n",
      "116:\tlearn: 0.0688914\ttotal: 315ms\tremaining: 2.38s\n",
      "117:\tlearn: 0.0681163\ttotal: 317ms\tremaining: 2.37s\n",
      "118:\tlearn: 0.0677305\ttotal: 319ms\tremaining: 2.36s\n",
      "119:\tlearn: 0.0675146\ttotal: 321ms\tremaining: 2.36s\n",
      "120:\tlearn: 0.0670681\ttotal: 323ms\tremaining: 2.35s\n",
      "121:\tlearn: 0.0667106\ttotal: 326ms\tremaining: 2.34s\n",
      "122:\tlearn: 0.0664825\ttotal: 328ms\tremaining: 2.34s\n",
      "123:\tlearn: 0.0661842\ttotal: 330ms\tremaining: 2.33s\n",
      "124:\tlearn: 0.0656590\ttotal: 332ms\tremaining: 2.33s\n",
      "125:\tlearn: 0.0653552\ttotal: 334ms\tremaining: 2.32s\n",
      "126:\tlearn: 0.0650482\ttotal: 336ms\tremaining: 2.31s\n",
      "127:\tlearn: 0.0647403\ttotal: 339ms\tremaining: 2.31s\n",
      "128:\tlearn: 0.0645124\ttotal: 341ms\tremaining: 2.3s\n",
      "129:\tlearn: 0.0642397\ttotal: 343ms\tremaining: 2.29s\n",
      "130:\tlearn: 0.0638785\ttotal: 345ms\tremaining: 2.29s\n",
      "131:\tlearn: 0.0636326\ttotal: 347ms\tremaining: 2.28s\n",
      "132:\tlearn: 0.0634690\ttotal: 350ms\tremaining: 2.28s\n",
      "133:\tlearn: 0.0630192\ttotal: 352ms\tremaining: 2.27s\n",
      "134:\tlearn: 0.0626098\ttotal: 354ms\tremaining: 2.27s\n",
      "135:\tlearn: 0.0624539\ttotal: 356ms\tremaining: 2.26s\n",
      "136:\tlearn: 0.0620906\ttotal: 358ms\tremaining: 2.25s\n",
      "137:\tlearn: 0.0618404\ttotal: 360ms\tremaining: 2.25s\n",
      "138:\tlearn: 0.0616377\ttotal: 362ms\tremaining: 2.24s\n",
      "139:\tlearn: 0.0614321\ttotal: 365ms\tremaining: 2.24s\n",
      "140:\tlearn: 0.0610144\ttotal: 367ms\tremaining: 2.23s\n",
      "141:\tlearn: 0.0607740\ttotal: 369ms\tremaining: 2.23s\n",
      "142:\tlearn: 0.0604074\ttotal: 371ms\tremaining: 2.22s\n",
      "143:\tlearn: 0.0601492\ttotal: 373ms\tremaining: 2.22s\n",
      "144:\tlearn: 0.0599332\ttotal: 375ms\tremaining: 2.21s\n",
      "145:\tlearn: 0.0595986\ttotal: 377ms\tremaining: 2.21s\n",
      "146:\tlearn: 0.0594607\ttotal: 379ms\tremaining: 2.2s\n",
      "147:\tlearn: 0.0592346\ttotal: 381ms\tremaining: 2.19s\n",
      "148:\tlearn: 0.0590329\ttotal: 384ms\tremaining: 2.19s\n",
      "149:\tlearn: 0.0588296\ttotal: 386ms\tremaining: 2.19s\n",
      "150:\tlearn: 0.0585094\ttotal: 388ms\tremaining: 2.18s\n",
      "151:\tlearn: 0.0583468\ttotal: 390ms\tremaining: 2.17s\n",
      "152:\tlearn: 0.0581616\ttotal: 392ms\tremaining: 2.17s\n",
      "153:\tlearn: 0.0579070\ttotal: 394ms\tremaining: 2.16s\n",
      "154:\tlearn: 0.0577100\ttotal: 396ms\tremaining: 2.16s\n",
      "155:\tlearn: 0.0575204\ttotal: 398ms\tremaining: 2.15s\n",
      "156:\tlearn: 0.0572530\ttotal: 400ms\tremaining: 2.15s\n",
      "157:\tlearn: 0.0569274\ttotal: 402ms\tremaining: 2.14s\n",
      "158:\tlearn: 0.0566762\ttotal: 404ms\tremaining: 2.14s\n",
      "159:\tlearn: 0.0565614\ttotal: 406ms\tremaining: 2.13s\n",
      "160:\tlearn: 0.0562647\ttotal: 408ms\tremaining: 2.13s\n",
      "161:\tlearn: 0.0560566\ttotal: 410ms\tremaining: 2.12s\n",
      "162:\tlearn: 0.0558560\ttotal: 412ms\tremaining: 2.12s\n",
      "163:\tlearn: 0.0554512\ttotal: 414ms\tremaining: 2.11s\n",
      "164:\tlearn: 0.0552806\ttotal: 416ms\tremaining: 2.11s\n",
      "165:\tlearn: 0.0550538\ttotal: 418ms\tremaining: 2.1s\n",
      "166:\tlearn: 0.0548825\ttotal: 420ms\tremaining: 2.1s\n",
      "167:\tlearn: 0.0547805\ttotal: 423ms\tremaining: 2.09s\n",
      "168:\tlearn: 0.0546642\ttotal: 425ms\tremaining: 2.09s\n",
      "169:\tlearn: 0.0543574\ttotal: 427ms\tremaining: 2.08s\n",
      "170:\tlearn: 0.0542539\ttotal: 429ms\tremaining: 2.08s\n",
      "171:\tlearn: 0.0540977\ttotal: 432ms\tremaining: 2.08s\n",
      "172:\tlearn: 0.0539741\ttotal: 433ms\tremaining: 2.07s\n",
      "173:\tlearn: 0.0537793\ttotal: 436ms\tremaining: 2.07s\n",
      "174:\tlearn: 0.0535499\ttotal: 438ms\tremaining: 2.06s\n",
      "175:\tlearn: 0.0533461\ttotal: 440ms\tremaining: 2.06s\n",
      "176:\tlearn: 0.0531326\ttotal: 442ms\tremaining: 2.05s\n",
      "177:\tlearn: 0.0530595\ttotal: 444ms\tremaining: 2.05s\n",
      "178:\tlearn: 0.0529470\ttotal: 446ms\tremaining: 2.04s\n",
      "179:\tlearn: 0.0527691\ttotal: 448ms\tremaining: 2.04s\n",
      "180:\tlearn: 0.0526404\ttotal: 450ms\tremaining: 2.04s\n",
      "181:\tlearn: 0.0525145\ttotal: 452ms\tremaining: 2.03s\n",
      "182:\tlearn: 0.0524332\ttotal: 454ms\tremaining: 2.03s\n",
      "183:\tlearn: 0.0522311\ttotal: 456ms\tremaining: 2.02s\n",
      "184:\tlearn: 0.0519353\ttotal: 458ms\tremaining: 2.02s\n",
      "185:\tlearn: 0.0515714\ttotal: 460ms\tremaining: 2.02s\n",
      "186:\tlearn: 0.0514909\ttotal: 463ms\tremaining: 2.01s\n",
      "187:\tlearn: 0.0513162\ttotal: 465ms\tremaining: 2.01s\n",
      "188:\tlearn: 0.0511884\ttotal: 467ms\tremaining: 2s\n",
      "189:\tlearn: 0.0510652\ttotal: 469ms\tremaining: 2s\n",
      "190:\tlearn: 0.0509786\ttotal: 471ms\tremaining: 2s\n",
      "191:\tlearn: 0.0508893\ttotal: 473ms\tremaining: 1.99s\n",
      "192:\tlearn: 0.0505900\ttotal: 476ms\tremaining: 1.99s\n",
      "193:\tlearn: 0.0504426\ttotal: 478ms\tremaining: 1.99s\n",
      "194:\tlearn: 0.0502767\ttotal: 480ms\tremaining: 1.98s\n",
      "195:\tlearn: 0.0500644\ttotal: 482ms\tremaining: 1.98s\n",
      "196:\tlearn: 0.0499431\ttotal: 484ms\tremaining: 1.97s\n",
      "197:\tlearn: 0.0498418\ttotal: 486ms\tremaining: 1.97s\n",
      "198:\tlearn: 0.0497734\ttotal: 489ms\tremaining: 1.97s\n",
      "199:\tlearn: 0.0496759\ttotal: 491ms\tremaining: 1.96s\n",
      "200:\tlearn: 0.0494923\ttotal: 493ms\tremaining: 1.96s\n",
      "201:\tlearn: 0.0493402\ttotal: 495ms\tremaining: 1.96s\n",
      "202:\tlearn: 0.0492795\ttotal: 497ms\tremaining: 1.95s\n",
      "203:\tlearn: 0.0489776\ttotal: 500ms\tremaining: 1.95s\n",
      "204:\tlearn: 0.0486491\ttotal: 502ms\tremaining: 1.95s\n",
      "205:\tlearn: 0.0484551\ttotal: 504ms\tremaining: 1.94s\n",
      "206:\tlearn: 0.0482768\ttotal: 506ms\tremaining: 1.94s\n",
      "207:\tlearn: 0.0481178\ttotal: 508ms\tremaining: 1.94s\n",
      "208:\tlearn: 0.0479317\ttotal: 510ms\tremaining: 1.93s\n",
      "209:\tlearn: 0.0476658\ttotal: 512ms\tremaining: 1.93s\n",
      "210:\tlearn: 0.0474069\ttotal: 515ms\tremaining: 1.92s\n",
      "211:\tlearn: 0.0471817\ttotal: 517ms\tremaining: 1.92s\n",
      "212:\tlearn: 0.0470479\ttotal: 519ms\tremaining: 1.92s\n",
      "213:\tlearn: 0.0469487\ttotal: 521ms\tremaining: 1.91s\n",
      "214:\tlearn: 0.0468552\ttotal: 523ms\tremaining: 1.91s\n",
      "215:\tlearn: 0.0466651\ttotal: 525ms\tremaining: 1.9s\n",
      "216:\tlearn: 0.0465418\ttotal: 527ms\tremaining: 1.9s\n",
      "217:\tlearn: 0.0464800\ttotal: 529ms\tremaining: 1.9s\n",
      "218:\tlearn: 0.0463546\ttotal: 531ms\tremaining: 1.89s\n",
      "219:\tlearn: 0.0461314\ttotal: 534ms\tremaining: 1.89s\n",
      "220:\tlearn: 0.0460039\ttotal: 536ms\tremaining: 1.89s\n",
      "221:\tlearn: 0.0458286\ttotal: 538ms\tremaining: 1.88s\n",
      "222:\tlearn: 0.0456749\ttotal: 540ms\tremaining: 1.88s\n",
      "223:\tlearn: 0.0455866\ttotal: 542ms\tremaining: 1.88s\n",
      "224:\tlearn: 0.0453525\ttotal: 544ms\tremaining: 1.87s\n",
      "225:\tlearn: 0.0452161\ttotal: 546ms\tremaining: 1.87s\n",
      "226:\tlearn: 0.0450903\ttotal: 548ms\tremaining: 1.87s\n",
      "227:\tlearn: 0.0449873\ttotal: 550ms\tremaining: 1.86s\n",
      "228:\tlearn: 0.0448315\ttotal: 552ms\tremaining: 1.86s\n",
      "229:\tlearn: 0.0447866\ttotal: 554ms\tremaining: 1.86s\n",
      "230:\tlearn: 0.0447060\ttotal: 556ms\tremaining: 1.85s\n",
      "231:\tlearn: 0.0446381\ttotal: 559ms\tremaining: 1.85s\n",
      "232:\tlearn: 0.0445557\ttotal: 561ms\tremaining: 1.85s\n",
      "233:\tlearn: 0.0445173\ttotal: 563ms\tremaining: 1.84s\n",
      "234:\tlearn: 0.0444360\ttotal: 565ms\tremaining: 1.84s\n",
      "235:\tlearn: 0.0442935\ttotal: 567ms\tremaining: 1.84s\n",
      "236:\tlearn: 0.0441398\ttotal: 569ms\tremaining: 1.83s\n",
      "237:\tlearn: 0.0440522\ttotal: 572ms\tremaining: 1.83s\n",
      "238:\tlearn: 0.0439884\ttotal: 574ms\tremaining: 1.83s\n",
      "239:\tlearn: 0.0438421\ttotal: 576ms\tremaining: 1.82s\n",
      "240:\tlearn: 0.0437281\ttotal: 578ms\tremaining: 1.82s\n",
      "241:\tlearn: 0.0435951\ttotal: 581ms\tremaining: 1.82s\n",
      "242:\tlearn: 0.0435615\ttotal: 582ms\tremaining: 1.81s\n",
      "243:\tlearn: 0.0433870\ttotal: 584ms\tremaining: 1.81s\n",
      "244:\tlearn: 0.0432718\ttotal: 587ms\tremaining: 1.81s\n",
      "245:\tlearn: 0.0431472\ttotal: 589ms\tremaining: 1.8s\n",
      "246:\tlearn: 0.0430067\ttotal: 591ms\tremaining: 1.8s\n",
      "247:\tlearn: 0.0429156\ttotal: 593ms\tremaining: 1.8s\n",
      "248:\tlearn: 0.0428247\ttotal: 595ms\tremaining: 1.79s\n",
      "249:\tlearn: 0.0427609\ttotal: 597ms\tremaining: 1.79s\n",
      "250:\tlearn: 0.0426800\ttotal: 599ms\tremaining: 1.78s\n",
      "251:\tlearn: 0.0425901\ttotal: 601ms\tremaining: 1.78s\n",
      "252:\tlearn: 0.0425048\ttotal: 603ms\tremaining: 1.78s\n",
      "253:\tlearn: 0.0423799\ttotal: 605ms\tremaining: 1.78s\n",
      "254:\tlearn: 0.0423338\ttotal: 607ms\tremaining: 1.77s\n",
      "255:\tlearn: 0.0422537\ttotal: 609ms\tremaining: 1.77s\n",
      "256:\tlearn: 0.0420667\ttotal: 611ms\tremaining: 1.77s\n",
      "257:\tlearn: 0.0419256\ttotal: 613ms\tremaining: 1.76s\n",
      "258:\tlearn: 0.0418053\ttotal: 615ms\tremaining: 1.76s\n",
      "259:\tlearn: 0.0417602\ttotal: 617ms\tremaining: 1.76s\n",
      "260:\tlearn: 0.0416520\ttotal: 620ms\tremaining: 1.75s\n",
      "261:\tlearn: 0.0415031\ttotal: 622ms\tremaining: 1.75s\n",
      "262:\tlearn: 0.0414180\ttotal: 624ms\tremaining: 1.75s\n",
      "263:\tlearn: 0.0413413\ttotal: 626ms\tremaining: 1.75s\n",
      "264:\tlearn: 0.0412434\ttotal: 629ms\tremaining: 1.74s\n",
      "265:\tlearn: 0.0410701\ttotal: 631ms\tremaining: 1.74s\n",
      "266:\tlearn: 0.0409790\ttotal: 633ms\tremaining: 1.74s\n",
      "267:\tlearn: 0.0408507\ttotal: 635ms\tremaining: 1.73s\n",
      "268:\tlearn: 0.0406738\ttotal: 637ms\tremaining: 1.73s\n",
      "269:\tlearn: 0.0405711\ttotal: 639ms\tremaining: 1.73s\n",
      "270:\tlearn: 0.0405166\ttotal: 641ms\tremaining: 1.72s\n",
      "271:\tlearn: 0.0404571\ttotal: 643ms\tremaining: 1.72s\n",
      "272:\tlearn: 0.0404132\ttotal: 645ms\tremaining: 1.72s\n",
      "273:\tlearn: 0.0403448\ttotal: 648ms\tremaining: 1.72s\n",
      "274:\tlearn: 0.0402405\ttotal: 650ms\tremaining: 1.71s\n",
      "275:\tlearn: 0.0401784\ttotal: 652ms\tremaining: 1.71s\n",
      "276:\tlearn: 0.0401032\ttotal: 654ms\tremaining: 1.71s\n",
      "277:\tlearn: 0.0400037\ttotal: 656ms\tremaining: 1.7s\n",
      "278:\tlearn: 0.0399720\ttotal: 658ms\tremaining: 1.7s\n",
      "279:\tlearn: 0.0399098\ttotal: 660ms\tremaining: 1.7s\n",
      "280:\tlearn: 0.0398193\ttotal: 662ms\tremaining: 1.69s\n",
      "281:\tlearn: 0.0397107\ttotal: 664ms\tremaining: 1.69s\n",
      "282:\tlearn: 0.0396238\ttotal: 667ms\tremaining: 1.69s\n",
      "283:\tlearn: 0.0395599\ttotal: 669ms\tremaining: 1.69s\n",
      "284:\tlearn: 0.0394077\ttotal: 671ms\tremaining: 1.68s\n",
      "285:\tlearn: 0.0393553\ttotal: 673ms\tremaining: 1.68s\n",
      "286:\tlearn: 0.0392617\ttotal: 675ms\tremaining: 1.68s\n",
      "287:\tlearn: 0.0391791\ttotal: 677ms\tremaining: 1.67s\n",
      "288:\tlearn: 0.0391059\ttotal: 680ms\tremaining: 1.67s\n",
      "289:\tlearn: 0.0389925\ttotal: 682ms\tremaining: 1.67s\n",
      "290:\tlearn: 0.0388878\ttotal: 684ms\tremaining: 1.67s\n",
      "291:\tlearn: 0.0388529\ttotal: 686ms\tremaining: 1.66s\n",
      "292:\tlearn: 0.0387915\ttotal: 688ms\tremaining: 1.66s\n",
      "293:\tlearn: 0.0386696\ttotal: 690ms\tremaining: 1.66s\n",
      "294:\tlearn: 0.0385486\ttotal: 692ms\tremaining: 1.65s\n",
      "295:\tlearn: 0.0384982\ttotal: 694ms\tremaining: 1.65s\n",
      "296:\tlearn: 0.0384189\ttotal: 696ms\tremaining: 1.65s\n",
      "297:\tlearn: 0.0383475\ttotal: 698ms\tremaining: 1.65s\n",
      "298:\tlearn: 0.0382923\ttotal: 701ms\tremaining: 1.64s\n",
      "299:\tlearn: 0.0382194\ttotal: 703ms\tremaining: 1.64s\n",
      "300:\tlearn: 0.0381712\ttotal: 705ms\tremaining: 1.64s\n",
      "301:\tlearn: 0.0380901\ttotal: 707ms\tremaining: 1.63s\n",
      "302:\tlearn: 0.0379529\ttotal: 709ms\tremaining: 1.63s\n",
      "303:\tlearn: 0.0378866\ttotal: 711ms\tremaining: 1.63s\n",
      "304:\tlearn: 0.0377794\ttotal: 713ms\tremaining: 1.62s\n",
      "305:\tlearn: 0.0376159\ttotal: 715ms\tremaining: 1.62s\n",
      "306:\tlearn: 0.0374973\ttotal: 717ms\tremaining: 1.62s\n",
      "307:\tlearn: 0.0374268\ttotal: 719ms\tremaining: 1.61s\n",
      "308:\tlearn: 0.0373551\ttotal: 721ms\tremaining: 1.61s\n",
      "309:\tlearn: 0.0372996\ttotal: 723ms\tremaining: 1.61s\n",
      "310:\tlearn: 0.0372491\ttotal: 725ms\tremaining: 1.61s\n",
      "311:\tlearn: 0.0372046\ttotal: 727ms\tremaining: 1.6s\n",
      "312:\tlearn: 0.0371458\ttotal: 729ms\tremaining: 1.6s\n",
      "313:\tlearn: 0.0370351\ttotal: 731ms\tremaining: 1.6s\n",
      "314:\tlearn: 0.0369537\ttotal: 733ms\tremaining: 1.59s\n",
      "315:\tlearn: 0.0368912\ttotal: 736ms\tremaining: 1.59s\n",
      "316:\tlearn: 0.0368514\ttotal: 738ms\tremaining: 1.59s\n",
      "317:\tlearn: 0.0368131\ttotal: 740ms\tremaining: 1.59s\n",
      "318:\tlearn: 0.0367792\ttotal: 742ms\tremaining: 1.58s\n",
      "319:\tlearn: 0.0367279\ttotal: 744ms\tremaining: 1.58s\n",
      "320:\tlearn: 0.0367059\ttotal: 746ms\tremaining: 1.58s\n",
      "321:\tlearn: 0.0366599\ttotal: 748ms\tremaining: 1.57s\n",
      "322:\tlearn: 0.0365020\ttotal: 750ms\tremaining: 1.57s\n",
      "323:\tlearn: 0.0364542\ttotal: 752ms\tremaining: 1.57s\n",
      "324:\tlearn: 0.0364204\ttotal: 754ms\tremaining: 1.57s\n",
      "325:\tlearn: 0.0363625\ttotal: 756ms\tremaining: 1.56s\n",
      "326:\tlearn: 0.0362867\ttotal: 758ms\tremaining: 1.56s\n",
      "327:\tlearn: 0.0362404\ttotal: 760ms\tremaining: 1.56s\n",
      "328:\tlearn: 0.0361574\ttotal: 762ms\tremaining: 1.55s\n",
      "329:\tlearn: 0.0361096\ttotal: 764ms\tremaining: 1.55s\n",
      "330:\tlearn: 0.0360786\ttotal: 766ms\tremaining: 1.55s\n",
      "331:\tlearn: 0.0360080\ttotal: 768ms\tremaining: 1.55s\n",
      "332:\tlearn: 0.0359705\ttotal: 770ms\tremaining: 1.54s\n",
      "333:\tlearn: 0.0359041\ttotal: 772ms\tremaining: 1.54s\n",
      "334:\tlearn: 0.0358134\ttotal: 774ms\tremaining: 1.54s\n",
      "335:\tlearn: 0.0357625\ttotal: 776ms\tremaining: 1.53s\n",
      "336:\tlearn: 0.0356498\ttotal: 778ms\tremaining: 1.53s\n",
      "337:\tlearn: 0.0355630\ttotal: 781ms\tremaining: 1.53s\n",
      "338:\tlearn: 0.0354664\ttotal: 783ms\tremaining: 1.52s\n",
      "339:\tlearn: 0.0354328\ttotal: 785ms\tremaining: 1.52s\n",
      "340:\tlearn: 0.0353908\ttotal: 787ms\tremaining: 1.52s\n",
      "341:\tlearn: 0.0353248\ttotal: 789ms\tremaining: 1.52s\n",
      "342:\tlearn: 0.0352669\ttotal: 791ms\tremaining: 1.51s\n",
      "343:\tlearn: 0.0352172\ttotal: 793ms\tremaining: 1.51s\n",
      "344:\tlearn: 0.0351687\ttotal: 796ms\tremaining: 1.51s\n",
      "345:\tlearn: 0.0351475\ttotal: 798ms\tremaining: 1.51s\n",
      "346:\tlearn: 0.0350233\ttotal: 800ms\tremaining: 1.5s\n",
      "347:\tlearn: 0.0349995\ttotal: 802ms\tremaining: 1.5s\n",
      "348:\tlearn: 0.0349414\ttotal: 804ms\tremaining: 1.5s\n",
      "349:\tlearn: 0.0349034\ttotal: 806ms\tremaining: 1.5s\n",
      "350:\tlearn: 0.0348012\ttotal: 809ms\tremaining: 1.5s\n",
      "351:\tlearn: 0.0347637\ttotal: 811ms\tremaining: 1.49s\n",
      "352:\tlearn: 0.0347316\ttotal: 812ms\tremaining: 1.49s\n",
      "353:\tlearn: 0.0346767\ttotal: 814ms\tremaining: 1.49s\n",
      "354:\tlearn: 0.0346415\ttotal: 816ms\tremaining: 1.48s\n",
      "355:\tlearn: 0.0345842\ttotal: 818ms\tremaining: 1.48s\n",
      "356:\tlearn: 0.0344702\ttotal: 821ms\tremaining: 1.48s\n",
      "357:\tlearn: 0.0343870\ttotal: 823ms\tremaining: 1.48s\n",
      "358:\tlearn: 0.0343532\ttotal: 825ms\tremaining: 1.47s\n",
      "359:\tlearn: 0.0342877\ttotal: 828ms\tremaining: 1.47s\n",
      "360:\tlearn: 0.0341769\ttotal: 830ms\tremaining: 1.47s\n",
      "361:\tlearn: 0.0341559\ttotal: 832ms\tremaining: 1.47s\n",
      "362:\tlearn: 0.0340802\ttotal: 834ms\tremaining: 1.46s\n",
      "363:\tlearn: 0.0340117\ttotal: 836ms\tremaining: 1.46s\n",
      "364:\tlearn: 0.0339431\ttotal: 838ms\tremaining: 1.46s\n",
      "365:\tlearn: 0.0338809\ttotal: 839ms\tremaining: 1.45s\n",
      "366:\tlearn: 0.0338159\ttotal: 842ms\tremaining: 1.45s\n",
      "367:\tlearn: 0.0337862\ttotal: 844ms\tremaining: 1.45s\n",
      "368:\tlearn: 0.0337620\ttotal: 846ms\tremaining: 1.45s\n",
      "369:\tlearn: 0.0337018\ttotal: 848ms\tremaining: 1.44s\n",
      "370:\tlearn: 0.0336391\ttotal: 850ms\tremaining: 1.44s\n",
      "371:\tlearn: 0.0335537\ttotal: 852ms\tremaining: 1.44s\n",
      "372:\tlearn: 0.0335024\ttotal: 854ms\tremaining: 1.44s\n",
      "373:\tlearn: 0.0334719\ttotal: 856ms\tremaining: 1.43s\n",
      "374:\tlearn: 0.0334368\ttotal: 858ms\tremaining: 1.43s\n",
      "375:\tlearn: 0.0333678\ttotal: 860ms\tremaining: 1.43s\n",
      "376:\tlearn: 0.0333293\ttotal: 862ms\tremaining: 1.43s\n",
      "377:\tlearn: 0.0332929\ttotal: 864ms\tremaining: 1.42s\n",
      "378:\tlearn: 0.0332465\ttotal: 866ms\tremaining: 1.42s\n",
      "379:\tlearn: 0.0331731\ttotal: 869ms\tremaining: 1.42s\n",
      "380:\tlearn: 0.0331123\ttotal: 871ms\tremaining: 1.41s\n",
      "381:\tlearn: 0.0330815\ttotal: 872ms\tremaining: 1.41s\n",
      "382:\tlearn: 0.0329911\ttotal: 875ms\tremaining: 1.41s\n",
      "383:\tlearn: 0.0329486\ttotal: 877ms\tremaining: 1.41s\n",
      "384:\tlearn: 0.0329158\ttotal: 879ms\tremaining: 1.4s\n",
      "385:\tlearn: 0.0328825\ttotal: 881ms\tremaining: 1.4s\n",
      "386:\tlearn: 0.0328548\ttotal: 883ms\tremaining: 1.4s\n",
      "387:\tlearn: 0.0327810\ttotal: 885ms\tremaining: 1.4s\n",
      "388:\tlearn: 0.0327590\ttotal: 887ms\tremaining: 1.39s\n",
      "389:\tlearn: 0.0327366\ttotal: 889ms\tremaining: 1.39s\n",
      "390:\tlearn: 0.0326258\ttotal: 891ms\tremaining: 1.39s\n",
      "391:\tlearn: 0.0326089\ttotal: 893ms\tremaining: 1.39s\n",
      "392:\tlearn: 0.0325731\ttotal: 895ms\tremaining: 1.38s\n",
      "393:\tlearn: 0.0325410\ttotal: 898ms\tremaining: 1.38s\n",
      "394:\tlearn: 0.0325172\ttotal: 900ms\tremaining: 1.38s\n",
      "395:\tlearn: 0.0324639\ttotal: 902ms\tremaining: 1.38s\n",
      "396:\tlearn: 0.0324274\ttotal: 904ms\tremaining: 1.37s\n",
      "397:\tlearn: 0.0323686\ttotal: 907ms\tremaining: 1.37s\n",
      "398:\tlearn: 0.0323451\ttotal: 909ms\tremaining: 1.37s\n",
      "399:\tlearn: 0.0323018\ttotal: 912ms\tremaining: 1.37s\n",
      "400:\tlearn: 0.0322754\ttotal: 914ms\tremaining: 1.36s\n",
      "401:\tlearn: 0.0322375\ttotal: 916ms\tremaining: 1.36s\n",
      "402:\tlearn: 0.0322034\ttotal: 918ms\tremaining: 1.36s\n",
      "403:\tlearn: 0.0321289\ttotal: 921ms\tremaining: 1.36s\n",
      "404:\tlearn: 0.0320859\ttotal: 923ms\tremaining: 1.36s\n",
      "405:\tlearn: 0.0320485\ttotal: 926ms\tremaining: 1.35s\n",
      "406:\tlearn: 0.0320104\ttotal: 928ms\tremaining: 1.35s\n",
      "407:\tlearn: 0.0319307\ttotal: 930ms\tremaining: 1.35s\n",
      "408:\tlearn: 0.0318545\ttotal: 932ms\tremaining: 1.35s\n",
      "409:\tlearn: 0.0317902\ttotal: 934ms\tremaining: 1.34s\n",
      "410:\tlearn: 0.0317538\ttotal: 936ms\tremaining: 1.34s\n",
      "411:\tlearn: 0.0316677\ttotal: 938ms\tremaining: 1.34s\n",
      "412:\tlearn: 0.0316340\ttotal: 941ms\tremaining: 1.34s\n",
      "413:\tlearn: 0.0316212\ttotal: 943ms\tremaining: 1.33s\n",
      "414:\tlearn: 0.0315865\ttotal: 944ms\tremaining: 1.33s\n",
      "415:\tlearn: 0.0315026\ttotal: 947ms\tremaining: 1.33s\n",
      "416:\tlearn: 0.0314715\ttotal: 949ms\tremaining: 1.33s\n",
      "417:\tlearn: 0.0314461\ttotal: 951ms\tremaining: 1.32s\n",
      "418:\tlearn: 0.0313943\ttotal: 953ms\tremaining: 1.32s\n",
      "419:\tlearn: 0.0313461\ttotal: 955ms\tremaining: 1.32s\n",
      "420:\tlearn: 0.0313159\ttotal: 957ms\tremaining: 1.32s\n",
      "421:\tlearn: 0.0312338\ttotal: 959ms\tremaining: 1.31s\n",
      "422:\tlearn: 0.0311835\ttotal: 961ms\tremaining: 1.31s\n",
      "423:\tlearn: 0.0311514\ttotal: 963ms\tremaining: 1.31s\n",
      "424:\tlearn: 0.0311268\ttotal: 966ms\tremaining: 1.31s\n",
      "425:\tlearn: 0.0310930\ttotal: 968ms\tremaining: 1.3s\n",
      "426:\tlearn: 0.0310731\ttotal: 969ms\tremaining: 1.3s\n",
      "427:\tlearn: 0.0310464\ttotal: 972ms\tremaining: 1.3s\n",
      "428:\tlearn: 0.0310290\ttotal: 974ms\tremaining: 1.29s\n",
      "429:\tlearn: 0.0309284\ttotal: 976ms\tremaining: 1.29s\n",
      "430:\tlearn: 0.0308976\ttotal: 978ms\tremaining: 1.29s\n",
      "431:\tlearn: 0.0308595\ttotal: 980ms\tremaining: 1.29s\n",
      "432:\tlearn: 0.0308032\ttotal: 982ms\tremaining: 1.29s\n",
      "433:\tlearn: 0.0307802\ttotal: 985ms\tremaining: 1.28s\n",
      "434:\tlearn: 0.0307535\ttotal: 987ms\tremaining: 1.28s\n",
      "435:\tlearn: 0.0307110\ttotal: 989ms\tremaining: 1.28s\n",
      "436:\tlearn: 0.0306538\ttotal: 991ms\tremaining: 1.28s\n",
      "437:\tlearn: 0.0306330\ttotal: 993ms\tremaining: 1.27s\n",
      "438:\tlearn: 0.0305571\ttotal: 995ms\tremaining: 1.27s\n",
      "439:\tlearn: 0.0305150\ttotal: 997ms\tremaining: 1.27s\n",
      "440:\tlearn: 0.0304785\ttotal: 999ms\tremaining: 1.27s\n",
      "441:\tlearn: 0.0304221\ttotal: 1s\tremaining: 1.26s\n",
      "442:\tlearn: 0.0303907\ttotal: 1s\tremaining: 1.26s\n",
      "443:\tlearn: 0.0303609\ttotal: 1s\tremaining: 1.26s\n",
      "444:\tlearn: 0.0303213\ttotal: 1.01s\tremaining: 1.26s\n",
      "445:\tlearn: 0.0302887\ttotal: 1.01s\tremaining: 1.25s\n",
      "446:\tlearn: 0.0302621\ttotal: 1.01s\tremaining: 1.25s\n",
      "447:\tlearn: 0.0302124\ttotal: 1.01s\tremaining: 1.25s\n",
      "448:\tlearn: 0.0301405\ttotal: 1.02s\tremaining: 1.25s\n",
      "449:\tlearn: 0.0300815\ttotal: 1.02s\tremaining: 1.25s\n",
      "450:\tlearn: 0.0300647\ttotal: 1.02s\tremaining: 1.24s\n",
      "451:\tlearn: 0.0300459\ttotal: 1.02s\tremaining: 1.24s\n",
      "452:\tlearn: 0.0300161\ttotal: 1.02s\tremaining: 1.24s\n",
      "453:\tlearn: 0.0299954\ttotal: 1.03s\tremaining: 1.24s\n",
      "454:\tlearn: 0.0299746\ttotal: 1.03s\tremaining: 1.23s\n",
      "455:\tlearn: 0.0299508\ttotal: 1.03s\tremaining: 1.23s\n",
      "456:\tlearn: 0.0299217\ttotal: 1.03s\tremaining: 1.23s\n",
      "457:\tlearn: 0.0298771\ttotal: 1.04s\tremaining: 1.23s\n",
      "458:\tlearn: 0.0298484\ttotal: 1.04s\tremaining: 1.22s\n",
      "459:\tlearn: 0.0297568\ttotal: 1.04s\tremaining: 1.22s\n",
      "460:\tlearn: 0.0297214\ttotal: 1.04s\tremaining: 1.22s\n",
      "461:\tlearn: 0.0296698\ttotal: 1.04s\tremaining: 1.22s\n",
      "462:\tlearn: 0.0296293\ttotal: 1.05s\tremaining: 1.21s\n",
      "463:\tlearn: 0.0295711\ttotal: 1.05s\tremaining: 1.21s\n",
      "464:\tlearn: 0.0295020\ttotal: 1.05s\tremaining: 1.21s\n",
      "465:\tlearn: 0.0294799\ttotal: 1.05s\tremaining: 1.21s\n",
      "466:\tlearn: 0.0294567\ttotal: 1.05s\tremaining: 1.2s\n",
      "467:\tlearn: 0.0294008\ttotal: 1.06s\tremaining: 1.2s\n",
      "468:\tlearn: 0.0293838\ttotal: 1.06s\tremaining: 1.2s\n",
      "469:\tlearn: 0.0293451\ttotal: 1.06s\tremaining: 1.2s\n",
      "470:\tlearn: 0.0292726\ttotal: 1.06s\tremaining: 1.19s\n",
      "471:\tlearn: 0.0292532\ttotal: 1.06s\tremaining: 1.19s\n",
      "472:\tlearn: 0.0292369\ttotal: 1.07s\tremaining: 1.19s\n",
      "473:\tlearn: 0.0292060\ttotal: 1.07s\tremaining: 1.19s\n",
      "474:\tlearn: 0.0291648\ttotal: 1.07s\tremaining: 1.18s\n",
      "475:\tlearn: 0.0291437\ttotal: 1.07s\tremaining: 1.18s\n",
      "476:\tlearn: 0.0291307\ttotal: 1.08s\tremaining: 1.18s\n",
      "477:\tlearn: 0.0290859\ttotal: 1.08s\tremaining: 1.18s\n",
      "478:\tlearn: 0.0290415\ttotal: 1.08s\tremaining: 1.18s\n",
      "479:\tlearn: 0.0290107\ttotal: 1.08s\tremaining: 1.17s\n",
      "480:\tlearn: 0.0289936\ttotal: 1.08s\tremaining: 1.17s\n",
      "481:\tlearn: 0.0289936\ttotal: 1.09s\tremaining: 1.17s\n",
      "482:\tlearn: 0.0289743\ttotal: 1.09s\tremaining: 1.17s\n",
      "483:\tlearn: 0.0289140\ttotal: 1.09s\tremaining: 1.16s\n",
      "484:\tlearn: 0.0288924\ttotal: 1.09s\tremaining: 1.16s\n",
      "485:\tlearn: 0.0288696\ttotal: 1.09s\tremaining: 1.16s\n",
      "486:\tlearn: 0.0288169\ttotal: 1.1s\tremaining: 1.16s\n",
      "487:\tlearn: 0.0287841\ttotal: 1.1s\tremaining: 1.15s\n",
      "488:\tlearn: 0.0287586\ttotal: 1.1s\tremaining: 1.15s\n",
      "489:\tlearn: 0.0286968\ttotal: 1.1s\tremaining: 1.15s\n",
      "490:\tlearn: 0.0286539\ttotal: 1.1s\tremaining: 1.15s\n",
      "491:\tlearn: 0.0286538\ttotal: 1.11s\tremaining: 1.14s\n",
      "492:\tlearn: 0.0286356\ttotal: 1.11s\tremaining: 1.14s\n",
      "493:\tlearn: 0.0286061\ttotal: 1.11s\tremaining: 1.14s\n",
      "494:\tlearn: 0.0285691\ttotal: 1.11s\tremaining: 1.14s\n",
      "495:\tlearn: 0.0285441\ttotal: 1.12s\tremaining: 1.13s\n",
      "496:\tlearn: 0.0285307\ttotal: 1.12s\tremaining: 1.13s\n",
      "497:\tlearn: 0.0285271\ttotal: 1.12s\tremaining: 1.13s\n",
      "498:\tlearn: 0.0285108\ttotal: 1.12s\tremaining: 1.13s\n",
      "499:\tlearn: 0.0285107\ttotal: 1.12s\tremaining: 1.12s\n",
      "500:\tlearn: 0.0284578\ttotal: 1.13s\tremaining: 1.12s\n",
      "501:\tlearn: 0.0284303\ttotal: 1.13s\tremaining: 1.12s\n",
      "502:\tlearn: 0.0283938\ttotal: 1.13s\tremaining: 1.12s\n",
      "503:\tlearn: 0.0283746\ttotal: 1.13s\tremaining: 1.11s\n",
      "504:\tlearn: 0.0283744\ttotal: 1.13s\tremaining: 1.11s\n",
      "505:\tlearn: 0.0283597\ttotal: 1.14s\tremaining: 1.11s\n",
      "506:\tlearn: 0.0283347\ttotal: 1.14s\tremaining: 1.11s\n",
      "507:\tlearn: 0.0283150\ttotal: 1.14s\tremaining: 1.1s\n",
      "508:\tlearn: 0.0282995\ttotal: 1.14s\tremaining: 1.1s\n",
      "509:\tlearn: 0.0282783\ttotal: 1.14s\tremaining: 1.1s\n",
      "510:\tlearn: 0.0282568\ttotal: 1.15s\tremaining: 1.1s\n",
      "511:\tlearn: 0.0281979\ttotal: 1.15s\tremaining: 1.09s\n",
      "512:\tlearn: 0.0281211\ttotal: 1.15s\tremaining: 1.09s\n",
      "513:\tlearn: 0.0280864\ttotal: 1.15s\tremaining: 1.09s\n",
      "514:\tlearn: 0.0280602\ttotal: 1.16s\tremaining: 1.09s\n",
      "515:\tlearn: 0.0280478\ttotal: 1.16s\tremaining: 1.08s\n",
      "516:\tlearn: 0.0280324\ttotal: 1.16s\tremaining: 1.08s\n",
      "517:\tlearn: 0.0279982\ttotal: 1.16s\tremaining: 1.08s\n",
      "518:\tlearn: 0.0279833\ttotal: 1.16s\tremaining: 1.08s\n",
      "519:\tlearn: 0.0279698\ttotal: 1.17s\tremaining: 1.07s\n",
      "520:\tlearn: 0.0279248\ttotal: 1.17s\tremaining: 1.07s\n",
      "521:\tlearn: 0.0279247\ttotal: 1.17s\tremaining: 1.07s\n",
      "522:\tlearn: 0.0279247\ttotal: 1.17s\tremaining: 1.07s\n",
      "523:\tlearn: 0.0279246\ttotal: 1.17s\tremaining: 1.06s\n",
      "524:\tlearn: 0.0279246\ttotal: 1.18s\tremaining: 1.06s\n",
      "525:\tlearn: 0.0279246\ttotal: 1.18s\tremaining: 1.06s\n",
      "526:\tlearn: 0.0279246\ttotal: 1.18s\tremaining: 1.06s\n",
      "527:\tlearn: 0.0279147\ttotal: 1.18s\tremaining: 1.05s\n",
      "528:\tlearn: 0.0279106\ttotal: 1.18s\tremaining: 1.05s\n",
      "529:\tlearn: 0.0278729\ttotal: 1.18s\tremaining: 1.05s\n",
      "530:\tlearn: 0.0278476\ttotal: 1.19s\tremaining: 1.05s\n",
      "531:\tlearn: 0.0278108\ttotal: 1.19s\tremaining: 1.05s\n",
      "532:\tlearn: 0.0278107\ttotal: 1.19s\tremaining: 1.04s\n",
      "533:\tlearn: 0.0277973\ttotal: 1.19s\tremaining: 1.04s\n",
      "534:\tlearn: 0.0277505\ttotal: 1.2s\tremaining: 1.04s\n",
      "535:\tlearn: 0.0277376\ttotal: 1.2s\tremaining: 1.04s\n",
      "536:\tlearn: 0.0277213\ttotal: 1.2s\tremaining: 1.03s\n",
      "537:\tlearn: 0.0276906\ttotal: 1.2s\tremaining: 1.03s\n",
      "538:\tlearn: 0.0276736\ttotal: 1.2s\tremaining: 1.03s\n",
      "539:\tlearn: 0.0276546\ttotal: 1.21s\tremaining: 1.03s\n",
      "540:\tlearn: 0.0276545\ttotal: 1.21s\tremaining: 1.03s\n",
      "541:\tlearn: 0.0276230\ttotal: 1.21s\tremaining: 1.02s\n",
      "542:\tlearn: 0.0275952\ttotal: 1.21s\tremaining: 1.02s\n",
      "543:\tlearn: 0.0275801\ttotal: 1.22s\tremaining: 1.02s\n",
      "544:\tlearn: 0.0275523\ttotal: 1.22s\tremaining: 1.02s\n",
      "545:\tlearn: 0.0275116\ttotal: 1.22s\tremaining: 1.01s\n",
      "546:\tlearn: 0.0275110\ttotal: 1.22s\tremaining: 1.01s\n",
      "547:\tlearn: 0.0274838\ttotal: 1.22s\tremaining: 1.01s\n",
      "548:\tlearn: 0.0274730\ttotal: 1.23s\tremaining: 1.01s\n",
      "549:\tlearn: 0.0274373\ttotal: 1.23s\tremaining: 1s\n",
      "550:\tlearn: 0.0274372\ttotal: 1.23s\tremaining: 1s\n",
      "551:\tlearn: 0.0274062\ttotal: 1.23s\tremaining: 1000ms\n",
      "552:\tlearn: 0.0273534\ttotal: 1.24s\tremaining: 998ms\n",
      "553:\tlearn: 0.0273206\ttotal: 1.24s\tremaining: 996ms\n",
      "554:\tlearn: 0.0273206\ttotal: 1.24s\tremaining: 993ms\n",
      "555:\tlearn: 0.0272855\ttotal: 1.24s\tremaining: 991ms\n",
      "556:\tlearn: 0.0272855\ttotal: 1.24s\tremaining: 988ms\n",
      "557:\tlearn: 0.0272748\ttotal: 1.24s\tremaining: 986ms\n",
      "558:\tlearn: 0.0272470\ttotal: 1.25s\tremaining: 984ms\n",
      "559:\tlearn: 0.0272083\ttotal: 1.25s\tremaining: 981ms\n",
      "560:\tlearn: 0.0271917\ttotal: 1.25s\tremaining: 979ms\n",
      "561:\tlearn: 0.0271917\ttotal: 1.25s\tremaining: 976ms\n",
      "562:\tlearn: 0.0271917\ttotal: 1.25s\tremaining: 974ms\n",
      "563:\tlearn: 0.0271917\ttotal: 1.26s\tremaining: 971ms\n",
      "564:\tlearn: 0.0271842\ttotal: 1.26s\tremaining: 969ms\n",
      "565:\tlearn: 0.0271671\ttotal: 1.26s\tremaining: 967ms\n",
      "566:\tlearn: 0.0271555\ttotal: 1.26s\tremaining: 965ms\n",
      "567:\tlearn: 0.0271357\ttotal: 1.26s\tremaining: 962ms\n",
      "568:\tlearn: 0.0271357\ttotal: 1.27s\tremaining: 960ms\n",
      "569:\tlearn: 0.0271357\ttotal: 1.27s\tremaining: 957ms\n",
      "570:\tlearn: 0.0271353\ttotal: 1.27s\tremaining: 955ms\n",
      "571:\tlearn: 0.0271235\ttotal: 1.27s\tremaining: 953ms\n",
      "572:\tlearn: 0.0270982\ttotal: 1.27s\tremaining: 951ms\n",
      "573:\tlearn: 0.0270760\ttotal: 1.28s\tremaining: 949ms\n",
      "574:\tlearn: 0.0270563\ttotal: 1.28s\tremaining: 947ms\n",
      "575:\tlearn: 0.0270136\ttotal: 1.28s\tremaining: 944ms\n",
      "576:\tlearn: 0.0270136\ttotal: 1.28s\tremaining: 942ms\n",
      "577:\tlearn: 0.0269878\ttotal: 1.29s\tremaining: 939ms\n",
      "578:\tlearn: 0.0269877\ttotal: 1.29s\tremaining: 937ms\n",
      "579:\tlearn: 0.0269693\ttotal: 1.29s\tremaining: 934ms\n",
      "580:\tlearn: 0.0269692\ttotal: 1.29s\tremaining: 932ms\n",
      "581:\tlearn: 0.0269692\ttotal: 1.29s\tremaining: 930ms\n",
      "582:\tlearn: 0.0269530\ttotal: 1.3s\tremaining: 927ms\n",
      "583:\tlearn: 0.0269254\ttotal: 1.3s\tremaining: 925ms\n",
      "584:\tlearn: 0.0269048\ttotal: 1.3s\tremaining: 923ms\n",
      "585:\tlearn: 0.0268663\ttotal: 1.3s\tremaining: 920ms\n",
      "586:\tlearn: 0.0268445\ttotal: 1.3s\tremaining: 918ms\n",
      "587:\tlearn: 0.0268312\ttotal: 1.31s\tremaining: 916ms\n",
      "588:\tlearn: 0.0267913\ttotal: 1.31s\tremaining: 913ms\n",
      "589:\tlearn: 0.0267749\ttotal: 1.31s\tremaining: 911ms\n",
      "590:\tlearn: 0.0267534\ttotal: 1.31s\tremaining: 909ms\n",
      "591:\tlearn: 0.0267123\ttotal: 1.31s\tremaining: 906ms\n",
      "592:\tlearn: 0.0266789\ttotal: 1.32s\tremaining: 904ms\n",
      "593:\tlearn: 0.0266143\ttotal: 1.32s\tremaining: 902ms\n",
      "594:\tlearn: 0.0266028\ttotal: 1.32s\tremaining: 899ms\n",
      "595:\tlearn: 0.0265914\ttotal: 1.32s\tremaining: 897ms\n",
      "596:\tlearn: 0.0265822\ttotal: 1.32s\tremaining: 894ms\n",
      "597:\tlearn: 0.0265820\ttotal: 1.33s\tremaining: 892ms\n",
      "598:\tlearn: 0.0265718\ttotal: 1.33s\tremaining: 890ms\n",
      "599:\tlearn: 0.0265678\ttotal: 1.33s\tremaining: 887ms\n",
      "600:\tlearn: 0.0265548\ttotal: 1.33s\tremaining: 885ms\n",
      "601:\tlearn: 0.0265547\ttotal: 1.33s\tremaining: 882ms\n",
      "602:\tlearn: 0.0265386\ttotal: 1.34s\tremaining: 880ms\n",
      "603:\tlearn: 0.0265146\ttotal: 1.34s\tremaining: 878ms\n",
      "604:\tlearn: 0.0264929\ttotal: 1.34s\tremaining: 875ms\n",
      "605:\tlearn: 0.0264716\ttotal: 1.34s\tremaining: 873ms\n",
      "606:\tlearn: 0.0264715\ttotal: 1.34s\tremaining: 870ms\n",
      "607:\tlearn: 0.0264555\ttotal: 1.35s\tremaining: 868ms\n",
      "608:\tlearn: 0.0264403\ttotal: 1.35s\tremaining: 866ms\n",
      "609:\tlearn: 0.0264234\ttotal: 1.35s\tremaining: 864ms\n",
      "610:\tlearn: 0.0264234\ttotal: 1.35s\tremaining: 862ms\n",
      "611:\tlearn: 0.0264233\ttotal: 1.35s\tremaining: 859ms\n",
      "612:\tlearn: 0.0264233\ttotal: 1.36s\tremaining: 857ms\n",
      "613:\tlearn: 0.0264210\ttotal: 1.36s\tremaining: 854ms\n",
      "614:\tlearn: 0.0264003\ttotal: 1.36s\tremaining: 852ms\n",
      "615:\tlearn: 0.0264003\ttotal: 1.36s\tremaining: 850ms\n",
      "616:\tlearn: 0.0263794\ttotal: 1.36s\tremaining: 847ms\n",
      "617:\tlearn: 0.0263627\ttotal: 1.37s\tremaining: 845ms\n",
      "618:\tlearn: 0.0263594\ttotal: 1.37s\tremaining: 843ms\n",
      "619:\tlearn: 0.0263505\ttotal: 1.37s\tremaining: 840ms\n",
      "620:\tlearn: 0.0263275\ttotal: 1.37s\tremaining: 838ms\n",
      "621:\tlearn: 0.0263104\ttotal: 1.37s\tremaining: 836ms\n",
      "622:\tlearn: 0.0262977\ttotal: 1.38s\tremaining: 833ms\n",
      "623:\tlearn: 0.0262934\ttotal: 1.38s\tremaining: 831ms\n",
      "624:\tlearn: 0.0262811\ttotal: 1.38s\tremaining: 829ms\n",
      "625:\tlearn: 0.0262811\ttotal: 1.38s\tremaining: 826ms\n",
      "626:\tlearn: 0.0262506\ttotal: 1.38s\tremaining: 824ms\n",
      "627:\tlearn: 0.0262506\ttotal: 1.39s\tremaining: 822ms\n",
      "628:\tlearn: 0.0262506\ttotal: 1.39s\tremaining: 819ms\n",
      "629:\tlearn: 0.0262405\ttotal: 1.39s\tremaining: 817ms\n",
      "630:\tlearn: 0.0262211\ttotal: 1.39s\tremaining: 815ms\n",
      "631:\tlearn: 0.0262032\ttotal: 1.4s\tremaining: 813ms\n",
      "632:\tlearn: 0.0262032\ttotal: 1.4s\tremaining: 810ms\n",
      "633:\tlearn: 0.0261838\ttotal: 1.4s\tremaining: 808ms\n",
      "634:\tlearn: 0.0261838\ttotal: 1.4s\tremaining: 806ms\n",
      "635:\tlearn: 0.0261447\ttotal: 1.4s\tremaining: 804ms\n",
      "636:\tlearn: 0.0261279\ttotal: 1.41s\tremaining: 801ms\n",
      "637:\tlearn: 0.0260659\ttotal: 1.41s\tremaining: 799ms\n",
      "638:\tlearn: 0.0260311\ttotal: 1.41s\tremaining: 797ms\n",
      "639:\tlearn: 0.0259942\ttotal: 1.41s\tremaining: 795ms\n",
      "640:\tlearn: 0.0259507\ttotal: 1.41s\tremaining: 792ms\n",
      "641:\tlearn: 0.0259503\ttotal: 1.42s\tremaining: 790ms\n",
      "642:\tlearn: 0.0259394\ttotal: 1.42s\tremaining: 788ms\n",
      "643:\tlearn: 0.0259394\ttotal: 1.42s\tremaining: 785ms\n",
      "644:\tlearn: 0.0259230\ttotal: 1.42s\tremaining: 783ms\n",
      "645:\tlearn: 0.0259226\ttotal: 1.43s\tremaining: 781ms\n",
      "646:\tlearn: 0.0259086\ttotal: 1.43s\tremaining: 779ms\n",
      "647:\tlearn: 0.0258893\ttotal: 1.43s\tremaining: 777ms\n",
      "648:\tlearn: 0.0258745\ttotal: 1.43s\tremaining: 775ms\n",
      "649:\tlearn: 0.0258624\ttotal: 1.43s\tremaining: 772ms\n",
      "650:\tlearn: 0.0258277\ttotal: 1.44s\tremaining: 770ms\n",
      "651:\tlearn: 0.0257918\ttotal: 1.44s\tremaining: 768ms\n",
      "652:\tlearn: 0.0257918\ttotal: 1.44s\tremaining: 765ms\n",
      "653:\tlearn: 0.0257535\ttotal: 1.44s\tremaining: 763ms\n",
      "654:\tlearn: 0.0257100\ttotal: 1.44s\tremaining: 761ms\n",
      "655:\tlearn: 0.0257100\ttotal: 1.45s\tremaining: 758ms\n",
      "656:\tlearn: 0.0257020\ttotal: 1.45s\tremaining: 756ms\n",
      "657:\tlearn: 0.0256859\ttotal: 1.45s\tremaining: 754ms\n",
      "658:\tlearn: 0.0256858\ttotal: 1.45s\tremaining: 752ms\n",
      "659:\tlearn: 0.0256554\ttotal: 1.46s\tremaining: 750ms\n",
      "660:\tlearn: 0.0256554\ttotal: 1.46s\tremaining: 747ms\n",
      "661:\tlearn: 0.0256554\ttotal: 1.46s\tremaining: 745ms\n",
      "662:\tlearn: 0.0256554\ttotal: 1.46s\tremaining: 742ms\n",
      "663:\tlearn: 0.0256554\ttotal: 1.46s\tremaining: 740ms\n",
      "664:\tlearn: 0.0256554\ttotal: 1.46s\tremaining: 738ms\n",
      "665:\tlearn: 0.0256410\ttotal: 1.47s\tremaining: 735ms\n",
      "666:\tlearn: 0.0256409\ttotal: 1.47s\tremaining: 733ms\n",
      "667:\tlearn: 0.0256409\ttotal: 1.47s\tremaining: 731ms\n",
      "668:\tlearn: 0.0256405\ttotal: 1.47s\tremaining: 728ms\n",
      "669:\tlearn: 0.0256402\ttotal: 1.47s\tremaining: 726ms\n",
      "670:\tlearn: 0.0256341\ttotal: 1.48s\tremaining: 723ms\n",
      "671:\tlearn: 0.0256340\ttotal: 1.48s\tremaining: 721ms\n",
      "672:\tlearn: 0.0256340\ttotal: 1.48s\tremaining: 719ms\n",
      "673:\tlearn: 0.0256340\ttotal: 1.48s\tremaining: 716ms\n",
      "674:\tlearn: 0.0256341\ttotal: 1.48s\tremaining: 714ms\n",
      "675:\tlearn: 0.0256340\ttotal: 1.48s\tremaining: 711ms\n",
      "676:\tlearn: 0.0256212\ttotal: 1.49s\tremaining: 709ms\n",
      "677:\tlearn: 0.0256175\ttotal: 1.49s\tremaining: 707ms\n",
      "678:\tlearn: 0.0256062\ttotal: 1.49s\tremaining: 705ms\n",
      "679:\tlearn: 0.0255903\ttotal: 1.49s\tremaining: 703ms\n",
      "680:\tlearn: 0.0255902\ttotal: 1.5s\tremaining: 700ms\n",
      "681:\tlearn: 0.0255652\ttotal: 1.5s\tremaining: 698ms\n",
      "682:\tlearn: 0.0255530\ttotal: 1.5s\tremaining: 696ms\n",
      "683:\tlearn: 0.0255364\ttotal: 1.5s\tremaining: 694ms\n",
      "684:\tlearn: 0.0255109\ttotal: 1.5s\tremaining: 692ms\n",
      "685:\tlearn: 0.0255052\ttotal: 1.51s\tremaining: 690ms\n",
      "686:\tlearn: 0.0254908\ttotal: 1.51s\tremaining: 688ms\n",
      "687:\tlearn: 0.0254868\ttotal: 1.51s\tremaining: 686ms\n",
      "688:\tlearn: 0.0254851\ttotal: 1.51s\tremaining: 684ms\n",
      "689:\tlearn: 0.0254850\ttotal: 1.52s\tremaining: 681ms\n",
      "690:\tlearn: 0.0254850\ttotal: 1.52s\tremaining: 679ms\n",
      "691:\tlearn: 0.0254850\ttotal: 1.52s\tremaining: 677ms\n",
      "692:\tlearn: 0.0254850\ttotal: 1.52s\tremaining: 675ms\n",
      "693:\tlearn: 0.0254849\ttotal: 1.52s\tremaining: 672ms\n",
      "694:\tlearn: 0.0254782\ttotal: 1.53s\tremaining: 670ms\n",
      "695:\tlearn: 0.0254732\ttotal: 1.53s\tremaining: 668ms\n",
      "696:\tlearn: 0.0254529\ttotal: 1.53s\tremaining: 666ms\n",
      "697:\tlearn: 0.0254256\ttotal: 1.53s\tremaining: 664ms\n",
      "698:\tlearn: 0.0253999\ttotal: 1.53s\tremaining: 661ms\n",
      "699:\tlearn: 0.0253999\ttotal: 1.54s\tremaining: 659ms\n",
      "700:\tlearn: 0.0253998\ttotal: 1.54s\tremaining: 657ms\n",
      "701:\tlearn: 0.0253997\ttotal: 1.54s\tremaining: 654ms\n",
      "702:\tlearn: 0.0253997\ttotal: 1.54s\tremaining: 652ms\n",
      "703:\tlearn: 0.0253733\ttotal: 1.54s\tremaining: 650ms\n",
      "704:\tlearn: 0.0253579\ttotal: 1.55s\tremaining: 648ms\n",
      "705:\tlearn: 0.0253419\ttotal: 1.55s\tremaining: 645ms\n",
      "706:\tlearn: 0.0253418\ttotal: 1.55s\tremaining: 643ms\n",
      "707:\tlearn: 0.0253418\ttotal: 1.55s\tremaining: 641ms\n",
      "708:\tlearn: 0.0253418\ttotal: 1.55s\tremaining: 638ms\n",
      "709:\tlearn: 0.0253417\ttotal: 1.56s\tremaining: 636ms\n",
      "710:\tlearn: 0.0253415\ttotal: 1.56s\tremaining: 633ms\n",
      "711:\tlearn: 0.0253415\ttotal: 1.56s\tremaining: 631ms\n",
      "712:\tlearn: 0.0253414\ttotal: 1.56s\tremaining: 629ms\n",
      "713:\tlearn: 0.0253414\ttotal: 1.56s\tremaining: 626ms\n",
      "714:\tlearn: 0.0253414\ttotal: 1.56s\tremaining: 624ms\n",
      "715:\tlearn: 0.0253414\ttotal: 1.57s\tremaining: 622ms\n",
      "716:\tlearn: 0.0253414\ttotal: 1.57s\tremaining: 619ms\n",
      "717:\tlearn: 0.0253413\ttotal: 1.57s\tremaining: 617ms\n",
      "718:\tlearn: 0.0253413\ttotal: 1.57s\tremaining: 615ms\n",
      "719:\tlearn: 0.0253413\ttotal: 1.57s\tremaining: 612ms\n",
      "720:\tlearn: 0.0253413\ttotal: 1.58s\tremaining: 610ms\n",
      "721:\tlearn: 0.0253299\ttotal: 1.58s\tremaining: 608ms\n",
      "722:\tlearn: 0.0253299\ttotal: 1.58s\tremaining: 605ms\n",
      "723:\tlearn: 0.0253213\ttotal: 1.58s\tremaining: 603ms\n",
      "724:\tlearn: 0.0253213\ttotal: 1.58s\tremaining: 601ms\n",
      "725:\tlearn: 0.0253213\ttotal: 1.59s\tremaining: 599ms\n",
      "726:\tlearn: 0.0253210\ttotal: 1.59s\tremaining: 596ms\n",
      "727:\tlearn: 0.0253209\ttotal: 1.59s\tremaining: 594ms\n",
      "728:\tlearn: 0.0253208\ttotal: 1.59s\tremaining: 592ms\n",
      "729:\tlearn: 0.0253076\ttotal: 1.59s\tremaining: 590ms\n",
      "730:\tlearn: 0.0253037\ttotal: 1.59s\tremaining: 587ms\n",
      "731:\tlearn: 0.0252795\ttotal: 1.6s\tremaining: 585ms\n",
      "732:\tlearn: 0.0252616\ttotal: 1.6s\tremaining: 583ms\n",
      "733:\tlearn: 0.0252356\ttotal: 1.6s\tremaining: 581ms\n",
      "734:\tlearn: 0.0252356\ttotal: 1.6s\tremaining: 578ms\n",
      "735:\tlearn: 0.0252186\ttotal: 1.61s\tremaining: 576ms\n",
      "736:\tlearn: 0.0252078\ttotal: 1.61s\tremaining: 574ms\n",
      "737:\tlearn: 0.0252077\ttotal: 1.61s\tremaining: 572ms\n",
      "738:\tlearn: 0.0252077\ttotal: 1.61s\tremaining: 569ms\n",
      "739:\tlearn: 0.0252074\ttotal: 1.61s\tremaining: 567ms\n",
      "740:\tlearn: 0.0252074\ttotal: 1.62s\tremaining: 565ms\n",
      "741:\tlearn: 0.0252074\ttotal: 1.62s\tremaining: 563ms\n",
      "742:\tlearn: 0.0252074\ttotal: 1.62s\tremaining: 560ms\n",
      "743:\tlearn: 0.0252074\ttotal: 1.62s\tremaining: 558ms\n",
      "744:\tlearn: 0.0252074\ttotal: 1.62s\tremaining: 556ms\n",
      "745:\tlearn: 0.0252074\ttotal: 1.63s\tremaining: 553ms\n",
      "746:\tlearn: 0.0252073\ttotal: 1.63s\tremaining: 551ms\n",
      "747:\tlearn: 0.0251936\ttotal: 1.63s\tremaining: 549ms\n",
      "748:\tlearn: 0.0251508\ttotal: 1.63s\tremaining: 547ms\n",
      "749:\tlearn: 0.0251037\ttotal: 1.63s\tremaining: 545ms\n",
      "750:\tlearn: 0.0250881\ttotal: 1.64s\tremaining: 542ms\n",
      "751:\tlearn: 0.0250509\ttotal: 1.64s\tremaining: 540ms\n",
      "752:\tlearn: 0.0250298\ttotal: 1.64s\tremaining: 538ms\n",
      "753:\tlearn: 0.0249813\ttotal: 1.64s\tremaining: 536ms\n",
      "754:\tlearn: 0.0249692\ttotal: 1.64s\tremaining: 534ms\n",
      "755:\tlearn: 0.0249570\ttotal: 1.65s\tremaining: 531ms\n",
      "756:\tlearn: 0.0249567\ttotal: 1.65s\tremaining: 529ms\n",
      "757:\tlearn: 0.0249567\ttotal: 1.65s\tremaining: 527ms\n",
      "758:\tlearn: 0.0249566\ttotal: 1.65s\tremaining: 524ms\n",
      "759:\tlearn: 0.0249566\ttotal: 1.65s\tremaining: 522ms\n",
      "760:\tlearn: 0.0249566\ttotal: 1.66s\tremaining: 520ms\n",
      "761:\tlearn: 0.0249565\ttotal: 1.66s\tremaining: 518ms\n",
      "762:\tlearn: 0.0249565\ttotal: 1.66s\tremaining: 515ms\n",
      "763:\tlearn: 0.0249565\ttotal: 1.66s\tremaining: 513ms\n",
      "764:\tlearn: 0.0249564\ttotal: 1.66s\tremaining: 511ms\n",
      "765:\tlearn: 0.0249564\ttotal: 1.66s\tremaining: 508ms\n",
      "766:\tlearn: 0.0249564\ttotal: 1.67s\tremaining: 506ms\n",
      "767:\tlearn: 0.0249562\ttotal: 1.67s\tremaining: 504ms\n",
      "768:\tlearn: 0.0249562\ttotal: 1.67s\tremaining: 502ms\n",
      "769:\tlearn: 0.0249562\ttotal: 1.67s\tremaining: 499ms\n",
      "770:\tlearn: 0.0249561\ttotal: 1.67s\tremaining: 497ms\n",
      "771:\tlearn: 0.0249375\ttotal: 1.68s\tremaining: 495ms\n",
      "772:\tlearn: 0.0249374\ttotal: 1.68s\tremaining: 493ms\n",
      "773:\tlearn: 0.0249374\ttotal: 1.68s\tremaining: 490ms\n",
      "774:\tlearn: 0.0249343\ttotal: 1.68s\tremaining: 488ms\n",
      "775:\tlearn: 0.0249343\ttotal: 1.68s\tremaining: 486ms\n",
      "776:\tlearn: 0.0249343\ttotal: 1.68s\tremaining: 484ms\n",
      "777:\tlearn: 0.0249343\ttotal: 1.69s\tremaining: 481ms\n",
      "778:\tlearn: 0.0249341\ttotal: 1.69s\tremaining: 479ms\n",
      "779:\tlearn: 0.0249233\ttotal: 1.69s\tremaining: 477ms\n",
      "780:\tlearn: 0.0249233\ttotal: 1.69s\tremaining: 474ms\n",
      "781:\tlearn: 0.0249232\ttotal: 1.69s\tremaining: 472ms\n",
      "782:\tlearn: 0.0249232\ttotal: 1.7s\tremaining: 470ms\n",
      "783:\tlearn: 0.0249231\ttotal: 1.7s\tremaining: 468ms\n",
      "784:\tlearn: 0.0249231\ttotal: 1.7s\tremaining: 465ms\n",
      "785:\tlearn: 0.0249232\ttotal: 1.7s\tremaining: 463ms\n",
      "786:\tlearn: 0.0249231\ttotal: 1.7s\tremaining: 461ms\n",
      "787:\tlearn: 0.0249231\ttotal: 1.7s\tremaining: 459ms\n",
      "788:\tlearn: 0.0249230\ttotal: 1.71s\tremaining: 456ms\n",
      "789:\tlearn: 0.0249230\ttotal: 1.71s\tremaining: 454ms\n",
      "790:\tlearn: 0.0249230\ttotal: 1.71s\tremaining: 452ms\n",
      "791:\tlearn: 0.0249230\ttotal: 1.71s\tremaining: 450ms\n",
      "792:\tlearn: 0.0249107\ttotal: 1.71s\tremaining: 447ms\n",
      "793:\tlearn: 0.0249107\ttotal: 1.72s\tremaining: 445ms\n",
      "794:\tlearn: 0.0249106\ttotal: 1.72s\tremaining: 443ms\n",
      "795:\tlearn: 0.0249105\ttotal: 1.72s\tremaining: 441ms\n",
      "796:\tlearn: 0.0249105\ttotal: 1.72s\tremaining: 438ms\n",
      "797:\tlearn: 0.0249106\ttotal: 1.72s\tremaining: 436ms\n",
      "798:\tlearn: 0.0249105\ttotal: 1.72s\tremaining: 434ms\n",
      "799:\tlearn: 0.0249105\ttotal: 1.73s\tremaining: 431ms\n",
      "800:\tlearn: 0.0249105\ttotal: 1.73s\tremaining: 429ms\n",
      "801:\tlearn: 0.0249105\ttotal: 1.73s\tremaining: 427ms\n",
      "802:\tlearn: 0.0249105\ttotal: 1.73s\tremaining: 425ms\n",
      "803:\tlearn: 0.0249105\ttotal: 1.73s\tremaining: 422ms\n",
      "804:\tlearn: 0.0249079\ttotal: 1.74s\tremaining: 420ms\n",
      "805:\tlearn: 0.0249079\ttotal: 1.74s\tremaining: 418ms\n",
      "806:\tlearn: 0.0248925\ttotal: 1.74s\tremaining: 416ms\n",
      "807:\tlearn: 0.0248925\ttotal: 1.74s\tremaining: 414ms\n",
      "808:\tlearn: 0.0248925\ttotal: 1.74s\tremaining: 412ms\n",
      "809:\tlearn: 0.0248925\ttotal: 1.75s\tremaining: 409ms\n",
      "810:\tlearn: 0.0248812\ttotal: 1.75s\tremaining: 407ms\n",
      "811:\tlearn: 0.0248663\ttotal: 1.75s\tremaining: 405ms\n",
      "812:\tlearn: 0.0248662\ttotal: 1.75s\tremaining: 403ms\n",
      "813:\tlearn: 0.0248660\ttotal: 1.75s\tremaining: 401ms\n",
      "814:\tlearn: 0.0248660\ttotal: 1.75s\tremaining: 398ms\n",
      "815:\tlearn: 0.0248660\ttotal: 1.76s\tremaining: 396ms\n",
      "816:\tlearn: 0.0248659\ttotal: 1.76s\tremaining: 394ms\n",
      "817:\tlearn: 0.0248660\ttotal: 1.76s\tremaining: 392ms\n",
      "818:\tlearn: 0.0248659\ttotal: 1.76s\tremaining: 389ms\n",
      "819:\tlearn: 0.0248659\ttotal: 1.76s\tremaining: 387ms\n",
      "820:\tlearn: 0.0248625\ttotal: 1.76s\tremaining: 385ms\n",
      "821:\tlearn: 0.0248625\ttotal: 1.77s\tremaining: 383ms\n",
      "822:\tlearn: 0.0248625\ttotal: 1.77s\tremaining: 381ms\n",
      "823:\tlearn: 0.0248625\ttotal: 1.77s\tremaining: 378ms\n",
      "824:\tlearn: 0.0248624\ttotal: 1.77s\tremaining: 376ms\n",
      "825:\tlearn: 0.0248624\ttotal: 1.77s\tremaining: 374ms\n",
      "826:\tlearn: 0.0248624\ttotal: 1.78s\tremaining: 372ms\n",
      "827:\tlearn: 0.0248540\ttotal: 1.78s\tremaining: 369ms\n",
      "828:\tlearn: 0.0248539\ttotal: 1.78s\tremaining: 367ms\n",
      "829:\tlearn: 0.0248539\ttotal: 1.78s\tremaining: 365ms\n",
      "830:\tlearn: 0.0248539\ttotal: 1.78s\tremaining: 363ms\n",
      "831:\tlearn: 0.0248539\ttotal: 1.78s\tremaining: 361ms\n",
      "832:\tlearn: 0.0248539\ttotal: 1.79s\tremaining: 358ms\n",
      "833:\tlearn: 0.0248539\ttotal: 1.79s\tremaining: 356ms\n",
      "834:\tlearn: 0.0248538\ttotal: 1.79s\tremaining: 354ms\n",
      "835:\tlearn: 0.0248538\ttotal: 1.79s\tremaining: 352ms\n",
      "836:\tlearn: 0.0248538\ttotal: 1.79s\tremaining: 350ms\n",
      "837:\tlearn: 0.0248538\ttotal: 1.8s\tremaining: 347ms\n",
      "838:\tlearn: 0.0248537\ttotal: 1.8s\tremaining: 345ms\n",
      "839:\tlearn: 0.0248537\ttotal: 1.8s\tremaining: 343ms\n",
      "840:\tlearn: 0.0248538\ttotal: 1.8s\tremaining: 341ms\n",
      "841:\tlearn: 0.0248537\ttotal: 1.8s\tremaining: 338ms\n",
      "842:\tlearn: 0.0248537\ttotal: 1.8s\tremaining: 336ms\n",
      "843:\tlearn: 0.0248536\ttotal: 1.81s\tremaining: 334ms\n",
      "844:\tlearn: 0.0248536\ttotal: 1.81s\tremaining: 332ms\n",
      "845:\tlearn: 0.0248536\ttotal: 1.81s\tremaining: 330ms\n",
      "846:\tlearn: 0.0248536\ttotal: 1.81s\tremaining: 327ms\n",
      "847:\tlearn: 0.0248536\ttotal: 1.81s\tremaining: 325ms\n",
      "848:\tlearn: 0.0248535\ttotal: 1.82s\tremaining: 323ms\n",
      "849:\tlearn: 0.0248535\ttotal: 1.82s\tremaining: 321ms\n",
      "850:\tlearn: 0.0248534\ttotal: 1.82s\tremaining: 319ms\n",
      "851:\tlearn: 0.0248534\ttotal: 1.82s\tremaining: 316ms\n",
      "852:\tlearn: 0.0248533\ttotal: 1.82s\tremaining: 314ms\n",
      "853:\tlearn: 0.0248534\ttotal: 1.82s\tremaining: 312ms\n",
      "854:\tlearn: 0.0248533\ttotal: 1.83s\tremaining: 310ms\n",
      "855:\tlearn: 0.0248532\ttotal: 1.83s\tremaining: 308ms\n",
      "856:\tlearn: 0.0248533\ttotal: 1.83s\tremaining: 306ms\n",
      "857:\tlearn: 0.0248532\ttotal: 1.83s\tremaining: 303ms\n",
      "858:\tlearn: 0.0248532\ttotal: 1.83s\tremaining: 301ms\n",
      "859:\tlearn: 0.0248532\ttotal: 1.84s\tremaining: 299ms\n",
      "860:\tlearn: 0.0248532\ttotal: 1.84s\tremaining: 297ms\n",
      "861:\tlearn: 0.0248332\ttotal: 1.84s\tremaining: 295ms\n",
      "862:\tlearn: 0.0248332\ttotal: 1.84s\tremaining: 292ms\n",
      "863:\tlearn: 0.0248203\ttotal: 1.84s\tremaining: 290ms\n",
      "864:\tlearn: 0.0248183\ttotal: 1.84s\tremaining: 288ms\n",
      "865:\tlearn: 0.0247978\ttotal: 1.85s\tremaining: 286ms\n",
      "866:\tlearn: 0.0247848\ttotal: 1.85s\tremaining: 284ms\n",
      "867:\tlearn: 0.0247847\ttotal: 1.85s\tremaining: 282ms\n",
      "868:\tlearn: 0.0247848\ttotal: 1.85s\tremaining: 279ms\n",
      "869:\tlearn: 0.0247847\ttotal: 1.85s\tremaining: 277ms\n",
      "870:\tlearn: 0.0247847\ttotal: 1.86s\tremaining: 275ms\n",
      "871:\tlearn: 0.0247846\ttotal: 1.86s\tremaining: 273ms\n",
      "872:\tlearn: 0.0247847\ttotal: 1.86s\tremaining: 271ms\n",
      "873:\tlearn: 0.0247846\ttotal: 1.86s\tremaining: 268ms\n",
      "874:\tlearn: 0.0247847\ttotal: 1.86s\tremaining: 266ms\n",
      "875:\tlearn: 0.0247846\ttotal: 1.86s\tremaining: 264ms\n",
      "876:\tlearn: 0.0247846\ttotal: 1.87s\tremaining: 262ms\n",
      "877:\tlearn: 0.0247846\ttotal: 1.87s\tremaining: 260ms\n",
      "878:\tlearn: 0.0247845\ttotal: 1.87s\tremaining: 258ms\n",
      "879:\tlearn: 0.0247845\ttotal: 1.87s\tremaining: 255ms\n",
      "880:\tlearn: 0.0247845\ttotal: 1.87s\tremaining: 253ms\n",
      "881:\tlearn: 0.0247843\ttotal: 1.88s\tremaining: 251ms\n",
      "882:\tlearn: 0.0247843\ttotal: 1.88s\tremaining: 249ms\n",
      "883:\tlearn: 0.0247842\ttotal: 1.88s\tremaining: 247ms\n",
      "884:\tlearn: 0.0247843\ttotal: 1.88s\tremaining: 244ms\n",
      "885:\tlearn: 0.0247843\ttotal: 1.88s\tremaining: 242ms\n",
      "886:\tlearn: 0.0247843\ttotal: 1.88s\tremaining: 240ms\n",
      "887:\tlearn: 0.0247843\ttotal: 1.89s\tremaining: 238ms\n",
      "888:\tlearn: 0.0247840\ttotal: 1.89s\tremaining: 236ms\n",
      "889:\tlearn: 0.0247840\ttotal: 1.89s\tremaining: 234ms\n",
      "890:\tlearn: 0.0247840\ttotal: 1.89s\tremaining: 232ms\n",
      "891:\tlearn: 0.0247839\ttotal: 1.89s\tremaining: 229ms\n",
      "892:\tlearn: 0.0247840\ttotal: 1.9s\tremaining: 227ms\n",
      "893:\tlearn: 0.0247839\ttotal: 1.9s\tremaining: 225ms\n",
      "894:\tlearn: 0.0247839\ttotal: 1.9s\tremaining: 223ms\n",
      "895:\tlearn: 0.0247840\ttotal: 1.9s\tremaining: 221ms\n",
      "896:\tlearn: 0.0247838\ttotal: 1.9s\tremaining: 219ms\n",
      "897:\tlearn: 0.0247780\ttotal: 1.91s\tremaining: 216ms\n",
      "898:\tlearn: 0.0247603\ttotal: 1.91s\tremaining: 214ms\n",
      "899:\tlearn: 0.0247603\ttotal: 1.91s\tremaining: 212ms\n",
      "900:\tlearn: 0.0247310\ttotal: 1.91s\tremaining: 210ms\n",
      "901:\tlearn: 0.0247310\ttotal: 1.91s\tremaining: 208ms\n",
      "902:\tlearn: 0.0247310\ttotal: 1.91s\tremaining: 206ms\n",
      "903:\tlearn: 0.0247310\ttotal: 1.92s\tremaining: 204ms\n",
      "904:\tlearn: 0.0247310\ttotal: 1.92s\tremaining: 201ms\n",
      "905:\tlearn: 0.0247309\ttotal: 1.92s\tremaining: 199ms\n",
      "906:\tlearn: 0.0247309\ttotal: 1.92s\tremaining: 197ms\n",
      "907:\tlearn: 0.0247307\ttotal: 1.92s\tremaining: 195ms\n",
      "908:\tlearn: 0.0247305\ttotal: 1.93s\tremaining: 193ms\n",
      "909:\tlearn: 0.0247305\ttotal: 1.93s\tremaining: 191ms\n",
      "910:\tlearn: 0.0247305\ttotal: 1.93s\tremaining: 188ms\n",
      "911:\tlearn: 0.0247305\ttotal: 1.93s\tremaining: 186ms\n",
      "912:\tlearn: 0.0247305\ttotal: 1.93s\tremaining: 184ms\n",
      "913:\tlearn: 0.0247305\ttotal: 1.93s\tremaining: 182ms\n",
      "914:\tlearn: 0.0247117\ttotal: 1.94s\tremaining: 180ms\n",
      "915:\tlearn: 0.0247116\ttotal: 1.94s\tremaining: 178ms\n",
      "916:\tlearn: 0.0247117\ttotal: 1.94s\tremaining: 176ms\n",
      "917:\tlearn: 0.0247114\ttotal: 1.94s\tremaining: 173ms\n",
      "918:\tlearn: 0.0247113\ttotal: 1.94s\tremaining: 171ms\n",
      "919:\tlearn: 0.0247113\ttotal: 1.95s\tremaining: 169ms\n",
      "920:\tlearn: 0.0247113\ttotal: 1.95s\tremaining: 167ms\n",
      "921:\tlearn: 0.0247113\ttotal: 1.95s\tremaining: 165ms\n",
      "922:\tlearn: 0.0247113\ttotal: 1.95s\tremaining: 163ms\n",
      "923:\tlearn: 0.0247110\ttotal: 1.95s\tremaining: 161ms\n",
      "924:\tlearn: 0.0247109\ttotal: 1.95s\tremaining: 159ms\n",
      "925:\tlearn: 0.0247109\ttotal: 1.96s\tremaining: 156ms\n",
      "926:\tlearn: 0.0247109\ttotal: 1.96s\tremaining: 154ms\n",
      "927:\tlearn: 0.0247108\ttotal: 1.96s\tremaining: 152ms\n",
      "928:\tlearn: 0.0247107\ttotal: 1.96s\tremaining: 150ms\n",
      "929:\tlearn: 0.0247107\ttotal: 1.96s\tremaining: 148ms\n",
      "930:\tlearn: 0.0247106\ttotal: 1.97s\tremaining: 146ms\n",
      "931:\tlearn: 0.0247105\ttotal: 1.97s\tremaining: 144ms\n",
      "932:\tlearn: 0.0247105\ttotal: 1.97s\tremaining: 141ms\n",
      "933:\tlearn: 0.0247104\ttotal: 1.97s\tremaining: 139ms\n",
      "934:\tlearn: 0.0247104\ttotal: 1.97s\tremaining: 137ms\n",
      "935:\tlearn: 0.0247104\ttotal: 1.98s\tremaining: 135ms\n",
      "936:\tlearn: 0.0247105\ttotal: 1.98s\tremaining: 133ms\n",
      "937:\tlearn: 0.0247102\ttotal: 1.98s\tremaining: 131ms\n",
      "938:\tlearn: 0.0247102\ttotal: 1.98s\tremaining: 129ms\n",
      "939:\tlearn: 0.0247037\ttotal: 1.98s\tremaining: 127ms\n",
      "940:\tlearn: 0.0246897\ttotal: 1.98s\tremaining: 124ms\n",
      "941:\tlearn: 0.0246896\ttotal: 1.99s\tremaining: 122ms\n",
      "942:\tlearn: 0.0246896\ttotal: 1.99s\tremaining: 120ms\n",
      "943:\tlearn: 0.0246896\ttotal: 1.99s\tremaining: 118ms\n",
      "944:\tlearn: 0.0246896\ttotal: 1.99s\tremaining: 116ms\n",
      "945:\tlearn: 0.0246896\ttotal: 1.99s\tremaining: 114ms\n",
      "946:\tlearn: 0.0246896\ttotal: 2s\tremaining: 112ms\n",
      "947:\tlearn: 0.0246896\ttotal: 2s\tremaining: 110ms\n",
      "948:\tlearn: 0.0246896\ttotal: 2s\tremaining: 107ms\n",
      "949:\tlearn: 0.0246896\ttotal: 2s\tremaining: 105ms\n",
      "950:\tlearn: 0.0246896\ttotal: 2s\tremaining: 103ms\n",
      "951:\tlearn: 0.0246895\ttotal: 2s\tremaining: 101ms\n",
      "952:\tlearn: 0.0246895\ttotal: 2.01s\tremaining: 99ms\n",
      "953:\tlearn: 0.0246894\ttotal: 2.01s\tremaining: 96.9ms\n",
      "954:\tlearn: 0.0246894\ttotal: 2.01s\tremaining: 94.7ms\n",
      "955:\tlearn: 0.0246894\ttotal: 2.01s\tremaining: 92.6ms\n",
      "956:\tlearn: 0.0246893\ttotal: 2.01s\tremaining: 90.5ms\n",
      "957:\tlearn: 0.0246893\ttotal: 2.02s\tremaining: 88.4ms\n",
      "958:\tlearn: 0.0246893\ttotal: 2.02s\tremaining: 86.3ms\n",
      "959:\tlearn: 0.0246893\ttotal: 2.02s\tremaining: 84.1ms\n",
      "960:\tlearn: 0.0246892\ttotal: 2.02s\tremaining: 82ms\n",
      "961:\tlearn: 0.0246892\ttotal: 2.02s\tremaining: 79.9ms\n",
      "962:\tlearn: 0.0246892\ttotal: 2.02s\tremaining: 77.8ms\n",
      "963:\tlearn: 0.0246891\ttotal: 2.03s\tremaining: 75.7ms\n",
      "964:\tlearn: 0.0246891\ttotal: 2.03s\tremaining: 73.6ms\n",
      "965:\tlearn: 0.0246891\ttotal: 2.03s\tremaining: 71.4ms\n",
      "966:\tlearn: 0.0246891\ttotal: 2.03s\tremaining: 69.3ms\n",
      "967:\tlearn: 0.0246890\ttotal: 2.03s\tremaining: 67.2ms\n",
      "968:\tlearn: 0.0246890\ttotal: 2.04s\tremaining: 65.1ms\n",
      "969:\tlearn: 0.0246891\ttotal: 2.04s\tremaining: 63ms\n",
      "970:\tlearn: 0.0246890\ttotal: 2.04s\tremaining: 60.9ms\n",
      "971:\tlearn: 0.0246890\ttotal: 2.04s\tremaining: 58.8ms\n",
      "972:\tlearn: 0.0246632\ttotal: 2.04s\tremaining: 56.7ms\n",
      "973:\tlearn: 0.0246367\ttotal: 2.04s\tremaining: 54.6ms\n",
      "974:\tlearn: 0.0246246\ttotal: 2.05s\tremaining: 52.5ms\n",
      "975:\tlearn: 0.0246131\ttotal: 2.05s\tremaining: 50.4ms\n",
      "976:\tlearn: 0.0246131\ttotal: 2.05s\tremaining: 48.3ms\n",
      "977:\tlearn: 0.0246130\ttotal: 2.05s\tremaining: 46.2ms\n",
      "978:\tlearn: 0.0246129\ttotal: 2.06s\tremaining: 44.1ms\n",
      "979:\tlearn: 0.0246129\ttotal: 2.06s\tremaining: 42ms\n",
      "980:\tlearn: 0.0246128\ttotal: 2.06s\tremaining: 39.9ms\n",
      "981:\tlearn: 0.0246128\ttotal: 2.06s\tremaining: 37.8ms\n",
      "982:\tlearn: 0.0246128\ttotal: 2.06s\tremaining: 35.7ms\n",
      "983:\tlearn: 0.0246128\ttotal: 2.06s\tremaining: 33.6ms\n",
      "984:\tlearn: 0.0246128\ttotal: 2.07s\tremaining: 31.5ms\n",
      "985:\tlearn: 0.0246126\ttotal: 2.07s\tremaining: 29.4ms\n",
      "986:\tlearn: 0.0246126\ttotal: 2.07s\tremaining: 27.3ms\n",
      "987:\tlearn: 0.0246126\ttotal: 2.07s\tremaining: 25.2ms\n",
      "988:\tlearn: 0.0246126\ttotal: 2.07s\tremaining: 23.1ms\n",
      "989:\tlearn: 0.0246125\ttotal: 2.08s\tremaining: 21ms\n",
      "990:\tlearn: 0.0246125\ttotal: 2.08s\tremaining: 18.9ms\n",
      "991:\tlearn: 0.0246125\ttotal: 2.08s\tremaining: 16.8ms\n",
      "992:\tlearn: 0.0246125\ttotal: 2.08s\tremaining: 14.7ms\n",
      "993:\tlearn: 0.0246124\ttotal: 2.08s\tremaining: 12.6ms\n",
      "994:\tlearn: 0.0245995\ttotal: 2.08s\tremaining: 10.5ms\n",
      "995:\tlearn: 0.0245994\ttotal: 2.09s\tremaining: 8.38ms\n",
      "996:\tlearn: 0.0245995\ttotal: 2.09s\tremaining: 6.28ms\n",
      "997:\tlearn: 0.0245995\ttotal: 2.09s\tremaining: 4.19ms\n",
      "998:\tlearn: 0.0245994\ttotal: 2.09s\tremaining: 2.09ms\n",
      "999:\tlearn: 0.0245994\ttotal: 2.09s\tremaining: 0us\n"
     ]
    },
    {
     "data": {
      "text/plain": [
       "<catboost.core.CatBoostClassifier at 0x7fdf2a2c8310>"
      ]
     },
     "execution_count": 46,
     "metadata": {},
     "output_type": "execute_result"
    }
   ],
   "source": [
    "#  catboost Classifier Model\n",
    "from catboost import CatBoostClassifier\n",
    "\n",
    "# instantiate the model\n",
    "cat = CatBoostClassifier(learning_rate  = 0.1)\n",
    "\n",
    "# fit the model \n",
    "cat.fit(X_train,y_train)"
   ]
  },
  {
   "cell_type": "code",
   "execution_count": 47,
   "id": "2353cb47",
   "metadata": {},
   "outputs": [],
   "source": [
    "#predicting the target value from the model for the samples\n",
    "y_train_cat = cat.predict(X_train)\n",
    "y_test_cat = cat.predict(X_test)\n"
   ]
  },
  {
   "cell_type": "code",
   "execution_count": 48,
   "id": "d6cc2cf5",
   "metadata": {},
   "outputs": [
    {
     "data": {
      "text/plain": [
       "'CatBoost Classifier : Accuracy on training Data: 0.991'"
      ]
     },
     "metadata": {},
     "output_type": "display_data"
    },
    {
     "data": {
      "text/plain": [
       "'CatBoost Classifier : Accuracy on test Data: 0.972'"
      ]
     },
     "metadata": {},
     "output_type": "display_data"
    },
    {
     "name": "stdout",
     "output_type": "stream",
     "text": [
      "\n"
     ]
    },
    {
     "data": {
      "text/plain": [
       "'CatBoost Classifier : f1_score on training Data: 0.992'"
      ]
     },
     "metadata": {},
     "output_type": "display_data"
    },
    {
     "data": {
      "text/plain": [
       "'CatBoost Classifier : f1_score on test Data: 0.975'"
      ]
     },
     "metadata": {},
     "output_type": "display_data"
    },
    {
     "name": "stdout",
     "output_type": "stream",
     "text": [
      "\n"
     ]
    },
    {
     "data": {
      "text/plain": [
       "'CatBoost Classifier : Recall on training Data: 0.994'"
      ]
     },
     "metadata": {},
     "output_type": "display_data"
    },
    {
     "data": {
      "text/plain": [
       "'CatBoost Classifier : Recall on test Data: 0.982'"
      ]
     },
     "metadata": {},
     "output_type": "display_data"
    },
    {
     "name": "stdout",
     "output_type": "stream",
     "text": [
      "\n"
     ]
    },
    {
     "data": {
      "text/plain": [
       "'CatBoost Classifier : precision on training Data: 0.989'"
      ]
     },
     "metadata": {},
     "output_type": "display_data"
    },
    {
     "data": {
      "text/plain": [
       "'CatBoost Classifier : precision on test Data: 0.969'"
      ]
     },
     "metadata": {},
     "output_type": "display_data"
    }
   ],
   "source": [
    "#computing the accuracy, f1_score, Recall, precision of the model performance\n",
    "\n",
    "\n",
    "\n",
    "\n",
    "acc_train_cat = metrics.accuracy_score(y_train, y_train_cat)\n",
    "acc_test_cat = metrics.accuracy_score(y_test, y_test_cat)\n",
    "display(\"CatBoost Classifier : Accuracy on training Data: {:.3f}\".format(acc_train_cat))\n",
    "display(\"CatBoost Classifier : Accuracy on test Data: {:.3f}\".format(acc_test_cat))\n",
    "print()\n",
    "\n",
    "f1_score_train_cat = metrics.f1_score(y_train, y_train_cat)\n",
    "f1_score_test_cat = metrics.f1_score(y_test, y_test_cat)\n",
    "display(\"CatBoost Classifier : f1_score on training Data: {:.3f}\".format(f1_score_train_cat))\n",
    "display(\"CatBoost Classifier : f1_score on test Data: {:.3f}\".format(f1_score_test_cat))\n",
    "print()\n",
    "\n",
    "recall_score_train_cat = metrics.recall_score(y_train, y_train_cat)\n",
    "recall_score_test_cat = metrics.recall_score(y_test, y_test_cat)\n",
    "display(\"CatBoost Classifier : Recall on training Data: {:.3f}\".format(recall_score_train_cat))\n",
    "display(\"CatBoost Classifier : Recall on test Data: {:.3f}\".format(recall_score_test_cat))\n",
    "print()\n",
    "\n",
    "precision_score_train_cat = metrics.precision_score(y_train, y_train_cat)\n",
    "precision_score_test_cat = metrics.precision_score(y_test, y_test_cat)\n",
    "display(\"CatBoost Classifier : precision on training Data: {:.3f}\".format(precision_score_train_cat))\n",
    "display(\"CatBoost Classifier : precision on test Data: {:.3f}\".format(precision_score_test_cat))"
   ]
  },
  {
   "cell_type": "code",
   "execution_count": 49,
   "id": "b88154b6",
   "metadata": {},
   "outputs": [
    {
     "name": "stdout",
     "output_type": "stream",
     "text": [
      "              precision    recall  f1-score   support\n",
      "\n",
      "          -1       0.98      0.96      0.97       976\n",
      "           1       0.97      0.98      0.98      1235\n",
      "\n",
      "    accuracy                           0.97      2211\n",
      "   macro avg       0.97      0.97      0.97      2211\n",
      "weighted avg       0.97      0.97      0.97      2211\n",
      "\n"
     ]
    }
   ],
   "source": [
    "#computing the classification report of the model\n",
    "\n",
    "print(metrics.classification_report(y_test, y_test_cat))"
   ]
  },
  {
   "cell_type": "code",
   "execution_count": 50,
   "id": "e56e3618",
   "metadata": {},
   "outputs": [
    {
     "name": "stdout",
     "output_type": "stream",
     "text": [
      "0:\tlearn: 0.5487232\ttotal: 2.01ms\tremaining: 2.01s\n",
      "1:\tlearn: 0.4349357\ttotal: 3.94ms\tremaining: 1.97s\n",
      "2:\tlearn: 0.3609236\ttotal: 5.94ms\tremaining: 1.97s\n",
      "3:\tlearn: 0.3050829\ttotal: 8.13ms\tremaining: 2.02s\n",
      "4:\tlearn: 0.2766620\ttotal: 10.2ms\tremaining: 2.03s\n",
      "5:\tlearn: 0.2475476\ttotal: 12.3ms\tremaining: 2.04s\n",
      "6:\tlearn: 0.2286637\ttotal: 14.6ms\tremaining: 2.08s\n",
      "7:\tlearn: 0.2138754\ttotal: 16.7ms\tremaining: 2.07s\n",
      "8:\tlearn: 0.2013643\ttotal: 19ms\tremaining: 2.09s\n",
      "9:\tlearn: 0.1896378\ttotal: 21.4ms\tremaining: 2.12s\n",
      "10:\tlearn: 0.1819539\ttotal: 23.5ms\tremaining: 2.12s\n",
      "11:\tlearn: 0.1767867\ttotal: 25.7ms\tremaining: 2.12s\n",
      "12:\tlearn: 0.1727735\ttotal: 28.2ms\tremaining: 2.14s\n",
      "13:\tlearn: 0.1682578\ttotal: 30.5ms\tremaining: 2.15s\n",
      "14:\tlearn: 0.1641759\ttotal: 32.9ms\tremaining: 2.16s\n",
      "15:\tlearn: 0.1614218\ttotal: 35.3ms\tremaining: 2.17s\n",
      "16:\tlearn: 0.1558968\ttotal: 38.4ms\tremaining: 2.22s\n",
      "17:\tlearn: 0.1535881\ttotal: 40.8ms\tremaining: 2.22s\n",
      "18:\tlearn: 0.1514228\ttotal: 42.9ms\tremaining: 2.21s\n",
      "19:\tlearn: 0.1482580\ttotal: 45.1ms\tremaining: 2.21s\n",
      "20:\tlearn: 0.1452536\ttotal: 47.4ms\tremaining: 2.21s\n",
      "21:\tlearn: 0.1426992\ttotal: 49.7ms\tremaining: 2.21s\n",
      "22:\tlearn: 0.1405068\ttotal: 51.8ms\tremaining: 2.2s\n",
      "23:\tlearn: 0.1381617\ttotal: 54ms\tremaining: 2.19s\n",
      "24:\tlearn: 0.1363558\ttotal: 56.2ms\tremaining: 2.19s\n",
      "25:\tlearn: 0.1341378\ttotal: 58.4ms\tremaining: 2.19s\n",
      "26:\tlearn: 0.1323241\ttotal: 60.6ms\tremaining: 2.18s\n",
      "27:\tlearn: 0.1305175\ttotal: 62.7ms\tremaining: 2.18s\n",
      "28:\tlearn: 0.1289123\ttotal: 65ms\tremaining: 2.18s\n",
      "29:\tlearn: 0.1278445\ttotal: 67.5ms\tremaining: 2.18s\n",
      "30:\tlearn: 0.1256489\ttotal: 69.6ms\tremaining: 2.17s\n",
      "31:\tlearn: 0.1239303\ttotal: 71.8ms\tremaining: 2.17s\n",
      "32:\tlearn: 0.1216332\ttotal: 74.1ms\tremaining: 2.17s\n",
      "33:\tlearn: 0.1207898\ttotal: 76.3ms\tremaining: 2.17s\n",
      "34:\tlearn: 0.1197948\ttotal: 78.4ms\tremaining: 2.16s\n",
      "35:\tlearn: 0.1187666\ttotal: 80.6ms\tremaining: 2.16s\n",
      "36:\tlearn: 0.1175524\ttotal: 83ms\tremaining: 2.16s\n",
      "37:\tlearn: 0.1164566\ttotal: 85.5ms\tremaining: 2.16s\n",
      "38:\tlearn: 0.1156115\ttotal: 87.7ms\tremaining: 2.16s\n",
      "39:\tlearn: 0.1143547\ttotal: 89.9ms\tremaining: 2.16s\n",
      "40:\tlearn: 0.1131558\ttotal: 92.3ms\tremaining: 2.16s\n",
      "41:\tlearn: 0.1122965\ttotal: 94.7ms\tremaining: 2.16s\n",
      "42:\tlearn: 0.1113744\ttotal: 96.9ms\tremaining: 2.16s\n",
      "43:\tlearn: 0.1103635\ttotal: 99.1ms\tremaining: 2.15s\n",
      "44:\tlearn: 0.1093154\ttotal: 101ms\tremaining: 2.15s\n",
      "45:\tlearn: 0.1085949\ttotal: 103ms\tremaining: 2.14s\n",
      "46:\tlearn: 0.1078806\ttotal: 106ms\tremaining: 2.15s\n",
      "47:\tlearn: 0.1071933\ttotal: 108ms\tremaining: 2.14s\n",
      "48:\tlearn: 0.1061508\ttotal: 110ms\tremaining: 2.14s\n",
      "49:\tlearn: 0.1051555\ttotal: 113ms\tremaining: 2.14s\n",
      "50:\tlearn: 0.1044416\ttotal: 115ms\tremaining: 2.14s\n",
      "51:\tlearn: 0.1035176\ttotal: 117ms\tremaining: 2.13s\n",
      "52:\tlearn: 0.1021724\ttotal: 119ms\tremaining: 2.13s\n",
      "53:\tlearn: 0.1012434\ttotal: 122ms\tremaining: 2.13s\n",
      "54:\tlearn: 0.1005327\ttotal: 124ms\tremaining: 2.13s\n",
      "55:\tlearn: 0.0998745\ttotal: 126ms\tremaining: 2.13s\n",
      "56:\tlearn: 0.0986848\ttotal: 128ms\tremaining: 2.12s\n",
      "57:\tlearn: 0.0979806\ttotal: 130ms\tremaining: 2.12s\n",
      "58:\tlearn: 0.0974501\ttotal: 133ms\tremaining: 2.13s\n",
      "59:\tlearn: 0.0967877\ttotal: 136ms\tremaining: 2.12s\n",
      "60:\tlearn: 0.0956301\ttotal: 138ms\tremaining: 2.12s\n",
      "61:\tlearn: 0.0950716\ttotal: 140ms\tremaining: 2.12s\n",
      "62:\tlearn: 0.0943425\ttotal: 142ms\tremaining: 2.11s\n",
      "63:\tlearn: 0.0938689\ttotal: 145ms\tremaining: 2.12s\n",
      "64:\tlearn: 0.0936562\ttotal: 147ms\tremaining: 2.12s\n",
      "65:\tlearn: 0.0931162\ttotal: 150ms\tremaining: 2.13s\n",
      "66:\tlearn: 0.0925359\ttotal: 154ms\tremaining: 2.14s\n",
      "67:\tlearn: 0.0916716\ttotal: 156ms\tremaining: 2.13s\n",
      "68:\tlearn: 0.0906297\ttotal: 158ms\tremaining: 2.13s\n",
      "69:\tlearn: 0.0899342\ttotal: 160ms\tremaining: 2.13s\n",
      "70:\tlearn: 0.0892701\ttotal: 162ms\tremaining: 2.12s\n",
      "71:\tlearn: 0.0888753\ttotal: 164ms\tremaining: 2.12s\n",
      "72:\tlearn: 0.0881357\ttotal: 168ms\tremaining: 2.13s\n",
      "73:\tlearn: 0.0877790\ttotal: 170ms\tremaining: 2.12s\n",
      "74:\tlearn: 0.0874838\ttotal: 172ms\tremaining: 2.12s\n",
      "75:\tlearn: 0.0869608\ttotal: 174ms\tremaining: 2.11s\n",
      "76:\tlearn: 0.0865361\ttotal: 176ms\tremaining: 2.11s\n",
      "77:\tlearn: 0.0861421\ttotal: 178ms\tremaining: 2.1s\n",
      "78:\tlearn: 0.0857547\ttotal: 180ms\tremaining: 2.1s\n",
      "79:\tlearn: 0.0844840\ttotal: 182ms\tremaining: 2.09s\n",
      "80:\tlearn: 0.0840523\ttotal: 184ms\tremaining: 2.09s\n",
      "81:\tlearn: 0.0838115\ttotal: 187ms\tremaining: 2.09s\n",
      "82:\tlearn: 0.0835476\ttotal: 189ms\tremaining: 2.08s\n",
      "83:\tlearn: 0.0831790\ttotal: 190ms\tremaining: 2.08s\n",
      "84:\tlearn: 0.0826715\ttotal: 193ms\tremaining: 2.07s\n",
      "85:\tlearn: 0.0817979\ttotal: 195ms\tremaining: 2.08s\n",
      "86:\tlearn: 0.0813965\ttotal: 198ms\tremaining: 2.07s\n",
      "87:\tlearn: 0.0810891\ttotal: 200ms\tremaining: 2.07s\n",
      "88:\tlearn: 0.0805226\ttotal: 202ms\tremaining: 2.06s\n",
      "89:\tlearn: 0.0800868\ttotal: 204ms\tremaining: 2.06s\n",
      "90:\tlearn: 0.0796689\ttotal: 206ms\tremaining: 2.06s\n",
      "91:\tlearn: 0.0793265\ttotal: 208ms\tremaining: 2.05s\n",
      "92:\tlearn: 0.0789320\ttotal: 210ms\tremaining: 2.05s\n",
      "93:\tlearn: 0.0785365\ttotal: 212ms\tremaining: 2.04s\n",
      "94:\tlearn: 0.0780166\ttotal: 214ms\tremaining: 2.04s\n",
      "95:\tlearn: 0.0771478\ttotal: 216ms\tremaining: 2.04s\n",
      "96:\tlearn: 0.0768522\ttotal: 218ms\tremaining: 2.03s\n",
      "97:\tlearn: 0.0761982\ttotal: 221ms\tremaining: 2.03s\n",
      "98:\tlearn: 0.0758859\ttotal: 223ms\tremaining: 2.02s\n",
      "99:\tlearn: 0.0755311\ttotal: 225ms\tremaining: 2.02s\n",
      "100:\tlearn: 0.0749254\ttotal: 227ms\tremaining: 2.02s\n",
      "101:\tlearn: 0.0745232\ttotal: 229ms\tremaining: 2.02s\n",
      "102:\tlearn: 0.0742103\ttotal: 231ms\tremaining: 2.01s\n",
      "103:\tlearn: 0.0738550\ttotal: 233ms\tremaining: 2.01s\n",
      "104:\tlearn: 0.0733823\ttotal: 235ms\tremaining: 2s\n",
      "105:\tlearn: 0.0727215\ttotal: 237ms\tremaining: 2s\n",
      "106:\tlearn: 0.0721881\ttotal: 239ms\tremaining: 2s\n",
      "107:\tlearn: 0.0719881\ttotal: 241ms\tremaining: 1.99s\n",
      "108:\tlearn: 0.0715811\ttotal: 243ms\tremaining: 1.99s\n",
      "109:\tlearn: 0.0710623\ttotal: 245ms\tremaining: 1.99s\n",
      "110:\tlearn: 0.0707868\ttotal: 248ms\tremaining: 1.98s\n",
      "111:\tlearn: 0.0705032\ttotal: 250ms\tremaining: 1.98s\n",
      "112:\tlearn: 0.0702643\ttotal: 252ms\tremaining: 1.98s\n",
      "113:\tlearn: 0.0700158\ttotal: 254ms\tremaining: 1.98s\n",
      "114:\tlearn: 0.0697033\ttotal: 256ms\tremaining: 1.97s\n",
      "115:\tlearn: 0.0693206\ttotal: 259ms\tremaining: 1.97s\n",
      "116:\tlearn: 0.0688914\ttotal: 261ms\tremaining: 1.97s\n",
      "117:\tlearn: 0.0681163\ttotal: 263ms\tremaining: 1.96s\n",
      "118:\tlearn: 0.0677305\ttotal: 265ms\tremaining: 1.96s\n",
      "119:\tlearn: 0.0675146\ttotal: 267ms\tremaining: 1.96s\n",
      "120:\tlearn: 0.0670681\ttotal: 269ms\tremaining: 1.96s\n",
      "121:\tlearn: 0.0667106\ttotal: 272ms\tremaining: 1.95s\n",
      "122:\tlearn: 0.0664825\ttotal: 274ms\tremaining: 1.95s\n",
      "123:\tlearn: 0.0661842\ttotal: 276ms\tremaining: 1.95s\n",
      "124:\tlearn: 0.0656590\ttotal: 278ms\tremaining: 1.94s\n",
      "125:\tlearn: 0.0653552\ttotal: 280ms\tremaining: 1.94s\n",
      "126:\tlearn: 0.0650482\ttotal: 282ms\tremaining: 1.94s\n",
      "127:\tlearn: 0.0647403\ttotal: 284ms\tremaining: 1.93s\n",
      "128:\tlearn: 0.0645124\ttotal: 286ms\tremaining: 1.93s\n",
      "129:\tlearn: 0.0642397\ttotal: 288ms\tremaining: 1.93s\n",
      "130:\tlearn: 0.0638785\ttotal: 290ms\tremaining: 1.92s\n",
      "131:\tlearn: 0.0636326\ttotal: 292ms\tremaining: 1.92s\n",
      "132:\tlearn: 0.0634690\ttotal: 294ms\tremaining: 1.92s\n",
      "133:\tlearn: 0.0630192\ttotal: 296ms\tremaining: 1.91s\n",
      "134:\tlearn: 0.0626098\ttotal: 298ms\tremaining: 1.91s\n",
      "135:\tlearn: 0.0624539\ttotal: 300ms\tremaining: 1.91s\n",
      "136:\tlearn: 0.0620906\ttotal: 302ms\tremaining: 1.9s\n",
      "137:\tlearn: 0.0618404\ttotal: 304ms\tremaining: 1.9s\n",
      "138:\tlearn: 0.0616377\ttotal: 306ms\tremaining: 1.9s\n",
      "139:\tlearn: 0.0614321\ttotal: 308ms\tremaining: 1.89s\n",
      "140:\tlearn: 0.0610144\ttotal: 310ms\tremaining: 1.89s\n",
      "141:\tlearn: 0.0607740\ttotal: 313ms\tremaining: 1.89s\n",
      "142:\tlearn: 0.0604074\ttotal: 315ms\tremaining: 1.89s\n",
      "143:\tlearn: 0.0601492\ttotal: 317ms\tremaining: 1.88s\n",
      "144:\tlearn: 0.0599332\ttotal: 319ms\tremaining: 1.88s\n",
      "145:\tlearn: 0.0595986\ttotal: 321ms\tremaining: 1.88s\n",
      "146:\tlearn: 0.0594607\ttotal: 323ms\tremaining: 1.87s\n",
      "147:\tlearn: 0.0592346\ttotal: 325ms\tremaining: 1.87s\n",
      "148:\tlearn: 0.0590329\ttotal: 327ms\tremaining: 1.87s\n",
      "149:\tlearn: 0.0588296\ttotal: 329ms\tremaining: 1.86s\n",
      "150:\tlearn: 0.0585094\ttotal: 331ms\tremaining: 1.86s\n",
      "151:\tlearn: 0.0583468\ttotal: 334ms\tremaining: 1.86s\n",
      "152:\tlearn: 0.0581616\ttotal: 336ms\tremaining: 1.86s\n",
      "153:\tlearn: 0.0579070\ttotal: 338ms\tremaining: 1.85s\n",
      "154:\tlearn: 0.0577100\ttotal: 340ms\tremaining: 1.85s\n",
      "155:\tlearn: 0.0575204\ttotal: 342ms\tremaining: 1.85s\n",
      "156:\tlearn: 0.0572530\ttotal: 345ms\tremaining: 1.85s\n",
      "157:\tlearn: 0.0569274\ttotal: 347ms\tremaining: 1.85s\n",
      "158:\tlearn: 0.0566762\ttotal: 349ms\tremaining: 1.85s\n",
      "159:\tlearn: 0.0565614\ttotal: 352ms\tremaining: 1.84s\n",
      "160:\tlearn: 0.0562647\ttotal: 354ms\tremaining: 1.84s\n",
      "161:\tlearn: 0.0560566\ttotal: 356ms\tremaining: 1.84s\n",
      "162:\tlearn: 0.0558560\ttotal: 359ms\tremaining: 1.84s\n",
      "163:\tlearn: 0.0554512\ttotal: 361ms\tremaining: 1.84s\n",
      "164:\tlearn: 0.0552806\ttotal: 363ms\tremaining: 1.83s\n",
      "165:\tlearn: 0.0550538\ttotal: 366ms\tremaining: 1.84s\n",
      "166:\tlearn: 0.0548825\ttotal: 368ms\tremaining: 1.83s\n",
      "167:\tlearn: 0.0547805\ttotal: 370ms\tremaining: 1.83s\n",
      "168:\tlearn: 0.0546642\ttotal: 372ms\tremaining: 1.83s\n",
      "169:\tlearn: 0.0543574\ttotal: 374ms\tremaining: 1.83s\n",
      "170:\tlearn: 0.0542539\ttotal: 376ms\tremaining: 1.82s\n",
      "171:\tlearn: 0.0540977\ttotal: 379ms\tremaining: 1.82s\n",
      "172:\tlearn: 0.0539741\ttotal: 381ms\tremaining: 1.82s\n",
      "173:\tlearn: 0.0537793\ttotal: 383ms\tremaining: 1.82s\n",
      "174:\tlearn: 0.0535499\ttotal: 385ms\tremaining: 1.82s\n",
      "175:\tlearn: 0.0533461\ttotal: 388ms\tremaining: 1.81s\n",
      "176:\tlearn: 0.0531326\ttotal: 390ms\tremaining: 1.81s\n",
      "177:\tlearn: 0.0530595\ttotal: 392ms\tremaining: 1.81s\n",
      "178:\tlearn: 0.0529470\ttotal: 394ms\tremaining: 1.81s\n",
      "179:\tlearn: 0.0527691\ttotal: 396ms\tremaining: 1.8s\n",
      "180:\tlearn: 0.0526404\ttotal: 398ms\tremaining: 1.8s\n",
      "181:\tlearn: 0.0525145\ttotal: 400ms\tremaining: 1.8s\n",
      "182:\tlearn: 0.0524332\ttotal: 402ms\tremaining: 1.79s\n",
      "183:\tlearn: 0.0522311\ttotal: 405ms\tremaining: 1.79s\n",
      "184:\tlearn: 0.0519353\ttotal: 407ms\tremaining: 1.79s\n",
      "185:\tlearn: 0.0515714\ttotal: 409ms\tremaining: 1.79s\n",
      "186:\tlearn: 0.0514909\ttotal: 412ms\tremaining: 1.79s\n",
      "187:\tlearn: 0.0513162\ttotal: 414ms\tremaining: 1.79s\n",
      "188:\tlearn: 0.0511884\ttotal: 416ms\tremaining: 1.78s\n",
      "189:\tlearn: 0.0510652\ttotal: 418ms\tremaining: 1.78s\n",
      "190:\tlearn: 0.0509786\ttotal: 420ms\tremaining: 1.78s\n",
      "191:\tlearn: 0.0508893\ttotal: 422ms\tremaining: 1.78s\n",
      "192:\tlearn: 0.0505900\ttotal: 424ms\tremaining: 1.77s\n",
      "193:\tlearn: 0.0504426\ttotal: 427ms\tremaining: 1.77s\n",
      "194:\tlearn: 0.0502767\ttotal: 428ms\tremaining: 1.77s\n",
      "195:\tlearn: 0.0500644\ttotal: 431ms\tremaining: 1.77s\n",
      "196:\tlearn: 0.0499431\ttotal: 433ms\tremaining: 1.76s\n",
      "197:\tlearn: 0.0498418\ttotal: 435ms\tremaining: 1.76s\n",
      "198:\tlearn: 0.0497734\ttotal: 437ms\tremaining: 1.76s\n",
      "199:\tlearn: 0.0496759\ttotal: 439ms\tremaining: 1.76s\n",
      "200:\tlearn: 0.0494923\ttotal: 441ms\tremaining: 1.75s\n",
      "201:\tlearn: 0.0493402\ttotal: 444ms\tremaining: 1.75s\n",
      "202:\tlearn: 0.0492795\ttotal: 446ms\tremaining: 1.75s\n",
      "203:\tlearn: 0.0489776\ttotal: 448ms\tremaining: 1.75s\n",
      "204:\tlearn: 0.0486491\ttotal: 450ms\tremaining: 1.74s\n",
      "205:\tlearn: 0.0484551\ttotal: 452ms\tremaining: 1.74s\n",
      "206:\tlearn: 0.0482768\ttotal: 454ms\tremaining: 1.74s\n",
      "207:\tlearn: 0.0481178\ttotal: 456ms\tremaining: 1.74s\n",
      "208:\tlearn: 0.0479317\ttotal: 458ms\tremaining: 1.74s\n",
      "209:\tlearn: 0.0476658\ttotal: 461ms\tremaining: 1.73s\n",
      "210:\tlearn: 0.0474069\ttotal: 463ms\tremaining: 1.73s\n",
      "211:\tlearn: 0.0471817\ttotal: 465ms\tremaining: 1.73s\n",
      "212:\tlearn: 0.0470479\ttotal: 467ms\tremaining: 1.73s\n",
      "213:\tlearn: 0.0469487\ttotal: 469ms\tremaining: 1.72s\n",
      "214:\tlearn: 0.0468552\ttotal: 471ms\tremaining: 1.72s\n",
      "215:\tlearn: 0.0466651\ttotal: 473ms\tremaining: 1.72s\n",
      "216:\tlearn: 0.0465418\ttotal: 475ms\tremaining: 1.72s\n",
      "217:\tlearn: 0.0464800\ttotal: 478ms\tremaining: 1.71s\n",
      "218:\tlearn: 0.0463546\ttotal: 480ms\tremaining: 1.71s\n",
      "219:\tlearn: 0.0461314\ttotal: 482ms\tremaining: 1.71s\n",
      "220:\tlearn: 0.0460039\ttotal: 484ms\tremaining: 1.71s\n",
      "221:\tlearn: 0.0458286\ttotal: 486ms\tremaining: 1.7s\n",
      "222:\tlearn: 0.0456749\ttotal: 488ms\tremaining: 1.7s\n",
      "223:\tlearn: 0.0455866\ttotal: 490ms\tremaining: 1.7s\n",
      "224:\tlearn: 0.0453525\ttotal: 492ms\tremaining: 1.7s\n",
      "225:\tlearn: 0.0452161\ttotal: 494ms\tremaining: 1.69s\n",
      "226:\tlearn: 0.0450903\ttotal: 496ms\tremaining: 1.69s\n",
      "227:\tlearn: 0.0449873\ttotal: 499ms\tremaining: 1.69s\n",
      "228:\tlearn: 0.0448315\ttotal: 501ms\tremaining: 1.69s\n",
      "229:\tlearn: 0.0447866\ttotal: 503ms\tremaining: 1.68s\n",
      "230:\tlearn: 0.0447060\ttotal: 505ms\tremaining: 1.68s\n",
      "231:\tlearn: 0.0446381\ttotal: 507ms\tremaining: 1.68s\n",
      "232:\tlearn: 0.0445557\ttotal: 509ms\tremaining: 1.68s\n",
      "233:\tlearn: 0.0445173\ttotal: 511ms\tremaining: 1.67s\n",
      "234:\tlearn: 0.0444360\ttotal: 513ms\tremaining: 1.67s\n",
      "235:\tlearn: 0.0442935\ttotal: 515ms\tremaining: 1.67s\n",
      "236:\tlearn: 0.0441398\ttotal: 518ms\tremaining: 1.67s\n",
      "237:\tlearn: 0.0440522\ttotal: 520ms\tremaining: 1.66s\n",
      "238:\tlearn: 0.0439884\ttotal: 522ms\tremaining: 1.66s\n",
      "239:\tlearn: 0.0438421\ttotal: 524ms\tremaining: 1.66s\n",
      "240:\tlearn: 0.0437281\ttotal: 526ms\tremaining: 1.66s\n",
      "241:\tlearn: 0.0435951\ttotal: 528ms\tremaining: 1.65s\n",
      "242:\tlearn: 0.0435615\ttotal: 531ms\tremaining: 1.65s\n",
      "243:\tlearn: 0.0433870\ttotal: 533ms\tremaining: 1.65s\n",
      "244:\tlearn: 0.0432718\ttotal: 535ms\tremaining: 1.65s\n",
      "245:\tlearn: 0.0431472\ttotal: 537ms\tremaining: 1.65s\n",
      "246:\tlearn: 0.0430067\ttotal: 539ms\tremaining: 1.64s\n",
      "247:\tlearn: 0.0429156\ttotal: 541ms\tremaining: 1.64s\n",
      "248:\tlearn: 0.0428247\ttotal: 543ms\tremaining: 1.64s\n",
      "249:\tlearn: 0.0427609\ttotal: 546ms\tremaining: 1.64s\n",
      "250:\tlearn: 0.0426800\ttotal: 548ms\tremaining: 1.63s\n",
      "251:\tlearn: 0.0425901\ttotal: 551ms\tremaining: 1.63s\n",
      "252:\tlearn: 0.0425048\ttotal: 553ms\tremaining: 1.63s\n",
      "253:\tlearn: 0.0423799\ttotal: 555ms\tremaining: 1.63s\n",
      "254:\tlearn: 0.0423338\ttotal: 557ms\tremaining: 1.63s\n",
      "255:\tlearn: 0.0422537\ttotal: 559ms\tremaining: 1.62s\n",
      "256:\tlearn: 0.0420667\ttotal: 561ms\tremaining: 1.62s\n",
      "257:\tlearn: 0.0419256\ttotal: 564ms\tremaining: 1.62s\n",
      "258:\tlearn: 0.0418053\ttotal: 566ms\tremaining: 1.62s\n",
      "259:\tlearn: 0.0417602\ttotal: 568ms\tremaining: 1.62s\n",
      "260:\tlearn: 0.0416520\ttotal: 571ms\tremaining: 1.61s\n",
      "261:\tlearn: 0.0415031\ttotal: 573ms\tremaining: 1.61s\n",
      "262:\tlearn: 0.0414180\ttotal: 575ms\tremaining: 1.61s\n",
      "263:\tlearn: 0.0413413\ttotal: 577ms\tremaining: 1.61s\n",
      "264:\tlearn: 0.0412434\ttotal: 579ms\tremaining: 1.61s\n",
      "265:\tlearn: 0.0410701\ttotal: 581ms\tremaining: 1.6s\n",
      "266:\tlearn: 0.0409790\ttotal: 584ms\tremaining: 1.6s\n",
      "267:\tlearn: 0.0408507\ttotal: 586ms\tremaining: 1.6s\n",
      "268:\tlearn: 0.0406738\ttotal: 588ms\tremaining: 1.6s\n",
      "269:\tlearn: 0.0405711\ttotal: 590ms\tremaining: 1.59s\n",
      "270:\tlearn: 0.0405166\ttotal: 593ms\tremaining: 1.59s\n",
      "271:\tlearn: 0.0404571\ttotal: 595ms\tremaining: 1.59s\n",
      "272:\tlearn: 0.0404132\ttotal: 597ms\tremaining: 1.59s\n",
      "273:\tlearn: 0.0403448\ttotal: 599ms\tremaining: 1.59s\n",
      "274:\tlearn: 0.0402405\ttotal: 601ms\tremaining: 1.58s\n",
      "275:\tlearn: 0.0401784\ttotal: 603ms\tremaining: 1.58s\n",
      "276:\tlearn: 0.0401032\ttotal: 605ms\tremaining: 1.58s\n",
      "277:\tlearn: 0.0400037\ttotal: 607ms\tremaining: 1.58s\n",
      "278:\tlearn: 0.0399720\ttotal: 609ms\tremaining: 1.57s\n",
      "279:\tlearn: 0.0399098\ttotal: 611ms\tremaining: 1.57s\n",
      "280:\tlearn: 0.0398193\ttotal: 613ms\tremaining: 1.57s\n",
      "281:\tlearn: 0.0397107\ttotal: 616ms\tremaining: 1.57s\n",
      "282:\tlearn: 0.0396238\ttotal: 618ms\tremaining: 1.56s\n",
      "283:\tlearn: 0.0395599\ttotal: 620ms\tremaining: 1.56s\n",
      "284:\tlearn: 0.0394077\ttotal: 622ms\tremaining: 1.56s\n",
      "285:\tlearn: 0.0393553\ttotal: 624ms\tremaining: 1.56s\n",
      "286:\tlearn: 0.0392617\ttotal: 626ms\tremaining: 1.55s\n",
      "287:\tlearn: 0.0391791\ttotal: 628ms\tremaining: 1.55s\n",
      "288:\tlearn: 0.0391059\ttotal: 630ms\tremaining: 1.55s\n",
      "289:\tlearn: 0.0389925\ttotal: 632ms\tremaining: 1.55s\n",
      "290:\tlearn: 0.0388878\ttotal: 634ms\tremaining: 1.54s\n",
      "291:\tlearn: 0.0388529\ttotal: 636ms\tremaining: 1.54s\n",
      "292:\tlearn: 0.0387915\ttotal: 638ms\tremaining: 1.54s\n",
      "293:\tlearn: 0.0386696\ttotal: 640ms\tremaining: 1.54s\n",
      "294:\tlearn: 0.0385486\ttotal: 642ms\tremaining: 1.53s\n",
      "295:\tlearn: 0.0384982\ttotal: 645ms\tremaining: 1.53s\n",
      "296:\tlearn: 0.0384189\ttotal: 647ms\tremaining: 1.53s\n",
      "297:\tlearn: 0.0383475\ttotal: 649ms\tremaining: 1.53s\n",
      "298:\tlearn: 0.0382923\ttotal: 651ms\tremaining: 1.53s\n",
      "299:\tlearn: 0.0382194\ttotal: 653ms\tremaining: 1.52s\n",
      "300:\tlearn: 0.0381712\ttotal: 655ms\tremaining: 1.52s\n",
      "301:\tlearn: 0.0380901\ttotal: 657ms\tremaining: 1.52s\n",
      "302:\tlearn: 0.0379529\ttotal: 659ms\tremaining: 1.52s\n",
      "303:\tlearn: 0.0378866\ttotal: 661ms\tremaining: 1.51s\n",
      "304:\tlearn: 0.0377794\ttotal: 664ms\tremaining: 1.51s\n",
      "305:\tlearn: 0.0376159\ttotal: 666ms\tremaining: 1.51s\n",
      "306:\tlearn: 0.0374973\ttotal: 668ms\tremaining: 1.51s\n",
      "307:\tlearn: 0.0374268\ttotal: 670ms\tremaining: 1.51s\n",
      "308:\tlearn: 0.0373551\ttotal: 672ms\tremaining: 1.5s\n",
      "309:\tlearn: 0.0372996\ttotal: 674ms\tremaining: 1.5s\n",
      "310:\tlearn: 0.0372491\ttotal: 676ms\tremaining: 1.5s\n",
      "311:\tlearn: 0.0372046\ttotal: 679ms\tremaining: 1.5s\n",
      "312:\tlearn: 0.0371458\ttotal: 681ms\tremaining: 1.49s\n",
      "313:\tlearn: 0.0370351\ttotal: 683ms\tremaining: 1.49s\n",
      "314:\tlearn: 0.0369537\ttotal: 685ms\tremaining: 1.49s\n",
      "315:\tlearn: 0.0368912\ttotal: 687ms\tremaining: 1.49s\n",
      "316:\tlearn: 0.0368514\ttotal: 689ms\tremaining: 1.49s\n",
      "317:\tlearn: 0.0368131\ttotal: 691ms\tremaining: 1.48s\n",
      "318:\tlearn: 0.0367792\ttotal: 694ms\tremaining: 1.48s\n",
      "319:\tlearn: 0.0367279\ttotal: 696ms\tremaining: 1.48s\n",
      "320:\tlearn: 0.0367059\ttotal: 698ms\tremaining: 1.48s\n",
      "321:\tlearn: 0.0366599\ttotal: 700ms\tremaining: 1.47s\n",
      "322:\tlearn: 0.0365020\ttotal: 702ms\tremaining: 1.47s\n",
      "323:\tlearn: 0.0364542\ttotal: 704ms\tremaining: 1.47s\n",
      "324:\tlearn: 0.0364204\ttotal: 706ms\tremaining: 1.47s\n",
      "325:\tlearn: 0.0363625\ttotal: 708ms\tremaining: 1.46s\n",
      "326:\tlearn: 0.0362867\ttotal: 710ms\tremaining: 1.46s\n",
      "327:\tlearn: 0.0362404\ttotal: 713ms\tremaining: 1.46s\n",
      "328:\tlearn: 0.0361574\ttotal: 715ms\tremaining: 1.46s\n",
      "329:\tlearn: 0.0361096\ttotal: 717ms\tremaining: 1.46s\n",
      "330:\tlearn: 0.0360786\ttotal: 719ms\tremaining: 1.45s\n",
      "331:\tlearn: 0.0360080\ttotal: 721ms\tremaining: 1.45s\n",
      "332:\tlearn: 0.0359705\ttotal: 723ms\tremaining: 1.45s\n",
      "333:\tlearn: 0.0359041\ttotal: 725ms\tremaining: 1.45s\n",
      "334:\tlearn: 0.0358134\ttotal: 727ms\tremaining: 1.44s\n",
      "335:\tlearn: 0.0357625\ttotal: 729ms\tremaining: 1.44s\n",
      "336:\tlearn: 0.0356498\ttotal: 732ms\tremaining: 1.44s\n",
      "337:\tlearn: 0.0355630\ttotal: 734ms\tremaining: 1.44s\n",
      "338:\tlearn: 0.0354664\ttotal: 737ms\tremaining: 1.44s\n",
      "339:\tlearn: 0.0354328\ttotal: 739ms\tremaining: 1.43s\n",
      "340:\tlearn: 0.0353908\ttotal: 741ms\tremaining: 1.43s\n",
      "341:\tlearn: 0.0353248\ttotal: 744ms\tremaining: 1.43s\n",
      "342:\tlearn: 0.0352669\ttotal: 746ms\tremaining: 1.43s\n",
      "343:\tlearn: 0.0352172\ttotal: 748ms\tremaining: 1.43s\n",
      "344:\tlearn: 0.0351687\ttotal: 750ms\tremaining: 1.42s\n",
      "345:\tlearn: 0.0351475\ttotal: 752ms\tremaining: 1.42s\n",
      "346:\tlearn: 0.0350233\ttotal: 754ms\tremaining: 1.42s\n",
      "347:\tlearn: 0.0349995\ttotal: 756ms\tremaining: 1.42s\n",
      "348:\tlearn: 0.0349414\ttotal: 758ms\tremaining: 1.41s\n",
      "349:\tlearn: 0.0349034\ttotal: 760ms\tremaining: 1.41s\n",
      "350:\tlearn: 0.0348012\ttotal: 763ms\tremaining: 1.41s\n",
      "351:\tlearn: 0.0347637\ttotal: 765ms\tremaining: 1.41s\n",
      "352:\tlearn: 0.0347316\ttotal: 767ms\tremaining: 1.41s\n",
      "353:\tlearn: 0.0346767\ttotal: 769ms\tremaining: 1.4s\n",
      "354:\tlearn: 0.0346415\ttotal: 771ms\tremaining: 1.4s\n",
      "355:\tlearn: 0.0345842\ttotal: 773ms\tremaining: 1.4s\n",
      "356:\tlearn: 0.0344702\ttotal: 775ms\tremaining: 1.4s\n",
      "357:\tlearn: 0.0343870\ttotal: 777ms\tremaining: 1.39s\n",
      "358:\tlearn: 0.0343532\ttotal: 779ms\tremaining: 1.39s\n",
      "359:\tlearn: 0.0342877\ttotal: 781ms\tremaining: 1.39s\n",
      "360:\tlearn: 0.0341769\ttotal: 783ms\tremaining: 1.39s\n",
      "361:\tlearn: 0.0341559\ttotal: 786ms\tremaining: 1.38s\n",
      "362:\tlearn: 0.0340802\ttotal: 788ms\tremaining: 1.38s\n",
      "363:\tlearn: 0.0340117\ttotal: 790ms\tremaining: 1.38s\n",
      "364:\tlearn: 0.0339431\ttotal: 792ms\tremaining: 1.38s\n",
      "365:\tlearn: 0.0338809\ttotal: 794ms\tremaining: 1.38s\n",
      "366:\tlearn: 0.0338159\ttotal: 796ms\tremaining: 1.37s\n",
      "367:\tlearn: 0.0337862\ttotal: 798ms\tremaining: 1.37s\n",
      "368:\tlearn: 0.0337620\ttotal: 800ms\tremaining: 1.37s\n",
      "369:\tlearn: 0.0337018\ttotal: 802ms\tremaining: 1.37s\n",
      "370:\tlearn: 0.0336391\ttotal: 805ms\tremaining: 1.36s\n",
      "371:\tlearn: 0.0335537\ttotal: 807ms\tremaining: 1.36s\n",
      "372:\tlearn: 0.0335024\ttotal: 809ms\tremaining: 1.36s\n",
      "373:\tlearn: 0.0334719\ttotal: 811ms\tremaining: 1.36s\n",
      "374:\tlearn: 0.0334368\ttotal: 813ms\tremaining: 1.35s\n",
      "375:\tlearn: 0.0333678\ttotal: 815ms\tremaining: 1.35s\n",
      "376:\tlearn: 0.0333293\ttotal: 817ms\tremaining: 1.35s\n",
      "377:\tlearn: 0.0332929\ttotal: 819ms\tremaining: 1.35s\n",
      "378:\tlearn: 0.0332465\ttotal: 821ms\tremaining: 1.34s\n",
      "379:\tlearn: 0.0331731\ttotal: 823ms\tremaining: 1.34s\n",
      "380:\tlearn: 0.0331123\ttotal: 825ms\tremaining: 1.34s\n",
      "381:\tlearn: 0.0330815\ttotal: 828ms\tremaining: 1.34s\n",
      "382:\tlearn: 0.0329911\ttotal: 830ms\tremaining: 1.34s\n",
      "383:\tlearn: 0.0329486\ttotal: 832ms\tremaining: 1.33s\n",
      "384:\tlearn: 0.0329158\ttotal: 834ms\tremaining: 1.33s\n",
      "385:\tlearn: 0.0328825\ttotal: 836ms\tremaining: 1.33s\n",
      "386:\tlearn: 0.0328548\ttotal: 838ms\tremaining: 1.33s\n",
      "387:\tlearn: 0.0327810\ttotal: 840ms\tremaining: 1.32s\n",
      "388:\tlearn: 0.0327590\ttotal: 843ms\tremaining: 1.32s\n",
      "389:\tlearn: 0.0327366\ttotal: 845ms\tremaining: 1.32s\n",
      "390:\tlearn: 0.0326258\ttotal: 846ms\tremaining: 1.32s\n",
      "391:\tlearn: 0.0326089\ttotal: 848ms\tremaining: 1.31s\n",
      "392:\tlearn: 0.0325731\ttotal: 851ms\tremaining: 1.31s\n",
      "393:\tlearn: 0.0325410\ttotal: 852ms\tremaining: 1.31s\n",
      "394:\tlearn: 0.0325172\ttotal: 855ms\tremaining: 1.31s\n",
      "395:\tlearn: 0.0324639\ttotal: 856ms\tremaining: 1.31s\n",
      "396:\tlearn: 0.0324274\ttotal: 858ms\tremaining: 1.3s\n",
      "397:\tlearn: 0.0323686\ttotal: 861ms\tremaining: 1.3s\n",
      "398:\tlearn: 0.0323451\ttotal: 862ms\tremaining: 1.3s\n",
      "399:\tlearn: 0.0323018\ttotal: 864ms\tremaining: 1.3s\n",
      "400:\tlearn: 0.0322754\ttotal: 866ms\tremaining: 1.29s\n",
      "401:\tlearn: 0.0322375\ttotal: 868ms\tremaining: 1.29s\n",
      "402:\tlearn: 0.0322034\ttotal: 870ms\tremaining: 1.29s\n",
      "403:\tlearn: 0.0321289\ttotal: 872ms\tremaining: 1.29s\n",
      "404:\tlearn: 0.0320859\ttotal: 874ms\tremaining: 1.28s\n",
      "405:\tlearn: 0.0320485\ttotal: 876ms\tremaining: 1.28s\n",
      "406:\tlearn: 0.0320104\ttotal: 878ms\tremaining: 1.28s\n",
      "407:\tlearn: 0.0319307\ttotal: 880ms\tremaining: 1.28s\n",
      "408:\tlearn: 0.0318545\ttotal: 882ms\tremaining: 1.27s\n",
      "409:\tlearn: 0.0317902\ttotal: 884ms\tremaining: 1.27s\n",
      "410:\tlearn: 0.0317538\ttotal: 886ms\tremaining: 1.27s\n",
      "411:\tlearn: 0.0316677\ttotal: 888ms\tremaining: 1.27s\n",
      "412:\tlearn: 0.0316340\ttotal: 890ms\tremaining: 1.26s\n",
      "413:\tlearn: 0.0316212\ttotal: 892ms\tremaining: 1.26s\n",
      "414:\tlearn: 0.0315865\ttotal: 894ms\tremaining: 1.26s\n",
      "415:\tlearn: 0.0315026\ttotal: 896ms\tremaining: 1.26s\n",
      "416:\tlearn: 0.0314715\ttotal: 898ms\tremaining: 1.25s\n",
      "417:\tlearn: 0.0314461\ttotal: 900ms\tremaining: 1.25s\n",
      "418:\tlearn: 0.0313943\ttotal: 902ms\tremaining: 1.25s\n",
      "419:\tlearn: 0.0313461\ttotal: 904ms\tremaining: 1.25s\n",
      "420:\tlearn: 0.0313159\ttotal: 906ms\tremaining: 1.25s\n",
      "421:\tlearn: 0.0312338\ttotal: 908ms\tremaining: 1.24s\n",
      "422:\tlearn: 0.0311835\ttotal: 910ms\tremaining: 1.24s\n",
      "423:\tlearn: 0.0311514\ttotal: 912ms\tremaining: 1.24s\n",
      "424:\tlearn: 0.0311268\ttotal: 915ms\tremaining: 1.24s\n",
      "425:\tlearn: 0.0310930\ttotal: 916ms\tremaining: 1.23s\n",
      "426:\tlearn: 0.0310731\ttotal: 918ms\tremaining: 1.23s\n",
      "427:\tlearn: 0.0310464\ttotal: 921ms\tremaining: 1.23s\n",
      "428:\tlearn: 0.0310290\ttotal: 924ms\tremaining: 1.23s\n",
      "429:\tlearn: 0.0309284\ttotal: 926ms\tremaining: 1.23s\n",
      "430:\tlearn: 0.0308976\ttotal: 929ms\tremaining: 1.23s\n",
      "431:\tlearn: 0.0308595\ttotal: 931ms\tremaining: 1.22s\n",
      "432:\tlearn: 0.0308032\ttotal: 933ms\tremaining: 1.22s\n",
      "433:\tlearn: 0.0307802\ttotal: 935ms\tremaining: 1.22s\n",
      "434:\tlearn: 0.0307535\ttotal: 937ms\tremaining: 1.22s\n",
      "435:\tlearn: 0.0307110\ttotal: 940ms\tremaining: 1.22s\n",
      "436:\tlearn: 0.0306538\ttotal: 941ms\tremaining: 1.21s\n",
      "437:\tlearn: 0.0306330\ttotal: 943ms\tremaining: 1.21s\n",
      "438:\tlearn: 0.0305571\ttotal: 946ms\tremaining: 1.21s\n",
      "439:\tlearn: 0.0305150\ttotal: 948ms\tremaining: 1.21s\n",
      "440:\tlearn: 0.0304785\ttotal: 950ms\tremaining: 1.2s\n",
      "441:\tlearn: 0.0304221\ttotal: 952ms\tremaining: 1.2s\n",
      "442:\tlearn: 0.0303907\ttotal: 954ms\tremaining: 1.2s\n",
      "443:\tlearn: 0.0303609\ttotal: 956ms\tremaining: 1.2s\n",
      "444:\tlearn: 0.0303213\ttotal: 959ms\tremaining: 1.2s\n",
      "445:\tlearn: 0.0302887\ttotal: 961ms\tremaining: 1.19s\n",
      "446:\tlearn: 0.0302621\ttotal: 963ms\tremaining: 1.19s\n",
      "447:\tlearn: 0.0302124\ttotal: 965ms\tremaining: 1.19s\n",
      "448:\tlearn: 0.0301405\ttotal: 968ms\tremaining: 1.19s\n",
      "449:\tlearn: 0.0300815\ttotal: 970ms\tremaining: 1.18s\n",
      "450:\tlearn: 0.0300647\ttotal: 972ms\tremaining: 1.18s\n",
      "451:\tlearn: 0.0300459\ttotal: 974ms\tremaining: 1.18s\n",
      "452:\tlearn: 0.0300161\ttotal: 976ms\tremaining: 1.18s\n",
      "453:\tlearn: 0.0299954\ttotal: 979ms\tremaining: 1.18s\n",
      "454:\tlearn: 0.0299746\ttotal: 981ms\tremaining: 1.17s\n",
      "455:\tlearn: 0.0299508\ttotal: 983ms\tremaining: 1.17s\n",
      "456:\tlearn: 0.0299217\ttotal: 985ms\tremaining: 1.17s\n",
      "457:\tlearn: 0.0298771\ttotal: 987ms\tremaining: 1.17s\n",
      "458:\tlearn: 0.0298484\ttotal: 989ms\tremaining: 1.17s\n",
      "459:\tlearn: 0.0297568\ttotal: 991ms\tremaining: 1.16s\n",
      "460:\tlearn: 0.0297214\ttotal: 994ms\tremaining: 1.16s\n",
      "461:\tlearn: 0.0296698\ttotal: 995ms\tremaining: 1.16s\n",
      "462:\tlearn: 0.0296293\ttotal: 998ms\tremaining: 1.16s\n",
      "463:\tlearn: 0.0295711\ttotal: 1000ms\tremaining: 1.15s\n",
      "464:\tlearn: 0.0295020\ttotal: 1s\tremaining: 1.15s\n",
      "465:\tlearn: 0.0294799\ttotal: 1s\tremaining: 1.15s\n",
      "466:\tlearn: 0.0294567\ttotal: 1s\tremaining: 1.15s\n",
      "467:\tlearn: 0.0294008\ttotal: 1.01s\tremaining: 1.15s\n",
      "468:\tlearn: 0.0293838\ttotal: 1.01s\tremaining: 1.14s\n",
      "469:\tlearn: 0.0293451\ttotal: 1.01s\tremaining: 1.14s\n",
      "470:\tlearn: 0.0292726\ttotal: 1.01s\tremaining: 1.14s\n",
      "471:\tlearn: 0.0292532\ttotal: 1.01s\tremaining: 1.14s\n",
      "472:\tlearn: 0.0292369\ttotal: 1.02s\tremaining: 1.13s\n",
      "473:\tlearn: 0.0292060\ttotal: 1.02s\tremaining: 1.13s\n",
      "474:\tlearn: 0.0291648\ttotal: 1.02s\tremaining: 1.13s\n",
      "475:\tlearn: 0.0291437\ttotal: 1.02s\tremaining: 1.13s\n",
      "476:\tlearn: 0.0291307\ttotal: 1.03s\tremaining: 1.13s\n",
      "477:\tlearn: 0.0290859\ttotal: 1.03s\tremaining: 1.12s\n",
      "478:\tlearn: 0.0290415\ttotal: 1.03s\tremaining: 1.12s\n",
      "479:\tlearn: 0.0290107\ttotal: 1.03s\tremaining: 1.12s\n",
      "480:\tlearn: 0.0289936\ttotal: 1.03s\tremaining: 1.11s\n",
      "481:\tlearn: 0.0289936\ttotal: 1.03s\tremaining: 1.11s\n",
      "482:\tlearn: 0.0289743\ttotal: 1.04s\tremaining: 1.11s\n",
      "483:\tlearn: 0.0289140\ttotal: 1.04s\tremaining: 1.11s\n",
      "484:\tlearn: 0.0288924\ttotal: 1.04s\tremaining: 1.11s\n",
      "485:\tlearn: 0.0288696\ttotal: 1.04s\tremaining: 1.1s\n",
      "486:\tlearn: 0.0288169\ttotal: 1.05s\tremaining: 1.1s\n",
      "487:\tlearn: 0.0287841\ttotal: 1.05s\tremaining: 1.1s\n",
      "488:\tlearn: 0.0287586\ttotal: 1.05s\tremaining: 1.1s\n",
      "489:\tlearn: 0.0286968\ttotal: 1.05s\tremaining: 1.1s\n",
      "490:\tlearn: 0.0286539\ttotal: 1.05s\tremaining: 1.09s\n",
      "491:\tlearn: 0.0286538\ttotal: 1.06s\tremaining: 1.09s\n",
      "492:\tlearn: 0.0286356\ttotal: 1.06s\tremaining: 1.09s\n",
      "493:\tlearn: 0.0286061\ttotal: 1.06s\tremaining: 1.09s\n",
      "494:\tlearn: 0.0285691\ttotal: 1.06s\tremaining: 1.08s\n",
      "495:\tlearn: 0.0285441\ttotal: 1.06s\tremaining: 1.08s\n",
      "496:\tlearn: 0.0285307\ttotal: 1.07s\tremaining: 1.08s\n",
      "497:\tlearn: 0.0285271\ttotal: 1.07s\tremaining: 1.08s\n",
      "498:\tlearn: 0.0285108\ttotal: 1.07s\tremaining: 1.07s\n",
      "499:\tlearn: 0.0285107\ttotal: 1.07s\tremaining: 1.07s\n",
      "500:\tlearn: 0.0284578\ttotal: 1.07s\tremaining: 1.07s\n",
      "501:\tlearn: 0.0284303\ttotal: 1.08s\tremaining: 1.07s\n",
      "502:\tlearn: 0.0283938\ttotal: 1.08s\tremaining: 1.07s\n",
      "503:\tlearn: 0.0283746\ttotal: 1.08s\tremaining: 1.06s\n",
      "504:\tlearn: 0.0283744\ttotal: 1.08s\tremaining: 1.06s\n",
      "505:\tlearn: 0.0283597\ttotal: 1.08s\tremaining: 1.06s\n",
      "506:\tlearn: 0.0283347\ttotal: 1.09s\tremaining: 1.06s\n",
      "507:\tlearn: 0.0283150\ttotal: 1.09s\tremaining: 1.05s\n",
      "508:\tlearn: 0.0282995\ttotal: 1.09s\tremaining: 1.05s\n",
      "509:\tlearn: 0.0282783\ttotal: 1.09s\tremaining: 1.05s\n",
      "510:\tlearn: 0.0282568\ttotal: 1.09s\tremaining: 1.05s\n",
      "511:\tlearn: 0.0281979\ttotal: 1.1s\tremaining: 1.05s\n",
      "512:\tlearn: 0.0281211\ttotal: 1.1s\tremaining: 1.04s\n",
      "513:\tlearn: 0.0280864\ttotal: 1.1s\tremaining: 1.04s\n",
      "514:\tlearn: 0.0280602\ttotal: 1.1s\tremaining: 1.04s\n",
      "515:\tlearn: 0.0280478\ttotal: 1.1s\tremaining: 1.04s\n",
      "516:\tlearn: 0.0280324\ttotal: 1.11s\tremaining: 1.03s\n",
      "517:\tlearn: 0.0279982\ttotal: 1.11s\tremaining: 1.03s\n",
      "518:\tlearn: 0.0279833\ttotal: 1.11s\tremaining: 1.03s\n",
      "519:\tlearn: 0.0279698\ttotal: 1.11s\tremaining: 1.03s\n",
      "520:\tlearn: 0.0279248\ttotal: 1.12s\tremaining: 1.03s\n",
      "521:\tlearn: 0.0279247\ttotal: 1.12s\tremaining: 1.02s\n",
      "522:\tlearn: 0.0279247\ttotal: 1.12s\tremaining: 1.02s\n",
      "523:\tlearn: 0.0279246\ttotal: 1.12s\tremaining: 1.02s\n",
      "524:\tlearn: 0.0279246\ttotal: 1.13s\tremaining: 1.02s\n",
      "525:\tlearn: 0.0279246\ttotal: 1.13s\tremaining: 1.01s\n",
      "526:\tlearn: 0.0279246\ttotal: 1.13s\tremaining: 1.01s\n",
      "527:\tlearn: 0.0279147\ttotal: 1.13s\tremaining: 1.01s\n",
      "528:\tlearn: 0.0279106\ttotal: 1.13s\tremaining: 1.01s\n",
      "529:\tlearn: 0.0278729\ttotal: 1.14s\tremaining: 1.01s\n",
      "530:\tlearn: 0.0278476\ttotal: 1.14s\tremaining: 1s\n",
      "531:\tlearn: 0.0278108\ttotal: 1.14s\tremaining: 1s\n",
      "532:\tlearn: 0.0278107\ttotal: 1.14s\tremaining: 1000ms\n",
      "533:\tlearn: 0.0277973\ttotal: 1.14s\tremaining: 998ms\n",
      "534:\tlearn: 0.0277505\ttotal: 1.15s\tremaining: 996ms\n",
      "535:\tlearn: 0.0277376\ttotal: 1.15s\tremaining: 993ms\n",
      "536:\tlearn: 0.0277213\ttotal: 1.15s\tremaining: 991ms\n",
      "537:\tlearn: 0.0276906\ttotal: 1.15s\tremaining: 989ms\n",
      "538:\tlearn: 0.0276736\ttotal: 1.15s\tremaining: 987ms\n",
      "539:\tlearn: 0.0276546\ttotal: 1.16s\tremaining: 985ms\n",
      "540:\tlearn: 0.0276545\ttotal: 1.16s\tremaining: 983ms\n",
      "541:\tlearn: 0.0276230\ttotal: 1.16s\tremaining: 981ms\n",
      "542:\tlearn: 0.0275952\ttotal: 1.16s\tremaining: 979ms\n",
      "543:\tlearn: 0.0275801\ttotal: 1.16s\tremaining: 976ms\n",
      "544:\tlearn: 0.0275523\ttotal: 1.17s\tremaining: 974ms\n",
      "545:\tlearn: 0.0275116\ttotal: 1.17s\tremaining: 972ms\n",
      "546:\tlearn: 0.0275110\ttotal: 1.17s\tremaining: 970ms\n",
      "547:\tlearn: 0.0274838\ttotal: 1.17s\tremaining: 967ms\n",
      "548:\tlearn: 0.0274730\ttotal: 1.18s\tremaining: 966ms\n",
      "549:\tlearn: 0.0274373\ttotal: 1.18s\tremaining: 963ms\n",
      "550:\tlearn: 0.0274372\ttotal: 1.18s\tremaining: 961ms\n",
      "551:\tlearn: 0.0274062\ttotal: 1.18s\tremaining: 959ms\n",
      "552:\tlearn: 0.0273534\ttotal: 1.18s\tremaining: 957ms\n",
      "553:\tlearn: 0.0273206\ttotal: 1.19s\tremaining: 954ms\n",
      "554:\tlearn: 0.0273206\ttotal: 1.19s\tremaining: 952ms\n",
      "555:\tlearn: 0.0272855\ttotal: 1.19s\tremaining: 950ms\n",
      "556:\tlearn: 0.0272855\ttotal: 1.19s\tremaining: 948ms\n",
      "557:\tlearn: 0.0272748\ttotal: 1.19s\tremaining: 945ms\n",
      "558:\tlearn: 0.0272470\ttotal: 1.2s\tremaining: 943ms\n",
      "559:\tlearn: 0.0272083\ttotal: 1.2s\tremaining: 941ms\n",
      "560:\tlearn: 0.0271917\ttotal: 1.2s\tremaining: 939ms\n",
      "561:\tlearn: 0.0271917\ttotal: 1.2s\tremaining: 937ms\n",
      "562:\tlearn: 0.0271917\ttotal: 1.2s\tremaining: 934ms\n",
      "563:\tlearn: 0.0271917\ttotal: 1.2s\tremaining: 932ms\n",
      "564:\tlearn: 0.0271842\ttotal: 1.21s\tremaining: 929ms\n",
      "565:\tlearn: 0.0271671\ttotal: 1.21s\tremaining: 927ms\n",
      "566:\tlearn: 0.0271555\ttotal: 1.21s\tremaining: 925ms\n",
      "567:\tlearn: 0.0271357\ttotal: 1.21s\tremaining: 923ms\n",
      "568:\tlearn: 0.0271357\ttotal: 1.21s\tremaining: 920ms\n",
      "569:\tlearn: 0.0271357\ttotal: 1.22s\tremaining: 918ms\n",
      "570:\tlearn: 0.0271353\ttotal: 1.22s\tremaining: 915ms\n",
      "571:\tlearn: 0.0271235\ttotal: 1.22s\tremaining: 914ms\n",
      "572:\tlearn: 0.0270982\ttotal: 1.22s\tremaining: 911ms\n",
      "573:\tlearn: 0.0270760\ttotal: 1.22s\tremaining: 909ms\n",
      "574:\tlearn: 0.0270563\ttotal: 1.23s\tremaining: 908ms\n",
      "575:\tlearn: 0.0270136\ttotal: 1.23s\tremaining: 905ms\n",
      "576:\tlearn: 0.0270136\ttotal: 1.23s\tremaining: 903ms\n",
      "577:\tlearn: 0.0269878\ttotal: 1.23s\tremaining: 901ms\n",
      "578:\tlearn: 0.0269877\ttotal: 1.24s\tremaining: 898ms\n",
      "579:\tlearn: 0.0269693\ttotal: 1.24s\tremaining: 896ms\n",
      "580:\tlearn: 0.0269692\ttotal: 1.24s\tremaining: 894ms\n",
      "581:\tlearn: 0.0269692\ttotal: 1.24s\tremaining: 892ms\n",
      "582:\tlearn: 0.0269530\ttotal: 1.24s\tremaining: 889ms\n",
      "583:\tlearn: 0.0269254\ttotal: 1.25s\tremaining: 887ms\n",
      "584:\tlearn: 0.0269048\ttotal: 1.25s\tremaining: 885ms\n",
      "585:\tlearn: 0.0268663\ttotal: 1.25s\tremaining: 883ms\n",
      "586:\tlearn: 0.0268445\ttotal: 1.25s\tremaining: 881ms\n",
      "587:\tlearn: 0.0268312\ttotal: 1.25s\tremaining: 879ms\n",
      "588:\tlearn: 0.0267913\ttotal: 1.26s\tremaining: 877ms\n",
      "589:\tlearn: 0.0267749\ttotal: 1.26s\tremaining: 875ms\n",
      "590:\tlearn: 0.0267534\ttotal: 1.26s\tremaining: 872ms\n",
      "591:\tlearn: 0.0267123\ttotal: 1.26s\tremaining: 870ms\n",
      "592:\tlearn: 0.0266789\ttotal: 1.26s\tremaining: 868ms\n",
      "593:\tlearn: 0.0266143\ttotal: 1.27s\tremaining: 866ms\n",
      "594:\tlearn: 0.0266028\ttotal: 1.27s\tremaining: 864ms\n",
      "595:\tlearn: 0.0265914\ttotal: 1.27s\tremaining: 862ms\n",
      "596:\tlearn: 0.0265822\ttotal: 1.27s\tremaining: 860ms\n",
      "597:\tlearn: 0.0265820\ttotal: 1.27s\tremaining: 857ms\n",
      "598:\tlearn: 0.0265718\ttotal: 1.28s\tremaining: 855ms\n",
      "599:\tlearn: 0.0265678\ttotal: 1.28s\tremaining: 853ms\n",
      "600:\tlearn: 0.0265548\ttotal: 1.28s\tremaining: 851ms\n",
      "601:\tlearn: 0.0265547\ttotal: 1.28s\tremaining: 848ms\n",
      "602:\tlearn: 0.0265386\ttotal: 1.28s\tremaining: 846ms\n",
      "603:\tlearn: 0.0265146\ttotal: 1.29s\tremaining: 844ms\n",
      "604:\tlearn: 0.0264929\ttotal: 1.29s\tremaining: 842ms\n",
      "605:\tlearn: 0.0264716\ttotal: 1.29s\tremaining: 839ms\n",
      "606:\tlearn: 0.0264715\ttotal: 1.29s\tremaining: 837ms\n",
      "607:\tlearn: 0.0264555\ttotal: 1.29s\tremaining: 835ms\n",
      "608:\tlearn: 0.0264403\ttotal: 1.3s\tremaining: 833ms\n",
      "609:\tlearn: 0.0264234\ttotal: 1.3s\tremaining: 830ms\n",
      "610:\tlearn: 0.0264234\ttotal: 1.3s\tremaining: 828ms\n",
      "611:\tlearn: 0.0264233\ttotal: 1.3s\tremaining: 826ms\n",
      "612:\tlearn: 0.0264233\ttotal: 1.3s\tremaining: 824ms\n",
      "613:\tlearn: 0.0264210\ttotal: 1.31s\tremaining: 822ms\n",
      "614:\tlearn: 0.0264003\ttotal: 1.31s\tremaining: 819ms\n",
      "615:\tlearn: 0.0264003\ttotal: 1.31s\tremaining: 817ms\n",
      "616:\tlearn: 0.0263794\ttotal: 1.31s\tremaining: 815ms\n",
      "617:\tlearn: 0.0263627\ttotal: 1.31s\tremaining: 813ms\n",
      "618:\tlearn: 0.0263594\ttotal: 1.32s\tremaining: 810ms\n",
      "619:\tlearn: 0.0263505\ttotal: 1.32s\tremaining: 808ms\n",
      "620:\tlearn: 0.0263275\ttotal: 1.32s\tremaining: 806ms\n",
      "621:\tlearn: 0.0263104\ttotal: 1.32s\tremaining: 804ms\n",
      "622:\tlearn: 0.0262977\ttotal: 1.32s\tremaining: 802ms\n",
      "623:\tlearn: 0.0262934\ttotal: 1.33s\tremaining: 800ms\n",
      "624:\tlearn: 0.0262811\ttotal: 1.33s\tremaining: 797ms\n",
      "625:\tlearn: 0.0262811\ttotal: 1.33s\tremaining: 795ms\n",
      "626:\tlearn: 0.0262506\ttotal: 1.33s\tremaining: 793ms\n",
      "627:\tlearn: 0.0262506\ttotal: 1.33s\tremaining: 791ms\n",
      "628:\tlearn: 0.0262506\ttotal: 1.34s\tremaining: 789ms\n",
      "629:\tlearn: 0.0262405\ttotal: 1.34s\tremaining: 786ms\n",
      "630:\tlearn: 0.0262211\ttotal: 1.34s\tremaining: 784ms\n",
      "631:\tlearn: 0.0262032\ttotal: 1.34s\tremaining: 782ms\n",
      "632:\tlearn: 0.0262032\ttotal: 1.34s\tremaining: 780ms\n",
      "633:\tlearn: 0.0261838\ttotal: 1.35s\tremaining: 778ms\n",
      "634:\tlearn: 0.0261838\ttotal: 1.35s\tremaining: 775ms\n",
      "635:\tlearn: 0.0261447\ttotal: 1.35s\tremaining: 774ms\n",
      "636:\tlearn: 0.0261279\ttotal: 1.35s\tremaining: 771ms\n",
      "637:\tlearn: 0.0260659\ttotal: 1.35s\tremaining: 769ms\n",
      "638:\tlearn: 0.0260311\ttotal: 1.36s\tremaining: 767ms\n",
      "639:\tlearn: 0.0259942\ttotal: 1.36s\tremaining: 765ms\n",
      "640:\tlearn: 0.0259507\ttotal: 1.36s\tremaining: 763ms\n",
      "641:\tlearn: 0.0259503\ttotal: 1.36s\tremaining: 761ms\n",
      "642:\tlearn: 0.0259394\ttotal: 1.37s\tremaining: 759ms\n",
      "643:\tlearn: 0.0259394\ttotal: 1.37s\tremaining: 756ms\n",
      "644:\tlearn: 0.0259230\ttotal: 1.37s\tremaining: 754ms\n",
      "645:\tlearn: 0.0259226\ttotal: 1.37s\tremaining: 752ms\n",
      "646:\tlearn: 0.0259086\ttotal: 1.37s\tremaining: 750ms\n",
      "647:\tlearn: 0.0258893\ttotal: 1.38s\tremaining: 748ms\n",
      "648:\tlearn: 0.0258745\ttotal: 1.38s\tremaining: 745ms\n",
      "649:\tlearn: 0.0258624\ttotal: 1.38s\tremaining: 743ms\n",
      "650:\tlearn: 0.0258277\ttotal: 1.38s\tremaining: 741ms\n",
      "651:\tlearn: 0.0257918\ttotal: 1.38s\tremaining: 739ms\n",
      "652:\tlearn: 0.0257918\ttotal: 1.39s\tremaining: 736ms\n",
      "653:\tlearn: 0.0257535\ttotal: 1.39s\tremaining: 734ms\n",
      "654:\tlearn: 0.0257100\ttotal: 1.39s\tremaining: 732ms\n",
      "655:\tlearn: 0.0257100\ttotal: 1.39s\tremaining: 730ms\n",
      "656:\tlearn: 0.0257020\ttotal: 1.39s\tremaining: 728ms\n",
      "657:\tlearn: 0.0256859\ttotal: 1.4s\tremaining: 725ms\n",
      "658:\tlearn: 0.0256858\ttotal: 1.4s\tremaining: 723ms\n",
      "659:\tlearn: 0.0256554\ttotal: 1.4s\tremaining: 721ms\n",
      "660:\tlearn: 0.0256554\ttotal: 1.4s\tremaining: 719ms\n",
      "661:\tlearn: 0.0256554\ttotal: 1.4s\tremaining: 717ms\n",
      "662:\tlearn: 0.0256554\ttotal: 1.41s\tremaining: 714ms\n",
      "663:\tlearn: 0.0256554\ttotal: 1.41s\tremaining: 712ms\n",
      "664:\tlearn: 0.0256554\ttotal: 1.41s\tremaining: 710ms\n",
      "665:\tlearn: 0.0256410\ttotal: 1.41s\tremaining: 707ms\n",
      "666:\tlearn: 0.0256409\ttotal: 1.41s\tremaining: 705ms\n",
      "667:\tlearn: 0.0256409\ttotal: 1.41s\tremaining: 703ms\n",
      "668:\tlearn: 0.0256405\ttotal: 1.42s\tremaining: 701ms\n",
      "669:\tlearn: 0.0256402\ttotal: 1.42s\tremaining: 698ms\n",
      "670:\tlearn: 0.0256341\ttotal: 1.42s\tremaining: 696ms\n",
      "671:\tlearn: 0.0256340\ttotal: 1.42s\tremaining: 694ms\n",
      "672:\tlearn: 0.0256340\ttotal: 1.42s\tremaining: 692ms\n",
      "673:\tlearn: 0.0256340\ttotal: 1.43s\tremaining: 689ms\n",
      "674:\tlearn: 0.0256341\ttotal: 1.43s\tremaining: 687ms\n",
      "675:\tlearn: 0.0256340\ttotal: 1.43s\tremaining: 685ms\n",
      "676:\tlearn: 0.0256212\ttotal: 1.43s\tremaining: 683ms\n",
      "677:\tlearn: 0.0256175\ttotal: 1.43s\tremaining: 680ms\n",
      "678:\tlearn: 0.0256062\ttotal: 1.43s\tremaining: 678ms\n",
      "679:\tlearn: 0.0255903\ttotal: 1.44s\tremaining: 676ms\n",
      "680:\tlearn: 0.0255902\ttotal: 1.44s\tremaining: 674ms\n",
      "681:\tlearn: 0.0255652\ttotal: 1.44s\tremaining: 672ms\n",
      "682:\tlearn: 0.0255530\ttotal: 1.44s\tremaining: 670ms\n",
      "683:\tlearn: 0.0255364\ttotal: 1.44s\tremaining: 668ms\n",
      "684:\tlearn: 0.0255109\ttotal: 1.45s\tremaining: 665ms\n",
      "685:\tlearn: 0.0255052\ttotal: 1.45s\tremaining: 663ms\n",
      "686:\tlearn: 0.0254908\ttotal: 1.45s\tremaining: 661ms\n",
      "687:\tlearn: 0.0254868\ttotal: 1.45s\tremaining: 659ms\n",
      "688:\tlearn: 0.0254851\ttotal: 1.45s\tremaining: 657ms\n",
      "689:\tlearn: 0.0254850\ttotal: 1.46s\tremaining: 654ms\n",
      "690:\tlearn: 0.0254850\ttotal: 1.46s\tremaining: 652ms\n",
      "691:\tlearn: 0.0254850\ttotal: 1.46s\tremaining: 650ms\n",
      "692:\tlearn: 0.0254850\ttotal: 1.46s\tremaining: 648ms\n",
      "693:\tlearn: 0.0254849\ttotal: 1.46s\tremaining: 645ms\n",
      "694:\tlearn: 0.0254782\ttotal: 1.47s\tremaining: 643ms\n",
      "695:\tlearn: 0.0254732\ttotal: 1.47s\tremaining: 641ms\n",
      "696:\tlearn: 0.0254529\ttotal: 1.47s\tremaining: 639ms\n",
      "697:\tlearn: 0.0254256\ttotal: 1.47s\tremaining: 637ms\n",
      "698:\tlearn: 0.0253999\ttotal: 1.47s\tremaining: 635ms\n",
      "699:\tlearn: 0.0253999\ttotal: 1.48s\tremaining: 633ms\n",
      "700:\tlearn: 0.0253998\ttotal: 1.48s\tremaining: 630ms\n",
      "701:\tlearn: 0.0253997\ttotal: 1.48s\tremaining: 628ms\n",
      "702:\tlearn: 0.0253997\ttotal: 1.48s\tremaining: 626ms\n",
      "703:\tlearn: 0.0253733\ttotal: 1.48s\tremaining: 624ms\n",
      "704:\tlearn: 0.0253579\ttotal: 1.49s\tremaining: 622ms\n",
      "705:\tlearn: 0.0253419\ttotal: 1.49s\tremaining: 619ms\n",
      "706:\tlearn: 0.0253418\ttotal: 1.49s\tremaining: 617ms\n",
      "707:\tlearn: 0.0253418\ttotal: 1.49s\tremaining: 615ms\n",
      "708:\tlearn: 0.0253418\ttotal: 1.49s\tremaining: 613ms\n",
      "709:\tlearn: 0.0253417\ttotal: 1.49s\tremaining: 611ms\n",
      "710:\tlearn: 0.0253415\ttotal: 1.5s\tremaining: 608ms\n",
      "711:\tlearn: 0.0253415\ttotal: 1.5s\tremaining: 606ms\n",
      "712:\tlearn: 0.0253414\ttotal: 1.5s\tremaining: 604ms\n",
      "713:\tlearn: 0.0253414\ttotal: 1.5s\tremaining: 602ms\n",
      "714:\tlearn: 0.0253414\ttotal: 1.5s\tremaining: 600ms\n",
      "715:\tlearn: 0.0253414\ttotal: 1.51s\tremaining: 597ms\n",
      "716:\tlearn: 0.0253414\ttotal: 1.51s\tremaining: 595ms\n",
      "717:\tlearn: 0.0253413\ttotal: 1.51s\tremaining: 593ms\n",
      "718:\tlearn: 0.0253413\ttotal: 1.51s\tremaining: 591ms\n",
      "719:\tlearn: 0.0253413\ttotal: 1.51s\tremaining: 589ms\n",
      "720:\tlearn: 0.0253413\ttotal: 1.51s\tremaining: 587ms\n",
      "721:\tlearn: 0.0253299\ttotal: 1.52s\tremaining: 584ms\n",
      "722:\tlearn: 0.0253299\ttotal: 1.52s\tremaining: 582ms\n",
      "723:\tlearn: 0.0253213\ttotal: 1.52s\tremaining: 580ms\n",
      "724:\tlearn: 0.0253213\ttotal: 1.52s\tremaining: 578ms\n",
      "725:\tlearn: 0.0253213\ttotal: 1.52s\tremaining: 576ms\n",
      "726:\tlearn: 0.0253210\ttotal: 1.53s\tremaining: 574ms\n",
      "727:\tlearn: 0.0253209\ttotal: 1.53s\tremaining: 571ms\n",
      "728:\tlearn: 0.0253208\ttotal: 1.53s\tremaining: 569ms\n",
      "729:\tlearn: 0.0253076\ttotal: 1.53s\tremaining: 567ms\n",
      "730:\tlearn: 0.0253037\ttotal: 1.53s\tremaining: 565ms\n",
      "731:\tlearn: 0.0252795\ttotal: 1.54s\tremaining: 563ms\n",
      "732:\tlearn: 0.0252616\ttotal: 1.54s\tremaining: 561ms\n",
      "733:\tlearn: 0.0252356\ttotal: 1.54s\tremaining: 559ms\n",
      "734:\tlearn: 0.0252356\ttotal: 1.54s\tremaining: 556ms\n",
      "735:\tlearn: 0.0252186\ttotal: 1.54s\tremaining: 554ms\n",
      "736:\tlearn: 0.0252078\ttotal: 1.55s\tremaining: 552ms\n",
      "737:\tlearn: 0.0252077\ttotal: 1.55s\tremaining: 550ms\n",
      "738:\tlearn: 0.0252077\ttotal: 1.55s\tremaining: 548ms\n",
      "739:\tlearn: 0.0252074\ttotal: 1.55s\tremaining: 546ms\n",
      "740:\tlearn: 0.0252074\ttotal: 1.55s\tremaining: 544ms\n",
      "741:\tlearn: 0.0252074\ttotal: 1.56s\tremaining: 541ms\n",
      "742:\tlearn: 0.0252074\ttotal: 1.56s\tremaining: 539ms\n",
      "743:\tlearn: 0.0252074\ttotal: 1.56s\tremaining: 537ms\n",
      "744:\tlearn: 0.0252074\ttotal: 1.56s\tremaining: 535ms\n",
      "745:\tlearn: 0.0252074\ttotal: 1.56s\tremaining: 533ms\n",
      "746:\tlearn: 0.0252073\ttotal: 1.57s\tremaining: 531ms\n",
      "747:\tlearn: 0.0251936\ttotal: 1.57s\tremaining: 529ms\n",
      "748:\tlearn: 0.0251508\ttotal: 1.57s\tremaining: 526ms\n",
      "749:\tlearn: 0.0251037\ttotal: 1.57s\tremaining: 524ms\n",
      "750:\tlearn: 0.0250881\ttotal: 1.57s\tremaining: 522ms\n",
      "751:\tlearn: 0.0250509\ttotal: 1.58s\tremaining: 520ms\n",
      "752:\tlearn: 0.0250298\ttotal: 1.58s\tremaining: 518ms\n",
      "753:\tlearn: 0.0249813\ttotal: 1.58s\tremaining: 516ms\n",
      "754:\tlearn: 0.0249692\ttotal: 1.58s\tremaining: 514ms\n",
      "755:\tlearn: 0.0249570\ttotal: 1.59s\tremaining: 512ms\n",
      "756:\tlearn: 0.0249567\ttotal: 1.59s\tremaining: 510ms\n",
      "757:\tlearn: 0.0249567\ttotal: 1.59s\tremaining: 508ms\n",
      "758:\tlearn: 0.0249566\ttotal: 1.59s\tremaining: 505ms\n",
      "759:\tlearn: 0.0249566\ttotal: 1.59s\tremaining: 503ms\n",
      "760:\tlearn: 0.0249566\ttotal: 1.59s\tremaining: 501ms\n",
      "761:\tlearn: 0.0249565\ttotal: 1.6s\tremaining: 499ms\n",
      "762:\tlearn: 0.0249565\ttotal: 1.6s\tremaining: 497ms\n",
      "763:\tlearn: 0.0249565\ttotal: 1.6s\tremaining: 495ms\n",
      "764:\tlearn: 0.0249564\ttotal: 1.6s\tremaining: 492ms\n",
      "765:\tlearn: 0.0249564\ttotal: 1.6s\tremaining: 490ms\n",
      "766:\tlearn: 0.0249564\ttotal: 1.61s\tremaining: 488ms\n",
      "767:\tlearn: 0.0249562\ttotal: 1.61s\tremaining: 486ms\n",
      "768:\tlearn: 0.0249562\ttotal: 1.61s\tremaining: 484ms\n",
      "769:\tlearn: 0.0249562\ttotal: 1.61s\tremaining: 482ms\n",
      "770:\tlearn: 0.0249561\ttotal: 1.61s\tremaining: 480ms\n",
      "771:\tlearn: 0.0249375\ttotal: 1.62s\tremaining: 477ms\n",
      "772:\tlearn: 0.0249374\ttotal: 1.62s\tremaining: 475ms\n",
      "773:\tlearn: 0.0249374\ttotal: 1.62s\tremaining: 473ms\n",
      "774:\tlearn: 0.0249343\ttotal: 1.62s\tremaining: 471ms\n",
      "775:\tlearn: 0.0249343\ttotal: 1.62s\tremaining: 469ms\n",
      "776:\tlearn: 0.0249343\ttotal: 1.63s\tremaining: 467ms\n",
      "777:\tlearn: 0.0249343\ttotal: 1.63s\tremaining: 464ms\n",
      "778:\tlearn: 0.0249341\ttotal: 1.63s\tremaining: 462ms\n",
      "779:\tlearn: 0.0249233\ttotal: 1.63s\tremaining: 460ms\n",
      "780:\tlearn: 0.0249233\ttotal: 1.63s\tremaining: 458ms\n",
      "781:\tlearn: 0.0249232\ttotal: 1.64s\tremaining: 456ms\n",
      "782:\tlearn: 0.0249232\ttotal: 1.64s\tremaining: 454ms\n",
      "783:\tlearn: 0.0249231\ttotal: 1.64s\tremaining: 452ms\n",
      "784:\tlearn: 0.0249231\ttotal: 1.64s\tremaining: 449ms\n",
      "785:\tlearn: 0.0249232\ttotal: 1.64s\tremaining: 447ms\n",
      "786:\tlearn: 0.0249231\ttotal: 1.64s\tremaining: 445ms\n",
      "787:\tlearn: 0.0249231\ttotal: 1.65s\tremaining: 443ms\n",
      "788:\tlearn: 0.0249230\ttotal: 1.65s\tremaining: 441ms\n",
      "789:\tlearn: 0.0249230\ttotal: 1.65s\tremaining: 439ms\n",
      "790:\tlearn: 0.0249230\ttotal: 1.65s\tremaining: 436ms\n",
      "791:\tlearn: 0.0249230\ttotal: 1.65s\tremaining: 434ms\n",
      "792:\tlearn: 0.0249107\ttotal: 1.66s\tremaining: 432ms\n",
      "793:\tlearn: 0.0249107\ttotal: 1.66s\tremaining: 430ms\n",
      "794:\tlearn: 0.0249106\ttotal: 1.66s\tremaining: 428ms\n",
      "795:\tlearn: 0.0249105\ttotal: 1.66s\tremaining: 426ms\n",
      "796:\tlearn: 0.0249105\ttotal: 1.66s\tremaining: 424ms\n",
      "797:\tlearn: 0.0249106\ttotal: 1.67s\tremaining: 421ms\n",
      "798:\tlearn: 0.0249105\ttotal: 1.67s\tremaining: 419ms\n",
      "799:\tlearn: 0.0249105\ttotal: 1.67s\tremaining: 417ms\n",
      "800:\tlearn: 0.0249105\ttotal: 1.67s\tremaining: 415ms\n",
      "801:\tlearn: 0.0249105\ttotal: 1.67s\tremaining: 413ms\n",
      "802:\tlearn: 0.0249105\ttotal: 1.67s\tremaining: 411ms\n",
      "803:\tlearn: 0.0249105\ttotal: 1.68s\tremaining: 408ms\n",
      "804:\tlearn: 0.0249079\ttotal: 1.68s\tremaining: 406ms\n",
      "805:\tlearn: 0.0249079\ttotal: 1.68s\tremaining: 404ms\n",
      "806:\tlearn: 0.0248925\ttotal: 1.68s\tremaining: 402ms\n",
      "807:\tlearn: 0.0248925\ttotal: 1.68s\tremaining: 400ms\n",
      "808:\tlearn: 0.0248925\ttotal: 1.68s\tremaining: 398ms\n",
      "809:\tlearn: 0.0248925\ttotal: 1.69s\tremaining: 396ms\n",
      "810:\tlearn: 0.0248812\ttotal: 1.69s\tremaining: 394ms\n",
      "811:\tlearn: 0.0248663\ttotal: 1.69s\tremaining: 392ms\n",
      "812:\tlearn: 0.0248662\ttotal: 1.69s\tremaining: 389ms\n",
      "813:\tlearn: 0.0248660\ttotal: 1.69s\tremaining: 387ms\n",
      "814:\tlearn: 0.0248660\ttotal: 1.7s\tremaining: 385ms\n",
      "815:\tlearn: 0.0248660\ttotal: 1.7s\tremaining: 383ms\n",
      "816:\tlearn: 0.0248659\ttotal: 1.7s\tremaining: 381ms\n",
      "817:\tlearn: 0.0248660\ttotal: 1.7s\tremaining: 379ms\n",
      "818:\tlearn: 0.0248659\ttotal: 1.7s\tremaining: 377ms\n",
      "819:\tlearn: 0.0248659\ttotal: 1.71s\tremaining: 375ms\n",
      "820:\tlearn: 0.0248625\ttotal: 1.71s\tremaining: 372ms\n",
      "821:\tlearn: 0.0248625\ttotal: 1.71s\tremaining: 370ms\n",
      "822:\tlearn: 0.0248625\ttotal: 1.71s\tremaining: 368ms\n",
      "823:\tlearn: 0.0248625\ttotal: 1.71s\tremaining: 366ms\n",
      "824:\tlearn: 0.0248624\ttotal: 1.72s\tremaining: 364ms\n",
      "825:\tlearn: 0.0248624\ttotal: 1.72s\tremaining: 362ms\n",
      "826:\tlearn: 0.0248624\ttotal: 1.72s\tremaining: 360ms\n",
      "827:\tlearn: 0.0248540\ttotal: 1.72s\tremaining: 358ms\n",
      "828:\tlearn: 0.0248539\ttotal: 1.72s\tremaining: 356ms\n",
      "829:\tlearn: 0.0248539\ttotal: 1.73s\tremaining: 353ms\n",
      "830:\tlearn: 0.0248539\ttotal: 1.73s\tremaining: 351ms\n",
      "831:\tlearn: 0.0248539\ttotal: 1.73s\tremaining: 349ms\n",
      "832:\tlearn: 0.0248539\ttotal: 1.73s\tremaining: 347ms\n",
      "833:\tlearn: 0.0248539\ttotal: 1.73s\tremaining: 345ms\n",
      "834:\tlearn: 0.0248538\ttotal: 1.73s\tremaining: 343ms\n",
      "835:\tlearn: 0.0248538\ttotal: 1.74s\tremaining: 341ms\n",
      "836:\tlearn: 0.0248538\ttotal: 1.74s\tremaining: 339ms\n",
      "837:\tlearn: 0.0248538\ttotal: 1.74s\tremaining: 336ms\n",
      "838:\tlearn: 0.0248537\ttotal: 1.74s\tremaining: 334ms\n",
      "839:\tlearn: 0.0248537\ttotal: 1.74s\tremaining: 332ms\n",
      "840:\tlearn: 0.0248538\ttotal: 1.75s\tremaining: 330ms\n",
      "841:\tlearn: 0.0248537\ttotal: 1.75s\tremaining: 328ms\n",
      "842:\tlearn: 0.0248537\ttotal: 1.75s\tremaining: 326ms\n",
      "843:\tlearn: 0.0248536\ttotal: 1.75s\tremaining: 324ms\n",
      "844:\tlearn: 0.0248536\ttotal: 1.75s\tremaining: 322ms\n",
      "845:\tlearn: 0.0248536\ttotal: 1.75s\tremaining: 319ms\n",
      "846:\tlearn: 0.0248536\ttotal: 1.76s\tremaining: 317ms\n",
      "847:\tlearn: 0.0248536\ttotal: 1.76s\tremaining: 315ms\n",
      "848:\tlearn: 0.0248535\ttotal: 1.76s\tremaining: 313ms\n",
      "849:\tlearn: 0.0248535\ttotal: 1.76s\tremaining: 311ms\n",
      "850:\tlearn: 0.0248534\ttotal: 1.76s\tremaining: 309ms\n",
      "851:\tlearn: 0.0248534\ttotal: 1.76s\tremaining: 307ms\n",
      "852:\tlearn: 0.0248533\ttotal: 1.77s\tremaining: 305ms\n",
      "853:\tlearn: 0.0248534\ttotal: 1.77s\tremaining: 302ms\n",
      "854:\tlearn: 0.0248533\ttotal: 1.77s\tremaining: 300ms\n",
      "855:\tlearn: 0.0248532\ttotal: 1.77s\tremaining: 298ms\n",
      "856:\tlearn: 0.0248533\ttotal: 1.77s\tremaining: 296ms\n",
      "857:\tlearn: 0.0248532\ttotal: 1.78s\tremaining: 294ms\n",
      "858:\tlearn: 0.0248532\ttotal: 1.78s\tremaining: 292ms\n",
      "859:\tlearn: 0.0248532\ttotal: 1.78s\tremaining: 290ms\n",
      "860:\tlearn: 0.0248532\ttotal: 1.78s\tremaining: 288ms\n",
      "861:\tlearn: 0.0248332\ttotal: 1.78s\tremaining: 286ms\n",
      "862:\tlearn: 0.0248332\ttotal: 1.78s\tremaining: 283ms\n",
      "863:\tlearn: 0.0248203\ttotal: 1.79s\tremaining: 281ms\n",
      "864:\tlearn: 0.0248183\ttotal: 1.79s\tremaining: 279ms\n",
      "865:\tlearn: 0.0247978\ttotal: 1.79s\tremaining: 277ms\n",
      "866:\tlearn: 0.0247848\ttotal: 1.79s\tremaining: 275ms\n",
      "867:\tlearn: 0.0247847\ttotal: 1.79s\tremaining: 273ms\n",
      "868:\tlearn: 0.0247848\ttotal: 1.8s\tremaining: 271ms\n",
      "869:\tlearn: 0.0247847\ttotal: 1.8s\tremaining: 269ms\n",
      "870:\tlearn: 0.0247847\ttotal: 1.8s\tremaining: 267ms\n",
      "871:\tlearn: 0.0247846\ttotal: 1.8s\tremaining: 265ms\n",
      "872:\tlearn: 0.0247847\ttotal: 1.8s\tremaining: 263ms\n",
      "873:\tlearn: 0.0247846\ttotal: 1.81s\tremaining: 260ms\n",
      "874:\tlearn: 0.0247847\ttotal: 1.81s\tremaining: 258ms\n",
      "875:\tlearn: 0.0247846\ttotal: 1.81s\tremaining: 256ms\n",
      "876:\tlearn: 0.0247846\ttotal: 1.81s\tremaining: 254ms\n",
      "877:\tlearn: 0.0247846\ttotal: 1.81s\tremaining: 252ms\n",
      "878:\tlearn: 0.0247845\ttotal: 1.81s\tremaining: 250ms\n",
      "879:\tlearn: 0.0247845\ttotal: 1.82s\tremaining: 248ms\n",
      "880:\tlearn: 0.0247845\ttotal: 1.82s\tremaining: 246ms\n",
      "881:\tlearn: 0.0247843\ttotal: 1.82s\tremaining: 244ms\n",
      "882:\tlearn: 0.0247843\ttotal: 1.82s\tremaining: 242ms\n",
      "883:\tlearn: 0.0247842\ttotal: 1.82s\tremaining: 239ms\n",
      "884:\tlearn: 0.0247843\ttotal: 1.83s\tremaining: 237ms\n",
      "885:\tlearn: 0.0247843\ttotal: 1.83s\tremaining: 235ms\n",
      "886:\tlearn: 0.0247843\ttotal: 1.83s\tremaining: 233ms\n",
      "887:\tlearn: 0.0247843\ttotal: 1.83s\tremaining: 231ms\n",
      "888:\tlearn: 0.0247840\ttotal: 1.83s\tremaining: 229ms\n",
      "889:\tlearn: 0.0247840\ttotal: 1.84s\tremaining: 227ms\n",
      "890:\tlearn: 0.0247840\ttotal: 1.84s\tremaining: 225ms\n",
      "891:\tlearn: 0.0247839\ttotal: 1.84s\tremaining: 223ms\n",
      "892:\tlearn: 0.0247840\ttotal: 1.84s\tremaining: 221ms\n",
      "893:\tlearn: 0.0247839\ttotal: 1.84s\tremaining: 219ms\n",
      "894:\tlearn: 0.0247839\ttotal: 1.84s\tremaining: 216ms\n",
      "895:\tlearn: 0.0247840\ttotal: 1.85s\tremaining: 214ms\n",
      "896:\tlearn: 0.0247838\ttotal: 1.85s\tremaining: 212ms\n",
      "897:\tlearn: 0.0247780\ttotal: 1.85s\tremaining: 210ms\n",
      "898:\tlearn: 0.0247603\ttotal: 1.85s\tremaining: 208ms\n",
      "899:\tlearn: 0.0247603\ttotal: 1.85s\tremaining: 206ms\n",
      "900:\tlearn: 0.0247310\ttotal: 1.86s\tremaining: 204ms\n",
      "901:\tlearn: 0.0247310\ttotal: 1.86s\tremaining: 202ms\n",
      "902:\tlearn: 0.0247310\ttotal: 1.86s\tremaining: 200ms\n",
      "903:\tlearn: 0.0247310\ttotal: 1.86s\tremaining: 198ms\n",
      "904:\tlearn: 0.0247310\ttotal: 1.86s\tremaining: 196ms\n",
      "905:\tlearn: 0.0247309\ttotal: 1.87s\tremaining: 194ms\n",
      "906:\tlearn: 0.0247309\ttotal: 1.87s\tremaining: 192ms\n",
      "907:\tlearn: 0.0247307\ttotal: 1.87s\tremaining: 190ms\n",
      "908:\tlearn: 0.0247305\ttotal: 1.87s\tremaining: 187ms\n",
      "909:\tlearn: 0.0247305\ttotal: 1.87s\tremaining: 185ms\n",
      "910:\tlearn: 0.0247305\ttotal: 1.88s\tremaining: 183ms\n",
      "911:\tlearn: 0.0247305\ttotal: 1.88s\tremaining: 181ms\n",
      "912:\tlearn: 0.0247305\ttotal: 1.88s\tremaining: 179ms\n",
      "913:\tlearn: 0.0247305\ttotal: 1.88s\tremaining: 177ms\n",
      "914:\tlearn: 0.0247117\ttotal: 1.88s\tremaining: 175ms\n",
      "915:\tlearn: 0.0247116\ttotal: 1.89s\tremaining: 173ms\n",
      "916:\tlearn: 0.0247117\ttotal: 1.89s\tremaining: 171ms\n",
      "917:\tlearn: 0.0247114\ttotal: 1.89s\tremaining: 169ms\n",
      "918:\tlearn: 0.0247113\ttotal: 1.89s\tremaining: 167ms\n",
      "919:\tlearn: 0.0247113\ttotal: 1.89s\tremaining: 165ms\n",
      "920:\tlearn: 0.0247113\ttotal: 1.9s\tremaining: 163ms\n",
      "921:\tlearn: 0.0247113\ttotal: 1.9s\tremaining: 161ms\n",
      "922:\tlearn: 0.0247113\ttotal: 1.9s\tremaining: 158ms\n",
      "923:\tlearn: 0.0247110\ttotal: 1.9s\tremaining: 156ms\n",
      "924:\tlearn: 0.0247109\ttotal: 1.9s\tremaining: 154ms\n",
      "925:\tlearn: 0.0247109\ttotal: 1.91s\tremaining: 152ms\n",
      "926:\tlearn: 0.0247109\ttotal: 1.91s\tremaining: 150ms\n",
      "927:\tlearn: 0.0247108\ttotal: 1.91s\tremaining: 148ms\n",
      "928:\tlearn: 0.0247107\ttotal: 1.91s\tremaining: 146ms\n",
      "929:\tlearn: 0.0247107\ttotal: 1.91s\tremaining: 144ms\n",
      "930:\tlearn: 0.0247106\ttotal: 1.92s\tremaining: 142ms\n",
      "931:\tlearn: 0.0247105\ttotal: 1.92s\tremaining: 140ms\n",
      "932:\tlearn: 0.0247105\ttotal: 1.92s\tremaining: 138ms\n",
      "933:\tlearn: 0.0247104\ttotal: 1.92s\tremaining: 136ms\n",
      "934:\tlearn: 0.0247104\ttotal: 1.92s\tremaining: 134ms\n",
      "935:\tlearn: 0.0247104\ttotal: 1.92s\tremaining: 132ms\n",
      "936:\tlearn: 0.0247105\ttotal: 1.93s\tremaining: 130ms\n",
      "937:\tlearn: 0.0247102\ttotal: 1.93s\tremaining: 127ms\n",
      "938:\tlearn: 0.0247102\ttotal: 1.93s\tremaining: 125ms\n",
      "939:\tlearn: 0.0247037\ttotal: 1.93s\tremaining: 123ms\n",
      "940:\tlearn: 0.0246897\ttotal: 1.93s\tremaining: 121ms\n",
      "941:\tlearn: 0.0246896\ttotal: 1.94s\tremaining: 119ms\n",
      "942:\tlearn: 0.0246896\ttotal: 1.94s\tremaining: 117ms\n",
      "943:\tlearn: 0.0246896\ttotal: 1.94s\tremaining: 115ms\n",
      "944:\tlearn: 0.0246896\ttotal: 1.94s\tremaining: 113ms\n",
      "945:\tlearn: 0.0246896\ttotal: 1.94s\tremaining: 111ms\n",
      "946:\tlearn: 0.0246896\ttotal: 1.95s\tremaining: 109ms\n",
      "947:\tlearn: 0.0246896\ttotal: 1.95s\tremaining: 107ms\n",
      "948:\tlearn: 0.0246896\ttotal: 1.95s\tremaining: 105ms\n",
      "949:\tlearn: 0.0246896\ttotal: 1.95s\tremaining: 103ms\n",
      "950:\tlearn: 0.0246896\ttotal: 1.95s\tremaining: 101ms\n",
      "951:\tlearn: 0.0246895\ttotal: 1.96s\tremaining: 98.6ms\n",
      "952:\tlearn: 0.0246895\ttotal: 1.96s\tremaining: 96.5ms\n",
      "953:\tlearn: 0.0246894\ttotal: 1.96s\tremaining: 94.5ms\n",
      "954:\tlearn: 0.0246894\ttotal: 1.96s\tremaining: 92.4ms\n",
      "955:\tlearn: 0.0246894\ttotal: 1.96s\tremaining: 90.3ms\n",
      "956:\tlearn: 0.0246893\ttotal: 1.96s\tremaining: 88.3ms\n",
      "957:\tlearn: 0.0246893\ttotal: 1.97s\tremaining: 86.2ms\n",
      "958:\tlearn: 0.0246893\ttotal: 1.97s\tremaining: 84.1ms\n",
      "959:\tlearn: 0.0246893\ttotal: 1.97s\tremaining: 82.1ms\n",
      "960:\tlearn: 0.0246892\ttotal: 1.97s\tremaining: 80ms\n",
      "961:\tlearn: 0.0246892\ttotal: 1.97s\tremaining: 78ms\n",
      "962:\tlearn: 0.0246892\ttotal: 1.98s\tremaining: 75.9ms\n",
      "963:\tlearn: 0.0246891\ttotal: 1.98s\tremaining: 73.8ms\n",
      "964:\tlearn: 0.0246891\ttotal: 1.98s\tremaining: 71.8ms\n",
      "965:\tlearn: 0.0246891\ttotal: 1.98s\tremaining: 69.7ms\n",
      "966:\tlearn: 0.0246891\ttotal: 1.98s\tremaining: 67.7ms\n",
      "967:\tlearn: 0.0246890\ttotal: 1.99s\tremaining: 65.7ms\n",
      "968:\tlearn: 0.0246890\ttotal: 1.99s\tremaining: 63.6ms\n",
      "969:\tlearn: 0.0246891\ttotal: 1.99s\tremaining: 61.5ms\n",
      "970:\tlearn: 0.0246890\ttotal: 1.99s\tremaining: 59.5ms\n",
      "971:\tlearn: 0.0246890\ttotal: 1.99s\tremaining: 57.4ms\n",
      "972:\tlearn: 0.0246632\ttotal: 2s\tremaining: 55.4ms\n",
      "973:\tlearn: 0.0246367\ttotal: 2s\tremaining: 53.3ms\n",
      "974:\tlearn: 0.0246246\ttotal: 2s\tremaining: 51.3ms\n",
      "975:\tlearn: 0.0246131\ttotal: 2s\tremaining: 49.2ms\n",
      "976:\tlearn: 0.0246131\ttotal: 2s\tremaining: 47.2ms\n",
      "977:\tlearn: 0.0246130\ttotal: 2.01s\tremaining: 45.1ms\n",
      "978:\tlearn: 0.0246129\ttotal: 2.01s\tremaining: 43.1ms\n",
      "979:\tlearn: 0.0246129\ttotal: 2.01s\tremaining: 41ms\n",
      "980:\tlearn: 0.0246128\ttotal: 2.01s\tremaining: 39ms\n",
      "981:\tlearn: 0.0246128\ttotal: 2.01s\tremaining: 36.9ms\n",
      "982:\tlearn: 0.0246128\ttotal: 2.02s\tremaining: 34.9ms\n",
      "983:\tlearn: 0.0246128\ttotal: 2.02s\tremaining: 32.8ms\n",
      "984:\tlearn: 0.0246128\ttotal: 2.02s\tremaining: 30.7ms\n",
      "985:\tlearn: 0.0246126\ttotal: 2.02s\tremaining: 28.7ms\n",
      "986:\tlearn: 0.0246126\ttotal: 2.02s\tremaining: 26.6ms\n",
      "987:\tlearn: 0.0246126\ttotal: 2.02s\tremaining: 24.6ms\n",
      "988:\tlearn: 0.0246126\ttotal: 2.03s\tremaining: 22.5ms\n",
      "989:\tlearn: 0.0246125\ttotal: 2.03s\tremaining: 20.5ms\n",
      "990:\tlearn: 0.0246125\ttotal: 2.03s\tremaining: 18.4ms\n",
      "991:\tlearn: 0.0246125\ttotal: 2.03s\tremaining: 16.4ms\n",
      "992:\tlearn: 0.0246125\ttotal: 2.03s\tremaining: 14.3ms\n",
      "993:\tlearn: 0.0246124\ttotal: 2.04s\tremaining: 12.3ms\n",
      "994:\tlearn: 0.0245995\ttotal: 2.04s\tremaining: 10.2ms\n",
      "995:\tlearn: 0.0245994\ttotal: 2.04s\tremaining: 8.19ms\n",
      "996:\tlearn: 0.0245995\ttotal: 2.04s\tremaining: 6.14ms\n",
      "997:\tlearn: 0.0245995\ttotal: 2.04s\tremaining: 4.09ms\n",
      "998:\tlearn: 0.0245994\ttotal: 2.04s\tremaining: 2.05ms\n",
      "999:\tlearn: 0.0245994\ttotal: 2.05s\tremaining: 0us\n",
      "0:\tlearn: 0.4501713\ttotal: 2.36ms\tremaining: 2.35s\n",
      "1:\tlearn: 0.3054036\ttotal: 4.44ms\tremaining: 2.22s\n",
      "2:\tlearn: 0.2484932\ttotal: 6.53ms\tremaining: 2.17s\n",
      "3:\tlearn: 0.2126684\ttotal: 9.11ms\tremaining: 2.27s\n",
      "4:\tlearn: 0.1893122\ttotal: 11.7ms\tremaining: 2.32s\n",
      "5:\tlearn: 0.1742628\ttotal: 14ms\tremaining: 2.33s\n",
      "6:\tlearn: 0.1673335\ttotal: 16.3ms\tremaining: 2.31s\n",
      "7:\tlearn: 0.1613100\ttotal: 18.3ms\tremaining: 2.27s\n",
      "8:\tlearn: 0.1535137\ttotal: 20.3ms\tremaining: 2.24s\n",
      "9:\tlearn: 0.1488816\ttotal: 22.6ms\tremaining: 2.23s\n",
      "10:\tlearn: 0.1421206\ttotal: 25.1ms\tremaining: 2.25s\n",
      "11:\tlearn: 0.1389417\ttotal: 27.3ms\tremaining: 2.24s\n",
      "12:\tlearn: 0.1347395\ttotal: 29.5ms\tremaining: 2.24s\n",
      "13:\tlearn: 0.1310185\ttotal: 31.6ms\tremaining: 2.22s\n",
      "14:\tlearn: 0.1274538\ttotal: 33.6ms\tremaining: 2.21s\n",
      "15:\tlearn: 0.1240928\ttotal: 36ms\tremaining: 2.21s\n",
      "16:\tlearn: 0.1209822\ttotal: 38.1ms\tremaining: 2.2s\n",
      "17:\tlearn: 0.1190487\ttotal: 40.2ms\tremaining: 2.19s\n",
      "18:\tlearn: 0.1172151\ttotal: 42.4ms\tremaining: 2.19s\n",
      "19:\tlearn: 0.1153427\ttotal: 44.6ms\tremaining: 2.19s\n",
      "20:\tlearn: 0.1133872\ttotal: 46.6ms\tremaining: 2.17s\n",
      "21:\tlearn: 0.1109772\ttotal: 48.9ms\tremaining: 2.17s\n",
      "22:\tlearn: 0.1095649\ttotal: 51ms\tremaining: 2.17s\n",
      "23:\tlearn: 0.1092314\ttotal: 52.6ms\tremaining: 2.14s\n",
      "24:\tlearn: 0.1076376\ttotal: 55ms\tremaining: 2.14s\n",
      "25:\tlearn: 0.1063318\ttotal: 57.3ms\tremaining: 2.15s\n",
      "26:\tlearn: 0.1048767\ttotal: 59.3ms\tremaining: 2.14s\n",
      "27:\tlearn: 0.1035818\ttotal: 62.2ms\tremaining: 2.16s\n",
      "28:\tlearn: 0.1016344\ttotal: 64.1ms\tremaining: 2.15s\n",
      "29:\tlearn: 0.1004652\ttotal: 66.2ms\tremaining: 2.14s\n",
      "30:\tlearn: 0.0985645\ttotal: 68.5ms\tremaining: 2.14s\n",
      "31:\tlearn: 0.0968659\ttotal: 70.6ms\tremaining: 2.14s\n",
      "32:\tlearn: 0.0956595\ttotal: 72.8ms\tremaining: 2.13s\n",
      "33:\tlearn: 0.0944003\ttotal: 75ms\tremaining: 2.13s\n",
      "34:\tlearn: 0.0934442\ttotal: 77ms\tremaining: 2.12s\n",
      "35:\tlearn: 0.0923780\ttotal: 79.2ms\tremaining: 2.12s\n",
      "36:\tlearn: 0.0917582\ttotal: 81.4ms\tremaining: 2.12s\n",
      "37:\tlearn: 0.0904585\ttotal: 83.7ms\tremaining: 2.12s\n",
      "38:\tlearn: 0.0894417\ttotal: 85.7ms\tremaining: 2.11s\n",
      "39:\tlearn: 0.0885546\ttotal: 87.9ms\tremaining: 2.11s\n",
      "40:\tlearn: 0.0868949\ttotal: 90ms\tremaining: 2.11s\n",
      "41:\tlearn: 0.0858490\ttotal: 92ms\tremaining: 2.1s\n",
      "42:\tlearn: 0.0842379\ttotal: 94.4ms\tremaining: 2.1s\n",
      "43:\tlearn: 0.0831241\ttotal: 96.5ms\tremaining: 2.1s\n",
      "44:\tlearn: 0.0817456\ttotal: 98.6ms\tremaining: 2.09s\n",
      "45:\tlearn: 0.0806408\ttotal: 101ms\tremaining: 2.1s\n",
      "46:\tlearn: 0.0794999\ttotal: 103ms\tremaining: 2.09s\n",
      "47:\tlearn: 0.0785629\ttotal: 105ms\tremaining: 2.09s\n",
      "48:\tlearn: 0.0779067\ttotal: 108ms\tremaining: 2.09s\n",
      "49:\tlearn: 0.0773732\ttotal: 110ms\tremaining: 2.08s\n",
      "50:\tlearn: 0.0765227\ttotal: 112ms\tremaining: 2.08s\n",
      "51:\tlearn: 0.0753601\ttotal: 114ms\tremaining: 2.08s\n",
      "52:\tlearn: 0.0747737\ttotal: 116ms\tremaining: 2.08s\n",
      "53:\tlearn: 0.0741456\ttotal: 118ms\tremaining: 2.07s\n",
      "54:\tlearn: 0.0734879\ttotal: 121ms\tremaining: 2.07s\n",
      "55:\tlearn: 0.0729160\ttotal: 123ms\tremaining: 2.07s\n",
      "56:\tlearn: 0.0720231\ttotal: 125ms\tremaining: 2.06s\n",
      "57:\tlearn: 0.0704180\ttotal: 127ms\tremaining: 2.07s\n",
      "58:\tlearn: 0.0699333\ttotal: 130ms\tremaining: 2.07s\n",
      "59:\tlearn: 0.0693761\ttotal: 132ms\tremaining: 2.06s\n",
      "60:\tlearn: 0.0684027\ttotal: 134ms\tremaining: 2.06s\n",
      "61:\tlearn: 0.0678948\ttotal: 136ms\tremaining: 2.05s\n",
      "62:\tlearn: 0.0670647\ttotal: 138ms\tremaining: 2.05s\n",
      "63:\tlearn: 0.0659802\ttotal: 140ms\tremaining: 2.05s\n",
      "64:\tlearn: 0.0653532\ttotal: 143ms\tremaining: 2.05s\n",
      "65:\tlearn: 0.0647401\ttotal: 145ms\tremaining: 2.05s\n",
      "66:\tlearn: 0.0643194\ttotal: 147ms\tremaining: 2.05s\n",
      "67:\tlearn: 0.0638889\ttotal: 149ms\tremaining: 2.04s\n",
      "68:\tlearn: 0.0635673\ttotal: 151ms\tremaining: 2.04s\n",
      "69:\tlearn: 0.0631249\ttotal: 153ms\tremaining: 2.04s\n",
      "70:\tlearn: 0.0626593\ttotal: 155ms\tremaining: 2.03s\n",
      "71:\tlearn: 0.0618420\ttotal: 157ms\tremaining: 2.03s\n",
      "72:\tlearn: 0.0612111\ttotal: 160ms\tremaining: 2.03s\n",
      "73:\tlearn: 0.0607191\ttotal: 162ms\tremaining: 2.02s\n",
      "74:\tlearn: 0.0600570\ttotal: 164ms\tremaining: 2.02s\n",
      "75:\tlearn: 0.0593868\ttotal: 166ms\tremaining: 2.02s\n",
      "76:\tlearn: 0.0588650\ttotal: 168ms\tremaining: 2.02s\n",
      "77:\tlearn: 0.0585855\ttotal: 171ms\tremaining: 2.02s\n",
      "78:\tlearn: 0.0583234\ttotal: 173ms\tremaining: 2.01s\n",
      "79:\tlearn: 0.0580778\ttotal: 175ms\tremaining: 2.01s\n",
      "80:\tlearn: 0.0578272\ttotal: 177ms\tremaining: 2.01s\n",
      "81:\tlearn: 0.0575435\ttotal: 180ms\tremaining: 2.01s\n",
      "82:\tlearn: 0.0571008\ttotal: 182ms\tremaining: 2s\n",
      "83:\tlearn: 0.0566234\ttotal: 183ms\tremaining: 2s\n",
      "84:\tlearn: 0.0561842\ttotal: 186ms\tremaining: 2s\n",
      "85:\tlearn: 0.0559040\ttotal: 188ms\tremaining: 2s\n",
      "86:\tlearn: 0.0556009\ttotal: 190ms\tremaining: 1.99s\n",
      "87:\tlearn: 0.0549666\ttotal: 193ms\tremaining: 2s\n",
      "88:\tlearn: 0.0547322\ttotal: 195ms\tremaining: 1.99s\n",
      "89:\tlearn: 0.0542691\ttotal: 197ms\tremaining: 1.99s\n",
      "90:\tlearn: 0.0539415\ttotal: 199ms\tremaining: 1.99s\n",
      "91:\tlearn: 0.0537256\ttotal: 201ms\tremaining: 1.98s\n",
      "92:\tlearn: 0.0532920\ttotal: 204ms\tremaining: 1.99s\n",
      "93:\tlearn: 0.0530803\ttotal: 206ms\tremaining: 1.99s\n",
      "94:\tlearn: 0.0528523\ttotal: 209ms\tremaining: 1.99s\n",
      "95:\tlearn: 0.0524413\ttotal: 211ms\tremaining: 1.99s\n",
      "96:\tlearn: 0.0520270\ttotal: 213ms\tremaining: 1.99s\n",
      "97:\tlearn: 0.0518168\ttotal: 218ms\tremaining: 2s\n",
      "98:\tlearn: 0.0515089\ttotal: 223ms\tremaining: 2.03s\n",
      "99:\tlearn: 0.0509829\ttotal: 237ms\tremaining: 2.14s\n",
      "100:\tlearn: 0.0507923\ttotal: 241ms\tremaining: 2.14s\n",
      "101:\tlearn: 0.0504561\ttotal: 243ms\tremaining: 2.14s\n",
      "102:\tlearn: 0.0496929\ttotal: 245ms\tremaining: 2.13s\n",
      "103:\tlearn: 0.0493897\ttotal: 247ms\tremaining: 2.13s\n",
      "104:\tlearn: 0.0490209\ttotal: 250ms\tremaining: 2.13s\n",
      "105:\tlearn: 0.0487998\ttotal: 253ms\tremaining: 2.13s\n",
      "106:\tlearn: 0.0483011\ttotal: 256ms\tremaining: 2.13s\n",
      "107:\tlearn: 0.0480795\ttotal: 258ms\tremaining: 2.13s\n",
      "108:\tlearn: 0.0473304\ttotal: 260ms\tremaining: 2.13s\n",
      "109:\tlearn: 0.0469269\ttotal: 262ms\tremaining: 2.12s\n",
      "110:\tlearn: 0.0467574\ttotal: 265ms\tremaining: 2.12s\n",
      "111:\tlearn: 0.0466446\ttotal: 267ms\tremaining: 2.12s\n",
      "112:\tlearn: 0.0460120\ttotal: 270ms\tremaining: 2.12s\n",
      "113:\tlearn: 0.0458380\ttotal: 272ms\tremaining: 2.11s\n",
      "114:\tlearn: 0.0456651\ttotal: 274ms\tremaining: 2.11s\n",
      "115:\tlearn: 0.0453753\ttotal: 276ms\tremaining: 2.1s\n",
      "116:\tlearn: 0.0452475\ttotal: 279ms\tremaining: 2.1s\n",
      "117:\tlearn: 0.0448483\ttotal: 281ms\tremaining: 2.1s\n",
      "118:\tlearn: 0.0446537\ttotal: 283ms\tremaining: 2.09s\n",
      "119:\tlearn: 0.0445062\ttotal: 286ms\tremaining: 2.09s\n",
      "120:\tlearn: 0.0442330\ttotal: 288ms\tremaining: 2.09s\n",
      "121:\tlearn: 0.0440335\ttotal: 290ms\tremaining: 2.09s\n",
      "122:\tlearn: 0.0438333\ttotal: 292ms\tremaining: 2.08s\n",
      "123:\tlearn: 0.0435070\ttotal: 294ms\tremaining: 2.07s\n",
      "124:\tlearn: 0.0431376\ttotal: 295ms\tremaining: 2.07s\n",
      "125:\tlearn: 0.0426918\ttotal: 298ms\tremaining: 2.06s\n",
      "126:\tlearn: 0.0425698\ttotal: 300ms\tremaining: 2.06s\n",
      "127:\tlearn: 0.0422688\ttotal: 302ms\tremaining: 2.06s\n",
      "128:\tlearn: 0.0421558\ttotal: 304ms\tremaining: 2.05s\n",
      "129:\tlearn: 0.0417911\ttotal: 306ms\tremaining: 2.05s\n",
      "130:\tlearn: 0.0415261\ttotal: 308ms\tremaining: 2.04s\n",
      "131:\tlearn: 0.0412734\ttotal: 311ms\tremaining: 2.04s\n",
      "132:\tlearn: 0.0411685\ttotal: 312ms\tremaining: 2.04s\n",
      "133:\tlearn: 0.0409865\ttotal: 315ms\tremaining: 2.03s\n",
      "134:\tlearn: 0.0408854\ttotal: 317ms\tremaining: 2.03s\n",
      "135:\tlearn: 0.0406332\ttotal: 319ms\tremaining: 2.02s\n",
      "136:\tlearn: 0.0404635\ttotal: 320ms\tremaining: 2.02s\n",
      "137:\tlearn: 0.0402920\ttotal: 323ms\tremaining: 2.02s\n",
      "138:\tlearn: 0.0398398\ttotal: 325ms\tremaining: 2.01s\n",
      "139:\tlearn: 0.0397091\ttotal: 327ms\tremaining: 2.01s\n",
      "140:\tlearn: 0.0394697\ttotal: 329ms\tremaining: 2.01s\n",
      "141:\tlearn: 0.0392566\ttotal: 331ms\tremaining: 2s\n",
      "142:\tlearn: 0.0390499\ttotal: 334ms\tremaining: 2s\n",
      "143:\tlearn: 0.0388782\ttotal: 336ms\tremaining: 2s\n",
      "144:\tlearn: 0.0387326\ttotal: 339ms\tremaining: 2s\n",
      "145:\tlearn: 0.0386311\ttotal: 341ms\tremaining: 1.99s\n",
      "146:\tlearn: 0.0385427\ttotal: 343ms\tremaining: 1.99s\n",
      "147:\tlearn: 0.0383702\ttotal: 345ms\tremaining: 1.99s\n",
      "148:\tlearn: 0.0382869\ttotal: 347ms\tremaining: 1.98s\n",
      "149:\tlearn: 0.0382111\ttotal: 350ms\tremaining: 1.98s\n",
      "150:\tlearn: 0.0380592\ttotal: 352ms\tremaining: 1.98s\n",
      "151:\tlearn: 0.0379038\ttotal: 354ms\tremaining: 1.98s\n",
      "152:\tlearn: 0.0377535\ttotal: 356ms\tremaining: 1.97s\n",
      "153:\tlearn: 0.0377099\ttotal: 358ms\tremaining: 1.97s\n",
      "154:\tlearn: 0.0375535\ttotal: 360ms\tremaining: 1.97s\n",
      "155:\tlearn: 0.0373419\ttotal: 363ms\tremaining: 1.96s\n",
      "156:\tlearn: 0.0371427\ttotal: 365ms\tremaining: 1.96s\n",
      "157:\tlearn: 0.0370333\ttotal: 367ms\tremaining: 1.96s\n",
      "158:\tlearn: 0.0368628\ttotal: 369ms\tremaining: 1.95s\n",
      "159:\tlearn: 0.0367492\ttotal: 371ms\tremaining: 1.95s\n",
      "160:\tlearn: 0.0366550\ttotal: 373ms\tremaining: 1.95s\n",
      "161:\tlearn: 0.0364480\ttotal: 376ms\tremaining: 1.94s\n",
      "162:\tlearn: 0.0362122\ttotal: 378ms\tremaining: 1.94s\n",
      "163:\tlearn: 0.0360912\ttotal: 379ms\tremaining: 1.93s\n",
      "164:\tlearn: 0.0359155\ttotal: 382ms\tremaining: 1.93s\n",
      "165:\tlearn: 0.0358507\ttotal: 384ms\tremaining: 1.93s\n",
      "166:\tlearn: 0.0356109\ttotal: 386ms\tremaining: 1.93s\n",
      "167:\tlearn: 0.0354942\ttotal: 389ms\tremaining: 1.93s\n",
      "168:\tlearn: 0.0353930\ttotal: 391ms\tremaining: 1.92s\n",
      "169:\tlearn: 0.0353238\ttotal: 393ms\tremaining: 1.92s\n",
      "170:\tlearn: 0.0352305\ttotal: 396ms\tremaining: 1.92s\n",
      "171:\tlearn: 0.0351304\ttotal: 397ms\tremaining: 1.91s\n",
      "172:\tlearn: 0.0350573\ttotal: 400ms\tremaining: 1.91s\n",
      "173:\tlearn: 0.0349903\ttotal: 402ms\tremaining: 1.91s\n",
      "174:\tlearn: 0.0348229\ttotal: 404ms\tremaining: 1.9s\n",
      "175:\tlearn: 0.0347567\ttotal: 406ms\tremaining: 1.9s\n",
      "176:\tlearn: 0.0347045\ttotal: 409ms\tremaining: 1.9s\n",
      "177:\tlearn: 0.0345472\ttotal: 411ms\tremaining: 1.9s\n",
      "178:\tlearn: 0.0344936\ttotal: 413ms\tremaining: 1.9s\n",
      "179:\tlearn: 0.0343613\ttotal: 415ms\tremaining: 1.89s\n",
      "180:\tlearn: 0.0342706\ttotal: 417ms\tremaining: 1.89s\n",
      "181:\tlearn: 0.0341746\ttotal: 420ms\tremaining: 1.89s\n",
      "182:\tlearn: 0.0339009\ttotal: 422ms\tremaining: 1.88s\n",
      "183:\tlearn: 0.0338087\ttotal: 424ms\tremaining: 1.88s\n",
      "184:\tlearn: 0.0337636\ttotal: 426ms\tremaining: 1.88s\n",
      "185:\tlearn: 0.0336779\ttotal: 428ms\tremaining: 1.87s\n",
      "186:\tlearn: 0.0335421\ttotal: 430ms\tremaining: 1.87s\n",
      "187:\tlearn: 0.0333722\ttotal: 433ms\tremaining: 1.87s\n",
      "188:\tlearn: 0.0333284\ttotal: 435ms\tremaining: 1.87s\n",
      "189:\tlearn: 0.0332685\ttotal: 437ms\tremaining: 1.86s\n",
      "190:\tlearn: 0.0330321\ttotal: 440ms\tremaining: 1.86s\n",
      "191:\tlearn: 0.0329861\ttotal: 442ms\tremaining: 1.86s\n",
      "192:\tlearn: 0.0329163\ttotal: 444ms\tremaining: 1.85s\n",
      "193:\tlearn: 0.0328125\ttotal: 446ms\tremaining: 1.85s\n",
      "194:\tlearn: 0.0327101\ttotal: 448ms\tremaining: 1.85s\n",
      "195:\tlearn: 0.0325932\ttotal: 450ms\tremaining: 1.84s\n",
      "196:\tlearn: 0.0324955\ttotal: 452ms\tremaining: 1.84s\n",
      "197:\tlearn: 0.0324229\ttotal: 454ms\tremaining: 1.84s\n",
      "198:\tlearn: 0.0323780\ttotal: 456ms\tremaining: 1.84s\n",
      "199:\tlearn: 0.0321981\ttotal: 458ms\tremaining: 1.83s\n",
      "200:\tlearn: 0.0321480\ttotal: 461ms\tremaining: 1.83s\n",
      "201:\tlearn: 0.0320666\ttotal: 462ms\tremaining: 1.83s\n",
      "202:\tlearn: 0.0318805\ttotal: 464ms\tremaining: 1.82s\n",
      "203:\tlearn: 0.0316940\ttotal: 467ms\tremaining: 1.82s\n",
      "204:\tlearn: 0.0316015\ttotal: 469ms\tremaining: 1.82s\n",
      "205:\tlearn: 0.0315592\ttotal: 471ms\tremaining: 1.81s\n",
      "206:\tlearn: 0.0315135\ttotal: 473ms\tremaining: 1.81s\n",
      "207:\tlearn: 0.0314711\ttotal: 475ms\tremaining: 1.81s\n",
      "208:\tlearn: 0.0314152\ttotal: 477ms\tremaining: 1.81s\n",
      "209:\tlearn: 0.0313662\ttotal: 480ms\tremaining: 1.8s\n",
      "210:\tlearn: 0.0312939\ttotal: 482ms\tremaining: 1.8s\n",
      "211:\tlearn: 0.0312492\ttotal: 484ms\tremaining: 1.8s\n",
      "212:\tlearn: 0.0311829\ttotal: 486ms\tremaining: 1.8s\n",
      "213:\tlearn: 0.0310629\ttotal: 488ms\tremaining: 1.79s\n",
      "214:\tlearn: 0.0310628\ttotal: 490ms\tremaining: 1.79s\n",
      "215:\tlearn: 0.0310215\ttotal: 492ms\tremaining: 1.79s\n",
      "216:\tlearn: 0.0309855\ttotal: 494ms\tremaining: 1.78s\n",
      "217:\tlearn: 0.0309482\ttotal: 496ms\tremaining: 1.78s\n",
      "218:\tlearn: 0.0308679\ttotal: 499ms\tremaining: 1.78s\n",
      "219:\tlearn: 0.0307180\ttotal: 501ms\tremaining: 1.78s\n",
      "220:\tlearn: 0.0306819\ttotal: 503ms\tremaining: 1.77s\n",
      "221:\tlearn: 0.0306129\ttotal: 505ms\tremaining: 1.77s\n",
      "222:\tlearn: 0.0305361\ttotal: 508ms\tremaining: 1.77s\n",
      "223:\tlearn: 0.0304567\ttotal: 510ms\tremaining: 1.76s\n",
      "224:\tlearn: 0.0304124\ttotal: 512ms\tremaining: 1.76s\n",
      "225:\tlearn: 0.0303061\ttotal: 514ms\tremaining: 1.76s\n",
      "226:\tlearn: 0.0302254\ttotal: 516ms\tremaining: 1.76s\n",
      "227:\tlearn: 0.0301839\ttotal: 518ms\tremaining: 1.75s\n",
      "228:\tlearn: 0.0299966\ttotal: 520ms\tremaining: 1.75s\n",
      "229:\tlearn: 0.0298705\ttotal: 522ms\tremaining: 1.75s\n",
      "230:\tlearn: 0.0298281\ttotal: 525ms\tremaining: 1.75s\n",
      "231:\tlearn: 0.0297309\ttotal: 527ms\tremaining: 1.74s\n",
      "232:\tlearn: 0.0296896\ttotal: 529ms\tremaining: 1.74s\n",
      "233:\tlearn: 0.0296486\ttotal: 531ms\tremaining: 1.74s\n",
      "234:\tlearn: 0.0295981\ttotal: 534ms\tremaining: 1.74s\n",
      "235:\tlearn: 0.0294357\ttotal: 536ms\tremaining: 1.73s\n",
      "236:\tlearn: 0.0294007\ttotal: 538ms\tremaining: 1.73s\n",
      "237:\tlearn: 0.0293476\ttotal: 540ms\tremaining: 1.73s\n",
      "238:\tlearn: 0.0292924\ttotal: 542ms\tremaining: 1.73s\n",
      "239:\tlearn: 0.0292323\ttotal: 544ms\tremaining: 1.72s\n",
      "240:\tlearn: 0.0291991\ttotal: 546ms\tremaining: 1.72s\n",
      "241:\tlearn: 0.0290510\ttotal: 548ms\tremaining: 1.72s\n",
      "242:\tlearn: 0.0290055\ttotal: 550ms\tremaining: 1.71s\n",
      "243:\tlearn: 0.0289144\ttotal: 552ms\tremaining: 1.71s\n",
      "244:\tlearn: 0.0287887\ttotal: 555ms\tremaining: 1.71s\n",
      "245:\tlearn: 0.0287120\ttotal: 558ms\tremaining: 1.71s\n",
      "246:\tlearn: 0.0286362\ttotal: 559ms\tremaining: 1.71s\n",
      "247:\tlearn: 0.0285177\ttotal: 561ms\tremaining: 1.7s\n",
      "248:\tlearn: 0.0284871\ttotal: 564ms\tremaining: 1.7s\n",
      "249:\tlearn: 0.0284047\ttotal: 566ms\tremaining: 1.7s\n",
      "250:\tlearn: 0.0282833\ttotal: 568ms\tremaining: 1.69s\n",
      "251:\tlearn: 0.0282832\ttotal: 570ms\tremaining: 1.69s\n",
      "252:\tlearn: 0.0282444\ttotal: 572ms\tremaining: 1.69s\n",
      "253:\tlearn: 0.0281987\ttotal: 574ms\tremaining: 1.69s\n",
      "254:\tlearn: 0.0281604\ttotal: 577ms\tremaining: 1.69s\n",
      "255:\tlearn: 0.0281347\ttotal: 579ms\tremaining: 1.68s\n",
      "256:\tlearn: 0.0281034\ttotal: 581ms\tremaining: 1.68s\n",
      "257:\tlearn: 0.0280435\ttotal: 584ms\tremaining: 1.68s\n",
      "258:\tlearn: 0.0280198\ttotal: 586ms\tremaining: 1.68s\n",
      "259:\tlearn: 0.0279868\ttotal: 588ms\tremaining: 1.67s\n",
      "260:\tlearn: 0.0278362\ttotal: 591ms\tremaining: 1.67s\n",
      "261:\tlearn: 0.0277733\ttotal: 593ms\tremaining: 1.67s\n",
      "262:\tlearn: 0.0277406\ttotal: 595ms\tremaining: 1.67s\n",
      "263:\tlearn: 0.0277034\ttotal: 598ms\tremaining: 1.67s\n",
      "264:\tlearn: 0.0276958\ttotal: 599ms\tremaining: 1.66s\n",
      "265:\tlearn: 0.0276233\ttotal: 602ms\tremaining: 1.66s\n",
      "266:\tlearn: 0.0275635\ttotal: 604ms\tremaining: 1.66s\n",
      "267:\tlearn: 0.0275305\ttotal: 606ms\tremaining: 1.65s\n",
      "268:\tlearn: 0.0274789\ttotal: 608ms\tremaining: 1.65s\n",
      "269:\tlearn: 0.0274475\ttotal: 610ms\tremaining: 1.65s\n",
      "270:\tlearn: 0.0274212\ttotal: 612ms\tremaining: 1.65s\n",
      "271:\tlearn: 0.0273924\ttotal: 615ms\tremaining: 1.65s\n",
      "272:\tlearn: 0.0273400\ttotal: 618ms\tremaining: 1.64s\n",
      "273:\tlearn: 0.0273087\ttotal: 620ms\tremaining: 1.64s\n",
      "274:\tlearn: 0.0272427\ttotal: 622ms\tremaining: 1.64s\n",
      "275:\tlearn: 0.0271586\ttotal: 624ms\tremaining: 1.64s\n",
      "276:\tlearn: 0.0271136\ttotal: 626ms\tremaining: 1.63s\n",
      "277:\tlearn: 0.0271077\ttotal: 628ms\tremaining: 1.63s\n",
      "278:\tlearn: 0.0270725\ttotal: 630ms\tremaining: 1.63s\n",
      "279:\tlearn: 0.0270724\ttotal: 632ms\tremaining: 1.62s\n",
      "280:\tlearn: 0.0269799\ttotal: 634ms\tremaining: 1.62s\n",
      "281:\tlearn: 0.0269189\ttotal: 636ms\tremaining: 1.62s\n",
      "282:\tlearn: 0.0268303\ttotal: 638ms\tremaining: 1.62s\n",
      "283:\tlearn: 0.0268035\ttotal: 640ms\tremaining: 1.61s\n",
      "284:\tlearn: 0.0267442\ttotal: 642ms\tremaining: 1.61s\n",
      "285:\tlearn: 0.0267146\ttotal: 644ms\tremaining: 1.61s\n",
      "286:\tlearn: 0.0266318\ttotal: 646ms\tremaining: 1.6s\n",
      "287:\tlearn: 0.0265954\ttotal: 649ms\tremaining: 1.6s\n",
      "288:\tlearn: 0.0265099\ttotal: 651ms\tremaining: 1.6s\n",
      "289:\tlearn: 0.0264754\ttotal: 653ms\tremaining: 1.6s\n",
      "290:\tlearn: 0.0264319\ttotal: 655ms\tremaining: 1.6s\n",
      "291:\tlearn: 0.0264319\ttotal: 657ms\tremaining: 1.59s\n",
      "292:\tlearn: 0.0264107\ttotal: 659ms\tremaining: 1.59s\n",
      "293:\tlearn: 0.0263834\ttotal: 661ms\tremaining: 1.59s\n",
      "294:\tlearn: 0.0263418\ttotal: 663ms\tremaining: 1.58s\n",
      "295:\tlearn: 0.0263416\ttotal: 665ms\tremaining: 1.58s\n",
      "296:\tlearn: 0.0262636\ttotal: 668ms\tremaining: 1.58s\n",
      "297:\tlearn: 0.0262629\ttotal: 670ms\tremaining: 1.58s\n",
      "298:\tlearn: 0.0262391\ttotal: 672ms\tremaining: 1.57s\n",
      "299:\tlearn: 0.0262389\ttotal: 673ms\tremaining: 1.57s\n",
      "300:\tlearn: 0.0262012\ttotal: 676ms\tremaining: 1.57s\n",
      "301:\tlearn: 0.0261657\ttotal: 677ms\tremaining: 1.56s\n",
      "302:\tlearn: 0.0261409\ttotal: 680ms\tremaining: 1.56s\n",
      "303:\tlearn: 0.0261407\ttotal: 682ms\tremaining: 1.56s\n",
      "304:\tlearn: 0.0261400\ttotal: 684ms\tremaining: 1.56s\n",
      "305:\tlearn: 0.0261400\ttotal: 685ms\tremaining: 1.55s\n",
      "306:\tlearn: 0.0261399\ttotal: 688ms\tremaining: 1.55s\n",
      "307:\tlearn: 0.0261264\ttotal: 690ms\tremaining: 1.55s\n",
      "308:\tlearn: 0.0261263\ttotal: 691ms\tremaining: 1.55s\n",
      "309:\tlearn: 0.0261257\ttotal: 694ms\tremaining: 1.54s\n",
      "310:\tlearn: 0.0260978\ttotal: 696ms\tremaining: 1.54s\n",
      "311:\tlearn: 0.0260797\ttotal: 698ms\tremaining: 1.54s\n",
      "312:\tlearn: 0.0260494\ttotal: 700ms\tremaining: 1.54s\n",
      "313:\tlearn: 0.0260395\ttotal: 702ms\tremaining: 1.53s\n",
      "314:\tlearn: 0.0260347\ttotal: 704ms\tremaining: 1.53s\n",
      "315:\tlearn: 0.0259776\ttotal: 707ms\tremaining: 1.53s\n",
      "316:\tlearn: 0.0259372\ttotal: 709ms\tremaining: 1.53s\n",
      "317:\tlearn: 0.0259371\ttotal: 711ms\tremaining: 1.52s\n",
      "318:\tlearn: 0.0259148\ttotal: 713ms\tremaining: 1.52s\n",
      "319:\tlearn: 0.0259148\ttotal: 715ms\tremaining: 1.52s\n",
      "320:\tlearn: 0.0259101\ttotal: 717ms\tremaining: 1.51s\n",
      "321:\tlearn: 0.0259101\ttotal: 718ms\tremaining: 1.51s\n",
      "322:\tlearn: 0.0258802\ttotal: 721ms\tremaining: 1.51s\n",
      "323:\tlearn: 0.0258077\ttotal: 723ms\tremaining: 1.51s\n",
      "324:\tlearn: 0.0258076\ttotal: 725ms\tremaining: 1.5s\n",
      "325:\tlearn: 0.0258076\ttotal: 727ms\tremaining: 1.5s\n",
      "326:\tlearn: 0.0258076\ttotal: 728ms\tremaining: 1.5s\n",
      "327:\tlearn: 0.0257853\ttotal: 730ms\tremaining: 1.5s\n",
      "328:\tlearn: 0.0257155\ttotal: 732ms\tremaining: 1.49s\n",
      "329:\tlearn: 0.0257155\ttotal: 734ms\tremaining: 1.49s\n",
      "330:\tlearn: 0.0255776\ttotal: 736ms\tremaining: 1.49s\n",
      "331:\tlearn: 0.0255264\ttotal: 738ms\tremaining: 1.49s\n",
      "332:\tlearn: 0.0254970\ttotal: 741ms\tremaining: 1.48s\n",
      "333:\tlearn: 0.0254646\ttotal: 743ms\tremaining: 1.48s\n",
      "334:\tlearn: 0.0254645\ttotal: 744ms\tremaining: 1.48s\n",
      "335:\tlearn: 0.0254645\ttotal: 746ms\tremaining: 1.47s\n",
      "336:\tlearn: 0.0254645\ttotal: 748ms\tremaining: 1.47s\n",
      "337:\tlearn: 0.0254644\ttotal: 750ms\tremaining: 1.47s\n",
      "338:\tlearn: 0.0254643\ttotal: 751ms\tremaining: 1.47s\n",
      "339:\tlearn: 0.0254643\ttotal: 754ms\tremaining: 1.46s\n",
      "340:\tlearn: 0.0254643\ttotal: 756ms\tremaining: 1.46s\n",
      "341:\tlearn: 0.0254641\ttotal: 757ms\tremaining: 1.46s\n",
      "342:\tlearn: 0.0254640\ttotal: 759ms\tremaining: 1.45s\n",
      "343:\tlearn: 0.0254640\ttotal: 761ms\tremaining: 1.45s\n",
      "344:\tlearn: 0.0254639\ttotal: 763ms\tremaining: 1.45s\n",
      "345:\tlearn: 0.0254634\ttotal: 765ms\tremaining: 1.45s\n",
      "346:\tlearn: 0.0254633\ttotal: 767ms\tremaining: 1.44s\n",
      "347:\tlearn: 0.0254633\ttotal: 769ms\tremaining: 1.44s\n",
      "348:\tlearn: 0.0254633\ttotal: 770ms\tremaining: 1.44s\n",
      "349:\tlearn: 0.0254632\ttotal: 772ms\tremaining: 1.43s\n",
      "350:\tlearn: 0.0254631\ttotal: 774ms\tremaining: 1.43s\n",
      "351:\tlearn: 0.0254626\ttotal: 776ms\tremaining: 1.43s\n",
      "352:\tlearn: 0.0254170\ttotal: 778ms\tremaining: 1.43s\n",
      "353:\tlearn: 0.0254168\ttotal: 780ms\tremaining: 1.42s\n",
      "354:\tlearn: 0.0254168\ttotal: 782ms\tremaining: 1.42s\n",
      "355:\tlearn: 0.0254081\ttotal: 784ms\tremaining: 1.42s\n",
      "356:\tlearn: 0.0253991\ttotal: 786ms\tremaining: 1.42s\n",
      "357:\tlearn: 0.0253721\ttotal: 788ms\tremaining: 1.41s\n",
      "358:\tlearn: 0.0253720\ttotal: 790ms\tremaining: 1.41s\n",
      "359:\tlearn: 0.0253545\ttotal: 792ms\tremaining: 1.41s\n",
      "360:\tlearn: 0.0253507\ttotal: 794ms\tremaining: 1.41s\n",
      "361:\tlearn: 0.0253507\ttotal: 796ms\tremaining: 1.4s\n",
      "362:\tlearn: 0.0253313\ttotal: 798ms\tremaining: 1.4s\n",
      "363:\tlearn: 0.0252683\ttotal: 800ms\tremaining: 1.4s\n",
      "364:\tlearn: 0.0252043\ttotal: 803ms\tremaining: 1.4s\n",
      "365:\tlearn: 0.0252042\ttotal: 804ms\tremaining: 1.39s\n",
      "366:\tlearn: 0.0252042\ttotal: 806ms\tremaining: 1.39s\n",
      "367:\tlearn: 0.0252041\ttotal: 808ms\tremaining: 1.39s\n",
      "368:\tlearn: 0.0252036\ttotal: 810ms\tremaining: 1.39s\n",
      "369:\tlearn: 0.0251971\ttotal: 812ms\tremaining: 1.38s\n",
      "370:\tlearn: 0.0251696\ttotal: 814ms\tremaining: 1.38s\n",
      "371:\tlearn: 0.0251414\ttotal: 816ms\tremaining: 1.38s\n",
      "372:\tlearn: 0.0251410\ttotal: 818ms\tremaining: 1.38s\n",
      "373:\tlearn: 0.0251153\ttotal: 820ms\tremaining: 1.37s\n",
      "374:\tlearn: 0.0250939\ttotal: 822ms\tremaining: 1.37s\n",
      "375:\tlearn: 0.0250541\ttotal: 825ms\tremaining: 1.37s\n",
      "376:\tlearn: 0.0250542\ttotal: 826ms\tremaining: 1.36s\n",
      "377:\tlearn: 0.0250542\ttotal: 828ms\tremaining: 1.36s\n",
      "378:\tlearn: 0.0250540\ttotal: 830ms\tremaining: 1.36s\n",
      "379:\tlearn: 0.0250541\ttotal: 832ms\tremaining: 1.36s\n",
      "380:\tlearn: 0.0250539\ttotal: 833ms\tremaining: 1.35s\n",
      "381:\tlearn: 0.0250330\ttotal: 836ms\tremaining: 1.35s\n",
      "382:\tlearn: 0.0250087\ttotal: 838ms\tremaining: 1.35s\n",
      "383:\tlearn: 0.0249568\ttotal: 840ms\tremaining: 1.35s\n",
      "384:\tlearn: 0.0249259\ttotal: 842ms\tremaining: 1.34s\n",
      "385:\tlearn: 0.0248773\ttotal: 844ms\tremaining: 1.34s\n",
      "386:\tlearn: 0.0248492\ttotal: 846ms\tremaining: 1.34s\n",
      "387:\tlearn: 0.0248492\ttotal: 848ms\tremaining: 1.34s\n",
      "388:\tlearn: 0.0248157\ttotal: 850ms\tremaining: 1.33s\n",
      "389:\tlearn: 0.0247833\ttotal: 852ms\tremaining: 1.33s\n",
      "390:\tlearn: 0.0247528\ttotal: 854ms\tremaining: 1.33s\n",
      "391:\tlearn: 0.0247288\ttotal: 856ms\tremaining: 1.33s\n",
      "392:\tlearn: 0.0247287\ttotal: 858ms\tremaining: 1.32s\n",
      "393:\tlearn: 0.0247287\ttotal: 859ms\tremaining: 1.32s\n",
      "394:\tlearn: 0.0247286\ttotal: 861ms\tremaining: 1.32s\n",
      "395:\tlearn: 0.0247284\ttotal: 863ms\tremaining: 1.32s\n",
      "396:\tlearn: 0.0247283\ttotal: 865ms\tremaining: 1.31s\n",
      "397:\tlearn: 0.0247284\ttotal: 867ms\tremaining: 1.31s\n",
      "398:\tlearn: 0.0247282\ttotal: 869ms\tremaining: 1.31s\n",
      "399:\tlearn: 0.0247280\ttotal: 871ms\tremaining: 1.3s\n",
      "400:\tlearn: 0.0247279\ttotal: 872ms\tremaining: 1.3s\n",
      "401:\tlearn: 0.0247279\ttotal: 874ms\tremaining: 1.3s\n",
      "402:\tlearn: 0.0247270\ttotal: 876ms\tremaining: 1.3s\n",
      "403:\tlearn: 0.0246946\ttotal: 878ms\tremaining: 1.29s\n",
      "404:\tlearn: 0.0246334\ttotal: 880ms\tremaining: 1.29s\n",
      "405:\tlearn: 0.0246333\ttotal: 881ms\tremaining: 1.29s\n",
      "406:\tlearn: 0.0246071\ttotal: 883ms\tremaining: 1.29s\n",
      "407:\tlearn: 0.0245353\ttotal: 885ms\tremaining: 1.28s\n",
      "408:\tlearn: 0.0245353\ttotal: 887ms\tremaining: 1.28s\n",
      "409:\tlearn: 0.0245352\ttotal: 889ms\tremaining: 1.28s\n",
      "410:\tlearn: 0.0245077\ttotal: 891ms\tremaining: 1.28s\n",
      "411:\tlearn: 0.0245077\ttotal: 893ms\tremaining: 1.27s\n",
      "412:\tlearn: 0.0245077\ttotal: 894ms\tremaining: 1.27s\n",
      "413:\tlearn: 0.0245076\ttotal: 896ms\tremaining: 1.27s\n",
      "414:\tlearn: 0.0245076\ttotal: 898ms\tremaining: 1.26s\n",
      "415:\tlearn: 0.0245075\ttotal: 900ms\tremaining: 1.26s\n",
      "416:\tlearn: 0.0245075\ttotal: 902ms\tremaining: 1.26s\n",
      "417:\tlearn: 0.0245073\ttotal: 904ms\tremaining: 1.26s\n",
      "418:\tlearn: 0.0245073\ttotal: 905ms\tremaining: 1.25s\n",
      "419:\tlearn: 0.0245073\ttotal: 907ms\tremaining: 1.25s\n",
      "420:\tlearn: 0.0245073\ttotal: 909ms\tremaining: 1.25s\n",
      "421:\tlearn: 0.0245071\ttotal: 911ms\tremaining: 1.25s\n",
      "422:\tlearn: 0.0245072\ttotal: 913ms\tremaining: 1.25s\n",
      "423:\tlearn: 0.0245071\ttotal: 915ms\tremaining: 1.24s\n",
      "424:\tlearn: 0.0245071\ttotal: 917ms\tremaining: 1.24s\n",
      "425:\tlearn: 0.0245071\ttotal: 918ms\tremaining: 1.24s\n",
      "426:\tlearn: 0.0245071\ttotal: 920ms\tremaining: 1.23s\n",
      "427:\tlearn: 0.0245071\ttotal: 922ms\tremaining: 1.23s\n",
      "428:\tlearn: 0.0245070\ttotal: 923ms\tremaining: 1.23s\n",
      "429:\tlearn: 0.0245069\ttotal: 925ms\tremaining: 1.23s\n",
      "430:\tlearn: 0.0245068\ttotal: 927ms\tremaining: 1.22s\n",
      "431:\tlearn: 0.0245067\ttotal: 929ms\tremaining: 1.22s\n",
      "432:\tlearn: 0.0245067\ttotal: 931ms\tremaining: 1.22s\n",
      "433:\tlearn: 0.0245064\ttotal: 933ms\tremaining: 1.22s\n",
      "434:\tlearn: 0.0245063\ttotal: 934ms\tremaining: 1.21s\n",
      "435:\tlearn: 0.0245063\ttotal: 936ms\tremaining: 1.21s\n",
      "436:\tlearn: 0.0245062\ttotal: 938ms\tremaining: 1.21s\n",
      "437:\tlearn: 0.0245062\ttotal: 940ms\tremaining: 1.21s\n",
      "438:\tlearn: 0.0245062\ttotal: 942ms\tremaining: 1.2s\n",
      "439:\tlearn: 0.0245062\ttotal: 943ms\tremaining: 1.2s\n",
      "440:\tlearn: 0.0244715\ttotal: 945ms\tremaining: 1.2s\n",
      "441:\tlearn: 0.0244715\ttotal: 947ms\tremaining: 1.2s\n",
      "442:\tlearn: 0.0244334\ttotal: 949ms\tremaining: 1.19s\n",
      "443:\tlearn: 0.0244103\ttotal: 951ms\tremaining: 1.19s\n",
      "444:\tlearn: 0.0244103\ttotal: 953ms\tremaining: 1.19s\n",
      "445:\tlearn: 0.0244103\ttotal: 955ms\tremaining: 1.19s\n",
      "446:\tlearn: 0.0244103\ttotal: 957ms\tremaining: 1.18s\n",
      "447:\tlearn: 0.0244102\ttotal: 959ms\tremaining: 1.18s\n",
      "448:\tlearn: 0.0244102\ttotal: 961ms\tremaining: 1.18s\n",
      "449:\tlearn: 0.0244101\ttotal: 963ms\tremaining: 1.18s\n",
      "450:\tlearn: 0.0244100\ttotal: 965ms\tremaining: 1.17s\n",
      "451:\tlearn: 0.0244097\ttotal: 966ms\tremaining: 1.17s\n",
      "452:\tlearn: 0.0244093\ttotal: 968ms\tremaining: 1.17s\n",
      "453:\tlearn: 0.0244093\ttotal: 970ms\tremaining: 1.17s\n",
      "454:\tlearn: 0.0244087\ttotal: 972ms\tremaining: 1.16s\n",
      "455:\tlearn: 0.0244083\ttotal: 974ms\tremaining: 1.16s\n",
      "456:\tlearn: 0.0244082\ttotal: 975ms\tremaining: 1.16s\n",
      "457:\tlearn: 0.0244082\ttotal: 977ms\tremaining: 1.16s\n",
      "458:\tlearn: 0.0244082\ttotal: 979ms\tremaining: 1.15s\n",
      "459:\tlearn: 0.0244082\ttotal: 981ms\tremaining: 1.15s\n",
      "460:\tlearn: 0.0244082\ttotal: 983ms\tremaining: 1.15s\n",
      "461:\tlearn: 0.0244081\ttotal: 984ms\tremaining: 1.15s\n",
      "462:\tlearn: 0.0244081\ttotal: 986ms\tremaining: 1.14s\n",
      "463:\tlearn: 0.0244080\ttotal: 988ms\tremaining: 1.14s\n",
      "464:\tlearn: 0.0244080\ttotal: 990ms\tremaining: 1.14s\n",
      "465:\tlearn: 0.0244079\ttotal: 992ms\tremaining: 1.14s\n",
      "466:\tlearn: 0.0244079\ttotal: 994ms\tremaining: 1.13s\n",
      "467:\tlearn: 0.0244079\ttotal: 996ms\tremaining: 1.13s\n",
      "468:\tlearn: 0.0244079\ttotal: 998ms\tremaining: 1.13s\n",
      "469:\tlearn: 0.0244078\ttotal: 1000ms\tremaining: 1.13s\n",
      "470:\tlearn: 0.0244078\ttotal: 1s\tremaining: 1.12s\n",
      "471:\tlearn: 0.0244078\ttotal: 1s\tremaining: 1.12s\n",
      "472:\tlearn: 0.0244077\ttotal: 1s\tremaining: 1.12s\n",
      "473:\tlearn: 0.0244076\ttotal: 1.01s\tremaining: 1.12s\n",
      "474:\tlearn: 0.0244074\ttotal: 1.01s\tremaining: 1.11s\n",
      "475:\tlearn: 0.0244074\ttotal: 1.01s\tremaining: 1.11s\n",
      "476:\tlearn: 0.0244073\ttotal: 1.01s\tremaining: 1.11s\n",
      "477:\tlearn: 0.0244074\ttotal: 1.01s\tremaining: 1.11s\n",
      "478:\tlearn: 0.0244073\ttotal: 1.02s\tremaining: 1.1s\n",
      "479:\tlearn: 0.0244073\ttotal: 1.02s\tremaining: 1.1s\n",
      "480:\tlearn: 0.0244072\ttotal: 1.02s\tremaining: 1.1s\n",
      "481:\tlearn: 0.0244072\ttotal: 1.02s\tremaining: 1.1s\n",
      "482:\tlearn: 0.0244070\ttotal: 1.02s\tremaining: 1.09s\n",
      "483:\tlearn: 0.0244069\ttotal: 1.02s\tremaining: 1.09s\n",
      "484:\tlearn: 0.0244070\ttotal: 1.03s\tremaining: 1.09s\n",
      "485:\tlearn: 0.0244070\ttotal: 1.03s\tremaining: 1.09s\n",
      "486:\tlearn: 0.0244069\ttotal: 1.03s\tremaining: 1.08s\n",
      "487:\tlearn: 0.0244069\ttotal: 1.03s\tremaining: 1.08s\n",
      "488:\tlearn: 0.0244069\ttotal: 1.03s\tremaining: 1.08s\n",
      "489:\tlearn: 0.0244070\ttotal: 1.03s\tremaining: 1.08s\n",
      "490:\tlearn: 0.0244068\ttotal: 1.04s\tremaining: 1.07s\n",
      "491:\tlearn: 0.0244068\ttotal: 1.04s\tremaining: 1.07s\n",
      "492:\tlearn: 0.0244068\ttotal: 1.04s\tremaining: 1.07s\n",
      "493:\tlearn: 0.0244067\ttotal: 1.04s\tremaining: 1.07s\n",
      "494:\tlearn: 0.0244062\ttotal: 1.04s\tremaining: 1.07s\n",
      "495:\tlearn: 0.0244062\ttotal: 1.05s\tremaining: 1.06s\n",
      "496:\tlearn: 0.0244061\ttotal: 1.05s\tremaining: 1.06s\n",
      "497:\tlearn: 0.0244062\ttotal: 1.05s\tremaining: 1.06s\n",
      "498:\tlearn: 0.0244061\ttotal: 1.05s\tremaining: 1.06s\n",
      "499:\tlearn: 0.0244061\ttotal: 1.05s\tremaining: 1.05s\n",
      "500:\tlearn: 0.0244061\ttotal: 1.05s\tremaining: 1.05s\n",
      "501:\tlearn: 0.0244061\ttotal: 1.06s\tremaining: 1.05s\n",
      "502:\tlearn: 0.0244061\ttotal: 1.06s\tremaining: 1.05s\n",
      "503:\tlearn: 0.0244055\ttotal: 1.06s\tremaining: 1.04s\n",
      "504:\tlearn: 0.0244056\ttotal: 1.06s\tremaining: 1.04s\n",
      "505:\tlearn: 0.0244055\ttotal: 1.06s\tremaining: 1.04s\n",
      "506:\tlearn: 0.0244054\ttotal: 1.07s\tremaining: 1.04s\n",
      "507:\tlearn: 0.0244054\ttotal: 1.07s\tremaining: 1.03s\n",
      "508:\tlearn: 0.0244054\ttotal: 1.07s\tremaining: 1.03s\n",
      "509:\tlearn: 0.0244054\ttotal: 1.07s\tremaining: 1.03s\n",
      "510:\tlearn: 0.0244053\ttotal: 1.07s\tremaining: 1.03s\n",
      "511:\tlearn: 0.0244053\ttotal: 1.07s\tremaining: 1.02s\n",
      "512:\tlearn: 0.0244053\ttotal: 1.08s\tremaining: 1.02s\n",
      "513:\tlearn: 0.0244053\ttotal: 1.08s\tremaining: 1.02s\n",
      "514:\tlearn: 0.0244052\ttotal: 1.08s\tremaining: 1.02s\n",
      "515:\tlearn: 0.0244053\ttotal: 1.08s\tremaining: 1.01s\n",
      "516:\tlearn: 0.0244052\ttotal: 1.08s\tremaining: 1.01s\n",
      "517:\tlearn: 0.0244052\ttotal: 1.08s\tremaining: 1.01s\n",
      "518:\tlearn: 0.0244052\ttotal: 1.09s\tremaining: 1.01s\n",
      "519:\tlearn: 0.0244052\ttotal: 1.09s\tremaining: 1s\n",
      "520:\tlearn: 0.0244052\ttotal: 1.09s\tremaining: 1s\n",
      "521:\tlearn: 0.0244052\ttotal: 1.09s\tremaining: 1s\n",
      "522:\tlearn: 0.0243912\ttotal: 1.09s\tremaining: 998ms\n",
      "523:\tlearn: 0.0243911\ttotal: 1.09s\tremaining: 996ms\n",
      "524:\tlearn: 0.0243911\ttotal: 1.1s\tremaining: 993ms\n",
      "525:\tlearn: 0.0243307\ttotal: 1.1s\tremaining: 991ms\n",
      "526:\tlearn: 0.0243306\ttotal: 1.1s\tremaining: 989ms\n",
      "527:\tlearn: 0.0243306\ttotal: 1.1s\tremaining: 986ms\n",
      "528:\tlearn: 0.0243305\ttotal: 1.1s\tremaining: 984ms\n",
      "529:\tlearn: 0.0243305\ttotal: 1.11s\tremaining: 981ms\n",
      "530:\tlearn: 0.0243304\ttotal: 1.11s\tremaining: 979ms\n",
      "531:\tlearn: 0.0243303\ttotal: 1.11s\tremaining: 977ms\n",
      "532:\tlearn: 0.0243303\ttotal: 1.11s\tremaining: 974ms\n",
      "533:\tlearn: 0.0243302\ttotal: 1.11s\tremaining: 972ms\n",
      "534:\tlearn: 0.0243302\ttotal: 1.11s\tremaining: 970ms\n",
      "535:\tlearn: 0.0243303\ttotal: 1.12s\tremaining: 967ms\n",
      "536:\tlearn: 0.0243301\ttotal: 1.12s\tremaining: 965ms\n",
      "537:\tlearn: 0.0243301\ttotal: 1.12s\tremaining: 963ms\n",
      "538:\tlearn: 0.0243300\ttotal: 1.12s\tremaining: 960ms\n",
      "539:\tlearn: 0.0243301\ttotal: 1.12s\tremaining: 958ms\n",
      "540:\tlearn: 0.0243299\ttotal: 1.13s\tremaining: 956ms\n",
      "541:\tlearn: 0.0243298\ttotal: 1.13s\tremaining: 953ms\n",
      "542:\tlearn: 0.0243298\ttotal: 1.13s\tremaining: 951ms\n",
      "543:\tlearn: 0.0243297\ttotal: 1.13s\tremaining: 949ms\n",
      "544:\tlearn: 0.0243297\ttotal: 1.13s\tremaining: 947ms\n",
      "545:\tlearn: 0.0243296\ttotal: 1.14s\tremaining: 944ms\n",
      "546:\tlearn: 0.0243295\ttotal: 1.14s\tremaining: 942ms\n",
      "547:\tlearn: 0.0243295\ttotal: 1.14s\tremaining: 940ms\n",
      "548:\tlearn: 0.0243295\ttotal: 1.14s\tremaining: 937ms\n",
      "549:\tlearn: 0.0243295\ttotal: 1.14s\tremaining: 935ms\n",
      "550:\tlearn: 0.0243295\ttotal: 1.14s\tremaining: 933ms\n",
      "551:\tlearn: 0.0243294\ttotal: 1.15s\tremaining: 931ms\n",
      "552:\tlearn: 0.0243293\ttotal: 1.15s\tremaining: 929ms\n",
      "553:\tlearn: 0.0243292\ttotal: 1.15s\tremaining: 926ms\n",
      "554:\tlearn: 0.0243292\ttotal: 1.15s\tremaining: 924ms\n",
      "555:\tlearn: 0.0243292\ttotal: 1.15s\tremaining: 922ms\n",
      "556:\tlearn: 0.0243283\ttotal: 1.16s\tremaining: 920ms\n",
      "557:\tlearn: 0.0243283\ttotal: 1.16s\tremaining: 917ms\n",
      "558:\tlearn: 0.0243283\ttotal: 1.16s\tremaining: 915ms\n",
      "559:\tlearn: 0.0243283\ttotal: 1.16s\tremaining: 913ms\n",
      "560:\tlearn: 0.0243282\ttotal: 1.16s\tremaining: 910ms\n",
      "561:\tlearn: 0.0243281\ttotal: 1.17s\tremaining: 908ms\n",
      "562:\tlearn: 0.0243281\ttotal: 1.17s\tremaining: 906ms\n",
      "563:\tlearn: 0.0243281\ttotal: 1.17s\tremaining: 904ms\n",
      "564:\tlearn: 0.0243281\ttotal: 1.17s\tremaining: 902ms\n",
      "565:\tlearn: 0.0243281\ttotal: 1.17s\tremaining: 899ms\n",
      "566:\tlearn: 0.0243279\ttotal: 1.17s\tremaining: 897ms\n",
      "567:\tlearn: 0.0243279\ttotal: 1.18s\tremaining: 895ms\n",
      "568:\tlearn: 0.0243278\ttotal: 1.18s\tremaining: 893ms\n",
      "569:\tlearn: 0.0243277\ttotal: 1.18s\tremaining: 890ms\n",
      "570:\tlearn: 0.0243275\ttotal: 1.18s\tremaining: 888ms\n",
      "571:\tlearn: 0.0243275\ttotal: 1.18s\tremaining: 886ms\n",
      "572:\tlearn: 0.0243276\ttotal: 1.19s\tremaining: 884ms\n",
      "573:\tlearn: 0.0243199\ttotal: 1.19s\tremaining: 881ms\n",
      "574:\tlearn: 0.0243198\ttotal: 1.19s\tremaining: 879ms\n",
      "575:\tlearn: 0.0243196\ttotal: 1.19s\tremaining: 877ms\n",
      "576:\tlearn: 0.0243180\ttotal: 1.19s\tremaining: 875ms\n",
      "577:\tlearn: 0.0243179\ttotal: 1.2s\tremaining: 873ms\n",
      "578:\tlearn: 0.0243176\ttotal: 1.2s\tremaining: 870ms\n",
      "579:\tlearn: 0.0243175\ttotal: 1.2s\tremaining: 868ms\n",
      "580:\tlearn: 0.0243173\ttotal: 1.2s\tremaining: 866ms\n",
      "581:\tlearn: 0.0243173\ttotal: 1.2s\tremaining: 864ms\n",
      "582:\tlearn: 0.0243170\ttotal: 1.2s\tremaining: 862ms\n",
      "583:\tlearn: 0.0243170\ttotal: 1.21s\tremaining: 859ms\n",
      "584:\tlearn: 0.0243169\ttotal: 1.21s\tremaining: 857ms\n",
      "585:\tlearn: 0.0243168\ttotal: 1.21s\tremaining: 855ms\n",
      "586:\tlearn: 0.0243164\ttotal: 1.21s\tremaining: 853ms\n",
      "587:\tlearn: 0.0243163\ttotal: 1.21s\tremaining: 850ms\n",
      "588:\tlearn: 0.0243163\ttotal: 1.22s\tremaining: 848ms\n",
      "589:\tlearn: 0.0243135\ttotal: 1.22s\tremaining: 846ms\n",
      "590:\tlearn: 0.0243135\ttotal: 1.22s\tremaining: 843ms\n",
      "591:\tlearn: 0.0243132\ttotal: 1.22s\tremaining: 841ms\n",
      "592:\tlearn: 0.0243131\ttotal: 1.22s\tremaining: 839ms\n",
      "593:\tlearn: 0.0243049\ttotal: 1.22s\tremaining: 837ms\n",
      "594:\tlearn: 0.0243048\ttotal: 1.23s\tremaining: 834ms\n",
      "595:\tlearn: 0.0243048\ttotal: 1.23s\tremaining: 832ms\n",
      "596:\tlearn: 0.0243048\ttotal: 1.23s\tremaining: 830ms\n",
      "597:\tlearn: 0.0243041\ttotal: 1.23s\tremaining: 828ms\n",
      "598:\tlearn: 0.0243040\ttotal: 1.23s\tremaining: 825ms\n",
      "599:\tlearn: 0.0243040\ttotal: 1.23s\tremaining: 823ms\n",
      "600:\tlearn: 0.0243039\ttotal: 1.24s\tremaining: 821ms\n",
      "601:\tlearn: 0.0243028\ttotal: 1.24s\tremaining: 819ms\n",
      "602:\tlearn: 0.0243027\ttotal: 1.24s\tremaining: 816ms\n",
      "603:\tlearn: 0.0243027\ttotal: 1.24s\tremaining: 814ms\n",
      "604:\tlearn: 0.0243026\ttotal: 1.24s\tremaining: 812ms\n",
      "605:\tlearn: 0.0243026\ttotal: 1.25s\tremaining: 810ms\n",
      "606:\tlearn: 0.0243025\ttotal: 1.25s\tremaining: 807ms\n",
      "607:\tlearn: 0.0243024\ttotal: 1.25s\tremaining: 805ms\n",
      "608:\tlearn: 0.0243024\ttotal: 1.25s\tremaining: 803ms\n",
      "609:\tlearn: 0.0243024\ttotal: 1.25s\tremaining: 801ms\n",
      "610:\tlearn: 0.0243024\ttotal: 1.25s\tremaining: 798ms\n",
      "611:\tlearn: 0.0243022\ttotal: 1.26s\tremaining: 796ms\n",
      "612:\tlearn: 0.0243021\ttotal: 1.26s\tremaining: 794ms\n",
      "613:\tlearn: 0.0243020\ttotal: 1.26s\tremaining: 792ms\n",
      "614:\tlearn: 0.0243020\ttotal: 1.26s\tremaining: 790ms\n",
      "615:\tlearn: 0.0243020\ttotal: 1.26s\tremaining: 788ms\n",
      "616:\tlearn: 0.0243019\ttotal: 1.26s\tremaining: 785ms\n",
      "617:\tlearn: 0.0243018\ttotal: 1.27s\tremaining: 783ms\n",
      "618:\tlearn: 0.0243018\ttotal: 1.27s\tremaining: 781ms\n",
      "619:\tlearn: 0.0243008\ttotal: 1.27s\tremaining: 779ms\n",
      "620:\tlearn: 0.0243008\ttotal: 1.27s\tremaining: 777ms\n",
      "621:\tlearn: 0.0243008\ttotal: 1.27s\tremaining: 774ms\n",
      "622:\tlearn: 0.0243007\ttotal: 1.28s\tremaining: 772ms\n",
      "623:\tlearn: 0.0243007\ttotal: 1.28s\tremaining: 770ms\n",
      "624:\tlearn: 0.0243007\ttotal: 1.28s\tremaining: 768ms\n",
      "625:\tlearn: 0.0243006\ttotal: 1.28s\tremaining: 766ms\n",
      "626:\tlearn: 0.0243006\ttotal: 1.28s\tremaining: 764ms\n",
      "627:\tlearn: 0.0243006\ttotal: 1.28s\tremaining: 761ms\n",
      "628:\tlearn: 0.0243005\ttotal: 1.29s\tremaining: 759ms\n",
      "629:\tlearn: 0.0243006\ttotal: 1.29s\tremaining: 757ms\n",
      "630:\tlearn: 0.0243004\ttotal: 1.29s\tremaining: 755ms\n",
      "631:\tlearn: 0.0243004\ttotal: 1.29s\tremaining: 753ms\n",
      "632:\tlearn: 0.0243003\ttotal: 1.29s\tremaining: 750ms\n",
      "633:\tlearn: 0.0243004\ttotal: 1.3s\tremaining: 748ms\n",
      "634:\tlearn: 0.0243002\ttotal: 1.3s\tremaining: 746ms\n",
      "635:\tlearn: 0.0243002\ttotal: 1.3s\tremaining: 744ms\n",
      "636:\tlearn: 0.0243001\ttotal: 1.3s\tremaining: 742ms\n",
      "637:\tlearn: 0.0242999\ttotal: 1.3s\tremaining: 740ms\n",
      "638:\tlearn: 0.0242996\ttotal: 1.3s\tremaining: 738ms\n",
      "639:\tlearn: 0.0242995\ttotal: 1.31s\tremaining: 735ms\n",
      "640:\tlearn: 0.0242994\ttotal: 1.31s\tremaining: 733ms\n",
      "641:\tlearn: 0.0242994\ttotal: 1.31s\tremaining: 731ms\n",
      "642:\tlearn: 0.0242991\ttotal: 1.31s\tremaining: 729ms\n",
      "643:\tlearn: 0.0242991\ttotal: 1.31s\tremaining: 727ms\n",
      "644:\tlearn: 0.0242988\ttotal: 1.32s\tremaining: 725ms\n",
      "645:\tlearn: 0.0242987\ttotal: 1.32s\tremaining: 723ms\n",
      "646:\tlearn: 0.0242987\ttotal: 1.32s\tremaining: 720ms\n",
      "647:\tlearn: 0.0242986\ttotal: 1.32s\tremaining: 719ms\n",
      "648:\tlearn: 0.0242985\ttotal: 1.32s\tremaining: 716ms\n",
      "649:\tlearn: 0.0242984\ttotal: 1.33s\tremaining: 714ms\n",
      "650:\tlearn: 0.0242984\ttotal: 1.33s\tremaining: 712ms\n",
      "651:\tlearn: 0.0242982\ttotal: 1.33s\tremaining: 710ms\n",
      "652:\tlearn: 0.0242983\ttotal: 1.33s\tremaining: 708ms\n",
      "653:\tlearn: 0.0242982\ttotal: 1.33s\tremaining: 706ms\n",
      "654:\tlearn: 0.0242981\ttotal: 1.33s\tremaining: 704ms\n",
      "655:\tlearn: 0.0242981\ttotal: 1.34s\tremaining: 701ms\n",
      "656:\tlearn: 0.0242981\ttotal: 1.34s\tremaining: 699ms\n",
      "657:\tlearn: 0.0242981\ttotal: 1.34s\tremaining: 697ms\n",
      "658:\tlearn: 0.0242980\ttotal: 1.34s\tremaining: 695ms\n",
      "659:\tlearn: 0.0242980\ttotal: 1.34s\tremaining: 693ms\n",
      "660:\tlearn: 0.0242980\ttotal: 1.35s\tremaining: 691ms\n",
      "661:\tlearn: 0.0242979\ttotal: 1.35s\tremaining: 689ms\n",
      "662:\tlearn: 0.0242974\ttotal: 1.35s\tremaining: 687ms\n",
      "663:\tlearn: 0.0241652\ttotal: 1.35s\tremaining: 685ms\n",
      "664:\tlearn: 0.0241377\ttotal: 1.35s\tremaining: 683ms\n",
      "665:\tlearn: 0.0241376\ttotal: 1.36s\tremaining: 680ms\n",
      "666:\tlearn: 0.0241371\ttotal: 1.36s\tremaining: 678ms\n",
      "667:\tlearn: 0.0241372\ttotal: 1.36s\tremaining: 676ms\n",
      "668:\tlearn: 0.0241372\ttotal: 1.36s\tremaining: 674ms\n",
      "669:\tlearn: 0.0241371\ttotal: 1.36s\tremaining: 672ms\n",
      "670:\tlearn: 0.0241370\ttotal: 1.37s\tremaining: 670ms\n",
      "671:\tlearn: 0.0241371\ttotal: 1.37s\tremaining: 668ms\n",
      "672:\tlearn: 0.0241369\ttotal: 1.37s\tremaining: 666ms\n",
      "673:\tlearn: 0.0241370\ttotal: 1.37s\tremaining: 663ms\n",
      "674:\tlearn: 0.0241370\ttotal: 1.37s\tremaining: 661ms\n",
      "675:\tlearn: 0.0241369\ttotal: 1.38s\tremaining: 659ms\n",
      "676:\tlearn: 0.0241369\ttotal: 1.38s\tremaining: 657ms\n",
      "677:\tlearn: 0.0241366\ttotal: 1.38s\tremaining: 655ms\n",
      "678:\tlearn: 0.0241365\ttotal: 1.38s\tremaining: 653ms\n",
      "679:\tlearn: 0.0241365\ttotal: 1.38s\tremaining: 651ms\n",
      "680:\tlearn: 0.0241364\ttotal: 1.38s\tremaining: 649ms\n",
      "681:\tlearn: 0.0241364\ttotal: 1.39s\tremaining: 646ms\n",
      "682:\tlearn: 0.0241364\ttotal: 1.39s\tremaining: 644ms\n",
      "683:\tlearn: 0.0241364\ttotal: 1.39s\tremaining: 642ms\n",
      "684:\tlearn: 0.0241364\ttotal: 1.39s\tremaining: 640ms\n",
      "685:\tlearn: 0.0241363\ttotal: 1.39s\tremaining: 638ms\n",
      "686:\tlearn: 0.0241363\ttotal: 1.4s\tremaining: 636ms\n",
      "687:\tlearn: 0.0241363\ttotal: 1.4s\tremaining: 634ms\n",
      "688:\tlearn: 0.0241360\ttotal: 1.4s\tremaining: 631ms\n",
      "689:\tlearn: 0.0241359\ttotal: 1.4s\tremaining: 629ms\n",
      "690:\tlearn: 0.0241359\ttotal: 1.4s\tremaining: 627ms\n",
      "691:\tlearn: 0.0241356\ttotal: 1.4s\tremaining: 625ms\n",
      "692:\tlearn: 0.0241355\ttotal: 1.41s\tremaining: 623ms\n",
      "693:\tlearn: 0.0241354\ttotal: 1.41s\tremaining: 621ms\n",
      "694:\tlearn: 0.0241354\ttotal: 1.41s\tremaining: 619ms\n",
      "695:\tlearn: 0.0241353\ttotal: 1.41s\tremaining: 616ms\n",
      "696:\tlearn: 0.0241353\ttotal: 1.41s\tremaining: 614ms\n",
      "697:\tlearn: 0.0241353\ttotal: 1.41s\tremaining: 612ms\n",
      "698:\tlearn: 0.0241353\ttotal: 1.42s\tremaining: 610ms\n",
      "699:\tlearn: 0.0241350\ttotal: 1.42s\tremaining: 608ms\n",
      "700:\tlearn: 0.0241350\ttotal: 1.42s\tremaining: 606ms\n",
      "701:\tlearn: 0.0241349\ttotal: 1.42s\tremaining: 604ms\n",
      "702:\tlearn: 0.0241349\ttotal: 1.42s\tremaining: 602ms\n",
      "703:\tlearn: 0.0241348\ttotal: 1.43s\tremaining: 599ms\n",
      "704:\tlearn: 0.0241347\ttotal: 1.43s\tremaining: 597ms\n",
      "705:\tlearn: 0.0241347\ttotal: 1.43s\tremaining: 595ms\n",
      "706:\tlearn: 0.0241347\ttotal: 1.43s\tremaining: 593ms\n",
      "707:\tlearn: 0.0241345\ttotal: 1.43s\tremaining: 591ms\n",
      "708:\tlearn: 0.0241345\ttotal: 1.43s\tremaining: 589ms\n",
      "709:\tlearn: 0.0241344\ttotal: 1.44s\tremaining: 587ms\n",
      "710:\tlearn: 0.0241343\ttotal: 1.44s\tremaining: 585ms\n",
      "711:\tlearn: 0.0241343\ttotal: 1.44s\tremaining: 583ms\n",
      "712:\tlearn: 0.0241341\ttotal: 1.44s\tremaining: 580ms\n",
      "713:\tlearn: 0.0241341\ttotal: 1.44s\tremaining: 578ms\n",
      "714:\tlearn: 0.0241340\ttotal: 1.45s\tremaining: 576ms\n",
      "715:\tlearn: 0.0241339\ttotal: 1.45s\tremaining: 574ms\n",
      "716:\tlearn: 0.0241340\ttotal: 1.45s\tremaining: 572ms\n",
      "717:\tlearn: 0.0241340\ttotal: 1.45s\tremaining: 570ms\n",
      "718:\tlearn: 0.0241339\ttotal: 1.45s\tremaining: 568ms\n",
      "719:\tlearn: 0.0241338\ttotal: 1.45s\tremaining: 566ms\n",
      "720:\tlearn: 0.0241339\ttotal: 1.46s\tremaining: 564ms\n",
      "721:\tlearn: 0.0241335\ttotal: 1.46s\tremaining: 562ms\n",
      "722:\tlearn: 0.0241334\ttotal: 1.46s\tremaining: 560ms\n",
      "723:\tlearn: 0.0241334\ttotal: 1.46s\tremaining: 558ms\n",
      "724:\tlearn: 0.0241334\ttotal: 1.46s\tremaining: 556ms\n",
      "725:\tlearn: 0.0241332\ttotal: 1.47s\tremaining: 554ms\n",
      "726:\tlearn: 0.0241332\ttotal: 1.47s\tremaining: 551ms\n",
      "727:\tlearn: 0.0241332\ttotal: 1.47s\tremaining: 549ms\n",
      "728:\tlearn: 0.0241331\ttotal: 1.47s\tremaining: 547ms\n",
      "729:\tlearn: 0.0241331\ttotal: 1.47s\tremaining: 545ms\n",
      "730:\tlearn: 0.0241331\ttotal: 1.48s\tremaining: 543ms\n",
      "731:\tlearn: 0.0241321\ttotal: 1.48s\tremaining: 541ms\n",
      "732:\tlearn: 0.0241321\ttotal: 1.48s\tremaining: 539ms\n",
      "733:\tlearn: 0.0241321\ttotal: 1.48s\tremaining: 537ms\n",
      "734:\tlearn: 0.0241320\ttotal: 1.48s\tremaining: 535ms\n",
      "735:\tlearn: 0.0241320\ttotal: 1.49s\tremaining: 533ms\n",
      "736:\tlearn: 0.0241320\ttotal: 1.49s\tremaining: 531ms\n",
      "737:\tlearn: 0.0241320\ttotal: 1.49s\tremaining: 529ms\n",
      "738:\tlearn: 0.0241319\ttotal: 1.49s\tremaining: 527ms\n",
      "739:\tlearn: 0.0241319\ttotal: 1.49s\tremaining: 525ms\n",
      "740:\tlearn: 0.0241318\ttotal: 1.49s\tremaining: 522ms\n",
      "741:\tlearn: 0.0241318\ttotal: 1.5s\tremaining: 520ms\n",
      "742:\tlearn: 0.0241315\ttotal: 1.5s\tremaining: 518ms\n",
      "743:\tlearn: 0.0241314\ttotal: 1.5s\tremaining: 516ms\n",
      "744:\tlearn: 0.0241314\ttotal: 1.5s\tremaining: 514ms\n",
      "745:\tlearn: 0.0241314\ttotal: 1.5s\tremaining: 512ms\n",
      "746:\tlearn: 0.0241313\ttotal: 1.5s\tremaining: 510ms\n",
      "747:\tlearn: 0.0241313\ttotal: 1.51s\tremaining: 508ms\n",
      "748:\tlearn: 0.0241312\ttotal: 1.51s\tremaining: 506ms\n",
      "749:\tlearn: 0.0241312\ttotal: 1.51s\tremaining: 504ms\n",
      "750:\tlearn: 0.0241312\ttotal: 1.51s\tremaining: 502ms\n",
      "751:\tlearn: 0.0241311\ttotal: 1.51s\tremaining: 499ms\n",
      "752:\tlearn: 0.0241311\ttotal: 1.52s\tremaining: 497ms\n",
      "753:\tlearn: 0.0241310\ttotal: 1.52s\tremaining: 495ms\n",
      "754:\tlearn: 0.0241309\ttotal: 1.52s\tremaining: 493ms\n",
      "755:\tlearn: 0.0241309\ttotal: 1.52s\tremaining: 491ms\n",
      "756:\tlearn: 0.0241309\ttotal: 1.52s\tremaining: 489ms\n",
      "757:\tlearn: 0.0241309\ttotal: 1.52s\tremaining: 487ms\n",
      "758:\tlearn: 0.0241305\ttotal: 1.53s\tremaining: 485ms\n",
      "759:\tlearn: 0.0241304\ttotal: 1.53s\tremaining: 483ms\n",
      "760:\tlearn: 0.0241304\ttotal: 1.53s\tremaining: 481ms\n",
      "761:\tlearn: 0.0241303\ttotal: 1.53s\tremaining: 479ms\n",
      "762:\tlearn: 0.0241303\ttotal: 1.53s\tremaining: 477ms\n",
      "763:\tlearn: 0.0241302\ttotal: 1.54s\tremaining: 475ms\n",
      "764:\tlearn: 0.0241301\ttotal: 1.54s\tremaining: 473ms\n",
      "765:\tlearn: 0.0241301\ttotal: 1.54s\tremaining: 471ms\n",
      "766:\tlearn: 0.0241301\ttotal: 1.54s\tremaining: 469ms\n",
      "767:\tlearn: 0.0241300\ttotal: 1.54s\tremaining: 467ms\n",
      "768:\tlearn: 0.0241299\ttotal: 1.55s\tremaining: 465ms\n",
      "769:\tlearn: 0.0241298\ttotal: 1.55s\tremaining: 462ms\n",
      "770:\tlearn: 0.0241297\ttotal: 1.55s\tremaining: 460ms\n",
      "771:\tlearn: 0.0241297\ttotal: 1.55s\tremaining: 458ms\n",
      "772:\tlearn: 0.0241296\ttotal: 1.55s\tremaining: 456ms\n",
      "773:\tlearn: 0.0241296\ttotal: 1.55s\tremaining: 454ms\n",
      "774:\tlearn: 0.0241296\ttotal: 1.56s\tremaining: 452ms\n",
      "775:\tlearn: 0.0241296\ttotal: 1.56s\tremaining: 450ms\n",
      "776:\tlearn: 0.0241296\ttotal: 1.56s\tremaining: 448ms\n",
      "777:\tlearn: 0.0241296\ttotal: 1.56s\tremaining: 446ms\n",
      "778:\tlearn: 0.0241294\ttotal: 1.56s\tremaining: 444ms\n",
      "779:\tlearn: 0.0241294\ttotal: 1.57s\tremaining: 442ms\n",
      "780:\tlearn: 0.0241284\ttotal: 1.57s\tremaining: 440ms\n",
      "781:\tlearn: 0.0241284\ttotal: 1.57s\tremaining: 438ms\n",
      "782:\tlearn: 0.0241283\ttotal: 1.57s\tremaining: 436ms\n",
      "783:\tlearn: 0.0241283\ttotal: 1.57s\tremaining: 434ms\n",
      "784:\tlearn: 0.0241283\ttotal: 1.57s\tremaining: 432ms\n",
      "785:\tlearn: 0.0241282\ttotal: 1.58s\tremaining: 430ms\n",
      "786:\tlearn: 0.0241282\ttotal: 1.58s\tremaining: 428ms\n",
      "787:\tlearn: 0.0241281\ttotal: 1.58s\tremaining: 425ms\n",
      "788:\tlearn: 0.0241281\ttotal: 1.58s\tremaining: 423ms\n",
      "789:\tlearn: 0.0241282\ttotal: 1.58s\tremaining: 421ms\n",
      "790:\tlearn: 0.0241281\ttotal: 1.59s\tremaining: 419ms\n",
      "791:\tlearn: 0.0241277\ttotal: 1.59s\tremaining: 417ms\n",
      "792:\tlearn: 0.0241276\ttotal: 1.59s\tremaining: 415ms\n",
      "793:\tlearn: 0.0241277\ttotal: 1.59s\tremaining: 413ms\n",
      "794:\tlearn: 0.0241276\ttotal: 1.59s\tremaining: 411ms\n",
      "795:\tlearn: 0.0241276\ttotal: 1.59s\tremaining: 409ms\n",
      "796:\tlearn: 0.0241276\ttotal: 1.6s\tremaining: 407ms\n",
      "797:\tlearn: 0.0241276\ttotal: 1.6s\tremaining: 405ms\n",
      "798:\tlearn: 0.0241275\ttotal: 1.6s\tremaining: 403ms\n",
      "799:\tlearn: 0.0241275\ttotal: 1.6s\tremaining: 401ms\n",
      "800:\tlearn: 0.0241274\ttotal: 1.6s\tremaining: 399ms\n",
      "801:\tlearn: 0.0241275\ttotal: 1.61s\tremaining: 397ms\n",
      "802:\tlearn: 0.0241274\ttotal: 1.61s\tremaining: 395ms\n",
      "803:\tlearn: 0.0241273\ttotal: 1.61s\tremaining: 393ms\n",
      "804:\tlearn: 0.0241273\ttotal: 1.61s\tremaining: 390ms\n",
      "805:\tlearn: 0.0241273\ttotal: 1.61s\tremaining: 388ms\n",
      "806:\tlearn: 0.0241273\ttotal: 1.61s\tremaining: 386ms\n",
      "807:\tlearn: 0.0241272\ttotal: 1.62s\tremaining: 384ms\n",
      "808:\tlearn: 0.0241272\ttotal: 1.62s\tremaining: 382ms\n",
      "809:\tlearn: 0.0241272\ttotal: 1.62s\tremaining: 380ms\n",
      "810:\tlearn: 0.0241272\ttotal: 1.62s\tremaining: 378ms\n",
      "811:\tlearn: 0.0241272\ttotal: 1.62s\tremaining: 376ms\n",
      "812:\tlearn: 0.0241271\ttotal: 1.63s\tremaining: 374ms\n",
      "813:\tlearn: 0.0241271\ttotal: 1.63s\tremaining: 372ms\n",
      "814:\tlearn: 0.0241134\ttotal: 1.63s\tremaining: 370ms\n",
      "815:\tlearn: 0.0241134\ttotal: 1.63s\tremaining: 368ms\n",
      "816:\tlearn: 0.0241134\ttotal: 1.63s\tremaining: 366ms\n",
      "817:\tlearn: 0.0241131\ttotal: 1.64s\tremaining: 364ms\n",
      "818:\tlearn: 0.0241131\ttotal: 1.64s\tremaining: 362ms\n",
      "819:\tlearn: 0.0241130\ttotal: 1.64s\tremaining: 360ms\n",
      "820:\tlearn: 0.0241130\ttotal: 1.64s\tremaining: 358ms\n",
      "821:\tlearn: 0.0241129\ttotal: 1.64s\tremaining: 356ms\n",
      "822:\tlearn: 0.0241129\ttotal: 1.64s\tremaining: 354ms\n",
      "823:\tlearn: 0.0241129\ttotal: 1.65s\tremaining: 352ms\n",
      "824:\tlearn: 0.0241127\ttotal: 1.65s\tremaining: 349ms\n",
      "825:\tlearn: 0.0241128\ttotal: 1.65s\tremaining: 347ms\n",
      "826:\tlearn: 0.0241127\ttotal: 1.65s\tremaining: 345ms\n",
      "827:\tlearn: 0.0241126\ttotal: 1.65s\tremaining: 343ms\n",
      "828:\tlearn: 0.0241126\ttotal: 1.65s\tremaining: 341ms\n",
      "829:\tlearn: 0.0241126\ttotal: 1.66s\tremaining: 339ms\n",
      "830:\tlearn: 0.0241125\ttotal: 1.66s\tremaining: 337ms\n",
      "831:\tlearn: 0.0241125\ttotal: 1.66s\tremaining: 335ms\n",
      "832:\tlearn: 0.0241125\ttotal: 1.66s\tremaining: 333ms\n",
      "833:\tlearn: 0.0241125\ttotal: 1.66s\tremaining: 331ms\n",
      "834:\tlearn: 0.0241124\ttotal: 1.67s\tremaining: 329ms\n",
      "835:\tlearn: 0.0241124\ttotal: 1.67s\tremaining: 327ms\n",
      "836:\tlearn: 0.0241124\ttotal: 1.67s\tremaining: 325ms\n",
      "837:\tlearn: 0.0241124\ttotal: 1.67s\tremaining: 323ms\n",
      "838:\tlearn: 0.0241123\ttotal: 1.67s\tremaining: 321ms\n",
      "839:\tlearn: 0.0241123\ttotal: 1.67s\tremaining: 319ms\n",
      "840:\tlearn: 0.0241119\ttotal: 1.68s\tremaining: 317ms\n",
      "841:\tlearn: 0.0241119\ttotal: 1.68s\tremaining: 315ms\n",
      "842:\tlearn: 0.0241119\ttotal: 1.68s\tremaining: 313ms\n",
      "843:\tlearn: 0.0241118\ttotal: 1.68s\tremaining: 311ms\n",
      "844:\tlearn: 0.0241045\ttotal: 1.68s\tremaining: 309ms\n",
      "845:\tlearn: 0.0241045\ttotal: 1.68s\tremaining: 307ms\n",
      "846:\tlearn: 0.0241045\ttotal: 1.69s\tremaining: 305ms\n",
      "847:\tlearn: 0.0241045\ttotal: 1.69s\tremaining: 303ms\n",
      "848:\tlearn: 0.0241044\ttotal: 1.69s\tremaining: 301ms\n",
      "849:\tlearn: 0.0241044\ttotal: 1.69s\tremaining: 299ms\n",
      "850:\tlearn: 0.0241044\ttotal: 1.69s\tremaining: 296ms\n",
      "851:\tlearn: 0.0241044\ttotal: 1.7s\tremaining: 294ms\n",
      "852:\tlearn: 0.0241044\ttotal: 1.7s\tremaining: 292ms\n",
      "853:\tlearn: 0.0241043\ttotal: 1.7s\tremaining: 290ms\n",
      "854:\tlearn: 0.0240699\ttotal: 1.7s\tremaining: 288ms\n",
      "855:\tlearn: 0.0240699\ttotal: 1.7s\tremaining: 286ms\n",
      "856:\tlearn: 0.0240699\ttotal: 1.7s\tremaining: 284ms\n",
      "857:\tlearn: 0.0240698\ttotal: 1.71s\tremaining: 282ms\n",
      "858:\tlearn: 0.0240698\ttotal: 1.71s\tremaining: 280ms\n",
      "859:\tlearn: 0.0240698\ttotal: 1.71s\tremaining: 278ms\n",
      "860:\tlearn: 0.0240698\ttotal: 1.71s\tremaining: 276ms\n",
      "861:\tlearn: 0.0240698\ttotal: 1.71s\tremaining: 274ms\n",
      "862:\tlearn: 0.0240697\ttotal: 1.72s\tremaining: 272ms\n",
      "863:\tlearn: 0.0240697\ttotal: 1.72s\tremaining: 270ms\n",
      "864:\tlearn: 0.0240697\ttotal: 1.72s\tremaining: 268ms\n",
      "865:\tlearn: 0.0240696\ttotal: 1.72s\tremaining: 266ms\n",
      "866:\tlearn: 0.0240697\ttotal: 1.72s\tremaining: 264ms\n",
      "867:\tlearn: 0.0240696\ttotal: 1.72s\tremaining: 262ms\n",
      "868:\tlearn: 0.0240696\ttotal: 1.73s\tremaining: 260ms\n",
      "869:\tlearn: 0.0240695\ttotal: 1.73s\tremaining: 258ms\n",
      "870:\tlearn: 0.0240695\ttotal: 1.73s\tremaining: 256ms\n",
      "871:\tlearn: 0.0240368\ttotal: 1.73s\tremaining: 254ms\n",
      "872:\tlearn: 0.0240169\ttotal: 1.73s\tremaining: 252ms\n",
      "873:\tlearn: 0.0240169\ttotal: 1.74s\tremaining: 250ms\n",
      "874:\tlearn: 0.0240059\ttotal: 1.74s\tremaining: 248ms\n",
      "875:\tlearn: 0.0240059\ttotal: 1.74s\tremaining: 246ms\n",
      "876:\tlearn: 0.0240059\ttotal: 1.74s\tremaining: 244ms\n",
      "877:\tlearn: 0.0240059\ttotal: 1.74s\tremaining: 242ms\n",
      "878:\tlearn: 0.0240058\ttotal: 1.75s\tremaining: 240ms\n",
      "879:\tlearn: 0.0240057\ttotal: 1.75s\tremaining: 238ms\n",
      "880:\tlearn: 0.0240057\ttotal: 1.75s\tremaining: 236ms\n",
      "881:\tlearn: 0.0240057\ttotal: 1.75s\tremaining: 234ms\n",
      "882:\tlearn: 0.0240056\ttotal: 1.75s\tremaining: 232ms\n",
      "883:\tlearn: 0.0240055\ttotal: 1.75s\tremaining: 230ms\n",
      "884:\tlearn: 0.0240055\ttotal: 1.76s\tremaining: 228ms\n",
      "885:\tlearn: 0.0240055\ttotal: 1.76s\tremaining: 226ms\n",
      "886:\tlearn: 0.0240053\ttotal: 1.76s\tremaining: 224ms\n",
      "887:\tlearn: 0.0240052\ttotal: 1.76s\tremaining: 222ms\n",
      "888:\tlearn: 0.0239829\ttotal: 1.76s\tremaining: 220ms\n",
      "889:\tlearn: 0.0239636\ttotal: 1.77s\tremaining: 218ms\n",
      "890:\tlearn: 0.0239257\ttotal: 1.77s\tremaining: 216ms\n",
      "891:\tlearn: 0.0239105\ttotal: 1.77s\tremaining: 214ms\n",
      "892:\tlearn: 0.0238672\ttotal: 1.77s\tremaining: 212ms\n",
      "893:\tlearn: 0.0238356\ttotal: 1.77s\tremaining: 210ms\n",
      "894:\tlearn: 0.0238355\ttotal: 1.78s\tremaining: 208ms\n",
      "895:\tlearn: 0.0238355\ttotal: 1.78s\tremaining: 206ms\n",
      "896:\tlearn: 0.0238354\ttotal: 1.78s\tremaining: 204ms\n",
      "897:\tlearn: 0.0238354\ttotal: 1.78s\tremaining: 202ms\n",
      "898:\tlearn: 0.0238354\ttotal: 1.78s\tremaining: 200ms\n",
      "899:\tlearn: 0.0238354\ttotal: 1.78s\tremaining: 198ms\n",
      "900:\tlearn: 0.0238354\ttotal: 1.79s\tremaining: 196ms\n",
      "901:\tlearn: 0.0238354\ttotal: 1.79s\tremaining: 194ms\n",
      "902:\tlearn: 0.0238353\ttotal: 1.79s\tremaining: 192ms\n",
      "903:\tlearn: 0.0238353\ttotal: 1.79s\tremaining: 190ms\n",
      "904:\tlearn: 0.0238354\ttotal: 1.79s\tremaining: 188ms\n",
      "905:\tlearn: 0.0238353\ttotal: 1.79s\tremaining: 186ms\n",
      "906:\tlearn: 0.0238353\ttotal: 1.8s\tremaining: 184ms\n",
      "907:\tlearn: 0.0238352\ttotal: 1.8s\tremaining: 182ms\n",
      "908:\tlearn: 0.0238352\ttotal: 1.8s\tremaining: 180ms\n",
      "909:\tlearn: 0.0238352\ttotal: 1.8s\tremaining: 178ms\n",
      "910:\tlearn: 0.0238352\ttotal: 1.8s\tremaining: 176ms\n",
      "911:\tlearn: 0.0238352\ttotal: 1.81s\tremaining: 174ms\n",
      "912:\tlearn: 0.0238352\ttotal: 1.81s\tremaining: 172ms\n",
      "913:\tlearn: 0.0238352\ttotal: 1.81s\tremaining: 170ms\n",
      "914:\tlearn: 0.0238352\ttotal: 1.81s\tremaining: 168ms\n",
      "915:\tlearn: 0.0238352\ttotal: 1.81s\tremaining: 166ms\n",
      "916:\tlearn: 0.0238352\ttotal: 1.81s\tremaining: 164ms\n",
      "917:\tlearn: 0.0238351\ttotal: 1.82s\tremaining: 162ms\n",
      "918:\tlearn: 0.0238352\ttotal: 1.82s\tremaining: 160ms\n",
      "919:\tlearn: 0.0238351\ttotal: 1.82s\tremaining: 158ms\n",
      "920:\tlearn: 0.0238351\ttotal: 1.82s\tremaining: 156ms\n",
      "921:\tlearn: 0.0238350\ttotal: 1.82s\tremaining: 154ms\n",
      "922:\tlearn: 0.0238350\ttotal: 1.82s\tremaining: 152ms\n",
      "923:\tlearn: 0.0238349\ttotal: 1.83s\tremaining: 150ms\n",
      "924:\tlearn: 0.0238350\ttotal: 1.83s\tremaining: 148ms\n",
      "925:\tlearn: 0.0238349\ttotal: 1.83s\tremaining: 146ms\n",
      "926:\tlearn: 0.0238348\ttotal: 1.83s\tremaining: 144ms\n",
      "927:\tlearn: 0.0238349\ttotal: 1.83s\tremaining: 142ms\n",
      "928:\tlearn: 0.0238348\ttotal: 1.83s\tremaining: 140ms\n",
      "929:\tlearn: 0.0238348\ttotal: 1.84s\tremaining: 138ms\n",
      "930:\tlearn: 0.0238348\ttotal: 1.84s\tremaining: 136ms\n",
      "931:\tlearn: 0.0238348\ttotal: 1.84s\tremaining: 134ms\n",
      "932:\tlearn: 0.0238348\ttotal: 1.84s\tremaining: 132ms\n",
      "933:\tlearn: 0.0238348\ttotal: 1.84s\tremaining: 130ms\n",
      "934:\tlearn: 0.0238347\ttotal: 1.85s\tremaining: 128ms\n",
      "935:\tlearn: 0.0238347\ttotal: 1.85s\tremaining: 126ms\n",
      "936:\tlearn: 0.0238346\ttotal: 1.85s\tremaining: 124ms\n",
      "937:\tlearn: 0.0238346\ttotal: 1.85s\tremaining: 122ms\n",
      "938:\tlearn: 0.0238339\ttotal: 1.85s\tremaining: 120ms\n",
      "939:\tlearn: 0.0238338\ttotal: 1.85s\tremaining: 118ms\n",
      "940:\tlearn: 0.0238333\ttotal: 1.86s\tremaining: 116ms\n",
      "941:\tlearn: 0.0238332\ttotal: 1.86s\tremaining: 114ms\n",
      "942:\tlearn: 0.0238331\ttotal: 1.86s\tremaining: 113ms\n",
      "943:\tlearn: 0.0238331\ttotal: 1.86s\tremaining: 111ms\n",
      "944:\tlearn: 0.0238331\ttotal: 1.86s\tremaining: 109ms\n",
      "945:\tlearn: 0.0238330\ttotal: 1.87s\tremaining: 107ms\n",
      "946:\tlearn: 0.0238330\ttotal: 1.87s\tremaining: 105ms\n",
      "947:\tlearn: 0.0238330\ttotal: 1.87s\tremaining: 103ms\n",
      "948:\tlearn: 0.0238330\ttotal: 1.87s\tremaining: 101ms\n",
      "949:\tlearn: 0.0238329\ttotal: 1.87s\tremaining: 98.6ms\n",
      "950:\tlearn: 0.0238329\ttotal: 1.88s\tremaining: 96.6ms\n",
      "951:\tlearn: 0.0238329\ttotal: 1.88s\tremaining: 94.7ms\n",
      "952:\tlearn: 0.0238328\ttotal: 1.88s\tremaining: 92.7ms\n",
      "953:\tlearn: 0.0238328\ttotal: 1.88s\tremaining: 90.7ms\n",
      "954:\tlearn: 0.0238328\ttotal: 1.88s\tremaining: 88.7ms\n",
      "955:\tlearn: 0.0238328\ttotal: 1.88s\tremaining: 86.8ms\n",
      "956:\tlearn: 0.0238327\ttotal: 1.89s\tremaining: 84.8ms\n",
      "957:\tlearn: 0.0238208\ttotal: 1.89s\tremaining: 82.8ms\n",
      "958:\tlearn: 0.0238207\ttotal: 1.89s\tremaining: 80.8ms\n",
      "959:\tlearn: 0.0238205\ttotal: 1.89s\tremaining: 78.8ms\n",
      "960:\tlearn: 0.0238205\ttotal: 1.89s\tremaining: 76.9ms\n",
      "961:\tlearn: 0.0238205\ttotal: 1.9s\tremaining: 74.9ms\n",
      "962:\tlearn: 0.0238204\ttotal: 1.9s\tremaining: 72.9ms\n",
      "963:\tlearn: 0.0238204\ttotal: 1.9s\tremaining: 70.9ms\n",
      "964:\tlearn: 0.0238204\ttotal: 1.9s\tremaining: 69ms\n",
      "965:\tlearn: 0.0238204\ttotal: 1.9s\tremaining: 67ms\n",
      "966:\tlearn: 0.0238203\ttotal: 1.9s\tremaining: 65ms\n",
      "967:\tlearn: 0.0238203\ttotal: 1.91s\tremaining: 63ms\n",
      "968:\tlearn: 0.0238203\ttotal: 1.91s\tremaining: 61.1ms\n",
      "969:\tlearn: 0.0238203\ttotal: 1.91s\tremaining: 59.1ms\n",
      "970:\tlearn: 0.0238203\ttotal: 1.91s\tremaining: 57.1ms\n",
      "971:\tlearn: 0.0238202\ttotal: 1.91s\tremaining: 55.2ms\n",
      "972:\tlearn: 0.0238202\ttotal: 1.92s\tremaining: 53.2ms\n",
      "973:\tlearn: 0.0238201\ttotal: 1.92s\tremaining: 51.2ms\n",
      "974:\tlearn: 0.0238200\ttotal: 1.92s\tremaining: 49.2ms\n",
      "975:\tlearn: 0.0238201\ttotal: 1.92s\tremaining: 47.3ms\n",
      "976:\tlearn: 0.0238201\ttotal: 1.92s\tremaining: 45.3ms\n",
      "977:\tlearn: 0.0238201\ttotal: 1.93s\tremaining: 43.3ms\n",
      "978:\tlearn: 0.0238200\ttotal: 1.93s\tremaining: 41.3ms\n",
      "979:\tlearn: 0.0238201\ttotal: 1.93s\tremaining: 39.4ms\n",
      "980:\tlearn: 0.0238201\ttotal: 1.93s\tremaining: 37.4ms\n",
      "981:\tlearn: 0.0238200\ttotal: 1.93s\tremaining: 35.4ms\n",
      "982:\tlearn: 0.0238200\ttotal: 1.93s\tremaining: 33.5ms\n",
      "983:\tlearn: 0.0238200\ttotal: 1.94s\tremaining: 31.5ms\n",
      "984:\tlearn: 0.0238201\ttotal: 1.94s\tremaining: 29.5ms\n",
      "985:\tlearn: 0.0238200\ttotal: 1.94s\tremaining: 27.5ms\n",
      "986:\tlearn: 0.0238201\ttotal: 1.94s\tremaining: 25.6ms\n",
      "987:\tlearn: 0.0238200\ttotal: 1.94s\tremaining: 23.6ms\n",
      "988:\tlearn: 0.0238200\ttotal: 1.95s\tremaining: 21.6ms\n",
      "989:\tlearn: 0.0238200\ttotal: 1.95s\tremaining: 19.7ms\n",
      "990:\tlearn: 0.0238199\ttotal: 1.95s\tremaining: 17.7ms\n",
      "991:\tlearn: 0.0238199\ttotal: 1.95s\tremaining: 15.7ms\n",
      "992:\tlearn: 0.0238199\ttotal: 1.95s\tremaining: 13.8ms\n",
      "993:\tlearn: 0.0238072\ttotal: 1.95s\tremaining: 11.8ms\n",
      "994:\tlearn: 0.0238014\ttotal: 1.96s\tremaining: 9.83ms\n",
      "995:\tlearn: 0.0238013\ttotal: 1.96s\tremaining: 7.87ms\n",
      "996:\tlearn: 0.0238013\ttotal: 1.96s\tremaining: 5.9ms\n",
      "997:\tlearn: 0.0238013\ttotal: 1.96s\tremaining: 3.93ms\n",
      "998:\tlearn: 0.0238013\ttotal: 1.96s\tremaining: 1.97ms\n",
      "999:\tlearn: 0.0238012\ttotal: 1.97s\tremaining: 0us\n",
      "0:\tlearn: 0.3845476\ttotal: 1.53ms\tremaining: 1.53s\n",
      "1:\tlearn: 0.2478145\ttotal: 3.58ms\tremaining: 1.78s\n",
      "2:\tlearn: 0.2135596\ttotal: 5.61ms\tremaining: 1.86s\n",
      "3:\tlearn: 0.1818398\ttotal: 7.61ms\tremaining: 1.9s\n",
      "4:\tlearn: 0.1686181\ttotal: 9.8ms\tremaining: 1.95s\n",
      "5:\tlearn: 0.1592721\ttotal: 11.7ms\tremaining: 1.93s\n",
      "6:\tlearn: 0.1474924\ttotal: 13.6ms\tremaining: 1.92s\n",
      "7:\tlearn: 0.1414747\ttotal: 15.7ms\tremaining: 1.95s\n",
      "8:\tlearn: 0.1357625\ttotal: 17.7ms\tremaining: 1.95s\n",
      "9:\tlearn: 0.1321128\ttotal: 19.6ms\tremaining: 1.94s\n",
      "10:\tlearn: 0.1257655\ttotal: 21.9ms\tremaining: 1.97s\n",
      "11:\tlearn: 0.1216562\ttotal: 23.9ms\tremaining: 1.97s\n",
      "12:\tlearn: 0.1180476\ttotal: 25.9ms\tremaining: 1.97s\n",
      "13:\tlearn: 0.1142198\ttotal: 28.4ms\tremaining: 2s\n",
      "14:\tlearn: 0.1103945\ttotal: 30.4ms\tremaining: 2s\n",
      "15:\tlearn: 0.1066945\ttotal: 32.4ms\tremaining: 2s\n",
      "16:\tlearn: 0.1037714\ttotal: 34.5ms\tremaining: 2s\n",
      "17:\tlearn: 0.1016935\ttotal: 36.6ms\tremaining: 2s\n",
      "18:\tlearn: 0.1001519\ttotal: 38.5ms\tremaining: 1.99s\n",
      "19:\tlearn: 0.0975475\ttotal: 40.4ms\tremaining: 1.98s\n",
      "20:\tlearn: 0.0960525\ttotal: 42.6ms\tremaining: 1.98s\n",
      "21:\tlearn: 0.0940876\ttotal: 44.6ms\tremaining: 1.98s\n",
      "22:\tlearn: 0.0927224\ttotal: 46.6ms\tremaining: 1.98s\n",
      "23:\tlearn: 0.0917693\ttotal: 48.9ms\tremaining: 1.99s\n",
      "24:\tlearn: 0.0893868\ttotal: 50.9ms\tremaining: 1.99s\n",
      "25:\tlearn: 0.0869753\ttotal: 52.9ms\tremaining: 1.98s\n",
      "26:\tlearn: 0.0868539\ttotal: 54.3ms\tremaining: 1.96s\n",
      "27:\tlearn: 0.0851336\ttotal: 56.3ms\tremaining: 1.95s\n",
      "28:\tlearn: 0.0840058\ttotal: 58.3ms\tremaining: 1.95s\n",
      "29:\tlearn: 0.0822894\ttotal: 60.4ms\tremaining: 1.95s\n",
      "30:\tlearn: 0.0809274\ttotal: 62.6ms\tremaining: 1.96s\n",
      "31:\tlearn: 0.0798100\ttotal: 64.6ms\tremaining: 1.95s\n",
      "32:\tlearn: 0.0790440\ttotal: 66.5ms\tremaining: 1.95s\n",
      "33:\tlearn: 0.0771472\ttotal: 69ms\tremaining: 1.96s\n",
      "34:\tlearn: 0.0762622\ttotal: 70.9ms\tremaining: 1.96s\n",
      "35:\tlearn: 0.0749734\ttotal: 72.9ms\tremaining: 1.95s\n",
      "36:\tlearn: 0.0740987\ttotal: 75ms\tremaining: 1.95s\n",
      "37:\tlearn: 0.0727211\ttotal: 77.1ms\tremaining: 1.95s\n",
      "38:\tlearn: 0.0717095\ttotal: 79ms\tremaining: 1.95s\n",
      "39:\tlearn: 0.0699837\ttotal: 80.9ms\tremaining: 1.94s\n",
      "40:\tlearn: 0.0691923\ttotal: 83.1ms\tremaining: 1.94s\n",
      "41:\tlearn: 0.0681980\ttotal: 85.1ms\tremaining: 1.94s\n",
      "42:\tlearn: 0.0672333\ttotal: 87ms\tremaining: 1.94s\n",
      "43:\tlearn: 0.0662232\ttotal: 89.2ms\tremaining: 1.94s\n",
      "44:\tlearn: 0.0653693\ttotal: 91.2ms\tremaining: 1.93s\n",
      "45:\tlearn: 0.0638391\ttotal: 93.2ms\tremaining: 1.93s\n",
      "46:\tlearn: 0.0631620\ttotal: 95.3ms\tremaining: 1.93s\n",
      "47:\tlearn: 0.0620032\ttotal: 97.3ms\tremaining: 1.93s\n",
      "48:\tlearn: 0.0614617\ttotal: 99.3ms\tremaining: 1.93s\n",
      "49:\tlearn: 0.0607977\ttotal: 101ms\tremaining: 1.93s\n",
      "50:\tlearn: 0.0603176\ttotal: 103ms\tremaining: 1.92s\n",
      "51:\tlearn: 0.0593076\ttotal: 105ms\tremaining: 1.92s\n",
      "52:\tlearn: 0.0585580\ttotal: 107ms\tremaining: 1.91s\n",
      "53:\tlearn: 0.0576754\ttotal: 109ms\tremaining: 1.92s\n",
      "54:\tlearn: 0.0571976\ttotal: 111ms\tremaining: 1.91s\n",
      "55:\tlearn: 0.0566372\ttotal: 113ms\tremaining: 1.91s\n",
      "56:\tlearn: 0.0563783\ttotal: 116ms\tremaining: 1.91s\n",
      "57:\tlearn: 0.0560215\ttotal: 118ms\tremaining: 1.91s\n",
      "58:\tlearn: 0.0553153\ttotal: 120ms\tremaining: 1.91s\n",
      "59:\tlearn: 0.0545463\ttotal: 122ms\tremaining: 1.91s\n",
      "60:\tlearn: 0.0536112\ttotal: 124ms\tremaining: 1.91s\n",
      "61:\tlearn: 0.0529433\ttotal: 126ms\tremaining: 1.91s\n",
      "62:\tlearn: 0.0524823\ttotal: 128ms\tremaining: 1.91s\n",
      "63:\tlearn: 0.0524268\ttotal: 130ms\tremaining: 1.9s\n",
      "64:\tlearn: 0.0518590\ttotal: 132ms\tremaining: 1.9s\n",
      "65:\tlearn: 0.0509857\ttotal: 135ms\tremaining: 1.9s\n",
      "66:\tlearn: 0.0504512\ttotal: 137ms\tremaining: 1.9s\n",
      "67:\tlearn: 0.0500767\ttotal: 139ms\tremaining: 1.9s\n",
      "68:\tlearn: 0.0498318\ttotal: 141ms\tremaining: 1.9s\n",
      "69:\tlearn: 0.0494233\ttotal: 144ms\tremaining: 1.91s\n",
      "70:\tlearn: 0.0488690\ttotal: 146ms\tremaining: 1.91s\n",
      "71:\tlearn: 0.0488282\ttotal: 147ms\tremaining: 1.9s\n",
      "72:\tlearn: 0.0484463\ttotal: 149ms\tremaining: 1.9s\n",
      "73:\tlearn: 0.0481954\ttotal: 151ms\tremaining: 1.89s\n",
      "74:\tlearn: 0.0478540\ttotal: 153ms\tremaining: 1.89s\n",
      "75:\tlearn: 0.0468178\ttotal: 155ms\tremaining: 1.89s\n",
      "76:\tlearn: 0.0461962\ttotal: 157ms\tremaining: 1.89s\n",
      "77:\tlearn: 0.0456712\ttotal: 159ms\tremaining: 1.88s\n",
      "78:\tlearn: 0.0455053\ttotal: 161ms\tremaining: 1.88s\n",
      "79:\tlearn: 0.0449999\ttotal: 164ms\tremaining: 1.88s\n",
      "80:\tlearn: 0.0444461\ttotal: 166ms\tremaining: 1.88s\n",
      "81:\tlearn: 0.0441061\ttotal: 168ms\tremaining: 1.88s\n",
      "82:\tlearn: 0.0435979\ttotal: 170ms\tremaining: 1.88s\n",
      "83:\tlearn: 0.0434095\ttotal: 172ms\tremaining: 1.87s\n",
      "84:\tlearn: 0.0431610\ttotal: 174ms\tremaining: 1.87s\n",
      "85:\tlearn: 0.0428605\ttotal: 176ms\tremaining: 1.87s\n",
      "86:\tlearn: 0.0421584\ttotal: 178ms\tremaining: 1.87s\n",
      "87:\tlearn: 0.0419069\ttotal: 180ms\tremaining: 1.86s\n",
      "88:\tlearn: 0.0417020\ttotal: 182ms\tremaining: 1.86s\n",
      "89:\tlearn: 0.0413257\ttotal: 184ms\tremaining: 1.86s\n",
      "90:\tlearn: 0.0410424\ttotal: 186ms\tremaining: 1.86s\n",
      "91:\tlearn: 0.0408943\ttotal: 188ms\tremaining: 1.85s\n",
      "92:\tlearn: 0.0405423\ttotal: 190ms\tremaining: 1.85s\n",
      "93:\tlearn: 0.0402475\ttotal: 192ms\tremaining: 1.85s\n",
      "94:\tlearn: 0.0397871\ttotal: 194ms\tremaining: 1.85s\n",
      "95:\tlearn: 0.0396340\ttotal: 196ms\tremaining: 1.84s\n",
      "96:\tlearn: 0.0395156\ttotal: 198ms\tremaining: 1.84s\n",
      "97:\tlearn: 0.0393525\ttotal: 200ms\tremaining: 1.84s\n",
      "98:\tlearn: 0.0390838\ttotal: 202ms\tremaining: 1.84s\n",
      "99:\tlearn: 0.0386776\ttotal: 204ms\tremaining: 1.83s\n",
      "100:\tlearn: 0.0385757\ttotal: 206ms\tremaining: 1.83s\n",
      "101:\tlearn: 0.0383143\ttotal: 208ms\tremaining: 1.83s\n",
      "102:\tlearn: 0.0378483\ttotal: 210ms\tremaining: 1.83s\n",
      "103:\tlearn: 0.0376271\ttotal: 212ms\tremaining: 1.83s\n",
      "104:\tlearn: 0.0375072\ttotal: 214ms\tremaining: 1.82s\n",
      "105:\tlearn: 0.0372283\ttotal: 216ms\tremaining: 1.82s\n",
      "106:\tlearn: 0.0371664\ttotal: 218ms\tremaining: 1.82s\n",
      "107:\tlearn: 0.0370348\ttotal: 220ms\tremaining: 1.81s\n",
      "108:\tlearn: 0.0368266\ttotal: 222ms\tremaining: 1.81s\n",
      "109:\tlearn: 0.0363859\ttotal: 224ms\tremaining: 1.81s\n",
      "110:\tlearn: 0.0360549\ttotal: 226ms\tremaining: 1.81s\n",
      "111:\tlearn: 0.0356858\ttotal: 228ms\tremaining: 1.81s\n",
      "112:\tlearn: 0.0354427\ttotal: 230ms\tremaining: 1.81s\n",
      "113:\tlearn: 0.0352698\ttotal: 232ms\tremaining: 1.8s\n",
      "114:\tlearn: 0.0351955\ttotal: 234ms\tremaining: 1.8s\n",
      "115:\tlearn: 0.0350369\ttotal: 236ms\tremaining: 1.8s\n",
      "116:\tlearn: 0.0348385\ttotal: 238ms\tremaining: 1.8s\n",
      "117:\tlearn: 0.0346564\ttotal: 240ms\tremaining: 1.79s\n",
      "118:\tlearn: 0.0344009\ttotal: 243ms\tremaining: 1.8s\n",
      "119:\tlearn: 0.0342407\ttotal: 245ms\tremaining: 1.79s\n",
      "120:\tlearn: 0.0340491\ttotal: 247ms\tremaining: 1.79s\n",
      "121:\tlearn: 0.0339241\ttotal: 249ms\tremaining: 1.79s\n",
      "122:\tlearn: 0.0336876\ttotal: 251ms\tremaining: 1.79s\n",
      "123:\tlearn: 0.0335892\ttotal: 253ms\tremaining: 1.78s\n",
      "124:\tlearn: 0.0334879\ttotal: 255ms\tremaining: 1.78s\n",
      "125:\tlearn: 0.0332696\ttotal: 257ms\tremaining: 1.78s\n",
      "126:\tlearn: 0.0330825\ttotal: 259ms\tremaining: 1.78s\n",
      "127:\tlearn: 0.0329555\ttotal: 261ms\tremaining: 1.78s\n",
      "128:\tlearn: 0.0327776\ttotal: 263ms\tremaining: 1.78s\n",
      "129:\tlearn: 0.0326907\ttotal: 265ms\tremaining: 1.77s\n",
      "130:\tlearn: 0.0323371\ttotal: 267ms\tremaining: 1.77s\n",
      "131:\tlearn: 0.0321467\ttotal: 269ms\tremaining: 1.77s\n",
      "132:\tlearn: 0.0320642\ttotal: 271ms\tremaining: 1.77s\n",
      "133:\tlearn: 0.0318800\ttotal: 273ms\tremaining: 1.76s\n",
      "134:\tlearn: 0.0316732\ttotal: 275ms\tremaining: 1.76s\n",
      "135:\tlearn: 0.0315197\ttotal: 277ms\tremaining: 1.76s\n",
      "136:\tlearn: 0.0314463\ttotal: 279ms\tremaining: 1.76s\n",
      "137:\tlearn: 0.0312815\ttotal: 281ms\tremaining: 1.75s\n",
      "138:\tlearn: 0.0311780\ttotal: 283ms\tremaining: 1.75s\n",
      "139:\tlearn: 0.0310801\ttotal: 285ms\tremaining: 1.75s\n",
      "140:\tlearn: 0.0308647\ttotal: 287ms\tremaining: 1.75s\n",
      "141:\tlearn: 0.0307849\ttotal: 289ms\tremaining: 1.75s\n",
      "142:\tlearn: 0.0306229\ttotal: 291ms\tremaining: 1.74s\n",
      "143:\tlearn: 0.0303802\ttotal: 293ms\tremaining: 1.74s\n",
      "144:\tlearn: 0.0303346\ttotal: 295ms\tremaining: 1.74s\n",
      "145:\tlearn: 0.0301706\ttotal: 297ms\tremaining: 1.74s\n",
      "146:\tlearn: 0.0300618\ttotal: 299ms\tremaining: 1.73s\n",
      "147:\tlearn: 0.0299690\ttotal: 301ms\tremaining: 1.73s\n",
      "148:\tlearn: 0.0298956\ttotal: 303ms\tremaining: 1.73s\n",
      "149:\tlearn: 0.0298070\ttotal: 305ms\tremaining: 1.73s\n",
      "150:\tlearn: 0.0295776\ttotal: 307ms\tremaining: 1.73s\n",
      "151:\tlearn: 0.0295184\ttotal: 309ms\tremaining: 1.72s\n",
      "152:\tlearn: 0.0293969\ttotal: 311ms\tremaining: 1.72s\n",
      "153:\tlearn: 0.0292989\ttotal: 313ms\tremaining: 1.72s\n",
      "154:\tlearn: 0.0292285\ttotal: 315ms\tremaining: 1.72s\n",
      "155:\tlearn: 0.0291555\ttotal: 317ms\tremaining: 1.72s\n",
      "156:\tlearn: 0.0290900\ttotal: 319ms\tremaining: 1.72s\n",
      "157:\tlearn: 0.0289651\ttotal: 321ms\tremaining: 1.71s\n",
      "158:\tlearn: 0.0289106\ttotal: 324ms\tremaining: 1.71s\n",
      "159:\tlearn: 0.0287851\ttotal: 326ms\tremaining: 1.71s\n",
      "160:\tlearn: 0.0287850\ttotal: 327ms\tremaining: 1.7s\n",
      "161:\tlearn: 0.0286052\ttotal: 329ms\tremaining: 1.7s\n",
      "162:\tlearn: 0.0285520\ttotal: 331ms\tremaining: 1.7s\n",
      "163:\tlearn: 0.0284002\ttotal: 333ms\tremaining: 1.7s\n",
      "164:\tlearn: 0.0282631\ttotal: 336ms\tremaining: 1.7s\n",
      "165:\tlearn: 0.0280503\ttotal: 338ms\tremaining: 1.7s\n",
      "166:\tlearn: 0.0279779\ttotal: 340ms\tremaining: 1.69s\n",
      "167:\tlearn: 0.0278583\ttotal: 342ms\tremaining: 1.69s\n",
      "168:\tlearn: 0.0278062\ttotal: 344ms\tremaining: 1.69s\n",
      "169:\tlearn: 0.0277493\ttotal: 346ms\tremaining: 1.69s\n",
      "170:\tlearn: 0.0276128\ttotal: 348ms\tremaining: 1.69s\n",
      "171:\tlearn: 0.0275194\ttotal: 350ms\tremaining: 1.68s\n",
      "172:\tlearn: 0.0274775\ttotal: 352ms\tremaining: 1.68s\n",
      "173:\tlearn: 0.0274277\ttotal: 354ms\tremaining: 1.68s\n",
      "174:\tlearn: 0.0273592\ttotal: 356ms\tremaining: 1.68s\n",
      "175:\tlearn: 0.0272983\ttotal: 358ms\tremaining: 1.68s\n",
      "176:\tlearn: 0.0272142\ttotal: 360ms\tremaining: 1.68s\n",
      "177:\tlearn: 0.0271646\ttotal: 363ms\tremaining: 1.67s\n",
      "178:\tlearn: 0.0271223\ttotal: 365ms\tremaining: 1.67s\n",
      "179:\tlearn: 0.0270373\ttotal: 367ms\tremaining: 1.67s\n",
      "180:\tlearn: 0.0270370\ttotal: 369ms\tremaining: 1.67s\n",
      "181:\tlearn: 0.0270026\ttotal: 371ms\tremaining: 1.67s\n",
      "182:\tlearn: 0.0269506\ttotal: 373ms\tremaining: 1.67s\n",
      "183:\tlearn: 0.0268600\ttotal: 375ms\tremaining: 1.66s\n",
      "184:\tlearn: 0.0267406\ttotal: 377ms\tremaining: 1.66s\n",
      "185:\tlearn: 0.0266921\ttotal: 379ms\tremaining: 1.66s\n",
      "186:\tlearn: 0.0266430\ttotal: 381ms\tremaining: 1.66s\n",
      "187:\tlearn: 0.0265796\ttotal: 383ms\tremaining: 1.66s\n",
      "188:\tlearn: 0.0265305\ttotal: 385ms\tremaining: 1.65s\n",
      "189:\tlearn: 0.0264436\ttotal: 387ms\tremaining: 1.65s\n",
      "190:\tlearn: 0.0263645\ttotal: 390ms\tremaining: 1.65s\n",
      "191:\tlearn: 0.0263643\ttotal: 391ms\tremaining: 1.65s\n",
      "192:\tlearn: 0.0263295\ttotal: 393ms\tremaining: 1.64s\n",
      "193:\tlearn: 0.0262429\ttotal: 395ms\tremaining: 1.64s\n",
      "194:\tlearn: 0.0261811\ttotal: 397ms\tremaining: 1.64s\n",
      "195:\tlearn: 0.0260969\ttotal: 399ms\tremaining: 1.64s\n",
      "196:\tlearn: 0.0260466\ttotal: 401ms\tremaining: 1.63s\n",
      "197:\tlearn: 0.0260145\ttotal: 403ms\tremaining: 1.63s\n",
      "198:\tlearn: 0.0258970\ttotal: 405ms\tremaining: 1.63s\n",
      "199:\tlearn: 0.0258579\ttotal: 407ms\tremaining: 1.63s\n",
      "200:\tlearn: 0.0258577\ttotal: 409ms\tremaining: 1.63s\n",
      "201:\tlearn: 0.0258576\ttotal: 411ms\tremaining: 1.62s\n",
      "202:\tlearn: 0.0258195\ttotal: 413ms\tremaining: 1.62s\n",
      "203:\tlearn: 0.0256744\ttotal: 415ms\tremaining: 1.62s\n",
      "204:\tlearn: 0.0256187\ttotal: 417ms\tremaining: 1.62s\n",
      "205:\tlearn: 0.0256187\ttotal: 419ms\tremaining: 1.61s\n",
      "206:\tlearn: 0.0256187\ttotal: 420ms\tremaining: 1.61s\n",
      "207:\tlearn: 0.0256178\ttotal: 422ms\tremaining: 1.61s\n",
      "208:\tlearn: 0.0256177\ttotal: 424ms\tremaining: 1.6s\n",
      "209:\tlearn: 0.0256178\ttotal: 426ms\tremaining: 1.6s\n",
      "210:\tlearn: 0.0256169\ttotal: 428ms\tremaining: 1.6s\n",
      "211:\tlearn: 0.0256167\ttotal: 430ms\tremaining: 1.6s\n",
      "212:\tlearn: 0.0256167\ttotal: 432ms\tremaining: 1.59s\n",
      "213:\tlearn: 0.0256165\ttotal: 433ms\tremaining: 1.59s\n",
      "214:\tlearn: 0.0256163\ttotal: 435ms\tremaining: 1.59s\n",
      "215:\tlearn: 0.0256163\ttotal: 437ms\tremaining: 1.59s\n",
      "216:\tlearn: 0.0256162\ttotal: 439ms\tremaining: 1.58s\n",
      "217:\tlearn: 0.0256161\ttotal: 441ms\tremaining: 1.58s\n",
      "218:\tlearn: 0.0256160\ttotal: 443ms\tremaining: 1.58s\n",
      "219:\tlearn: 0.0256160\ttotal: 445ms\tremaining: 1.58s\n",
      "220:\tlearn: 0.0256157\ttotal: 446ms\tremaining: 1.57s\n",
      "221:\tlearn: 0.0256150\ttotal: 448ms\tremaining: 1.57s\n",
      "222:\tlearn: 0.0255217\ttotal: 450ms\tremaining: 1.57s\n",
      "223:\tlearn: 0.0254779\ttotal: 452ms\tremaining: 1.57s\n",
      "224:\tlearn: 0.0253887\ttotal: 454ms\tremaining: 1.56s\n",
      "225:\tlearn: 0.0253886\ttotal: 456ms\tremaining: 1.56s\n",
      "226:\tlearn: 0.0253150\ttotal: 458ms\tremaining: 1.56s\n",
      "227:\tlearn: 0.0252662\ttotal: 460ms\tremaining: 1.56s\n",
      "228:\tlearn: 0.0252659\ttotal: 462ms\tremaining: 1.55s\n",
      "229:\tlearn: 0.0251926\ttotal: 464ms\tremaining: 1.55s\n",
      "230:\tlearn: 0.0251611\ttotal: 465ms\tremaining: 1.55s\n",
      "231:\tlearn: 0.0251611\ttotal: 467ms\tremaining: 1.55s\n",
      "232:\tlearn: 0.0251610\ttotal: 469ms\tremaining: 1.54s\n",
      "233:\tlearn: 0.0251491\ttotal: 471ms\tremaining: 1.54s\n",
      "234:\tlearn: 0.0251489\ttotal: 473ms\tremaining: 1.54s\n",
      "235:\tlearn: 0.0251489\ttotal: 475ms\tremaining: 1.54s\n",
      "236:\tlearn: 0.0251026\ttotal: 477ms\tremaining: 1.53s\n",
      "237:\tlearn: 0.0251024\ttotal: 478ms\tremaining: 1.53s\n",
      "238:\tlearn: 0.0251023\ttotal: 480ms\tremaining: 1.53s\n",
      "239:\tlearn: 0.0251022\ttotal: 482ms\tremaining: 1.53s\n",
      "240:\tlearn: 0.0251011\ttotal: 484ms\tremaining: 1.52s\n",
      "241:\tlearn: 0.0250462\ttotal: 486ms\tremaining: 1.52s\n",
      "242:\tlearn: 0.0249535\ttotal: 488ms\tremaining: 1.52s\n",
      "243:\tlearn: 0.0249535\ttotal: 490ms\tremaining: 1.52s\n",
      "244:\tlearn: 0.0249535\ttotal: 492ms\tremaining: 1.51s\n",
      "245:\tlearn: 0.0249533\ttotal: 494ms\tremaining: 1.51s\n",
      "246:\tlearn: 0.0249533\ttotal: 495ms\tremaining: 1.51s\n",
      "247:\tlearn: 0.0249531\ttotal: 497ms\tremaining: 1.51s\n",
      "248:\tlearn: 0.0249530\ttotal: 499ms\tremaining: 1.5s\n",
      "249:\tlearn: 0.0249530\ttotal: 501ms\tremaining: 1.5s\n",
      "250:\tlearn: 0.0249530\ttotal: 502ms\tremaining: 1.5s\n",
      "251:\tlearn: 0.0249530\ttotal: 504ms\tremaining: 1.5s\n",
      "252:\tlearn: 0.0249530\ttotal: 506ms\tremaining: 1.49s\n",
      "253:\tlearn: 0.0249530\ttotal: 508ms\tremaining: 1.49s\n",
      "254:\tlearn: 0.0249518\ttotal: 510ms\tremaining: 1.49s\n",
      "255:\tlearn: 0.0249517\ttotal: 511ms\tremaining: 1.49s\n",
      "256:\tlearn: 0.0249515\ttotal: 513ms\tremaining: 1.48s\n",
      "257:\tlearn: 0.0249513\ttotal: 515ms\tremaining: 1.48s\n",
      "258:\tlearn: 0.0249511\ttotal: 517ms\tremaining: 1.48s\n",
      "259:\tlearn: 0.0249100\ttotal: 519ms\tremaining: 1.48s\n",
      "260:\tlearn: 0.0249072\ttotal: 521ms\tremaining: 1.47s\n",
      "261:\tlearn: 0.0249064\ttotal: 523ms\tremaining: 1.47s\n",
      "262:\tlearn: 0.0249062\ttotal: 524ms\tremaining: 1.47s\n",
      "263:\tlearn: 0.0249062\ttotal: 526ms\tremaining: 1.47s\n",
      "264:\tlearn: 0.0249062\ttotal: 528ms\tremaining: 1.46s\n",
      "265:\tlearn: 0.0249051\ttotal: 530ms\tremaining: 1.46s\n",
      "266:\tlearn: 0.0249051\ttotal: 531ms\tremaining: 1.46s\n",
      "267:\tlearn: 0.0249044\ttotal: 533ms\tremaining: 1.46s\n",
      "268:\tlearn: 0.0247988\ttotal: 535ms\tremaining: 1.45s\n",
      "269:\tlearn: 0.0247113\ttotal: 538ms\tremaining: 1.45s\n",
      "270:\tlearn: 0.0246762\ttotal: 540ms\tremaining: 1.45s\n",
      "271:\tlearn: 0.0246371\ttotal: 542ms\tremaining: 1.45s\n",
      "272:\tlearn: 0.0245955\ttotal: 544ms\tremaining: 1.45s\n",
      "273:\tlearn: 0.0245379\ttotal: 546ms\tremaining: 1.45s\n",
      "274:\tlearn: 0.0245378\ttotal: 548ms\tremaining: 1.44s\n",
      "275:\tlearn: 0.0245377\ttotal: 549ms\tremaining: 1.44s\n",
      "276:\tlearn: 0.0245377\ttotal: 551ms\tremaining: 1.44s\n",
      "277:\tlearn: 0.0245377\ttotal: 552ms\tremaining: 1.43s\n",
      "278:\tlearn: 0.0245376\ttotal: 553ms\tremaining: 1.43s\n",
      "279:\tlearn: 0.0245376\ttotal: 555ms\tremaining: 1.43s\n",
      "280:\tlearn: 0.0245376\ttotal: 556ms\tremaining: 1.42s\n",
      "281:\tlearn: 0.0245376\ttotal: 557ms\tremaining: 1.42s\n",
      "282:\tlearn: 0.0245376\ttotal: 559ms\tremaining: 1.42s\n",
      "283:\tlearn: 0.0245375\ttotal: 560ms\tremaining: 1.41s\n",
      "284:\tlearn: 0.0245376\ttotal: 561ms\tremaining: 1.41s\n",
      "285:\tlearn: 0.0245376\ttotal: 562ms\tremaining: 1.4s\n",
      "286:\tlearn: 0.0245376\ttotal: 564ms\tremaining: 1.4s\n",
      "287:\tlearn: 0.0245376\ttotal: 565ms\tremaining: 1.4s\n",
      "288:\tlearn: 0.0245266\ttotal: 567ms\tremaining: 1.39s\n",
      "289:\tlearn: 0.0244363\ttotal: 569ms\tremaining: 1.39s\n",
      "290:\tlearn: 0.0244363\ttotal: 570ms\tremaining: 1.39s\n",
      "291:\tlearn: 0.0244363\ttotal: 571ms\tremaining: 1.39s\n",
      "292:\tlearn: 0.0244363\ttotal: 573ms\tremaining: 1.38s\n",
      "293:\tlearn: 0.0244362\ttotal: 574ms\tremaining: 1.38s\n",
      "294:\tlearn: 0.0244361\ttotal: 575ms\tremaining: 1.37s\n",
      "295:\tlearn: 0.0244362\ttotal: 576ms\tremaining: 1.37s\n",
      "296:\tlearn: 0.0244361\ttotal: 578ms\tremaining: 1.37s\n",
      "297:\tlearn: 0.0244361\ttotal: 579ms\tremaining: 1.36s\n",
      "298:\tlearn: 0.0244362\ttotal: 580ms\tremaining: 1.36s\n",
      "299:\tlearn: 0.0244362\ttotal: 581ms\tremaining: 1.36s\n",
      "300:\tlearn: 0.0244362\ttotal: 582ms\tremaining: 1.35s\n",
      "301:\tlearn: 0.0244361\ttotal: 584ms\tremaining: 1.35s\n",
      "302:\tlearn: 0.0244361\ttotal: 585ms\tremaining: 1.34s\n",
      "303:\tlearn: 0.0244362\ttotal: 586ms\tremaining: 1.34s\n",
      "304:\tlearn: 0.0244361\ttotal: 587ms\tremaining: 1.34s\n",
      "305:\tlearn: 0.0244361\ttotal: 589ms\tremaining: 1.33s\n",
      "306:\tlearn: 0.0244361\ttotal: 590ms\tremaining: 1.33s\n",
      "307:\tlearn: 0.0244360\ttotal: 591ms\tremaining: 1.33s\n",
      "308:\tlearn: 0.0244360\ttotal: 593ms\tremaining: 1.32s\n",
      "309:\tlearn: 0.0244360\ttotal: 594ms\tremaining: 1.32s\n",
      "310:\tlearn: 0.0244359\ttotal: 595ms\tremaining: 1.32s\n",
      "311:\tlearn: 0.0244360\ttotal: 596ms\tremaining: 1.31s\n",
      "312:\tlearn: 0.0244359\ttotal: 598ms\tremaining: 1.31s\n",
      "313:\tlearn: 0.0244359\ttotal: 599ms\tremaining: 1.31s\n",
      "314:\tlearn: 0.0244359\ttotal: 600ms\tremaining: 1.3s\n",
      "315:\tlearn: 0.0244358\ttotal: 601ms\tremaining: 1.3s\n",
      "316:\tlearn: 0.0244358\ttotal: 603ms\tremaining: 1.3s\n",
      "317:\tlearn: 0.0244358\ttotal: 604ms\tremaining: 1.29s\n",
      "318:\tlearn: 0.0244358\ttotal: 605ms\tremaining: 1.29s\n",
      "319:\tlearn: 0.0244358\ttotal: 607ms\tremaining: 1.29s\n",
      "320:\tlearn: 0.0244358\ttotal: 608ms\tremaining: 1.28s\n",
      "321:\tlearn: 0.0244358\ttotal: 609ms\tremaining: 1.28s\n",
      "322:\tlearn: 0.0244358\ttotal: 610ms\tremaining: 1.28s\n",
      "323:\tlearn: 0.0244358\ttotal: 612ms\tremaining: 1.28s\n",
      "324:\tlearn: 0.0244358\ttotal: 613ms\tremaining: 1.27s\n",
      "325:\tlearn: 0.0244358\ttotal: 614ms\tremaining: 1.27s\n",
      "326:\tlearn: 0.0244358\ttotal: 615ms\tremaining: 1.27s\n",
      "327:\tlearn: 0.0244358\ttotal: 617ms\tremaining: 1.26s\n",
      "328:\tlearn: 0.0244357\ttotal: 619ms\tremaining: 1.26s\n",
      "329:\tlearn: 0.0244357\ttotal: 620ms\tremaining: 1.26s\n",
      "330:\tlearn: 0.0244357\ttotal: 621ms\tremaining: 1.25s\n",
      "331:\tlearn: 0.0244357\ttotal: 622ms\tremaining: 1.25s\n",
      "332:\tlearn: 0.0244357\ttotal: 624ms\tremaining: 1.25s\n",
      "333:\tlearn: 0.0244356\ttotal: 625ms\tremaining: 1.25s\n",
      "334:\tlearn: 0.0244356\ttotal: 626ms\tremaining: 1.24s\n",
      "335:\tlearn: 0.0244356\ttotal: 627ms\tremaining: 1.24s\n",
      "336:\tlearn: 0.0244356\ttotal: 629ms\tremaining: 1.24s\n",
      "337:\tlearn: 0.0244355\ttotal: 630ms\tremaining: 1.23s\n",
      "338:\tlearn: 0.0244355\ttotal: 631ms\tremaining: 1.23s\n",
      "339:\tlearn: 0.0244354\ttotal: 633ms\tremaining: 1.23s\n",
      "340:\tlearn: 0.0244355\ttotal: 634ms\tremaining: 1.23s\n",
      "341:\tlearn: 0.0244354\ttotal: 635ms\tremaining: 1.22s\n",
      "342:\tlearn: 0.0244353\ttotal: 637ms\tremaining: 1.22s\n",
      "343:\tlearn: 0.0244353\ttotal: 638ms\tremaining: 1.22s\n",
      "344:\tlearn: 0.0244353\ttotal: 639ms\tremaining: 1.21s\n",
      "345:\tlearn: 0.0244352\ttotal: 641ms\tremaining: 1.21s\n",
      "346:\tlearn: 0.0244352\ttotal: 642ms\tremaining: 1.21s\n",
      "347:\tlearn: 0.0244352\ttotal: 643ms\tremaining: 1.21s\n",
      "348:\tlearn: 0.0244351\ttotal: 645ms\tremaining: 1.2s\n",
      "349:\tlearn: 0.0244351\ttotal: 646ms\tremaining: 1.2s\n",
      "350:\tlearn: 0.0244351\ttotal: 647ms\tremaining: 1.2s\n",
      "351:\tlearn: 0.0244351\ttotal: 648ms\tremaining: 1.19s\n",
      "352:\tlearn: 0.0244350\ttotal: 650ms\tremaining: 1.19s\n",
      "353:\tlearn: 0.0244349\ttotal: 651ms\tremaining: 1.19s\n",
      "354:\tlearn: 0.0244350\ttotal: 652ms\tremaining: 1.19s\n",
      "355:\tlearn: 0.0244349\ttotal: 654ms\tremaining: 1.18s\n",
      "356:\tlearn: 0.0244350\ttotal: 655ms\tremaining: 1.18s\n",
      "357:\tlearn: 0.0244350\ttotal: 657ms\tremaining: 1.18s\n",
      "358:\tlearn: 0.0244350\ttotal: 658ms\tremaining: 1.17s\n",
      "359:\tlearn: 0.0244350\ttotal: 659ms\tremaining: 1.17s\n",
      "360:\tlearn: 0.0244343\ttotal: 661ms\tremaining: 1.17s\n",
      "361:\tlearn: 0.0244342\ttotal: 662ms\tremaining: 1.17s\n",
      "362:\tlearn: 0.0244341\ttotal: 664ms\tremaining: 1.17s\n",
      "363:\tlearn: 0.0244341\ttotal: 666ms\tremaining: 1.16s\n",
      "364:\tlearn: 0.0244341\ttotal: 668ms\tremaining: 1.16s\n",
      "365:\tlearn: 0.0244340\ttotal: 670ms\tremaining: 1.16s\n",
      "366:\tlearn: 0.0244340\ttotal: 671ms\tremaining: 1.16s\n",
      "367:\tlearn: 0.0244340\ttotal: 673ms\tremaining: 1.16s\n",
      "368:\tlearn: 0.0244340\ttotal: 675ms\tremaining: 1.15s\n",
      "369:\tlearn: 0.0244340\ttotal: 676ms\tremaining: 1.15s\n",
      "370:\tlearn: 0.0244339\ttotal: 678ms\tremaining: 1.15s\n",
      "371:\tlearn: 0.0244338\ttotal: 680ms\tremaining: 1.15s\n",
      "372:\tlearn: 0.0244338\ttotal: 681ms\tremaining: 1.15s\n",
      "373:\tlearn: 0.0244337\ttotal: 683ms\tremaining: 1.14s\n",
      "374:\tlearn: 0.0244335\ttotal: 685ms\tremaining: 1.14s\n",
      "375:\tlearn: 0.0244335\ttotal: 687ms\tremaining: 1.14s\n",
      "376:\tlearn: 0.0244334\ttotal: 688ms\tremaining: 1.14s\n",
      "377:\tlearn: 0.0244334\ttotal: 691ms\tremaining: 1.14s\n",
      "378:\tlearn: 0.0244333\ttotal: 693ms\tremaining: 1.14s\n",
      "379:\tlearn: 0.0244332\ttotal: 695ms\tremaining: 1.13s\n",
      "380:\tlearn: 0.0244332\ttotal: 697ms\tremaining: 1.13s\n",
      "381:\tlearn: 0.0244332\ttotal: 698ms\tremaining: 1.13s\n",
      "382:\tlearn: 0.0244331\ttotal: 700ms\tremaining: 1.13s\n",
      "383:\tlearn: 0.0244330\ttotal: 702ms\tremaining: 1.13s\n",
      "384:\tlearn: 0.0244329\ttotal: 704ms\tremaining: 1.12s\n",
      "385:\tlearn: 0.0244329\ttotal: 706ms\tremaining: 1.12s\n",
      "386:\tlearn: 0.0244329\ttotal: 708ms\tremaining: 1.12s\n",
      "387:\tlearn: 0.0244327\ttotal: 711ms\tremaining: 1.12s\n",
      "388:\tlearn: 0.0244327\ttotal: 712ms\tremaining: 1.12s\n",
      "389:\tlearn: 0.0244325\ttotal: 714ms\tremaining: 1.12s\n",
      "390:\tlearn: 0.0244324\ttotal: 716ms\tremaining: 1.11s\n",
      "391:\tlearn: 0.0244322\ttotal: 718ms\tremaining: 1.11s\n",
      "392:\tlearn: 0.0244321\ttotal: 720ms\tremaining: 1.11s\n",
      "393:\tlearn: 0.0243488\ttotal: 722ms\tremaining: 1.11s\n",
      "394:\tlearn: 0.0243488\ttotal: 724ms\tremaining: 1.11s\n",
      "395:\tlearn: 0.0243487\ttotal: 726ms\tremaining: 1.11s\n",
      "396:\tlearn: 0.0243487\ttotal: 728ms\tremaining: 1.1s\n",
      "397:\tlearn: 0.0243487\ttotal: 730ms\tremaining: 1.1s\n",
      "398:\tlearn: 0.0243485\ttotal: 731ms\tremaining: 1.1s\n",
      "399:\tlearn: 0.0243477\ttotal: 733ms\tremaining: 1.1s\n",
      "400:\tlearn: 0.0243476\ttotal: 735ms\tremaining: 1.1s\n",
      "401:\tlearn: 0.0243476\ttotal: 737ms\tremaining: 1.1s\n",
      "402:\tlearn: 0.0243471\ttotal: 739ms\tremaining: 1.09s\n",
      "403:\tlearn: 0.0243469\ttotal: 741ms\tremaining: 1.09s\n",
      "404:\tlearn: 0.0243469\ttotal: 742ms\tremaining: 1.09s\n",
      "405:\tlearn: 0.0243467\ttotal: 744ms\tremaining: 1.09s\n",
      "406:\tlearn: 0.0242623\ttotal: 746ms\tremaining: 1.09s\n",
      "407:\tlearn: 0.0242623\ttotal: 748ms\tremaining: 1.08s\n",
      "408:\tlearn: 0.0242622\ttotal: 750ms\tremaining: 1.08s\n",
      "409:\tlearn: 0.0242421\ttotal: 752ms\tremaining: 1.08s\n",
      "410:\tlearn: 0.0242421\ttotal: 753ms\tremaining: 1.08s\n",
      "411:\tlearn: 0.0242420\ttotal: 755ms\tremaining: 1.08s\n",
      "412:\tlearn: 0.0242411\ttotal: 757ms\tremaining: 1.07s\n",
      "413:\tlearn: 0.0242410\ttotal: 759ms\tremaining: 1.07s\n",
      "414:\tlearn: 0.0242409\ttotal: 760ms\tremaining: 1.07s\n",
      "415:\tlearn: 0.0242408\ttotal: 762ms\tremaining: 1.07s\n",
      "416:\tlearn: 0.0242409\ttotal: 764ms\tremaining: 1.07s\n",
      "417:\tlearn: 0.0242408\ttotal: 766ms\tremaining: 1.06s\n",
      "418:\tlearn: 0.0242408\ttotal: 767ms\tremaining: 1.06s\n",
      "419:\tlearn: 0.0242408\ttotal: 769ms\tremaining: 1.06s\n",
      "420:\tlearn: 0.0242407\ttotal: 771ms\tremaining: 1.06s\n",
      "421:\tlearn: 0.0242406\ttotal: 773ms\tremaining: 1.06s\n",
      "422:\tlearn: 0.0242405\ttotal: 774ms\tremaining: 1.06s\n",
      "423:\tlearn: 0.0242404\ttotal: 776ms\tremaining: 1.05s\n",
      "424:\tlearn: 0.0242404\ttotal: 778ms\tremaining: 1.05s\n",
      "425:\tlearn: 0.0242396\ttotal: 780ms\tremaining: 1.05s\n",
      "426:\tlearn: 0.0242163\ttotal: 782ms\tremaining: 1.05s\n",
      "427:\tlearn: 0.0242163\ttotal: 783ms\tremaining: 1.05s\n",
      "428:\tlearn: 0.0241878\ttotal: 785ms\tremaining: 1.04s\n",
      "429:\tlearn: 0.0241486\ttotal: 787ms\tremaining: 1.04s\n",
      "430:\tlearn: 0.0240843\ttotal: 789ms\tremaining: 1.04s\n",
      "431:\tlearn: 0.0240402\ttotal: 791ms\tremaining: 1.04s\n",
      "432:\tlearn: 0.0240401\ttotal: 793ms\tremaining: 1.04s\n",
      "433:\tlearn: 0.0240401\ttotal: 795ms\tremaining: 1.04s\n",
      "434:\tlearn: 0.0240400\ttotal: 796ms\tremaining: 1.03s\n",
      "435:\tlearn: 0.0240400\ttotal: 798ms\tremaining: 1.03s\n",
      "436:\tlearn: 0.0240399\ttotal: 800ms\tremaining: 1.03s\n",
      "437:\tlearn: 0.0240399\ttotal: 802ms\tremaining: 1.03s\n",
      "438:\tlearn: 0.0240398\ttotal: 804ms\tremaining: 1.03s\n",
      "439:\tlearn: 0.0240398\ttotal: 805ms\tremaining: 1.02s\n",
      "440:\tlearn: 0.0240397\ttotal: 807ms\tremaining: 1.02s\n",
      "441:\tlearn: 0.0240397\ttotal: 809ms\tremaining: 1.02s\n",
      "442:\tlearn: 0.0240396\ttotal: 811ms\tremaining: 1.02s\n",
      "443:\tlearn: 0.0240396\ttotal: 812ms\tremaining: 1.02s\n",
      "444:\tlearn: 0.0240395\ttotal: 814ms\tremaining: 1.01s\n",
      "445:\tlearn: 0.0240395\ttotal: 816ms\tremaining: 1.01s\n",
      "446:\tlearn: 0.0240395\ttotal: 818ms\tremaining: 1.01s\n",
      "447:\tlearn: 0.0240080\ttotal: 820ms\tremaining: 1.01s\n",
      "448:\tlearn: 0.0240080\ttotal: 822ms\tremaining: 1.01s\n",
      "449:\tlearn: 0.0239625\ttotal: 824ms\tremaining: 1.01s\n",
      "450:\tlearn: 0.0239624\ttotal: 825ms\tremaining: 1s\n",
      "451:\tlearn: 0.0239619\ttotal: 827ms\tremaining: 1s\n",
      "452:\tlearn: 0.0239616\ttotal: 829ms\tremaining: 1s\n",
      "453:\tlearn: 0.0239617\ttotal: 831ms\tremaining: 1000ms\n",
      "454:\tlearn: 0.0239608\ttotal: 833ms\tremaining: 998ms\n",
      "455:\tlearn: 0.0239296\ttotal: 836ms\tremaining: 997ms\n",
      "456:\tlearn: 0.0239295\ttotal: 838ms\tremaining: 995ms\n",
      "457:\tlearn: 0.0239294\ttotal: 839ms\tremaining: 993ms\n",
      "458:\tlearn: 0.0239294\ttotal: 841ms\tremaining: 992ms\n",
      "459:\tlearn: 0.0239293\ttotal: 843ms\tremaining: 990ms\n",
      "460:\tlearn: 0.0239288\ttotal: 845ms\tremaining: 988ms\n",
      "461:\tlearn: 0.0239287\ttotal: 846ms\tremaining: 986ms\n",
      "462:\tlearn: 0.0239287\ttotal: 849ms\tremaining: 984ms\n",
      "463:\tlearn: 0.0239285\ttotal: 850ms\tremaining: 982ms\n",
      "464:\tlearn: 0.0239283\ttotal: 852ms\tremaining: 980ms\n",
      "465:\tlearn: 0.0239283\ttotal: 854ms\tremaining: 978ms\n",
      "466:\tlearn: 0.0239282\ttotal: 856ms\tremaining: 977ms\n",
      "467:\tlearn: 0.0239281\ttotal: 858ms\tremaining: 975ms\n",
      "468:\tlearn: 0.0239282\ttotal: 859ms\tremaining: 973ms\n",
      "469:\tlearn: 0.0239281\ttotal: 861ms\tremaining: 971ms\n",
      "470:\tlearn: 0.0239281\ttotal: 863ms\tremaining: 969ms\n",
      "471:\tlearn: 0.0239281\ttotal: 865ms\tremaining: 967ms\n",
      "472:\tlearn: 0.0239281\ttotal: 866ms\tremaining: 965ms\n",
      "473:\tlearn: 0.0239280\ttotal: 868ms\tremaining: 964ms\n",
      "474:\tlearn: 0.0239280\ttotal: 870ms\tremaining: 962ms\n",
      "475:\tlearn: 0.0239280\ttotal: 872ms\tremaining: 960ms\n",
      "476:\tlearn: 0.0239280\ttotal: 873ms\tremaining: 958ms\n",
      "477:\tlearn: 0.0239280\ttotal: 875ms\tremaining: 956ms\n",
      "478:\tlearn: 0.0239280\ttotal: 877ms\tremaining: 954ms\n",
      "479:\tlearn: 0.0239279\ttotal: 879ms\tremaining: 952ms\n",
      "480:\tlearn: 0.0238900\ttotal: 881ms\tremaining: 951ms\n",
      "481:\tlearn: 0.0238607\ttotal: 883ms\tremaining: 949ms\n",
      "482:\tlearn: 0.0238608\ttotal: 885ms\tremaining: 947ms\n",
      "483:\tlearn: 0.0238607\ttotal: 886ms\tremaining: 945ms\n",
      "484:\tlearn: 0.0238607\ttotal: 888ms\tremaining: 943ms\n",
      "485:\tlearn: 0.0238607\ttotal: 889ms\tremaining: 941ms\n",
      "486:\tlearn: 0.0238607\ttotal: 891ms\tremaining: 938ms\n",
      "487:\tlearn: 0.0238606\ttotal: 892ms\tremaining: 936ms\n",
      "488:\tlearn: 0.0238606\ttotal: 893ms\tremaining: 934ms\n",
      "489:\tlearn: 0.0238605\ttotal: 895ms\tremaining: 932ms\n",
      "490:\tlearn: 0.0238605\ttotal: 896ms\tremaining: 929ms\n",
      "491:\tlearn: 0.0238604\ttotal: 898ms\tremaining: 927ms\n",
      "492:\tlearn: 0.0238605\ttotal: 899ms\tremaining: 924ms\n",
      "493:\tlearn: 0.0238605\ttotal: 900ms\tremaining: 922ms\n",
      "494:\tlearn: 0.0238604\ttotal: 902ms\tremaining: 920ms\n",
      "495:\tlearn: 0.0238604\ttotal: 903ms\tremaining: 918ms\n",
      "496:\tlearn: 0.0238604\ttotal: 904ms\tremaining: 915ms\n",
      "497:\tlearn: 0.0238603\ttotal: 906ms\tremaining: 913ms\n",
      "498:\tlearn: 0.0238603\ttotal: 907ms\tremaining: 911ms\n",
      "499:\tlearn: 0.0238602\ttotal: 909ms\tremaining: 909ms\n",
      "500:\tlearn: 0.0238602\ttotal: 910ms\tremaining: 907ms\n",
      "501:\tlearn: 0.0238602\ttotal: 912ms\tremaining: 904ms\n",
      "502:\tlearn: 0.0238601\ttotal: 913ms\tremaining: 902ms\n",
      "503:\tlearn: 0.0238601\ttotal: 915ms\tremaining: 900ms\n",
      "504:\tlearn: 0.0238601\ttotal: 916ms\tremaining: 898ms\n",
      "505:\tlearn: 0.0238600\ttotal: 917ms\tremaining: 896ms\n",
      "506:\tlearn: 0.0238599\ttotal: 919ms\tremaining: 893ms\n",
      "507:\tlearn: 0.0238599\ttotal: 920ms\tremaining: 891ms\n",
      "508:\tlearn: 0.0238598\ttotal: 922ms\tremaining: 890ms\n",
      "509:\tlearn: 0.0238599\ttotal: 924ms\tremaining: 887ms\n",
      "510:\tlearn: 0.0238599\ttotal: 925ms\tremaining: 885ms\n",
      "511:\tlearn: 0.0238599\ttotal: 926ms\tremaining: 883ms\n",
      "512:\tlearn: 0.0238599\ttotal: 928ms\tremaining: 881ms\n",
      "513:\tlearn: 0.0238599\ttotal: 929ms\tremaining: 878ms\n",
      "514:\tlearn: 0.0238340\ttotal: 931ms\tremaining: 877ms\n",
      "515:\tlearn: 0.0238106\ttotal: 933ms\tremaining: 875ms\n",
      "516:\tlearn: 0.0237697\ttotal: 935ms\tremaining: 874ms\n",
      "517:\tlearn: 0.0237697\ttotal: 937ms\tremaining: 872ms\n",
      "518:\tlearn: 0.0237696\ttotal: 939ms\tremaining: 870ms\n",
      "519:\tlearn: 0.0237695\ttotal: 941ms\tremaining: 869ms\n",
      "520:\tlearn: 0.0237695\ttotal: 943ms\tremaining: 867ms\n",
      "521:\tlearn: 0.0237695\ttotal: 944ms\tremaining: 865ms\n",
      "522:\tlearn: 0.0237312\ttotal: 947ms\tremaining: 863ms\n",
      "523:\tlearn: 0.0237312\ttotal: 948ms\tremaining: 861ms\n",
      "524:\tlearn: 0.0237312\ttotal: 950ms\tremaining: 859ms\n",
      "525:\tlearn: 0.0237312\ttotal: 951ms\tremaining: 857ms\n",
      "526:\tlearn: 0.0237312\ttotal: 953ms\tremaining: 856ms\n",
      "527:\tlearn: 0.0237311\ttotal: 955ms\tremaining: 854ms\n",
      "528:\tlearn: 0.0237312\ttotal: 957ms\tremaining: 852ms\n",
      "529:\tlearn: 0.0237310\ttotal: 958ms\tremaining: 850ms\n",
      "530:\tlearn: 0.0237140\ttotal: 961ms\tremaining: 849ms\n",
      "531:\tlearn: 0.0236837\ttotal: 963ms\tremaining: 847ms\n",
      "532:\tlearn: 0.0236387\ttotal: 965ms\tremaining: 845ms\n",
      "533:\tlearn: 0.0236387\ttotal: 966ms\tremaining: 843ms\n",
      "534:\tlearn: 0.0236382\ttotal: 968ms\tremaining: 842ms\n",
      "535:\tlearn: 0.0236382\ttotal: 970ms\tremaining: 840ms\n",
      "536:\tlearn: 0.0236381\ttotal: 972ms\tremaining: 838ms\n",
      "537:\tlearn: 0.0236380\ttotal: 973ms\tremaining: 836ms\n",
      "538:\tlearn: 0.0236380\ttotal: 975ms\tremaining: 834ms\n",
      "539:\tlearn: 0.0236379\ttotal: 977ms\tremaining: 832ms\n",
      "540:\tlearn: 0.0236378\ttotal: 979ms\tremaining: 830ms\n",
      "541:\tlearn: 0.0236378\ttotal: 981ms\tremaining: 829ms\n",
      "542:\tlearn: 0.0236378\ttotal: 982ms\tremaining: 827ms\n",
      "543:\tlearn: 0.0236377\ttotal: 984ms\tremaining: 825ms\n",
      "544:\tlearn: 0.0236376\ttotal: 986ms\tremaining: 823ms\n",
      "545:\tlearn: 0.0236376\ttotal: 988ms\tremaining: 821ms\n",
      "546:\tlearn: 0.0236375\ttotal: 989ms\tremaining: 819ms\n",
      "547:\tlearn: 0.0236375\ttotal: 991ms\tremaining: 817ms\n",
      "548:\tlearn: 0.0236375\ttotal: 994ms\tremaining: 816ms\n",
      "549:\tlearn: 0.0236374\ttotal: 995ms\tremaining: 814ms\n",
      "550:\tlearn: 0.0236374\ttotal: 997ms\tremaining: 813ms\n",
      "551:\tlearn: 0.0236373\ttotal: 999ms\tremaining: 811ms\n",
      "552:\tlearn: 0.0236372\ttotal: 1s\tremaining: 809ms\n",
      "553:\tlearn: 0.0236372\ttotal: 1s\tremaining: 807ms\n",
      "554:\tlearn: 0.0236372\ttotal: 1s\tremaining: 805ms\n",
      "555:\tlearn: 0.0236371\ttotal: 1.01s\tremaining: 804ms\n",
      "556:\tlearn: 0.0236371\ttotal: 1.01s\tremaining: 802ms\n",
      "557:\tlearn: 0.0236371\ttotal: 1.01s\tremaining: 800ms\n",
      "558:\tlearn: 0.0236370\ttotal: 1.01s\tremaining: 798ms\n",
      "559:\tlearn: 0.0236370\ttotal: 1.01s\tremaining: 796ms\n",
      "560:\tlearn: 0.0236370\ttotal: 1.01s\tremaining: 794ms\n",
      "561:\tlearn: 0.0236370\ttotal: 1.02s\tremaining: 793ms\n",
      "562:\tlearn: 0.0236369\ttotal: 1.02s\tremaining: 791ms\n",
      "563:\tlearn: 0.0236368\ttotal: 1.02s\tremaining: 789ms\n",
      "564:\tlearn: 0.0236369\ttotal: 1.02s\tremaining: 787ms\n",
      "565:\tlearn: 0.0236368\ttotal: 1.02s\tremaining: 785ms\n",
      "566:\tlearn: 0.0236367\ttotal: 1.03s\tremaining: 784ms\n",
      "567:\tlearn: 0.0236367\ttotal: 1.03s\tremaining: 782ms\n",
      "568:\tlearn: 0.0236366\ttotal: 1.03s\tremaining: 780ms\n",
      "569:\tlearn: 0.0236366\ttotal: 1.03s\tremaining: 778ms\n",
      "570:\tlearn: 0.0236365\ttotal: 1.03s\tremaining: 776ms\n",
      "571:\tlearn: 0.0236363\ttotal: 1.03s\tremaining: 775ms\n",
      "572:\tlearn: 0.0236363\ttotal: 1.04s\tremaining: 773ms\n",
      "573:\tlearn: 0.0236362\ttotal: 1.04s\tremaining: 771ms\n",
      "574:\tlearn: 0.0236091\ttotal: 1.04s\tremaining: 769ms\n",
      "575:\tlearn: 0.0236091\ttotal: 1.04s\tremaining: 767ms\n",
      "576:\tlearn: 0.0236090\ttotal: 1.04s\tremaining: 765ms\n",
      "577:\tlearn: 0.0236090\ttotal: 1.05s\tremaining: 764ms\n",
      "578:\tlearn: 0.0236089\ttotal: 1.05s\tremaining: 762ms\n",
      "579:\tlearn: 0.0236089\ttotal: 1.05s\tremaining: 760ms\n",
      "580:\tlearn: 0.0236089\ttotal: 1.05s\tremaining: 758ms\n",
      "581:\tlearn: 0.0236089\ttotal: 1.05s\tremaining: 757ms\n",
      "582:\tlearn: 0.0236088\ttotal: 1.05s\tremaining: 755ms\n",
      "583:\tlearn: 0.0236088\ttotal: 1.06s\tremaining: 753ms\n",
      "584:\tlearn: 0.0236086\ttotal: 1.06s\tremaining: 751ms\n",
      "585:\tlearn: 0.0236086\ttotal: 1.06s\tremaining: 749ms\n",
      "586:\tlearn: 0.0236086\ttotal: 1.06s\tremaining: 747ms\n",
      "587:\tlearn: 0.0236084\ttotal: 1.06s\tremaining: 745ms\n",
      "588:\tlearn: 0.0236084\ttotal: 1.06s\tremaining: 743ms\n",
      "589:\tlearn: 0.0235153\ttotal: 1.07s\tremaining: 742ms\n",
      "590:\tlearn: 0.0234917\ttotal: 1.07s\tremaining: 740ms\n",
      "591:\tlearn: 0.0234917\ttotal: 1.07s\tremaining: 738ms\n",
      "592:\tlearn: 0.0234340\ttotal: 1.07s\tremaining: 737ms\n",
      "593:\tlearn: 0.0234340\ttotal: 1.07s\tremaining: 734ms\n",
      "594:\tlearn: 0.0234339\ttotal: 1.08s\tremaining: 733ms\n",
      "595:\tlearn: 0.0234339\ttotal: 1.08s\tremaining: 731ms\n",
      "596:\tlearn: 0.0234338\ttotal: 1.08s\tremaining: 729ms\n",
      "597:\tlearn: 0.0234335\ttotal: 1.08s\tremaining: 727ms\n",
      "598:\tlearn: 0.0234335\ttotal: 1.08s\tremaining: 725ms\n",
      "599:\tlearn: 0.0234335\ttotal: 1.08s\tremaining: 724ms\n",
      "600:\tlearn: 0.0234334\ttotal: 1.09s\tremaining: 722ms\n",
      "601:\tlearn: 0.0234334\ttotal: 1.09s\tremaining: 720ms\n",
      "602:\tlearn: 0.0234333\ttotal: 1.09s\tremaining: 718ms\n",
      "603:\tlearn: 0.0234333\ttotal: 1.09s\tremaining: 716ms\n",
      "604:\tlearn: 0.0234333\ttotal: 1.09s\tremaining: 715ms\n",
      "605:\tlearn: 0.0234333\ttotal: 1.1s\tremaining: 713ms\n",
      "606:\tlearn: 0.0234332\ttotal: 1.1s\tremaining: 711ms\n",
      "607:\tlearn: 0.0234332\ttotal: 1.1s\tremaining: 709ms\n",
      "608:\tlearn: 0.0234332\ttotal: 1.1s\tremaining: 707ms\n",
      "609:\tlearn: 0.0234332\ttotal: 1.1s\tremaining: 705ms\n",
      "610:\tlearn: 0.0234332\ttotal: 1.1s\tremaining: 704ms\n",
      "611:\tlearn: 0.0234331\ttotal: 1.11s\tremaining: 702ms\n",
      "612:\tlearn: 0.0234331\ttotal: 1.11s\tremaining: 700ms\n",
      "613:\tlearn: 0.0234330\ttotal: 1.11s\tremaining: 698ms\n",
      "614:\tlearn: 0.0234329\ttotal: 1.11s\tremaining: 696ms\n",
      "615:\tlearn: 0.0234329\ttotal: 1.11s\tremaining: 695ms\n",
      "616:\tlearn: 0.0234329\ttotal: 1.12s\tremaining: 693ms\n",
      "617:\tlearn: 0.0234329\ttotal: 1.12s\tremaining: 691ms\n",
      "618:\tlearn: 0.0234328\ttotal: 1.12s\tremaining: 689ms\n",
      "619:\tlearn: 0.0234328\ttotal: 1.12s\tremaining: 687ms\n",
      "620:\tlearn: 0.0234327\ttotal: 1.12s\tremaining: 686ms\n",
      "621:\tlearn: 0.0234326\ttotal: 1.13s\tremaining: 684ms\n",
      "622:\tlearn: 0.0234325\ttotal: 1.13s\tremaining: 682ms\n",
      "623:\tlearn: 0.0234324\ttotal: 1.13s\tremaining: 680ms\n",
      "624:\tlearn: 0.0234324\ttotal: 1.13s\tremaining: 679ms\n",
      "625:\tlearn: 0.0234324\ttotal: 1.13s\tremaining: 677ms\n",
      "626:\tlearn: 0.0234322\ttotal: 1.13s\tremaining: 675ms\n",
      "627:\tlearn: 0.0234323\ttotal: 1.14s\tremaining: 673ms\n",
      "628:\tlearn: 0.0234322\ttotal: 1.14s\tremaining: 671ms\n",
      "629:\tlearn: 0.0234321\ttotal: 1.14s\tremaining: 670ms\n",
      "630:\tlearn: 0.0234320\ttotal: 1.14s\tremaining: 668ms\n",
      "631:\tlearn: 0.0234320\ttotal: 1.14s\tremaining: 666ms\n",
      "632:\tlearn: 0.0234319\ttotal: 1.15s\tremaining: 664ms\n",
      "633:\tlearn: 0.0234318\ttotal: 1.15s\tremaining: 662ms\n",
      "634:\tlearn: 0.0234317\ttotal: 1.15s\tremaining: 660ms\n",
      "635:\tlearn: 0.0234316\ttotal: 1.15s\tremaining: 658ms\n",
      "636:\tlearn: 0.0234316\ttotal: 1.15s\tremaining: 657ms\n",
      "637:\tlearn: 0.0234316\ttotal: 1.15s\tremaining: 655ms\n",
      "638:\tlearn: 0.0234315\ttotal: 1.16s\tremaining: 653ms\n",
      "639:\tlearn: 0.0234315\ttotal: 1.16s\tremaining: 651ms\n",
      "640:\tlearn: 0.0234313\ttotal: 1.16s\tremaining: 650ms\n",
      "641:\tlearn: 0.0234312\ttotal: 1.16s\tremaining: 648ms\n",
      "642:\tlearn: 0.0234312\ttotal: 1.16s\tremaining: 646ms\n",
      "643:\tlearn: 0.0234312\ttotal: 1.17s\tremaining: 644ms\n",
      "644:\tlearn: 0.0234310\ttotal: 1.17s\tremaining: 642ms\n",
      "645:\tlearn: 0.0234309\ttotal: 1.17s\tremaining: 640ms\n",
      "646:\tlearn: 0.0234308\ttotal: 1.17s\tremaining: 639ms\n",
      "647:\tlearn: 0.0234307\ttotal: 1.17s\tremaining: 637ms\n",
      "648:\tlearn: 0.0234307\ttotal: 1.17s\tremaining: 635ms\n",
      "649:\tlearn: 0.0234307\ttotal: 1.18s\tremaining: 633ms\n",
      "650:\tlearn: 0.0234307\ttotal: 1.18s\tremaining: 631ms\n",
      "651:\tlearn: 0.0234307\ttotal: 1.18s\tremaining: 630ms\n",
      "652:\tlearn: 0.0234306\ttotal: 1.18s\tremaining: 628ms\n",
      "653:\tlearn: 0.0234306\ttotal: 1.18s\tremaining: 626ms\n",
      "654:\tlearn: 0.0234306\ttotal: 1.18s\tremaining: 624ms\n",
      "655:\tlearn: 0.0234306\ttotal: 1.19s\tremaining: 622ms\n",
      "656:\tlearn: 0.0234305\ttotal: 1.19s\tremaining: 620ms\n",
      "657:\tlearn: 0.0234305\ttotal: 1.19s\tremaining: 618ms\n",
      "658:\tlearn: 0.0234303\ttotal: 1.19s\tremaining: 617ms\n",
      "659:\tlearn: 0.0234303\ttotal: 1.19s\tremaining: 615ms\n",
      "660:\tlearn: 0.0234303\ttotal: 1.2s\tremaining: 613ms\n",
      "661:\tlearn: 0.0234303\ttotal: 1.2s\tremaining: 611ms\n",
      "662:\tlearn: 0.0234303\ttotal: 1.2s\tremaining: 610ms\n",
      "663:\tlearn: 0.0234302\ttotal: 1.2s\tremaining: 608ms\n",
      "664:\tlearn: 0.0234302\ttotal: 1.2s\tremaining: 606ms\n",
      "665:\tlearn: 0.0234299\ttotal: 1.21s\tremaining: 604ms\n",
      "666:\tlearn: 0.0234299\ttotal: 1.21s\tremaining: 603ms\n",
      "667:\tlearn: 0.0234297\ttotal: 1.21s\tremaining: 601ms\n",
      "668:\tlearn: 0.0234296\ttotal: 1.21s\tremaining: 599ms\n",
      "669:\tlearn: 0.0234296\ttotal: 1.21s\tremaining: 597ms\n",
      "670:\tlearn: 0.0234295\ttotal: 1.21s\tremaining: 595ms\n",
      "671:\tlearn: 0.0234294\ttotal: 1.22s\tremaining: 594ms\n",
      "672:\tlearn: 0.0234294\ttotal: 1.22s\tremaining: 592ms\n",
      "673:\tlearn: 0.0234294\ttotal: 1.22s\tremaining: 590ms\n",
      "674:\tlearn: 0.0234293\ttotal: 1.22s\tremaining: 588ms\n",
      "675:\tlearn: 0.0234292\ttotal: 1.22s\tremaining: 586ms\n",
      "676:\tlearn: 0.0234290\ttotal: 1.23s\tremaining: 585ms\n",
      "677:\tlearn: 0.0234290\ttotal: 1.23s\tremaining: 583ms\n",
      "678:\tlearn: 0.0234290\ttotal: 1.23s\tremaining: 581ms\n",
      "679:\tlearn: 0.0234289\ttotal: 1.23s\tremaining: 579ms\n",
      "680:\tlearn: 0.0234288\ttotal: 1.23s\tremaining: 578ms\n",
      "681:\tlearn: 0.0234288\ttotal: 1.23s\tremaining: 576ms\n",
      "682:\tlearn: 0.0234287\ttotal: 1.24s\tremaining: 574ms\n",
      "683:\tlearn: 0.0234287\ttotal: 1.24s\tremaining: 572ms\n",
      "684:\tlearn: 0.0234286\ttotal: 1.24s\tremaining: 570ms\n",
      "685:\tlearn: 0.0234285\ttotal: 1.24s\tremaining: 568ms\n",
      "686:\tlearn: 0.0234284\ttotal: 1.24s\tremaining: 567ms\n",
      "687:\tlearn: 0.0234283\ttotal: 1.25s\tremaining: 565ms\n",
      "688:\tlearn: 0.0234281\ttotal: 1.25s\tremaining: 563ms\n",
      "689:\tlearn: 0.0234282\ttotal: 1.25s\tremaining: 561ms\n",
      "690:\tlearn: 0.0234280\ttotal: 1.25s\tremaining: 559ms\n",
      "691:\tlearn: 0.0234274\ttotal: 1.25s\tremaining: 558ms\n",
      "692:\tlearn: 0.0234274\ttotal: 1.25s\tremaining: 556ms\n",
      "693:\tlearn: 0.0234130\ttotal: 1.26s\tremaining: 554ms\n",
      "694:\tlearn: 0.0234128\ttotal: 1.26s\tremaining: 552ms\n",
      "695:\tlearn: 0.0233986\ttotal: 1.26s\tremaining: 551ms\n",
      "696:\tlearn: 0.0233984\ttotal: 1.26s\tremaining: 549ms\n",
      "697:\tlearn: 0.0233983\ttotal: 1.26s\tremaining: 547ms\n",
      "698:\tlearn: 0.0233983\ttotal: 1.27s\tremaining: 545ms\n",
      "699:\tlearn: 0.0233982\ttotal: 1.27s\tremaining: 543ms\n",
      "700:\tlearn: 0.0233983\ttotal: 1.27s\tremaining: 542ms\n",
      "701:\tlearn: 0.0233982\ttotal: 1.27s\tremaining: 540ms\n",
      "702:\tlearn: 0.0233662\ttotal: 1.27s\tremaining: 538ms\n",
      "703:\tlearn: 0.0233069\ttotal: 1.28s\tremaining: 537ms\n",
      "704:\tlearn: 0.0232921\ttotal: 1.28s\tremaining: 535ms\n",
      "705:\tlearn: 0.0232921\ttotal: 1.28s\tremaining: 533ms\n",
      "706:\tlearn: 0.0232920\ttotal: 1.28s\tremaining: 532ms\n",
      "707:\tlearn: 0.0232920\ttotal: 1.28s\tremaining: 530ms\n",
      "708:\tlearn: 0.0232920\ttotal: 1.29s\tremaining: 528ms\n",
      "709:\tlearn: 0.0232919\ttotal: 1.29s\tremaining: 526ms\n",
      "710:\tlearn: 0.0232920\ttotal: 1.29s\tremaining: 524ms\n",
      "711:\tlearn: 0.0232919\ttotal: 1.29s\tremaining: 523ms\n",
      "712:\tlearn: 0.0232917\ttotal: 1.29s\tremaining: 521ms\n",
      "713:\tlearn: 0.0232918\ttotal: 1.29s\tremaining: 519ms\n",
      "714:\tlearn: 0.0232912\ttotal: 1.3s\tremaining: 517ms\n",
      "715:\tlearn: 0.0232912\ttotal: 1.3s\tremaining: 515ms\n",
      "716:\tlearn: 0.0232911\ttotal: 1.3s\tremaining: 514ms\n",
      "717:\tlearn: 0.0232910\ttotal: 1.3s\tremaining: 512ms\n",
      "718:\tlearn: 0.0232910\ttotal: 1.3s\tremaining: 510ms\n",
      "719:\tlearn: 0.0232908\ttotal: 1.31s\tremaining: 508ms\n",
      "720:\tlearn: 0.0232908\ttotal: 1.31s\tremaining: 506ms\n",
      "721:\tlearn: 0.0232907\ttotal: 1.31s\tremaining: 505ms\n",
      "722:\tlearn: 0.0232906\ttotal: 1.31s\tremaining: 503ms\n",
      "723:\tlearn: 0.0232906\ttotal: 1.31s\tremaining: 501ms\n",
      "724:\tlearn: 0.0232901\ttotal: 1.32s\tremaining: 499ms\n",
      "725:\tlearn: 0.0232900\ttotal: 1.32s\tremaining: 498ms\n",
      "726:\tlearn: 0.0232899\ttotal: 1.32s\tremaining: 496ms\n",
      "727:\tlearn: 0.0232899\ttotal: 1.32s\tremaining: 494ms\n",
      "728:\tlearn: 0.0232899\ttotal: 1.32s\tremaining: 492ms\n",
      "729:\tlearn: 0.0232899\ttotal: 1.33s\tremaining: 490ms\n",
      "730:\tlearn: 0.0232899\ttotal: 1.33s\tremaining: 489ms\n",
      "731:\tlearn: 0.0232898\ttotal: 1.33s\tremaining: 487ms\n",
      "732:\tlearn: 0.0232897\ttotal: 1.33s\tremaining: 485ms\n",
      "733:\tlearn: 0.0232897\ttotal: 1.33s\tremaining: 483ms\n",
      "734:\tlearn: 0.0232896\ttotal: 1.33s\tremaining: 481ms\n",
      "735:\tlearn: 0.0232895\ttotal: 1.34s\tremaining: 479ms\n",
      "736:\tlearn: 0.0232894\ttotal: 1.34s\tremaining: 478ms\n",
      "737:\tlearn: 0.0232894\ttotal: 1.34s\tremaining: 476ms\n",
      "738:\tlearn: 0.0232894\ttotal: 1.34s\tremaining: 474ms\n",
      "739:\tlearn: 0.0232894\ttotal: 1.34s\tremaining: 472ms\n",
      "740:\tlearn: 0.0232894\ttotal: 1.34s\tremaining: 470ms\n",
      "741:\tlearn: 0.0232894\ttotal: 1.35s\tremaining: 468ms\n",
      "742:\tlearn: 0.0232892\ttotal: 1.35s\tremaining: 467ms\n",
      "743:\tlearn: 0.0232891\ttotal: 1.35s\tremaining: 465ms\n",
      "744:\tlearn: 0.0232891\ttotal: 1.35s\tremaining: 463ms\n",
      "745:\tlearn: 0.0232891\ttotal: 1.35s\tremaining: 461ms\n",
      "746:\tlearn: 0.0232891\ttotal: 1.35s\tremaining: 459ms\n",
      "747:\tlearn: 0.0232891\ttotal: 1.36s\tremaining: 457ms\n",
      "748:\tlearn: 0.0232891\ttotal: 1.36s\tremaining: 455ms\n",
      "749:\tlearn: 0.0232891\ttotal: 1.36s\tremaining: 454ms\n",
      "750:\tlearn: 0.0232891\ttotal: 1.36s\tremaining: 452ms\n",
      "751:\tlearn: 0.0232407\ttotal: 1.36s\tremaining: 450ms\n",
      "752:\tlearn: 0.0232406\ttotal: 1.37s\tremaining: 448ms\n",
      "753:\tlearn: 0.0232197\ttotal: 1.37s\tremaining: 446ms\n",
      "754:\tlearn: 0.0232197\ttotal: 1.37s\tremaining: 444ms\n",
      "755:\tlearn: 0.0232197\ttotal: 1.37s\tremaining: 443ms\n",
      "756:\tlearn: 0.0232197\ttotal: 1.37s\tremaining: 441ms\n",
      "757:\tlearn: 0.0232196\ttotal: 1.37s\tremaining: 439ms\n",
      "758:\tlearn: 0.0232196\ttotal: 1.38s\tremaining: 437ms\n",
      "759:\tlearn: 0.0232196\ttotal: 1.38s\tremaining: 435ms\n",
      "760:\tlearn: 0.0232196\ttotal: 1.38s\tremaining: 433ms\n",
      "761:\tlearn: 0.0232195\ttotal: 1.38s\tremaining: 432ms\n",
      "762:\tlearn: 0.0232196\ttotal: 1.38s\tremaining: 430ms\n",
      "763:\tlearn: 0.0232195\ttotal: 1.39s\tremaining: 428ms\n",
      "764:\tlearn: 0.0232195\ttotal: 1.39s\tremaining: 426ms\n",
      "765:\tlearn: 0.0232195\ttotal: 1.39s\tremaining: 425ms\n",
      "766:\tlearn: 0.0232196\ttotal: 1.39s\tremaining: 423ms\n",
      "767:\tlearn: 0.0232195\ttotal: 1.39s\tremaining: 421ms\n",
      "768:\tlearn: 0.0232194\ttotal: 1.39s\tremaining: 419ms\n",
      "769:\tlearn: 0.0232194\ttotal: 1.4s\tremaining: 417ms\n",
      "770:\tlearn: 0.0232194\ttotal: 1.4s\tremaining: 415ms\n",
      "771:\tlearn: 0.0232193\ttotal: 1.4s\tremaining: 414ms\n",
      "772:\tlearn: 0.0232193\ttotal: 1.4s\tremaining: 412ms\n",
      "773:\tlearn: 0.0232193\ttotal: 1.4s\tremaining: 410ms\n",
      "774:\tlearn: 0.0232192\ttotal: 1.41s\tremaining: 408ms\n",
      "775:\tlearn: 0.0232192\ttotal: 1.41s\tremaining: 406ms\n",
      "776:\tlearn: 0.0232190\ttotal: 1.41s\tremaining: 404ms\n",
      "777:\tlearn: 0.0232190\ttotal: 1.41s\tremaining: 403ms\n",
      "778:\tlearn: 0.0232190\ttotal: 1.41s\tremaining: 401ms\n",
      "779:\tlearn: 0.0232189\ttotal: 1.41s\tremaining: 399ms\n",
      "780:\tlearn: 0.0232189\ttotal: 1.42s\tremaining: 397ms\n",
      "781:\tlearn: 0.0232188\ttotal: 1.42s\tremaining: 395ms\n",
      "782:\tlearn: 0.0232188\ttotal: 1.42s\tremaining: 393ms\n",
      "783:\tlearn: 0.0232188\ttotal: 1.42s\tremaining: 392ms\n",
      "784:\tlearn: 0.0232188\ttotal: 1.42s\tremaining: 390ms\n",
      "785:\tlearn: 0.0232188\ttotal: 1.43s\tremaining: 388ms\n",
      "786:\tlearn: 0.0232187\ttotal: 1.43s\tremaining: 386ms\n",
      "787:\tlearn: 0.0232187\ttotal: 1.43s\tremaining: 384ms\n",
      "788:\tlearn: 0.0232187\ttotal: 1.43s\tremaining: 382ms\n",
      "789:\tlearn: 0.0232187\ttotal: 1.43s\tremaining: 381ms\n",
      "790:\tlearn: 0.0232187\ttotal: 1.43s\tremaining: 379ms\n",
      "791:\tlearn: 0.0232186\ttotal: 1.44s\tremaining: 377ms\n",
      "792:\tlearn: 0.0232185\ttotal: 1.44s\tremaining: 375ms\n",
      "793:\tlearn: 0.0232184\ttotal: 1.44s\tremaining: 373ms\n",
      "794:\tlearn: 0.0232183\ttotal: 1.44s\tremaining: 372ms\n",
      "795:\tlearn: 0.0232183\ttotal: 1.44s\tremaining: 370ms\n",
      "796:\tlearn: 0.0232182\ttotal: 1.44s\tremaining: 368ms\n",
      "797:\tlearn: 0.0232182\ttotal: 1.45s\tremaining: 366ms\n",
      "798:\tlearn: 0.0232182\ttotal: 1.45s\tremaining: 364ms\n",
      "799:\tlearn: 0.0232182\ttotal: 1.45s\tremaining: 363ms\n",
      "800:\tlearn: 0.0232181\ttotal: 1.45s\tremaining: 361ms\n",
      "801:\tlearn: 0.0232181\ttotal: 1.45s\tremaining: 359ms\n",
      "802:\tlearn: 0.0232181\ttotal: 1.46s\tremaining: 357ms\n",
      "803:\tlearn: 0.0232181\ttotal: 1.46s\tremaining: 355ms\n",
      "804:\tlearn: 0.0232180\ttotal: 1.46s\tremaining: 354ms\n",
      "805:\tlearn: 0.0232180\ttotal: 1.46s\tremaining: 352ms\n",
      "806:\tlearn: 0.0232179\ttotal: 1.46s\tremaining: 350ms\n",
      "807:\tlearn: 0.0232179\ttotal: 1.47s\tremaining: 348ms\n",
      "808:\tlearn: 0.0232179\ttotal: 1.47s\tremaining: 346ms\n",
      "809:\tlearn: 0.0232178\ttotal: 1.47s\tremaining: 345ms\n",
      "810:\tlearn: 0.0232178\ttotal: 1.47s\tremaining: 343ms\n",
      "811:\tlearn: 0.0232177\ttotal: 1.47s\tremaining: 341ms\n",
      "812:\tlearn: 0.0232176\ttotal: 1.47s\tremaining: 339ms\n",
      "813:\tlearn: 0.0232176\ttotal: 1.48s\tremaining: 338ms\n",
      "814:\tlearn: 0.0232176\ttotal: 1.48s\tremaining: 336ms\n",
      "815:\tlearn: 0.0232175\ttotal: 1.48s\tremaining: 335ms\n",
      "816:\tlearn: 0.0232174\ttotal: 1.49s\tremaining: 333ms\n",
      "817:\tlearn: 0.0232174\ttotal: 1.49s\tremaining: 332ms\n",
      "818:\tlearn: 0.0231772\ttotal: 1.49s\tremaining: 330ms\n",
      "819:\tlearn: 0.0231074\ttotal: 1.5s\tremaining: 329ms\n",
      "820:\tlearn: 0.0231073\ttotal: 1.5s\tremaining: 327ms\n",
      "821:\tlearn: 0.0231072\ttotal: 1.5s\tremaining: 325ms\n",
      "822:\tlearn: 0.0231072\ttotal: 1.5s\tremaining: 323ms\n",
      "823:\tlearn: 0.0231072\ttotal: 1.5s\tremaining: 321ms\n",
      "824:\tlearn: 0.0231071\ttotal: 1.51s\tremaining: 320ms\n",
      "825:\tlearn: 0.0231070\ttotal: 1.51s\tremaining: 318ms\n",
      "826:\tlearn: 0.0231070\ttotal: 1.51s\tremaining: 317ms\n",
      "827:\tlearn: 0.0231070\ttotal: 1.51s\tremaining: 315ms\n",
      "828:\tlearn: 0.0231069\ttotal: 1.52s\tremaining: 313ms\n",
      "829:\tlearn: 0.0231070\ttotal: 1.52s\tremaining: 311ms\n",
      "830:\tlearn: 0.0231070\ttotal: 1.52s\tremaining: 309ms\n",
      "831:\tlearn: 0.0231068\ttotal: 1.52s\tremaining: 307ms\n",
      "832:\tlearn: 0.0231064\ttotal: 1.52s\tremaining: 306ms\n",
      "833:\tlearn: 0.0231064\ttotal: 1.52s\tremaining: 304ms\n",
      "834:\tlearn: 0.0231063\ttotal: 1.53s\tremaining: 302ms\n",
      "835:\tlearn: 0.0231062\ttotal: 1.53s\tremaining: 300ms\n",
      "836:\tlearn: 0.0231062\ttotal: 1.53s\tremaining: 298ms\n",
      "837:\tlearn: 0.0231061\ttotal: 1.53s\tremaining: 296ms\n",
      "838:\tlearn: 0.0231061\ttotal: 1.53s\tremaining: 294ms\n",
      "839:\tlearn: 0.0231060\ttotal: 1.54s\tremaining: 293ms\n",
      "840:\tlearn: 0.0231061\ttotal: 1.54s\tremaining: 291ms\n",
      "841:\tlearn: 0.0231060\ttotal: 1.54s\tremaining: 289ms\n",
      "842:\tlearn: 0.0231060\ttotal: 1.54s\tremaining: 287ms\n",
      "843:\tlearn: 0.0231059\ttotal: 1.54s\tremaining: 285ms\n",
      "844:\tlearn: 0.0231055\ttotal: 1.54s\tremaining: 283ms\n",
      "845:\tlearn: 0.0231054\ttotal: 1.55s\tremaining: 282ms\n",
      "846:\tlearn: 0.0231054\ttotal: 1.55s\tremaining: 280ms\n",
      "847:\tlearn: 0.0231052\ttotal: 1.55s\tremaining: 278ms\n",
      "848:\tlearn: 0.0231052\ttotal: 1.55s\tremaining: 276ms\n",
      "849:\tlearn: 0.0231052\ttotal: 1.55s\tremaining: 274ms\n",
      "850:\tlearn: 0.0231050\ttotal: 1.56s\tremaining: 273ms\n",
      "851:\tlearn: 0.0231049\ttotal: 1.56s\tremaining: 271ms\n",
      "852:\tlearn: 0.0231049\ttotal: 1.56s\tremaining: 269ms\n",
      "853:\tlearn: 0.0231049\ttotal: 1.56s\tremaining: 267ms\n",
      "854:\tlearn: 0.0231048\ttotal: 1.56s\tremaining: 265ms\n",
      "855:\tlearn: 0.0231048\ttotal: 1.56s\tremaining: 263ms\n",
      "856:\tlearn: 0.0231048\ttotal: 1.57s\tremaining: 261ms\n",
      "857:\tlearn: 0.0231049\ttotal: 1.57s\tremaining: 260ms\n",
      "858:\tlearn: 0.0231048\ttotal: 1.57s\tremaining: 258ms\n",
      "859:\tlearn: 0.0231047\ttotal: 1.57s\tremaining: 256ms\n",
      "860:\tlearn: 0.0231047\ttotal: 1.57s\tremaining: 254ms\n",
      "861:\tlearn: 0.0231045\ttotal: 1.58s\tremaining: 252ms\n",
      "862:\tlearn: 0.0231044\ttotal: 1.58s\tremaining: 251ms\n",
      "863:\tlearn: 0.0230911\ttotal: 1.58s\tremaining: 249ms\n",
      "864:\tlearn: 0.0230911\ttotal: 1.58s\tremaining: 247ms\n",
      "865:\tlearn: 0.0230909\ttotal: 1.58s\tremaining: 245ms\n",
      "866:\tlearn: 0.0230909\ttotal: 1.58s\tremaining: 243ms\n",
      "867:\tlearn: 0.0230908\ttotal: 1.59s\tremaining: 241ms\n",
      "868:\tlearn: 0.0230908\ttotal: 1.59s\tremaining: 240ms\n",
      "869:\tlearn: 0.0230908\ttotal: 1.59s\tremaining: 238ms\n",
      "870:\tlearn: 0.0230907\ttotal: 1.59s\tremaining: 236ms\n",
      "871:\tlearn: 0.0230907\ttotal: 1.59s\tremaining: 234ms\n",
      "872:\tlearn: 0.0230906\ttotal: 1.6s\tremaining: 232ms\n",
      "873:\tlearn: 0.0230905\ttotal: 1.6s\tremaining: 230ms\n",
      "874:\tlearn: 0.0230905\ttotal: 1.6s\tremaining: 229ms\n",
      "875:\tlearn: 0.0230904\ttotal: 1.6s\tremaining: 227ms\n",
      "876:\tlearn: 0.0230904\ttotal: 1.6s\tremaining: 225ms\n",
      "877:\tlearn: 0.0230903\ttotal: 1.6s\tremaining: 223ms\n",
      "878:\tlearn: 0.0230902\ttotal: 1.61s\tremaining: 221ms\n",
      "879:\tlearn: 0.0230901\ttotal: 1.61s\tremaining: 219ms\n",
      "880:\tlearn: 0.0230901\ttotal: 1.61s\tremaining: 218ms\n",
      "881:\tlearn: 0.0230899\ttotal: 1.61s\tremaining: 216ms\n",
      "882:\tlearn: 0.0230899\ttotal: 1.61s\tremaining: 214ms\n",
      "883:\tlearn: 0.0230898\ttotal: 1.62s\tremaining: 212ms\n",
      "884:\tlearn: 0.0230899\ttotal: 1.62s\tremaining: 210ms\n",
      "885:\tlearn: 0.0230898\ttotal: 1.62s\tremaining: 208ms\n",
      "886:\tlearn: 0.0230898\ttotal: 1.62s\tremaining: 207ms\n",
      "887:\tlearn: 0.0230895\ttotal: 1.62s\tremaining: 205ms\n",
      "888:\tlearn: 0.0230894\ttotal: 1.63s\tremaining: 203ms\n",
      "889:\tlearn: 0.0230893\ttotal: 1.63s\tremaining: 201ms\n",
      "890:\tlearn: 0.0230893\ttotal: 1.63s\tremaining: 199ms\n",
      "891:\tlearn: 0.0230892\ttotal: 1.63s\tremaining: 197ms\n",
      "892:\tlearn: 0.0230891\ttotal: 1.63s\tremaining: 196ms\n",
      "893:\tlearn: 0.0230890\ttotal: 1.63s\tremaining: 194ms\n",
      "894:\tlearn: 0.0230888\ttotal: 1.64s\tremaining: 192ms\n",
      "895:\tlearn: 0.0230673\ttotal: 1.64s\tremaining: 190ms\n",
      "896:\tlearn: 0.0230673\ttotal: 1.64s\tremaining: 188ms\n",
      "897:\tlearn: 0.0230672\ttotal: 1.64s\tremaining: 186ms\n",
      "898:\tlearn: 0.0230672\ttotal: 1.64s\tremaining: 185ms\n",
      "899:\tlearn: 0.0230672\ttotal: 1.65s\tremaining: 183ms\n",
      "900:\tlearn: 0.0230672\ttotal: 1.65s\tremaining: 181ms\n",
      "901:\tlearn: 0.0230672\ttotal: 1.65s\tremaining: 179ms\n",
      "902:\tlearn: 0.0230672\ttotal: 1.65s\tremaining: 177ms\n",
      "903:\tlearn: 0.0230672\ttotal: 1.65s\tremaining: 175ms\n",
      "904:\tlearn: 0.0230671\ttotal: 1.65s\tremaining: 174ms\n",
      "905:\tlearn: 0.0230671\ttotal: 1.66s\tremaining: 172ms\n",
      "906:\tlearn: 0.0230670\ttotal: 1.66s\tremaining: 170ms\n",
      "907:\tlearn: 0.0230669\ttotal: 1.66s\tremaining: 168ms\n",
      "908:\tlearn: 0.0230669\ttotal: 1.66s\tremaining: 166ms\n",
      "909:\tlearn: 0.0230669\ttotal: 1.66s\tremaining: 165ms\n",
      "910:\tlearn: 0.0230667\ttotal: 1.67s\tremaining: 163ms\n",
      "911:\tlearn: 0.0230666\ttotal: 1.67s\tremaining: 161ms\n",
      "912:\tlearn: 0.0230665\ttotal: 1.67s\tremaining: 159ms\n",
      "913:\tlearn: 0.0230665\ttotal: 1.67s\tremaining: 157ms\n",
      "914:\tlearn: 0.0230663\ttotal: 1.67s\tremaining: 155ms\n",
      "915:\tlearn: 0.0230663\ttotal: 1.67s\tremaining: 154ms\n",
      "916:\tlearn: 0.0230663\ttotal: 1.68s\tremaining: 152ms\n",
      "917:\tlearn: 0.0230662\ttotal: 1.68s\tremaining: 150ms\n",
      "918:\tlearn: 0.0230662\ttotal: 1.68s\tremaining: 148ms\n",
      "919:\tlearn: 0.0230662\ttotal: 1.68s\tremaining: 146ms\n",
      "920:\tlearn: 0.0230662\ttotal: 1.68s\tremaining: 144ms\n",
      "921:\tlearn: 0.0230660\ttotal: 1.69s\tremaining: 143ms\n",
      "922:\tlearn: 0.0230660\ttotal: 1.69s\tremaining: 141ms\n",
      "923:\tlearn: 0.0230659\ttotal: 1.69s\tremaining: 139ms\n",
      "924:\tlearn: 0.0230659\ttotal: 1.69s\tremaining: 137ms\n",
      "925:\tlearn: 0.0230658\ttotal: 1.69s\tremaining: 135ms\n",
      "926:\tlearn: 0.0230658\ttotal: 1.7s\tremaining: 134ms\n",
      "927:\tlearn: 0.0230657\ttotal: 1.7s\tremaining: 132ms\n",
      "928:\tlearn: 0.0230656\ttotal: 1.7s\tremaining: 130ms\n",
      "929:\tlearn: 0.0230655\ttotal: 1.7s\tremaining: 128ms\n",
      "930:\tlearn: 0.0230655\ttotal: 1.7s\tremaining: 126ms\n",
      "931:\tlearn: 0.0230655\ttotal: 1.7s\tremaining: 124ms\n",
      "932:\tlearn: 0.0230653\ttotal: 1.71s\tremaining: 123ms\n",
      "933:\tlearn: 0.0230652\ttotal: 1.71s\tremaining: 121ms\n",
      "934:\tlearn: 0.0230651\ttotal: 1.71s\tremaining: 119ms\n",
      "935:\tlearn: 0.0230651\ttotal: 1.71s\tremaining: 117ms\n",
      "936:\tlearn: 0.0230649\ttotal: 1.71s\tremaining: 115ms\n",
      "937:\tlearn: 0.0230648\ttotal: 1.72s\tremaining: 113ms\n",
      "938:\tlearn: 0.0230645\ttotal: 1.72s\tremaining: 112ms\n",
      "939:\tlearn: 0.0230645\ttotal: 1.72s\tremaining: 110ms\n",
      "940:\tlearn: 0.0230644\ttotal: 1.72s\tremaining: 108ms\n",
      "941:\tlearn: 0.0230644\ttotal: 1.72s\tremaining: 106ms\n",
      "942:\tlearn: 0.0230643\ttotal: 1.72s\tremaining: 104ms\n",
      "943:\tlearn: 0.0230642\ttotal: 1.73s\tremaining: 102ms\n",
      "944:\tlearn: 0.0230642\ttotal: 1.73s\tremaining: 101ms\n",
      "945:\tlearn: 0.0230641\ttotal: 1.73s\tremaining: 98.8ms\n",
      "946:\tlearn: 0.0230641\ttotal: 1.73s\tremaining: 96.9ms\n",
      "947:\tlearn: 0.0230641\ttotal: 1.73s\tremaining: 95.1ms\n",
      "948:\tlearn: 0.0230640\ttotal: 1.74s\tremaining: 93.3ms\n",
      "949:\tlearn: 0.0230640\ttotal: 1.74s\tremaining: 91.4ms\n",
      "950:\tlearn: 0.0230639\ttotal: 1.74s\tremaining: 89.6ms\n",
      "951:\tlearn: 0.0230639\ttotal: 1.74s\tremaining: 87.8ms\n",
      "952:\tlearn: 0.0230639\ttotal: 1.74s\tremaining: 85.9ms\n",
      "953:\tlearn: 0.0230638\ttotal: 1.74s\tremaining: 84.1ms\n",
      "954:\tlearn: 0.0230638\ttotal: 1.75s\tremaining: 82.3ms\n",
      "955:\tlearn: 0.0230638\ttotal: 1.75s\tremaining: 80.5ms\n",
      "956:\tlearn: 0.0230635\ttotal: 1.75s\tremaining: 78.6ms\n",
      "957:\tlearn: 0.0230635\ttotal: 1.75s\tremaining: 76.8ms\n",
      "958:\tlearn: 0.0230634\ttotal: 1.75s\tremaining: 75ms\n",
      "959:\tlearn: 0.0230634\ttotal: 1.75s\tremaining: 73.1ms\n",
      "960:\tlearn: 0.0230634\ttotal: 1.76s\tremaining: 71.3ms\n",
      "961:\tlearn: 0.0230633\ttotal: 1.76s\tremaining: 69.5ms\n",
      "962:\tlearn: 0.0230632\ttotal: 1.76s\tremaining: 67.7ms\n",
      "963:\tlearn: 0.0230631\ttotal: 1.76s\tremaining: 65.8ms\n",
      "964:\tlearn: 0.0230630\ttotal: 1.76s\tremaining: 64ms\n",
      "965:\tlearn: 0.0230631\ttotal: 1.77s\tremaining: 62.2ms\n",
      "966:\tlearn: 0.0230630\ttotal: 1.77s\tremaining: 60.4ms\n",
      "967:\tlearn: 0.0230629\ttotal: 1.77s\tremaining: 58.5ms\n",
      "968:\tlearn: 0.0230628\ttotal: 1.77s\tremaining: 56.7ms\n",
      "969:\tlearn: 0.0230628\ttotal: 1.77s\tremaining: 54.9ms\n",
      "970:\tlearn: 0.0230628\ttotal: 1.77s\tremaining: 53ms\n",
      "971:\tlearn: 0.0230628\ttotal: 1.78s\tremaining: 51.2ms\n",
      "972:\tlearn: 0.0230628\ttotal: 1.78s\tremaining: 49.4ms\n",
      "973:\tlearn: 0.0230627\ttotal: 1.78s\tremaining: 47.5ms\n",
      "974:\tlearn: 0.0230625\ttotal: 1.78s\tremaining: 45.7ms\n",
      "975:\tlearn: 0.0230624\ttotal: 1.78s\tremaining: 43.9ms\n",
      "976:\tlearn: 0.0230624\ttotal: 1.79s\tremaining: 42ms\n",
      "977:\tlearn: 0.0230624\ttotal: 1.79s\tremaining: 40.2ms\n",
      "978:\tlearn: 0.0230624\ttotal: 1.79s\tremaining: 38.4ms\n",
      "979:\tlearn: 0.0230624\ttotal: 1.79s\tremaining: 36.6ms\n",
      "980:\tlearn: 0.0230623\ttotal: 1.79s\tremaining: 34.7ms\n",
      "981:\tlearn: 0.0230623\ttotal: 1.79s\tremaining: 32.9ms\n",
      "982:\tlearn: 0.0230622\ttotal: 1.8s\tremaining: 31.1ms\n",
      "983:\tlearn: 0.0230622\ttotal: 1.8s\tremaining: 29.2ms\n",
      "984:\tlearn: 0.0230622\ttotal: 1.8s\tremaining: 27.4ms\n",
      "985:\tlearn: 0.0230622\ttotal: 1.8s\tremaining: 25.6ms\n",
      "986:\tlearn: 0.0230621\ttotal: 1.8s\tremaining: 23.8ms\n",
      "987:\tlearn: 0.0230620\ttotal: 1.81s\tremaining: 21.9ms\n",
      "988:\tlearn: 0.0230620\ttotal: 1.81s\tremaining: 20.1ms\n",
      "989:\tlearn: 0.0230620\ttotal: 1.81s\tremaining: 18.3ms\n",
      "990:\tlearn: 0.0230620\ttotal: 1.81s\tremaining: 16.5ms\n",
      "991:\tlearn: 0.0230619\ttotal: 1.81s\tremaining: 14.6ms\n",
      "992:\tlearn: 0.0230619\ttotal: 1.81s\tremaining: 12.8ms\n",
      "993:\tlearn: 0.0230617\ttotal: 1.82s\tremaining: 11ms\n",
      "994:\tlearn: 0.0230615\ttotal: 1.82s\tremaining: 9.14ms\n",
      "995:\tlearn: 0.0230614\ttotal: 1.82s\tremaining: 7.31ms\n",
      "996:\tlearn: 0.0230613\ttotal: 1.82s\tremaining: 5.48ms\n",
      "997:\tlearn: 0.0230613\ttotal: 1.82s\tremaining: 3.65ms\n",
      "998:\tlearn: 0.0230612\ttotal: 1.83s\tremaining: 1.83ms\n",
      "999:\tlearn: 0.0230612\ttotal: 1.83s\tremaining: 0us\n",
      "0:\tlearn: 0.3401688\ttotal: 1.37ms\tremaining: 1.37s\n",
      "1:\tlearn: 0.2187862\ttotal: 3.46ms\tremaining: 1.73s\n",
      "2:\tlearn: 0.1818483\ttotal: 5.83ms\tremaining: 1.94s\n",
      "3:\tlearn: 0.1679123\ttotal: 8.15ms\tremaining: 2.03s\n",
      "4:\tlearn: 0.1535802\ttotal: 10.1ms\tremaining: 2.01s\n",
      "5:\tlearn: 0.1388541\ttotal: 12.2ms\tremaining: 2.02s\n",
      "6:\tlearn: 0.1330192\ttotal: 14.1ms\tremaining: 2s\n",
      "7:\tlearn: 0.1260239\ttotal: 16.1ms\tremaining: 2s\n",
      "8:\tlearn: 0.1213009\ttotal: 18.2ms\tremaining: 2s\n",
      "9:\tlearn: 0.1152351\ttotal: 20.1ms\tremaining: 1.99s\n",
      "10:\tlearn: 0.1114086\ttotal: 22.1ms\tremaining: 1.99s\n",
      "11:\tlearn: 0.1054574\ttotal: 24.2ms\tremaining: 1.99s\n",
      "12:\tlearn: 0.1026596\ttotal: 26.5ms\tremaining: 2.01s\n",
      "13:\tlearn: 0.0991288\ttotal: 28.6ms\tremaining: 2.02s\n",
      "14:\tlearn: 0.0968921\ttotal: 30.5ms\tremaining: 2s\n",
      "15:\tlearn: 0.0935146\ttotal: 32.5ms\tremaining: 2s\n",
      "16:\tlearn: 0.0910686\ttotal: 34.4ms\tremaining: 1.99s\n",
      "17:\tlearn: 0.0897419\ttotal: 36.5ms\tremaining: 1.99s\n",
      "18:\tlearn: 0.0888624\ttotal: 38.8ms\tremaining: 2s\n",
      "19:\tlearn: 0.0869924\ttotal: 40.7ms\tremaining: 1.99s\n",
      "20:\tlearn: 0.0854988\ttotal: 42.6ms\tremaining: 1.99s\n",
      "21:\tlearn: 0.0835536\ttotal: 44.9ms\tremaining: 2s\n",
      "22:\tlearn: 0.0813809\ttotal: 47ms\tremaining: 2s\n",
      "23:\tlearn: 0.0780136\ttotal: 49.1ms\tremaining: 2s\n",
      "24:\tlearn: 0.0755844\ttotal: 51.2ms\tremaining: 2s\n",
      "25:\tlearn: 0.0745842\ttotal: 53.3ms\tremaining: 2s\n",
      "26:\tlearn: 0.0727494\ttotal: 55.2ms\tremaining: 1.99s\n",
      "27:\tlearn: 0.0701703\ttotal: 57.2ms\tremaining: 1.98s\n",
      "28:\tlearn: 0.0684395\ttotal: 59.4ms\tremaining: 1.99s\n",
      "29:\tlearn: 0.0670071\ttotal: 61.3ms\tremaining: 1.98s\n",
      "30:\tlearn: 0.0658517\ttotal: 63.3ms\tremaining: 1.98s\n",
      "31:\tlearn: 0.0647186\ttotal: 65.5ms\tremaining: 1.98s\n",
      "32:\tlearn: 0.0627563\ttotal: 67.8ms\tremaining: 1.99s\n",
      "33:\tlearn: 0.0618674\ttotal: 69.8ms\tremaining: 1.98s\n",
      "34:\tlearn: 0.0605472\ttotal: 71.9ms\tremaining: 1.98s\n",
      "35:\tlearn: 0.0592497\ttotal: 73.9ms\tremaining: 1.98s\n",
      "36:\tlearn: 0.0582435\ttotal: 75.7ms\tremaining: 1.97s\n",
      "37:\tlearn: 0.0571699\ttotal: 77.8ms\tremaining: 1.97s\n",
      "38:\tlearn: 0.0562875\ttotal: 79.8ms\tremaining: 1.97s\n",
      "39:\tlearn: 0.0554755\ttotal: 81.8ms\tremaining: 1.96s\n",
      "40:\tlearn: 0.0547284\ttotal: 83.8ms\tremaining: 1.96s\n",
      "41:\tlearn: 0.0539605\ttotal: 86ms\tremaining: 1.96s\n",
      "42:\tlearn: 0.0531635\ttotal: 88ms\tremaining: 1.96s\n",
      "43:\tlearn: 0.0523679\ttotal: 90ms\tremaining: 1.95s\n",
      "44:\tlearn: 0.0510843\ttotal: 92.2ms\tremaining: 1.96s\n",
      "45:\tlearn: 0.0504998\ttotal: 94.2ms\tremaining: 1.95s\n",
      "46:\tlearn: 0.0500753\ttotal: 96.1ms\tremaining: 1.95s\n",
      "47:\tlearn: 0.0495912\ttotal: 98.6ms\tremaining: 1.96s\n",
      "48:\tlearn: 0.0492385\ttotal: 101ms\tremaining: 1.95s\n",
      "49:\tlearn: 0.0487834\ttotal: 103ms\tremaining: 1.95s\n",
      "50:\tlearn: 0.0478200\ttotal: 105ms\tremaining: 1.95s\n",
      "51:\tlearn: 0.0471465\ttotal: 107ms\tremaining: 1.95s\n",
      "52:\tlearn: 0.0467225\ttotal: 109ms\tremaining: 1.94s\n",
      "53:\tlearn: 0.0460662\ttotal: 111ms\tremaining: 1.94s\n",
      "54:\tlearn: 0.0453778\ttotal: 113ms\tremaining: 1.94s\n",
      "55:\tlearn: 0.0450193\ttotal: 115ms\tremaining: 1.93s\n",
      "56:\tlearn: 0.0449712\ttotal: 116ms\tremaining: 1.92s\n",
      "57:\tlearn: 0.0445963\ttotal: 119ms\tremaining: 1.93s\n",
      "58:\tlearn: 0.0442474\ttotal: 121ms\tremaining: 1.92s\n",
      "59:\tlearn: 0.0437021\ttotal: 122ms\tremaining: 1.92s\n",
      "60:\tlearn: 0.0432326\ttotal: 125ms\tremaining: 1.92s\n",
      "61:\tlearn: 0.0429073\ttotal: 127ms\tremaining: 1.92s\n",
      "62:\tlearn: 0.0424845\ttotal: 129ms\tremaining: 1.92s\n",
      "63:\tlearn: 0.0421489\ttotal: 131ms\tremaining: 1.91s\n",
      "64:\tlearn: 0.0416044\ttotal: 133ms\tremaining: 1.92s\n",
      "65:\tlearn: 0.0413867\ttotal: 135ms\tremaining: 1.91s\n",
      "66:\tlearn: 0.0408167\ttotal: 137ms\tremaining: 1.91s\n",
      "67:\tlearn: 0.0403157\ttotal: 139ms\tremaining: 1.91s\n",
      "68:\tlearn: 0.0400002\ttotal: 141ms\tremaining: 1.91s\n",
      "69:\tlearn: 0.0393138\ttotal: 143ms\tremaining: 1.9s\n",
      "70:\tlearn: 0.0390634\ttotal: 145ms\tremaining: 1.9s\n",
      "71:\tlearn: 0.0382705\ttotal: 147ms\tremaining: 1.9s\n",
      "72:\tlearn: 0.0379444\ttotal: 149ms\tremaining: 1.9s\n",
      "73:\tlearn: 0.0376891\ttotal: 152ms\tremaining: 1.9s\n",
      "74:\tlearn: 0.0374975\ttotal: 154ms\tremaining: 1.89s\n",
      "75:\tlearn: 0.0371765\ttotal: 156ms\tremaining: 1.89s\n",
      "76:\tlearn: 0.0368802\ttotal: 158ms\tremaining: 1.89s\n",
      "77:\tlearn: 0.0365901\ttotal: 160ms\tremaining: 1.89s\n",
      "78:\tlearn: 0.0364733\ttotal: 162ms\tremaining: 1.88s\n",
      "79:\tlearn: 0.0361079\ttotal: 163ms\tremaining: 1.88s\n",
      "80:\tlearn: 0.0357928\ttotal: 166ms\tremaining: 1.89s\n",
      "81:\tlearn: 0.0356593\ttotal: 168ms\tremaining: 1.88s\n",
      "82:\tlearn: 0.0354013\ttotal: 170ms\tremaining: 1.88s\n",
      "83:\tlearn: 0.0349891\ttotal: 172ms\tremaining: 1.88s\n",
      "84:\tlearn: 0.0343845\ttotal: 174ms\tremaining: 1.88s\n",
      "85:\tlearn: 0.0341345\ttotal: 176ms\tremaining: 1.87s\n",
      "86:\tlearn: 0.0339429\ttotal: 179ms\tremaining: 1.88s\n",
      "87:\tlearn: 0.0337486\ttotal: 181ms\tremaining: 1.88s\n",
      "88:\tlearn: 0.0334811\ttotal: 183ms\tremaining: 1.88s\n",
      "89:\tlearn: 0.0332052\ttotal: 186ms\tremaining: 1.88s\n",
      "90:\tlearn: 0.0328687\ttotal: 188ms\tremaining: 1.88s\n",
      "91:\tlearn: 0.0326593\ttotal: 190ms\tremaining: 1.87s\n",
      "92:\tlearn: 0.0325102\ttotal: 192ms\tremaining: 1.87s\n",
      "93:\tlearn: 0.0322114\ttotal: 194ms\tremaining: 1.87s\n",
      "94:\tlearn: 0.0320638\ttotal: 196ms\tremaining: 1.87s\n",
      "95:\tlearn: 0.0318364\ttotal: 199ms\tremaining: 1.88s\n",
      "96:\tlearn: 0.0313883\ttotal: 202ms\tremaining: 1.88s\n",
      "97:\tlearn: 0.0311478\ttotal: 204ms\tremaining: 1.87s\n",
      "98:\tlearn: 0.0310222\ttotal: 206ms\tremaining: 1.87s\n",
      "99:\tlearn: 0.0309025\ttotal: 208ms\tremaining: 1.87s\n",
      "100:\tlearn: 0.0306847\ttotal: 210ms\tremaining: 1.87s\n",
      "101:\tlearn: 0.0304217\ttotal: 212ms\tremaining: 1.87s\n",
      "102:\tlearn: 0.0303206\ttotal: 214ms\tremaining: 1.86s\n",
      "103:\tlearn: 0.0301527\ttotal: 216ms\tremaining: 1.86s\n",
      "104:\tlearn: 0.0300747\ttotal: 218ms\tremaining: 1.86s\n",
      "105:\tlearn: 0.0298682\ttotal: 220ms\tremaining: 1.85s\n",
      "106:\tlearn: 0.0297715\ttotal: 222ms\tremaining: 1.85s\n",
      "107:\tlearn: 0.0296090\ttotal: 224ms\tremaining: 1.85s\n",
      "108:\tlearn: 0.0295171\ttotal: 226ms\tremaining: 1.85s\n",
      "109:\tlearn: 0.0293657\ttotal: 228ms\tremaining: 1.84s\n",
      "110:\tlearn: 0.0292929\ttotal: 230ms\tremaining: 1.84s\n",
      "111:\tlearn: 0.0290305\ttotal: 232ms\tremaining: 1.84s\n",
      "112:\tlearn: 0.0288155\ttotal: 234ms\tremaining: 1.84s\n",
      "113:\tlearn: 0.0286652\ttotal: 236ms\tremaining: 1.84s\n",
      "114:\tlearn: 0.0285111\ttotal: 239ms\tremaining: 1.84s\n",
      "115:\tlearn: 0.0283840\ttotal: 241ms\tremaining: 1.83s\n",
      "116:\tlearn: 0.0282793\ttotal: 243ms\tremaining: 1.83s\n",
      "117:\tlearn: 0.0282248\ttotal: 245ms\tremaining: 1.83s\n",
      "118:\tlearn: 0.0279414\ttotal: 247ms\tremaining: 1.83s\n",
      "119:\tlearn: 0.0278661\ttotal: 249ms\tremaining: 1.83s\n",
      "120:\tlearn: 0.0277608\ttotal: 252ms\tremaining: 1.83s\n",
      "121:\tlearn: 0.0276189\ttotal: 254ms\tremaining: 1.83s\n",
      "122:\tlearn: 0.0275595\ttotal: 256ms\tremaining: 1.82s\n",
      "123:\tlearn: 0.0274425\ttotal: 258ms\tremaining: 1.82s\n",
      "124:\tlearn: 0.0273930\ttotal: 260ms\tremaining: 1.82s\n",
      "125:\tlearn: 0.0272948\ttotal: 262ms\tremaining: 1.81s\n",
      "126:\tlearn: 0.0271678\ttotal: 264ms\tremaining: 1.81s\n",
      "127:\tlearn: 0.0270873\ttotal: 266ms\tremaining: 1.81s\n",
      "128:\tlearn: 0.0270161\ttotal: 268ms\tremaining: 1.81s\n",
      "129:\tlearn: 0.0269598\ttotal: 270ms\tremaining: 1.81s\n",
      "130:\tlearn: 0.0268285\ttotal: 272ms\tremaining: 1.8s\n",
      "131:\tlearn: 0.0267564\ttotal: 274ms\tremaining: 1.8s\n",
      "132:\tlearn: 0.0266101\ttotal: 276ms\tremaining: 1.8s\n",
      "133:\tlearn: 0.0264513\ttotal: 279ms\tremaining: 1.8s\n",
      "134:\tlearn: 0.0263858\ttotal: 281ms\tremaining: 1.8s\n",
      "135:\tlearn: 0.0263261\ttotal: 283ms\tremaining: 1.79s\n",
      "136:\tlearn: 0.0262299\ttotal: 285ms\tremaining: 1.79s\n",
      "137:\tlearn: 0.0262298\ttotal: 287ms\tremaining: 1.79s\n",
      "138:\tlearn: 0.0261829\ttotal: 289ms\tremaining: 1.79s\n",
      "139:\tlearn: 0.0260160\ttotal: 291ms\tremaining: 1.78s\n",
      "140:\tlearn: 0.0259539\ttotal: 293ms\tremaining: 1.78s\n",
      "141:\tlearn: 0.0258856\ttotal: 295ms\tremaining: 1.78s\n",
      "142:\tlearn: 0.0258854\ttotal: 296ms\tremaining: 1.78s\n",
      "143:\tlearn: 0.0258313\ttotal: 299ms\tremaining: 1.77s\n",
      "144:\tlearn: 0.0255543\ttotal: 301ms\tremaining: 1.77s\n",
      "145:\tlearn: 0.0255232\ttotal: 303ms\tremaining: 1.77s\n",
      "146:\tlearn: 0.0254748\ttotal: 305ms\tremaining: 1.77s\n",
      "147:\tlearn: 0.0253608\ttotal: 307ms\tremaining: 1.77s\n",
      "148:\tlearn: 0.0253606\ttotal: 309ms\tremaining: 1.76s\n",
      "149:\tlearn: 0.0253180\ttotal: 312ms\tremaining: 1.77s\n",
      "150:\tlearn: 0.0252589\ttotal: 314ms\tremaining: 1.76s\n",
      "151:\tlearn: 0.0251550\ttotal: 316ms\tremaining: 1.76s\n",
      "152:\tlearn: 0.0249786\ttotal: 318ms\tremaining: 1.76s\n",
      "153:\tlearn: 0.0249782\ttotal: 320ms\tremaining: 1.76s\n",
      "154:\tlearn: 0.0249767\ttotal: 322ms\tremaining: 1.75s\n",
      "155:\tlearn: 0.0249767\ttotal: 324ms\tremaining: 1.75s\n",
      "156:\tlearn: 0.0249765\ttotal: 326ms\tremaining: 1.75s\n",
      "157:\tlearn: 0.0249593\ttotal: 328ms\tremaining: 1.75s\n",
      "158:\tlearn: 0.0248955\ttotal: 329ms\tremaining: 1.74s\n",
      "159:\tlearn: 0.0248429\ttotal: 332ms\tremaining: 1.74s\n",
      "160:\tlearn: 0.0248426\ttotal: 334ms\tremaining: 1.74s\n",
      "161:\tlearn: 0.0248426\ttotal: 335ms\tremaining: 1.73s\n",
      "162:\tlearn: 0.0248425\ttotal: 337ms\tremaining: 1.73s\n",
      "163:\tlearn: 0.0248293\ttotal: 339ms\tremaining: 1.73s\n",
      "164:\tlearn: 0.0247473\ttotal: 341ms\tremaining: 1.73s\n",
      "165:\tlearn: 0.0247473\ttotal: 343ms\tremaining: 1.72s\n",
      "166:\tlearn: 0.0247469\ttotal: 344ms\tremaining: 1.72s\n",
      "167:\tlearn: 0.0247468\ttotal: 346ms\tremaining: 1.71s\n",
      "168:\tlearn: 0.0247467\ttotal: 348ms\tremaining: 1.71s\n",
      "169:\tlearn: 0.0247466\ttotal: 350ms\tremaining: 1.71s\n",
      "170:\tlearn: 0.0247466\ttotal: 352ms\tremaining: 1.71s\n",
      "171:\tlearn: 0.0247464\ttotal: 354ms\tremaining: 1.7s\n",
      "172:\tlearn: 0.0247463\ttotal: 355ms\tremaining: 1.7s\n",
      "173:\tlearn: 0.0247462\ttotal: 357ms\tremaining: 1.69s\n",
      "174:\tlearn: 0.0247459\ttotal: 359ms\tremaining: 1.69s\n",
      "175:\tlearn: 0.0247456\ttotal: 361ms\tremaining: 1.69s\n",
      "176:\tlearn: 0.0247454\ttotal: 362ms\tremaining: 1.69s\n",
      "177:\tlearn: 0.0247454\ttotal: 364ms\tremaining: 1.68s\n",
      "178:\tlearn: 0.0247450\ttotal: 366ms\tremaining: 1.68s\n",
      "179:\tlearn: 0.0247106\ttotal: 368ms\tremaining: 1.68s\n",
      "180:\tlearn: 0.0246386\ttotal: 370ms\tremaining: 1.67s\n",
      "181:\tlearn: 0.0245975\ttotal: 372ms\tremaining: 1.67s\n",
      "182:\tlearn: 0.0245651\ttotal: 374ms\tremaining: 1.67s\n",
      "183:\tlearn: 0.0244842\ttotal: 376ms\tremaining: 1.67s\n",
      "184:\tlearn: 0.0244204\ttotal: 379ms\tremaining: 1.67s\n",
      "185:\tlearn: 0.0243508\ttotal: 381ms\tremaining: 1.67s\n",
      "186:\tlearn: 0.0243425\ttotal: 382ms\tremaining: 1.66s\n",
      "187:\tlearn: 0.0243320\ttotal: 384ms\tremaining: 1.66s\n",
      "188:\tlearn: 0.0242338\ttotal: 386ms\tremaining: 1.66s\n",
      "189:\tlearn: 0.0242047\ttotal: 388ms\tremaining: 1.65s\n",
      "190:\tlearn: 0.0242044\ttotal: 390ms\tremaining: 1.65s\n",
      "191:\tlearn: 0.0242042\ttotal: 393ms\tremaining: 1.65s\n",
      "192:\tlearn: 0.0242042\ttotal: 395ms\tremaining: 1.65s\n",
      "193:\tlearn: 0.0242041\ttotal: 396ms\tremaining: 1.65s\n",
      "194:\tlearn: 0.0241676\ttotal: 398ms\tremaining: 1.64s\n",
      "195:\tlearn: 0.0241675\ttotal: 400ms\tremaining: 1.64s\n",
      "196:\tlearn: 0.0241672\ttotal: 402ms\tremaining: 1.64s\n",
      "197:\tlearn: 0.0241672\ttotal: 404ms\tremaining: 1.64s\n",
      "198:\tlearn: 0.0241671\ttotal: 406ms\tremaining: 1.63s\n",
      "199:\tlearn: 0.0241670\ttotal: 408ms\tremaining: 1.63s\n",
      "200:\tlearn: 0.0241669\ttotal: 409ms\tremaining: 1.63s\n",
      "201:\tlearn: 0.0241463\ttotal: 412ms\tremaining: 1.63s\n",
      "202:\tlearn: 0.0241460\ttotal: 414ms\tremaining: 1.62s\n",
      "203:\tlearn: 0.0241459\ttotal: 415ms\tremaining: 1.62s\n",
      "204:\tlearn: 0.0241459\ttotal: 417ms\tremaining: 1.62s\n",
      "205:\tlearn: 0.0241458\ttotal: 419ms\tremaining: 1.62s\n",
      "206:\tlearn: 0.0241457\ttotal: 421ms\tremaining: 1.61s\n",
      "207:\tlearn: 0.0241079\ttotal: 423ms\tremaining: 1.61s\n",
      "208:\tlearn: 0.0240423\ttotal: 426ms\tremaining: 1.61s\n",
      "209:\tlearn: 0.0240413\ttotal: 428ms\tremaining: 1.61s\n",
      "210:\tlearn: 0.0240413\ttotal: 429ms\tremaining: 1.6s\n",
      "211:\tlearn: 0.0240413\ttotal: 430ms\tremaining: 1.6s\n",
      "212:\tlearn: 0.0240413\ttotal: 432ms\tremaining: 1.59s\n",
      "213:\tlearn: 0.0240413\ttotal: 433ms\tremaining: 1.59s\n",
      "214:\tlearn: 0.0240412\ttotal: 434ms\tremaining: 1.58s\n",
      "215:\tlearn: 0.0240412\ttotal: 435ms\tremaining: 1.58s\n",
      "216:\tlearn: 0.0240413\ttotal: 437ms\tremaining: 1.57s\n",
      "217:\tlearn: 0.0240412\ttotal: 438ms\tremaining: 1.57s\n",
      "218:\tlearn: 0.0240394\ttotal: 440ms\tremaining: 1.57s\n",
      "219:\tlearn: 0.0239486\ttotal: 442ms\tremaining: 1.56s\n",
      "220:\tlearn: 0.0239020\ttotal: 444ms\tremaining: 1.56s\n",
      "221:\tlearn: 0.0239020\ttotal: 446ms\tremaining: 1.56s\n",
      "222:\tlearn: 0.0238877\ttotal: 447ms\tremaining: 1.56s\n",
      "223:\tlearn: 0.0238285\ttotal: 449ms\tremaining: 1.56s\n",
      "224:\tlearn: 0.0238284\ttotal: 451ms\tremaining: 1.55s\n",
      "225:\tlearn: 0.0237236\ttotal: 453ms\tremaining: 1.55s\n",
      "226:\tlearn: 0.0237233\ttotal: 455ms\tremaining: 1.55s\n",
      "227:\tlearn: 0.0237232\ttotal: 457ms\tremaining: 1.55s\n",
      "228:\tlearn: 0.0237230\ttotal: 459ms\tremaining: 1.54s\n",
      "229:\tlearn: 0.0237222\ttotal: 460ms\tremaining: 1.54s\n",
      "230:\tlearn: 0.0237210\ttotal: 462ms\tremaining: 1.54s\n",
      "231:\tlearn: 0.0237119\ttotal: 464ms\tremaining: 1.54s\n",
      "232:\tlearn: 0.0236525\ttotal: 466ms\tremaining: 1.53s\n",
      "233:\tlearn: 0.0236522\ttotal: 468ms\tremaining: 1.53s\n",
      "234:\tlearn: 0.0236040\ttotal: 470ms\tremaining: 1.53s\n",
      "235:\tlearn: 0.0235099\ttotal: 472ms\tremaining: 1.53s\n",
      "236:\tlearn: 0.0234312\ttotal: 474ms\tremaining: 1.53s\n",
      "237:\tlearn: 0.0234309\ttotal: 476ms\tremaining: 1.52s\n",
      "238:\tlearn: 0.0234309\ttotal: 478ms\tremaining: 1.52s\n",
      "239:\tlearn: 0.0234307\ttotal: 480ms\tremaining: 1.52s\n",
      "240:\tlearn: 0.0234305\ttotal: 482ms\tremaining: 1.52s\n",
      "241:\tlearn: 0.0234305\ttotal: 484ms\tremaining: 1.51s\n",
      "242:\tlearn: 0.0234304\ttotal: 485ms\tremaining: 1.51s\n",
      "243:\tlearn: 0.0234305\ttotal: 487ms\tremaining: 1.51s\n",
      "244:\tlearn: 0.0234303\ttotal: 489ms\tremaining: 1.51s\n",
      "245:\tlearn: 0.0234302\ttotal: 491ms\tremaining: 1.5s\n",
      "246:\tlearn: 0.0234302\ttotal: 493ms\tremaining: 1.5s\n",
      "247:\tlearn: 0.0234300\ttotal: 495ms\tremaining: 1.5s\n",
      "248:\tlearn: 0.0234298\ttotal: 496ms\tremaining: 1.5s\n",
      "249:\tlearn: 0.0234294\ttotal: 498ms\tremaining: 1.5s\n",
      "250:\tlearn: 0.0234293\ttotal: 500ms\tremaining: 1.49s\n",
      "251:\tlearn: 0.0234291\ttotal: 502ms\tremaining: 1.49s\n",
      "252:\tlearn: 0.0234290\ttotal: 504ms\tremaining: 1.49s\n",
      "253:\tlearn: 0.0234290\ttotal: 506ms\tremaining: 1.49s\n",
      "254:\tlearn: 0.0234289\ttotal: 507ms\tremaining: 1.48s\n",
      "255:\tlearn: 0.0234289\ttotal: 509ms\tremaining: 1.48s\n",
      "256:\tlearn: 0.0234288\ttotal: 511ms\tremaining: 1.48s\n",
      "257:\tlearn: 0.0234287\ttotal: 513ms\tremaining: 1.48s\n",
      "258:\tlearn: 0.0234285\ttotal: 515ms\tremaining: 1.47s\n",
      "259:\tlearn: 0.0234284\ttotal: 516ms\tremaining: 1.47s\n",
      "260:\tlearn: 0.0234272\ttotal: 518ms\tremaining: 1.47s\n",
      "261:\tlearn: 0.0234271\ttotal: 520ms\tremaining: 1.46s\n",
      "262:\tlearn: 0.0234270\ttotal: 522ms\tremaining: 1.46s\n",
      "263:\tlearn: 0.0234270\ttotal: 524ms\tremaining: 1.46s\n",
      "264:\tlearn: 0.0234267\ttotal: 526ms\tremaining: 1.46s\n",
      "265:\tlearn: 0.0234266\ttotal: 527ms\tremaining: 1.45s\n",
      "266:\tlearn: 0.0234266\ttotal: 529ms\tremaining: 1.45s\n",
      "267:\tlearn: 0.0232897\ttotal: 531ms\tremaining: 1.45s\n",
      "268:\tlearn: 0.0232600\ttotal: 533ms\tremaining: 1.45s\n",
      "269:\tlearn: 0.0231986\ttotal: 535ms\tremaining: 1.45s\n",
      "270:\tlearn: 0.0231545\ttotal: 537ms\tremaining: 1.45s\n",
      "271:\tlearn: 0.0230982\ttotal: 539ms\tremaining: 1.44s\n",
      "272:\tlearn: 0.0230741\ttotal: 541ms\tremaining: 1.44s\n",
      "273:\tlearn: 0.0230213\ttotal: 543ms\tremaining: 1.44s\n",
      "274:\tlearn: 0.0230212\ttotal: 545ms\tremaining: 1.44s\n",
      "275:\tlearn: 0.0229893\ttotal: 547ms\tremaining: 1.43s\n",
      "276:\tlearn: 0.0229243\ttotal: 549ms\tremaining: 1.43s\n",
      "277:\tlearn: 0.0229236\ttotal: 551ms\tremaining: 1.43s\n",
      "278:\tlearn: 0.0228843\ttotal: 553ms\tremaining: 1.43s\n",
      "279:\tlearn: 0.0228538\ttotal: 555ms\tremaining: 1.43s\n",
      "280:\tlearn: 0.0228538\ttotal: 557ms\tremaining: 1.43s\n",
      "281:\tlearn: 0.0228536\ttotal: 559ms\tremaining: 1.42s\n",
      "282:\tlearn: 0.0228534\ttotal: 561ms\tremaining: 1.42s\n",
      "283:\tlearn: 0.0228529\ttotal: 563ms\tremaining: 1.42s\n",
      "284:\tlearn: 0.0228528\ttotal: 564ms\tremaining: 1.42s\n",
      "285:\tlearn: 0.0228522\ttotal: 566ms\tremaining: 1.41s\n",
      "286:\tlearn: 0.0228522\ttotal: 568ms\tremaining: 1.41s\n",
      "287:\tlearn: 0.0228520\ttotal: 570ms\tremaining: 1.41s\n",
      "288:\tlearn: 0.0228520\ttotal: 572ms\tremaining: 1.41s\n",
      "289:\tlearn: 0.0228518\ttotal: 573ms\tremaining: 1.4s\n",
      "290:\tlearn: 0.0228518\ttotal: 575ms\tremaining: 1.4s\n",
      "291:\tlearn: 0.0228518\ttotal: 577ms\tremaining: 1.4s\n",
      "292:\tlearn: 0.0228516\ttotal: 579ms\tremaining: 1.4s\n",
      "293:\tlearn: 0.0228515\ttotal: 581ms\tremaining: 1.39s\n",
      "294:\tlearn: 0.0228515\ttotal: 582ms\tremaining: 1.39s\n",
      "295:\tlearn: 0.0228515\ttotal: 585ms\tremaining: 1.39s\n",
      "296:\tlearn: 0.0228514\ttotal: 586ms\tremaining: 1.39s\n",
      "297:\tlearn: 0.0228514\ttotal: 588ms\tremaining: 1.39s\n",
      "298:\tlearn: 0.0228514\ttotal: 590ms\tremaining: 1.38s\n",
      "299:\tlearn: 0.0228513\ttotal: 592ms\tremaining: 1.38s\n",
      "300:\tlearn: 0.0228426\ttotal: 594ms\tremaining: 1.38s\n",
      "301:\tlearn: 0.0228425\ttotal: 595ms\tremaining: 1.38s\n",
      "302:\tlearn: 0.0228425\ttotal: 597ms\tremaining: 1.37s\n",
      "303:\tlearn: 0.0228423\ttotal: 599ms\tremaining: 1.37s\n",
      "304:\tlearn: 0.0228421\ttotal: 601ms\tremaining: 1.37s\n",
      "305:\tlearn: 0.0228420\ttotal: 603ms\tremaining: 1.37s\n",
      "306:\tlearn: 0.0228420\ttotal: 604ms\tremaining: 1.36s\n",
      "307:\tlearn: 0.0228247\ttotal: 606ms\tremaining: 1.36s\n",
      "308:\tlearn: 0.0227873\ttotal: 608ms\tremaining: 1.36s\n",
      "309:\tlearn: 0.0227872\ttotal: 610ms\tremaining: 1.36s\n",
      "310:\tlearn: 0.0227480\ttotal: 612ms\tremaining: 1.36s\n",
      "311:\tlearn: 0.0227036\ttotal: 614ms\tremaining: 1.35s\n",
      "312:\tlearn: 0.0227035\ttotal: 616ms\tremaining: 1.35s\n",
      "313:\tlearn: 0.0227035\ttotal: 618ms\tremaining: 1.35s\n",
      "314:\tlearn: 0.0226825\ttotal: 620ms\tremaining: 1.35s\n",
      "315:\tlearn: 0.0225708\ttotal: 622ms\tremaining: 1.35s\n",
      "316:\tlearn: 0.0225704\ttotal: 624ms\tremaining: 1.34s\n",
      "317:\tlearn: 0.0225704\ttotal: 626ms\tremaining: 1.34s\n",
      "318:\tlearn: 0.0225445\ttotal: 628ms\tremaining: 1.34s\n",
      "319:\tlearn: 0.0224758\ttotal: 630ms\tremaining: 1.34s\n",
      "320:\tlearn: 0.0224567\ttotal: 632ms\tremaining: 1.34s\n",
      "321:\tlearn: 0.0224249\ttotal: 634ms\tremaining: 1.33s\n",
      "322:\tlearn: 0.0224248\ttotal: 636ms\tremaining: 1.33s\n",
      "323:\tlearn: 0.0223902\ttotal: 638ms\tremaining: 1.33s\n",
      "324:\tlearn: 0.0223901\ttotal: 640ms\tremaining: 1.33s\n",
      "325:\tlearn: 0.0223900\ttotal: 641ms\tremaining: 1.33s\n",
      "326:\tlearn: 0.0223900\ttotal: 643ms\tremaining: 1.32s\n",
      "327:\tlearn: 0.0223900\ttotal: 645ms\tremaining: 1.32s\n",
      "328:\tlearn: 0.0223358\ttotal: 647ms\tremaining: 1.32s\n",
      "329:\tlearn: 0.0223356\ttotal: 649ms\tremaining: 1.32s\n",
      "330:\tlearn: 0.0223355\ttotal: 651ms\tremaining: 1.31s\n",
      "331:\tlearn: 0.0223355\ttotal: 652ms\tremaining: 1.31s\n",
      "332:\tlearn: 0.0223354\ttotal: 654ms\tremaining: 1.31s\n",
      "333:\tlearn: 0.0223353\ttotal: 656ms\tremaining: 1.31s\n",
      "334:\tlearn: 0.0223353\ttotal: 658ms\tremaining: 1.31s\n",
      "335:\tlearn: 0.0223351\ttotal: 660ms\tremaining: 1.3s\n",
      "336:\tlearn: 0.0223351\ttotal: 661ms\tremaining: 1.3s\n",
      "337:\tlearn: 0.0223350\ttotal: 663ms\tremaining: 1.3s\n",
      "338:\tlearn: 0.0223210\ttotal: 665ms\tremaining: 1.3s\n",
      "339:\tlearn: 0.0223209\ttotal: 667ms\tremaining: 1.29s\n",
      "340:\tlearn: 0.0223207\ttotal: 669ms\tremaining: 1.29s\n",
      "341:\tlearn: 0.0223207\ttotal: 671ms\tremaining: 1.29s\n",
      "342:\tlearn: 0.0223207\ttotal: 673ms\tremaining: 1.29s\n",
      "343:\tlearn: 0.0223205\ttotal: 675ms\tremaining: 1.29s\n",
      "344:\tlearn: 0.0223205\ttotal: 677ms\tremaining: 1.28s\n",
      "345:\tlearn: 0.0223205\ttotal: 678ms\tremaining: 1.28s\n",
      "346:\tlearn: 0.0223204\ttotal: 680ms\tremaining: 1.28s\n",
      "347:\tlearn: 0.0223203\ttotal: 682ms\tremaining: 1.28s\n",
      "348:\tlearn: 0.0223199\ttotal: 684ms\tremaining: 1.27s\n",
      "349:\tlearn: 0.0223198\ttotal: 686ms\tremaining: 1.27s\n",
      "350:\tlearn: 0.0223197\ttotal: 687ms\tremaining: 1.27s\n",
      "351:\tlearn: 0.0223191\ttotal: 690ms\tremaining: 1.27s\n",
      "352:\tlearn: 0.0223191\ttotal: 691ms\tremaining: 1.27s\n",
      "353:\tlearn: 0.0223191\ttotal: 693ms\tremaining: 1.26s\n",
      "354:\tlearn: 0.0223190\ttotal: 695ms\tremaining: 1.26s\n",
      "355:\tlearn: 0.0223190\ttotal: 697ms\tremaining: 1.26s\n",
      "356:\tlearn: 0.0223190\ttotal: 698ms\tremaining: 1.26s\n",
      "357:\tlearn: 0.0223188\ttotal: 700ms\tremaining: 1.25s\n",
      "358:\tlearn: 0.0223188\ttotal: 702ms\tremaining: 1.25s\n",
      "359:\tlearn: 0.0223186\ttotal: 704ms\tremaining: 1.25s\n",
      "360:\tlearn: 0.0223185\ttotal: 706ms\tremaining: 1.25s\n",
      "361:\tlearn: 0.0223185\ttotal: 707ms\tremaining: 1.25s\n",
      "362:\tlearn: 0.0223184\ttotal: 709ms\tremaining: 1.24s\n",
      "363:\tlearn: 0.0223184\ttotal: 711ms\tremaining: 1.24s\n",
      "364:\tlearn: 0.0223184\ttotal: 713ms\tremaining: 1.24s\n",
      "365:\tlearn: 0.0223182\ttotal: 715ms\tremaining: 1.24s\n",
      "366:\tlearn: 0.0223181\ttotal: 717ms\tremaining: 1.24s\n",
      "367:\tlearn: 0.0223179\ttotal: 718ms\tremaining: 1.23s\n",
      "368:\tlearn: 0.0223178\ttotal: 720ms\tremaining: 1.23s\n",
      "369:\tlearn: 0.0223179\ttotal: 722ms\tremaining: 1.23s\n",
      "370:\tlearn: 0.0223178\ttotal: 724ms\tremaining: 1.23s\n",
      "371:\tlearn: 0.0223176\ttotal: 725ms\tremaining: 1.22s\n",
      "372:\tlearn: 0.0223175\ttotal: 727ms\tremaining: 1.22s\n",
      "373:\tlearn: 0.0223163\ttotal: 729ms\tremaining: 1.22s\n",
      "374:\tlearn: 0.0223080\ttotal: 731ms\tremaining: 1.22s\n",
      "375:\tlearn: 0.0223075\ttotal: 733ms\tremaining: 1.22s\n",
      "376:\tlearn: 0.0223074\ttotal: 734ms\tremaining: 1.21s\n",
      "377:\tlearn: 0.0223073\ttotal: 737ms\tremaining: 1.21s\n",
      "378:\tlearn: 0.0223073\ttotal: 738ms\tremaining: 1.21s\n",
      "379:\tlearn: 0.0223072\ttotal: 740ms\tremaining: 1.21s\n",
      "380:\tlearn: 0.0223071\ttotal: 742ms\tremaining: 1.21s\n",
      "381:\tlearn: 0.0223071\ttotal: 744ms\tremaining: 1.2s\n",
      "382:\tlearn: 0.0223067\ttotal: 746ms\tremaining: 1.2s\n",
      "383:\tlearn: 0.0223066\ttotal: 747ms\tremaining: 1.2s\n",
      "384:\tlearn: 0.0223063\ttotal: 749ms\tremaining: 1.2s\n",
      "385:\tlearn: 0.0223059\ttotal: 751ms\tremaining: 1.19s\n",
      "386:\tlearn: 0.0223058\ttotal: 753ms\tremaining: 1.19s\n",
      "387:\tlearn: 0.0223057\ttotal: 755ms\tremaining: 1.19s\n",
      "388:\tlearn: 0.0223057\ttotal: 757ms\tremaining: 1.19s\n",
      "389:\tlearn: 0.0223056\ttotal: 758ms\tremaining: 1.19s\n",
      "390:\tlearn: 0.0223055\ttotal: 760ms\tremaining: 1.18s\n",
      "391:\tlearn: 0.0223054\ttotal: 762ms\tremaining: 1.18s\n",
      "392:\tlearn: 0.0223053\ttotal: 764ms\tremaining: 1.18s\n",
      "393:\tlearn: 0.0223053\ttotal: 766ms\tremaining: 1.18s\n",
      "394:\tlearn: 0.0223051\ttotal: 767ms\tremaining: 1.18s\n",
      "395:\tlearn: 0.0223047\ttotal: 769ms\tremaining: 1.17s\n",
      "396:\tlearn: 0.0223048\ttotal: 771ms\tremaining: 1.17s\n",
      "397:\tlearn: 0.0223046\ttotal: 773ms\tremaining: 1.17s\n",
      "398:\tlearn: 0.0223045\ttotal: 775ms\tremaining: 1.17s\n",
      "399:\tlearn: 0.0223043\ttotal: 777ms\tremaining: 1.17s\n",
      "400:\tlearn: 0.0223043\ttotal: 779ms\tremaining: 1.16s\n",
      "401:\tlearn: 0.0223043\ttotal: 780ms\tremaining: 1.16s\n",
      "402:\tlearn: 0.0223041\ttotal: 782ms\tremaining: 1.16s\n",
      "403:\tlearn: 0.0223039\ttotal: 784ms\tremaining: 1.16s\n",
      "404:\tlearn: 0.0223039\ttotal: 786ms\tremaining: 1.15s\n",
      "405:\tlearn: 0.0223036\ttotal: 788ms\tremaining: 1.15s\n",
      "406:\tlearn: 0.0223035\ttotal: 789ms\tremaining: 1.15s\n",
      "407:\tlearn: 0.0223033\ttotal: 791ms\tremaining: 1.15s\n",
      "408:\tlearn: 0.0223032\ttotal: 793ms\tremaining: 1.15s\n",
      "409:\tlearn: 0.0223031\ttotal: 795ms\tremaining: 1.14s\n",
      "410:\tlearn: 0.0223030\ttotal: 797ms\tremaining: 1.14s\n",
      "411:\tlearn: 0.0223030\ttotal: 799ms\tremaining: 1.14s\n",
      "412:\tlearn: 0.0223029\ttotal: 801ms\tremaining: 1.14s\n",
      "413:\tlearn: 0.0223029\ttotal: 803ms\tremaining: 1.14s\n",
      "414:\tlearn: 0.0223029\ttotal: 804ms\tremaining: 1.13s\n",
      "415:\tlearn: 0.0223028\ttotal: 806ms\tremaining: 1.13s\n",
      "416:\tlearn: 0.0223028\ttotal: 808ms\tremaining: 1.13s\n",
      "417:\tlearn: 0.0223028\ttotal: 810ms\tremaining: 1.13s\n",
      "418:\tlearn: 0.0223027\ttotal: 812ms\tremaining: 1.13s\n",
      "419:\tlearn: 0.0223026\ttotal: 813ms\tremaining: 1.12s\n",
      "420:\tlearn: 0.0223026\ttotal: 816ms\tremaining: 1.12s\n",
      "421:\tlearn: 0.0223025\ttotal: 817ms\tremaining: 1.12s\n",
      "422:\tlearn: 0.0223025\ttotal: 819ms\tremaining: 1.12s\n",
      "423:\tlearn: 0.0223025\ttotal: 822ms\tremaining: 1.12s\n",
      "424:\tlearn: 0.0223025\ttotal: 823ms\tremaining: 1.11s\n",
      "425:\tlearn: 0.0223022\ttotal: 825ms\tremaining: 1.11s\n",
      "426:\tlearn: 0.0223022\ttotal: 827ms\tremaining: 1.11s\n",
      "427:\tlearn: 0.0223022\ttotal: 829ms\tremaining: 1.11s\n",
      "428:\tlearn: 0.0223022\ttotal: 830ms\tremaining: 1.1s\n",
      "429:\tlearn: 0.0223018\ttotal: 832ms\tremaining: 1.1s\n",
      "430:\tlearn: 0.0223017\ttotal: 834ms\tremaining: 1.1s\n",
      "431:\tlearn: 0.0223011\ttotal: 836ms\tremaining: 1.1s\n",
      "432:\tlearn: 0.0223011\ttotal: 837ms\tremaining: 1.1s\n",
      "433:\tlearn: 0.0223009\ttotal: 839ms\tremaining: 1.09s\n",
      "434:\tlearn: 0.0223008\ttotal: 841ms\tremaining: 1.09s\n",
      "435:\tlearn: 0.0223007\ttotal: 843ms\tremaining: 1.09s\n",
      "436:\tlearn: 0.0223005\ttotal: 845ms\tremaining: 1.09s\n",
      "437:\tlearn: 0.0223005\ttotal: 846ms\tremaining: 1.09s\n",
      "438:\tlearn: 0.0223003\ttotal: 848ms\tremaining: 1.08s\n",
      "439:\tlearn: 0.0223003\ttotal: 850ms\tremaining: 1.08s\n",
      "440:\tlearn: 0.0223003\ttotal: 852ms\tremaining: 1.08s\n",
      "441:\tlearn: 0.0223002\ttotal: 854ms\tremaining: 1.08s\n",
      "442:\tlearn: 0.0223002\ttotal: 855ms\tremaining: 1.07s\n",
      "443:\tlearn: 0.0222998\ttotal: 857ms\tremaining: 1.07s\n",
      "444:\tlearn: 0.0222996\ttotal: 859ms\tremaining: 1.07s\n",
      "445:\tlearn: 0.0222994\ttotal: 861ms\tremaining: 1.07s\n",
      "446:\tlearn: 0.0222994\ttotal: 863ms\tremaining: 1.07s\n",
      "447:\tlearn: 0.0222993\ttotal: 865ms\tremaining: 1.06s\n",
      "448:\tlearn: 0.0222992\ttotal: 866ms\tremaining: 1.06s\n",
      "449:\tlearn: 0.0222992\ttotal: 868ms\tremaining: 1.06s\n",
      "450:\tlearn: 0.0222991\ttotal: 870ms\tremaining: 1.06s\n",
      "451:\tlearn: 0.0222990\ttotal: 872ms\tremaining: 1.06s\n",
      "452:\tlearn: 0.0222989\ttotal: 874ms\tremaining: 1.05s\n",
      "453:\tlearn: 0.0222988\ttotal: 876ms\tremaining: 1.05s\n",
      "454:\tlearn: 0.0222987\ttotal: 877ms\tremaining: 1.05s\n",
      "455:\tlearn: 0.0222985\ttotal: 879ms\tremaining: 1.05s\n",
      "456:\tlearn: 0.0222982\ttotal: 881ms\tremaining: 1.05s\n",
      "457:\tlearn: 0.0222982\ttotal: 883ms\tremaining: 1.04s\n",
      "458:\tlearn: 0.0222982\ttotal: 885ms\tremaining: 1.04s\n",
      "459:\tlearn: 0.0222982\ttotal: 887ms\tremaining: 1.04s\n",
      "460:\tlearn: 0.0222979\ttotal: 889ms\tremaining: 1.04s\n",
      "461:\tlearn: 0.0222976\ttotal: 890ms\tremaining: 1.04s\n",
      "462:\tlearn: 0.0222977\ttotal: 892ms\tremaining: 1.03s\n",
      "463:\tlearn: 0.0222976\ttotal: 894ms\tremaining: 1.03s\n",
      "464:\tlearn: 0.0222976\ttotal: 896ms\tremaining: 1.03s\n",
      "465:\tlearn: 0.0222976\ttotal: 897ms\tremaining: 1.03s\n",
      "466:\tlearn: 0.0222975\ttotal: 899ms\tremaining: 1.03s\n",
      "467:\tlearn: 0.0222974\ttotal: 901ms\tremaining: 1.02s\n",
      "468:\tlearn: 0.0222968\ttotal: 903ms\tremaining: 1.02s\n",
      "469:\tlearn: 0.0222967\ttotal: 904ms\tremaining: 1.02s\n",
      "470:\tlearn: 0.0222966\ttotal: 906ms\tremaining: 1.02s\n",
      "471:\tlearn: 0.0222965\ttotal: 908ms\tremaining: 1.01s\n",
      "472:\tlearn: 0.0222964\ttotal: 910ms\tremaining: 1.01s\n",
      "473:\tlearn: 0.0222963\ttotal: 912ms\tremaining: 1.01s\n",
      "474:\tlearn: 0.0222962\ttotal: 913ms\tremaining: 1.01s\n",
      "475:\tlearn: 0.0222960\ttotal: 915ms\tremaining: 1.01s\n",
      "476:\tlearn: 0.0222960\ttotal: 917ms\tremaining: 1s\n",
      "477:\tlearn: 0.0222959\ttotal: 919ms\tremaining: 1s\n",
      "478:\tlearn: 0.0222958\ttotal: 921ms\tremaining: 1s\n",
      "479:\tlearn: 0.0222958\ttotal: 923ms\tremaining: 1000ms\n",
      "480:\tlearn: 0.0222957\ttotal: 925ms\tremaining: 998ms\n",
      "481:\tlearn: 0.0222957\ttotal: 927ms\tremaining: 996ms\n",
      "482:\tlearn: 0.0222956\ttotal: 928ms\tremaining: 994ms\n",
      "483:\tlearn: 0.0222956\ttotal: 930ms\tremaining: 992ms\n",
      "484:\tlearn: 0.0222955\ttotal: 932ms\tremaining: 990ms\n",
      "485:\tlearn: 0.0222954\ttotal: 934ms\tremaining: 988ms\n",
      "486:\tlearn: 0.0222954\ttotal: 936ms\tremaining: 986ms\n",
      "487:\tlearn: 0.0222953\ttotal: 938ms\tremaining: 984ms\n",
      "488:\tlearn: 0.0222953\ttotal: 939ms\tremaining: 982ms\n",
      "489:\tlearn: 0.0222952\ttotal: 941ms\tremaining: 979ms\n",
      "490:\tlearn: 0.0222951\ttotal: 943ms\tremaining: 977ms\n",
      "491:\tlearn: 0.0222950\ttotal: 945ms\tremaining: 975ms\n",
      "492:\tlearn: 0.0222949\ttotal: 946ms\tremaining: 973ms\n",
      "493:\tlearn: 0.0222949\ttotal: 948ms\tremaining: 971ms\n",
      "494:\tlearn: 0.0222949\ttotal: 950ms\tremaining: 969ms\n",
      "495:\tlearn: 0.0222948\ttotal: 952ms\tremaining: 967ms\n",
      "496:\tlearn: 0.0222948\ttotal: 953ms\tremaining: 965ms\n",
      "497:\tlearn: 0.0222948\ttotal: 955ms\tremaining: 963ms\n",
      "498:\tlearn: 0.0222946\ttotal: 957ms\tremaining: 961ms\n",
      "499:\tlearn: 0.0222669\ttotal: 959ms\tremaining: 959ms\n",
      "500:\tlearn: 0.0222669\ttotal: 961ms\tremaining: 957ms\n",
      "501:\tlearn: 0.0222668\ttotal: 963ms\tremaining: 955ms\n",
      "502:\tlearn: 0.0222668\ttotal: 965ms\tremaining: 953ms\n",
      "503:\tlearn: 0.0222667\ttotal: 966ms\tremaining: 951ms\n",
      "504:\tlearn: 0.0222667\ttotal: 969ms\tremaining: 949ms\n",
      "505:\tlearn: 0.0222666\ttotal: 971ms\tremaining: 948ms\n",
      "506:\tlearn: 0.0222666\ttotal: 973ms\tremaining: 946ms\n",
      "507:\tlearn: 0.0222664\ttotal: 975ms\tremaining: 944ms\n",
      "508:\tlearn: 0.0222664\ttotal: 976ms\tremaining: 942ms\n",
      "509:\tlearn: 0.0222663\ttotal: 978ms\tremaining: 940ms\n",
      "510:\tlearn: 0.0222662\ttotal: 980ms\tremaining: 938ms\n",
      "511:\tlearn: 0.0222661\ttotal: 982ms\tremaining: 936ms\n",
      "512:\tlearn: 0.0222661\ttotal: 984ms\tremaining: 934ms\n",
      "513:\tlearn: 0.0222660\ttotal: 986ms\tremaining: 932ms\n",
      "514:\tlearn: 0.0222660\ttotal: 988ms\tremaining: 930ms\n",
      "515:\tlearn: 0.0222659\ttotal: 990ms\tremaining: 929ms\n",
      "516:\tlearn: 0.0222659\ttotal: 992ms\tremaining: 927ms\n",
      "517:\tlearn: 0.0222658\ttotal: 994ms\tremaining: 925ms\n",
      "518:\tlearn: 0.0222658\ttotal: 996ms\tremaining: 923ms\n",
      "519:\tlearn: 0.0222657\ttotal: 997ms\tremaining: 921ms\n",
      "520:\tlearn: 0.0222656\ttotal: 999ms\tremaining: 919ms\n",
      "521:\tlearn: 0.0222655\ttotal: 1s\tremaining: 916ms\n",
      "522:\tlearn: 0.0222653\ttotal: 1s\tremaining: 915ms\n",
      "523:\tlearn: 0.0222646\ttotal: 1s\tremaining: 913ms\n",
      "524:\tlearn: 0.0222646\ttotal: 1.01s\tremaining: 910ms\n",
      "525:\tlearn: 0.0222646\ttotal: 1.01s\tremaining: 908ms\n",
      "526:\tlearn: 0.0222646\ttotal: 1.01s\tremaining: 906ms\n",
      "527:\tlearn: 0.0222645\ttotal: 1.01s\tremaining: 904ms\n",
      "528:\tlearn: 0.0222644\ttotal: 1.01s\tremaining: 902ms\n",
      "529:\tlearn: 0.0222644\ttotal: 1.01s\tremaining: 900ms\n",
      "530:\tlearn: 0.0222644\ttotal: 1.02s\tremaining: 898ms\n",
      "531:\tlearn: 0.0222642\ttotal: 1.02s\tremaining: 896ms\n",
      "532:\tlearn: 0.0222642\ttotal: 1.02s\tremaining: 894ms\n",
      "533:\tlearn: 0.0222641\ttotal: 1.02s\tremaining: 892ms\n",
      "534:\tlearn: 0.0222641\ttotal: 1.02s\tremaining: 890ms\n",
      "535:\tlearn: 0.0222640\ttotal: 1.03s\tremaining: 888ms\n",
      "536:\tlearn: 0.0222640\ttotal: 1.03s\tremaining: 887ms\n",
      "537:\tlearn: 0.0222639\ttotal: 1.03s\tremaining: 885ms\n",
      "538:\tlearn: 0.0222638\ttotal: 1.03s\tremaining: 882ms\n",
      "539:\tlearn: 0.0222638\ttotal: 1.03s\tremaining: 880ms\n",
      "540:\tlearn: 0.0222638\ttotal: 1.03s\tremaining: 879ms\n",
      "541:\tlearn: 0.0222637\ttotal: 1.04s\tremaining: 877ms\n",
      "542:\tlearn: 0.0222636\ttotal: 1.04s\tremaining: 874ms\n",
      "543:\tlearn: 0.0222636\ttotal: 1.04s\tremaining: 872ms\n",
      "544:\tlearn: 0.0222636\ttotal: 1.04s\tremaining: 870ms\n",
      "545:\tlearn: 0.0222635\ttotal: 1.04s\tremaining: 868ms\n",
      "546:\tlearn: 0.0222635\ttotal: 1.05s\tremaining: 866ms\n",
      "547:\tlearn: 0.0222633\ttotal: 1.05s\tremaining: 865ms\n",
      "548:\tlearn: 0.0222633\ttotal: 1.05s\tremaining: 863ms\n",
      "549:\tlearn: 0.0222632\ttotal: 1.05s\tremaining: 861ms\n",
      "550:\tlearn: 0.0222631\ttotal: 1.05s\tremaining: 859ms\n",
      "551:\tlearn: 0.0222631\ttotal: 1.06s\tremaining: 857ms\n",
      "552:\tlearn: 0.0222631\ttotal: 1.06s\tremaining: 855ms\n",
      "553:\tlearn: 0.0222630\ttotal: 1.06s\tremaining: 853ms\n",
      "554:\tlearn: 0.0222629\ttotal: 1.06s\tremaining: 851ms\n",
      "555:\tlearn: 0.0222630\ttotal: 1.06s\tremaining: 849ms\n",
      "556:\tlearn: 0.0222628\ttotal: 1.06s\tremaining: 847ms\n",
      "557:\tlearn: 0.0222627\ttotal: 1.07s\tremaining: 845ms\n",
      "558:\tlearn: 0.0222627\ttotal: 1.07s\tremaining: 843ms\n",
      "559:\tlearn: 0.0222626\ttotal: 1.07s\tremaining: 841ms\n",
      "560:\tlearn: 0.0222626\ttotal: 1.07s\tremaining: 839ms\n",
      "561:\tlearn: 0.0222626\ttotal: 1.07s\tremaining: 837ms\n",
      "562:\tlearn: 0.0222626\ttotal: 1.07s\tremaining: 835ms\n",
      "563:\tlearn: 0.0222625\ttotal: 1.08s\tremaining: 833ms\n",
      "564:\tlearn: 0.0222625\ttotal: 1.08s\tremaining: 831ms\n",
      "565:\tlearn: 0.0222624\ttotal: 1.08s\tremaining: 829ms\n",
      "566:\tlearn: 0.0222623\ttotal: 1.08s\tremaining: 827ms\n",
      "567:\tlearn: 0.0222622\ttotal: 1.08s\tremaining: 825ms\n",
      "568:\tlearn: 0.0222621\ttotal: 1.09s\tremaining: 823ms\n",
      "569:\tlearn: 0.0222620\ttotal: 1.09s\tremaining: 821ms\n",
      "570:\tlearn: 0.0222615\ttotal: 1.09s\tremaining: 819ms\n",
      "571:\tlearn: 0.0222615\ttotal: 1.09s\tremaining: 817ms\n",
      "572:\tlearn: 0.0222614\ttotal: 1.09s\tremaining: 815ms\n",
      "573:\tlearn: 0.0222614\ttotal: 1.09s\tremaining: 813ms\n",
      "574:\tlearn: 0.0222613\ttotal: 1.1s\tremaining: 811ms\n",
      "575:\tlearn: 0.0222613\ttotal: 1.1s\tremaining: 809ms\n",
      "576:\tlearn: 0.0222612\ttotal: 1.1s\tremaining: 807ms\n",
      "577:\tlearn: 0.0222612\ttotal: 1.1s\tremaining: 805ms\n",
      "578:\tlearn: 0.0222611\ttotal: 1.1s\tremaining: 803ms\n",
      "579:\tlearn: 0.0222611\ttotal: 1.11s\tremaining: 801ms\n",
      "580:\tlearn: 0.0222609\ttotal: 1.11s\tremaining: 799ms\n",
      "581:\tlearn: 0.0222608\ttotal: 1.11s\tremaining: 797ms\n",
      "582:\tlearn: 0.0222607\ttotal: 1.11s\tremaining: 795ms\n",
      "583:\tlearn: 0.0222606\ttotal: 1.11s\tremaining: 793ms\n",
      "584:\tlearn: 0.0222605\ttotal: 1.11s\tremaining: 791ms\n",
      "585:\tlearn: 0.0222604\ttotal: 1.12s\tremaining: 789ms\n",
      "586:\tlearn: 0.0222604\ttotal: 1.12s\tremaining: 787ms\n",
      "587:\tlearn: 0.0222604\ttotal: 1.12s\tremaining: 785ms\n",
      "588:\tlearn: 0.0222604\ttotal: 1.12s\tremaining: 783ms\n",
      "589:\tlearn: 0.0222602\ttotal: 1.12s\tremaining: 781ms\n",
      "590:\tlearn: 0.0222602\ttotal: 1.13s\tremaining: 779ms\n",
      "591:\tlearn: 0.0222597\ttotal: 1.13s\tremaining: 778ms\n",
      "592:\tlearn: 0.0222597\ttotal: 1.13s\tremaining: 776ms\n",
      "593:\tlearn: 0.0222216\ttotal: 1.13s\tremaining: 774ms\n",
      "594:\tlearn: 0.0222216\ttotal: 1.13s\tremaining: 772ms\n",
      "595:\tlearn: 0.0222215\ttotal: 1.14s\tremaining: 770ms\n",
      "596:\tlearn: 0.0222214\ttotal: 1.14s\tremaining: 768ms\n",
      "597:\tlearn: 0.0222214\ttotal: 1.14s\tremaining: 766ms\n",
      "598:\tlearn: 0.0222215\ttotal: 1.14s\tremaining: 764ms\n",
      "599:\tlearn: 0.0222213\ttotal: 1.14s\tremaining: 762ms\n",
      "600:\tlearn: 0.0222213\ttotal: 1.14s\tremaining: 760ms\n",
      "601:\tlearn: 0.0222212\ttotal: 1.15s\tremaining: 758ms\n",
      "602:\tlearn: 0.0222212\ttotal: 1.15s\tremaining: 756ms\n",
      "603:\tlearn: 0.0222211\ttotal: 1.15s\tremaining: 754ms\n",
      "604:\tlearn: 0.0222210\ttotal: 1.15s\tremaining: 752ms\n",
      "605:\tlearn: 0.0222210\ttotal: 1.15s\tremaining: 750ms\n",
      "606:\tlearn: 0.0222209\ttotal: 1.16s\tremaining: 748ms\n",
      "607:\tlearn: 0.0222208\ttotal: 1.16s\tremaining: 746ms\n",
      "608:\tlearn: 0.0222207\ttotal: 1.16s\tremaining: 744ms\n",
      "609:\tlearn: 0.0222207\ttotal: 1.16s\tremaining: 742ms\n",
      "610:\tlearn: 0.0222207\ttotal: 1.16s\tremaining: 740ms\n",
      "611:\tlearn: 0.0222206\ttotal: 1.16s\tremaining: 738ms\n",
      "612:\tlearn: 0.0222206\ttotal: 1.17s\tremaining: 736ms\n",
      "613:\tlearn: 0.0222205\ttotal: 1.17s\tremaining: 735ms\n",
      "614:\tlearn: 0.0222205\ttotal: 1.17s\tremaining: 733ms\n",
      "615:\tlearn: 0.0222204\ttotal: 1.17s\tremaining: 731ms\n",
      "616:\tlearn: 0.0222203\ttotal: 1.17s\tremaining: 729ms\n",
      "617:\tlearn: 0.0222202\ttotal: 1.18s\tremaining: 727ms\n",
      "618:\tlearn: 0.0222199\ttotal: 1.18s\tremaining: 725ms\n",
      "619:\tlearn: 0.0222197\ttotal: 1.18s\tremaining: 723ms\n",
      "620:\tlearn: 0.0222198\ttotal: 1.18s\tremaining: 721ms\n",
      "621:\tlearn: 0.0222197\ttotal: 1.18s\tremaining: 719ms\n",
      "622:\tlearn: 0.0222196\ttotal: 1.19s\tremaining: 717ms\n",
      "623:\tlearn: 0.0222196\ttotal: 1.19s\tremaining: 715ms\n",
      "624:\tlearn: 0.0222191\ttotal: 1.19s\tremaining: 713ms\n",
      "625:\tlearn: 0.0222191\ttotal: 1.19s\tremaining: 711ms\n",
      "626:\tlearn: 0.0222190\ttotal: 1.19s\tremaining: 709ms\n",
      "627:\tlearn: 0.0222190\ttotal: 1.19s\tremaining: 708ms\n",
      "628:\tlearn: 0.0222189\ttotal: 1.2s\tremaining: 706ms\n",
      "629:\tlearn: 0.0222188\ttotal: 1.2s\tremaining: 704ms\n",
      "630:\tlearn: 0.0222188\ttotal: 1.2s\tremaining: 702ms\n",
      "631:\tlearn: 0.0222187\ttotal: 1.2s\tremaining: 700ms\n",
      "632:\tlearn: 0.0222186\ttotal: 1.2s\tremaining: 698ms\n",
      "633:\tlearn: 0.0222185\ttotal: 1.21s\tremaining: 696ms\n",
      "634:\tlearn: 0.0222185\ttotal: 1.21s\tremaining: 694ms\n",
      "635:\tlearn: 0.0222185\ttotal: 1.21s\tremaining: 692ms\n",
      "636:\tlearn: 0.0222177\ttotal: 1.21s\tremaining: 690ms\n",
      "637:\tlearn: 0.0221950\ttotal: 1.21s\tremaining: 688ms\n",
      "638:\tlearn: 0.0221514\ttotal: 1.22s\tremaining: 687ms\n",
      "639:\tlearn: 0.0221246\ttotal: 1.22s\tremaining: 685ms\n",
      "640:\tlearn: 0.0221237\ttotal: 1.22s\tremaining: 683ms\n",
      "641:\tlearn: 0.0220673\ttotal: 1.22s\tremaining: 681ms\n",
      "642:\tlearn: 0.0220672\ttotal: 1.22s\tremaining: 679ms\n",
      "643:\tlearn: 0.0220671\ttotal: 1.22s\tremaining: 677ms\n",
      "644:\tlearn: 0.0220671\ttotal: 1.23s\tremaining: 675ms\n",
      "645:\tlearn: 0.0220670\ttotal: 1.23s\tremaining: 673ms\n",
      "646:\tlearn: 0.0220669\ttotal: 1.23s\tremaining: 671ms\n",
      "647:\tlearn: 0.0220668\ttotal: 1.23s\tremaining: 669ms\n",
      "648:\tlearn: 0.0220668\ttotal: 1.23s\tremaining: 667ms\n",
      "649:\tlearn: 0.0220667\ttotal: 1.24s\tremaining: 665ms\n",
      "650:\tlearn: 0.0220666\ttotal: 1.24s\tremaining: 663ms\n",
      "651:\tlearn: 0.0220666\ttotal: 1.24s\tremaining: 661ms\n",
      "652:\tlearn: 0.0220665\ttotal: 1.24s\tremaining: 659ms\n",
      "653:\tlearn: 0.0220664\ttotal: 1.24s\tremaining: 657ms\n",
      "654:\tlearn: 0.0220662\ttotal: 1.24s\tremaining: 655ms\n",
      "655:\tlearn: 0.0220662\ttotal: 1.25s\tremaining: 653ms\n",
      "656:\tlearn: 0.0220661\ttotal: 1.25s\tremaining: 652ms\n",
      "657:\tlearn: 0.0220660\ttotal: 1.25s\tremaining: 650ms\n",
      "658:\tlearn: 0.0220661\ttotal: 1.25s\tremaining: 648ms\n",
      "659:\tlearn: 0.0220660\ttotal: 1.25s\tremaining: 646ms\n",
      "660:\tlearn: 0.0220660\ttotal: 1.25s\tremaining: 644ms\n",
      "661:\tlearn: 0.0220660\ttotal: 1.26s\tremaining: 642ms\n",
      "662:\tlearn: 0.0220659\ttotal: 1.26s\tremaining: 640ms\n",
      "663:\tlearn: 0.0220659\ttotal: 1.26s\tremaining: 638ms\n",
      "664:\tlearn: 0.0220657\ttotal: 1.26s\tremaining: 636ms\n",
      "665:\tlearn: 0.0220657\ttotal: 1.26s\tremaining: 634ms\n",
      "666:\tlearn: 0.0220657\ttotal: 1.27s\tremaining: 632ms\n",
      "667:\tlearn: 0.0220656\ttotal: 1.27s\tremaining: 630ms\n",
      "668:\tlearn: 0.0220657\ttotal: 1.27s\tremaining: 628ms\n",
      "669:\tlearn: 0.0220656\ttotal: 1.27s\tremaining: 626ms\n",
      "670:\tlearn: 0.0220654\ttotal: 1.27s\tremaining: 624ms\n",
      "671:\tlearn: 0.0220654\ttotal: 1.27s\tremaining: 622ms\n",
      "672:\tlearn: 0.0220653\ttotal: 1.28s\tremaining: 620ms\n",
      "673:\tlearn: 0.0220652\ttotal: 1.28s\tremaining: 618ms\n",
      "674:\tlearn: 0.0220652\ttotal: 1.28s\tremaining: 616ms\n",
      "675:\tlearn: 0.0220651\ttotal: 1.28s\tremaining: 614ms\n",
      "676:\tlearn: 0.0220650\ttotal: 1.28s\tremaining: 612ms\n",
      "677:\tlearn: 0.0220649\ttotal: 1.28s\tremaining: 610ms\n",
      "678:\tlearn: 0.0220650\ttotal: 1.29s\tremaining: 608ms\n",
      "679:\tlearn: 0.0220649\ttotal: 1.29s\tremaining: 607ms\n",
      "680:\tlearn: 0.0220647\ttotal: 1.29s\tremaining: 605ms\n",
      "681:\tlearn: 0.0220647\ttotal: 1.29s\tremaining: 603ms\n",
      "682:\tlearn: 0.0220646\ttotal: 1.29s\tremaining: 601ms\n",
      "683:\tlearn: 0.0220645\ttotal: 1.29s\tremaining: 599ms\n",
      "684:\tlearn: 0.0220645\ttotal: 1.3s\tremaining: 597ms\n",
      "685:\tlearn: 0.0220643\ttotal: 1.3s\tremaining: 595ms\n",
      "686:\tlearn: 0.0220643\ttotal: 1.3s\tremaining: 593ms\n",
      "687:\tlearn: 0.0220642\ttotal: 1.3s\tremaining: 591ms\n",
      "688:\tlearn: 0.0220642\ttotal: 1.3s\tremaining: 589ms\n",
      "689:\tlearn: 0.0220641\ttotal: 1.31s\tremaining: 587ms\n",
      "690:\tlearn: 0.0220640\ttotal: 1.31s\tremaining: 585ms\n",
      "691:\tlearn: 0.0220638\ttotal: 1.31s\tremaining: 583ms\n",
      "692:\tlearn: 0.0220637\ttotal: 1.31s\tremaining: 581ms\n",
      "693:\tlearn: 0.0220636\ttotal: 1.31s\tremaining: 579ms\n",
      "694:\tlearn: 0.0220636\ttotal: 1.31s\tremaining: 577ms\n",
      "695:\tlearn: 0.0220635\ttotal: 1.32s\tremaining: 575ms\n",
      "696:\tlearn: 0.0220634\ttotal: 1.32s\tremaining: 573ms\n",
      "697:\tlearn: 0.0220634\ttotal: 1.32s\tremaining: 571ms\n",
      "698:\tlearn: 0.0220633\ttotal: 1.32s\tremaining: 570ms\n",
      "699:\tlearn: 0.0220634\ttotal: 1.32s\tremaining: 568ms\n",
      "700:\tlearn: 0.0220634\ttotal: 1.32s\tremaining: 565ms\n",
      "701:\tlearn: 0.0220633\ttotal: 1.33s\tremaining: 564ms\n",
      "702:\tlearn: 0.0220633\ttotal: 1.33s\tremaining: 562ms\n",
      "703:\tlearn: 0.0220632\ttotal: 1.33s\tremaining: 560ms\n",
      "704:\tlearn: 0.0220632\ttotal: 1.33s\tremaining: 558ms\n",
      "705:\tlearn: 0.0220631\ttotal: 1.33s\tremaining: 556ms\n",
      "706:\tlearn: 0.0220630\ttotal: 1.34s\tremaining: 554ms\n",
      "707:\tlearn: 0.0220629\ttotal: 1.34s\tremaining: 552ms\n",
      "708:\tlearn: 0.0220614\ttotal: 1.34s\tremaining: 550ms\n",
      "709:\tlearn: 0.0220614\ttotal: 1.34s\tremaining: 548ms\n",
      "710:\tlearn: 0.0220612\ttotal: 1.34s\tremaining: 546ms\n",
      "711:\tlearn: 0.0220195\ttotal: 1.34s\tremaining: 544ms\n",
      "712:\tlearn: 0.0220194\ttotal: 1.35s\tremaining: 542ms\n",
      "713:\tlearn: 0.0220194\ttotal: 1.35s\tremaining: 540ms\n",
      "714:\tlearn: 0.0220194\ttotal: 1.35s\tremaining: 538ms\n",
      "715:\tlearn: 0.0220192\ttotal: 1.35s\tremaining: 537ms\n",
      "716:\tlearn: 0.0220192\ttotal: 1.35s\tremaining: 535ms\n",
      "717:\tlearn: 0.0220192\ttotal: 1.36s\tremaining: 533ms\n",
      "718:\tlearn: 0.0220192\ttotal: 1.36s\tremaining: 531ms\n",
      "719:\tlearn: 0.0220192\ttotal: 1.36s\tremaining: 529ms\n",
      "720:\tlearn: 0.0220192\ttotal: 1.36s\tremaining: 527ms\n",
      "721:\tlearn: 0.0220192\ttotal: 1.36s\tremaining: 525ms\n",
      "722:\tlearn: 0.0220190\ttotal: 1.36s\tremaining: 523ms\n",
      "723:\tlearn: 0.0220189\ttotal: 1.37s\tremaining: 521ms\n",
      "724:\tlearn: 0.0220189\ttotal: 1.37s\tremaining: 519ms\n",
      "725:\tlearn: 0.0220188\ttotal: 1.37s\tremaining: 517ms\n",
      "726:\tlearn: 0.0220187\ttotal: 1.37s\tremaining: 515ms\n",
      "727:\tlearn: 0.0220185\ttotal: 1.37s\tremaining: 513ms\n",
      "728:\tlearn: 0.0220185\ttotal: 1.38s\tremaining: 511ms\n",
      "729:\tlearn: 0.0220186\ttotal: 1.38s\tremaining: 510ms\n",
      "730:\tlearn: 0.0220184\ttotal: 1.38s\tremaining: 508ms\n",
      "731:\tlearn: 0.0220184\ttotal: 1.38s\tremaining: 506ms\n",
      "732:\tlearn: 0.0220179\ttotal: 1.38s\tremaining: 504ms\n",
      "733:\tlearn: 0.0220179\ttotal: 1.38s\tremaining: 502ms\n",
      "734:\tlearn: 0.0220178\ttotal: 1.39s\tremaining: 500ms\n",
      "735:\tlearn: 0.0220178\ttotal: 1.39s\tremaining: 498ms\n",
      "736:\tlearn: 0.0220178\ttotal: 1.39s\tremaining: 496ms\n",
      "737:\tlearn: 0.0220177\ttotal: 1.39s\tremaining: 494ms\n",
      "738:\tlearn: 0.0220176\ttotal: 1.39s\tremaining: 492ms\n",
      "739:\tlearn: 0.0220176\ttotal: 1.4s\tremaining: 490ms\n",
      "740:\tlearn: 0.0220176\ttotal: 1.4s\tremaining: 488ms\n",
      "741:\tlearn: 0.0220175\ttotal: 1.4s\tremaining: 487ms\n",
      "742:\tlearn: 0.0220168\ttotal: 1.4s\tremaining: 485ms\n",
      "743:\tlearn: 0.0219087\ttotal: 1.4s\tremaining: 483ms\n",
      "744:\tlearn: 0.0218663\ttotal: 1.41s\tremaining: 481ms\n",
      "745:\tlearn: 0.0218655\ttotal: 1.41s\tremaining: 479ms\n",
      "746:\tlearn: 0.0218655\ttotal: 1.41s\tremaining: 477ms\n",
      "747:\tlearn: 0.0218652\ttotal: 1.41s\tremaining: 475ms\n",
      "748:\tlearn: 0.0218652\ttotal: 1.41s\tremaining: 473ms\n",
      "749:\tlearn: 0.0218650\ttotal: 1.41s\tremaining: 472ms\n",
      "750:\tlearn: 0.0218651\ttotal: 1.42s\tremaining: 470ms\n",
      "751:\tlearn: 0.0218650\ttotal: 1.42s\tremaining: 468ms\n",
      "752:\tlearn: 0.0218650\ttotal: 1.42s\tremaining: 466ms\n",
      "753:\tlearn: 0.0218400\ttotal: 1.42s\tremaining: 464ms\n",
      "754:\tlearn: 0.0218399\ttotal: 1.42s\tremaining: 462ms\n",
      "755:\tlearn: 0.0218393\ttotal: 1.43s\tremaining: 460ms\n",
      "756:\tlearn: 0.0218392\ttotal: 1.43s\tremaining: 458ms\n",
      "757:\tlearn: 0.0218392\ttotal: 1.43s\tremaining: 456ms\n",
      "758:\tlearn: 0.0218390\ttotal: 1.43s\tremaining: 454ms\n",
      "759:\tlearn: 0.0218390\ttotal: 1.43s\tremaining: 452ms\n",
      "760:\tlearn: 0.0218389\ttotal: 1.43s\tremaining: 450ms\n",
      "761:\tlearn: 0.0218379\ttotal: 1.44s\tremaining: 449ms\n",
      "762:\tlearn: 0.0218379\ttotal: 1.44s\tremaining: 447ms\n",
      "763:\tlearn: 0.0218377\ttotal: 1.44s\tremaining: 445ms\n",
      "764:\tlearn: 0.0218107\ttotal: 1.44s\tremaining: 443ms\n",
      "765:\tlearn: 0.0217602\ttotal: 1.44s\tremaining: 441ms\n",
      "766:\tlearn: 0.0217599\ttotal: 1.45s\tremaining: 439ms\n",
      "767:\tlearn: 0.0217598\ttotal: 1.45s\tremaining: 437ms\n",
      "768:\tlearn: 0.0217598\ttotal: 1.45s\tremaining: 435ms\n",
      "769:\tlearn: 0.0217598\ttotal: 1.45s\tremaining: 433ms\n",
      "770:\tlearn: 0.0217598\ttotal: 1.45s\tremaining: 431ms\n",
      "771:\tlearn: 0.0217597\ttotal: 1.45s\tremaining: 430ms\n",
      "772:\tlearn: 0.0217596\ttotal: 1.46s\tremaining: 428ms\n",
      "773:\tlearn: 0.0217593\ttotal: 1.46s\tremaining: 426ms\n",
      "774:\tlearn: 0.0217594\ttotal: 1.46s\tremaining: 424ms\n",
      "775:\tlearn: 0.0217591\ttotal: 1.46s\tremaining: 422ms\n",
      "776:\tlearn: 0.0217593\ttotal: 1.46s\tremaining: 420ms\n",
      "777:\tlearn: 0.0217591\ttotal: 1.47s\tremaining: 418ms\n",
      "778:\tlearn: 0.0217591\ttotal: 1.47s\tremaining: 416ms\n",
      "779:\tlearn: 0.0217590\ttotal: 1.47s\tremaining: 414ms\n",
      "780:\tlearn: 0.0217590\ttotal: 1.47s\tremaining: 412ms\n",
      "781:\tlearn: 0.0217590\ttotal: 1.47s\tremaining: 410ms\n",
      "782:\tlearn: 0.0217590\ttotal: 1.47s\tremaining: 409ms\n",
      "783:\tlearn: 0.0217590\ttotal: 1.48s\tremaining: 407ms\n",
      "784:\tlearn: 0.0217589\ttotal: 1.48s\tremaining: 405ms\n",
      "785:\tlearn: 0.0217588\ttotal: 1.48s\tremaining: 403ms\n",
      "786:\tlearn: 0.0217588\ttotal: 1.48s\tremaining: 401ms\n",
      "787:\tlearn: 0.0217587\ttotal: 1.48s\tremaining: 399ms\n",
      "788:\tlearn: 0.0217585\ttotal: 1.48s\tremaining: 397ms\n",
      "789:\tlearn: 0.0217584\ttotal: 1.49s\tremaining: 395ms\n",
      "790:\tlearn: 0.0217583\ttotal: 1.49s\tremaining: 393ms\n",
      "791:\tlearn: 0.0217581\ttotal: 1.49s\tremaining: 391ms\n",
      "792:\tlearn: 0.0217580\ttotal: 1.49s\tremaining: 389ms\n",
      "793:\tlearn: 0.0217581\ttotal: 1.49s\tremaining: 388ms\n",
      "794:\tlearn: 0.0217579\ttotal: 1.5s\tremaining: 386ms\n",
      "795:\tlearn: 0.0217579\ttotal: 1.5s\tremaining: 384ms\n",
      "796:\tlearn: 0.0217579\ttotal: 1.5s\tremaining: 382ms\n",
      "797:\tlearn: 0.0217578\ttotal: 1.5s\tremaining: 380ms\n",
      "798:\tlearn: 0.0217574\ttotal: 1.5s\tremaining: 378ms\n",
      "799:\tlearn: 0.0217571\ttotal: 1.5s\tremaining: 376ms\n",
      "800:\tlearn: 0.0217571\ttotal: 1.51s\tremaining: 374ms\n",
      "801:\tlearn: 0.0217570\ttotal: 1.51s\tremaining: 372ms\n",
      "802:\tlearn: 0.0217570\ttotal: 1.51s\tremaining: 370ms\n",
      "803:\tlearn: 0.0217569\ttotal: 1.51s\tremaining: 369ms\n",
      "804:\tlearn: 0.0217569\ttotal: 1.51s\tremaining: 367ms\n",
      "805:\tlearn: 0.0217568\ttotal: 1.51s\tremaining: 365ms\n",
      "806:\tlearn: 0.0217564\ttotal: 1.52s\tremaining: 363ms\n",
      "807:\tlearn: 0.0217563\ttotal: 1.52s\tremaining: 361ms\n",
      "808:\tlearn: 0.0217561\ttotal: 1.52s\tremaining: 359ms\n",
      "809:\tlearn: 0.0217561\ttotal: 1.52s\tremaining: 357ms\n",
      "810:\tlearn: 0.0217561\ttotal: 1.52s\tremaining: 355ms\n",
      "811:\tlearn: 0.0217560\ttotal: 1.53s\tremaining: 354ms\n",
      "812:\tlearn: 0.0217560\ttotal: 1.53s\tremaining: 352ms\n",
      "813:\tlearn: 0.0217559\ttotal: 1.53s\tremaining: 350ms\n",
      "814:\tlearn: 0.0217558\ttotal: 1.53s\tremaining: 348ms\n",
      "815:\tlearn: 0.0217558\ttotal: 1.53s\tremaining: 346ms\n",
      "816:\tlearn: 0.0217557\ttotal: 1.53s\tremaining: 344ms\n",
      "817:\tlearn: 0.0217556\ttotal: 1.54s\tremaining: 342ms\n",
      "818:\tlearn: 0.0217555\ttotal: 1.54s\tremaining: 340ms\n",
      "819:\tlearn: 0.0217553\ttotal: 1.54s\tremaining: 338ms\n",
      "820:\tlearn: 0.0217552\ttotal: 1.54s\tremaining: 336ms\n",
      "821:\tlearn: 0.0217552\ttotal: 1.54s\tremaining: 335ms\n",
      "822:\tlearn: 0.0217552\ttotal: 1.55s\tremaining: 333ms\n",
      "823:\tlearn: 0.0217551\ttotal: 1.55s\tremaining: 331ms\n",
      "824:\tlearn: 0.0217550\ttotal: 1.55s\tremaining: 329ms\n",
      "825:\tlearn: 0.0217550\ttotal: 1.55s\tremaining: 327ms\n",
      "826:\tlearn: 0.0217549\ttotal: 1.55s\tremaining: 325ms\n",
      "827:\tlearn: 0.0217549\ttotal: 1.56s\tremaining: 323ms\n",
      "828:\tlearn: 0.0217549\ttotal: 1.56s\tremaining: 321ms\n",
      "829:\tlearn: 0.0217548\ttotal: 1.56s\tremaining: 319ms\n",
      "830:\tlearn: 0.0217548\ttotal: 1.56s\tremaining: 318ms\n",
      "831:\tlearn: 0.0217547\ttotal: 1.56s\tremaining: 316ms\n",
      "832:\tlearn: 0.0217547\ttotal: 1.56s\tremaining: 314ms\n",
      "833:\tlearn: 0.0217542\ttotal: 1.57s\tremaining: 312ms\n",
      "834:\tlearn: 0.0217540\ttotal: 1.57s\tremaining: 310ms\n",
      "835:\tlearn: 0.0217539\ttotal: 1.57s\tremaining: 308ms\n",
      "836:\tlearn: 0.0217539\ttotal: 1.57s\tremaining: 306ms\n",
      "837:\tlearn: 0.0217537\ttotal: 1.57s\tremaining: 304ms\n",
      "838:\tlearn: 0.0217537\ttotal: 1.58s\tremaining: 302ms\n",
      "839:\tlearn: 0.0217537\ttotal: 1.58s\tremaining: 301ms\n",
      "840:\tlearn: 0.0217537\ttotal: 1.58s\tremaining: 299ms\n",
      "841:\tlearn: 0.0217537\ttotal: 1.58s\tremaining: 297ms\n",
      "842:\tlearn: 0.0217536\ttotal: 1.58s\tremaining: 295ms\n",
      "843:\tlearn: 0.0217536\ttotal: 1.58s\tremaining: 293ms\n",
      "844:\tlearn: 0.0217535\ttotal: 1.59s\tremaining: 291ms\n",
      "845:\tlearn: 0.0217531\ttotal: 1.59s\tremaining: 289ms\n",
      "846:\tlearn: 0.0217530\ttotal: 1.59s\tremaining: 287ms\n",
      "847:\tlearn: 0.0217531\ttotal: 1.59s\tremaining: 286ms\n",
      "848:\tlearn: 0.0217530\ttotal: 1.59s\tremaining: 284ms\n",
      "849:\tlearn: 0.0217529\ttotal: 1.6s\tremaining: 282ms\n",
      "850:\tlearn: 0.0217530\ttotal: 1.6s\tremaining: 280ms\n",
      "851:\tlearn: 0.0217529\ttotal: 1.6s\tremaining: 278ms\n",
      "852:\tlearn: 0.0217528\ttotal: 1.6s\tremaining: 276ms\n",
      "853:\tlearn: 0.0217528\ttotal: 1.6s\tremaining: 274ms\n",
      "854:\tlearn: 0.0217528\ttotal: 1.61s\tremaining: 272ms\n",
      "855:\tlearn: 0.0217527\ttotal: 1.61s\tremaining: 271ms\n",
      "856:\tlearn: 0.0217527\ttotal: 1.61s\tremaining: 269ms\n",
      "857:\tlearn: 0.0217527\ttotal: 1.61s\tremaining: 267ms\n",
      "858:\tlearn: 0.0217526\ttotal: 1.61s\tremaining: 265ms\n",
      "859:\tlearn: 0.0217527\ttotal: 1.61s\tremaining: 263ms\n",
      "860:\tlearn: 0.0217526\ttotal: 1.62s\tremaining: 261ms\n",
      "861:\tlearn: 0.0217524\ttotal: 1.62s\tremaining: 259ms\n",
      "862:\tlearn: 0.0217524\ttotal: 1.62s\tremaining: 257ms\n",
      "863:\tlearn: 0.0217524\ttotal: 1.62s\tremaining: 255ms\n",
      "864:\tlearn: 0.0217523\ttotal: 1.62s\tremaining: 253ms\n",
      "865:\tlearn: 0.0217522\ttotal: 1.63s\tremaining: 252ms\n",
      "866:\tlearn: 0.0217521\ttotal: 1.63s\tremaining: 250ms\n",
      "867:\tlearn: 0.0217521\ttotal: 1.63s\tremaining: 248ms\n",
      "868:\tlearn: 0.0217519\ttotal: 1.63s\tremaining: 246ms\n",
      "869:\tlearn: 0.0217515\ttotal: 1.63s\tremaining: 244ms\n",
      "870:\tlearn: 0.0217515\ttotal: 1.64s\tremaining: 242ms\n",
      "871:\tlearn: 0.0217514\ttotal: 1.64s\tremaining: 240ms\n",
      "872:\tlearn: 0.0217514\ttotal: 1.64s\tremaining: 238ms\n",
      "873:\tlearn: 0.0217513\ttotal: 1.64s\tremaining: 237ms\n",
      "874:\tlearn: 0.0217512\ttotal: 1.64s\tremaining: 235ms\n",
      "875:\tlearn: 0.0217512\ttotal: 1.64s\tremaining: 233ms\n",
      "876:\tlearn: 0.0217511\ttotal: 1.65s\tremaining: 231ms\n",
      "877:\tlearn: 0.0217511\ttotal: 1.65s\tremaining: 229ms\n",
      "878:\tlearn: 0.0217511\ttotal: 1.65s\tremaining: 227ms\n",
      "879:\tlearn: 0.0217510\ttotal: 1.65s\tremaining: 225ms\n",
      "880:\tlearn: 0.0217510\ttotal: 1.65s\tremaining: 223ms\n",
      "881:\tlearn: 0.0217508\ttotal: 1.66s\tremaining: 221ms\n",
      "882:\tlearn: 0.0217508\ttotal: 1.66s\tremaining: 220ms\n",
      "883:\tlearn: 0.0217507\ttotal: 1.66s\tremaining: 218ms\n",
      "884:\tlearn: 0.0217505\ttotal: 1.66s\tremaining: 216ms\n",
      "885:\tlearn: 0.0217505\ttotal: 1.66s\tremaining: 214ms\n",
      "886:\tlearn: 0.0217503\ttotal: 1.66s\tremaining: 212ms\n",
      "887:\tlearn: 0.0217503\ttotal: 1.67s\tremaining: 210ms\n",
      "888:\tlearn: 0.0217503\ttotal: 1.67s\tremaining: 208ms\n",
      "889:\tlearn: 0.0217501\ttotal: 1.67s\tremaining: 206ms\n",
      "890:\tlearn: 0.0217500\ttotal: 1.67s\tremaining: 205ms\n",
      "891:\tlearn: 0.0217501\ttotal: 1.67s\tremaining: 203ms\n",
      "892:\tlearn: 0.0217500\ttotal: 1.68s\tremaining: 201ms\n",
      "893:\tlearn: 0.0217498\ttotal: 1.68s\tremaining: 199ms\n",
      "894:\tlearn: 0.0217498\ttotal: 1.68s\tremaining: 197ms\n",
      "895:\tlearn: 0.0217497\ttotal: 1.68s\tremaining: 195ms\n",
      "896:\tlearn: 0.0217494\ttotal: 1.68s\tremaining: 193ms\n",
      "897:\tlearn: 0.0217493\ttotal: 1.68s\tremaining: 191ms\n",
      "898:\tlearn: 0.0217493\ttotal: 1.69s\tremaining: 190ms\n",
      "899:\tlearn: 0.0217492\ttotal: 1.69s\tremaining: 188ms\n",
      "900:\tlearn: 0.0217492\ttotal: 1.69s\tremaining: 186ms\n",
      "901:\tlearn: 0.0217491\ttotal: 1.69s\tremaining: 184ms\n",
      "902:\tlearn: 0.0217492\ttotal: 1.69s\tremaining: 182ms\n",
      "903:\tlearn: 0.0217490\ttotal: 1.7s\tremaining: 180ms\n",
      "904:\tlearn: 0.0217490\ttotal: 1.7s\tremaining: 178ms\n",
      "905:\tlearn: 0.0217489\ttotal: 1.7s\tremaining: 176ms\n",
      "906:\tlearn: 0.0217489\ttotal: 1.7s\tremaining: 174ms\n",
      "907:\tlearn: 0.0217488\ttotal: 1.7s\tremaining: 173ms\n",
      "908:\tlearn: 0.0217488\ttotal: 1.7s\tremaining: 171ms\n",
      "909:\tlearn: 0.0217486\ttotal: 1.71s\tremaining: 169ms\n",
      "910:\tlearn: 0.0217486\ttotal: 1.71s\tremaining: 167ms\n",
      "911:\tlearn: 0.0217486\ttotal: 1.71s\tremaining: 165ms\n",
      "912:\tlearn: 0.0217484\ttotal: 1.71s\tremaining: 163ms\n",
      "913:\tlearn: 0.0217484\ttotal: 1.71s\tremaining: 161ms\n",
      "914:\tlearn: 0.0217344\ttotal: 1.72s\tremaining: 159ms\n",
      "915:\tlearn: 0.0217342\ttotal: 1.72s\tremaining: 157ms\n",
      "916:\tlearn: 0.0217342\ttotal: 1.72s\tremaining: 156ms\n",
      "917:\tlearn: 0.0217342\ttotal: 1.72s\tremaining: 154ms\n",
      "918:\tlearn: 0.0217336\ttotal: 1.72s\tremaining: 152ms\n",
      "919:\tlearn: 0.0217336\ttotal: 1.72s\tremaining: 150ms\n",
      "920:\tlearn: 0.0217336\ttotal: 1.73s\tremaining: 148ms\n",
      "921:\tlearn: 0.0217336\ttotal: 1.73s\tremaining: 146ms\n",
      "922:\tlearn: 0.0217335\ttotal: 1.73s\tremaining: 144ms\n",
      "923:\tlearn: 0.0217334\ttotal: 1.73s\tremaining: 142ms\n",
      "924:\tlearn: 0.0217334\ttotal: 1.73s\tremaining: 141ms\n",
      "925:\tlearn: 0.0217334\ttotal: 1.74s\tremaining: 139ms\n",
      "926:\tlearn: 0.0217333\ttotal: 1.74s\tremaining: 137ms\n",
      "927:\tlearn: 0.0217332\ttotal: 1.74s\tremaining: 135ms\n",
      "928:\tlearn: 0.0217332\ttotal: 1.74s\tremaining: 133ms\n",
      "929:\tlearn: 0.0217332\ttotal: 1.74s\tremaining: 131ms\n",
      "930:\tlearn: 0.0217329\ttotal: 1.74s\tremaining: 129ms\n",
      "931:\tlearn: 0.0217329\ttotal: 1.75s\tremaining: 127ms\n",
      "932:\tlearn: 0.0217328\ttotal: 1.75s\tremaining: 126ms\n",
      "933:\tlearn: 0.0217328\ttotal: 1.75s\tremaining: 124ms\n",
      "934:\tlearn: 0.0217328\ttotal: 1.75s\tremaining: 122ms\n",
      "935:\tlearn: 0.0217327\ttotal: 1.75s\tremaining: 120ms\n",
      "936:\tlearn: 0.0217325\ttotal: 1.75s\tremaining: 118ms\n",
      "937:\tlearn: 0.0217325\ttotal: 1.76s\tremaining: 116ms\n",
      "938:\tlearn: 0.0217324\ttotal: 1.76s\tremaining: 114ms\n",
      "939:\tlearn: 0.0217324\ttotal: 1.76s\tremaining: 112ms\n",
      "940:\tlearn: 0.0217322\ttotal: 1.76s\tremaining: 111ms\n",
      "941:\tlearn: 0.0217322\ttotal: 1.76s\tremaining: 109ms\n",
      "942:\tlearn: 0.0217322\ttotal: 1.77s\tremaining: 107ms\n",
      "943:\tlearn: 0.0217322\ttotal: 1.77s\tremaining: 105ms\n",
      "944:\tlearn: 0.0217323\ttotal: 1.77s\tremaining: 103ms\n",
      "945:\tlearn: 0.0217322\ttotal: 1.77s\tremaining: 101ms\n",
      "946:\tlearn: 0.0217322\ttotal: 1.77s\tremaining: 99.3ms\n",
      "947:\tlearn: 0.0217321\ttotal: 1.78s\tremaining: 97.4ms\n",
      "948:\tlearn: 0.0217321\ttotal: 1.78s\tremaining: 95.6ms\n",
      "949:\tlearn: 0.0217321\ttotal: 1.78s\tremaining: 93.7ms\n",
      "950:\tlearn: 0.0217321\ttotal: 1.78s\tremaining: 91.8ms\n",
      "951:\tlearn: 0.0217320\ttotal: 1.78s\tremaining: 89.9ms\n",
      "952:\tlearn: 0.0217320\ttotal: 1.78s\tremaining: 88.1ms\n",
      "953:\tlearn: 0.0217320\ttotal: 1.79s\tremaining: 86.2ms\n",
      "954:\tlearn: 0.0217319\ttotal: 1.79s\tremaining: 84.3ms\n",
      "955:\tlearn: 0.0217319\ttotal: 1.79s\tremaining: 82.4ms\n",
      "956:\tlearn: 0.0217318\ttotal: 1.79s\tremaining: 80.6ms\n",
      "957:\tlearn: 0.0217318\ttotal: 1.79s\tremaining: 78.7ms\n",
      "958:\tlearn: 0.0217311\ttotal: 1.8s\tremaining: 76.8ms\n",
      "959:\tlearn: 0.0217309\ttotal: 1.8s\tremaining: 74.9ms\n",
      "960:\tlearn: 0.0217310\ttotal: 1.8s\tremaining: 73.1ms\n",
      "961:\tlearn: 0.0217309\ttotal: 1.8s\tremaining: 71.2ms\n",
      "962:\tlearn: 0.0217308\ttotal: 1.8s\tremaining: 69.3ms\n",
      "963:\tlearn: 0.0217309\ttotal: 1.8s\tremaining: 67.4ms\n",
      "964:\tlearn: 0.0217308\ttotal: 1.81s\tremaining: 65.5ms\n",
      "965:\tlearn: 0.0217306\ttotal: 1.81s\tremaining: 63.7ms\n",
      "966:\tlearn: 0.0217307\ttotal: 1.81s\tremaining: 61.8ms\n",
      "967:\tlearn: 0.0217306\ttotal: 1.81s\tremaining: 59.9ms\n",
      "968:\tlearn: 0.0217306\ttotal: 1.81s\tremaining: 58ms\n",
      "969:\tlearn: 0.0217306\ttotal: 1.81s\tremaining: 56.2ms\n",
      "970:\tlearn: 0.0217305\ttotal: 1.82s\tremaining: 54.3ms\n",
      "971:\tlearn: 0.0217305\ttotal: 1.82s\tremaining: 52.4ms\n",
      "972:\tlearn: 0.0217304\ttotal: 1.82s\tremaining: 50.5ms\n",
      "973:\tlearn: 0.0217304\ttotal: 1.82s\tremaining: 48.7ms\n",
      "974:\tlearn: 0.0217303\ttotal: 1.82s\tremaining: 46.8ms\n",
      "975:\tlearn: 0.0217303\ttotal: 1.83s\tremaining: 44.9ms\n",
      "976:\tlearn: 0.0217303\ttotal: 1.83s\tremaining: 43ms\n",
      "977:\tlearn: 0.0217303\ttotal: 1.83s\tremaining: 41.2ms\n",
      "978:\tlearn: 0.0217302\ttotal: 1.83s\tremaining: 39.3ms\n",
      "979:\tlearn: 0.0217302\ttotal: 1.83s\tremaining: 37.4ms\n",
      "980:\tlearn: 0.0217301\ttotal: 1.83s\tremaining: 35.5ms\n",
      "981:\tlearn: 0.0217301\ttotal: 1.84s\tremaining: 33.7ms\n",
      "982:\tlearn: 0.0217302\ttotal: 1.84s\tremaining: 31.8ms\n",
      "983:\tlearn: 0.0217301\ttotal: 1.84s\tremaining: 29.9ms\n",
      "984:\tlearn: 0.0217301\ttotal: 1.84s\tremaining: 28.1ms\n",
      "985:\tlearn: 0.0217300\ttotal: 1.84s\tremaining: 26.2ms\n",
      "986:\tlearn: 0.0217300\ttotal: 1.84s\tremaining: 24.3ms\n",
      "987:\tlearn: 0.0217300\ttotal: 1.85s\tremaining: 22.4ms\n",
      "988:\tlearn: 0.0217300\ttotal: 1.85s\tremaining: 20.6ms\n",
      "989:\tlearn: 0.0217299\ttotal: 1.85s\tremaining: 18.7ms\n",
      "990:\tlearn: 0.0217297\ttotal: 1.85s\tremaining: 16.8ms\n",
      "991:\tlearn: 0.0217298\ttotal: 1.85s\tremaining: 15ms\n",
      "992:\tlearn: 0.0217298\ttotal: 1.86s\tremaining: 13.1ms\n",
      "993:\tlearn: 0.0217298\ttotal: 1.86s\tremaining: 11.2ms\n",
      "994:\tlearn: 0.0217297\ttotal: 1.86s\tremaining: 9.35ms\n",
      "995:\tlearn: 0.0217296\ttotal: 1.86s\tremaining: 7.47ms\n",
      "996:\tlearn: 0.0217291\ttotal: 1.86s\tremaining: 5.61ms\n",
      "997:\tlearn: 0.0217291\ttotal: 1.86s\tremaining: 3.74ms\n",
      "998:\tlearn: 0.0217289\ttotal: 1.87s\tremaining: 1.87ms\n",
      "999:\tlearn: 0.0217288\ttotal: 1.87s\tremaining: 0us\n",
      "0:\tlearn: 0.3096085\ttotal: 1.37ms\tremaining: 1.37s\n",
      "1:\tlearn: 0.2001436\ttotal: 3.46ms\tremaining: 1.73s\n",
      "2:\tlearn: 0.1648594\ttotal: 5.42ms\tremaining: 1.8s\n",
      "3:\tlearn: 0.1542680\ttotal: 7.54ms\tremaining: 1.88s\n",
      "4:\tlearn: 0.1370092\ttotal: 9.67ms\tremaining: 1.92s\n",
      "5:\tlearn: 0.1300877\ttotal: 11.6ms\tremaining: 1.92s\n",
      "6:\tlearn: 0.1252973\ttotal: 13.5ms\tremaining: 1.92s\n",
      "7:\tlearn: 0.1218447\ttotal: 15.4ms\tremaining: 1.92s\n",
      "8:\tlearn: 0.1158423\ttotal: 17.5ms\tremaining: 1.93s\n",
      "9:\tlearn: 0.1096543\ttotal: 19.5ms\tremaining: 1.93s\n",
      "10:\tlearn: 0.1049135\ttotal: 21.4ms\tremaining: 1.92s\n",
      "11:\tlearn: 0.1009078\ttotal: 23.5ms\tremaining: 1.93s\n",
      "12:\tlearn: 0.0983243\ttotal: 25.4ms\tremaining: 1.93s\n",
      "13:\tlearn: 0.0927667\ttotal: 27.3ms\tremaining: 1.92s\n",
      "14:\tlearn: 0.0911857\ttotal: 29.4ms\tremaining: 1.93s\n",
      "15:\tlearn: 0.0887257\ttotal: 31.3ms\tremaining: 1.92s\n",
      "16:\tlearn: 0.0857985\ttotal: 33.2ms\tremaining: 1.92s\n",
      "17:\tlearn: 0.0831653\ttotal: 35.2ms\tremaining: 1.92s\n",
      "18:\tlearn: 0.0808632\ttotal: 37.2ms\tremaining: 1.92s\n",
      "19:\tlearn: 0.0781324\ttotal: 39.2ms\tremaining: 1.92s\n",
      "20:\tlearn: 0.0766566\ttotal: 41.2ms\tremaining: 1.92s\n",
      "21:\tlearn: 0.0736677\ttotal: 43.3ms\tremaining: 1.93s\n",
      "22:\tlearn: 0.0723075\ttotal: 45.4ms\tremaining: 1.93s\n",
      "23:\tlearn: 0.0698169\ttotal: 47.6ms\tremaining: 1.94s\n",
      "24:\tlearn: 0.0673614\ttotal: 50.1ms\tremaining: 1.96s\n",
      "25:\tlearn: 0.0654575\ttotal: 52.2ms\tremaining: 1.96s\n",
      "26:\tlearn: 0.0639506\ttotal: 54.1ms\tremaining: 1.95s\n",
      "27:\tlearn: 0.0631915\ttotal: 56.3ms\tremaining: 1.95s\n",
      "28:\tlearn: 0.0611555\ttotal: 58.3ms\tremaining: 1.95s\n",
      "29:\tlearn: 0.0599170\ttotal: 60.3ms\tremaining: 1.95s\n",
      "30:\tlearn: 0.0587520\ttotal: 62.3ms\tremaining: 1.95s\n",
      "31:\tlearn: 0.0578497\ttotal: 64.4ms\tremaining: 1.95s\n",
      "32:\tlearn: 0.0573900\ttotal: 66.3ms\tremaining: 1.94s\n",
      "33:\tlearn: 0.0552287\ttotal: 68.4ms\tremaining: 1.94s\n",
      "34:\tlearn: 0.0544560\ttotal: 70.7ms\tremaining: 1.95s\n",
      "35:\tlearn: 0.0529845\ttotal: 72.6ms\tremaining: 1.94s\n",
      "36:\tlearn: 0.0521919\ttotal: 74.5ms\tremaining: 1.94s\n",
      "37:\tlearn: 0.0505883\ttotal: 76.5ms\tremaining: 1.94s\n",
      "38:\tlearn: 0.0499907\ttotal: 78.4ms\tremaining: 1.93s\n",
      "39:\tlearn: 0.0492128\ttotal: 80.4ms\tremaining: 1.93s\n",
      "40:\tlearn: 0.0483610\ttotal: 82.5ms\tremaining: 1.93s\n",
      "41:\tlearn: 0.0477423\ttotal: 84.6ms\tremaining: 1.93s\n",
      "42:\tlearn: 0.0472432\ttotal: 86.5ms\tremaining: 1.93s\n",
      "43:\tlearn: 0.0466037\ttotal: 88.8ms\tremaining: 1.93s\n",
      "44:\tlearn: 0.0460651\ttotal: 91.2ms\tremaining: 1.93s\n",
      "45:\tlearn: 0.0453535\ttotal: 93.1ms\tremaining: 1.93s\n",
      "46:\tlearn: 0.0447119\ttotal: 95ms\tremaining: 1.93s\n",
      "47:\tlearn: 0.0441907\ttotal: 97.6ms\tremaining: 1.94s\n",
      "48:\tlearn: 0.0433201\ttotal: 99.6ms\tremaining: 1.93s\n",
      "49:\tlearn: 0.0425312\ttotal: 102ms\tremaining: 1.93s\n",
      "50:\tlearn: 0.0422220\ttotal: 104ms\tremaining: 1.93s\n",
      "51:\tlearn: 0.0412308\ttotal: 106ms\tremaining: 1.93s\n",
      "52:\tlearn: 0.0408255\ttotal: 108ms\tremaining: 1.92s\n",
      "53:\tlearn: 0.0404125\ttotal: 110ms\tremaining: 1.92s\n",
      "54:\tlearn: 0.0401080\ttotal: 112ms\tremaining: 1.92s\n",
      "55:\tlearn: 0.0395782\ttotal: 114ms\tremaining: 1.92s\n",
      "56:\tlearn: 0.0392575\ttotal: 116ms\tremaining: 1.91s\n",
      "57:\tlearn: 0.0390648\ttotal: 118ms\tremaining: 1.91s\n",
      "58:\tlearn: 0.0386932\ttotal: 120ms\tremaining: 1.91s\n",
      "59:\tlearn: 0.0384202\ttotal: 122ms\tremaining: 1.91s\n",
      "60:\tlearn: 0.0377615\ttotal: 124ms\tremaining: 1.9s\n",
      "61:\tlearn: 0.0374140\ttotal: 126ms\tremaining: 1.9s\n",
      "62:\tlearn: 0.0372581\ttotal: 128ms\tremaining: 1.9s\n",
      "63:\tlearn: 0.0369419\ttotal: 130ms\tremaining: 1.89s\n",
      "64:\tlearn: 0.0364398\ttotal: 132ms\tremaining: 1.9s\n",
      "65:\tlearn: 0.0360534\ttotal: 134ms\tremaining: 1.89s\n",
      "66:\tlearn: 0.0359011\ttotal: 136ms\tremaining: 1.89s\n",
      "67:\tlearn: 0.0354995\ttotal: 138ms\tremaining: 1.89s\n",
      "68:\tlearn: 0.0347383\ttotal: 140ms\tremaining: 1.89s\n",
      "69:\tlearn: 0.0344920\ttotal: 142ms\tremaining: 1.88s\n",
      "70:\tlearn: 0.0337682\ttotal: 144ms\tremaining: 1.88s\n",
      "71:\tlearn: 0.0336007\ttotal: 146ms\tremaining: 1.88s\n",
      "72:\tlearn: 0.0334104\ttotal: 148ms\tremaining: 1.88s\n",
      "73:\tlearn: 0.0331854\ttotal: 150ms\tremaining: 1.87s\n",
      "74:\tlearn: 0.0326810\ttotal: 152ms\tremaining: 1.87s\n",
      "75:\tlearn: 0.0325091\ttotal: 154ms\tremaining: 1.87s\n",
      "76:\tlearn: 0.0323431\ttotal: 156ms\tremaining: 1.86s\n",
      "77:\tlearn: 0.0321441\ttotal: 158ms\tremaining: 1.86s\n",
      "78:\tlearn: 0.0316324\ttotal: 160ms\tremaining: 1.86s\n",
      "79:\tlearn: 0.0314851\ttotal: 162ms\tremaining: 1.86s\n",
      "80:\tlearn: 0.0312670\ttotal: 164ms\tremaining: 1.86s\n",
      "81:\tlearn: 0.0311697\ttotal: 166ms\tremaining: 1.85s\n",
      "82:\tlearn: 0.0307021\ttotal: 168ms\tremaining: 1.85s\n",
      "83:\tlearn: 0.0304905\ttotal: 170ms\tremaining: 1.85s\n",
      "84:\tlearn: 0.0303415\ttotal: 172ms\tremaining: 1.85s\n",
      "85:\tlearn: 0.0301312\ttotal: 174ms\tremaining: 1.84s\n",
      "86:\tlearn: 0.0296107\ttotal: 176ms\tremaining: 1.84s\n",
      "87:\tlearn: 0.0294990\ttotal: 178ms\tremaining: 1.84s\n",
      "88:\tlearn: 0.0292059\ttotal: 180ms\tremaining: 1.84s\n",
      "89:\tlearn: 0.0290147\ttotal: 181ms\tremaining: 1.83s\n",
      "90:\tlearn: 0.0288349\ttotal: 183ms\tremaining: 1.83s\n",
      "91:\tlearn: 0.0286671\ttotal: 185ms\tremaining: 1.83s\n",
      "92:\tlearn: 0.0285836\ttotal: 187ms\tremaining: 1.83s\n",
      "93:\tlearn: 0.0283925\ttotal: 189ms\tremaining: 1.82s\n",
      "94:\tlearn: 0.0281611\ttotal: 191ms\tremaining: 1.82s\n",
      "95:\tlearn: 0.0280685\ttotal: 193ms\tremaining: 1.82s\n",
      "96:\tlearn: 0.0279867\ttotal: 195ms\tremaining: 1.81s\n",
      "97:\tlearn: 0.0277896\ttotal: 197ms\tremaining: 1.81s\n",
      "98:\tlearn: 0.0276222\ttotal: 199ms\tremaining: 1.81s\n",
      "99:\tlearn: 0.0275290\ttotal: 201ms\tremaining: 1.81s\n",
      "100:\tlearn: 0.0273501\ttotal: 203ms\tremaining: 1.81s\n",
      "101:\tlearn: 0.0272879\ttotal: 205ms\tremaining: 1.8s\n",
      "102:\tlearn: 0.0271559\ttotal: 207ms\tremaining: 1.8s\n",
      "103:\tlearn: 0.0267868\ttotal: 209ms\tremaining: 1.8s\n",
      "104:\tlearn: 0.0267638\ttotal: 211ms\tremaining: 1.79s\n",
      "105:\tlearn: 0.0266350\ttotal: 213ms\tremaining: 1.79s\n",
      "106:\tlearn: 0.0264669\ttotal: 215ms\tremaining: 1.79s\n",
      "107:\tlearn: 0.0263977\ttotal: 217ms\tremaining: 1.79s\n",
      "108:\tlearn: 0.0262674\ttotal: 219ms\tremaining: 1.79s\n",
      "109:\tlearn: 0.0261657\ttotal: 221ms\tremaining: 1.78s\n",
      "110:\tlearn: 0.0260787\ttotal: 223ms\tremaining: 1.78s\n",
      "111:\tlearn: 0.0259209\ttotal: 225ms\tremaining: 1.78s\n",
      "112:\tlearn: 0.0257717\ttotal: 226ms\tremaining: 1.78s\n",
      "113:\tlearn: 0.0257716\ttotal: 228ms\tremaining: 1.77s\n",
      "114:\tlearn: 0.0256587\ttotal: 230ms\tremaining: 1.77s\n",
      "115:\tlearn: 0.0254801\ttotal: 232ms\tremaining: 1.77s\n",
      "116:\tlearn: 0.0253893\ttotal: 234ms\tremaining: 1.77s\n",
      "117:\tlearn: 0.0253235\ttotal: 236ms\tremaining: 1.76s\n",
      "118:\tlearn: 0.0252091\ttotal: 238ms\tremaining: 1.76s\n",
      "119:\tlearn: 0.0251376\ttotal: 240ms\tremaining: 1.76s\n",
      "120:\tlearn: 0.0250671\ttotal: 242ms\tremaining: 1.76s\n",
      "121:\tlearn: 0.0249955\ttotal: 244ms\tremaining: 1.76s\n",
      "122:\tlearn: 0.0249665\ttotal: 246ms\tremaining: 1.75s\n",
      "123:\tlearn: 0.0249660\ttotal: 248ms\tremaining: 1.75s\n",
      "124:\tlearn: 0.0248862\ttotal: 250ms\tremaining: 1.75s\n",
      "125:\tlearn: 0.0248714\ttotal: 252ms\tremaining: 1.75s\n",
      "126:\tlearn: 0.0248013\ttotal: 254ms\tremaining: 1.74s\n",
      "127:\tlearn: 0.0245862\ttotal: 255ms\tremaining: 1.74s\n",
      "128:\tlearn: 0.0245860\ttotal: 257ms\tremaining: 1.74s\n",
      "129:\tlearn: 0.0244692\ttotal: 259ms\tremaining: 1.73s\n",
      "130:\tlearn: 0.0244052\ttotal: 261ms\tremaining: 1.73s\n",
      "131:\tlearn: 0.0242396\ttotal: 264ms\tremaining: 1.73s\n",
      "132:\tlearn: 0.0242016\ttotal: 266ms\tremaining: 1.73s\n",
      "133:\tlearn: 0.0242014\ttotal: 268ms\tremaining: 1.73s\n",
      "134:\tlearn: 0.0241903\ttotal: 270ms\tremaining: 1.73s\n",
      "135:\tlearn: 0.0241646\ttotal: 272ms\tremaining: 1.73s\n",
      "136:\tlearn: 0.0241141\ttotal: 274ms\tremaining: 1.72s\n",
      "137:\tlearn: 0.0239643\ttotal: 276ms\tremaining: 1.72s\n",
      "138:\tlearn: 0.0239642\ttotal: 278ms\tremaining: 1.72s\n",
      "139:\tlearn: 0.0238770\ttotal: 280ms\tremaining: 1.72s\n",
      "140:\tlearn: 0.0238768\ttotal: 283ms\tremaining: 1.72s\n",
      "141:\tlearn: 0.0238357\ttotal: 286ms\tremaining: 1.73s\n",
      "142:\tlearn: 0.0238356\ttotal: 288ms\tremaining: 1.73s\n",
      "143:\tlearn: 0.0237120\ttotal: 291ms\tremaining: 1.73s\n",
      "144:\tlearn: 0.0236198\ttotal: 294ms\tremaining: 1.73s\n",
      "145:\tlearn: 0.0235321\ttotal: 301ms\tremaining: 1.76s\n",
      "146:\tlearn: 0.0234564\ttotal: 303ms\tremaining: 1.76s\n",
      "147:\tlearn: 0.0234046\ttotal: 306ms\tremaining: 1.76s\n",
      "148:\tlearn: 0.0234045\ttotal: 307ms\tremaining: 1.75s\n",
      "149:\tlearn: 0.0234045\ttotal: 309ms\tremaining: 1.75s\n",
      "150:\tlearn: 0.0234045\ttotal: 311ms\tremaining: 1.75s\n",
      "151:\tlearn: 0.0234045\ttotal: 313ms\tremaining: 1.75s\n",
      "152:\tlearn: 0.0234045\ttotal: 315ms\tremaining: 1.75s\n",
      "153:\tlearn: 0.0234045\ttotal: 317ms\tremaining: 1.74s\n",
      "154:\tlearn: 0.0234044\ttotal: 319ms\tremaining: 1.74s\n",
      "155:\tlearn: 0.0234045\ttotal: 321ms\tremaining: 1.73s\n",
      "156:\tlearn: 0.0234044\ttotal: 323ms\tremaining: 1.73s\n",
      "157:\tlearn: 0.0234044\ttotal: 324ms\tremaining: 1.73s\n",
      "158:\tlearn: 0.0234044\ttotal: 326ms\tremaining: 1.72s\n",
      "159:\tlearn: 0.0234044\ttotal: 328ms\tremaining: 1.72s\n",
      "160:\tlearn: 0.0234044\ttotal: 329ms\tremaining: 1.72s\n",
      "161:\tlearn: 0.0234042\ttotal: 331ms\tremaining: 1.71s\n",
      "162:\tlearn: 0.0234042\ttotal: 333ms\tremaining: 1.71s\n",
      "163:\tlearn: 0.0234042\ttotal: 335ms\tremaining: 1.71s\n",
      "164:\tlearn: 0.0234042\ttotal: 337ms\tremaining: 1.7s\n",
      "165:\tlearn: 0.0234041\ttotal: 339ms\tremaining: 1.7s\n",
      "166:\tlearn: 0.0234040\ttotal: 340ms\tremaining: 1.7s\n",
      "167:\tlearn: 0.0234040\ttotal: 342ms\tremaining: 1.7s\n",
      "168:\tlearn: 0.0234040\ttotal: 344ms\tremaining: 1.69s\n",
      "169:\tlearn: 0.0234040\ttotal: 346ms\tremaining: 1.69s\n",
      "170:\tlearn: 0.0234040\ttotal: 347ms\tremaining: 1.68s\n",
      "171:\tlearn: 0.0233894\ttotal: 349ms\tremaining: 1.68s\n",
      "172:\tlearn: 0.0233520\ttotal: 351ms\tremaining: 1.68s\n",
      "173:\tlearn: 0.0233519\ttotal: 353ms\tremaining: 1.68s\n",
      "174:\tlearn: 0.0232334\ttotal: 355ms\tremaining: 1.67s\n",
      "175:\tlearn: 0.0231756\ttotal: 357ms\tremaining: 1.67s\n",
      "176:\tlearn: 0.0230935\ttotal: 359ms\tremaining: 1.67s\n",
      "177:\tlearn: 0.0230935\ttotal: 361ms\tremaining: 1.67s\n",
      "178:\tlearn: 0.0230932\ttotal: 363ms\tremaining: 1.66s\n",
      "179:\tlearn: 0.0230931\ttotal: 364ms\tremaining: 1.66s\n",
      "180:\tlearn: 0.0230615\ttotal: 366ms\tremaining: 1.66s\n",
      "181:\tlearn: 0.0230097\ttotal: 369ms\tremaining: 1.66s\n",
      "182:\tlearn: 0.0229323\ttotal: 371ms\tremaining: 1.65s\n",
      "183:\tlearn: 0.0229324\ttotal: 372ms\tremaining: 1.65s\n",
      "184:\tlearn: 0.0229323\ttotal: 373ms\tremaining: 1.64s\n",
      "185:\tlearn: 0.0229323\ttotal: 374ms\tremaining: 1.64s\n",
      "186:\tlearn: 0.0229323\ttotal: 376ms\tremaining: 1.63s\n",
      "187:\tlearn: 0.0229324\ttotal: 377ms\tremaining: 1.63s\n",
      "188:\tlearn: 0.0229323\ttotal: 378ms\tremaining: 1.62s\n",
      "189:\tlearn: 0.0229323\ttotal: 380ms\tremaining: 1.62s\n",
      "190:\tlearn: 0.0229322\ttotal: 382ms\tremaining: 1.62s\n",
      "191:\tlearn: 0.0229321\ttotal: 383ms\tremaining: 1.61s\n",
      "192:\tlearn: 0.0229320\ttotal: 384ms\tremaining: 1.61s\n",
      "193:\tlearn: 0.0229319\ttotal: 385ms\tremaining: 1.6s\n",
      "194:\tlearn: 0.0229318\ttotal: 387ms\tremaining: 1.59s\n",
      "195:\tlearn: 0.0229318\ttotal: 388ms\tremaining: 1.59s\n",
      "196:\tlearn: 0.0229317\ttotal: 389ms\tremaining: 1.59s\n",
      "197:\tlearn: 0.0229317\ttotal: 391ms\tremaining: 1.58s\n",
      "198:\tlearn: 0.0229316\ttotal: 392ms\tremaining: 1.58s\n",
      "199:\tlearn: 0.0229316\ttotal: 393ms\tremaining: 1.57s\n",
      "200:\tlearn: 0.0229316\ttotal: 395ms\tremaining: 1.57s\n",
      "201:\tlearn: 0.0229313\ttotal: 396ms\tremaining: 1.56s\n",
      "202:\tlearn: 0.0229313\ttotal: 397ms\tremaining: 1.56s\n",
      "203:\tlearn: 0.0229313\ttotal: 399ms\tremaining: 1.55s\n",
      "204:\tlearn: 0.0229313\ttotal: 401ms\tremaining: 1.55s\n",
      "205:\tlearn: 0.0228798\ttotal: 403ms\tremaining: 1.55s\n",
      "206:\tlearn: 0.0228796\ttotal: 404ms\tremaining: 1.55s\n",
      "207:\tlearn: 0.0228795\ttotal: 406ms\tremaining: 1.55s\n",
      "208:\tlearn: 0.0228793\ttotal: 408ms\tremaining: 1.54s\n",
      "209:\tlearn: 0.0228792\ttotal: 410ms\tremaining: 1.54s\n",
      "210:\tlearn: 0.0228306\ttotal: 412ms\tremaining: 1.54s\n",
      "211:\tlearn: 0.0228306\ttotal: 413ms\tremaining: 1.54s\n",
      "212:\tlearn: 0.0228307\ttotal: 415ms\tremaining: 1.53s\n",
      "213:\tlearn: 0.0228305\ttotal: 417ms\tremaining: 1.53s\n",
      "214:\tlearn: 0.0228305\ttotal: 419ms\tremaining: 1.53s\n",
      "215:\tlearn: 0.0228304\ttotal: 421ms\tremaining: 1.53s\n",
      "216:\tlearn: 0.0228303\ttotal: 422ms\tremaining: 1.52s\n",
      "217:\tlearn: 0.0228302\ttotal: 424ms\tremaining: 1.52s\n",
      "218:\tlearn: 0.0228300\ttotal: 426ms\tremaining: 1.52s\n",
      "219:\tlearn: 0.0228292\ttotal: 428ms\tremaining: 1.52s\n",
      "220:\tlearn: 0.0228284\ttotal: 430ms\tremaining: 1.51s\n",
      "221:\tlearn: 0.0227632\ttotal: 432ms\tremaining: 1.51s\n",
      "222:\tlearn: 0.0227019\ttotal: 434ms\tremaining: 1.51s\n",
      "223:\tlearn: 0.0225985\ttotal: 436ms\tremaining: 1.51s\n",
      "224:\tlearn: 0.0225982\ttotal: 438ms\tremaining: 1.51s\n",
      "225:\tlearn: 0.0225624\ttotal: 439ms\tremaining: 1.5s\n",
      "226:\tlearn: 0.0224551\ttotal: 442ms\tremaining: 1.5s\n",
      "227:\tlearn: 0.0224549\ttotal: 443ms\tremaining: 1.5s\n",
      "228:\tlearn: 0.0224546\ttotal: 445ms\tremaining: 1.5s\n",
      "229:\tlearn: 0.0224546\ttotal: 447ms\tremaining: 1.5s\n",
      "230:\tlearn: 0.0224546\ttotal: 449ms\tremaining: 1.49s\n",
      "231:\tlearn: 0.0224543\ttotal: 451ms\tremaining: 1.49s\n",
      "232:\tlearn: 0.0224541\ttotal: 452ms\tremaining: 1.49s\n",
      "233:\tlearn: 0.0224541\ttotal: 455ms\tremaining: 1.49s\n",
      "234:\tlearn: 0.0224540\ttotal: 457ms\tremaining: 1.49s\n",
      "235:\tlearn: 0.0224539\ttotal: 458ms\tremaining: 1.48s\n",
      "236:\tlearn: 0.0224533\ttotal: 460ms\tremaining: 1.48s\n",
      "237:\tlearn: 0.0224532\ttotal: 462ms\tremaining: 1.48s\n",
      "238:\tlearn: 0.0224532\ttotal: 464ms\tremaining: 1.48s\n",
      "239:\tlearn: 0.0223979\ttotal: 466ms\tremaining: 1.48s\n",
      "240:\tlearn: 0.0223658\ttotal: 468ms\tremaining: 1.47s\n",
      "241:\tlearn: 0.0223656\ttotal: 470ms\tremaining: 1.47s\n",
      "242:\tlearn: 0.0223653\ttotal: 472ms\tremaining: 1.47s\n",
      "243:\tlearn: 0.0223652\ttotal: 474ms\tremaining: 1.47s\n",
      "244:\tlearn: 0.0223651\ttotal: 476ms\tremaining: 1.47s\n",
      "245:\tlearn: 0.0223649\ttotal: 477ms\tremaining: 1.46s\n",
      "246:\tlearn: 0.0223648\ttotal: 479ms\tremaining: 1.46s\n",
      "247:\tlearn: 0.0223648\ttotal: 481ms\tremaining: 1.46s\n",
      "248:\tlearn: 0.0223648\ttotal: 483ms\tremaining: 1.46s\n",
      "249:\tlearn: 0.0223646\ttotal: 485ms\tremaining: 1.45s\n",
      "250:\tlearn: 0.0223645\ttotal: 487ms\tremaining: 1.45s\n",
      "251:\tlearn: 0.0223645\ttotal: 489ms\tremaining: 1.45s\n",
      "252:\tlearn: 0.0223643\ttotal: 490ms\tremaining: 1.45s\n",
      "253:\tlearn: 0.0223640\ttotal: 492ms\tremaining: 1.44s\n",
      "254:\tlearn: 0.0223638\ttotal: 494ms\tremaining: 1.44s\n",
      "255:\tlearn: 0.0223637\ttotal: 496ms\tremaining: 1.44s\n",
      "256:\tlearn: 0.0223593\ttotal: 497ms\tremaining: 1.44s\n",
      "257:\tlearn: 0.0223592\ttotal: 499ms\tremaining: 1.44s\n",
      "258:\tlearn: 0.0223590\ttotal: 501ms\tremaining: 1.43s\n",
      "259:\tlearn: 0.0223454\ttotal: 503ms\tremaining: 1.43s\n",
      "260:\tlearn: 0.0223453\ttotal: 505ms\tremaining: 1.43s\n",
      "261:\tlearn: 0.0223452\ttotal: 507ms\tremaining: 1.43s\n",
      "262:\tlearn: 0.0223446\ttotal: 509ms\tremaining: 1.42s\n",
      "263:\tlearn: 0.0223446\ttotal: 510ms\tremaining: 1.42s\n",
      "264:\tlearn: 0.0223446\ttotal: 512ms\tremaining: 1.42s\n",
      "265:\tlearn: 0.0223444\ttotal: 514ms\tremaining: 1.42s\n",
      "266:\tlearn: 0.0223444\ttotal: 516ms\tremaining: 1.42s\n",
      "267:\tlearn: 0.0223442\ttotal: 518ms\tremaining: 1.41s\n",
      "268:\tlearn: 0.0223442\ttotal: 520ms\tremaining: 1.41s\n",
      "269:\tlearn: 0.0223442\ttotal: 521ms\tremaining: 1.41s\n",
      "270:\tlearn: 0.0223442\ttotal: 523ms\tremaining: 1.41s\n",
      "271:\tlearn: 0.0223442\ttotal: 525ms\tremaining: 1.4s\n",
      "272:\tlearn: 0.0223441\ttotal: 527ms\tremaining: 1.4s\n",
      "273:\tlearn: 0.0223440\ttotal: 529ms\tremaining: 1.4s\n",
      "274:\tlearn: 0.0223439\ttotal: 531ms\tremaining: 1.4s\n",
      "275:\tlearn: 0.0223436\ttotal: 532ms\tremaining: 1.4s\n",
      "276:\tlearn: 0.0223431\ttotal: 534ms\tremaining: 1.39s\n",
      "277:\tlearn: 0.0223430\ttotal: 536ms\tremaining: 1.39s\n",
      "278:\tlearn: 0.0223430\ttotal: 538ms\tremaining: 1.39s\n",
      "279:\tlearn: 0.0223429\ttotal: 539ms\tremaining: 1.39s\n",
      "280:\tlearn: 0.0223428\ttotal: 541ms\tremaining: 1.38s\n",
      "281:\tlearn: 0.0223427\ttotal: 543ms\tremaining: 1.38s\n",
      "282:\tlearn: 0.0222779\ttotal: 545ms\tremaining: 1.38s\n",
      "283:\tlearn: 0.0222778\ttotal: 547ms\tremaining: 1.38s\n",
      "284:\tlearn: 0.0222776\ttotal: 549ms\tremaining: 1.38s\n",
      "285:\tlearn: 0.0222774\ttotal: 550ms\tremaining: 1.37s\n",
      "286:\tlearn: 0.0222365\ttotal: 552ms\tremaining: 1.37s\n",
      "287:\tlearn: 0.0222054\ttotal: 554ms\tremaining: 1.37s\n",
      "288:\tlearn: 0.0222052\ttotal: 556ms\tremaining: 1.37s\n",
      "289:\tlearn: 0.0221634\ttotal: 558ms\tremaining: 1.37s\n",
      "290:\tlearn: 0.0221633\ttotal: 560ms\tremaining: 1.36s\n",
      "291:\tlearn: 0.0221632\ttotal: 562ms\tremaining: 1.36s\n",
      "292:\tlearn: 0.0221630\ttotal: 564ms\tremaining: 1.36s\n",
      "293:\tlearn: 0.0221207\ttotal: 566ms\tremaining: 1.36s\n",
      "294:\tlearn: 0.0221204\ttotal: 568ms\tremaining: 1.36s\n",
      "295:\tlearn: 0.0221201\ttotal: 569ms\tremaining: 1.35s\n",
      "296:\tlearn: 0.0221198\ttotal: 571ms\tremaining: 1.35s\n",
      "297:\tlearn: 0.0221197\ttotal: 573ms\tremaining: 1.35s\n",
      "298:\tlearn: 0.0221196\ttotal: 575ms\tremaining: 1.35s\n",
      "299:\tlearn: 0.0221178\ttotal: 577ms\tremaining: 1.35s\n",
      "300:\tlearn: 0.0221171\ttotal: 579ms\tremaining: 1.34s\n",
      "301:\tlearn: 0.0221170\ttotal: 581ms\tremaining: 1.34s\n",
      "302:\tlearn: 0.0221170\ttotal: 582ms\tremaining: 1.34s\n",
      "303:\tlearn: 0.0221167\ttotal: 584ms\tremaining: 1.34s\n",
      "304:\tlearn: 0.0221167\ttotal: 586ms\tremaining: 1.33s\n",
      "305:\tlearn: 0.0221167\ttotal: 588ms\tremaining: 1.33s\n",
      "306:\tlearn: 0.0221165\ttotal: 590ms\tremaining: 1.33s\n",
      "307:\tlearn: 0.0221164\ttotal: 591ms\tremaining: 1.33s\n",
      "308:\tlearn: 0.0221165\ttotal: 593ms\tremaining: 1.33s\n",
      "309:\tlearn: 0.0221164\ttotal: 595ms\tremaining: 1.32s\n",
      "310:\tlearn: 0.0221164\ttotal: 597ms\tremaining: 1.32s\n",
      "311:\tlearn: 0.0221164\ttotal: 598ms\tremaining: 1.32s\n",
      "312:\tlearn: 0.0221162\ttotal: 600ms\tremaining: 1.32s\n",
      "313:\tlearn: 0.0221161\ttotal: 602ms\tremaining: 1.31s\n",
      "314:\tlearn: 0.0220876\ttotal: 604ms\tremaining: 1.31s\n",
      "315:\tlearn: 0.0220874\ttotal: 606ms\tremaining: 1.31s\n",
      "316:\tlearn: 0.0220875\ttotal: 607ms\tremaining: 1.31s\n",
      "317:\tlearn: 0.0220873\ttotal: 609ms\tremaining: 1.31s\n",
      "318:\tlearn: 0.0220869\ttotal: 611ms\tremaining: 1.3s\n",
      "319:\tlearn: 0.0220869\ttotal: 613ms\tremaining: 1.3s\n",
      "320:\tlearn: 0.0220869\ttotal: 615ms\tremaining: 1.3s\n",
      "321:\tlearn: 0.0220869\ttotal: 616ms\tremaining: 1.3s\n",
      "322:\tlearn: 0.0220867\ttotal: 618ms\tremaining: 1.29s\n",
      "323:\tlearn: 0.0220866\ttotal: 620ms\tremaining: 1.29s\n",
      "324:\tlearn: 0.0220865\ttotal: 622ms\tremaining: 1.29s\n",
      "325:\tlearn: 0.0220865\ttotal: 624ms\tremaining: 1.29s\n",
      "326:\tlearn: 0.0220864\ttotal: 626ms\tremaining: 1.29s\n",
      "327:\tlearn: 0.0220863\ttotal: 628ms\tremaining: 1.29s\n",
      "328:\tlearn: 0.0220862\ttotal: 630ms\tremaining: 1.28s\n",
      "329:\tlearn: 0.0220862\ttotal: 631ms\tremaining: 1.28s\n",
      "330:\tlearn: 0.0220860\ttotal: 633ms\tremaining: 1.28s\n",
      "331:\tlearn: 0.0220838\ttotal: 635ms\tremaining: 1.28s\n",
      "332:\tlearn: 0.0220836\ttotal: 637ms\tremaining: 1.27s\n",
      "333:\tlearn: 0.0220835\ttotal: 639ms\tremaining: 1.27s\n",
      "334:\tlearn: 0.0220833\ttotal: 641ms\tremaining: 1.27s\n",
      "335:\tlearn: 0.0220833\ttotal: 642ms\tremaining: 1.27s\n",
      "336:\tlearn: 0.0220831\ttotal: 644ms\tremaining: 1.27s\n",
      "337:\tlearn: 0.0220830\ttotal: 646ms\tremaining: 1.26s\n",
      "338:\tlearn: 0.0220829\ttotal: 648ms\tremaining: 1.26s\n",
      "339:\tlearn: 0.0220827\ttotal: 650ms\tremaining: 1.26s\n",
      "340:\tlearn: 0.0220824\ttotal: 652ms\tremaining: 1.26s\n",
      "341:\tlearn: 0.0220824\ttotal: 654ms\tremaining: 1.26s\n",
      "342:\tlearn: 0.0220824\ttotal: 655ms\tremaining: 1.25s\n",
      "343:\tlearn: 0.0220823\ttotal: 657ms\tremaining: 1.25s\n",
      "344:\tlearn: 0.0220814\ttotal: 659ms\tremaining: 1.25s\n",
      "345:\tlearn: 0.0220813\ttotal: 661ms\tremaining: 1.25s\n",
      "346:\tlearn: 0.0220813\ttotal: 663ms\tremaining: 1.25s\n",
      "347:\tlearn: 0.0220811\ttotal: 664ms\tremaining: 1.24s\n",
      "348:\tlearn: 0.0220810\ttotal: 667ms\tremaining: 1.24s\n",
      "349:\tlearn: 0.0220809\ttotal: 669ms\tremaining: 1.24s\n",
      "350:\tlearn: 0.0220808\ttotal: 670ms\tremaining: 1.24s\n",
      "351:\tlearn: 0.0220807\ttotal: 673ms\tremaining: 1.24s\n",
      "352:\tlearn: 0.0220806\ttotal: 675ms\tremaining: 1.24s\n",
      "353:\tlearn: 0.0220788\ttotal: 676ms\tremaining: 1.23s\n",
      "354:\tlearn: 0.0220788\ttotal: 678ms\tremaining: 1.23s\n",
      "355:\tlearn: 0.0220787\ttotal: 680ms\tremaining: 1.23s\n",
      "356:\tlearn: 0.0220786\ttotal: 682ms\tremaining: 1.23s\n",
      "357:\tlearn: 0.0220785\ttotal: 684ms\tremaining: 1.23s\n",
      "358:\tlearn: 0.0220779\ttotal: 686ms\tremaining: 1.22s\n",
      "359:\tlearn: 0.0220778\ttotal: 687ms\tremaining: 1.22s\n",
      "360:\tlearn: 0.0220776\ttotal: 689ms\tremaining: 1.22s\n",
      "361:\tlearn: 0.0220775\ttotal: 691ms\tremaining: 1.22s\n",
      "362:\tlearn: 0.0220774\ttotal: 693ms\tremaining: 1.22s\n",
      "363:\tlearn: 0.0220773\ttotal: 695ms\tremaining: 1.21s\n",
      "364:\tlearn: 0.0220773\ttotal: 697ms\tremaining: 1.21s\n",
      "365:\tlearn: 0.0220771\ttotal: 698ms\tremaining: 1.21s\n",
      "366:\tlearn: 0.0220771\ttotal: 700ms\tremaining: 1.21s\n",
      "367:\tlearn: 0.0220644\ttotal: 702ms\tremaining: 1.21s\n",
      "368:\tlearn: 0.0220643\ttotal: 704ms\tremaining: 1.2s\n",
      "369:\tlearn: 0.0220642\ttotal: 706ms\tremaining: 1.2s\n",
      "370:\tlearn: 0.0220642\ttotal: 708ms\tremaining: 1.2s\n",
      "371:\tlearn: 0.0219790\ttotal: 710ms\tremaining: 1.2s\n",
      "372:\tlearn: 0.0219245\ttotal: 712ms\tremaining: 1.2s\n",
      "373:\tlearn: 0.0219244\ttotal: 714ms\tremaining: 1.19s\n",
      "374:\tlearn: 0.0219244\ttotal: 715ms\tremaining: 1.19s\n",
      "375:\tlearn: 0.0219244\ttotal: 717ms\tremaining: 1.19s\n",
      "376:\tlearn: 0.0219243\ttotal: 719ms\tremaining: 1.19s\n",
      "377:\tlearn: 0.0219243\ttotal: 721ms\tremaining: 1.19s\n",
      "378:\tlearn: 0.0219241\ttotal: 723ms\tremaining: 1.18s\n",
      "379:\tlearn: 0.0219240\ttotal: 724ms\tremaining: 1.18s\n",
      "380:\tlearn: 0.0219240\ttotal: 727ms\tremaining: 1.18s\n",
      "381:\tlearn: 0.0219240\ttotal: 728ms\tremaining: 1.18s\n",
      "382:\tlearn: 0.0219239\ttotal: 730ms\tremaining: 1.18s\n",
      "383:\tlearn: 0.0219239\ttotal: 732ms\tremaining: 1.17s\n",
      "384:\tlearn: 0.0219239\ttotal: 734ms\tremaining: 1.17s\n",
      "385:\tlearn: 0.0219237\ttotal: 735ms\tremaining: 1.17s\n",
      "386:\tlearn: 0.0219236\ttotal: 737ms\tremaining: 1.17s\n",
      "387:\tlearn: 0.0219236\ttotal: 739ms\tremaining: 1.17s\n",
      "388:\tlearn: 0.0219235\ttotal: 741ms\tremaining: 1.16s\n",
      "389:\tlearn: 0.0219236\ttotal: 742ms\tremaining: 1.16s\n",
      "390:\tlearn: 0.0219235\ttotal: 744ms\tremaining: 1.16s\n",
      "391:\tlearn: 0.0219234\ttotal: 746ms\tremaining: 1.16s\n",
      "392:\tlearn: 0.0219233\ttotal: 748ms\tremaining: 1.16s\n",
      "393:\tlearn: 0.0219232\ttotal: 750ms\tremaining: 1.15s\n",
      "394:\tlearn: 0.0219232\ttotal: 751ms\tremaining: 1.15s\n",
      "395:\tlearn: 0.0219231\ttotal: 753ms\tremaining: 1.15s\n",
      "396:\tlearn: 0.0219231\ttotal: 755ms\tremaining: 1.15s\n",
      "397:\tlearn: 0.0219230\ttotal: 757ms\tremaining: 1.14s\n",
      "398:\tlearn: 0.0219228\ttotal: 759ms\tremaining: 1.14s\n",
      "399:\tlearn: 0.0219226\ttotal: 761ms\tremaining: 1.14s\n",
      "400:\tlearn: 0.0219225\ttotal: 762ms\tremaining: 1.14s\n",
      "401:\tlearn: 0.0219224\ttotal: 764ms\tremaining: 1.14s\n",
      "402:\tlearn: 0.0219223\ttotal: 766ms\tremaining: 1.14s\n",
      "403:\tlearn: 0.0219223\ttotal: 768ms\tremaining: 1.13s\n",
      "404:\tlearn: 0.0219223\ttotal: 770ms\tremaining: 1.13s\n",
      "405:\tlearn: 0.0219222\ttotal: 771ms\tremaining: 1.13s\n",
      "406:\tlearn: 0.0219221\ttotal: 773ms\tremaining: 1.13s\n",
      "407:\tlearn: 0.0219220\ttotal: 775ms\tremaining: 1.12s\n",
      "408:\tlearn: 0.0219219\ttotal: 777ms\tremaining: 1.12s\n",
      "409:\tlearn: 0.0219216\ttotal: 779ms\tremaining: 1.12s\n",
      "410:\tlearn: 0.0219216\ttotal: 781ms\tremaining: 1.12s\n",
      "411:\tlearn: 0.0219007\ttotal: 782ms\tremaining: 1.12s\n",
      "412:\tlearn: 0.0219007\ttotal: 784ms\tremaining: 1.11s\n",
      "413:\tlearn: 0.0219006\ttotal: 786ms\tremaining: 1.11s\n",
      "414:\tlearn: 0.0218816\ttotal: 788ms\tremaining: 1.11s\n",
      "415:\tlearn: 0.0218420\ttotal: 790ms\tremaining: 1.11s\n",
      "416:\tlearn: 0.0217442\ttotal: 792ms\tremaining: 1.11s\n",
      "417:\tlearn: 0.0216052\ttotal: 794ms\tremaining: 1.1s\n",
      "418:\tlearn: 0.0216050\ttotal: 796ms\tremaining: 1.1s\n",
      "419:\tlearn: 0.0216049\ttotal: 798ms\tremaining: 1.1s\n",
      "420:\tlearn: 0.0216048\ttotal: 799ms\tremaining: 1.1s\n",
      "421:\tlearn: 0.0216048\ttotal: 801ms\tremaining: 1.1s\n",
      "422:\tlearn: 0.0216046\ttotal: 803ms\tremaining: 1.09s\n",
      "423:\tlearn: 0.0216046\ttotal: 805ms\tremaining: 1.09s\n",
      "424:\tlearn: 0.0216045\ttotal: 807ms\tremaining: 1.09s\n",
      "425:\tlearn: 0.0216045\ttotal: 808ms\tremaining: 1.09s\n",
      "426:\tlearn: 0.0216044\ttotal: 810ms\tremaining: 1.09s\n",
      "427:\tlearn: 0.0216044\ttotal: 812ms\tremaining: 1.08s\n",
      "428:\tlearn: 0.0216043\ttotal: 814ms\tremaining: 1.08s\n",
      "429:\tlearn: 0.0216042\ttotal: 816ms\tremaining: 1.08s\n",
      "430:\tlearn: 0.0216041\ttotal: 817ms\tremaining: 1.08s\n",
      "431:\tlearn: 0.0216039\ttotal: 820ms\tremaining: 1.08s\n",
      "432:\tlearn: 0.0216039\ttotal: 821ms\tremaining: 1.07s\n",
      "433:\tlearn: 0.0216038\ttotal: 823ms\tremaining: 1.07s\n",
      "434:\tlearn: 0.0216036\ttotal: 825ms\tremaining: 1.07s\n",
      "435:\tlearn: 0.0216034\ttotal: 827ms\tremaining: 1.07s\n",
      "436:\tlearn: 0.0216034\ttotal: 829ms\tremaining: 1.07s\n",
      "437:\tlearn: 0.0216033\ttotal: 831ms\tremaining: 1.06s\n",
      "438:\tlearn: 0.0216032\ttotal: 833ms\tremaining: 1.06s\n",
      "439:\tlearn: 0.0216031\ttotal: 834ms\tremaining: 1.06s\n",
      "440:\tlearn: 0.0216031\ttotal: 836ms\tremaining: 1.06s\n",
      "441:\tlearn: 0.0216028\ttotal: 838ms\tremaining: 1.06s\n",
      "442:\tlearn: 0.0216028\ttotal: 840ms\tremaining: 1.06s\n",
      "443:\tlearn: 0.0216027\ttotal: 842ms\tremaining: 1.05s\n",
      "444:\tlearn: 0.0216026\ttotal: 844ms\tremaining: 1.05s\n",
      "445:\tlearn: 0.0216025\ttotal: 846ms\tremaining: 1.05s\n",
      "446:\tlearn: 0.0216026\ttotal: 847ms\tremaining: 1.05s\n",
      "447:\tlearn: 0.0216022\ttotal: 849ms\tremaining: 1.05s\n",
      "448:\tlearn: 0.0216021\ttotal: 851ms\tremaining: 1.04s\n",
      "449:\tlearn: 0.0216019\ttotal: 853ms\tremaining: 1.04s\n",
      "450:\tlearn: 0.0216017\ttotal: 855ms\tremaining: 1.04s\n",
      "451:\tlearn: 0.0216017\ttotal: 856ms\tremaining: 1.04s\n",
      "452:\tlearn: 0.0216016\ttotal: 859ms\tremaining: 1.04s\n",
      "453:\tlearn: 0.0216014\ttotal: 860ms\tremaining: 1.03s\n",
      "454:\tlearn: 0.0216013\ttotal: 862ms\tremaining: 1.03s\n",
      "455:\tlearn: 0.0216012\ttotal: 864ms\tremaining: 1.03s\n",
      "456:\tlearn: 0.0216011\ttotal: 866ms\tremaining: 1.03s\n",
      "457:\tlearn: 0.0216011\ttotal: 868ms\tremaining: 1.03s\n",
      "458:\tlearn: 0.0216010\ttotal: 870ms\tremaining: 1.02s\n",
      "459:\tlearn: 0.0216009\ttotal: 872ms\tremaining: 1.02s\n",
      "460:\tlearn: 0.0216009\ttotal: 873ms\tremaining: 1.02s\n",
      "461:\tlearn: 0.0216007\ttotal: 875ms\tremaining: 1.02s\n",
      "462:\tlearn: 0.0216007\ttotal: 877ms\tremaining: 1.02s\n",
      "463:\tlearn: 0.0216006\ttotal: 879ms\tremaining: 1.01s\n",
      "464:\tlearn: 0.0216006\ttotal: 880ms\tremaining: 1.01s\n",
      "465:\tlearn: 0.0216006\ttotal: 882ms\tremaining: 1.01s\n",
      "466:\tlearn: 0.0216006\ttotal: 884ms\tremaining: 1.01s\n",
      "467:\tlearn: 0.0216005\ttotal: 886ms\tremaining: 1.01s\n",
      "468:\tlearn: 0.0216004\ttotal: 887ms\tremaining: 1s\n",
      "469:\tlearn: 0.0216004\ttotal: 889ms\tremaining: 1s\n",
      "470:\tlearn: 0.0216002\ttotal: 892ms\tremaining: 1s\n",
      "471:\tlearn: 0.0216001\ttotal: 893ms\tremaining: 999ms\n",
      "472:\tlearn: 0.0216001\ttotal: 895ms\tremaining: 997ms\n",
      "473:\tlearn: 0.0216001\ttotal: 897ms\tremaining: 995ms\n",
      "474:\tlearn: 0.0216000\ttotal: 899ms\tremaining: 993ms\n",
      "475:\tlearn: 0.0216000\ttotal: 900ms\tremaining: 991ms\n",
      "476:\tlearn: 0.0215999\ttotal: 902ms\tremaining: 989ms\n",
      "477:\tlearn: 0.0215999\ttotal: 904ms\tremaining: 987ms\n",
      "478:\tlearn: 0.0215997\ttotal: 906ms\tremaining: 985ms\n",
      "479:\tlearn: 0.0215997\ttotal: 908ms\tremaining: 983ms\n",
      "480:\tlearn: 0.0215995\ttotal: 909ms\tremaining: 981ms\n",
      "481:\tlearn: 0.0215993\ttotal: 911ms\tremaining: 980ms\n",
      "482:\tlearn: 0.0215992\ttotal: 913ms\tremaining: 978ms\n",
      "483:\tlearn: 0.0215990\ttotal: 915ms\tremaining: 976ms\n",
      "484:\tlearn: 0.0215988\ttotal: 917ms\tremaining: 974ms\n",
      "485:\tlearn: 0.0215988\ttotal: 919ms\tremaining: 972ms\n",
      "486:\tlearn: 0.0215986\ttotal: 921ms\tremaining: 970ms\n",
      "487:\tlearn: 0.0215985\ttotal: 923ms\tremaining: 968ms\n",
      "488:\tlearn: 0.0215985\ttotal: 925ms\tremaining: 967ms\n",
      "489:\tlearn: 0.0215984\ttotal: 927ms\tremaining: 965ms\n",
      "490:\tlearn: 0.0215984\ttotal: 928ms\tremaining: 962ms\n",
      "491:\tlearn: 0.0215984\ttotal: 930ms\tremaining: 961ms\n",
      "492:\tlearn: 0.0215983\ttotal: 932ms\tremaining: 959ms\n",
      "493:\tlearn: 0.0215983\ttotal: 934ms\tremaining: 957ms\n",
      "494:\tlearn: 0.0215983\ttotal: 936ms\tremaining: 955ms\n",
      "495:\tlearn: 0.0215983\ttotal: 938ms\tremaining: 953ms\n",
      "496:\tlearn: 0.0215982\ttotal: 939ms\tremaining: 951ms\n",
      "497:\tlearn: 0.0215981\ttotal: 941ms\tremaining: 949ms\n",
      "498:\tlearn: 0.0215981\ttotal: 943ms\tremaining: 947ms\n",
      "499:\tlearn: 0.0215981\ttotal: 945ms\tremaining: 945ms\n",
      "500:\tlearn: 0.0215981\ttotal: 947ms\tremaining: 943ms\n",
      "501:\tlearn: 0.0215980\ttotal: 948ms\tremaining: 941ms\n",
      "502:\tlearn: 0.0215980\ttotal: 950ms\tremaining: 939ms\n",
      "503:\tlearn: 0.0215978\ttotal: 952ms\tremaining: 937ms\n",
      "504:\tlearn: 0.0215977\ttotal: 954ms\tremaining: 935ms\n",
      "505:\tlearn: 0.0215977\ttotal: 956ms\tremaining: 933ms\n",
      "506:\tlearn: 0.0215976\ttotal: 958ms\tremaining: 931ms\n",
      "507:\tlearn: 0.0215975\ttotal: 959ms\tremaining: 929ms\n",
      "508:\tlearn: 0.0215975\ttotal: 961ms\tremaining: 927ms\n",
      "509:\tlearn: 0.0215975\ttotal: 963ms\tremaining: 925ms\n",
      "510:\tlearn: 0.0215974\ttotal: 965ms\tremaining: 923ms\n",
      "511:\tlearn: 0.0215974\ttotal: 967ms\tremaining: 921ms\n",
      "512:\tlearn: 0.0215973\ttotal: 968ms\tremaining: 919ms\n",
      "513:\tlearn: 0.0215972\ttotal: 971ms\tremaining: 918ms\n",
      "514:\tlearn: 0.0215972\ttotal: 973ms\tremaining: 916ms\n",
      "515:\tlearn: 0.0215971\ttotal: 974ms\tremaining: 914ms\n",
      "516:\tlearn: 0.0215970\ttotal: 976ms\tremaining: 912ms\n",
      "517:\tlearn: 0.0215969\ttotal: 978ms\tremaining: 910ms\n",
      "518:\tlearn: 0.0215969\ttotal: 980ms\tremaining: 908ms\n",
      "519:\tlearn: 0.0215969\ttotal: 982ms\tremaining: 906ms\n",
      "520:\tlearn: 0.0215968\ttotal: 984ms\tremaining: 904ms\n",
      "521:\tlearn: 0.0215968\ttotal: 985ms\tremaining: 902ms\n",
      "522:\tlearn: 0.0215967\ttotal: 987ms\tremaining: 900ms\n",
      "523:\tlearn: 0.0215965\ttotal: 989ms\tremaining: 898ms\n",
      "524:\tlearn: 0.0215958\ttotal: 991ms\tremaining: 897ms\n",
      "525:\tlearn: 0.0215956\ttotal: 993ms\tremaining: 895ms\n",
      "526:\tlearn: 0.0215956\ttotal: 995ms\tremaining: 893ms\n",
      "527:\tlearn: 0.0215956\ttotal: 996ms\tremaining: 891ms\n",
      "528:\tlearn: 0.0215956\ttotal: 998ms\tremaining: 889ms\n",
      "529:\tlearn: 0.0215956\ttotal: 1s\tremaining: 887ms\n",
      "530:\tlearn: 0.0215955\ttotal: 1s\tremaining: 885ms\n",
      "531:\tlearn: 0.0215954\ttotal: 1s\tremaining: 883ms\n",
      "532:\tlearn: 0.0215954\ttotal: 1s\tremaining: 881ms\n",
      "533:\tlearn: 0.0215952\ttotal: 1.01s\tremaining: 879ms\n",
      "534:\tlearn: 0.0215952\ttotal: 1.01s\tremaining: 877ms\n",
      "535:\tlearn: 0.0215952\ttotal: 1.01s\tremaining: 876ms\n",
      "536:\tlearn: 0.0215951\ttotal: 1.01s\tremaining: 874ms\n",
      "537:\tlearn: 0.0215949\ttotal: 1.01s\tremaining: 872ms\n",
      "538:\tlearn: 0.0215949\ttotal: 1.02s\tremaining: 870ms\n",
      "539:\tlearn: 0.0215949\ttotal: 1.02s\tremaining: 868ms\n",
      "540:\tlearn: 0.0215948\ttotal: 1.02s\tremaining: 866ms\n",
      "541:\tlearn: 0.0215948\ttotal: 1.02s\tremaining: 864ms\n",
      "542:\tlearn: 0.0215947\ttotal: 1.02s\tremaining: 862ms\n",
      "543:\tlearn: 0.0215945\ttotal: 1.02s\tremaining: 860ms\n",
      "544:\tlearn: 0.0215945\ttotal: 1.03s\tremaining: 858ms\n",
      "545:\tlearn: 0.0215944\ttotal: 1.03s\tremaining: 856ms\n",
      "546:\tlearn: 0.0215943\ttotal: 1.03s\tremaining: 854ms\n",
      "547:\tlearn: 0.0215942\ttotal: 1.03s\tremaining: 852ms\n",
      "548:\tlearn: 0.0215941\ttotal: 1.03s\tremaining: 850ms\n",
      "549:\tlearn: 0.0215940\ttotal: 1.04s\tremaining: 849ms\n",
      "550:\tlearn: 0.0215939\ttotal: 1.04s\tremaining: 847ms\n",
      "551:\tlearn: 0.0215939\ttotal: 1.04s\tremaining: 845ms\n",
      "552:\tlearn: 0.0215938\ttotal: 1.04s\tremaining: 843ms\n",
      "553:\tlearn: 0.0215937\ttotal: 1.04s\tremaining: 841ms\n",
      "554:\tlearn: 0.0215937\ttotal: 1.05s\tremaining: 839ms\n",
      "555:\tlearn: 0.0215937\ttotal: 1.05s\tremaining: 837ms\n",
      "556:\tlearn: 0.0215937\ttotal: 1.05s\tremaining: 835ms\n",
      "557:\tlearn: 0.0215937\ttotal: 1.05s\tremaining: 833ms\n",
      "558:\tlearn: 0.0215936\ttotal: 1.05s\tremaining: 831ms\n",
      "559:\tlearn: 0.0215935\ttotal: 1.06s\tremaining: 830ms\n",
      "560:\tlearn: 0.0215935\ttotal: 1.06s\tremaining: 828ms\n",
      "561:\tlearn: 0.0215934\ttotal: 1.06s\tremaining: 826ms\n",
      "562:\tlearn: 0.0215934\ttotal: 1.06s\tremaining: 824ms\n",
      "563:\tlearn: 0.0215933\ttotal: 1.06s\tremaining: 822ms\n",
      "564:\tlearn: 0.0215932\ttotal: 1.06s\tremaining: 820ms\n",
      "565:\tlearn: 0.0215931\ttotal: 1.07s\tremaining: 818ms\n",
      "566:\tlearn: 0.0215930\ttotal: 1.07s\tremaining: 817ms\n",
      "567:\tlearn: 0.0215930\ttotal: 1.07s\tremaining: 815ms\n",
      "568:\tlearn: 0.0215929\ttotal: 1.07s\tremaining: 814ms\n",
      "569:\tlearn: 0.0215928\ttotal: 1.08s\tremaining: 812ms\n",
      "570:\tlearn: 0.0215928\ttotal: 1.08s\tremaining: 810ms\n",
      "571:\tlearn: 0.0215927\ttotal: 1.08s\tremaining: 809ms\n",
      "572:\tlearn: 0.0215925\ttotal: 1.08s\tremaining: 807ms\n",
      "573:\tlearn: 0.0215925\ttotal: 1.08s\tremaining: 805ms\n",
      "574:\tlearn: 0.0215925\ttotal: 1.09s\tremaining: 803ms\n",
      "575:\tlearn: 0.0215924\ttotal: 1.09s\tremaining: 802ms\n",
      "576:\tlearn: 0.0215924\ttotal: 1.09s\tremaining: 800ms\n",
      "577:\tlearn: 0.0215924\ttotal: 1.09s\tremaining: 798ms\n",
      "578:\tlearn: 0.0215922\ttotal: 1.09s\tremaining: 796ms\n",
      "579:\tlearn: 0.0215921\ttotal: 1.1s\tremaining: 794ms\n",
      "580:\tlearn: 0.0215919\ttotal: 1.1s\tremaining: 792ms\n",
      "581:\tlearn: 0.0215920\ttotal: 1.1s\tremaining: 791ms\n",
      "582:\tlearn: 0.0215919\ttotal: 1.1s\tremaining: 789ms\n",
      "583:\tlearn: 0.0215918\ttotal: 1.1s\tremaining: 787ms\n",
      "584:\tlearn: 0.0215918\ttotal: 1.11s\tremaining: 785ms\n",
      "585:\tlearn: 0.0215918\ttotal: 1.11s\tremaining: 784ms\n",
      "586:\tlearn: 0.0215916\ttotal: 1.11s\tremaining: 782ms\n",
      "587:\tlearn: 0.0215914\ttotal: 1.11s\tremaining: 780ms\n",
      "588:\tlearn: 0.0215914\ttotal: 1.11s\tremaining: 778ms\n",
      "589:\tlearn: 0.0215914\ttotal: 1.12s\tremaining: 777ms\n",
      "590:\tlearn: 0.0215913\ttotal: 1.12s\tremaining: 775ms\n",
      "591:\tlearn: 0.0215913\ttotal: 1.12s\tremaining: 773ms\n",
      "592:\tlearn: 0.0215913\ttotal: 1.12s\tremaining: 772ms\n",
      "593:\tlearn: 0.0215913\ttotal: 1.13s\tremaining: 770ms\n",
      "594:\tlearn: 0.0215897\ttotal: 1.13s\tremaining: 768ms\n",
      "595:\tlearn: 0.0215896\ttotal: 1.13s\tremaining: 766ms\n",
      "596:\tlearn: 0.0215896\ttotal: 1.13s\tremaining: 764ms\n",
      "597:\tlearn: 0.0215896\ttotal: 1.13s\tremaining: 762ms\n",
      "598:\tlearn: 0.0215894\ttotal: 1.14s\tremaining: 761ms\n",
      "599:\tlearn: 0.0215895\ttotal: 1.14s\tremaining: 759ms\n",
      "600:\tlearn: 0.0215894\ttotal: 1.14s\tremaining: 757ms\n",
      "601:\tlearn: 0.0215893\ttotal: 1.14s\tremaining: 755ms\n",
      "602:\tlearn: 0.0215892\ttotal: 1.14s\tremaining: 754ms\n",
      "603:\tlearn: 0.0215891\ttotal: 1.15s\tremaining: 752ms\n",
      "604:\tlearn: 0.0215891\ttotal: 1.15s\tremaining: 750ms\n",
      "605:\tlearn: 0.0215890\ttotal: 1.15s\tremaining: 748ms\n",
      "606:\tlearn: 0.0215889\ttotal: 1.15s\tremaining: 746ms\n",
      "607:\tlearn: 0.0215890\ttotal: 1.15s\tremaining: 745ms\n",
      "608:\tlearn: 0.0215889\ttotal: 1.16s\tremaining: 743ms\n",
      "609:\tlearn: 0.0215888\ttotal: 1.16s\tremaining: 741ms\n",
      "610:\tlearn: 0.0215887\ttotal: 1.16s\tremaining: 739ms\n",
      "611:\tlearn: 0.0215887\ttotal: 1.16s\tremaining: 737ms\n",
      "612:\tlearn: 0.0215886\ttotal: 1.16s\tremaining: 735ms\n",
      "613:\tlearn: 0.0215885\ttotal: 1.17s\tremaining: 733ms\n",
      "614:\tlearn: 0.0215885\ttotal: 1.17s\tremaining: 732ms\n",
      "615:\tlearn: 0.0215606\ttotal: 1.17s\tremaining: 730ms\n",
      "616:\tlearn: 0.0215009\ttotal: 1.17s\tremaining: 729ms\n",
      "617:\tlearn: 0.0215010\ttotal: 1.18s\tremaining: 727ms\n",
      "618:\tlearn: 0.0215008\ttotal: 1.18s\tremaining: 725ms\n",
      "619:\tlearn: 0.0215008\ttotal: 1.18s\tremaining: 723ms\n",
      "620:\tlearn: 0.0215006\ttotal: 1.18s\tremaining: 721ms\n",
      "621:\tlearn: 0.0215006\ttotal: 1.18s\tremaining: 719ms\n",
      "622:\tlearn: 0.0215004\ttotal: 1.19s\tremaining: 717ms\n",
      "623:\tlearn: 0.0214433\ttotal: 1.19s\tremaining: 716ms\n",
      "624:\tlearn: 0.0214432\ttotal: 1.19s\tremaining: 714ms\n",
      "625:\tlearn: 0.0214432\ttotal: 1.19s\tremaining: 712ms\n",
      "626:\tlearn: 0.0214431\ttotal: 1.19s\tremaining: 710ms\n",
      "627:\tlearn: 0.0214431\ttotal: 1.2s\tremaining: 708ms\n",
      "628:\tlearn: 0.0214428\ttotal: 1.2s\tremaining: 706ms\n",
      "629:\tlearn: 0.0214426\ttotal: 1.2s\tremaining: 705ms\n",
      "630:\tlearn: 0.0214425\ttotal: 1.2s\tremaining: 703ms\n",
      "631:\tlearn: 0.0214424\ttotal: 1.2s\tremaining: 701ms\n",
      "632:\tlearn: 0.0214423\ttotal: 1.21s\tremaining: 700ms\n",
      "633:\tlearn: 0.0214411\ttotal: 1.21s\tremaining: 698ms\n",
      "634:\tlearn: 0.0214410\ttotal: 1.21s\tremaining: 696ms\n",
      "635:\tlearn: 0.0214407\ttotal: 1.21s\tremaining: 694ms\n",
      "636:\tlearn: 0.0214407\ttotal: 1.22s\tremaining: 692ms\n",
      "637:\tlearn: 0.0214406\ttotal: 1.22s\tremaining: 690ms\n",
      "638:\tlearn: 0.0214405\ttotal: 1.22s\tremaining: 688ms\n",
      "639:\tlearn: 0.0214404\ttotal: 1.22s\tremaining: 687ms\n",
      "640:\tlearn: 0.0214403\ttotal: 1.22s\tremaining: 685ms\n",
      "641:\tlearn: 0.0214402\ttotal: 1.22s\tremaining: 683ms\n",
      "642:\tlearn: 0.0214402\ttotal: 1.23s\tremaining: 681ms\n",
      "643:\tlearn: 0.0214400\ttotal: 1.23s\tremaining: 680ms\n",
      "644:\tlearn: 0.0214400\ttotal: 1.23s\tremaining: 678ms\n",
      "645:\tlearn: 0.0214400\ttotal: 1.23s\tremaining: 676ms\n",
      "646:\tlearn: 0.0214400\ttotal: 1.23s\tremaining: 674ms\n",
      "647:\tlearn: 0.0214400\ttotal: 1.24s\tremaining: 672ms\n",
      "648:\tlearn: 0.0214400\ttotal: 1.24s\tremaining: 670ms\n",
      "649:\tlearn: 0.0214398\ttotal: 1.24s\tremaining: 668ms\n",
      "650:\tlearn: 0.0214397\ttotal: 1.24s\tremaining: 666ms\n",
      "651:\tlearn: 0.0214397\ttotal: 1.24s\tremaining: 664ms\n",
      "652:\tlearn: 0.0214396\ttotal: 1.25s\tremaining: 662ms\n",
      "653:\tlearn: 0.0214395\ttotal: 1.25s\tremaining: 660ms\n",
      "654:\tlearn: 0.0214395\ttotal: 1.25s\tremaining: 658ms\n",
      "655:\tlearn: 0.0214395\ttotal: 1.25s\tremaining: 656ms\n",
      "656:\tlearn: 0.0214393\ttotal: 1.25s\tremaining: 654ms\n",
      "657:\tlearn: 0.0214393\ttotal: 1.25s\tremaining: 653ms\n",
      "658:\tlearn: 0.0214393\ttotal: 1.26s\tremaining: 651ms\n",
      "659:\tlearn: 0.0214391\ttotal: 1.26s\tremaining: 649ms\n",
      "660:\tlearn: 0.0214390\ttotal: 1.26s\tremaining: 647ms\n",
      "661:\tlearn: 0.0214387\ttotal: 1.26s\tremaining: 645ms\n",
      "662:\tlearn: 0.0214385\ttotal: 1.26s\tremaining: 643ms\n",
      "663:\tlearn: 0.0214385\ttotal: 1.27s\tremaining: 641ms\n",
      "664:\tlearn: 0.0214384\ttotal: 1.27s\tremaining: 639ms\n",
      "665:\tlearn: 0.0214384\ttotal: 1.27s\tremaining: 637ms\n",
      "666:\tlearn: 0.0214382\ttotal: 1.27s\tremaining: 635ms\n",
      "667:\tlearn: 0.0214381\ttotal: 1.27s\tremaining: 633ms\n",
      "668:\tlearn: 0.0214380\ttotal: 1.27s\tremaining: 631ms\n",
      "669:\tlearn: 0.0214378\ttotal: 1.28s\tremaining: 629ms\n",
      "670:\tlearn: 0.0214378\ttotal: 1.28s\tremaining: 627ms\n",
      "671:\tlearn: 0.0214377\ttotal: 1.28s\tremaining: 625ms\n",
      "672:\tlearn: 0.0214375\ttotal: 1.28s\tremaining: 623ms\n",
      "673:\tlearn: 0.0214375\ttotal: 1.28s\tremaining: 621ms\n",
      "674:\tlearn: 0.0214373\ttotal: 1.29s\tremaining: 619ms\n",
      "675:\tlearn: 0.0214372\ttotal: 1.29s\tremaining: 618ms\n",
      "676:\tlearn: 0.0214372\ttotal: 1.29s\tremaining: 616ms\n",
      "677:\tlearn: 0.0214370\ttotal: 1.29s\tremaining: 614ms\n",
      "678:\tlearn: 0.0214369\ttotal: 1.29s\tremaining: 612ms\n",
      "679:\tlearn: 0.0214367\ttotal: 1.29s\tremaining: 610ms\n",
      "680:\tlearn: 0.0214366\ttotal: 1.3s\tremaining: 608ms\n",
      "681:\tlearn: 0.0214365\ttotal: 1.3s\tremaining: 606ms\n",
      "682:\tlearn: 0.0214363\ttotal: 1.3s\tremaining: 604ms\n",
      "683:\tlearn: 0.0214363\ttotal: 1.3s\tremaining: 602ms\n",
      "684:\tlearn: 0.0214360\ttotal: 1.3s\tremaining: 600ms\n",
      "685:\tlearn: 0.0214359\ttotal: 1.31s\tremaining: 598ms\n",
      "686:\tlearn: 0.0214357\ttotal: 1.31s\tremaining: 596ms\n",
      "687:\tlearn: 0.0214355\ttotal: 1.31s\tremaining: 594ms\n",
      "688:\tlearn: 0.0214345\ttotal: 1.31s\tremaining: 592ms\n",
      "689:\tlearn: 0.0214344\ttotal: 1.31s\tremaining: 590ms\n",
      "690:\tlearn: 0.0214343\ttotal: 1.31s\tremaining: 588ms\n",
      "691:\tlearn: 0.0214343\ttotal: 1.32s\tremaining: 586ms\n",
      "692:\tlearn: 0.0214342\ttotal: 1.32s\tremaining: 585ms\n",
      "693:\tlearn: 0.0214335\ttotal: 1.32s\tremaining: 583ms\n",
      "694:\tlearn: 0.0214333\ttotal: 1.32s\tremaining: 581ms\n",
      "695:\tlearn: 0.0214332\ttotal: 1.32s\tremaining: 579ms\n",
      "696:\tlearn: 0.0214330\ttotal: 1.33s\tremaining: 577ms\n",
      "697:\tlearn: 0.0214327\ttotal: 1.33s\tremaining: 575ms\n",
      "698:\tlearn: 0.0214326\ttotal: 1.33s\tremaining: 573ms\n",
      "699:\tlearn: 0.0214326\ttotal: 1.33s\tremaining: 571ms\n",
      "700:\tlearn: 0.0214325\ttotal: 1.33s\tremaining: 569ms\n",
      "701:\tlearn: 0.0214325\ttotal: 1.34s\tremaining: 567ms\n",
      "702:\tlearn: 0.0214323\ttotal: 1.34s\tremaining: 566ms\n",
      "703:\tlearn: 0.0214322\ttotal: 1.34s\tremaining: 564ms\n",
      "704:\tlearn: 0.0214322\ttotal: 1.34s\tremaining: 562ms\n",
      "705:\tlearn: 0.0214321\ttotal: 1.34s\tremaining: 560ms\n",
      "706:\tlearn: 0.0214321\ttotal: 1.35s\tremaining: 558ms\n",
      "707:\tlearn: 0.0214320\ttotal: 1.35s\tremaining: 556ms\n",
      "708:\tlearn: 0.0214320\ttotal: 1.35s\tremaining: 554ms\n",
      "709:\tlearn: 0.0214319\ttotal: 1.35s\tremaining: 552ms\n",
      "710:\tlearn: 0.0214319\ttotal: 1.35s\tremaining: 550ms\n",
      "711:\tlearn: 0.0214320\ttotal: 1.35s\tremaining: 548ms\n",
      "712:\tlearn: 0.0214318\ttotal: 1.36s\tremaining: 546ms\n",
      "713:\tlearn: 0.0214318\ttotal: 1.36s\tremaining: 544ms\n",
      "714:\tlearn: 0.0214318\ttotal: 1.36s\tremaining: 542ms\n",
      "715:\tlearn: 0.0214318\ttotal: 1.36s\tremaining: 540ms\n",
      "716:\tlearn: 0.0214317\ttotal: 1.36s\tremaining: 538ms\n",
      "717:\tlearn: 0.0214317\ttotal: 1.36s\tremaining: 536ms\n",
      "718:\tlearn: 0.0214317\ttotal: 1.37s\tremaining: 535ms\n",
      "719:\tlearn: 0.0214316\ttotal: 1.37s\tremaining: 533ms\n",
      "720:\tlearn: 0.0214316\ttotal: 1.37s\tremaining: 531ms\n",
      "721:\tlearn: 0.0214315\ttotal: 1.37s\tremaining: 529ms\n",
      "722:\tlearn: 0.0214303\ttotal: 1.37s\tremaining: 527ms\n",
      "723:\tlearn: 0.0214303\ttotal: 1.38s\tremaining: 525ms\n",
      "724:\tlearn: 0.0214302\ttotal: 1.38s\tremaining: 523ms\n",
      "725:\tlearn: 0.0214302\ttotal: 1.38s\tremaining: 521ms\n",
      "726:\tlearn: 0.0214301\ttotal: 1.38s\tremaining: 519ms\n",
      "727:\tlearn: 0.0214300\ttotal: 1.38s\tremaining: 517ms\n",
      "728:\tlearn: 0.0214300\ttotal: 1.39s\tremaining: 515ms\n",
      "729:\tlearn: 0.0214298\ttotal: 1.39s\tremaining: 513ms\n",
      "730:\tlearn: 0.0214298\ttotal: 1.39s\tremaining: 511ms\n",
      "731:\tlearn: 0.0214297\ttotal: 1.39s\tremaining: 510ms\n",
      "732:\tlearn: 0.0214297\ttotal: 1.39s\tremaining: 508ms\n",
      "733:\tlearn: 0.0214298\ttotal: 1.4s\tremaining: 506ms\n",
      "734:\tlearn: 0.0214295\ttotal: 1.4s\tremaining: 504ms\n",
      "735:\tlearn: 0.0214295\ttotal: 1.4s\tremaining: 502ms\n",
      "736:\tlearn: 0.0214294\ttotal: 1.4s\tremaining: 500ms\n",
      "737:\tlearn: 0.0214294\ttotal: 1.4s\tremaining: 498ms\n",
      "738:\tlearn: 0.0214293\ttotal: 1.4s\tremaining: 496ms\n",
      "739:\tlearn: 0.0214293\ttotal: 1.41s\tremaining: 494ms\n",
      "740:\tlearn: 0.0214292\ttotal: 1.41s\tremaining: 492ms\n",
      "741:\tlearn: 0.0214292\ttotal: 1.41s\tremaining: 490ms\n",
      "742:\tlearn: 0.0214290\ttotal: 1.41s\tremaining: 489ms\n",
      "743:\tlearn: 0.0214290\ttotal: 1.41s\tremaining: 487ms\n",
      "744:\tlearn: 0.0214289\ttotal: 1.42s\tremaining: 485ms\n",
      "745:\tlearn: 0.0214288\ttotal: 1.42s\tremaining: 483ms\n",
      "746:\tlearn: 0.0214287\ttotal: 1.42s\tremaining: 481ms\n",
      "747:\tlearn: 0.0214287\ttotal: 1.42s\tremaining: 479ms\n",
      "748:\tlearn: 0.0214286\ttotal: 1.42s\tremaining: 477ms\n",
      "749:\tlearn: 0.0214286\ttotal: 1.43s\tremaining: 475ms\n",
      "750:\tlearn: 0.0214285\ttotal: 1.43s\tremaining: 473ms\n",
      "751:\tlearn: 0.0214285\ttotal: 1.43s\tremaining: 471ms\n",
      "752:\tlearn: 0.0214284\ttotal: 1.43s\tremaining: 469ms\n",
      "753:\tlearn: 0.0214284\ttotal: 1.43s\tremaining: 467ms\n",
      "754:\tlearn: 0.0214283\ttotal: 1.43s\tremaining: 466ms\n",
      "755:\tlearn: 0.0214282\ttotal: 1.44s\tremaining: 464ms\n",
      "756:\tlearn: 0.0214281\ttotal: 1.44s\tremaining: 462ms\n",
      "757:\tlearn: 0.0214281\ttotal: 1.44s\tremaining: 460ms\n",
      "758:\tlearn: 0.0214280\ttotal: 1.44s\tremaining: 458ms\n",
      "759:\tlearn: 0.0214280\ttotal: 1.44s\tremaining: 456ms\n",
      "760:\tlearn: 0.0214279\ttotal: 1.45s\tremaining: 454ms\n",
      "761:\tlearn: 0.0214278\ttotal: 1.45s\tremaining: 452ms\n",
      "762:\tlearn: 0.0214277\ttotal: 1.45s\tremaining: 450ms\n",
      "763:\tlearn: 0.0214276\ttotal: 1.45s\tremaining: 448ms\n",
      "764:\tlearn: 0.0214276\ttotal: 1.45s\tremaining: 446ms\n",
      "765:\tlearn: 0.0214275\ttotal: 1.45s\tremaining: 444ms\n",
      "766:\tlearn: 0.0214274\ttotal: 1.46s\tremaining: 442ms\n",
      "767:\tlearn: 0.0214273\ttotal: 1.46s\tremaining: 441ms\n",
      "768:\tlearn: 0.0214271\ttotal: 1.46s\tremaining: 439ms\n",
      "769:\tlearn: 0.0214271\ttotal: 1.46s\tremaining: 437ms\n",
      "770:\tlearn: 0.0214271\ttotal: 1.46s\tremaining: 435ms\n",
      "771:\tlearn: 0.0214271\ttotal: 1.47s\tremaining: 433ms\n",
      "772:\tlearn: 0.0214269\ttotal: 1.47s\tremaining: 431ms\n",
      "773:\tlearn: 0.0214270\ttotal: 1.47s\tremaining: 429ms\n",
      "774:\tlearn: 0.0214269\ttotal: 1.47s\tremaining: 427ms\n",
      "775:\tlearn: 0.0214269\ttotal: 1.47s\tremaining: 425ms\n",
      "776:\tlearn: 0.0214268\ttotal: 1.47s\tremaining: 423ms\n",
      "777:\tlearn: 0.0214266\ttotal: 1.48s\tremaining: 421ms\n",
      "778:\tlearn: 0.0214265\ttotal: 1.48s\tremaining: 419ms\n",
      "779:\tlearn: 0.0214265\ttotal: 1.48s\tremaining: 417ms\n",
      "780:\tlearn: 0.0214264\ttotal: 1.48s\tremaining: 415ms\n",
      "781:\tlearn: 0.0214263\ttotal: 1.48s\tremaining: 414ms\n",
      "782:\tlearn: 0.0214261\ttotal: 1.49s\tremaining: 412ms\n",
      "783:\tlearn: 0.0214259\ttotal: 1.49s\tremaining: 410ms\n",
      "784:\tlearn: 0.0214259\ttotal: 1.49s\tremaining: 408ms\n",
      "785:\tlearn: 0.0214259\ttotal: 1.49s\tremaining: 406ms\n",
      "786:\tlearn: 0.0214259\ttotal: 1.49s\tremaining: 404ms\n",
      "787:\tlearn: 0.0214258\ttotal: 1.49s\tremaining: 402ms\n",
      "788:\tlearn: 0.0214259\ttotal: 1.5s\tremaining: 400ms\n",
      "789:\tlearn: 0.0214257\ttotal: 1.5s\tremaining: 398ms\n",
      "790:\tlearn: 0.0214257\ttotal: 1.5s\tremaining: 396ms\n",
      "791:\tlearn: 0.0214255\ttotal: 1.5s\tremaining: 394ms\n",
      "792:\tlearn: 0.0214253\ttotal: 1.5s\tremaining: 392ms\n",
      "793:\tlearn: 0.0214253\ttotal: 1.5s\tremaining: 390ms\n",
      "794:\tlearn: 0.0214253\ttotal: 1.51s\tremaining: 388ms\n",
      "795:\tlearn: 0.0214253\ttotal: 1.51s\tremaining: 387ms\n",
      "796:\tlearn: 0.0214250\ttotal: 1.51s\tremaining: 385ms\n",
      "797:\tlearn: 0.0214251\ttotal: 1.51s\tremaining: 383ms\n",
      "798:\tlearn: 0.0214248\ttotal: 1.51s\tremaining: 381ms\n",
      "799:\tlearn: 0.0214248\ttotal: 1.51s\tremaining: 379ms\n",
      "800:\tlearn: 0.0214247\ttotal: 1.52s\tremaining: 377ms\n",
      "801:\tlearn: 0.0214247\ttotal: 1.52s\tremaining: 375ms\n",
      "802:\tlearn: 0.0214247\ttotal: 1.52s\tremaining: 373ms\n",
      "803:\tlearn: 0.0214244\ttotal: 1.52s\tremaining: 371ms\n",
      "804:\tlearn: 0.0214243\ttotal: 1.52s\tremaining: 369ms\n",
      "805:\tlearn: 0.0214242\ttotal: 1.53s\tremaining: 367ms\n",
      "806:\tlearn: 0.0214241\ttotal: 1.53s\tremaining: 365ms\n",
      "807:\tlearn: 0.0214240\ttotal: 1.53s\tremaining: 364ms\n",
      "808:\tlearn: 0.0214240\ttotal: 1.53s\tremaining: 362ms\n",
      "809:\tlearn: 0.0214240\ttotal: 1.53s\tremaining: 360ms\n",
      "810:\tlearn: 0.0214238\ttotal: 1.53s\tremaining: 358ms\n",
      "811:\tlearn: 0.0214237\ttotal: 1.54s\tremaining: 356ms\n",
      "812:\tlearn: 0.0214236\ttotal: 1.54s\tremaining: 354ms\n",
      "813:\tlearn: 0.0214233\ttotal: 1.54s\tremaining: 352ms\n",
      "814:\tlearn: 0.0214233\ttotal: 1.54s\tremaining: 350ms\n",
      "815:\tlearn: 0.0214233\ttotal: 1.54s\tremaining: 348ms\n",
      "816:\tlearn: 0.0214233\ttotal: 1.55s\tremaining: 346ms\n",
      "817:\tlearn: 0.0214233\ttotal: 1.55s\tremaining: 344ms\n",
      "818:\tlearn: 0.0214232\ttotal: 1.55s\tremaining: 342ms\n",
      "819:\tlearn: 0.0214232\ttotal: 1.55s\tremaining: 341ms\n",
      "820:\tlearn: 0.0214232\ttotal: 1.55s\tremaining: 339ms\n",
      "821:\tlearn: 0.0214232\ttotal: 1.55s\tremaining: 337ms\n",
      "822:\tlearn: 0.0214231\ttotal: 1.56s\tremaining: 335ms\n",
      "823:\tlearn: 0.0214231\ttotal: 1.56s\tremaining: 333ms\n",
      "824:\tlearn: 0.0214231\ttotal: 1.56s\tremaining: 331ms\n",
      "825:\tlearn: 0.0214230\ttotal: 1.56s\tremaining: 329ms\n",
      "826:\tlearn: 0.0214228\ttotal: 1.56s\tremaining: 327ms\n",
      "827:\tlearn: 0.0214227\ttotal: 1.57s\tremaining: 325ms\n",
      "828:\tlearn: 0.0214227\ttotal: 1.57s\tremaining: 323ms\n",
      "829:\tlearn: 0.0214224\ttotal: 1.57s\tremaining: 322ms\n",
      "830:\tlearn: 0.0214223\ttotal: 1.57s\tremaining: 320ms\n",
      "831:\tlearn: 0.0214223\ttotal: 1.57s\tremaining: 318ms\n",
      "832:\tlearn: 0.0214222\ttotal: 1.57s\tremaining: 316ms\n",
      "833:\tlearn: 0.0214222\ttotal: 1.58s\tremaining: 314ms\n",
      "834:\tlearn: 0.0214223\ttotal: 1.58s\tremaining: 312ms\n",
      "835:\tlearn: 0.0214215\ttotal: 1.58s\tremaining: 310ms\n",
      "836:\tlearn: 0.0214215\ttotal: 1.58s\tremaining: 308ms\n",
      "837:\tlearn: 0.0214214\ttotal: 1.58s\tremaining: 306ms\n",
      "838:\tlearn: 0.0214213\ttotal: 1.59s\tremaining: 304ms\n",
      "839:\tlearn: 0.0214204\ttotal: 1.59s\tremaining: 303ms\n",
      "840:\tlearn: 0.0214201\ttotal: 1.59s\tremaining: 301ms\n",
      "841:\tlearn: 0.0214199\ttotal: 1.59s\tremaining: 299ms\n",
      "842:\tlearn: 0.0214198\ttotal: 1.59s\tremaining: 297ms\n",
      "843:\tlearn: 0.0214198\ttotal: 1.59s\tremaining: 295ms\n",
      "844:\tlearn: 0.0214193\ttotal: 1.6s\tremaining: 293ms\n",
      "845:\tlearn: 0.0214193\ttotal: 1.6s\tremaining: 291ms\n",
      "846:\tlearn: 0.0214192\ttotal: 1.6s\tremaining: 289ms\n",
      "847:\tlearn: 0.0214190\ttotal: 1.6s\tremaining: 287ms\n",
      "848:\tlearn: 0.0214189\ttotal: 1.6s\tremaining: 286ms\n",
      "849:\tlearn: 0.0214189\ttotal: 1.61s\tremaining: 284ms\n",
      "850:\tlearn: 0.0214189\ttotal: 1.61s\tremaining: 282ms\n",
      "851:\tlearn: 0.0214186\ttotal: 1.61s\tremaining: 280ms\n",
      "852:\tlearn: 0.0214185\ttotal: 1.61s\tremaining: 278ms\n",
      "853:\tlearn: 0.0214184\ttotal: 1.61s\tremaining: 276ms\n",
      "854:\tlearn: 0.0214183\ttotal: 1.62s\tremaining: 274ms\n",
      "855:\tlearn: 0.0214183\ttotal: 1.62s\tremaining: 272ms\n",
      "856:\tlearn: 0.0214183\ttotal: 1.62s\tremaining: 270ms\n",
      "857:\tlearn: 0.0214182\ttotal: 1.62s\tremaining: 268ms\n",
      "858:\tlearn: 0.0214181\ttotal: 1.62s\tremaining: 267ms\n",
      "859:\tlearn: 0.0214179\ttotal: 1.63s\tremaining: 265ms\n",
      "860:\tlearn: 0.0214179\ttotal: 1.63s\tremaining: 263ms\n",
      "861:\tlearn: 0.0214179\ttotal: 1.63s\tremaining: 261ms\n",
      "862:\tlearn: 0.0214178\ttotal: 1.63s\tremaining: 259ms\n",
      "863:\tlearn: 0.0214178\ttotal: 1.63s\tremaining: 257ms\n",
      "864:\tlearn: 0.0214178\ttotal: 1.63s\tremaining: 255ms\n",
      "865:\tlearn: 0.0214178\ttotal: 1.64s\tremaining: 253ms\n",
      "866:\tlearn: 0.0214178\ttotal: 1.64s\tremaining: 251ms\n",
      "867:\tlearn: 0.0214177\ttotal: 1.64s\tremaining: 249ms\n",
      "868:\tlearn: 0.0214173\ttotal: 1.64s\tremaining: 248ms\n",
      "869:\tlearn: 0.0214173\ttotal: 1.64s\tremaining: 246ms\n",
      "870:\tlearn: 0.0214172\ttotal: 1.65s\tremaining: 244ms\n",
      "871:\tlearn: 0.0214172\ttotal: 1.65s\tremaining: 242ms\n",
      "872:\tlearn: 0.0214171\ttotal: 1.65s\tremaining: 240ms\n",
      "873:\tlearn: 0.0214171\ttotal: 1.65s\tremaining: 238ms\n",
      "874:\tlearn: 0.0214171\ttotal: 1.65s\tremaining: 236ms\n",
      "875:\tlearn: 0.0214171\ttotal: 1.65s\tremaining: 234ms\n",
      "876:\tlearn: 0.0214171\ttotal: 1.66s\tremaining: 232ms\n",
      "877:\tlearn: 0.0214158\ttotal: 1.66s\tremaining: 231ms\n",
      "878:\tlearn: 0.0214157\ttotal: 1.66s\tremaining: 229ms\n",
      "879:\tlearn: 0.0214154\ttotal: 1.66s\tremaining: 227ms\n",
      "880:\tlearn: 0.0214154\ttotal: 1.66s\tremaining: 225ms\n",
      "881:\tlearn: 0.0214153\ttotal: 1.67s\tremaining: 223ms\n",
      "882:\tlearn: 0.0214152\ttotal: 1.67s\tremaining: 221ms\n",
      "883:\tlearn: 0.0214151\ttotal: 1.67s\tremaining: 219ms\n",
      "884:\tlearn: 0.0214151\ttotal: 1.67s\tremaining: 217ms\n",
      "885:\tlearn: 0.0214151\ttotal: 1.67s\tremaining: 215ms\n",
      "886:\tlearn: 0.0214150\ttotal: 1.67s\tremaining: 213ms\n",
      "887:\tlearn: 0.0214146\ttotal: 1.68s\tremaining: 211ms\n",
      "888:\tlearn: 0.0214146\ttotal: 1.68s\tremaining: 210ms\n",
      "889:\tlearn: 0.0214140\ttotal: 1.68s\tremaining: 208ms\n",
      "890:\tlearn: 0.0213818\ttotal: 1.68s\tremaining: 206ms\n",
      "891:\tlearn: 0.0213816\ttotal: 1.68s\tremaining: 204ms\n",
      "892:\tlearn: 0.0213815\ttotal: 1.69s\tremaining: 202ms\n",
      "893:\tlearn: 0.0213814\ttotal: 1.69s\tremaining: 200ms\n",
      "894:\tlearn: 0.0213814\ttotal: 1.69s\tremaining: 198ms\n",
      "895:\tlearn: 0.0213813\ttotal: 1.69s\tremaining: 196ms\n",
      "896:\tlearn: 0.0213807\ttotal: 1.69s\tremaining: 194ms\n",
      "897:\tlearn: 0.0213805\ttotal: 1.7s\tremaining: 193ms\n",
      "898:\tlearn: 0.0213804\ttotal: 1.7s\tremaining: 191ms\n",
      "899:\tlearn: 0.0213804\ttotal: 1.7s\tremaining: 189ms\n",
      "900:\tlearn: 0.0213802\ttotal: 1.7s\tremaining: 187ms\n",
      "901:\tlearn: 0.0213801\ttotal: 1.7s\tremaining: 185ms\n",
      "902:\tlearn: 0.0213800\ttotal: 1.7s\tremaining: 183ms\n",
      "903:\tlearn: 0.0213798\ttotal: 1.71s\tremaining: 181ms\n",
      "904:\tlearn: 0.0213799\ttotal: 1.71s\tremaining: 179ms\n",
      "905:\tlearn: 0.0213798\ttotal: 1.71s\tremaining: 177ms\n",
      "906:\tlearn: 0.0213797\ttotal: 1.71s\tremaining: 175ms\n",
      "907:\tlearn: 0.0213796\ttotal: 1.71s\tremaining: 174ms\n",
      "908:\tlearn: 0.0213795\ttotal: 1.71s\tremaining: 172ms\n",
      "909:\tlearn: 0.0213794\ttotal: 1.72s\tremaining: 170ms\n",
      "910:\tlearn: 0.0213794\ttotal: 1.72s\tremaining: 168ms\n",
      "911:\tlearn: 0.0213794\ttotal: 1.72s\tremaining: 166ms\n",
      "912:\tlearn: 0.0213792\ttotal: 1.72s\tremaining: 164ms\n",
      "913:\tlearn: 0.0213791\ttotal: 1.72s\tremaining: 162ms\n",
      "914:\tlearn: 0.0213790\ttotal: 1.73s\tremaining: 160ms\n",
      "915:\tlearn: 0.0213785\ttotal: 1.73s\tremaining: 158ms\n",
      "916:\tlearn: 0.0213779\ttotal: 1.73s\tremaining: 157ms\n",
      "917:\tlearn: 0.0213778\ttotal: 1.73s\tremaining: 155ms\n",
      "918:\tlearn: 0.0213778\ttotal: 1.73s\tremaining: 153ms\n",
      "919:\tlearn: 0.0213777\ttotal: 1.73s\tremaining: 151ms\n",
      "920:\tlearn: 0.0213777\ttotal: 1.74s\tremaining: 149ms\n",
      "921:\tlearn: 0.0213774\ttotal: 1.74s\tremaining: 147ms\n",
      "922:\tlearn: 0.0213772\ttotal: 1.74s\tremaining: 145ms\n",
      "923:\tlearn: 0.0213772\ttotal: 1.74s\tremaining: 143ms\n",
      "924:\tlearn: 0.0213334\ttotal: 1.74s\tremaining: 141ms\n",
      "925:\tlearn: 0.0213334\ttotal: 1.75s\tremaining: 139ms\n",
      "926:\tlearn: 0.0213334\ttotal: 1.75s\tremaining: 138ms\n",
      "927:\tlearn: 0.0213333\ttotal: 1.75s\tremaining: 136ms\n",
      "928:\tlearn: 0.0213334\ttotal: 1.75s\tremaining: 134ms\n",
      "929:\tlearn: 0.0213330\ttotal: 1.75s\tremaining: 132ms\n",
      "930:\tlearn: 0.0213326\ttotal: 1.75s\tremaining: 130ms\n",
      "931:\tlearn: 0.0213324\ttotal: 1.76s\tremaining: 128ms\n",
      "932:\tlearn: 0.0213323\ttotal: 1.76s\tremaining: 126ms\n",
      "933:\tlearn: 0.0213322\ttotal: 1.76s\tremaining: 124ms\n",
      "934:\tlearn: 0.0213321\ttotal: 1.76s\tremaining: 123ms\n",
      "935:\tlearn: 0.0213319\ttotal: 1.76s\tremaining: 121ms\n",
      "936:\tlearn: 0.0213317\ttotal: 1.76s\tremaining: 119ms\n",
      "937:\tlearn: 0.0213318\ttotal: 1.77s\tremaining: 117ms\n",
      "938:\tlearn: 0.0213303\ttotal: 1.77s\tremaining: 115ms\n",
      "939:\tlearn: 0.0213102\ttotal: 1.77s\tremaining: 113ms\n",
      "940:\tlearn: 0.0213094\ttotal: 1.77s\tremaining: 111ms\n",
      "941:\tlearn: 0.0213094\ttotal: 1.77s\tremaining: 109ms\n",
      "942:\tlearn: 0.0213094\ttotal: 1.78s\tremaining: 107ms\n",
      "943:\tlearn: 0.0213094\ttotal: 1.78s\tremaining: 106ms\n",
      "944:\tlearn: 0.0213086\ttotal: 1.78s\tremaining: 104ms\n",
      "945:\tlearn: 0.0213086\ttotal: 1.78s\tremaining: 102ms\n",
      "946:\tlearn: 0.0213086\ttotal: 1.78s\tremaining: 99.9ms\n",
      "947:\tlearn: 0.0213085\ttotal: 1.79s\tremaining: 98ms\n",
      "948:\tlearn: 0.0213082\ttotal: 1.79s\tremaining: 96.1ms\n",
      "949:\tlearn: 0.0213080\ttotal: 1.79s\tremaining: 94.2ms\n",
      "950:\tlearn: 0.0213074\ttotal: 1.79s\tremaining: 92.4ms\n",
      "951:\tlearn: 0.0213072\ttotal: 1.79s\tremaining: 90.5ms\n",
      "952:\tlearn: 0.0213071\ttotal: 1.8s\tremaining: 88.6ms\n",
      "953:\tlearn: 0.0213071\ttotal: 1.8s\tremaining: 86.7ms\n",
      "954:\tlearn: 0.0213070\ttotal: 1.8s\tremaining: 84.8ms\n",
      "955:\tlearn: 0.0213069\ttotal: 1.8s\tremaining: 82.9ms\n",
      "956:\tlearn: 0.0213069\ttotal: 1.8s\tremaining: 81.1ms\n",
      "957:\tlearn: 0.0213068\ttotal: 1.8s\tremaining: 79.2ms\n",
      "958:\tlearn: 0.0213067\ttotal: 1.81s\tremaining: 77.3ms\n",
      "959:\tlearn: 0.0213067\ttotal: 1.81s\tremaining: 75.4ms\n",
      "960:\tlearn: 0.0213059\ttotal: 1.81s\tremaining: 73.5ms\n",
      "961:\tlearn: 0.0213057\ttotal: 1.81s\tremaining: 71.6ms\n",
      "962:\tlearn: 0.0213056\ttotal: 1.81s\tremaining: 69.7ms\n",
      "963:\tlearn: 0.0213055\ttotal: 1.82s\tremaining: 67.9ms\n",
      "964:\tlearn: 0.0213054\ttotal: 1.82s\tremaining: 66ms\n",
      "965:\tlearn: 0.0213053\ttotal: 1.82s\tremaining: 64.1ms\n",
      "966:\tlearn: 0.0213052\ttotal: 1.82s\tremaining: 62.2ms\n",
      "967:\tlearn: 0.0213052\ttotal: 1.82s\tremaining: 60.3ms\n",
      "968:\tlearn: 0.0213051\ttotal: 1.83s\tremaining: 58.4ms\n",
      "969:\tlearn: 0.0213050\ttotal: 1.83s\tremaining: 56.5ms\n",
      "970:\tlearn: 0.0213049\ttotal: 1.83s\tremaining: 54.7ms\n",
      "971:\tlearn: 0.0213049\ttotal: 1.83s\tremaining: 52.8ms\n",
      "972:\tlearn: 0.0213048\ttotal: 1.83s\tremaining: 50.9ms\n",
      "973:\tlearn: 0.0213046\ttotal: 1.83s\tremaining: 49ms\n",
      "974:\tlearn: 0.0213041\ttotal: 1.84s\tremaining: 47.1ms\n",
      "975:\tlearn: 0.0213040\ttotal: 1.84s\tremaining: 45.2ms\n",
      "976:\tlearn: 0.0213040\ttotal: 1.84s\tremaining: 43.3ms\n",
      "977:\tlearn: 0.0213039\ttotal: 1.84s\tremaining: 41.5ms\n",
      "978:\tlearn: 0.0213038\ttotal: 1.84s\tremaining: 39.6ms\n",
      "979:\tlearn: 0.0213037\ttotal: 1.85s\tremaining: 37.7ms\n",
      "980:\tlearn: 0.0213037\ttotal: 1.85s\tremaining: 35.8ms\n",
      "981:\tlearn: 0.0213034\ttotal: 1.85s\tremaining: 33.9ms\n",
      "982:\tlearn: 0.0213033\ttotal: 1.85s\tremaining: 32ms\n",
      "983:\tlearn: 0.0213033\ttotal: 1.85s\tremaining: 30.2ms\n",
      "984:\tlearn: 0.0213033\ttotal: 1.86s\tremaining: 28.3ms\n",
      "985:\tlearn: 0.0213032\ttotal: 1.86s\tremaining: 26.4ms\n",
      "986:\tlearn: 0.0213033\ttotal: 1.86s\tremaining: 24.5ms\n",
      "987:\tlearn: 0.0213027\ttotal: 1.86s\tremaining: 22.6ms\n",
      "988:\tlearn: 0.0213027\ttotal: 1.86s\tremaining: 20.7ms\n",
      "989:\tlearn: 0.0213025\ttotal: 1.86s\tremaining: 18.8ms\n",
      "990:\tlearn: 0.0213024\ttotal: 1.87s\tremaining: 17ms\n",
      "991:\tlearn: 0.0213024\ttotal: 1.87s\tremaining: 15.1ms\n",
      "992:\tlearn: 0.0213023\ttotal: 1.87s\tremaining: 13.2ms\n",
      "993:\tlearn: 0.0213022\ttotal: 1.87s\tremaining: 11.3ms\n",
      "994:\tlearn: 0.0213021\ttotal: 1.88s\tremaining: 9.42ms\n",
      "995:\tlearn: 0.0213019\ttotal: 1.88s\tremaining: 7.54ms\n",
      "996:\tlearn: 0.0213018\ttotal: 1.88s\tremaining: 5.65ms\n",
      "997:\tlearn: 0.0213018\ttotal: 1.88s\tremaining: 3.77ms\n",
      "998:\tlearn: 0.0213018\ttotal: 1.88s\tremaining: 1.88ms\n",
      "999:\tlearn: 0.0213018\ttotal: 1.88s\tremaining: 0us\n",
      "0:\tlearn: 0.2884124\ttotal: 1.42ms\tremaining: 1.42s\n",
      "1:\tlearn: 0.1943718\ttotal: 3.35ms\tremaining: 1.67s\n",
      "2:\tlearn: 0.1571102\ttotal: 5.35ms\tremaining: 1.78s\n",
      "3:\tlearn: 0.1388216\ttotal: 7.35ms\tremaining: 1.83s\n",
      "4:\tlearn: 0.1315963\ttotal: 9.29ms\tremaining: 1.85s\n",
      "5:\tlearn: 0.1247865\ttotal: 11.4ms\tremaining: 1.89s\n",
      "6:\tlearn: 0.1193000\ttotal: 13.3ms\tremaining: 1.89s\n",
      "7:\tlearn: 0.1145325\ttotal: 15.2ms\tremaining: 1.89s\n",
      "8:\tlearn: 0.1065576\ttotal: 17.2ms\tremaining: 1.89s\n",
      "9:\tlearn: 0.1013120\ttotal: 19.1ms\tremaining: 1.89s\n",
      "10:\tlearn: 0.0962953\ttotal: 21ms\tremaining: 1.89s\n",
      "11:\tlearn: 0.0920299\ttotal: 22.9ms\tremaining: 1.89s\n",
      "12:\tlearn: 0.0897807\ttotal: 25.1ms\tremaining: 1.9s\n",
      "13:\tlearn: 0.0851586\ttotal: 27ms\tremaining: 1.9s\n",
      "14:\tlearn: 0.0828951\ttotal: 28.9ms\tremaining: 1.9s\n",
      "15:\tlearn: 0.0779793\ttotal: 31.1ms\tremaining: 1.91s\n",
      "16:\tlearn: 0.0757320\ttotal: 33.1ms\tremaining: 1.91s\n",
      "17:\tlearn: 0.0734070\ttotal: 35.1ms\tremaining: 1.91s\n",
      "18:\tlearn: 0.0710779\ttotal: 37.1ms\tremaining: 1.92s\n",
      "19:\tlearn: 0.0695709\ttotal: 39.2ms\tremaining: 1.92s\n",
      "20:\tlearn: 0.0674693\ttotal: 41.2ms\tremaining: 1.92s\n",
      "21:\tlearn: 0.0658992\ttotal: 43.3ms\tremaining: 1.93s\n",
      "22:\tlearn: 0.0637351\ttotal: 45.4ms\tremaining: 1.93s\n",
      "23:\tlearn: 0.0623110\ttotal: 47.4ms\tremaining: 1.93s\n",
      "24:\tlearn: 0.0612383\ttotal: 49.3ms\tremaining: 1.92s\n",
      "25:\tlearn: 0.0589974\ttotal: 51.4ms\tremaining: 1.93s\n",
      "26:\tlearn: 0.0575981\ttotal: 53.4ms\tremaining: 1.92s\n",
      "27:\tlearn: 0.0559183\ttotal: 55.5ms\tremaining: 1.93s\n",
      "28:\tlearn: 0.0539578\ttotal: 57.6ms\tremaining: 1.93s\n",
      "29:\tlearn: 0.0529788\ttotal: 59.5ms\tremaining: 1.93s\n",
      "30:\tlearn: 0.0521946\ttotal: 61.4ms\tremaining: 1.92s\n",
      "31:\tlearn: 0.0510624\ttotal: 63.5ms\tremaining: 1.92s\n",
      "32:\tlearn: 0.0505527\ttotal: 65.4ms\tremaining: 1.92s\n",
      "33:\tlearn: 0.0494553\ttotal: 67.4ms\tremaining: 1.91s\n",
      "34:\tlearn: 0.0489136\ttotal: 69.4ms\tremaining: 1.91s\n",
      "35:\tlearn: 0.0479491\ttotal: 71.4ms\tremaining: 1.91s\n",
      "36:\tlearn: 0.0471861\ttotal: 73.4ms\tremaining: 1.91s\n",
      "37:\tlearn: 0.0463702\ttotal: 75.3ms\tremaining: 1.91s\n",
      "38:\tlearn: 0.0458764\ttotal: 77.3ms\tremaining: 1.91s\n",
      "39:\tlearn: 0.0453984\ttotal: 79.4ms\tremaining: 1.91s\n",
      "40:\tlearn: 0.0445309\ttotal: 81.4ms\tremaining: 1.9s\n",
      "41:\tlearn: 0.0439038\ttotal: 83.6ms\tremaining: 1.91s\n",
      "42:\tlearn: 0.0433624\ttotal: 85.7ms\tremaining: 1.91s\n",
      "43:\tlearn: 0.0424474\ttotal: 88ms\tremaining: 1.91s\n",
      "44:\tlearn: 0.0419903\ttotal: 90.3ms\tremaining: 1.92s\n",
      "45:\tlearn: 0.0413042\ttotal: 92.3ms\tremaining: 1.91s\n",
      "46:\tlearn: 0.0404885\ttotal: 94.2ms\tremaining: 1.91s\n",
      "47:\tlearn: 0.0400752\ttotal: 96.1ms\tremaining: 1.91s\n",
      "48:\tlearn: 0.0392663\ttotal: 98.6ms\tremaining: 1.91s\n",
      "49:\tlearn: 0.0380601\ttotal: 101ms\tremaining: 1.91s\n",
      "50:\tlearn: 0.0376898\ttotal: 103ms\tremaining: 1.91s\n",
      "51:\tlearn: 0.0374303\ttotal: 105ms\tremaining: 1.91s\n",
      "52:\tlearn: 0.0371435\ttotal: 107ms\tremaining: 1.91s\n",
      "53:\tlearn: 0.0368044\ttotal: 109ms\tremaining: 1.91s\n",
      "54:\tlearn: 0.0363032\ttotal: 111ms\tremaining: 1.91s\n",
      "55:\tlearn: 0.0357574\ttotal: 113ms\tremaining: 1.91s\n",
      "56:\tlearn: 0.0354468\ttotal: 115ms\tremaining: 1.9s\n",
      "57:\tlearn: 0.0352599\ttotal: 117ms\tremaining: 1.9s\n",
      "58:\tlearn: 0.0350667\ttotal: 119ms\tremaining: 1.9s\n",
      "59:\tlearn: 0.0347184\ttotal: 121ms\tremaining: 1.9s\n",
      "60:\tlearn: 0.0343034\ttotal: 123ms\tremaining: 1.9s\n",
      "61:\tlearn: 0.0335449\ttotal: 125ms\tremaining: 1.9s\n",
      "62:\tlearn: 0.0330163\ttotal: 127ms\tremaining: 1.89s\n",
      "63:\tlearn: 0.0327434\ttotal: 129ms\tremaining: 1.89s\n",
      "64:\tlearn: 0.0325530\ttotal: 131ms\tremaining: 1.89s\n",
      "65:\tlearn: 0.0323392\ttotal: 133ms\tremaining: 1.89s\n",
      "66:\tlearn: 0.0317270\ttotal: 135ms\tremaining: 1.89s\n",
      "67:\tlearn: 0.0312979\ttotal: 138ms\tremaining: 1.89s\n",
      "68:\tlearn: 0.0305810\ttotal: 140ms\tremaining: 1.89s\n",
      "69:\tlearn: 0.0304994\ttotal: 142ms\tremaining: 1.88s\n",
      "70:\tlearn: 0.0303185\ttotal: 144ms\tremaining: 1.89s\n",
      "71:\tlearn: 0.0300084\ttotal: 146ms\tremaining: 1.88s\n",
      "72:\tlearn: 0.0297667\ttotal: 148ms\tremaining: 1.88s\n",
      "73:\tlearn: 0.0296005\ttotal: 150ms\tremaining: 1.88s\n",
      "74:\tlearn: 0.0294664\ttotal: 152ms\tremaining: 1.88s\n",
      "75:\tlearn: 0.0290216\ttotal: 154ms\tremaining: 1.88s\n",
      "76:\tlearn: 0.0287365\ttotal: 156ms\tremaining: 1.87s\n",
      "77:\tlearn: 0.0285612\ttotal: 158ms\tremaining: 1.87s\n",
      "78:\tlearn: 0.0282720\ttotal: 160ms\tremaining: 1.87s\n",
      "79:\tlearn: 0.0280866\ttotal: 162ms\tremaining: 1.86s\n",
      "80:\tlearn: 0.0279603\ttotal: 164ms\tremaining: 1.86s\n",
      "81:\tlearn: 0.0278472\ttotal: 166ms\tremaining: 1.86s\n",
      "82:\tlearn: 0.0276967\ttotal: 168ms\tremaining: 1.86s\n",
      "83:\tlearn: 0.0275243\ttotal: 170ms\tremaining: 1.86s\n",
      "84:\tlearn: 0.0273238\ttotal: 172ms\tremaining: 1.85s\n",
      "85:\tlearn: 0.0271939\ttotal: 174ms\tremaining: 1.85s\n",
      "86:\tlearn: 0.0271414\ttotal: 176ms\tremaining: 1.85s\n",
      "87:\tlearn: 0.0268713\ttotal: 178ms\tremaining: 1.85s\n",
      "88:\tlearn: 0.0266235\ttotal: 180ms\tremaining: 1.84s\n",
      "89:\tlearn: 0.0266208\ttotal: 182ms\tremaining: 1.84s\n",
      "90:\tlearn: 0.0264745\ttotal: 184ms\tremaining: 1.84s\n",
      "91:\tlearn: 0.0262589\ttotal: 186ms\tremaining: 1.84s\n",
      "92:\tlearn: 0.0261375\ttotal: 188ms\tremaining: 1.83s\n",
      "93:\tlearn: 0.0259650\ttotal: 190ms\tremaining: 1.83s\n",
      "94:\tlearn: 0.0258134\ttotal: 192ms\tremaining: 1.83s\n",
      "95:\tlearn: 0.0256792\ttotal: 194ms\tremaining: 1.83s\n",
      "96:\tlearn: 0.0256565\ttotal: 196ms\tremaining: 1.82s\n",
      "97:\tlearn: 0.0255894\ttotal: 198ms\tremaining: 1.82s\n",
      "98:\tlearn: 0.0254772\ttotal: 200ms\tremaining: 1.82s\n",
      "99:\tlearn: 0.0253749\ttotal: 202ms\tremaining: 1.82s\n",
      "100:\tlearn: 0.0252995\ttotal: 204ms\tremaining: 1.82s\n",
      "101:\tlearn: 0.0251229\ttotal: 206ms\tremaining: 1.82s\n",
      "102:\tlearn: 0.0250768\ttotal: 208ms\tremaining: 1.81s\n",
      "103:\tlearn: 0.0248603\ttotal: 210ms\tremaining: 1.81s\n",
      "104:\tlearn: 0.0248601\ttotal: 212ms\tremaining: 1.81s\n",
      "105:\tlearn: 0.0248599\ttotal: 214ms\tremaining: 1.8s\n",
      "106:\tlearn: 0.0248595\ttotal: 215ms\tremaining: 1.8s\n",
      "107:\tlearn: 0.0248107\ttotal: 217ms\tremaining: 1.79s\n",
      "108:\tlearn: 0.0246475\ttotal: 219ms\tremaining: 1.79s\n",
      "109:\tlearn: 0.0245196\ttotal: 221ms\tremaining: 1.79s\n",
      "110:\tlearn: 0.0244609\ttotal: 223ms\tremaining: 1.79s\n",
      "111:\tlearn: 0.0243664\ttotal: 225ms\tremaining: 1.79s\n",
      "112:\tlearn: 0.0240860\ttotal: 227ms\tremaining: 1.78s\n",
      "113:\tlearn: 0.0240226\ttotal: 229ms\tremaining: 1.78s\n",
      "114:\tlearn: 0.0238977\ttotal: 231ms\tremaining: 1.78s\n",
      "115:\tlearn: 0.0238976\ttotal: 233ms\tremaining: 1.78s\n",
      "116:\tlearn: 0.0238138\ttotal: 235ms\tremaining: 1.77s\n",
      "117:\tlearn: 0.0238137\ttotal: 237ms\tremaining: 1.77s\n",
      "118:\tlearn: 0.0238136\ttotal: 239ms\tremaining: 1.77s\n",
      "119:\tlearn: 0.0238136\ttotal: 240ms\tremaining: 1.76s\n",
      "120:\tlearn: 0.0238135\ttotal: 242ms\tremaining: 1.76s\n",
      "121:\tlearn: 0.0238133\ttotal: 244ms\tremaining: 1.76s\n",
      "122:\tlearn: 0.0238132\ttotal: 246ms\tremaining: 1.75s\n",
      "123:\tlearn: 0.0238132\ttotal: 248ms\tremaining: 1.75s\n",
      "124:\tlearn: 0.0238131\ttotal: 249ms\tremaining: 1.75s\n",
      "125:\tlearn: 0.0238130\ttotal: 251ms\tremaining: 1.74s\n",
      "126:\tlearn: 0.0238128\ttotal: 253ms\tremaining: 1.74s\n",
      "127:\tlearn: 0.0238126\ttotal: 255ms\tremaining: 1.73s\n",
      "128:\tlearn: 0.0238124\ttotal: 256ms\tremaining: 1.73s\n",
      "129:\tlearn: 0.0238124\ttotal: 258ms\tremaining: 1.73s\n",
      "130:\tlearn: 0.0238124\ttotal: 260ms\tremaining: 1.72s\n",
      "131:\tlearn: 0.0238124\ttotal: 262ms\tremaining: 1.72s\n",
      "132:\tlearn: 0.0238124\ttotal: 263ms\tremaining: 1.72s\n",
      "133:\tlearn: 0.0238124\ttotal: 265ms\tremaining: 1.71s\n",
      "134:\tlearn: 0.0238121\ttotal: 267ms\tremaining: 1.71s\n",
      "135:\tlearn: 0.0238120\ttotal: 268ms\tremaining: 1.71s\n",
      "136:\tlearn: 0.0238113\ttotal: 270ms\tremaining: 1.7s\n",
      "137:\tlearn: 0.0238109\ttotal: 272ms\tremaining: 1.7s\n",
      "138:\tlearn: 0.0238107\ttotal: 274ms\tremaining: 1.7s\n",
      "139:\tlearn: 0.0238104\ttotal: 276ms\tremaining: 1.69s\n",
      "140:\tlearn: 0.0238104\ttotal: 278ms\tremaining: 1.69s\n",
      "141:\tlearn: 0.0238097\ttotal: 280ms\tremaining: 1.69s\n",
      "142:\tlearn: 0.0238095\ttotal: 282ms\tremaining: 1.69s\n",
      "143:\tlearn: 0.0238089\ttotal: 284ms\tremaining: 1.69s\n",
      "144:\tlearn: 0.0238085\ttotal: 285ms\tremaining: 1.68s\n",
      "145:\tlearn: 0.0238086\ttotal: 287ms\tremaining: 1.68s\n",
      "146:\tlearn: 0.0238084\ttotal: 289ms\tremaining: 1.68s\n",
      "147:\tlearn: 0.0237572\ttotal: 291ms\tremaining: 1.68s\n",
      "148:\tlearn: 0.0237572\ttotal: 293ms\tremaining: 1.67s\n",
      "149:\tlearn: 0.0237569\ttotal: 294ms\tremaining: 1.67s\n",
      "150:\tlearn: 0.0237567\ttotal: 296ms\tremaining: 1.67s\n",
      "151:\tlearn: 0.0237564\ttotal: 298ms\tremaining: 1.66s\n",
      "152:\tlearn: 0.0237564\ttotal: 300ms\tremaining: 1.66s\n",
      "153:\tlearn: 0.0237563\ttotal: 302ms\tremaining: 1.66s\n",
      "154:\tlearn: 0.0237560\ttotal: 304ms\tremaining: 1.66s\n",
      "155:\tlearn: 0.0237561\ttotal: 306ms\tremaining: 1.65s\n",
      "156:\tlearn: 0.0237558\ttotal: 308ms\tremaining: 1.65s\n",
      "157:\tlearn: 0.0237557\ttotal: 309ms\tremaining: 1.65s\n",
      "158:\tlearn: 0.0237556\ttotal: 311ms\tremaining: 1.65s\n",
      "159:\tlearn: 0.0237551\ttotal: 313ms\tremaining: 1.64s\n",
      "160:\tlearn: 0.0237551\ttotal: 315ms\tremaining: 1.64s\n",
      "161:\tlearn: 0.0237551\ttotal: 317ms\tremaining: 1.64s\n",
      "162:\tlearn: 0.0237548\ttotal: 318ms\tremaining: 1.64s\n",
      "163:\tlearn: 0.0237546\ttotal: 320ms\tremaining: 1.63s\n",
      "164:\tlearn: 0.0236638\ttotal: 322ms\tremaining: 1.63s\n",
      "165:\tlearn: 0.0236635\ttotal: 324ms\tremaining: 1.63s\n",
      "166:\tlearn: 0.0236633\ttotal: 326ms\tremaining: 1.63s\n",
      "167:\tlearn: 0.0236632\ttotal: 327ms\tremaining: 1.62s\n",
      "168:\tlearn: 0.0236633\ttotal: 329ms\tremaining: 1.62s\n",
      "169:\tlearn: 0.0236629\ttotal: 331ms\tremaining: 1.62s\n",
      "170:\tlearn: 0.0236629\ttotal: 333ms\tremaining: 1.61s\n",
      "171:\tlearn: 0.0236628\ttotal: 334ms\tremaining: 1.61s\n",
      "172:\tlearn: 0.0236139\ttotal: 337ms\tremaining: 1.61s\n",
      "173:\tlearn: 0.0234691\ttotal: 339ms\tremaining: 1.61s\n",
      "174:\tlearn: 0.0234014\ttotal: 341ms\tremaining: 1.61s\n",
      "175:\tlearn: 0.0233442\ttotal: 343ms\tremaining: 1.6s\n",
      "176:\tlearn: 0.0232000\ttotal: 345ms\tremaining: 1.6s\n",
      "177:\tlearn: 0.0232000\ttotal: 347ms\tremaining: 1.6s\n",
      "178:\tlearn: 0.0231998\ttotal: 348ms\tremaining: 1.6s\n",
      "179:\tlearn: 0.0231995\ttotal: 350ms\tremaining: 1.59s\n",
      "180:\tlearn: 0.0231990\ttotal: 352ms\tremaining: 1.59s\n",
      "181:\tlearn: 0.0231989\ttotal: 354ms\tremaining: 1.59s\n",
      "182:\tlearn: 0.0231735\ttotal: 356ms\tremaining: 1.59s\n",
      "183:\tlearn: 0.0230868\ttotal: 358ms\tremaining: 1.59s\n",
      "184:\tlearn: 0.0229339\ttotal: 360ms\tremaining: 1.58s\n",
      "185:\tlearn: 0.0229334\ttotal: 361ms\tremaining: 1.58s\n",
      "186:\tlearn: 0.0229333\ttotal: 363ms\tremaining: 1.58s\n",
      "187:\tlearn: 0.0229331\ttotal: 365ms\tremaining: 1.57s\n",
      "188:\tlearn: 0.0229329\ttotal: 366ms\tremaining: 1.57s\n",
      "189:\tlearn: 0.0229326\ttotal: 368ms\tremaining: 1.57s\n",
      "190:\tlearn: 0.0229324\ttotal: 370ms\tremaining: 1.57s\n",
      "191:\tlearn: 0.0229323\ttotal: 372ms\tremaining: 1.56s\n",
      "192:\tlearn: 0.0229323\ttotal: 373ms\tremaining: 1.56s\n",
      "193:\tlearn: 0.0229321\ttotal: 375ms\tremaining: 1.56s\n",
      "194:\tlearn: 0.0229318\ttotal: 377ms\tremaining: 1.56s\n",
      "195:\tlearn: 0.0229316\ttotal: 379ms\tremaining: 1.55s\n",
      "196:\tlearn: 0.0229312\ttotal: 380ms\tremaining: 1.55s\n",
      "197:\tlearn: 0.0229311\ttotal: 382ms\tremaining: 1.55s\n",
      "198:\tlearn: 0.0229310\ttotal: 384ms\tremaining: 1.54s\n",
      "199:\tlearn: 0.0229305\ttotal: 386ms\tremaining: 1.54s\n",
      "200:\tlearn: 0.0229303\ttotal: 388ms\tremaining: 1.54s\n",
      "201:\tlearn: 0.0229301\ttotal: 389ms\tremaining: 1.54s\n",
      "202:\tlearn: 0.0229301\ttotal: 391ms\tremaining: 1.54s\n",
      "203:\tlearn: 0.0229298\ttotal: 393ms\tremaining: 1.53s\n",
      "204:\tlearn: 0.0229292\ttotal: 395ms\tremaining: 1.53s\n",
      "205:\tlearn: 0.0229287\ttotal: 397ms\tremaining: 1.53s\n",
      "206:\tlearn: 0.0228692\ttotal: 399ms\tremaining: 1.53s\n",
      "207:\tlearn: 0.0228687\ttotal: 401ms\tremaining: 1.52s\n",
      "208:\tlearn: 0.0227962\ttotal: 403ms\tremaining: 1.52s\n",
      "209:\tlearn: 0.0227961\ttotal: 404ms\tremaining: 1.52s\n",
      "210:\tlearn: 0.0227375\ttotal: 406ms\tremaining: 1.52s\n",
      "211:\tlearn: 0.0226900\ttotal: 408ms\tremaining: 1.52s\n",
      "212:\tlearn: 0.0226358\ttotal: 410ms\tremaining: 1.51s\n",
      "213:\tlearn: 0.0225855\ttotal: 412ms\tremaining: 1.51s\n",
      "214:\tlearn: 0.0224806\ttotal: 414ms\tremaining: 1.51s\n",
      "215:\tlearn: 0.0224805\ttotal: 416ms\tremaining: 1.51s\n",
      "216:\tlearn: 0.0224805\ttotal: 418ms\tremaining: 1.51s\n",
      "217:\tlearn: 0.0224805\ttotal: 420ms\tremaining: 1.5s\n",
      "218:\tlearn: 0.0224802\ttotal: 421ms\tremaining: 1.5s\n",
      "219:\tlearn: 0.0224802\ttotal: 423ms\tremaining: 1.5s\n",
      "220:\tlearn: 0.0224802\ttotal: 425ms\tremaining: 1.5s\n",
      "221:\tlearn: 0.0224798\ttotal: 427ms\tremaining: 1.5s\n",
      "222:\tlearn: 0.0224797\ttotal: 429ms\tremaining: 1.49s\n",
      "223:\tlearn: 0.0224795\ttotal: 430ms\tremaining: 1.49s\n",
      "224:\tlearn: 0.0224794\ttotal: 432ms\tremaining: 1.49s\n",
      "225:\tlearn: 0.0224794\ttotal: 434ms\tremaining: 1.49s\n",
      "226:\tlearn: 0.0224794\ttotal: 436ms\tremaining: 1.48s\n",
      "227:\tlearn: 0.0224794\ttotal: 438ms\tremaining: 1.48s\n",
      "228:\tlearn: 0.0224791\ttotal: 439ms\tremaining: 1.48s\n",
      "229:\tlearn: 0.0224790\ttotal: 441ms\tremaining: 1.48s\n",
      "230:\tlearn: 0.0224789\ttotal: 443ms\tremaining: 1.47s\n",
      "231:\tlearn: 0.0224789\ttotal: 445ms\tremaining: 1.47s\n",
      "232:\tlearn: 0.0224789\ttotal: 446ms\tremaining: 1.47s\n",
      "233:\tlearn: 0.0224787\ttotal: 448ms\tremaining: 1.47s\n",
      "234:\tlearn: 0.0224786\ttotal: 450ms\tremaining: 1.46s\n",
      "235:\tlearn: 0.0224784\ttotal: 452ms\tremaining: 1.46s\n",
      "236:\tlearn: 0.0224784\ttotal: 453ms\tremaining: 1.46s\n",
      "237:\tlearn: 0.0224784\ttotal: 455ms\tremaining: 1.46s\n",
      "238:\tlearn: 0.0224783\ttotal: 457ms\tremaining: 1.46s\n",
      "239:\tlearn: 0.0224783\ttotal: 459ms\tremaining: 1.45s\n",
      "240:\tlearn: 0.0224783\ttotal: 461ms\tremaining: 1.45s\n",
      "241:\tlearn: 0.0224783\ttotal: 462ms\tremaining: 1.45s\n",
      "242:\tlearn: 0.0224783\ttotal: 464ms\tremaining: 1.44s\n",
      "243:\tlearn: 0.0224783\ttotal: 465ms\tremaining: 1.44s\n",
      "244:\tlearn: 0.0224783\ttotal: 467ms\tremaining: 1.44s\n",
      "245:\tlearn: 0.0223399\ttotal: 469ms\tremaining: 1.44s\n",
      "246:\tlearn: 0.0223398\ttotal: 471ms\tremaining: 1.44s\n",
      "247:\tlearn: 0.0223397\ttotal: 473ms\tremaining: 1.43s\n",
      "248:\tlearn: 0.0223396\ttotal: 475ms\tremaining: 1.43s\n",
      "249:\tlearn: 0.0223394\ttotal: 477ms\tremaining: 1.43s\n",
      "250:\tlearn: 0.0223393\ttotal: 478ms\tremaining: 1.43s\n",
      "251:\tlearn: 0.0223391\ttotal: 480ms\tremaining: 1.42s\n",
      "252:\tlearn: 0.0223390\ttotal: 482ms\tremaining: 1.42s\n",
      "253:\tlearn: 0.0223389\ttotal: 483ms\tremaining: 1.42s\n",
      "254:\tlearn: 0.0223388\ttotal: 485ms\tremaining: 1.42s\n",
      "255:\tlearn: 0.0223386\ttotal: 487ms\tremaining: 1.42s\n",
      "256:\tlearn: 0.0223385\ttotal: 489ms\tremaining: 1.41s\n",
      "257:\tlearn: 0.0222432\ttotal: 491ms\tremaining: 1.41s\n",
      "258:\tlearn: 0.0222431\ttotal: 493ms\tremaining: 1.41s\n",
      "259:\tlearn: 0.0222427\ttotal: 495ms\tremaining: 1.41s\n",
      "260:\tlearn: 0.0222217\ttotal: 497ms\tremaining: 1.41s\n",
      "261:\tlearn: 0.0221904\ttotal: 499ms\tremaining: 1.4s\n",
      "262:\tlearn: 0.0221631\ttotal: 500ms\tremaining: 1.4s\n",
      "263:\tlearn: 0.0221093\ttotal: 502ms\tremaining: 1.4s\n",
      "264:\tlearn: 0.0221092\ttotal: 504ms\tremaining: 1.4s\n",
      "265:\tlearn: 0.0220684\ttotal: 506ms\tremaining: 1.4s\n",
      "266:\tlearn: 0.0220682\ttotal: 508ms\tremaining: 1.39s\n",
      "267:\tlearn: 0.0220131\ttotal: 511ms\tremaining: 1.39s\n",
      "268:\tlearn: 0.0219714\ttotal: 513ms\tremaining: 1.39s\n",
      "269:\tlearn: 0.0219712\ttotal: 516ms\tremaining: 1.39s\n",
      "270:\tlearn: 0.0219263\ttotal: 518ms\tremaining: 1.39s\n",
      "271:\tlearn: 0.0219261\ttotal: 523ms\tremaining: 1.4s\n",
      "272:\tlearn: 0.0218760\ttotal: 526ms\tremaining: 1.4s\n",
      "273:\tlearn: 0.0216953\ttotal: 528ms\tremaining: 1.4s\n",
      "274:\tlearn: 0.0216522\ttotal: 533ms\tremaining: 1.41s\n",
      "275:\tlearn: 0.0216278\ttotal: 535ms\tremaining: 1.4s\n",
      "276:\tlearn: 0.0215567\ttotal: 538ms\tremaining: 1.4s\n",
      "277:\tlearn: 0.0215222\ttotal: 540ms\tremaining: 1.4s\n",
      "278:\tlearn: 0.0215219\ttotal: 542ms\tremaining: 1.4s\n",
      "279:\tlearn: 0.0215218\ttotal: 544ms\tremaining: 1.4s\n",
      "280:\tlearn: 0.0215048\ttotal: 546ms\tremaining: 1.4s\n",
      "281:\tlearn: 0.0214553\ttotal: 548ms\tremaining: 1.39s\n",
      "282:\tlearn: 0.0214552\ttotal: 550ms\tremaining: 1.39s\n",
      "283:\tlearn: 0.0214550\ttotal: 552ms\tremaining: 1.39s\n",
      "284:\tlearn: 0.0214113\ttotal: 554ms\tremaining: 1.39s\n",
      "285:\tlearn: 0.0214109\ttotal: 556ms\tremaining: 1.39s\n",
      "286:\tlearn: 0.0214107\ttotal: 557ms\tremaining: 1.38s\n",
      "287:\tlearn: 0.0214108\ttotal: 559ms\tremaining: 1.38s\n",
      "288:\tlearn: 0.0214107\ttotal: 561ms\tremaining: 1.38s\n",
      "289:\tlearn: 0.0214105\ttotal: 563ms\tremaining: 1.38s\n",
      "290:\tlearn: 0.0214105\ttotal: 565ms\tremaining: 1.38s\n",
      "291:\tlearn: 0.0214105\ttotal: 566ms\tremaining: 1.37s\n",
      "292:\tlearn: 0.0214104\ttotal: 568ms\tremaining: 1.37s\n",
      "293:\tlearn: 0.0214104\ttotal: 570ms\tremaining: 1.37s\n",
      "294:\tlearn: 0.0214104\ttotal: 572ms\tremaining: 1.37s\n",
      "295:\tlearn: 0.0214103\ttotal: 573ms\tremaining: 1.36s\n",
      "296:\tlearn: 0.0214103\ttotal: 575ms\tremaining: 1.36s\n",
      "297:\tlearn: 0.0214102\ttotal: 577ms\tremaining: 1.36s\n",
      "298:\tlearn: 0.0214099\ttotal: 579ms\tremaining: 1.36s\n",
      "299:\tlearn: 0.0214098\ttotal: 581ms\tremaining: 1.35s\n",
      "300:\tlearn: 0.0214097\ttotal: 582ms\tremaining: 1.35s\n",
      "301:\tlearn: 0.0214093\ttotal: 584ms\tremaining: 1.35s\n",
      "302:\tlearn: 0.0214092\ttotal: 586ms\tremaining: 1.35s\n",
      "303:\tlearn: 0.0214091\ttotal: 588ms\tremaining: 1.34s\n",
      "304:\tlearn: 0.0214090\ttotal: 590ms\tremaining: 1.34s\n",
      "305:\tlearn: 0.0213212\ttotal: 592ms\tremaining: 1.34s\n",
      "306:\tlearn: 0.0213211\ttotal: 593ms\tremaining: 1.34s\n",
      "307:\tlearn: 0.0213210\ttotal: 595ms\tremaining: 1.34s\n",
      "308:\tlearn: 0.0213208\ttotal: 597ms\tremaining: 1.33s\n",
      "309:\tlearn: 0.0213208\ttotal: 598ms\tremaining: 1.33s\n",
      "310:\tlearn: 0.0213208\ttotal: 600ms\tremaining: 1.33s\n",
      "311:\tlearn: 0.0213206\ttotal: 602ms\tremaining: 1.33s\n",
      "312:\tlearn: 0.0213206\ttotal: 604ms\tremaining: 1.32s\n",
      "313:\tlearn: 0.0213206\ttotal: 605ms\tremaining: 1.32s\n",
      "314:\tlearn: 0.0213206\ttotal: 607ms\tremaining: 1.32s\n",
      "315:\tlearn: 0.0213205\ttotal: 609ms\tremaining: 1.32s\n",
      "316:\tlearn: 0.0213205\ttotal: 611ms\tremaining: 1.31s\n",
      "317:\tlearn: 0.0213203\ttotal: 612ms\tremaining: 1.31s\n",
      "318:\tlearn: 0.0213203\ttotal: 614ms\tremaining: 1.31s\n",
      "319:\tlearn: 0.0213200\ttotal: 616ms\tremaining: 1.31s\n",
      "320:\tlearn: 0.0213199\ttotal: 618ms\tremaining: 1.31s\n",
      "321:\tlearn: 0.0213198\ttotal: 620ms\tremaining: 1.3s\n",
      "322:\tlearn: 0.0213198\ttotal: 621ms\tremaining: 1.3s\n",
      "323:\tlearn: 0.0213197\ttotal: 623ms\tremaining: 1.3s\n",
      "324:\tlearn: 0.0213195\ttotal: 625ms\tremaining: 1.3s\n",
      "325:\tlearn: 0.0213195\ttotal: 627ms\tremaining: 1.29s\n",
      "326:\tlearn: 0.0213194\ttotal: 629ms\tremaining: 1.29s\n",
      "327:\tlearn: 0.0213194\ttotal: 631ms\tremaining: 1.29s\n",
      "328:\tlearn: 0.0213192\ttotal: 632ms\tremaining: 1.29s\n",
      "329:\tlearn: 0.0213191\ttotal: 634ms\tremaining: 1.29s\n",
      "330:\tlearn: 0.0213190\ttotal: 636ms\tremaining: 1.28s\n",
      "331:\tlearn: 0.0213189\ttotal: 638ms\tremaining: 1.28s\n",
      "332:\tlearn: 0.0213186\ttotal: 639ms\tremaining: 1.28s\n",
      "333:\tlearn: 0.0213185\ttotal: 641ms\tremaining: 1.28s\n",
      "334:\tlearn: 0.0213184\ttotal: 643ms\tremaining: 1.27s\n",
      "335:\tlearn: 0.0213182\ttotal: 645ms\tremaining: 1.27s\n",
      "336:\tlearn: 0.0213180\ttotal: 646ms\tremaining: 1.27s\n",
      "337:\tlearn: 0.0213178\ttotal: 648ms\tremaining: 1.27s\n",
      "338:\tlearn: 0.0212956\ttotal: 650ms\tremaining: 1.27s\n",
      "339:\tlearn: 0.0212367\ttotal: 652ms\tremaining: 1.26s\n",
      "340:\tlearn: 0.0212367\ttotal: 654ms\tremaining: 1.26s\n",
      "341:\tlearn: 0.0211416\ttotal: 656ms\tremaining: 1.26s\n",
      "342:\tlearn: 0.0211413\ttotal: 658ms\tremaining: 1.26s\n",
      "343:\tlearn: 0.0210588\ttotal: 660ms\tremaining: 1.26s\n",
      "344:\tlearn: 0.0210105\ttotal: 662ms\tremaining: 1.26s\n",
      "345:\tlearn: 0.0209691\ttotal: 664ms\tremaining: 1.25s\n",
      "346:\tlearn: 0.0209689\ttotal: 666ms\tremaining: 1.25s\n",
      "347:\tlearn: 0.0209688\ttotal: 667ms\tremaining: 1.25s\n",
      "348:\tlearn: 0.0209687\ttotal: 669ms\tremaining: 1.25s\n",
      "349:\tlearn: 0.0209685\ttotal: 671ms\tremaining: 1.25s\n",
      "350:\tlearn: 0.0209676\ttotal: 673ms\tremaining: 1.24s\n",
      "351:\tlearn: 0.0209675\ttotal: 675ms\tremaining: 1.24s\n",
      "352:\tlearn: 0.0209675\ttotal: 677ms\tremaining: 1.24s\n",
      "353:\tlearn: 0.0209670\ttotal: 679ms\tremaining: 1.24s\n",
      "354:\tlearn: 0.0209665\ttotal: 681ms\tremaining: 1.24s\n",
      "355:\tlearn: 0.0209666\ttotal: 682ms\tremaining: 1.23s\n",
      "356:\tlearn: 0.0209664\ttotal: 684ms\tremaining: 1.23s\n",
      "357:\tlearn: 0.0209662\ttotal: 686ms\tremaining: 1.23s\n",
      "358:\tlearn: 0.0209661\ttotal: 687ms\tremaining: 1.23s\n",
      "359:\tlearn: 0.0209661\ttotal: 689ms\tremaining: 1.23s\n",
      "360:\tlearn: 0.0209661\ttotal: 691ms\tremaining: 1.22s\n",
      "361:\tlearn: 0.0209660\ttotal: 693ms\tremaining: 1.22s\n",
      "362:\tlearn: 0.0209659\ttotal: 694ms\tremaining: 1.22s\n",
      "363:\tlearn: 0.0209655\ttotal: 696ms\tremaining: 1.22s\n",
      "364:\tlearn: 0.0209655\ttotal: 698ms\tremaining: 1.21s\n",
      "365:\tlearn: 0.0209654\ttotal: 700ms\tremaining: 1.21s\n",
      "366:\tlearn: 0.0209654\ttotal: 702ms\tremaining: 1.21s\n",
      "367:\tlearn: 0.0209654\ttotal: 703ms\tremaining: 1.21s\n",
      "368:\tlearn: 0.0209655\ttotal: 705ms\tremaining: 1.21s\n",
      "369:\tlearn: 0.0209653\ttotal: 707ms\tremaining: 1.2s\n",
      "370:\tlearn: 0.0209654\ttotal: 709ms\tremaining: 1.2s\n",
      "371:\tlearn: 0.0209653\ttotal: 711ms\tremaining: 1.2s\n",
      "372:\tlearn: 0.0209653\ttotal: 712ms\tremaining: 1.2s\n",
      "373:\tlearn: 0.0209653\ttotal: 714ms\tremaining: 1.2s\n",
      "374:\tlearn: 0.0209653\ttotal: 716ms\tremaining: 1.19s\n",
      "375:\tlearn: 0.0209652\ttotal: 718ms\tremaining: 1.19s\n",
      "376:\tlearn: 0.0209651\ttotal: 719ms\tremaining: 1.19s\n",
      "377:\tlearn: 0.0209650\ttotal: 721ms\tremaining: 1.19s\n",
      "378:\tlearn: 0.0209650\ttotal: 723ms\tremaining: 1.19s\n",
      "379:\tlearn: 0.0209642\ttotal: 725ms\tremaining: 1.18s\n",
      "380:\tlearn: 0.0209641\ttotal: 727ms\tremaining: 1.18s\n",
      "381:\tlearn: 0.0209640\ttotal: 729ms\tremaining: 1.18s\n",
      "382:\tlearn: 0.0209640\ttotal: 730ms\tremaining: 1.18s\n",
      "383:\tlearn: 0.0209639\ttotal: 732ms\tremaining: 1.17s\n",
      "384:\tlearn: 0.0209638\ttotal: 734ms\tremaining: 1.17s\n",
      "385:\tlearn: 0.0209638\ttotal: 736ms\tremaining: 1.17s\n",
      "386:\tlearn: 0.0209636\ttotal: 737ms\tremaining: 1.17s\n",
      "387:\tlearn: 0.0209635\ttotal: 739ms\tremaining: 1.17s\n",
      "388:\tlearn: 0.0209635\ttotal: 741ms\tremaining: 1.16s\n",
      "389:\tlearn: 0.0209634\ttotal: 743ms\tremaining: 1.16s\n",
      "390:\tlearn: 0.0209634\ttotal: 745ms\tremaining: 1.16s\n",
      "391:\tlearn: 0.0209634\ttotal: 746ms\tremaining: 1.16s\n",
      "392:\tlearn: 0.0209632\ttotal: 748ms\tremaining: 1.16s\n",
      "393:\tlearn: 0.0209632\ttotal: 750ms\tremaining: 1.15s\n",
      "394:\tlearn: 0.0209632\ttotal: 751ms\tremaining: 1.15s\n",
      "395:\tlearn: 0.0209631\ttotal: 753ms\tremaining: 1.15s\n",
      "396:\tlearn: 0.0209627\ttotal: 755ms\tremaining: 1.15s\n",
      "397:\tlearn: 0.0209625\ttotal: 757ms\tremaining: 1.14s\n",
      "398:\tlearn: 0.0209622\ttotal: 758ms\tremaining: 1.14s\n",
      "399:\tlearn: 0.0209621\ttotal: 760ms\tremaining: 1.14s\n",
      "400:\tlearn: 0.0209621\ttotal: 762ms\tremaining: 1.14s\n",
      "401:\tlearn: 0.0209619\ttotal: 764ms\tremaining: 1.14s\n",
      "402:\tlearn: 0.0209612\ttotal: 766ms\tremaining: 1.13s\n",
      "403:\tlearn: 0.0209612\ttotal: 768ms\tremaining: 1.13s\n",
      "404:\tlearn: 0.0209611\ttotal: 769ms\tremaining: 1.13s\n",
      "405:\tlearn: 0.0209607\ttotal: 771ms\tremaining: 1.13s\n",
      "406:\tlearn: 0.0209607\ttotal: 773ms\tremaining: 1.13s\n",
      "407:\tlearn: 0.0209606\ttotal: 775ms\tremaining: 1.12s\n",
      "408:\tlearn: 0.0209605\ttotal: 776ms\tremaining: 1.12s\n",
      "409:\tlearn: 0.0209605\ttotal: 778ms\tremaining: 1.12s\n",
      "410:\tlearn: 0.0209605\ttotal: 780ms\tremaining: 1.12s\n",
      "411:\tlearn: 0.0209605\ttotal: 782ms\tremaining: 1.11s\n",
      "412:\tlearn: 0.0209605\ttotal: 783ms\tremaining: 1.11s\n",
      "413:\tlearn: 0.0209599\ttotal: 785ms\tremaining: 1.11s\n",
      "414:\tlearn: 0.0209599\ttotal: 787ms\tremaining: 1.11s\n",
      "415:\tlearn: 0.0209598\ttotal: 788ms\tremaining: 1.11s\n",
      "416:\tlearn: 0.0209597\ttotal: 790ms\tremaining: 1.1s\n",
      "417:\tlearn: 0.0209597\ttotal: 792ms\tremaining: 1.1s\n",
      "418:\tlearn: 0.0209597\ttotal: 794ms\tremaining: 1.1s\n",
      "419:\tlearn: 0.0209596\ttotal: 795ms\tremaining: 1.1s\n",
      "420:\tlearn: 0.0209596\ttotal: 797ms\tremaining: 1.1s\n",
      "421:\tlearn: 0.0209594\ttotal: 799ms\tremaining: 1.09s\n",
      "422:\tlearn: 0.0209593\ttotal: 801ms\tremaining: 1.09s\n",
      "423:\tlearn: 0.0209593\ttotal: 803ms\tremaining: 1.09s\n",
      "424:\tlearn: 0.0209591\ttotal: 804ms\tremaining: 1.09s\n",
      "425:\tlearn: 0.0209589\ttotal: 806ms\tremaining: 1.09s\n",
      "426:\tlearn: 0.0209589\ttotal: 808ms\tremaining: 1.08s\n",
      "427:\tlearn: 0.0209588\ttotal: 810ms\tremaining: 1.08s\n",
      "428:\tlearn: 0.0209587\ttotal: 811ms\tremaining: 1.08s\n",
      "429:\tlearn: 0.0209586\ttotal: 813ms\tremaining: 1.08s\n",
      "430:\tlearn: 0.0209586\ttotal: 815ms\tremaining: 1.07s\n",
      "431:\tlearn: 0.0209584\ttotal: 817ms\tremaining: 1.07s\n",
      "432:\tlearn: 0.0209583\ttotal: 819ms\tremaining: 1.07s\n",
      "433:\tlearn: 0.0209580\ttotal: 820ms\tremaining: 1.07s\n",
      "434:\tlearn: 0.0209572\ttotal: 822ms\tremaining: 1.07s\n",
      "435:\tlearn: 0.0209572\ttotal: 824ms\tremaining: 1.06s\n",
      "436:\tlearn: 0.0209572\ttotal: 826ms\tremaining: 1.06s\n",
      "437:\tlearn: 0.0209571\ttotal: 827ms\tremaining: 1.06s\n",
      "438:\tlearn: 0.0209568\ttotal: 829ms\tremaining: 1.06s\n",
      "439:\tlearn: 0.0209567\ttotal: 831ms\tremaining: 1.06s\n",
      "440:\tlearn: 0.0209566\ttotal: 833ms\tremaining: 1.05s\n",
      "441:\tlearn: 0.0209566\ttotal: 835ms\tremaining: 1.05s\n",
      "442:\tlearn: 0.0209564\ttotal: 836ms\tremaining: 1.05s\n",
      "443:\tlearn: 0.0209563\ttotal: 838ms\tremaining: 1.05s\n",
      "444:\tlearn: 0.0209563\ttotal: 840ms\tremaining: 1.05s\n",
      "445:\tlearn: 0.0209562\ttotal: 842ms\tremaining: 1.04s\n",
      "446:\tlearn: 0.0209562\ttotal: 844ms\tremaining: 1.04s\n",
      "447:\tlearn: 0.0209560\ttotal: 845ms\tremaining: 1.04s\n",
      "448:\tlearn: 0.0209559\ttotal: 847ms\tremaining: 1.04s\n",
      "449:\tlearn: 0.0209558\ttotal: 849ms\tremaining: 1.04s\n",
      "450:\tlearn: 0.0209557\ttotal: 851ms\tremaining: 1.03s\n",
      "451:\tlearn: 0.0209557\ttotal: 853ms\tremaining: 1.03s\n",
      "452:\tlearn: 0.0209556\ttotal: 854ms\tremaining: 1.03s\n",
      "453:\tlearn: 0.0209556\ttotal: 856ms\tremaining: 1.03s\n",
      "454:\tlearn: 0.0209556\ttotal: 858ms\tremaining: 1.03s\n",
      "455:\tlearn: 0.0209555\ttotal: 860ms\tremaining: 1.02s\n",
      "456:\tlearn: 0.0209554\ttotal: 862ms\tremaining: 1.02s\n",
      "457:\tlearn: 0.0209553\ttotal: 863ms\tremaining: 1.02s\n",
      "458:\tlearn: 0.0209553\ttotal: 865ms\tremaining: 1.02s\n",
      "459:\tlearn: 0.0209551\ttotal: 867ms\tremaining: 1.02s\n",
      "460:\tlearn: 0.0209544\ttotal: 869ms\tremaining: 1.01s\n",
      "461:\tlearn: 0.0209542\ttotal: 870ms\tremaining: 1.01s\n",
      "462:\tlearn: 0.0209541\ttotal: 872ms\tremaining: 1.01s\n",
      "463:\tlearn: 0.0209539\ttotal: 874ms\tremaining: 1.01s\n",
      "464:\tlearn: 0.0209539\ttotal: 876ms\tremaining: 1.01s\n",
      "465:\tlearn: 0.0209538\ttotal: 877ms\tremaining: 1s\n",
      "466:\tlearn: 0.0209537\ttotal: 879ms\tremaining: 1s\n",
      "467:\tlearn: 0.0209537\ttotal: 881ms\tremaining: 1s\n",
      "468:\tlearn: 0.0209537\ttotal: 883ms\tremaining: 999ms\n",
      "469:\tlearn: 0.0209536\ttotal: 885ms\tremaining: 997ms\n",
      "470:\tlearn: 0.0209537\ttotal: 886ms\tremaining: 995ms\n",
      "471:\tlearn: 0.0209535\ttotal: 888ms\tremaining: 994ms\n",
      "472:\tlearn: 0.0209534\ttotal: 890ms\tremaining: 992ms\n",
      "473:\tlearn: 0.0209534\ttotal: 892ms\tremaining: 989ms\n",
      "474:\tlearn: 0.0209534\ttotal: 893ms\tremaining: 987ms\n",
      "475:\tlearn: 0.0209534\ttotal: 895ms\tremaining: 985ms\n",
      "476:\tlearn: 0.0209533\ttotal: 897ms\tremaining: 983ms\n",
      "477:\tlearn: 0.0209527\ttotal: 899ms\tremaining: 981ms\n",
      "478:\tlearn: 0.0209526\ttotal: 900ms\tremaining: 979ms\n",
      "479:\tlearn: 0.0209524\ttotal: 902ms\tremaining: 977ms\n",
      "480:\tlearn: 0.0209522\ttotal: 904ms\tremaining: 975ms\n",
      "481:\tlearn: 0.0209522\ttotal: 906ms\tremaining: 973ms\n",
      "482:\tlearn: 0.0209521\ttotal: 907ms\tremaining: 971ms\n",
      "483:\tlearn: 0.0209520\ttotal: 909ms\tremaining: 969ms\n",
      "484:\tlearn: 0.0209519\ttotal: 911ms\tremaining: 967ms\n",
      "485:\tlearn: 0.0209518\ttotal: 913ms\tremaining: 965ms\n",
      "486:\tlearn: 0.0209518\ttotal: 915ms\tremaining: 963ms\n",
      "487:\tlearn: 0.0209517\ttotal: 916ms\tremaining: 961ms\n",
      "488:\tlearn: 0.0209516\ttotal: 918ms\tremaining: 959ms\n",
      "489:\tlearn: 0.0209515\ttotal: 920ms\tremaining: 957ms\n",
      "490:\tlearn: 0.0209515\ttotal: 922ms\tremaining: 955ms\n",
      "491:\tlearn: 0.0209513\ttotal: 923ms\tremaining: 953ms\n",
      "492:\tlearn: 0.0209512\ttotal: 925ms\tremaining: 951ms\n",
      "493:\tlearn: 0.0209511\ttotal: 927ms\tremaining: 950ms\n",
      "494:\tlearn: 0.0209510\ttotal: 929ms\tremaining: 948ms\n",
      "495:\tlearn: 0.0209510\ttotal: 931ms\tremaining: 946ms\n",
      "496:\tlearn: 0.0209509\ttotal: 932ms\tremaining: 944ms\n",
      "497:\tlearn: 0.0209508\ttotal: 934ms\tremaining: 941ms\n",
      "498:\tlearn: 0.0209508\ttotal: 936ms\tremaining: 939ms\n",
      "499:\tlearn: 0.0209507\ttotal: 938ms\tremaining: 938ms\n",
      "500:\tlearn: 0.0209508\ttotal: 939ms\tremaining: 936ms\n",
      "501:\tlearn: 0.0209507\ttotal: 941ms\tremaining: 934ms\n",
      "502:\tlearn: 0.0209507\ttotal: 943ms\tremaining: 932ms\n",
      "503:\tlearn: 0.0209506\ttotal: 944ms\tremaining: 929ms\n",
      "504:\tlearn: 0.0209505\ttotal: 946ms\tremaining: 927ms\n",
      "505:\tlearn: 0.0209506\ttotal: 948ms\tremaining: 926ms\n",
      "506:\tlearn: 0.0209506\ttotal: 950ms\tremaining: 923ms\n",
      "507:\tlearn: 0.0209505\ttotal: 951ms\tremaining: 921ms\n",
      "508:\tlearn: 0.0209504\ttotal: 953ms\tremaining: 920ms\n",
      "509:\tlearn: 0.0209503\ttotal: 955ms\tremaining: 918ms\n",
      "510:\tlearn: 0.0209497\ttotal: 957ms\tremaining: 916ms\n",
      "511:\tlearn: 0.0209497\ttotal: 958ms\tremaining: 914ms\n",
      "512:\tlearn: 0.0209497\ttotal: 960ms\tremaining: 912ms\n",
      "513:\tlearn: 0.0209495\ttotal: 962ms\tremaining: 910ms\n",
      "514:\tlearn: 0.0209495\ttotal: 964ms\tremaining: 908ms\n",
      "515:\tlearn: 0.0209495\ttotal: 965ms\tremaining: 906ms\n",
      "516:\tlearn: 0.0209495\ttotal: 967ms\tremaining: 904ms\n",
      "517:\tlearn: 0.0209494\ttotal: 969ms\tremaining: 902ms\n",
      "518:\tlearn: 0.0209494\ttotal: 971ms\tremaining: 900ms\n",
      "519:\tlearn: 0.0209488\ttotal: 973ms\tremaining: 898ms\n",
      "520:\tlearn: 0.0209488\ttotal: 974ms\tremaining: 896ms\n",
      "521:\tlearn: 0.0209487\ttotal: 976ms\tremaining: 894ms\n",
      "522:\tlearn: 0.0209487\ttotal: 978ms\tremaining: 892ms\n",
      "523:\tlearn: 0.0209486\ttotal: 979ms\tremaining: 890ms\n",
      "524:\tlearn: 0.0209486\ttotal: 981ms\tremaining: 888ms\n",
      "525:\tlearn: 0.0209486\ttotal: 983ms\tremaining: 886ms\n",
      "526:\tlearn: 0.0209485\ttotal: 985ms\tremaining: 884ms\n",
      "527:\tlearn: 0.0209484\ttotal: 986ms\tremaining: 882ms\n",
      "528:\tlearn: 0.0209484\ttotal: 988ms\tremaining: 880ms\n",
      "529:\tlearn: 0.0209483\ttotal: 990ms\tremaining: 878ms\n",
      "530:\tlearn: 0.0209483\ttotal: 992ms\tremaining: 876ms\n",
      "531:\tlearn: 0.0209482\ttotal: 994ms\tremaining: 874ms\n",
      "532:\tlearn: 0.0209480\ttotal: 996ms\tremaining: 872ms\n",
      "533:\tlearn: 0.0209480\ttotal: 997ms\tremaining: 870ms\n",
      "534:\tlearn: 0.0209480\ttotal: 999ms\tremaining: 868ms\n",
      "535:\tlearn: 0.0209479\ttotal: 1s\tremaining: 867ms\n",
      "536:\tlearn: 0.0209480\ttotal: 1s\tremaining: 865ms\n",
      "537:\tlearn: 0.0209479\ttotal: 1s\tremaining: 863ms\n",
      "538:\tlearn: 0.0209478\ttotal: 1.01s\tremaining: 861ms\n",
      "539:\tlearn: 0.0209477\ttotal: 1.01s\tremaining: 859ms\n",
      "540:\tlearn: 0.0209474\ttotal: 1.01s\tremaining: 857ms\n",
      "541:\tlearn: 0.0209472\ttotal: 1.01s\tremaining: 855ms\n",
      "542:\tlearn: 0.0209471\ttotal: 1.01s\tremaining: 854ms\n",
      "543:\tlearn: 0.0209469\ttotal: 1.02s\tremaining: 852ms\n",
      "544:\tlearn: 0.0209469\ttotal: 1.02s\tremaining: 850ms\n",
      "545:\tlearn: 0.0209468\ttotal: 1.02s\tremaining: 848ms\n",
      "546:\tlearn: 0.0209469\ttotal: 1.02s\tremaining: 846ms\n",
      "547:\tlearn: 0.0209468\ttotal: 1.02s\tremaining: 844ms\n",
      "548:\tlearn: 0.0209468\ttotal: 1.02s\tremaining: 842ms\n",
      "549:\tlearn: 0.0209467\ttotal: 1.03s\tremaining: 840ms\n",
      "550:\tlearn: 0.0209467\ttotal: 1.03s\tremaining: 838ms\n",
      "551:\tlearn: 0.0209467\ttotal: 1.03s\tremaining: 836ms\n",
      "552:\tlearn: 0.0209466\ttotal: 1.03s\tremaining: 834ms\n",
      "553:\tlearn: 0.0209465\ttotal: 1.03s\tremaining: 832ms\n",
      "554:\tlearn: 0.0209465\ttotal: 1.03s\tremaining: 831ms\n",
      "555:\tlearn: 0.0209465\ttotal: 1.04s\tremaining: 829ms\n",
      "556:\tlearn: 0.0209464\ttotal: 1.04s\tremaining: 827ms\n",
      "557:\tlearn: 0.0209463\ttotal: 1.04s\tremaining: 825ms\n",
      "558:\tlearn: 0.0209462\ttotal: 1.04s\tremaining: 823ms\n",
      "559:\tlearn: 0.0209462\ttotal: 1.04s\tremaining: 821ms\n",
      "560:\tlearn: 0.0209461\ttotal: 1.05s\tremaining: 819ms\n",
      "561:\tlearn: 0.0209460\ttotal: 1.05s\tremaining: 817ms\n",
      "562:\tlearn: 0.0209460\ttotal: 1.05s\tremaining: 815ms\n",
      "563:\tlearn: 0.0209459\ttotal: 1.05s\tremaining: 813ms\n",
      "564:\tlearn: 0.0209457\ttotal: 1.05s\tremaining: 812ms\n",
      "565:\tlearn: 0.0209457\ttotal: 1.06s\tremaining: 810ms\n",
      "566:\tlearn: 0.0209457\ttotal: 1.06s\tremaining: 808ms\n",
      "567:\tlearn: 0.0209457\ttotal: 1.06s\tremaining: 806ms\n",
      "568:\tlearn: 0.0209456\ttotal: 1.06s\tremaining: 804ms\n",
      "569:\tlearn: 0.0209456\ttotal: 1.06s\tremaining: 802ms\n",
      "570:\tlearn: 0.0209453\ttotal: 1.06s\tremaining: 801ms\n",
      "571:\tlearn: 0.0209453\ttotal: 1.07s\tremaining: 799ms\n",
      "572:\tlearn: 0.0209448\ttotal: 1.07s\tremaining: 797ms\n",
      "573:\tlearn: 0.0209447\ttotal: 1.07s\tremaining: 795ms\n",
      "574:\tlearn: 0.0209446\ttotal: 1.07s\tremaining: 793ms\n",
      "575:\tlearn: 0.0209446\ttotal: 1.07s\tremaining: 791ms\n",
      "576:\tlearn: 0.0209445\ttotal: 1.08s\tremaining: 789ms\n",
      "577:\tlearn: 0.0209444\ttotal: 1.08s\tremaining: 787ms\n",
      "578:\tlearn: 0.0209444\ttotal: 1.08s\tremaining: 785ms\n",
      "579:\tlearn: 0.0209443\ttotal: 1.08s\tremaining: 783ms\n",
      "580:\tlearn: 0.0209442\ttotal: 1.08s\tremaining: 781ms\n",
      "581:\tlearn: 0.0209442\ttotal: 1.08s\tremaining: 779ms\n",
      "582:\tlearn: 0.0209441\ttotal: 1.09s\tremaining: 778ms\n",
      "583:\tlearn: 0.0209439\ttotal: 1.09s\tremaining: 776ms\n",
      "584:\tlearn: 0.0209439\ttotal: 1.09s\tremaining: 774ms\n",
      "585:\tlearn: 0.0209439\ttotal: 1.09s\tremaining: 772ms\n",
      "586:\tlearn: 0.0209439\ttotal: 1.09s\tremaining: 770ms\n",
      "587:\tlearn: 0.0209438\ttotal: 1.1s\tremaining: 768ms\n",
      "588:\tlearn: 0.0209438\ttotal: 1.1s\tremaining: 766ms\n",
      "589:\tlearn: 0.0209431\ttotal: 1.1s\tremaining: 765ms\n",
      "590:\tlearn: 0.0209431\ttotal: 1.1s\tremaining: 763ms\n",
      "591:\tlearn: 0.0209429\ttotal: 1.1s\tremaining: 761ms\n",
      "592:\tlearn: 0.0209428\ttotal: 1.1s\tremaining: 759ms\n",
      "593:\tlearn: 0.0209426\ttotal: 1.11s\tremaining: 757ms\n",
      "594:\tlearn: 0.0209253\ttotal: 1.11s\tremaining: 755ms\n",
      "595:\tlearn: 0.0209252\ttotal: 1.11s\tremaining: 753ms\n",
      "596:\tlearn: 0.0209251\ttotal: 1.11s\tremaining: 751ms\n",
      "597:\tlearn: 0.0209250\ttotal: 1.11s\tremaining: 749ms\n",
      "598:\tlearn: 0.0209250\ttotal: 1.12s\tremaining: 747ms\n",
      "599:\tlearn: 0.0209247\ttotal: 1.12s\tremaining: 745ms\n",
      "600:\tlearn: 0.0209247\ttotal: 1.12s\tremaining: 744ms\n",
      "601:\tlearn: 0.0209247\ttotal: 1.12s\tremaining: 742ms\n",
      "602:\tlearn: 0.0209245\ttotal: 1.12s\tremaining: 740ms\n",
      "603:\tlearn: 0.0209245\ttotal: 1.13s\tremaining: 738ms\n",
      "604:\tlearn: 0.0209244\ttotal: 1.13s\tremaining: 736ms\n",
      "605:\tlearn: 0.0209243\ttotal: 1.13s\tremaining: 734ms\n",
      "606:\tlearn: 0.0209243\ttotal: 1.13s\tremaining: 732ms\n",
      "607:\tlearn: 0.0209243\ttotal: 1.13s\tremaining: 730ms\n",
      "608:\tlearn: 0.0209241\ttotal: 1.13s\tremaining: 728ms\n",
      "609:\tlearn: 0.0209239\ttotal: 1.14s\tremaining: 726ms\n",
      "610:\tlearn: 0.0209239\ttotal: 1.14s\tremaining: 724ms\n",
      "611:\tlearn: 0.0209238\ttotal: 1.14s\tremaining: 722ms\n",
      "612:\tlearn: 0.0209237\ttotal: 1.14s\tremaining: 720ms\n",
      "613:\tlearn: 0.0209236\ttotal: 1.14s\tremaining: 718ms\n",
      "614:\tlearn: 0.0209235\ttotal: 1.14s\tremaining: 716ms\n",
      "615:\tlearn: 0.0209233\ttotal: 1.15s\tremaining: 714ms\n",
      "616:\tlearn: 0.0209233\ttotal: 1.15s\tremaining: 713ms\n",
      "617:\tlearn: 0.0209233\ttotal: 1.15s\tremaining: 711ms\n",
      "618:\tlearn: 0.0209231\ttotal: 1.15s\tremaining: 709ms\n",
      "619:\tlearn: 0.0209230\ttotal: 1.15s\tremaining: 707ms\n",
      "620:\tlearn: 0.0209228\ttotal: 1.16s\tremaining: 705ms\n",
      "621:\tlearn: 0.0209229\ttotal: 1.16s\tremaining: 703ms\n",
      "622:\tlearn: 0.0209228\ttotal: 1.16s\tremaining: 701ms\n",
      "623:\tlearn: 0.0209228\ttotal: 1.16s\tremaining: 699ms\n",
      "624:\tlearn: 0.0209226\ttotal: 1.16s\tremaining: 698ms\n",
      "625:\tlearn: 0.0209226\ttotal: 1.16s\tremaining: 696ms\n",
      "626:\tlearn: 0.0209225\ttotal: 1.17s\tremaining: 694ms\n",
      "627:\tlearn: 0.0209223\ttotal: 1.17s\tremaining: 692ms\n",
      "628:\tlearn: 0.0209219\ttotal: 1.17s\tremaining: 690ms\n",
      "629:\tlearn: 0.0209218\ttotal: 1.17s\tremaining: 688ms\n",
      "630:\tlearn: 0.0209218\ttotal: 1.17s\tremaining: 686ms\n",
      "631:\tlearn: 0.0209217\ttotal: 1.17s\tremaining: 684ms\n",
      "632:\tlearn: 0.0209215\ttotal: 1.18s\tremaining: 682ms\n",
      "633:\tlearn: 0.0209214\ttotal: 1.18s\tremaining: 680ms\n",
      "634:\tlearn: 0.0209214\ttotal: 1.18s\tremaining: 678ms\n",
      "635:\tlearn: 0.0209214\ttotal: 1.18s\tremaining: 676ms\n",
      "636:\tlearn: 0.0209213\ttotal: 1.18s\tremaining: 675ms\n",
      "637:\tlearn: 0.0209212\ttotal: 1.19s\tremaining: 673ms\n",
      "638:\tlearn: 0.0209212\ttotal: 1.19s\tremaining: 671ms\n",
      "639:\tlearn: 0.0209209\ttotal: 1.19s\tremaining: 669ms\n",
      "640:\tlearn: 0.0209207\ttotal: 1.19s\tremaining: 667ms\n",
      "641:\tlearn: 0.0209208\ttotal: 1.19s\tremaining: 665ms\n",
      "642:\tlearn: 0.0209206\ttotal: 1.19s\tremaining: 663ms\n",
      "643:\tlearn: 0.0209205\ttotal: 1.2s\tremaining: 661ms\n",
      "644:\tlearn: 0.0209203\ttotal: 1.2s\tremaining: 659ms\n",
      "645:\tlearn: 0.0209204\ttotal: 1.2s\tremaining: 657ms\n",
      "646:\tlearn: 0.0209200\ttotal: 1.2s\tremaining: 656ms\n",
      "647:\tlearn: 0.0209198\ttotal: 1.2s\tremaining: 654ms\n",
      "648:\tlearn: 0.0209197\ttotal: 1.21s\tremaining: 652ms\n",
      "649:\tlearn: 0.0209196\ttotal: 1.21s\tremaining: 650ms\n",
      "650:\tlearn: 0.0209193\ttotal: 1.21s\tremaining: 648ms\n",
      "651:\tlearn: 0.0209193\ttotal: 1.21s\tremaining: 646ms\n",
      "652:\tlearn: 0.0209192\ttotal: 1.21s\tremaining: 644ms\n",
      "653:\tlearn: 0.0209193\ttotal: 1.21s\tremaining: 642ms\n",
      "654:\tlearn: 0.0209190\ttotal: 1.22s\tremaining: 640ms\n",
      "655:\tlearn: 0.0209189\ttotal: 1.22s\tremaining: 638ms\n",
      "656:\tlearn: 0.0209188\ttotal: 1.22s\tremaining: 636ms\n",
      "657:\tlearn: 0.0209188\ttotal: 1.22s\tremaining: 635ms\n",
      "658:\tlearn: 0.0209187\ttotal: 1.22s\tremaining: 633ms\n",
      "659:\tlearn: 0.0209186\ttotal: 1.22s\tremaining: 631ms\n",
      "660:\tlearn: 0.0209186\ttotal: 1.23s\tremaining: 629ms\n",
      "661:\tlearn: 0.0209185\ttotal: 1.23s\tremaining: 627ms\n",
      "662:\tlearn: 0.0209184\ttotal: 1.23s\tremaining: 625ms\n",
      "663:\tlearn: 0.0209183\ttotal: 1.23s\tremaining: 623ms\n",
      "664:\tlearn: 0.0209183\ttotal: 1.23s\tremaining: 622ms\n",
      "665:\tlearn: 0.0209183\ttotal: 1.24s\tremaining: 620ms\n",
      "666:\tlearn: 0.0209182\ttotal: 1.24s\tremaining: 618ms\n",
      "667:\tlearn: 0.0209182\ttotal: 1.24s\tremaining: 616ms\n",
      "668:\tlearn: 0.0209179\ttotal: 1.24s\tremaining: 614ms\n",
      "669:\tlearn: 0.0209178\ttotal: 1.24s\tremaining: 612ms\n",
      "670:\tlearn: 0.0209177\ttotal: 1.24s\tremaining: 610ms\n",
      "671:\tlearn: 0.0209176\ttotal: 1.25s\tremaining: 608ms\n",
      "672:\tlearn: 0.0209173\ttotal: 1.25s\tremaining: 607ms\n",
      "673:\tlearn: 0.0209173\ttotal: 1.25s\tremaining: 605ms\n",
      "674:\tlearn: 0.0209172\ttotal: 1.25s\tremaining: 603ms\n",
      "675:\tlearn: 0.0209172\ttotal: 1.25s\tremaining: 601ms\n",
      "676:\tlearn: 0.0209172\ttotal: 1.25s\tremaining: 599ms\n",
      "677:\tlearn: 0.0209171\ttotal: 1.26s\tremaining: 597ms\n",
      "678:\tlearn: 0.0209170\ttotal: 1.26s\tremaining: 595ms\n",
      "679:\tlearn: 0.0209170\ttotal: 1.26s\tremaining: 593ms\n",
      "680:\tlearn: 0.0209169\ttotal: 1.26s\tremaining: 591ms\n",
      "681:\tlearn: 0.0209169\ttotal: 1.26s\tremaining: 589ms\n",
      "682:\tlearn: 0.0209170\ttotal: 1.26s\tremaining: 587ms\n",
      "683:\tlearn: 0.0209170\ttotal: 1.27s\tremaining: 586ms\n",
      "684:\tlearn: 0.0209168\ttotal: 1.27s\tremaining: 584ms\n",
      "685:\tlearn: 0.0209166\ttotal: 1.27s\tremaining: 582ms\n",
      "686:\tlearn: 0.0209165\ttotal: 1.27s\tremaining: 580ms\n",
      "687:\tlearn: 0.0209164\ttotal: 1.27s\tremaining: 578ms\n",
      "688:\tlearn: 0.0209159\ttotal: 1.28s\tremaining: 576ms\n",
      "689:\tlearn: 0.0209158\ttotal: 1.28s\tremaining: 574ms\n",
      "690:\tlearn: 0.0209158\ttotal: 1.28s\tremaining: 573ms\n",
      "691:\tlearn: 0.0209156\ttotal: 1.28s\tremaining: 571ms\n",
      "692:\tlearn: 0.0209156\ttotal: 1.28s\tremaining: 569ms\n",
      "693:\tlearn: 0.0209154\ttotal: 1.28s\tremaining: 567ms\n",
      "694:\tlearn: 0.0209154\ttotal: 1.29s\tremaining: 565ms\n",
      "695:\tlearn: 0.0209154\ttotal: 1.29s\tremaining: 563ms\n",
      "696:\tlearn: 0.0209153\ttotal: 1.29s\tremaining: 561ms\n",
      "697:\tlearn: 0.0209153\ttotal: 1.29s\tremaining: 559ms\n",
      "698:\tlearn: 0.0209152\ttotal: 1.29s\tremaining: 558ms\n",
      "699:\tlearn: 0.0209151\ttotal: 1.3s\tremaining: 556ms\n",
      "700:\tlearn: 0.0209145\ttotal: 1.3s\tremaining: 554ms\n",
      "701:\tlearn: 0.0209143\ttotal: 1.3s\tremaining: 552ms\n",
      "702:\tlearn: 0.0209143\ttotal: 1.3s\tremaining: 550ms\n",
      "703:\tlearn: 0.0209143\ttotal: 1.3s\tremaining: 548ms\n",
      "704:\tlearn: 0.0209143\ttotal: 1.3s\tremaining: 546ms\n",
      "705:\tlearn: 0.0209142\ttotal: 1.31s\tremaining: 544ms\n",
      "706:\tlearn: 0.0209140\ttotal: 1.31s\tremaining: 543ms\n",
      "707:\tlearn: 0.0209139\ttotal: 1.31s\tremaining: 541ms\n",
      "708:\tlearn: 0.0209139\ttotal: 1.31s\tremaining: 539ms\n",
      "709:\tlearn: 0.0209140\ttotal: 1.31s\tremaining: 537ms\n",
      "710:\tlearn: 0.0209139\ttotal: 1.31s\tremaining: 535ms\n",
      "711:\tlearn: 0.0209139\ttotal: 1.32s\tremaining: 533ms\n",
      "712:\tlearn: 0.0209137\ttotal: 1.32s\tremaining: 531ms\n",
      "713:\tlearn: 0.0209137\ttotal: 1.32s\tremaining: 529ms\n",
      "714:\tlearn: 0.0209136\ttotal: 1.32s\tremaining: 527ms\n",
      "715:\tlearn: 0.0209135\ttotal: 1.32s\tremaining: 525ms\n",
      "716:\tlearn: 0.0209135\ttotal: 1.33s\tremaining: 523ms\n",
      "717:\tlearn: 0.0209133\ttotal: 1.33s\tremaining: 521ms\n",
      "718:\tlearn: 0.0209133\ttotal: 1.33s\tremaining: 519ms\n",
      "719:\tlearn: 0.0209133\ttotal: 1.33s\tremaining: 518ms\n",
      "720:\tlearn: 0.0209133\ttotal: 1.33s\tremaining: 516ms\n",
      "721:\tlearn: 0.0209132\ttotal: 1.33s\tremaining: 514ms\n",
      "722:\tlearn: 0.0209132\ttotal: 1.34s\tremaining: 512ms\n",
      "723:\tlearn: 0.0209132\ttotal: 1.34s\tremaining: 510ms\n",
      "724:\tlearn: 0.0209131\ttotal: 1.34s\tremaining: 508ms\n",
      "725:\tlearn: 0.0209128\ttotal: 1.34s\tremaining: 506ms\n",
      "726:\tlearn: 0.0209128\ttotal: 1.34s\tremaining: 504ms\n",
      "727:\tlearn: 0.0209124\ttotal: 1.34s\tremaining: 502ms\n",
      "728:\tlearn: 0.0209123\ttotal: 1.35s\tremaining: 501ms\n",
      "729:\tlearn: 0.0209123\ttotal: 1.35s\tremaining: 499ms\n",
      "730:\tlearn: 0.0209120\ttotal: 1.35s\tremaining: 497ms\n",
      "731:\tlearn: 0.0209120\ttotal: 1.35s\tremaining: 495ms\n",
      "732:\tlearn: 0.0209119\ttotal: 1.35s\tremaining: 493ms\n",
      "733:\tlearn: 0.0209118\ttotal: 1.35s\tremaining: 491ms\n",
      "734:\tlearn: 0.0209118\ttotal: 1.36s\tremaining: 489ms\n",
      "735:\tlearn: 0.0209118\ttotal: 1.36s\tremaining: 487ms\n",
      "736:\tlearn: 0.0209117\ttotal: 1.36s\tremaining: 486ms\n",
      "737:\tlearn: 0.0209116\ttotal: 1.36s\tremaining: 484ms\n",
      "738:\tlearn: 0.0209116\ttotal: 1.36s\tremaining: 482ms\n",
      "739:\tlearn: 0.0209116\ttotal: 1.37s\tremaining: 480ms\n",
      "740:\tlearn: 0.0209116\ttotal: 1.37s\tremaining: 478ms\n",
      "741:\tlearn: 0.0209115\ttotal: 1.37s\tremaining: 476ms\n",
      "742:\tlearn: 0.0209115\ttotal: 1.37s\tremaining: 474ms\n",
      "743:\tlearn: 0.0209114\ttotal: 1.37s\tremaining: 472ms\n",
      "744:\tlearn: 0.0209114\ttotal: 1.37s\tremaining: 471ms\n",
      "745:\tlearn: 0.0209112\ttotal: 1.38s\tremaining: 469ms\n",
      "746:\tlearn: 0.0209111\ttotal: 1.38s\tremaining: 467ms\n",
      "747:\tlearn: 0.0209110\ttotal: 1.38s\tremaining: 465ms\n",
      "748:\tlearn: 0.0209109\ttotal: 1.38s\tremaining: 463ms\n",
      "749:\tlearn: 0.0209108\ttotal: 1.38s\tremaining: 461ms\n",
      "750:\tlearn: 0.0209108\ttotal: 1.39s\tremaining: 459ms\n",
      "751:\tlearn: 0.0209107\ttotal: 1.39s\tremaining: 457ms\n",
      "752:\tlearn: 0.0209107\ttotal: 1.39s\tremaining: 456ms\n",
      "753:\tlearn: 0.0209107\ttotal: 1.39s\tremaining: 454ms\n",
      "754:\tlearn: 0.0209106\ttotal: 1.39s\tremaining: 452ms\n",
      "755:\tlearn: 0.0209106\ttotal: 1.39s\tremaining: 450ms\n",
      "756:\tlearn: 0.0209106\ttotal: 1.4s\tremaining: 448ms\n",
      "757:\tlearn: 0.0209106\ttotal: 1.4s\tremaining: 446ms\n",
      "758:\tlearn: 0.0209105\ttotal: 1.4s\tremaining: 444ms\n",
      "759:\tlearn: 0.0209105\ttotal: 1.4s\tremaining: 442ms\n",
      "760:\tlearn: 0.0209106\ttotal: 1.4s\tremaining: 440ms\n",
      "761:\tlearn: 0.0209105\ttotal: 1.4s\tremaining: 438ms\n",
      "762:\tlearn: 0.0209104\ttotal: 1.41s\tremaining: 437ms\n",
      "763:\tlearn: 0.0209104\ttotal: 1.41s\tremaining: 435ms\n",
      "764:\tlearn: 0.0209104\ttotal: 1.41s\tremaining: 433ms\n",
      "765:\tlearn: 0.0209104\ttotal: 1.41s\tremaining: 431ms\n",
      "766:\tlearn: 0.0209104\ttotal: 1.41s\tremaining: 429ms\n",
      "767:\tlearn: 0.0209104\ttotal: 1.41s\tremaining: 427ms\n",
      "768:\tlearn: 0.0209103\ttotal: 1.42s\tremaining: 425ms\n",
      "769:\tlearn: 0.0209104\ttotal: 1.42s\tremaining: 423ms\n",
      "770:\tlearn: 0.0209103\ttotal: 1.42s\tremaining: 422ms\n",
      "771:\tlearn: 0.0209102\ttotal: 1.42s\tremaining: 420ms\n",
      "772:\tlearn: 0.0209102\ttotal: 1.42s\tremaining: 418ms\n",
      "773:\tlearn: 0.0209101\ttotal: 1.43s\tremaining: 416ms\n",
      "774:\tlearn: 0.0209102\ttotal: 1.43s\tremaining: 414ms\n",
      "775:\tlearn: 0.0209100\ttotal: 1.43s\tremaining: 412ms\n",
      "776:\tlearn: 0.0209099\ttotal: 1.43s\tremaining: 411ms\n",
      "777:\tlearn: 0.0209100\ttotal: 1.43s\tremaining: 409ms\n",
      "778:\tlearn: 0.0209100\ttotal: 1.43s\tremaining: 407ms\n",
      "779:\tlearn: 0.0209100\ttotal: 1.44s\tremaining: 405ms\n",
      "780:\tlearn: 0.0209099\ttotal: 1.44s\tremaining: 403ms\n",
      "781:\tlearn: 0.0209098\ttotal: 1.44s\tremaining: 401ms\n",
      "782:\tlearn: 0.0209098\ttotal: 1.44s\tremaining: 399ms\n",
      "783:\tlearn: 0.0209098\ttotal: 1.44s\tremaining: 397ms\n",
      "784:\tlearn: 0.0209097\ttotal: 1.44s\tremaining: 396ms\n",
      "785:\tlearn: 0.0209097\ttotal: 1.45s\tremaining: 394ms\n",
      "786:\tlearn: 0.0209097\ttotal: 1.45s\tremaining: 392ms\n",
      "787:\tlearn: 0.0209096\ttotal: 1.45s\tremaining: 390ms\n",
      "788:\tlearn: 0.0209095\ttotal: 1.45s\tremaining: 388ms\n",
      "789:\tlearn: 0.0209094\ttotal: 1.45s\tremaining: 386ms\n",
      "790:\tlearn: 0.0209094\ttotal: 1.45s\tremaining: 384ms\n",
      "791:\tlearn: 0.0209093\ttotal: 1.46s\tremaining: 383ms\n",
      "792:\tlearn: 0.0209092\ttotal: 1.46s\tremaining: 381ms\n",
      "793:\tlearn: 0.0209091\ttotal: 1.46s\tremaining: 379ms\n",
      "794:\tlearn: 0.0209092\ttotal: 1.46s\tremaining: 377ms\n",
      "795:\tlearn: 0.0209091\ttotal: 1.46s\tremaining: 375ms\n",
      "796:\tlearn: 0.0209090\ttotal: 1.47s\tremaining: 373ms\n",
      "797:\tlearn: 0.0209090\ttotal: 1.47s\tremaining: 372ms\n",
      "798:\tlearn: 0.0209090\ttotal: 1.47s\tremaining: 370ms\n",
      "799:\tlearn: 0.0209089\ttotal: 1.47s\tremaining: 368ms\n",
      "800:\tlearn: 0.0209089\ttotal: 1.47s\tremaining: 366ms\n",
      "801:\tlearn: 0.0209088\ttotal: 1.48s\tremaining: 364ms\n",
      "802:\tlearn: 0.0209088\ttotal: 1.48s\tremaining: 362ms\n",
      "803:\tlearn: 0.0209087\ttotal: 1.48s\tremaining: 361ms\n",
      "804:\tlearn: 0.0209087\ttotal: 1.48s\tremaining: 359ms\n",
      "805:\tlearn: 0.0209087\ttotal: 1.48s\tremaining: 357ms\n",
      "806:\tlearn: 0.0209087\ttotal: 1.48s\tremaining: 355ms\n",
      "807:\tlearn: 0.0209087\ttotal: 1.49s\tremaining: 353ms\n",
      "808:\tlearn: 0.0209086\ttotal: 1.49s\tremaining: 351ms\n",
      "809:\tlearn: 0.0209086\ttotal: 1.49s\tremaining: 349ms\n",
      "810:\tlearn: 0.0209085\ttotal: 1.49s\tremaining: 348ms\n",
      "811:\tlearn: 0.0209084\ttotal: 1.49s\tremaining: 346ms\n",
      "812:\tlearn: 0.0209084\ttotal: 1.49s\tremaining: 344ms\n",
      "813:\tlearn: 0.0209083\ttotal: 1.5s\tremaining: 342ms\n",
      "814:\tlearn: 0.0209082\ttotal: 1.5s\tremaining: 340ms\n",
      "815:\tlearn: 0.0209082\ttotal: 1.5s\tremaining: 338ms\n",
      "816:\tlearn: 0.0209081\ttotal: 1.5s\tremaining: 336ms\n",
      "817:\tlearn: 0.0209082\ttotal: 1.5s\tremaining: 335ms\n",
      "818:\tlearn: 0.0209082\ttotal: 1.5s\tremaining: 333ms\n",
      "819:\tlearn: 0.0209078\ttotal: 1.51s\tremaining: 331ms\n",
      "820:\tlearn: 0.0209077\ttotal: 1.51s\tremaining: 329ms\n",
      "821:\tlearn: 0.0209076\ttotal: 1.51s\tremaining: 327ms\n",
      "822:\tlearn: 0.0209076\ttotal: 1.51s\tremaining: 325ms\n",
      "823:\tlearn: 0.0209075\ttotal: 1.51s\tremaining: 323ms\n",
      "824:\tlearn: 0.0209075\ttotal: 1.51s\tremaining: 322ms\n",
      "825:\tlearn: 0.0209074\ttotal: 1.52s\tremaining: 320ms\n",
      "826:\tlearn: 0.0209073\ttotal: 1.52s\tremaining: 318ms\n",
      "827:\tlearn: 0.0209073\ttotal: 1.52s\tremaining: 316ms\n",
      "828:\tlearn: 0.0209073\ttotal: 1.52s\tremaining: 314ms\n",
      "829:\tlearn: 0.0209073\ttotal: 1.52s\tremaining: 312ms\n",
      "830:\tlearn: 0.0209073\ttotal: 1.53s\tremaining: 310ms\n",
      "831:\tlearn: 0.0209072\ttotal: 1.53s\tremaining: 309ms\n",
      "832:\tlearn: 0.0209072\ttotal: 1.53s\tremaining: 307ms\n",
      "833:\tlearn: 0.0209070\ttotal: 1.53s\tremaining: 305ms\n",
      "834:\tlearn: 0.0209069\ttotal: 1.53s\tremaining: 303ms\n",
      "835:\tlearn: 0.0209065\ttotal: 1.53s\tremaining: 301ms\n",
      "836:\tlearn: 0.0209064\ttotal: 1.54s\tremaining: 299ms\n",
      "837:\tlearn: 0.0209064\ttotal: 1.54s\tremaining: 298ms\n",
      "838:\tlearn: 0.0209064\ttotal: 1.54s\tremaining: 296ms\n",
      "839:\tlearn: 0.0209063\ttotal: 1.54s\tremaining: 294ms\n",
      "840:\tlearn: 0.0209064\ttotal: 1.54s\tremaining: 292ms\n",
      "841:\tlearn: 0.0209064\ttotal: 1.55s\tremaining: 290ms\n",
      "842:\tlearn: 0.0209063\ttotal: 1.55s\tremaining: 288ms\n",
      "843:\tlearn: 0.0209061\ttotal: 1.55s\tremaining: 286ms\n",
      "844:\tlearn: 0.0209060\ttotal: 1.55s\tremaining: 285ms\n",
      "845:\tlearn: 0.0209060\ttotal: 1.55s\tremaining: 283ms\n",
      "846:\tlearn: 0.0209059\ttotal: 1.55s\tremaining: 281ms\n",
      "847:\tlearn: 0.0209059\ttotal: 1.56s\tremaining: 279ms\n",
      "848:\tlearn: 0.0209059\ttotal: 1.56s\tremaining: 277ms\n",
      "849:\tlearn: 0.0209058\ttotal: 1.56s\tremaining: 275ms\n",
      "850:\tlearn: 0.0209057\ttotal: 1.56s\tremaining: 274ms\n",
      "851:\tlearn: 0.0209057\ttotal: 1.56s\tremaining: 272ms\n",
      "852:\tlearn: 0.0209056\ttotal: 1.56s\tremaining: 270ms\n",
      "853:\tlearn: 0.0209055\ttotal: 1.57s\tremaining: 268ms\n",
      "854:\tlearn: 0.0209055\ttotal: 1.57s\tremaining: 266ms\n",
      "855:\tlearn: 0.0209054\ttotal: 1.57s\tremaining: 264ms\n",
      "856:\tlearn: 0.0209052\ttotal: 1.57s\tremaining: 262ms\n",
      "857:\tlearn: 0.0209052\ttotal: 1.57s\tremaining: 261ms\n",
      "858:\tlearn: 0.0209052\ttotal: 1.58s\tremaining: 259ms\n",
      "859:\tlearn: 0.0209052\ttotal: 1.58s\tremaining: 257ms\n",
      "860:\tlearn: 0.0209051\ttotal: 1.58s\tremaining: 255ms\n",
      "861:\tlearn: 0.0209051\ttotal: 1.58s\tremaining: 253ms\n",
      "862:\tlearn: 0.0209050\ttotal: 1.58s\tremaining: 251ms\n",
      "863:\tlearn: 0.0209049\ttotal: 1.58s\tremaining: 250ms\n",
      "864:\tlearn: 0.0209047\ttotal: 1.59s\tremaining: 248ms\n",
      "865:\tlearn: 0.0209046\ttotal: 1.59s\tremaining: 246ms\n",
      "866:\tlearn: 0.0209046\ttotal: 1.59s\tremaining: 244ms\n",
      "867:\tlearn: 0.0209046\ttotal: 1.59s\tremaining: 242ms\n",
      "868:\tlearn: 0.0209046\ttotal: 1.59s\tremaining: 240ms\n",
      "869:\tlearn: 0.0209045\ttotal: 1.6s\tremaining: 238ms\n",
      "870:\tlearn: 0.0209045\ttotal: 1.6s\tremaining: 237ms\n",
      "871:\tlearn: 0.0209044\ttotal: 1.6s\tremaining: 235ms\n",
      "872:\tlearn: 0.0209045\ttotal: 1.6s\tremaining: 233ms\n",
      "873:\tlearn: 0.0209044\ttotal: 1.6s\tremaining: 231ms\n",
      "874:\tlearn: 0.0209044\ttotal: 1.6s\tremaining: 229ms\n",
      "875:\tlearn: 0.0209044\ttotal: 1.61s\tremaining: 227ms\n",
      "876:\tlearn: 0.0209043\ttotal: 1.61s\tremaining: 226ms\n",
      "877:\tlearn: 0.0209043\ttotal: 1.61s\tremaining: 224ms\n",
      "878:\tlearn: 0.0209043\ttotal: 1.61s\tremaining: 222ms\n",
      "879:\tlearn: 0.0209043\ttotal: 1.61s\tremaining: 220ms\n",
      "880:\tlearn: 0.0209040\ttotal: 1.61s\tremaining: 218ms\n",
      "881:\tlearn: 0.0209039\ttotal: 1.62s\tremaining: 216ms\n",
      "882:\tlearn: 0.0209040\ttotal: 1.62s\tremaining: 215ms\n",
      "883:\tlearn: 0.0209039\ttotal: 1.62s\tremaining: 213ms\n",
      "884:\tlearn: 0.0209039\ttotal: 1.62s\tremaining: 211ms\n",
      "885:\tlearn: 0.0209038\ttotal: 1.62s\tremaining: 209ms\n",
      "886:\tlearn: 0.0209038\ttotal: 1.63s\tremaining: 207ms\n",
      "887:\tlearn: 0.0209038\ttotal: 1.63s\tremaining: 205ms\n",
      "888:\tlearn: 0.0209037\ttotal: 1.63s\tremaining: 203ms\n",
      "889:\tlearn: 0.0209036\ttotal: 1.63s\tremaining: 202ms\n",
      "890:\tlearn: 0.0209036\ttotal: 1.63s\tremaining: 200ms\n",
      "891:\tlearn: 0.0209035\ttotal: 1.64s\tremaining: 198ms\n",
      "892:\tlearn: 0.0209034\ttotal: 1.64s\tremaining: 196ms\n",
      "893:\tlearn: 0.0209030\ttotal: 1.64s\tremaining: 194ms\n",
      "894:\tlearn: 0.0209028\ttotal: 1.64s\tremaining: 192ms\n",
      "895:\tlearn: 0.0209028\ttotal: 1.64s\tremaining: 191ms\n",
      "896:\tlearn: 0.0209027\ttotal: 1.64s\tremaining: 189ms\n",
      "897:\tlearn: 0.0209027\ttotal: 1.65s\tremaining: 187ms\n",
      "898:\tlearn: 0.0209026\ttotal: 1.65s\tremaining: 185ms\n",
      "899:\tlearn: 0.0209026\ttotal: 1.65s\tremaining: 183ms\n",
      "900:\tlearn: 0.0209026\ttotal: 1.65s\tremaining: 181ms\n",
      "901:\tlearn: 0.0209026\ttotal: 1.65s\tremaining: 180ms\n",
      "902:\tlearn: 0.0209024\ttotal: 1.65s\tremaining: 178ms\n",
      "903:\tlearn: 0.0209023\ttotal: 1.66s\tremaining: 176ms\n",
      "904:\tlearn: 0.0209023\ttotal: 1.66s\tremaining: 174ms\n",
      "905:\tlearn: 0.0209022\ttotal: 1.66s\tremaining: 172ms\n",
      "906:\tlearn: 0.0209021\ttotal: 1.66s\tremaining: 170ms\n",
      "907:\tlearn: 0.0209020\ttotal: 1.66s\tremaining: 169ms\n",
      "908:\tlearn: 0.0209018\ttotal: 1.67s\tremaining: 167ms\n",
      "909:\tlearn: 0.0209016\ttotal: 1.67s\tremaining: 165ms\n",
      "910:\tlearn: 0.0209016\ttotal: 1.67s\tremaining: 163ms\n",
      "911:\tlearn: 0.0209016\ttotal: 1.67s\tremaining: 161ms\n",
      "912:\tlearn: 0.0209016\ttotal: 1.67s\tremaining: 159ms\n",
      "913:\tlearn: 0.0209015\ttotal: 1.67s\tremaining: 158ms\n",
      "914:\tlearn: 0.0209014\ttotal: 1.68s\tremaining: 156ms\n",
      "915:\tlearn: 0.0209013\ttotal: 1.68s\tremaining: 154ms\n",
      "916:\tlearn: 0.0209013\ttotal: 1.68s\tremaining: 152ms\n",
      "917:\tlearn: 0.0209012\ttotal: 1.68s\tremaining: 150ms\n",
      "918:\tlearn: 0.0209011\ttotal: 1.68s\tremaining: 148ms\n",
      "919:\tlearn: 0.0209010\ttotal: 1.69s\tremaining: 147ms\n",
      "920:\tlearn: 0.0209010\ttotal: 1.69s\tremaining: 145ms\n",
      "921:\tlearn: 0.0209009\ttotal: 1.69s\tremaining: 143ms\n",
      "922:\tlearn: 0.0209009\ttotal: 1.69s\tremaining: 141ms\n",
      "923:\tlearn: 0.0209008\ttotal: 1.69s\tremaining: 139ms\n",
      "924:\tlearn: 0.0209008\ttotal: 1.69s\tremaining: 137ms\n",
      "925:\tlearn: 0.0209007\ttotal: 1.7s\tremaining: 136ms\n",
      "926:\tlearn: 0.0209006\ttotal: 1.7s\tremaining: 134ms\n",
      "927:\tlearn: 0.0209006\ttotal: 1.7s\tremaining: 132ms\n",
      "928:\tlearn: 0.0209006\ttotal: 1.7s\tremaining: 130ms\n",
      "929:\tlearn: 0.0209001\ttotal: 1.7s\tremaining: 128ms\n",
      "930:\tlearn: 0.0208999\ttotal: 1.7s\tremaining: 126ms\n",
      "931:\tlearn: 0.0208996\ttotal: 1.71s\tremaining: 125ms\n",
      "932:\tlearn: 0.0208995\ttotal: 1.71s\tremaining: 123ms\n",
      "933:\tlearn: 0.0208993\ttotal: 1.71s\tremaining: 121ms\n",
      "934:\tlearn: 0.0208984\ttotal: 1.71s\tremaining: 119ms\n",
      "935:\tlearn: 0.0208983\ttotal: 1.71s\tremaining: 117ms\n",
      "936:\tlearn: 0.0208983\ttotal: 1.72s\tremaining: 115ms\n",
      "937:\tlearn: 0.0208983\ttotal: 1.72s\tremaining: 114ms\n",
      "938:\tlearn: 0.0208978\ttotal: 1.72s\tremaining: 112ms\n",
      "939:\tlearn: 0.0208975\ttotal: 1.72s\tremaining: 110ms\n",
      "940:\tlearn: 0.0208974\ttotal: 1.72s\tremaining: 108ms\n",
      "941:\tlearn: 0.0208974\ttotal: 1.72s\tremaining: 106ms\n",
      "942:\tlearn: 0.0208973\ttotal: 1.73s\tremaining: 104ms\n",
      "943:\tlearn: 0.0208972\ttotal: 1.73s\tremaining: 103ms\n",
      "944:\tlearn: 0.0208972\ttotal: 1.73s\tremaining: 101ms\n",
      "945:\tlearn: 0.0208971\ttotal: 1.73s\tremaining: 98.9ms\n",
      "946:\tlearn: 0.0208970\ttotal: 1.73s\tremaining: 97ms\n",
      "947:\tlearn: 0.0208970\ttotal: 1.74s\tremaining: 95.2ms\n",
      "948:\tlearn: 0.0208971\ttotal: 1.74s\tremaining: 93.4ms\n",
      "949:\tlearn: 0.0208970\ttotal: 1.74s\tremaining: 91.5ms\n",
      "950:\tlearn: 0.0208970\ttotal: 1.74s\tremaining: 89.7ms\n",
      "951:\tlearn: 0.0208969\ttotal: 1.74s\tremaining: 87.8ms\n",
      "952:\tlearn: 0.0208968\ttotal: 1.74s\tremaining: 86ms\n",
      "953:\tlearn: 0.0208968\ttotal: 1.75s\tremaining: 84.2ms\n",
      "954:\tlearn: 0.0208967\ttotal: 1.75s\tremaining: 82.3ms\n",
      "955:\tlearn: 0.0208967\ttotal: 1.75s\tremaining: 80.5ms\n",
      "956:\tlearn: 0.0208966\ttotal: 1.75s\tremaining: 78.7ms\n",
      "957:\tlearn: 0.0208965\ttotal: 1.75s\tremaining: 76.9ms\n",
      "958:\tlearn: 0.0208964\ttotal: 1.75s\tremaining: 75ms\n",
      "959:\tlearn: 0.0208963\ttotal: 1.76s\tremaining: 73.2ms\n",
      "960:\tlearn: 0.0208960\ttotal: 1.76s\tremaining: 71.4ms\n",
      "961:\tlearn: 0.0208959\ttotal: 1.76s\tremaining: 69.5ms\n",
      "962:\tlearn: 0.0208959\ttotal: 1.76s\tremaining: 67.7ms\n",
      "963:\tlearn: 0.0208951\ttotal: 1.76s\tremaining: 65.9ms\n",
      "964:\tlearn: 0.0208951\ttotal: 1.76s\tremaining: 64ms\n",
      "965:\tlearn: 0.0208951\ttotal: 1.77s\tremaining: 62.2ms\n",
      "966:\tlearn: 0.0208949\ttotal: 1.77s\tremaining: 60.4ms\n",
      "967:\tlearn: 0.0208949\ttotal: 1.77s\tremaining: 58.6ms\n",
      "968:\tlearn: 0.0208948\ttotal: 1.77s\tremaining: 56.7ms\n",
      "969:\tlearn: 0.0208947\ttotal: 1.77s\tremaining: 54.9ms\n",
      "970:\tlearn: 0.0208947\ttotal: 1.78s\tremaining: 53.1ms\n",
      "971:\tlearn: 0.0208947\ttotal: 1.78s\tremaining: 51.2ms\n",
      "972:\tlearn: 0.0208946\ttotal: 1.78s\tremaining: 49.4ms\n",
      "973:\tlearn: 0.0208946\ttotal: 1.78s\tremaining: 47.6ms\n",
      "974:\tlearn: 0.0208946\ttotal: 1.78s\tremaining: 45.7ms\n",
      "975:\tlearn: 0.0208946\ttotal: 1.78s\tremaining: 43.9ms\n",
      "976:\tlearn: 0.0208946\ttotal: 1.79s\tremaining: 42.1ms\n",
      "977:\tlearn: 0.0208945\ttotal: 1.79s\tremaining: 40.2ms\n",
      "978:\tlearn: 0.0208945\ttotal: 1.79s\tremaining: 38.4ms\n",
      "979:\tlearn: 0.0208945\ttotal: 1.79s\tremaining: 36.6ms\n",
      "980:\tlearn: 0.0208944\ttotal: 1.79s\tremaining: 34.8ms\n",
      "981:\tlearn: 0.0208944\ttotal: 1.8s\tremaining: 32.9ms\n",
      "982:\tlearn: 0.0208943\ttotal: 1.8s\tremaining: 31.1ms\n",
      "983:\tlearn: 0.0208941\ttotal: 1.8s\tremaining: 29.3ms\n",
      "984:\tlearn: 0.0208939\ttotal: 1.8s\tremaining: 27.4ms\n",
      "985:\tlearn: 0.0208932\ttotal: 1.8s\tremaining: 25.6ms\n",
      "986:\tlearn: 0.0208931\ttotal: 1.8s\tremaining: 23.8ms\n",
      "987:\tlearn: 0.0208931\ttotal: 1.81s\tremaining: 21.9ms\n",
      "988:\tlearn: 0.0208931\ttotal: 1.81s\tremaining: 20.1ms\n",
      "989:\tlearn: 0.0208931\ttotal: 1.81s\tremaining: 18.3ms\n",
      "990:\tlearn: 0.0208931\ttotal: 1.81s\tremaining: 16.5ms\n",
      "991:\tlearn: 0.0208930\ttotal: 1.81s\tremaining: 14.6ms\n",
      "992:\tlearn: 0.0208930\ttotal: 1.82s\tremaining: 12.8ms\n",
      "993:\tlearn: 0.0208929\ttotal: 1.82s\tremaining: 11ms\n",
      "994:\tlearn: 0.0208929\ttotal: 1.82s\tremaining: 9.14ms\n",
      "995:\tlearn: 0.0208928\ttotal: 1.82s\tremaining: 7.32ms\n",
      "996:\tlearn: 0.0208929\ttotal: 1.82s\tremaining: 5.49ms\n",
      "997:\tlearn: 0.0208927\ttotal: 1.82s\tremaining: 3.66ms\n",
      "998:\tlearn: 0.0208924\ttotal: 1.83s\tremaining: 1.83ms\n",
      "999:\tlearn: 0.0208923\ttotal: 1.83s\tremaining: 0us\n",
      "0:\tlearn: 0.2739261\ttotal: 1.53ms\tremaining: 1.53s\n",
      "1:\tlearn: 0.1893748\ttotal: 3.64ms\tremaining: 1.82s\n",
      "2:\tlearn: 0.1611280\ttotal: 5.57ms\tremaining: 1.85s\n",
      "3:\tlearn: 0.1385483\ttotal: 7.65ms\tremaining: 1.9s\n",
      "4:\tlearn: 0.1269150\ttotal: 9.88ms\tremaining: 1.97s\n",
      "5:\tlearn: 0.1192456\ttotal: 11.9ms\tremaining: 1.97s\n",
      "6:\tlearn: 0.1112386\ttotal: 14ms\tremaining: 1.98s\n",
      "7:\tlearn: 0.1066479\ttotal: 16ms\tremaining: 1.98s\n",
      "8:\tlearn: 0.0993936\ttotal: 17.9ms\tremaining: 1.97s\n",
      "9:\tlearn: 0.0946853\ttotal: 20ms\tremaining: 1.98s\n",
      "10:\tlearn: 0.0900410\ttotal: 22ms\tremaining: 1.98s\n",
      "11:\tlearn: 0.0863479\ttotal: 23.9ms\tremaining: 1.96s\n",
      "12:\tlearn: 0.0835830\ttotal: 25.9ms\tremaining: 1.96s\n",
      "13:\tlearn: 0.0806100\ttotal: 28ms\tremaining: 1.97s\n",
      "14:\tlearn: 0.0787587\ttotal: 30ms\tremaining: 1.97s\n",
      "15:\tlearn: 0.0765629\ttotal: 31.9ms\tremaining: 1.96s\n",
      "16:\tlearn: 0.0742908\ttotal: 34ms\tremaining: 1.97s\n",
      "17:\tlearn: 0.0725591\ttotal: 35.9ms\tremaining: 1.96s\n",
      "18:\tlearn: 0.0687494\ttotal: 37.9ms\tremaining: 1.96s\n",
      "19:\tlearn: 0.0670880\ttotal: 39.9ms\tremaining: 1.96s\n",
      "20:\tlearn: 0.0653241\ttotal: 41.9ms\tremaining: 1.95s\n",
      "21:\tlearn: 0.0623585\ttotal: 43.9ms\tremaining: 1.95s\n",
      "22:\tlearn: 0.0608145\ttotal: 45.8ms\tremaining: 1.95s\n",
      "23:\tlearn: 0.0585920\ttotal: 47.8ms\tremaining: 1.94s\n",
      "24:\tlearn: 0.0573169\ttotal: 49.8ms\tremaining: 1.94s\n",
      "25:\tlearn: 0.0562352\ttotal: 51.7ms\tremaining: 1.94s\n",
      "26:\tlearn: 0.0547824\ttotal: 53.8ms\tremaining: 1.94s\n",
      "27:\tlearn: 0.0526785\ttotal: 55.7ms\tremaining: 1.94s\n",
      "28:\tlearn: 0.0518012\ttotal: 57.7ms\tremaining: 1.93s\n",
      "29:\tlearn: 0.0505422\ttotal: 59.7ms\tremaining: 1.93s\n",
      "30:\tlearn: 0.0493692\ttotal: 61.6ms\tremaining: 1.93s\n",
      "31:\tlearn: 0.0487314\ttotal: 63.6ms\tremaining: 1.92s\n",
      "32:\tlearn: 0.0473912\ttotal: 65.6ms\tremaining: 1.92s\n",
      "33:\tlearn: 0.0469209\ttotal: 67.5ms\tremaining: 1.92s\n",
      "34:\tlearn: 0.0464107\ttotal: 69.5ms\tremaining: 1.92s\n",
      "35:\tlearn: 0.0449087\ttotal: 71.4ms\tremaining: 1.91s\n",
      "36:\tlearn: 0.0434756\ttotal: 73.6ms\tremaining: 1.91s\n",
      "37:\tlearn: 0.0429904\ttotal: 75.5ms\tremaining: 1.91s\n",
      "38:\tlearn: 0.0424656\ttotal: 77.5ms\tremaining: 1.91s\n",
      "39:\tlearn: 0.0418897\ttotal: 79.6ms\tremaining: 1.91s\n",
      "40:\tlearn: 0.0414308\ttotal: 81.6ms\tremaining: 1.91s\n",
      "41:\tlearn: 0.0405913\ttotal: 83.5ms\tremaining: 1.91s\n",
      "42:\tlearn: 0.0393857\ttotal: 85.5ms\tremaining: 1.9s\n",
      "43:\tlearn: 0.0388653\ttotal: 87.4ms\tremaining: 1.9s\n",
      "44:\tlearn: 0.0382322\ttotal: 89.3ms\tremaining: 1.9s\n",
      "45:\tlearn: 0.0371462\ttotal: 91.3ms\tremaining: 1.89s\n",
      "46:\tlearn: 0.0366737\ttotal: 93.5ms\tremaining: 1.89s\n",
      "47:\tlearn: 0.0363103\ttotal: 95.4ms\tremaining: 1.89s\n",
      "48:\tlearn: 0.0359291\ttotal: 97.4ms\tremaining: 1.89s\n",
      "49:\tlearn: 0.0350161\ttotal: 99.5ms\tremaining: 1.89s\n",
      "50:\tlearn: 0.0342450\ttotal: 101ms\tremaining: 1.89s\n",
      "51:\tlearn: 0.0338488\ttotal: 103ms\tremaining: 1.89s\n",
      "52:\tlearn: 0.0334901\ttotal: 105ms\tremaining: 1.88s\n",
      "53:\tlearn: 0.0330836\ttotal: 108ms\tremaining: 1.89s\n",
      "54:\tlearn: 0.0328330\ttotal: 110ms\tremaining: 1.88s\n",
      "55:\tlearn: 0.0319720\ttotal: 112ms\tremaining: 1.88s\n",
      "56:\tlearn: 0.0313099\ttotal: 114ms\tremaining: 1.88s\n",
      "57:\tlearn: 0.0311124\ttotal: 116ms\tremaining: 1.88s\n",
      "58:\tlearn: 0.0306384\ttotal: 118ms\tremaining: 1.88s\n",
      "59:\tlearn: 0.0302968\ttotal: 120ms\tremaining: 1.88s\n",
      "60:\tlearn: 0.0301400\ttotal: 122ms\tremaining: 1.88s\n",
      "61:\tlearn: 0.0297888\ttotal: 124ms\tremaining: 1.87s\n",
      "62:\tlearn: 0.0295957\ttotal: 126ms\tremaining: 1.87s\n",
      "63:\tlearn: 0.0292973\ttotal: 128ms\tremaining: 1.87s\n",
      "64:\tlearn: 0.0291752\ttotal: 130ms\tremaining: 1.87s\n",
      "65:\tlearn: 0.0288964\ttotal: 132ms\tremaining: 1.87s\n",
      "66:\tlearn: 0.0286305\ttotal: 134ms\tremaining: 1.87s\n",
      "67:\tlearn: 0.0284793\ttotal: 136ms\tremaining: 1.87s\n",
      "68:\tlearn: 0.0282552\ttotal: 138ms\tremaining: 1.86s\n",
      "69:\tlearn: 0.0281637\ttotal: 140ms\tremaining: 1.86s\n",
      "70:\tlearn: 0.0276173\ttotal: 142ms\tremaining: 1.86s\n",
      "71:\tlearn: 0.0273981\ttotal: 144ms\tremaining: 1.86s\n",
      "72:\tlearn: 0.0272195\ttotal: 146ms\tremaining: 1.85s\n",
      "73:\tlearn: 0.0270725\ttotal: 148ms\tremaining: 1.85s\n",
      "74:\tlearn: 0.0267372\ttotal: 150ms\tremaining: 1.85s\n",
      "75:\tlearn: 0.0265405\ttotal: 153ms\tremaining: 1.86s\n",
      "76:\tlearn: 0.0263927\ttotal: 155ms\tremaining: 1.86s\n",
      "77:\tlearn: 0.0261704\ttotal: 157ms\tremaining: 1.86s\n",
      "78:\tlearn: 0.0259002\ttotal: 160ms\tremaining: 1.87s\n",
      "79:\tlearn: 0.0256046\ttotal: 162ms\tremaining: 1.87s\n",
      "80:\tlearn: 0.0254414\ttotal: 164ms\tremaining: 1.86s\n",
      "81:\tlearn: 0.0254407\ttotal: 166ms\tremaining: 1.86s\n",
      "82:\tlearn: 0.0253633\ttotal: 169ms\tremaining: 1.86s\n",
      "83:\tlearn: 0.0251830\ttotal: 171ms\tremaining: 1.86s\n",
      "84:\tlearn: 0.0250700\ttotal: 174ms\tremaining: 1.87s\n",
      "85:\tlearn: 0.0247955\ttotal: 176ms\tremaining: 1.87s\n",
      "86:\tlearn: 0.0246800\ttotal: 177ms\tremaining: 1.86s\n",
      "87:\tlearn: 0.0245681\ttotal: 179ms\tremaining: 1.86s\n",
      "88:\tlearn: 0.0245681\ttotal: 181ms\tremaining: 1.85s\n",
      "89:\tlearn: 0.0242426\ttotal: 183ms\tremaining: 1.85s\n",
      "90:\tlearn: 0.0241318\ttotal: 185ms\tremaining: 1.85s\n",
      "91:\tlearn: 0.0241316\ttotal: 187ms\tremaining: 1.85s\n",
      "92:\tlearn: 0.0240344\ttotal: 189ms\tremaining: 1.84s\n",
      "93:\tlearn: 0.0238103\ttotal: 191ms\tremaining: 1.84s\n",
      "94:\tlearn: 0.0237448\ttotal: 193ms\tremaining: 1.84s\n",
      "95:\tlearn: 0.0236226\ttotal: 195ms\tremaining: 1.84s\n",
      "96:\tlearn: 0.0235262\ttotal: 197ms\tremaining: 1.84s\n",
      "97:\tlearn: 0.0234859\ttotal: 199ms\tremaining: 1.83s\n",
      "98:\tlearn: 0.0234215\ttotal: 202ms\tremaining: 1.83s\n",
      "99:\tlearn: 0.0234199\ttotal: 203ms\tremaining: 1.83s\n",
      "100:\tlearn: 0.0232797\ttotal: 205ms\tremaining: 1.83s\n",
      "101:\tlearn: 0.0231192\ttotal: 208ms\tremaining: 1.83s\n",
      "102:\tlearn: 0.0229499\ttotal: 210ms\tremaining: 1.83s\n",
      "103:\tlearn: 0.0227822\ttotal: 212ms\tremaining: 1.82s\n",
      "104:\tlearn: 0.0227820\ttotal: 213ms\tremaining: 1.82s\n",
      "105:\tlearn: 0.0227205\ttotal: 215ms\tremaining: 1.81s\n",
      "106:\tlearn: 0.0227204\ttotal: 217ms\tremaining: 1.81s\n",
      "107:\tlearn: 0.0225895\ttotal: 219ms\tremaining: 1.8s\n",
      "108:\tlearn: 0.0225187\ttotal: 221ms\tremaining: 1.8s\n",
      "109:\tlearn: 0.0224258\ttotal: 223ms\tremaining: 1.8s\n",
      "110:\tlearn: 0.0223557\ttotal: 225ms\tremaining: 1.8s\n",
      "111:\tlearn: 0.0223553\ttotal: 226ms\tremaining: 1.79s\n",
      "112:\tlearn: 0.0222512\ttotal: 228ms\tremaining: 1.79s\n",
      "113:\tlearn: 0.0222339\ttotal: 230ms\tremaining: 1.79s\n",
      "114:\tlearn: 0.0222338\ttotal: 232ms\tremaining: 1.78s\n",
      "115:\tlearn: 0.0221475\ttotal: 234ms\tremaining: 1.78s\n",
      "116:\tlearn: 0.0220985\ttotal: 236ms\tremaining: 1.78s\n",
      "117:\tlearn: 0.0219696\ttotal: 238ms\tremaining: 1.77s\n",
      "118:\tlearn: 0.0219695\ttotal: 239ms\tremaining: 1.77s\n",
      "119:\tlearn: 0.0219290\ttotal: 241ms\tremaining: 1.77s\n",
      "120:\tlearn: 0.0219290\ttotal: 243ms\tremaining: 1.76s\n",
      "121:\tlearn: 0.0219288\ttotal: 245ms\tremaining: 1.76s\n",
      "122:\tlearn: 0.0219286\ttotal: 246ms\tremaining: 1.76s\n",
      "123:\tlearn: 0.0219283\ttotal: 248ms\tremaining: 1.75s\n",
      "124:\tlearn: 0.0218639\ttotal: 250ms\tremaining: 1.75s\n",
      "125:\tlearn: 0.0218639\ttotal: 252ms\tremaining: 1.75s\n",
      "126:\tlearn: 0.0218639\ttotal: 253ms\tremaining: 1.74s\n",
      "127:\tlearn: 0.0218638\ttotal: 255ms\tremaining: 1.74s\n",
      "128:\tlearn: 0.0218638\ttotal: 257ms\tremaining: 1.73s\n",
      "129:\tlearn: 0.0218638\ttotal: 259ms\tremaining: 1.73s\n",
      "130:\tlearn: 0.0218637\ttotal: 261ms\tremaining: 1.73s\n",
      "131:\tlearn: 0.0218636\ttotal: 262ms\tremaining: 1.72s\n",
      "132:\tlearn: 0.0218614\ttotal: 264ms\tremaining: 1.72s\n",
      "133:\tlearn: 0.0218613\ttotal: 266ms\tremaining: 1.72s\n",
      "134:\tlearn: 0.0218612\ttotal: 267ms\tremaining: 1.71s\n",
      "135:\tlearn: 0.0218612\ttotal: 269ms\tremaining: 1.71s\n",
      "136:\tlearn: 0.0218611\ttotal: 271ms\tremaining: 1.71s\n",
      "137:\tlearn: 0.0218609\ttotal: 273ms\tremaining: 1.7s\n",
      "138:\tlearn: 0.0218608\ttotal: 274ms\tremaining: 1.7s\n",
      "139:\tlearn: 0.0218607\ttotal: 276ms\tremaining: 1.7s\n",
      "140:\tlearn: 0.0218606\ttotal: 278ms\tremaining: 1.69s\n",
      "141:\tlearn: 0.0218605\ttotal: 279ms\tremaining: 1.69s\n",
      "142:\tlearn: 0.0218604\ttotal: 281ms\tremaining: 1.69s\n",
      "143:\tlearn: 0.0218602\ttotal: 283ms\tremaining: 1.68s\n",
      "144:\tlearn: 0.0218602\ttotal: 285ms\tremaining: 1.68s\n",
      "145:\tlearn: 0.0218600\ttotal: 287ms\tremaining: 1.68s\n",
      "146:\tlearn: 0.0218597\ttotal: 288ms\tremaining: 1.67s\n",
      "147:\tlearn: 0.0218593\ttotal: 290ms\tremaining: 1.67s\n",
      "148:\tlearn: 0.0217324\ttotal: 292ms\tremaining: 1.67s\n",
      "149:\tlearn: 0.0217317\ttotal: 294ms\tremaining: 1.66s\n",
      "150:\tlearn: 0.0216806\ttotal: 296ms\tremaining: 1.66s\n",
      "151:\tlearn: 0.0216805\ttotal: 297ms\tremaining: 1.66s\n",
      "152:\tlearn: 0.0216805\ttotal: 299ms\tremaining: 1.66s\n",
      "153:\tlearn: 0.0216804\ttotal: 301ms\tremaining: 1.65s\n",
      "154:\tlearn: 0.0216804\ttotal: 303ms\tremaining: 1.65s\n",
      "155:\tlearn: 0.0216800\ttotal: 304ms\tremaining: 1.65s\n",
      "156:\tlearn: 0.0216782\ttotal: 306ms\tremaining: 1.64s\n",
      "157:\tlearn: 0.0216781\ttotal: 308ms\tremaining: 1.64s\n",
      "158:\tlearn: 0.0216781\ttotal: 310ms\tremaining: 1.64s\n",
      "159:\tlearn: 0.0216779\ttotal: 311ms\tremaining: 1.63s\n",
      "160:\tlearn: 0.0216778\ttotal: 313ms\tremaining: 1.63s\n",
      "161:\tlearn: 0.0216776\ttotal: 315ms\tremaining: 1.63s\n",
      "162:\tlearn: 0.0216775\ttotal: 317ms\tremaining: 1.63s\n",
      "163:\tlearn: 0.0216774\ttotal: 318ms\tremaining: 1.62s\n",
      "164:\tlearn: 0.0216774\ttotal: 320ms\tremaining: 1.62s\n",
      "165:\tlearn: 0.0216773\ttotal: 322ms\tremaining: 1.62s\n",
      "166:\tlearn: 0.0216773\ttotal: 323ms\tremaining: 1.61s\n",
      "167:\tlearn: 0.0216773\ttotal: 325ms\tremaining: 1.61s\n",
      "168:\tlearn: 0.0216771\ttotal: 327ms\tremaining: 1.61s\n",
      "169:\tlearn: 0.0216303\ttotal: 329ms\tremaining: 1.61s\n",
      "170:\tlearn: 0.0216301\ttotal: 331ms\tremaining: 1.6s\n",
      "171:\tlearn: 0.0215761\ttotal: 333ms\tremaining: 1.6s\n",
      "172:\tlearn: 0.0215759\ttotal: 335ms\tremaining: 1.6s\n",
      "173:\tlearn: 0.0215758\ttotal: 336ms\tremaining: 1.6s\n",
      "174:\tlearn: 0.0215757\ttotal: 338ms\tremaining: 1.59s\n",
      "175:\tlearn: 0.0215757\ttotal: 340ms\tremaining: 1.59s\n",
      "176:\tlearn: 0.0215744\ttotal: 342ms\tremaining: 1.59s\n",
      "177:\tlearn: 0.0215741\ttotal: 344ms\tremaining: 1.59s\n",
      "178:\tlearn: 0.0215741\ttotal: 345ms\tremaining: 1.58s\n",
      "179:\tlearn: 0.0215738\ttotal: 347ms\tremaining: 1.58s\n",
      "180:\tlearn: 0.0215737\ttotal: 349ms\tremaining: 1.58s\n",
      "181:\tlearn: 0.0215738\ttotal: 351ms\tremaining: 1.58s\n",
      "182:\tlearn: 0.0215736\ttotal: 353ms\tremaining: 1.57s\n",
      "183:\tlearn: 0.0215735\ttotal: 354ms\tremaining: 1.57s\n",
      "184:\tlearn: 0.0215734\ttotal: 356ms\tremaining: 1.57s\n",
      "185:\tlearn: 0.0215734\ttotal: 358ms\tremaining: 1.57s\n",
      "186:\tlearn: 0.0215731\ttotal: 360ms\tremaining: 1.56s\n",
      "187:\tlearn: 0.0215732\ttotal: 361ms\tremaining: 1.56s\n",
      "188:\tlearn: 0.0215731\ttotal: 363ms\tremaining: 1.56s\n",
      "189:\tlearn: 0.0215730\ttotal: 365ms\tremaining: 1.56s\n",
      "190:\tlearn: 0.0215730\ttotal: 367ms\tremaining: 1.55s\n",
      "191:\tlearn: 0.0215730\ttotal: 368ms\tremaining: 1.55s\n",
      "192:\tlearn: 0.0215705\ttotal: 370ms\tremaining: 1.55s\n",
      "193:\tlearn: 0.0215703\ttotal: 372ms\tremaining: 1.54s\n",
      "194:\tlearn: 0.0215687\ttotal: 374ms\tremaining: 1.54s\n",
      "195:\tlearn: 0.0215672\ttotal: 376ms\tremaining: 1.54s\n",
      "196:\tlearn: 0.0215672\ttotal: 377ms\tremaining: 1.54s\n",
      "197:\tlearn: 0.0215658\ttotal: 379ms\tremaining: 1.53s\n",
      "198:\tlearn: 0.0215653\ttotal: 381ms\tremaining: 1.53s\n",
      "199:\tlearn: 0.0215652\ttotal: 383ms\tremaining: 1.53s\n",
      "200:\tlearn: 0.0215651\ttotal: 384ms\tremaining: 1.53s\n",
      "201:\tlearn: 0.0215651\ttotal: 386ms\tremaining: 1.52s\n",
      "202:\tlearn: 0.0215109\ttotal: 388ms\tremaining: 1.52s\n",
      "203:\tlearn: 0.0215108\ttotal: 390ms\tremaining: 1.52s\n",
      "204:\tlearn: 0.0215107\ttotal: 392ms\tremaining: 1.52s\n",
      "205:\tlearn: 0.0215104\ttotal: 394ms\tremaining: 1.52s\n",
      "206:\tlearn: 0.0215104\ttotal: 395ms\tremaining: 1.51s\n",
      "207:\tlearn: 0.0214886\ttotal: 397ms\tremaining: 1.51s\n",
      "208:\tlearn: 0.0214886\ttotal: 399ms\tremaining: 1.51s\n",
      "209:\tlearn: 0.0214873\ttotal: 401ms\tremaining: 1.51s\n",
      "210:\tlearn: 0.0214872\ttotal: 403ms\tremaining: 1.5s\n",
      "211:\tlearn: 0.0214385\ttotal: 405ms\tremaining: 1.5s\n",
      "212:\tlearn: 0.0214385\ttotal: 406ms\tremaining: 1.5s\n",
      "213:\tlearn: 0.0214384\ttotal: 408ms\tremaining: 1.5s\n",
      "214:\tlearn: 0.0213303\ttotal: 410ms\tremaining: 1.5s\n",
      "215:\tlearn: 0.0212671\ttotal: 412ms\tremaining: 1.5s\n",
      "216:\tlearn: 0.0212669\ttotal: 414ms\tremaining: 1.49s\n",
      "217:\tlearn: 0.0212668\ttotal: 416ms\tremaining: 1.49s\n",
      "218:\tlearn: 0.0212665\ttotal: 417ms\tremaining: 1.49s\n",
      "219:\tlearn: 0.0212663\ttotal: 419ms\tremaining: 1.49s\n",
      "220:\tlearn: 0.0212663\ttotal: 421ms\tremaining: 1.48s\n",
      "221:\tlearn: 0.0212662\ttotal: 423ms\tremaining: 1.48s\n",
      "222:\tlearn: 0.0212659\ttotal: 424ms\tremaining: 1.48s\n",
      "223:\tlearn: 0.0212638\ttotal: 426ms\tremaining: 1.48s\n",
      "224:\tlearn: 0.0212635\ttotal: 428ms\tremaining: 1.47s\n",
      "225:\tlearn: 0.0212003\ttotal: 430ms\tremaining: 1.47s\n",
      "226:\tlearn: 0.0211996\ttotal: 432ms\tremaining: 1.47s\n",
      "227:\tlearn: 0.0211995\ttotal: 433ms\tremaining: 1.47s\n",
      "228:\tlearn: 0.0211994\ttotal: 435ms\tremaining: 1.46s\n",
      "229:\tlearn: 0.0211993\ttotal: 437ms\tremaining: 1.46s\n",
      "230:\tlearn: 0.0211992\ttotal: 438ms\tremaining: 1.46s\n",
      "231:\tlearn: 0.0211991\ttotal: 440ms\tremaining: 1.46s\n",
      "232:\tlearn: 0.0211989\ttotal: 442ms\tremaining: 1.45s\n",
      "233:\tlearn: 0.0211989\ttotal: 444ms\tremaining: 1.45s\n",
      "234:\tlearn: 0.0211988\ttotal: 445ms\tremaining: 1.45s\n",
      "235:\tlearn: 0.0211988\ttotal: 447ms\tremaining: 1.45s\n",
      "236:\tlearn: 0.0211986\ttotal: 449ms\tremaining: 1.44s\n",
      "237:\tlearn: 0.0211986\ttotal: 450ms\tremaining: 1.44s\n",
      "238:\tlearn: 0.0211985\ttotal: 452ms\tremaining: 1.44s\n",
      "239:\tlearn: 0.0211983\ttotal: 454ms\tremaining: 1.44s\n",
      "240:\tlearn: 0.0211982\ttotal: 456ms\tremaining: 1.44s\n",
      "241:\tlearn: 0.0211981\ttotal: 458ms\tremaining: 1.43s\n",
      "242:\tlearn: 0.0211981\ttotal: 459ms\tremaining: 1.43s\n",
      "243:\tlearn: 0.0211974\ttotal: 461ms\tremaining: 1.43s\n",
      "244:\tlearn: 0.0211973\ttotal: 463ms\tremaining: 1.43s\n",
      "245:\tlearn: 0.0211971\ttotal: 465ms\tremaining: 1.42s\n",
      "246:\tlearn: 0.0211967\ttotal: 466ms\tremaining: 1.42s\n",
      "247:\tlearn: 0.0211965\ttotal: 468ms\tremaining: 1.42s\n",
      "248:\tlearn: 0.0211965\ttotal: 470ms\tremaining: 1.42s\n",
      "249:\tlearn: 0.0211958\ttotal: 472ms\tremaining: 1.41s\n",
      "250:\tlearn: 0.0211957\ttotal: 473ms\tremaining: 1.41s\n",
      "251:\tlearn: 0.0211956\ttotal: 475ms\tremaining: 1.41s\n",
      "252:\tlearn: 0.0211955\ttotal: 477ms\tremaining: 1.41s\n",
      "253:\tlearn: 0.0211954\ttotal: 478ms\tremaining: 1.41s\n",
      "254:\tlearn: 0.0211954\ttotal: 480ms\tremaining: 1.4s\n",
      "255:\tlearn: 0.0211953\ttotal: 482ms\tremaining: 1.4s\n",
      "256:\tlearn: 0.0211953\ttotal: 484ms\tremaining: 1.4s\n",
      "257:\tlearn: 0.0211953\ttotal: 485ms\tremaining: 1.4s\n",
      "258:\tlearn: 0.0211952\ttotal: 487ms\tremaining: 1.39s\n",
      "259:\tlearn: 0.0211948\ttotal: 489ms\tremaining: 1.39s\n",
      "260:\tlearn: 0.0211947\ttotal: 491ms\tremaining: 1.39s\n",
      "261:\tlearn: 0.0211945\ttotal: 492ms\tremaining: 1.39s\n",
      "262:\tlearn: 0.0211944\ttotal: 494ms\tremaining: 1.38s\n",
      "263:\tlearn: 0.0211944\ttotal: 496ms\tremaining: 1.38s\n",
      "264:\tlearn: 0.0211941\ttotal: 498ms\tremaining: 1.38s\n",
      "265:\tlearn: 0.0211939\ttotal: 499ms\tremaining: 1.38s\n",
      "266:\tlearn: 0.0211937\ttotal: 501ms\tremaining: 1.38s\n",
      "267:\tlearn: 0.0211936\ttotal: 503ms\tremaining: 1.37s\n",
      "268:\tlearn: 0.0211936\ttotal: 504ms\tremaining: 1.37s\n",
      "269:\tlearn: 0.0211934\ttotal: 506ms\tremaining: 1.37s\n",
      "270:\tlearn: 0.0211933\ttotal: 508ms\tremaining: 1.37s\n",
      "271:\tlearn: 0.0211931\ttotal: 510ms\tremaining: 1.36s\n",
      "272:\tlearn: 0.0211931\ttotal: 512ms\tremaining: 1.36s\n",
      "273:\tlearn: 0.0211929\ttotal: 513ms\tremaining: 1.36s\n",
      "274:\tlearn: 0.0211928\ttotal: 515ms\tremaining: 1.36s\n",
      "275:\tlearn: 0.0211928\ttotal: 517ms\tremaining: 1.35s\n",
      "276:\tlearn: 0.0211923\ttotal: 518ms\tremaining: 1.35s\n",
      "277:\tlearn: 0.0211923\ttotal: 520ms\tremaining: 1.35s\n",
      "278:\tlearn: 0.0211923\ttotal: 522ms\tremaining: 1.35s\n",
      "279:\tlearn: 0.0211917\ttotal: 524ms\tremaining: 1.35s\n",
      "280:\tlearn: 0.0211917\ttotal: 525ms\tremaining: 1.34s\n",
      "281:\tlearn: 0.0211916\ttotal: 527ms\tremaining: 1.34s\n",
      "282:\tlearn: 0.0211915\ttotal: 529ms\tremaining: 1.34s\n",
      "283:\tlearn: 0.0211912\ttotal: 531ms\tremaining: 1.34s\n",
      "284:\tlearn: 0.0211912\ttotal: 533ms\tremaining: 1.34s\n",
      "285:\tlearn: 0.0211911\ttotal: 535ms\tremaining: 1.33s\n",
      "286:\tlearn: 0.0211910\ttotal: 536ms\tremaining: 1.33s\n",
      "287:\tlearn: 0.0211909\ttotal: 538ms\tremaining: 1.33s\n",
      "288:\tlearn: 0.0211909\ttotal: 540ms\tremaining: 1.33s\n",
      "289:\tlearn: 0.0211908\ttotal: 542ms\tremaining: 1.33s\n",
      "290:\tlearn: 0.0211906\ttotal: 543ms\tremaining: 1.32s\n",
      "291:\tlearn: 0.0211904\ttotal: 545ms\tremaining: 1.32s\n",
      "292:\tlearn: 0.0211904\ttotal: 547ms\tremaining: 1.32s\n",
      "293:\tlearn: 0.0211903\ttotal: 549ms\tremaining: 1.32s\n",
      "294:\tlearn: 0.0211903\ttotal: 551ms\tremaining: 1.31s\n",
      "295:\tlearn: 0.0211903\ttotal: 552ms\tremaining: 1.31s\n",
      "296:\tlearn: 0.0211901\ttotal: 554ms\tremaining: 1.31s\n",
      "297:\tlearn: 0.0211901\ttotal: 556ms\tremaining: 1.31s\n",
      "298:\tlearn: 0.0211900\ttotal: 558ms\tremaining: 1.31s\n",
      "299:\tlearn: 0.0211898\ttotal: 560ms\tremaining: 1.3s\n",
      "300:\tlearn: 0.0211898\ttotal: 561ms\tremaining: 1.3s\n",
      "301:\tlearn: 0.0211897\ttotal: 563ms\tremaining: 1.3s\n",
      "302:\tlearn: 0.0211896\ttotal: 565ms\tremaining: 1.3s\n",
      "303:\tlearn: 0.0211896\ttotal: 567ms\tremaining: 1.3s\n",
      "304:\tlearn: 0.0211896\ttotal: 569ms\tremaining: 1.29s\n",
      "305:\tlearn: 0.0211895\ttotal: 573ms\tremaining: 1.3s\n",
      "306:\tlearn: 0.0211893\ttotal: 576ms\tremaining: 1.3s\n",
      "307:\tlearn: 0.0211892\ttotal: 578ms\tremaining: 1.3s\n",
      "308:\tlearn: 0.0211891\ttotal: 580ms\tremaining: 1.3s\n",
      "309:\tlearn: 0.0211890\ttotal: 583ms\tremaining: 1.3s\n",
      "310:\tlearn: 0.0211886\ttotal: 586ms\tremaining: 1.3s\n",
      "311:\tlearn: 0.0211886\ttotal: 588ms\tremaining: 1.3s\n",
      "312:\tlearn: 0.0211885\ttotal: 591ms\tremaining: 1.3s\n",
      "313:\tlearn: 0.0211885\ttotal: 593ms\tremaining: 1.3s\n",
      "314:\tlearn: 0.0211880\ttotal: 595ms\tremaining: 1.29s\n",
      "315:\tlearn: 0.0211880\ttotal: 597ms\tremaining: 1.29s\n",
      "316:\tlearn: 0.0211876\ttotal: 599ms\tremaining: 1.29s\n",
      "317:\tlearn: 0.0211876\ttotal: 601ms\tremaining: 1.29s\n",
      "318:\tlearn: 0.0211875\ttotal: 604ms\tremaining: 1.29s\n",
      "319:\tlearn: 0.0211873\ttotal: 606ms\tremaining: 1.29s\n",
      "320:\tlearn: 0.0211872\ttotal: 608ms\tremaining: 1.28s\n",
      "321:\tlearn: 0.0211871\ttotal: 609ms\tremaining: 1.28s\n",
      "322:\tlearn: 0.0211870\ttotal: 611ms\tremaining: 1.28s\n",
      "323:\tlearn: 0.0211869\ttotal: 613ms\tremaining: 1.28s\n",
      "324:\tlearn: 0.0211868\ttotal: 614ms\tremaining: 1.28s\n",
      "325:\tlearn: 0.0211868\ttotal: 616ms\tremaining: 1.27s\n",
      "326:\tlearn: 0.0211863\ttotal: 618ms\tremaining: 1.27s\n",
      "327:\tlearn: 0.0211862\ttotal: 620ms\tremaining: 1.27s\n",
      "328:\tlearn: 0.0211861\ttotal: 621ms\tremaining: 1.27s\n",
      "329:\tlearn: 0.0211861\ttotal: 623ms\tremaining: 1.26s\n",
      "330:\tlearn: 0.0211861\ttotal: 625ms\tremaining: 1.26s\n",
      "331:\tlearn: 0.0211860\ttotal: 627ms\tremaining: 1.26s\n",
      "332:\tlearn: 0.0211859\ttotal: 628ms\tremaining: 1.26s\n",
      "333:\tlearn: 0.0211859\ttotal: 630ms\tremaining: 1.26s\n",
      "334:\tlearn: 0.0211859\ttotal: 632ms\tremaining: 1.25s\n",
      "335:\tlearn: 0.0211857\ttotal: 633ms\tremaining: 1.25s\n",
      "336:\tlearn: 0.0211855\ttotal: 635ms\tremaining: 1.25s\n",
      "337:\tlearn: 0.0211851\ttotal: 637ms\tremaining: 1.25s\n",
      "338:\tlearn: 0.0211849\ttotal: 639ms\tremaining: 1.25s\n",
      "339:\tlearn: 0.0211850\ttotal: 641ms\tremaining: 1.24s\n",
      "340:\tlearn: 0.0211848\ttotal: 642ms\tremaining: 1.24s\n",
      "341:\tlearn: 0.0211847\ttotal: 644ms\tremaining: 1.24s\n",
      "342:\tlearn: 0.0211844\ttotal: 646ms\tremaining: 1.24s\n",
      "343:\tlearn: 0.0211844\ttotal: 648ms\tremaining: 1.24s\n",
      "344:\tlearn: 0.0211843\ttotal: 649ms\tremaining: 1.23s\n",
      "345:\tlearn: 0.0211841\ttotal: 651ms\tremaining: 1.23s\n",
      "346:\tlearn: 0.0211841\ttotal: 653ms\tremaining: 1.23s\n",
      "347:\tlearn: 0.0211841\ttotal: 655ms\tremaining: 1.23s\n",
      "348:\tlearn: 0.0211834\ttotal: 656ms\tremaining: 1.22s\n",
      "349:\tlearn: 0.0211832\ttotal: 658ms\tremaining: 1.22s\n",
      "350:\tlearn: 0.0211831\ttotal: 660ms\tremaining: 1.22s\n",
      "351:\tlearn: 0.0211829\ttotal: 661ms\tremaining: 1.22s\n",
      "352:\tlearn: 0.0211827\ttotal: 663ms\tremaining: 1.22s\n",
      "353:\tlearn: 0.0211827\ttotal: 665ms\tremaining: 1.21s\n",
      "354:\tlearn: 0.0211826\ttotal: 667ms\tremaining: 1.21s\n",
      "355:\tlearn: 0.0211817\ttotal: 668ms\tremaining: 1.21s\n",
      "356:\tlearn: 0.0211817\ttotal: 670ms\tremaining: 1.21s\n",
      "357:\tlearn: 0.0211817\ttotal: 672ms\tremaining: 1.2s\n",
      "358:\tlearn: 0.0211816\ttotal: 674ms\tremaining: 1.2s\n",
      "359:\tlearn: 0.0211815\ttotal: 675ms\tremaining: 1.2s\n",
      "360:\tlearn: 0.0211813\ttotal: 677ms\tremaining: 1.2s\n",
      "361:\tlearn: 0.0211812\ttotal: 679ms\tremaining: 1.2s\n",
      "362:\tlearn: 0.0211810\ttotal: 681ms\tremaining: 1.19s\n",
      "363:\tlearn: 0.0211808\ttotal: 682ms\tremaining: 1.19s\n",
      "364:\tlearn: 0.0211807\ttotal: 684ms\tremaining: 1.19s\n",
      "365:\tlearn: 0.0211804\ttotal: 686ms\tremaining: 1.19s\n",
      "366:\tlearn: 0.0211803\ttotal: 688ms\tremaining: 1.19s\n",
      "367:\tlearn: 0.0211798\ttotal: 690ms\tremaining: 1.18s\n",
      "368:\tlearn: 0.0211794\ttotal: 691ms\tremaining: 1.18s\n",
      "369:\tlearn: 0.0211794\ttotal: 693ms\tremaining: 1.18s\n",
      "370:\tlearn: 0.0211794\ttotal: 695ms\tremaining: 1.18s\n",
      "371:\tlearn: 0.0211794\ttotal: 696ms\tremaining: 1.18s\n",
      "372:\tlearn: 0.0211794\ttotal: 698ms\tremaining: 1.17s\n",
      "373:\tlearn: 0.0211793\ttotal: 700ms\tremaining: 1.17s\n",
      "374:\tlearn: 0.0211789\ttotal: 702ms\tremaining: 1.17s\n",
      "375:\tlearn: 0.0211789\ttotal: 703ms\tremaining: 1.17s\n",
      "376:\tlearn: 0.0211787\ttotal: 705ms\tremaining: 1.17s\n",
      "377:\tlearn: 0.0211785\ttotal: 707ms\tremaining: 1.16s\n",
      "378:\tlearn: 0.0211784\ttotal: 709ms\tremaining: 1.16s\n",
      "379:\tlearn: 0.0211783\ttotal: 710ms\tremaining: 1.16s\n",
      "380:\tlearn: 0.0211716\ttotal: 712ms\tremaining: 1.16s\n",
      "381:\tlearn: 0.0210931\ttotal: 714ms\tremaining: 1.16s\n",
      "382:\tlearn: 0.0210332\ttotal: 716ms\tremaining: 1.15s\n",
      "383:\tlearn: 0.0210329\ttotal: 718ms\tremaining: 1.15s\n",
      "384:\tlearn: 0.0210327\ttotal: 720ms\tremaining: 1.15s\n",
      "385:\tlearn: 0.0210325\ttotal: 721ms\tremaining: 1.15s\n",
      "386:\tlearn: 0.0210323\ttotal: 723ms\tremaining: 1.15s\n",
      "387:\tlearn: 0.0210323\ttotal: 725ms\tremaining: 1.14s\n",
      "388:\tlearn: 0.0210323\ttotal: 727ms\tremaining: 1.14s\n",
      "389:\tlearn: 0.0210323\ttotal: 728ms\tremaining: 1.14s\n",
      "390:\tlearn: 0.0210319\ttotal: 730ms\tremaining: 1.14s\n",
      "391:\tlearn: 0.0210317\ttotal: 732ms\tremaining: 1.13s\n",
      "392:\tlearn: 0.0210316\ttotal: 733ms\tremaining: 1.13s\n",
      "393:\tlearn: 0.0210316\ttotal: 735ms\tremaining: 1.13s\n",
      "394:\tlearn: 0.0210314\ttotal: 737ms\tremaining: 1.13s\n",
      "395:\tlearn: 0.0210310\ttotal: 739ms\tremaining: 1.13s\n",
      "396:\tlearn: 0.0210309\ttotal: 740ms\tremaining: 1.12s\n",
      "397:\tlearn: 0.0210308\ttotal: 742ms\tremaining: 1.12s\n",
      "398:\tlearn: 0.0210306\ttotal: 744ms\tremaining: 1.12s\n",
      "399:\tlearn: 0.0210302\ttotal: 746ms\tremaining: 1.12s\n",
      "400:\tlearn: 0.0210302\ttotal: 747ms\tremaining: 1.12s\n",
      "401:\tlearn: 0.0210300\ttotal: 749ms\tremaining: 1.11s\n",
      "402:\tlearn: 0.0210300\ttotal: 751ms\tremaining: 1.11s\n",
      "403:\tlearn: 0.0210299\ttotal: 753ms\tremaining: 1.11s\n",
      "404:\tlearn: 0.0210297\ttotal: 754ms\tremaining: 1.11s\n",
      "405:\tlearn: 0.0210296\ttotal: 756ms\tremaining: 1.11s\n",
      "406:\tlearn: 0.0210295\ttotal: 758ms\tremaining: 1.1s\n",
      "407:\tlearn: 0.0210295\ttotal: 760ms\tremaining: 1.1s\n",
      "408:\tlearn: 0.0210293\ttotal: 761ms\tremaining: 1.1s\n",
      "409:\tlearn: 0.0210292\ttotal: 763ms\tremaining: 1.1s\n",
      "410:\tlearn: 0.0210292\ttotal: 765ms\tremaining: 1.1s\n",
      "411:\tlearn: 0.0210291\ttotal: 767ms\tremaining: 1.09s\n",
      "412:\tlearn: 0.0210291\ttotal: 768ms\tremaining: 1.09s\n",
      "413:\tlearn: 0.0210291\ttotal: 770ms\tremaining: 1.09s\n",
      "414:\tlearn: 0.0210286\ttotal: 772ms\tremaining: 1.09s\n",
      "415:\tlearn: 0.0210283\ttotal: 774ms\tremaining: 1.09s\n",
      "416:\tlearn: 0.0210283\ttotal: 776ms\tremaining: 1.08s\n",
      "417:\tlearn: 0.0210282\ttotal: 777ms\tremaining: 1.08s\n",
      "418:\tlearn: 0.0210280\ttotal: 779ms\tremaining: 1.08s\n",
      "419:\tlearn: 0.0210279\ttotal: 781ms\tremaining: 1.08s\n",
      "420:\tlearn: 0.0210278\ttotal: 782ms\tremaining: 1.08s\n",
      "421:\tlearn: 0.0210277\ttotal: 784ms\tremaining: 1.07s\n",
      "422:\tlearn: 0.0210276\ttotal: 786ms\tremaining: 1.07s\n",
      "423:\tlearn: 0.0210276\ttotal: 788ms\tremaining: 1.07s\n",
      "424:\tlearn: 0.0210275\ttotal: 789ms\tremaining: 1.07s\n",
      "425:\tlearn: 0.0210268\ttotal: 791ms\tremaining: 1.06s\n",
      "426:\tlearn: 0.0210267\ttotal: 793ms\tremaining: 1.06s\n",
      "427:\tlearn: 0.0210267\ttotal: 794ms\tremaining: 1.06s\n",
      "428:\tlearn: 0.0210264\ttotal: 796ms\tremaining: 1.06s\n",
      "429:\tlearn: 0.0210262\ttotal: 798ms\tremaining: 1.06s\n",
      "430:\tlearn: 0.0210262\ttotal: 800ms\tremaining: 1.05s\n",
      "431:\tlearn: 0.0210260\ttotal: 801ms\tremaining: 1.05s\n",
      "432:\tlearn: 0.0210259\ttotal: 803ms\tremaining: 1.05s\n",
      "433:\tlearn: 0.0210259\ttotal: 805ms\tremaining: 1.05s\n",
      "434:\tlearn: 0.0210259\ttotal: 806ms\tremaining: 1.05s\n",
      "435:\tlearn: 0.0210258\ttotal: 808ms\tremaining: 1.04s\n",
      "436:\tlearn: 0.0210258\ttotal: 810ms\tremaining: 1.04s\n",
      "437:\tlearn: 0.0210258\ttotal: 811ms\tremaining: 1.04s\n",
      "438:\tlearn: 0.0210258\ttotal: 813ms\tremaining: 1.04s\n",
      "439:\tlearn: 0.0210256\ttotal: 815ms\tremaining: 1.04s\n",
      "440:\tlearn: 0.0210255\ttotal: 817ms\tremaining: 1.03s\n",
      "441:\tlearn: 0.0210254\ttotal: 818ms\tremaining: 1.03s\n",
      "442:\tlearn: 0.0210253\ttotal: 820ms\tremaining: 1.03s\n",
      "443:\tlearn: 0.0210252\ttotal: 822ms\tremaining: 1.03s\n",
      "444:\tlearn: 0.0210252\ttotal: 824ms\tremaining: 1.03s\n",
      "445:\tlearn: 0.0210252\ttotal: 825ms\tremaining: 1.02s\n",
      "446:\tlearn: 0.0210252\ttotal: 827ms\tremaining: 1.02s\n",
      "447:\tlearn: 0.0210251\ttotal: 829ms\tremaining: 1.02s\n",
      "448:\tlearn: 0.0210248\ttotal: 831ms\tremaining: 1.02s\n",
      "449:\tlearn: 0.0210247\ttotal: 833ms\tremaining: 1.02s\n",
      "450:\tlearn: 0.0210246\ttotal: 834ms\tremaining: 1.01s\n",
      "451:\tlearn: 0.0210246\ttotal: 836ms\tremaining: 1.01s\n",
      "452:\tlearn: 0.0210244\ttotal: 838ms\tremaining: 1.01s\n",
      "453:\tlearn: 0.0210245\ttotal: 839ms\tremaining: 1.01s\n",
      "454:\tlearn: 0.0210245\ttotal: 841ms\tremaining: 1.01s\n",
      "455:\tlearn: 0.0210243\ttotal: 843ms\tremaining: 1s\n",
      "456:\tlearn: 0.0210241\ttotal: 845ms\tremaining: 1s\n",
      "457:\tlearn: 0.0210236\ttotal: 846ms\tremaining: 1s\n",
      "458:\tlearn: 0.0210234\ttotal: 848ms\tremaining: 999ms\n",
      "459:\tlearn: 0.0210233\ttotal: 850ms\tremaining: 997ms\n",
      "460:\tlearn: 0.0210233\ttotal: 851ms\tremaining: 995ms\n",
      "461:\tlearn: 0.0210233\ttotal: 853ms\tremaining: 994ms\n",
      "462:\tlearn: 0.0210232\ttotal: 855ms\tremaining: 992ms\n",
      "463:\tlearn: 0.0210231\ttotal: 857ms\tremaining: 990ms\n",
      "464:\tlearn: 0.0210229\ttotal: 858ms\tremaining: 988ms\n",
      "465:\tlearn: 0.0210228\ttotal: 860ms\tremaining: 986ms\n",
      "466:\tlearn: 0.0210228\ttotal: 862ms\tremaining: 984ms\n",
      "467:\tlearn: 0.0210228\ttotal: 863ms\tremaining: 982ms\n",
      "468:\tlearn: 0.0210227\ttotal: 865ms\tremaining: 980ms\n",
      "469:\tlearn: 0.0210227\ttotal: 867ms\tremaining: 978ms\n",
      "470:\tlearn: 0.0210226\ttotal: 869ms\tremaining: 976ms\n",
      "471:\tlearn: 0.0210226\ttotal: 870ms\tremaining: 974ms\n",
      "472:\tlearn: 0.0209742\ttotal: 872ms\tremaining: 972ms\n",
      "473:\tlearn: 0.0209469\ttotal: 874ms\tremaining: 970ms\n",
      "474:\tlearn: 0.0209468\ttotal: 876ms\tremaining: 968ms\n",
      "475:\tlearn: 0.0209468\ttotal: 878ms\tremaining: 966ms\n",
      "476:\tlearn: 0.0209465\ttotal: 879ms\tremaining: 964ms\n",
      "477:\tlearn: 0.0209464\ttotal: 881ms\tremaining: 962ms\n",
      "478:\tlearn: 0.0209464\ttotal: 883ms\tremaining: 960ms\n",
      "479:\tlearn: 0.0209464\ttotal: 885ms\tremaining: 958ms\n",
      "480:\tlearn: 0.0209464\ttotal: 886ms\tremaining: 956ms\n",
      "481:\tlearn: 0.0209464\ttotal: 888ms\tremaining: 954ms\n",
      "482:\tlearn: 0.0209464\ttotal: 890ms\tremaining: 952ms\n",
      "483:\tlearn: 0.0209464\ttotal: 892ms\tremaining: 950ms\n",
      "484:\tlearn: 0.0209464\ttotal: 893ms\tremaining: 948ms\n",
      "485:\tlearn: 0.0209301\ttotal: 895ms\tremaining: 946ms\n",
      "486:\tlearn: 0.0209298\ttotal: 897ms\tremaining: 944ms\n",
      "487:\tlearn: 0.0209298\ttotal: 898ms\tremaining: 943ms\n",
      "488:\tlearn: 0.0209296\ttotal: 900ms\tremaining: 941ms\n",
      "489:\tlearn: 0.0209295\ttotal: 902ms\tremaining: 939ms\n",
      "490:\tlearn: 0.0209292\ttotal: 904ms\tremaining: 937ms\n",
      "491:\tlearn: 0.0209292\ttotal: 905ms\tremaining: 935ms\n",
      "492:\tlearn: 0.0209290\ttotal: 907ms\tremaining: 933ms\n",
      "493:\tlearn: 0.0209289\ttotal: 909ms\tremaining: 931ms\n",
      "494:\tlearn: 0.0209288\ttotal: 911ms\tremaining: 929ms\n",
      "495:\tlearn: 0.0209286\ttotal: 912ms\tremaining: 927ms\n",
      "496:\tlearn: 0.0209286\ttotal: 914ms\tremaining: 925ms\n",
      "497:\tlearn: 0.0209285\ttotal: 916ms\tremaining: 923ms\n",
      "498:\tlearn: 0.0209285\ttotal: 918ms\tremaining: 921ms\n",
      "499:\tlearn: 0.0209283\ttotal: 920ms\tremaining: 920ms\n",
      "500:\tlearn: 0.0209282\ttotal: 922ms\tremaining: 918ms\n",
      "501:\tlearn: 0.0209280\ttotal: 923ms\tremaining: 916ms\n",
      "502:\tlearn: 0.0209279\ttotal: 925ms\tremaining: 914ms\n",
      "503:\tlearn: 0.0209279\ttotal: 927ms\tremaining: 912ms\n",
      "504:\tlearn: 0.0209277\ttotal: 929ms\tremaining: 910ms\n",
      "505:\tlearn: 0.0209277\ttotal: 931ms\tremaining: 908ms\n",
      "506:\tlearn: 0.0209276\ttotal: 932ms\tremaining: 907ms\n",
      "507:\tlearn: 0.0209276\ttotal: 934ms\tremaining: 905ms\n",
      "508:\tlearn: 0.0209273\ttotal: 936ms\tremaining: 903ms\n",
      "509:\tlearn: 0.0209273\ttotal: 938ms\tremaining: 901ms\n",
      "510:\tlearn: 0.0209270\ttotal: 939ms\tremaining: 899ms\n",
      "511:\tlearn: 0.0209271\ttotal: 941ms\tremaining: 897ms\n",
      "512:\tlearn: 0.0209269\ttotal: 943ms\tremaining: 895ms\n",
      "513:\tlearn: 0.0209262\ttotal: 945ms\tremaining: 893ms\n",
      "514:\tlearn: 0.0209260\ttotal: 947ms\tremaining: 891ms\n",
      "515:\tlearn: 0.0209260\ttotal: 948ms\tremaining: 890ms\n",
      "516:\tlearn: 0.0209260\ttotal: 950ms\tremaining: 888ms\n",
      "517:\tlearn: 0.0209259\ttotal: 952ms\tremaining: 886ms\n",
      "518:\tlearn: 0.0209257\ttotal: 954ms\tremaining: 884ms\n",
      "519:\tlearn: 0.0209256\ttotal: 955ms\tremaining: 882ms\n",
      "520:\tlearn: 0.0209256\ttotal: 957ms\tremaining: 880ms\n",
      "521:\tlearn: 0.0209256\ttotal: 959ms\tremaining: 878ms\n",
      "522:\tlearn: 0.0209256\ttotal: 961ms\tremaining: 876ms\n",
      "523:\tlearn: 0.0209256\ttotal: 962ms\tremaining: 874ms\n",
      "524:\tlearn: 0.0209255\ttotal: 964ms\tremaining: 872ms\n",
      "525:\tlearn: 0.0209254\ttotal: 966ms\tremaining: 870ms\n",
      "526:\tlearn: 0.0209253\ttotal: 968ms\tremaining: 869ms\n",
      "527:\tlearn: 0.0209251\ttotal: 970ms\tremaining: 867ms\n",
      "528:\tlearn: 0.0209249\ttotal: 972ms\tremaining: 865ms\n",
      "529:\tlearn: 0.0209248\ttotal: 973ms\tremaining: 863ms\n",
      "530:\tlearn: 0.0209246\ttotal: 975ms\tremaining: 861ms\n",
      "531:\tlearn: 0.0209246\ttotal: 977ms\tremaining: 859ms\n",
      "532:\tlearn: 0.0209246\ttotal: 978ms\tremaining: 857ms\n",
      "533:\tlearn: 0.0209232\ttotal: 980ms\tremaining: 855ms\n",
      "534:\tlearn: 0.0209231\ttotal: 982ms\tremaining: 853ms\n",
      "535:\tlearn: 0.0209230\ttotal: 984ms\tremaining: 852ms\n",
      "536:\tlearn: 0.0209231\ttotal: 985ms\tremaining: 850ms\n",
      "537:\tlearn: 0.0209229\ttotal: 987ms\tremaining: 848ms\n",
      "538:\tlearn: 0.0209228\ttotal: 989ms\tremaining: 845ms\n",
      "539:\tlearn: 0.0209227\ttotal: 990ms\tremaining: 844ms\n",
      "540:\tlearn: 0.0209224\ttotal: 992ms\tremaining: 842ms\n",
      "541:\tlearn: 0.0209224\ttotal: 994ms\tremaining: 840ms\n",
      "542:\tlearn: 0.0209224\ttotal: 995ms\tremaining: 838ms\n",
      "543:\tlearn: 0.0209223\ttotal: 997ms\tremaining: 836ms\n",
      "544:\tlearn: 0.0209223\ttotal: 999ms\tremaining: 834ms\n",
      "545:\tlearn: 0.0209222\ttotal: 1s\tremaining: 832ms\n",
      "546:\tlearn: 0.0209220\ttotal: 1s\tremaining: 830ms\n",
      "547:\tlearn: 0.0209219\ttotal: 1s\tremaining: 828ms\n",
      "548:\tlearn: 0.0209218\ttotal: 1s\tremaining: 826ms\n",
      "549:\tlearn: 0.0209217\ttotal: 1.01s\tremaining: 824ms\n",
      "550:\tlearn: 0.0209216\ttotal: 1.01s\tremaining: 822ms\n",
      "551:\tlearn: 0.0209216\ttotal: 1.01s\tremaining: 820ms\n",
      "552:\tlearn: 0.0209216\ttotal: 1.01s\tremaining: 818ms\n",
      "553:\tlearn: 0.0209214\ttotal: 1.01s\tremaining: 816ms\n",
      "554:\tlearn: 0.0209211\ttotal: 1.01s\tremaining: 814ms\n",
      "555:\tlearn: 0.0209212\ttotal: 1.02s\tremaining: 813ms\n",
      "556:\tlearn: 0.0209211\ttotal: 1.02s\tremaining: 811ms\n",
      "557:\tlearn: 0.0209210\ttotal: 1.02s\tremaining: 809ms\n",
      "558:\tlearn: 0.0209208\ttotal: 1.02s\tremaining: 807ms\n",
      "559:\tlearn: 0.0209207\ttotal: 1.02s\tremaining: 805ms\n",
      "560:\tlearn: 0.0209206\ttotal: 1.02s\tremaining: 803ms\n",
      "561:\tlearn: 0.0209205\ttotal: 1.03s\tremaining: 801ms\n",
      "562:\tlearn: 0.0209202\ttotal: 1.03s\tremaining: 799ms\n",
      "563:\tlearn: 0.0209202\ttotal: 1.03s\tremaining: 797ms\n",
      "564:\tlearn: 0.0209202\ttotal: 1.03s\tremaining: 795ms\n",
      "565:\tlearn: 0.0209201\ttotal: 1.03s\tremaining: 793ms\n",
      "566:\tlearn: 0.0209199\ttotal: 1.04s\tremaining: 791ms\n",
      "567:\tlearn: 0.0209199\ttotal: 1.04s\tremaining: 789ms\n",
      "568:\tlearn: 0.0209199\ttotal: 1.04s\tremaining: 787ms\n",
      "569:\tlearn: 0.0209198\ttotal: 1.04s\tremaining: 785ms\n",
      "570:\tlearn: 0.0209197\ttotal: 1.04s\tremaining: 783ms\n",
      "571:\tlearn: 0.0209197\ttotal: 1.04s\tremaining: 781ms\n",
      "572:\tlearn: 0.0209196\ttotal: 1.04s\tremaining: 779ms\n",
      "573:\tlearn: 0.0209195\ttotal: 1.05s\tremaining: 777ms\n",
      "574:\tlearn: 0.0209194\ttotal: 1.05s\tremaining: 775ms\n",
      "575:\tlearn: 0.0209193\ttotal: 1.05s\tremaining: 774ms\n",
      "576:\tlearn: 0.0209191\ttotal: 1.05s\tremaining: 772ms\n",
      "577:\tlearn: 0.0209191\ttotal: 1.05s\tremaining: 770ms\n",
      "578:\tlearn: 0.0209190\ttotal: 1.05s\tremaining: 768ms\n",
      "579:\tlearn: 0.0209190\ttotal: 1.06s\tremaining: 766ms\n",
      "580:\tlearn: 0.0209188\ttotal: 1.06s\tremaining: 764ms\n",
      "581:\tlearn: 0.0209188\ttotal: 1.06s\tremaining: 762ms\n",
      "582:\tlearn: 0.0209187\ttotal: 1.06s\tremaining: 760ms\n",
      "583:\tlearn: 0.0209183\ttotal: 1.06s\tremaining: 758ms\n",
      "584:\tlearn: 0.0209181\ttotal: 1.06s\tremaining: 756ms\n",
      "585:\tlearn: 0.0209180\ttotal: 1.07s\tremaining: 754ms\n",
      "586:\tlearn: 0.0209178\ttotal: 1.07s\tremaining: 752ms\n",
      "587:\tlearn: 0.0209177\ttotal: 1.07s\tremaining: 750ms\n",
      "588:\tlearn: 0.0209174\ttotal: 1.07s\tremaining: 748ms\n",
      "589:\tlearn: 0.0209173\ttotal: 1.07s\tremaining: 747ms\n",
      "590:\tlearn: 0.0209167\ttotal: 1.07s\tremaining: 745ms\n",
      "591:\tlearn: 0.0209156\ttotal: 1.08s\tremaining: 743ms\n",
      "592:\tlearn: 0.0209156\ttotal: 1.08s\tremaining: 741ms\n",
      "593:\tlearn: 0.0209154\ttotal: 1.08s\tremaining: 739ms\n",
      "594:\tlearn: 0.0209154\ttotal: 1.08s\tremaining: 737ms\n",
      "595:\tlearn: 0.0209152\ttotal: 1.08s\tremaining: 735ms\n",
      "596:\tlearn: 0.0209151\ttotal: 1.09s\tremaining: 734ms\n",
      "597:\tlearn: 0.0209150\ttotal: 1.09s\tremaining: 732ms\n",
      "598:\tlearn: 0.0209149\ttotal: 1.09s\tremaining: 730ms\n",
      "599:\tlearn: 0.0209148\ttotal: 1.09s\tremaining: 728ms\n",
      "600:\tlearn: 0.0209147\ttotal: 1.09s\tremaining: 726ms\n",
      "601:\tlearn: 0.0209144\ttotal: 1.09s\tremaining: 724ms\n",
      "602:\tlearn: 0.0209143\ttotal: 1.1s\tremaining: 722ms\n",
      "603:\tlearn: 0.0209144\ttotal: 1.1s\tremaining: 720ms\n",
      "604:\tlearn: 0.0209143\ttotal: 1.1s\tremaining: 719ms\n",
      "605:\tlearn: 0.0209139\ttotal: 1.1s\tremaining: 717ms\n",
      "606:\tlearn: 0.0209138\ttotal: 1.1s\tremaining: 715ms\n",
      "607:\tlearn: 0.0209136\ttotal: 1.1s\tremaining: 713ms\n",
      "608:\tlearn: 0.0209136\ttotal: 1.11s\tremaining: 711ms\n",
      "609:\tlearn: 0.0209134\ttotal: 1.11s\tremaining: 709ms\n",
      "610:\tlearn: 0.0209133\ttotal: 1.11s\tremaining: 708ms\n",
      "611:\tlearn: 0.0209132\ttotal: 1.11s\tremaining: 706ms\n",
      "612:\tlearn: 0.0209129\ttotal: 1.11s\tremaining: 704ms\n",
      "613:\tlearn: 0.0209129\ttotal: 1.12s\tremaining: 702ms\n",
      "614:\tlearn: 0.0209128\ttotal: 1.12s\tremaining: 700ms\n",
      "615:\tlearn: 0.0209127\ttotal: 1.12s\tremaining: 698ms\n",
      "616:\tlearn: 0.0209126\ttotal: 1.12s\tremaining: 696ms\n",
      "617:\tlearn: 0.0209125\ttotal: 1.12s\tremaining: 695ms\n",
      "618:\tlearn: 0.0209124\ttotal: 1.13s\tremaining: 693ms\n",
      "619:\tlearn: 0.0209123\ttotal: 1.13s\tremaining: 691ms\n",
      "620:\tlearn: 0.0209123\ttotal: 1.13s\tremaining: 689ms\n",
      "621:\tlearn: 0.0209122\ttotal: 1.13s\tremaining: 687ms\n",
      "622:\tlearn: 0.0209122\ttotal: 1.13s\tremaining: 686ms\n",
      "623:\tlearn: 0.0209122\ttotal: 1.13s\tremaining: 684ms\n",
      "624:\tlearn: 0.0209122\ttotal: 1.14s\tremaining: 682ms\n",
      "625:\tlearn: 0.0209120\ttotal: 1.14s\tremaining: 680ms\n",
      "626:\tlearn: 0.0209119\ttotal: 1.14s\tremaining: 678ms\n",
      "627:\tlearn: 0.0209118\ttotal: 1.14s\tremaining: 676ms\n",
      "628:\tlearn: 0.0209118\ttotal: 1.14s\tremaining: 674ms\n",
      "629:\tlearn: 0.0209116\ttotal: 1.15s\tremaining: 673ms\n",
      "630:\tlearn: 0.0209117\ttotal: 1.15s\tremaining: 671ms\n",
      "631:\tlearn: 0.0209117\ttotal: 1.15s\tremaining: 669ms\n",
      "632:\tlearn: 0.0209115\ttotal: 1.15s\tremaining: 667ms\n",
      "633:\tlearn: 0.0209113\ttotal: 1.15s\tremaining: 665ms\n",
      "634:\tlearn: 0.0209111\ttotal: 1.15s\tremaining: 663ms\n",
      "635:\tlearn: 0.0209110\ttotal: 1.16s\tremaining: 661ms\n",
      "636:\tlearn: 0.0209109\ttotal: 1.16s\tremaining: 659ms\n",
      "637:\tlearn: 0.0209108\ttotal: 1.16s\tremaining: 658ms\n",
      "638:\tlearn: 0.0209105\ttotal: 1.16s\tremaining: 656ms\n",
      "639:\tlearn: 0.0209104\ttotal: 1.16s\tremaining: 654ms\n",
      "640:\tlearn: 0.0209103\ttotal: 1.16s\tremaining: 652ms\n",
      "641:\tlearn: 0.0209103\ttotal: 1.17s\tremaining: 650ms\n",
      "642:\tlearn: 0.0209101\ttotal: 1.17s\tremaining: 648ms\n",
      "643:\tlearn: 0.0209099\ttotal: 1.17s\tremaining: 647ms\n",
      "644:\tlearn: 0.0209099\ttotal: 1.17s\tremaining: 645ms\n",
      "645:\tlearn: 0.0209097\ttotal: 1.17s\tremaining: 643ms\n",
      "646:\tlearn: 0.0209096\ttotal: 1.18s\tremaining: 641ms\n",
      "647:\tlearn: 0.0209095\ttotal: 1.18s\tremaining: 639ms\n",
      "648:\tlearn: 0.0209096\ttotal: 1.18s\tremaining: 638ms\n",
      "649:\tlearn: 0.0209093\ttotal: 1.18s\tremaining: 636ms\n",
      "650:\tlearn: 0.0209093\ttotal: 1.18s\tremaining: 634ms\n",
      "651:\tlearn: 0.0209092\ttotal: 1.18s\tremaining: 632ms\n",
      "652:\tlearn: 0.0209091\ttotal: 1.19s\tremaining: 630ms\n",
      "653:\tlearn: 0.0209087\ttotal: 1.19s\tremaining: 628ms\n",
      "654:\tlearn: 0.0209087\ttotal: 1.19s\tremaining: 626ms\n",
      "655:\tlearn: 0.0209085\ttotal: 1.19s\tremaining: 624ms\n",
      "656:\tlearn: 0.0209084\ttotal: 1.19s\tremaining: 623ms\n",
      "657:\tlearn: 0.0209083\ttotal: 1.19s\tremaining: 621ms\n",
      "658:\tlearn: 0.0209083\ttotal: 1.2s\tremaining: 619ms\n",
      "659:\tlearn: 0.0209082\ttotal: 1.2s\tremaining: 617ms\n",
      "660:\tlearn: 0.0209081\ttotal: 1.2s\tremaining: 615ms\n",
      "661:\tlearn: 0.0209080\ttotal: 1.2s\tremaining: 613ms\n",
      "662:\tlearn: 0.0209081\ttotal: 1.2s\tremaining: 612ms\n",
      "663:\tlearn: 0.0209080\ttotal: 1.2s\tremaining: 610ms\n",
      "664:\tlearn: 0.0209080\ttotal: 1.21s\tremaining: 608ms\n",
      "665:\tlearn: 0.0209080\ttotal: 1.21s\tremaining: 606ms\n",
      "666:\tlearn: 0.0209079\ttotal: 1.21s\tremaining: 604ms\n",
      "667:\tlearn: 0.0209079\ttotal: 1.21s\tremaining: 602ms\n",
      "668:\tlearn: 0.0209076\ttotal: 1.21s\tremaining: 600ms\n",
      "669:\tlearn: 0.0209075\ttotal: 1.22s\tremaining: 599ms\n",
      "670:\tlearn: 0.0209074\ttotal: 1.22s\tremaining: 597ms\n",
      "671:\tlearn: 0.0209073\ttotal: 1.22s\tremaining: 595ms\n",
      "672:\tlearn: 0.0209071\ttotal: 1.22s\tremaining: 593ms\n",
      "673:\tlearn: 0.0209070\ttotal: 1.22s\tremaining: 591ms\n",
      "674:\tlearn: 0.0209070\ttotal: 1.22s\tremaining: 589ms\n",
      "675:\tlearn: 0.0209070\ttotal: 1.23s\tremaining: 587ms\n",
      "676:\tlearn: 0.0209069\ttotal: 1.23s\tremaining: 585ms\n",
      "677:\tlearn: 0.0209068\ttotal: 1.23s\tremaining: 584ms\n",
      "678:\tlearn: 0.0209068\ttotal: 1.23s\tremaining: 582ms\n",
      "679:\tlearn: 0.0209067\ttotal: 1.23s\tremaining: 580ms\n",
      "680:\tlearn: 0.0209066\ttotal: 1.23s\tremaining: 578ms\n",
      "681:\tlearn: 0.0209064\ttotal: 1.24s\tremaining: 576ms\n",
      "682:\tlearn: 0.0209064\ttotal: 1.24s\tremaining: 574ms\n",
      "683:\tlearn: 0.0209063\ttotal: 1.24s\tremaining: 573ms\n",
      "684:\tlearn: 0.0209061\ttotal: 1.24s\tremaining: 571ms\n",
      "685:\tlearn: 0.0209059\ttotal: 1.24s\tremaining: 569ms\n",
      "686:\tlearn: 0.0209059\ttotal: 1.24s\tremaining: 567ms\n",
      "687:\tlearn: 0.0209058\ttotal: 1.25s\tremaining: 565ms\n",
      "688:\tlearn: 0.0209058\ttotal: 1.25s\tremaining: 563ms\n",
      "689:\tlearn: 0.0209057\ttotal: 1.25s\tremaining: 561ms\n",
      "690:\tlearn: 0.0209057\ttotal: 1.25s\tremaining: 559ms\n",
      "691:\tlearn: 0.0209055\ttotal: 1.25s\tremaining: 558ms\n",
      "692:\tlearn: 0.0209054\ttotal: 1.25s\tremaining: 556ms\n",
      "693:\tlearn: 0.0209053\ttotal: 1.26s\tremaining: 554ms\n",
      "694:\tlearn: 0.0209052\ttotal: 1.26s\tremaining: 552ms\n",
      "695:\tlearn: 0.0209051\ttotal: 1.26s\tremaining: 550ms\n",
      "696:\tlearn: 0.0209052\ttotal: 1.26s\tremaining: 548ms\n",
      "697:\tlearn: 0.0209051\ttotal: 1.26s\tremaining: 546ms\n",
      "698:\tlearn: 0.0209049\ttotal: 1.26s\tremaining: 545ms\n",
      "699:\tlearn: 0.0209048\ttotal: 1.27s\tremaining: 543ms\n",
      "700:\tlearn: 0.0209046\ttotal: 1.27s\tremaining: 541ms\n",
      "701:\tlearn: 0.0209045\ttotal: 1.27s\tremaining: 539ms\n",
      "702:\tlearn: 0.0209044\ttotal: 1.27s\tremaining: 537ms\n",
      "703:\tlearn: 0.0209043\ttotal: 1.27s\tremaining: 535ms\n",
      "704:\tlearn: 0.0209043\ttotal: 1.27s\tremaining: 533ms\n",
      "705:\tlearn: 0.0209042\ttotal: 1.28s\tremaining: 532ms\n",
      "706:\tlearn: 0.0209042\ttotal: 1.28s\tremaining: 530ms\n",
      "707:\tlearn: 0.0209041\ttotal: 1.28s\tremaining: 528ms\n",
      "708:\tlearn: 0.0209040\ttotal: 1.28s\tremaining: 526ms\n",
      "709:\tlearn: 0.0209039\ttotal: 1.28s\tremaining: 524ms\n",
      "710:\tlearn: 0.0209038\ttotal: 1.28s\tremaining: 523ms\n",
      "711:\tlearn: 0.0209037\ttotal: 1.29s\tremaining: 521ms\n",
      "712:\tlearn: 0.0209037\ttotal: 1.29s\tremaining: 519ms\n",
      "713:\tlearn: 0.0209036\ttotal: 1.29s\tremaining: 517ms\n",
      "714:\tlearn: 0.0209035\ttotal: 1.29s\tremaining: 515ms\n",
      "715:\tlearn: 0.0209034\ttotal: 1.29s\tremaining: 513ms\n",
      "716:\tlearn: 0.0209032\ttotal: 1.29s\tremaining: 511ms\n",
      "717:\tlearn: 0.0209032\ttotal: 1.3s\tremaining: 510ms\n",
      "718:\tlearn: 0.0209032\ttotal: 1.3s\tremaining: 508ms\n",
      "719:\tlearn: 0.0209027\ttotal: 1.3s\tremaining: 506ms\n",
      "720:\tlearn: 0.0209027\ttotal: 1.3s\tremaining: 504ms\n",
      "721:\tlearn: 0.0209026\ttotal: 1.3s\tremaining: 502ms\n",
      "722:\tlearn: 0.0209026\ttotal: 1.31s\tremaining: 501ms\n",
      "723:\tlearn: 0.0209024\ttotal: 1.31s\tremaining: 499ms\n",
      "724:\tlearn: 0.0209024\ttotal: 1.31s\tremaining: 497ms\n",
      "725:\tlearn: 0.0209022\ttotal: 1.31s\tremaining: 495ms\n",
      "726:\tlearn: 0.0209021\ttotal: 1.31s\tremaining: 493ms\n",
      "727:\tlearn: 0.0209021\ttotal: 1.31s\tremaining: 491ms\n",
      "728:\tlearn: 0.0209021\ttotal: 1.32s\tremaining: 490ms\n",
      "729:\tlearn: 0.0209019\ttotal: 1.32s\tremaining: 488ms\n",
      "730:\tlearn: 0.0209019\ttotal: 1.32s\tremaining: 486ms\n",
      "731:\tlearn: 0.0209017\ttotal: 1.32s\tremaining: 484ms\n",
      "732:\tlearn: 0.0209017\ttotal: 1.32s\tremaining: 482ms\n",
      "733:\tlearn: 0.0209016\ttotal: 1.32s\tremaining: 480ms\n",
      "734:\tlearn: 0.0209016\ttotal: 1.33s\tremaining: 479ms\n",
      "735:\tlearn: 0.0209015\ttotal: 1.33s\tremaining: 477ms\n",
      "736:\tlearn: 0.0209015\ttotal: 1.33s\tremaining: 475ms\n",
      "737:\tlearn: 0.0209013\ttotal: 1.33s\tremaining: 473ms\n",
      "738:\tlearn: 0.0209012\ttotal: 1.33s\tremaining: 471ms\n",
      "739:\tlearn: 0.0209010\ttotal: 1.33s\tremaining: 469ms\n",
      "740:\tlearn: 0.0209009\ttotal: 1.34s\tremaining: 468ms\n",
      "741:\tlearn: 0.0209008\ttotal: 1.34s\tremaining: 466ms\n",
      "742:\tlearn: 0.0209008\ttotal: 1.34s\tremaining: 464ms\n",
      "743:\tlearn: 0.0209008\ttotal: 1.34s\tremaining: 462ms\n",
      "744:\tlearn: 0.0209007\ttotal: 1.34s\tremaining: 460ms\n",
      "745:\tlearn: 0.0209006\ttotal: 1.35s\tremaining: 458ms\n",
      "746:\tlearn: 0.0209000\ttotal: 1.35s\tremaining: 457ms\n",
      "747:\tlearn: 0.0208999\ttotal: 1.35s\tremaining: 455ms\n",
      "748:\tlearn: 0.0208999\ttotal: 1.35s\tremaining: 453ms\n",
      "749:\tlearn: 0.0208993\ttotal: 1.35s\tremaining: 451ms\n",
      "750:\tlearn: 0.0208991\ttotal: 1.35s\tremaining: 449ms\n",
      "751:\tlearn: 0.0208989\ttotal: 1.36s\tremaining: 448ms\n",
      "752:\tlearn: 0.0208988\ttotal: 1.36s\tremaining: 446ms\n",
      "753:\tlearn: 0.0208987\ttotal: 1.36s\tremaining: 444ms\n",
      "754:\tlearn: 0.0208985\ttotal: 1.36s\tremaining: 442ms\n",
      "755:\tlearn: 0.0208985\ttotal: 1.36s\tremaining: 440ms\n",
      "756:\tlearn: 0.0208984\ttotal: 1.36s\tremaining: 438ms\n",
      "757:\tlearn: 0.0208984\ttotal: 1.37s\tremaining: 437ms\n",
      "758:\tlearn: 0.0208984\ttotal: 1.37s\tremaining: 435ms\n",
      "759:\tlearn: 0.0208982\ttotal: 1.37s\tremaining: 433ms\n",
      "760:\tlearn: 0.0208982\ttotal: 1.37s\tremaining: 431ms\n",
      "761:\tlearn: 0.0208981\ttotal: 1.37s\tremaining: 429ms\n",
      "762:\tlearn: 0.0208978\ttotal: 1.38s\tremaining: 427ms\n",
      "763:\tlearn: 0.0208978\ttotal: 1.38s\tremaining: 425ms\n",
      "764:\tlearn: 0.0208978\ttotal: 1.38s\tremaining: 424ms\n",
      "765:\tlearn: 0.0208976\ttotal: 1.38s\tremaining: 422ms\n",
      "766:\tlearn: 0.0208975\ttotal: 1.38s\tremaining: 420ms\n",
      "767:\tlearn: 0.0208975\ttotal: 1.38s\tremaining: 418ms\n",
      "768:\tlearn: 0.0208975\ttotal: 1.39s\tremaining: 416ms\n",
      "769:\tlearn: 0.0208975\ttotal: 1.39s\tremaining: 415ms\n",
      "770:\tlearn: 0.0208973\ttotal: 1.39s\tremaining: 413ms\n",
      "771:\tlearn: 0.0208973\ttotal: 1.39s\tremaining: 411ms\n",
      "772:\tlearn: 0.0208969\ttotal: 1.39s\tremaining: 409ms\n",
      "773:\tlearn: 0.0208968\ttotal: 1.39s\tremaining: 407ms\n",
      "774:\tlearn: 0.0208968\ttotal: 1.4s\tremaining: 405ms\n",
      "775:\tlearn: 0.0208966\ttotal: 1.4s\tremaining: 404ms\n",
      "776:\tlearn: 0.0208966\ttotal: 1.4s\tremaining: 402ms\n",
      "777:\tlearn: 0.0208965\ttotal: 1.4s\tremaining: 400ms\n",
      "778:\tlearn: 0.0208965\ttotal: 1.4s\tremaining: 398ms\n",
      "779:\tlearn: 0.0208966\ttotal: 1.41s\tremaining: 397ms\n",
      "780:\tlearn: 0.0208964\ttotal: 1.41s\tremaining: 395ms\n",
      "781:\tlearn: 0.0208964\ttotal: 1.41s\tremaining: 393ms\n",
      "782:\tlearn: 0.0208963\ttotal: 1.41s\tremaining: 391ms\n",
      "783:\tlearn: 0.0208963\ttotal: 1.41s\tremaining: 389ms\n",
      "784:\tlearn: 0.0208962\ttotal: 1.41s\tremaining: 387ms\n",
      "785:\tlearn: 0.0208960\ttotal: 1.42s\tremaining: 386ms\n",
      "786:\tlearn: 0.0208959\ttotal: 1.42s\tremaining: 384ms\n",
      "787:\tlearn: 0.0208951\ttotal: 1.42s\tremaining: 382ms\n",
      "788:\tlearn: 0.0208950\ttotal: 1.42s\tremaining: 380ms\n",
      "789:\tlearn: 0.0208949\ttotal: 1.42s\tremaining: 378ms\n",
      "790:\tlearn: 0.0208948\ttotal: 1.43s\tremaining: 377ms\n",
      "791:\tlearn: 0.0208947\ttotal: 1.43s\tremaining: 375ms\n",
      "792:\tlearn: 0.0208946\ttotal: 1.43s\tremaining: 373ms\n",
      "793:\tlearn: 0.0208945\ttotal: 1.43s\tremaining: 371ms\n",
      "794:\tlearn: 0.0208944\ttotal: 1.43s\tremaining: 369ms\n",
      "795:\tlearn: 0.0208942\ttotal: 1.43s\tremaining: 367ms\n",
      "796:\tlearn: 0.0208942\ttotal: 1.44s\tremaining: 366ms\n",
      "797:\tlearn: 0.0208942\ttotal: 1.44s\tremaining: 364ms\n",
      "798:\tlearn: 0.0208933\ttotal: 1.44s\tremaining: 362ms\n",
      "799:\tlearn: 0.0208930\ttotal: 1.44s\tremaining: 360ms\n",
      "800:\tlearn: 0.0208926\ttotal: 1.44s\tremaining: 358ms\n",
      "801:\tlearn: 0.0208926\ttotal: 1.44s\tremaining: 357ms\n",
      "802:\tlearn: 0.0208925\ttotal: 1.45s\tremaining: 355ms\n",
      "803:\tlearn: 0.0208924\ttotal: 1.45s\tremaining: 353ms\n",
      "804:\tlearn: 0.0208923\ttotal: 1.45s\tremaining: 351ms\n",
      "805:\tlearn: 0.0208923\ttotal: 1.45s\tremaining: 349ms\n",
      "806:\tlearn: 0.0208922\ttotal: 1.45s\tremaining: 347ms\n",
      "807:\tlearn: 0.0208922\ttotal: 1.45s\tremaining: 346ms\n",
      "808:\tlearn: 0.0208921\ttotal: 1.46s\tremaining: 344ms\n",
      "809:\tlearn: 0.0208917\ttotal: 1.46s\tremaining: 342ms\n",
      "810:\tlearn: 0.0208917\ttotal: 1.46s\tremaining: 340ms\n",
      "811:\tlearn: 0.0208916\ttotal: 1.46s\tremaining: 338ms\n",
      "812:\tlearn: 0.0208915\ttotal: 1.46s\tremaining: 336ms\n",
      "813:\tlearn: 0.0208913\ttotal: 1.46s\tremaining: 335ms\n",
      "814:\tlearn: 0.0208914\ttotal: 1.47s\tremaining: 333ms\n",
      "815:\tlearn: 0.0208911\ttotal: 1.47s\tremaining: 331ms\n",
      "816:\tlearn: 0.0208911\ttotal: 1.47s\tremaining: 329ms\n",
      "817:\tlearn: 0.0208910\ttotal: 1.47s\tremaining: 327ms\n",
      "818:\tlearn: 0.0208911\ttotal: 1.47s\tremaining: 326ms\n",
      "819:\tlearn: 0.0208910\ttotal: 1.47s\tremaining: 324ms\n",
      "820:\tlearn: 0.0208909\ttotal: 1.48s\tremaining: 322ms\n",
      "821:\tlearn: 0.0208908\ttotal: 1.48s\tremaining: 320ms\n",
      "822:\tlearn: 0.0208908\ttotal: 1.48s\tremaining: 318ms\n",
      "823:\tlearn: 0.0208907\ttotal: 1.48s\tremaining: 316ms\n",
      "824:\tlearn: 0.0208907\ttotal: 1.48s\tremaining: 315ms\n",
      "825:\tlearn: 0.0208905\ttotal: 1.49s\tremaining: 313ms\n",
      "826:\tlearn: 0.0208904\ttotal: 1.49s\tremaining: 311ms\n",
      "827:\tlearn: 0.0208902\ttotal: 1.49s\tremaining: 309ms\n",
      "828:\tlearn: 0.0208901\ttotal: 1.49s\tremaining: 307ms\n",
      "829:\tlearn: 0.0208901\ttotal: 1.49s\tremaining: 306ms\n",
      "830:\tlearn: 0.0208901\ttotal: 1.49s\tremaining: 304ms\n",
      "831:\tlearn: 0.0208899\ttotal: 1.5s\tremaining: 302ms\n",
      "832:\tlearn: 0.0208893\ttotal: 1.5s\tremaining: 300ms\n",
      "833:\tlearn: 0.0208892\ttotal: 1.5s\tremaining: 298ms\n",
      "834:\tlearn: 0.0208892\ttotal: 1.5s\tremaining: 297ms\n",
      "835:\tlearn: 0.0208891\ttotal: 1.5s\tremaining: 295ms\n",
      "836:\tlearn: 0.0208890\ttotal: 1.5s\tremaining: 293ms\n",
      "837:\tlearn: 0.0208889\ttotal: 1.5s\tremaining: 291ms\n",
      "838:\tlearn: 0.0208888\ttotal: 1.51s\tremaining: 289ms\n",
      "839:\tlearn: 0.0208886\ttotal: 1.51s\tremaining: 287ms\n",
      "840:\tlearn: 0.0208885\ttotal: 1.51s\tremaining: 286ms\n",
      "841:\tlearn: 0.0208885\ttotal: 1.51s\tremaining: 284ms\n",
      "842:\tlearn: 0.0208884\ttotal: 1.51s\tremaining: 282ms\n",
      "843:\tlearn: 0.0208884\ttotal: 1.52s\tremaining: 280ms\n",
      "844:\tlearn: 0.0208884\ttotal: 1.52s\tremaining: 278ms\n",
      "845:\tlearn: 0.0208884\ttotal: 1.52s\tremaining: 277ms\n",
      "846:\tlearn: 0.0208881\ttotal: 1.52s\tremaining: 275ms\n",
      "847:\tlearn: 0.0208880\ttotal: 1.52s\tremaining: 273ms\n",
      "848:\tlearn: 0.0208880\ttotal: 1.52s\tremaining: 271ms\n",
      "849:\tlearn: 0.0208879\ttotal: 1.53s\tremaining: 269ms\n",
      "850:\tlearn: 0.0208878\ttotal: 1.53s\tremaining: 268ms\n",
      "851:\tlearn: 0.0208878\ttotal: 1.53s\tremaining: 266ms\n",
      "852:\tlearn: 0.0208878\ttotal: 1.53s\tremaining: 264ms\n",
      "853:\tlearn: 0.0208876\ttotal: 1.53s\tremaining: 262ms\n",
      "854:\tlearn: 0.0208875\ttotal: 1.53s\tremaining: 260ms\n",
      "855:\tlearn: 0.0208874\ttotal: 1.54s\tremaining: 259ms\n",
      "856:\tlearn: 0.0208874\ttotal: 1.54s\tremaining: 257ms\n",
      "857:\tlearn: 0.0208874\ttotal: 1.54s\tremaining: 255ms\n",
      "858:\tlearn: 0.0208874\ttotal: 1.54s\tremaining: 253ms\n",
      "859:\tlearn: 0.0208873\ttotal: 1.54s\tremaining: 251ms\n",
      "860:\tlearn: 0.0208872\ttotal: 1.54s\tremaining: 250ms\n",
      "861:\tlearn: 0.0208870\ttotal: 1.55s\tremaining: 248ms\n",
      "862:\tlearn: 0.0208871\ttotal: 1.55s\tremaining: 246ms\n",
      "863:\tlearn: 0.0208871\ttotal: 1.55s\tremaining: 244ms\n",
      "864:\tlearn: 0.0208870\ttotal: 1.55s\tremaining: 242ms\n",
      "865:\tlearn: 0.0208869\ttotal: 1.55s\tremaining: 241ms\n",
      "866:\tlearn: 0.0208868\ttotal: 1.56s\tremaining: 239ms\n",
      "867:\tlearn: 0.0208867\ttotal: 1.56s\tremaining: 237ms\n",
      "868:\tlearn: 0.0208866\ttotal: 1.56s\tremaining: 235ms\n",
      "869:\tlearn: 0.0208865\ttotal: 1.56s\tremaining: 233ms\n",
      "870:\tlearn: 0.0208865\ttotal: 1.56s\tremaining: 232ms\n",
      "871:\tlearn: 0.0208864\ttotal: 1.56s\tremaining: 230ms\n",
      "872:\tlearn: 0.0208864\ttotal: 1.57s\tremaining: 228ms\n",
      "873:\tlearn: 0.0208864\ttotal: 1.57s\tremaining: 226ms\n",
      "874:\tlearn: 0.0208863\ttotal: 1.57s\tremaining: 224ms\n",
      "875:\tlearn: 0.0208862\ttotal: 1.57s\tremaining: 223ms\n",
      "876:\tlearn: 0.0208862\ttotal: 1.57s\tremaining: 221ms\n",
      "877:\tlearn: 0.0208861\ttotal: 1.58s\tremaining: 219ms\n",
      "878:\tlearn: 0.0208860\ttotal: 1.58s\tremaining: 217ms\n",
      "879:\tlearn: 0.0208857\ttotal: 1.58s\tremaining: 215ms\n",
      "880:\tlearn: 0.0208855\ttotal: 1.58s\tremaining: 214ms\n",
      "881:\tlearn: 0.0208854\ttotal: 1.58s\tremaining: 212ms\n",
      "882:\tlearn: 0.0208851\ttotal: 1.58s\tremaining: 210ms\n",
      "883:\tlearn: 0.0208849\ttotal: 1.59s\tremaining: 208ms\n",
      "884:\tlearn: 0.0208842\ttotal: 1.59s\tremaining: 206ms\n",
      "885:\tlearn: 0.0208839\ttotal: 1.59s\tremaining: 205ms\n",
      "886:\tlearn: 0.0208839\ttotal: 1.59s\tremaining: 203ms\n",
      "887:\tlearn: 0.0208839\ttotal: 1.59s\tremaining: 201ms\n",
      "888:\tlearn: 0.0208837\ttotal: 1.59s\tremaining: 199ms\n",
      "889:\tlearn: 0.0208838\ttotal: 1.6s\tremaining: 197ms\n",
      "890:\tlearn: 0.0208836\ttotal: 1.6s\tremaining: 196ms\n",
      "891:\tlearn: 0.0208836\ttotal: 1.6s\tremaining: 194ms\n",
      "892:\tlearn: 0.0208836\ttotal: 1.6s\tremaining: 192ms\n",
      "893:\tlearn: 0.0208835\ttotal: 1.6s\tremaining: 190ms\n",
      "894:\tlearn: 0.0208834\ttotal: 1.6s\tremaining: 188ms\n",
      "895:\tlearn: 0.0208833\ttotal: 1.61s\tremaining: 187ms\n",
      "896:\tlearn: 0.0208832\ttotal: 1.61s\tremaining: 185ms\n",
      "897:\tlearn: 0.0208831\ttotal: 1.61s\tremaining: 183ms\n",
      "898:\tlearn: 0.0208831\ttotal: 1.61s\tremaining: 181ms\n",
      "899:\tlearn: 0.0208828\ttotal: 1.61s\tremaining: 179ms\n",
      "900:\tlearn: 0.0208828\ttotal: 1.62s\tremaining: 178ms\n",
      "901:\tlearn: 0.0208827\ttotal: 1.62s\tremaining: 176ms\n",
      "902:\tlearn: 0.0208826\ttotal: 1.62s\tremaining: 174ms\n",
      "903:\tlearn: 0.0208825\ttotal: 1.62s\tremaining: 172ms\n",
      "904:\tlearn: 0.0208823\ttotal: 1.62s\tremaining: 170ms\n",
      "905:\tlearn: 0.0208824\ttotal: 1.63s\tremaining: 169ms\n",
      "906:\tlearn: 0.0208821\ttotal: 1.63s\tremaining: 167ms\n",
      "907:\tlearn: 0.0208820\ttotal: 1.63s\tremaining: 165ms\n",
      "908:\tlearn: 0.0208819\ttotal: 1.63s\tremaining: 163ms\n",
      "909:\tlearn: 0.0208818\ttotal: 1.63s\tremaining: 161ms\n",
      "910:\tlearn: 0.0208818\ttotal: 1.63s\tremaining: 160ms\n",
      "911:\tlearn: 0.0208817\ttotal: 1.64s\tremaining: 158ms\n",
      "912:\tlearn: 0.0208816\ttotal: 1.64s\tremaining: 156ms\n",
      "913:\tlearn: 0.0208806\ttotal: 1.64s\tremaining: 154ms\n",
      "914:\tlearn: 0.0208807\ttotal: 1.64s\tremaining: 152ms\n",
      "915:\tlearn: 0.0208805\ttotal: 1.64s\tremaining: 151ms\n",
      "916:\tlearn: 0.0208804\ttotal: 1.64s\tremaining: 149ms\n",
      "917:\tlearn: 0.0208803\ttotal: 1.65s\tremaining: 147ms\n",
      "918:\tlearn: 0.0208803\ttotal: 1.65s\tremaining: 145ms\n",
      "919:\tlearn: 0.0208802\ttotal: 1.65s\tremaining: 143ms\n",
      "920:\tlearn: 0.0208802\ttotal: 1.65s\tremaining: 142ms\n",
      "921:\tlearn: 0.0208802\ttotal: 1.65s\tremaining: 140ms\n",
      "922:\tlearn: 0.0208802\ttotal: 1.65s\tremaining: 138ms\n",
      "923:\tlearn: 0.0208800\ttotal: 1.66s\tremaining: 136ms\n",
      "924:\tlearn: 0.0208800\ttotal: 1.66s\tremaining: 134ms\n",
      "925:\tlearn: 0.0208799\ttotal: 1.66s\tremaining: 133ms\n",
      "926:\tlearn: 0.0208800\ttotal: 1.66s\tremaining: 131ms\n",
      "927:\tlearn: 0.0208798\ttotal: 1.66s\tremaining: 129ms\n",
      "928:\tlearn: 0.0208788\ttotal: 1.67s\tremaining: 127ms\n",
      "929:\tlearn: 0.0208788\ttotal: 1.67s\tremaining: 125ms\n",
      "930:\tlearn: 0.0208786\ttotal: 1.67s\tremaining: 124ms\n",
      "931:\tlearn: 0.0208785\ttotal: 1.67s\tremaining: 122ms\n",
      "932:\tlearn: 0.0208785\ttotal: 1.67s\tremaining: 120ms\n",
      "933:\tlearn: 0.0208785\ttotal: 1.67s\tremaining: 118ms\n",
      "934:\tlearn: 0.0208783\ttotal: 1.68s\tremaining: 117ms\n",
      "935:\tlearn: 0.0208782\ttotal: 1.68s\tremaining: 115ms\n",
      "936:\tlearn: 0.0208781\ttotal: 1.68s\tremaining: 113ms\n",
      "937:\tlearn: 0.0208780\ttotal: 1.68s\tremaining: 111ms\n",
      "938:\tlearn: 0.0208780\ttotal: 1.68s\tremaining: 109ms\n",
      "939:\tlearn: 0.0208780\ttotal: 1.69s\tremaining: 108ms\n",
      "940:\tlearn: 0.0208778\ttotal: 1.69s\tremaining: 106ms\n",
      "941:\tlearn: 0.0208777\ttotal: 1.69s\tremaining: 104ms\n",
      "942:\tlearn: 0.0208776\ttotal: 1.69s\tremaining: 102ms\n",
      "943:\tlearn: 0.0208776\ttotal: 1.69s\tremaining: 100ms\n",
      "944:\tlearn: 0.0208775\ttotal: 1.69s\tremaining: 98.6ms\n",
      "945:\tlearn: 0.0208775\ttotal: 1.7s\tremaining: 96.8ms\n",
      "946:\tlearn: 0.0208774\ttotal: 1.7s\tremaining: 95ms\n",
      "947:\tlearn: 0.0208774\ttotal: 1.7s\tremaining: 93.2ms\n",
      "948:\tlearn: 0.0208772\ttotal: 1.7s\tremaining: 91.4ms\n",
      "949:\tlearn: 0.0208770\ttotal: 1.7s\tremaining: 89.7ms\n",
      "950:\tlearn: 0.0208765\ttotal: 1.71s\tremaining: 87.9ms\n",
      "951:\tlearn: 0.0208764\ttotal: 1.71s\tremaining: 86.1ms\n",
      "952:\tlearn: 0.0208762\ttotal: 1.71s\tremaining: 84.3ms\n",
      "953:\tlearn: 0.0208761\ttotal: 1.71s\tremaining: 82.5ms\n",
      "954:\tlearn: 0.0208760\ttotal: 1.71s\tremaining: 80.7ms\n",
      "955:\tlearn: 0.0208760\ttotal: 1.71s\tremaining: 78.9ms\n",
      "956:\tlearn: 0.0208758\ttotal: 1.72s\tremaining: 77.1ms\n",
      "957:\tlearn: 0.0208752\ttotal: 1.72s\tremaining: 75.3ms\n",
      "958:\tlearn: 0.0208751\ttotal: 1.72s\tremaining: 73.5ms\n",
      "959:\tlearn: 0.0208748\ttotal: 1.72s\tremaining: 71.7ms\n",
      "960:\tlearn: 0.0208746\ttotal: 1.72s\tremaining: 69.9ms\n",
      "961:\tlearn: 0.0208744\ttotal: 1.73s\tremaining: 68.2ms\n",
      "962:\tlearn: 0.0208743\ttotal: 1.73s\tremaining: 66.4ms\n",
      "963:\tlearn: 0.0208743\ttotal: 1.73s\tremaining: 64.6ms\n",
      "964:\tlearn: 0.0208742\ttotal: 1.73s\tremaining: 62.8ms\n",
      "965:\tlearn: 0.0208738\ttotal: 1.73s\tremaining: 61ms\n",
      "966:\tlearn: 0.0208736\ttotal: 1.73s\tremaining: 59.2ms\n",
      "967:\tlearn: 0.0208735\ttotal: 1.74s\tremaining: 57.4ms\n",
      "968:\tlearn: 0.0208736\ttotal: 1.74s\tremaining: 55.6ms\n",
      "969:\tlearn: 0.0208733\ttotal: 1.74s\tremaining: 53.8ms\n",
      "970:\tlearn: 0.0208733\ttotal: 1.74s\tremaining: 52ms\n",
      "971:\tlearn: 0.0208731\ttotal: 1.74s\tremaining: 50.2ms\n",
      "972:\tlearn: 0.0208731\ttotal: 1.75s\tremaining: 48.4ms\n",
      "973:\tlearn: 0.0208731\ttotal: 1.75s\tremaining: 46.6ms\n",
      "974:\tlearn: 0.0208723\ttotal: 1.75s\tremaining: 44.8ms\n",
      "975:\tlearn: 0.0208721\ttotal: 1.75s\tremaining: 43ms\n",
      "976:\tlearn: 0.0208719\ttotal: 1.75s\tremaining: 41.3ms\n",
      "977:\tlearn: 0.0208719\ttotal: 1.75s\tremaining: 39.5ms\n",
      "978:\tlearn: 0.0208717\ttotal: 1.76s\tremaining: 37.7ms\n",
      "979:\tlearn: 0.0208717\ttotal: 1.76s\tremaining: 35.9ms\n",
      "980:\tlearn: 0.0208716\ttotal: 1.76s\tremaining: 34.1ms\n",
      "981:\tlearn: 0.0208716\ttotal: 1.76s\tremaining: 32.3ms\n",
      "982:\tlearn: 0.0208715\ttotal: 1.76s\tremaining: 30.5ms\n",
      "983:\tlearn: 0.0208707\ttotal: 1.76s\tremaining: 28.7ms\n",
      "984:\tlearn: 0.0208706\ttotal: 1.77s\tremaining: 26.9ms\n",
      "985:\tlearn: 0.0208705\ttotal: 1.77s\tremaining: 25.1ms\n",
      "986:\tlearn: 0.0208705\ttotal: 1.77s\tremaining: 23.3ms\n",
      "987:\tlearn: 0.0208699\ttotal: 1.77s\tremaining: 21.5ms\n",
      "988:\tlearn: 0.0208698\ttotal: 1.77s\tremaining: 19.7ms\n",
      "989:\tlearn: 0.0208697\ttotal: 1.77s\tremaining: 17.9ms\n",
      "990:\tlearn: 0.0208696\ttotal: 1.78s\tremaining: 16.1ms\n",
      "991:\tlearn: 0.0208696\ttotal: 1.78s\tremaining: 14.3ms\n",
      "992:\tlearn: 0.0208691\ttotal: 1.78s\tremaining: 12.6ms\n",
      "993:\tlearn: 0.0208689\ttotal: 1.78s\tremaining: 10.8ms\n",
      "994:\tlearn: 0.0208689\ttotal: 1.78s\tremaining: 8.96ms\n",
      "995:\tlearn: 0.0208689\ttotal: 1.78s\tremaining: 7.17ms\n",
      "996:\tlearn: 0.0208689\ttotal: 1.79s\tremaining: 5.38ms\n",
      "997:\tlearn: 0.0208688\ttotal: 1.79s\tremaining: 3.58ms\n",
      "998:\tlearn: 0.0208688\ttotal: 1.79s\tremaining: 1.79ms\n",
      "999:\tlearn: 0.0208688\ttotal: 1.79s\tremaining: 0us\n",
      "0:\tlearn: 0.2648425\ttotal: 1.36ms\tremaining: 1.35s\n",
      "1:\tlearn: 0.1781301\ttotal: 3.58ms\tremaining: 1.78s\n",
      "2:\tlearn: 0.1523988\ttotal: 5.92ms\tremaining: 1.97s\n",
      "3:\tlearn: 0.1302144\ttotal: 7.87ms\tremaining: 1.96s\n",
      "4:\tlearn: 0.1217983\ttotal: 10.2ms\tremaining: 2.03s\n",
      "5:\tlearn: 0.1170841\ttotal: 12.3ms\tremaining: 2.03s\n",
      "6:\tlearn: 0.1125903\ttotal: 14.2ms\tremaining: 2.01s\n",
      "7:\tlearn: 0.1046324\ttotal: 16.2ms\tremaining: 2s\n",
      "8:\tlearn: 0.0979857\ttotal: 18.2ms\tremaining: 2.01s\n",
      "9:\tlearn: 0.0951732\ttotal: 20.2ms\tremaining: 2s\n",
      "10:\tlearn: 0.0865345\ttotal: 22.3ms\tremaining: 2s\n",
      "11:\tlearn: 0.0843088\ttotal: 24.4ms\tremaining: 2.01s\n",
      "12:\tlearn: 0.0814035\ttotal: 26.4ms\tremaining: 2.01s\n",
      "13:\tlearn: 0.0748005\ttotal: 28.4ms\tremaining: 2s\n",
      "14:\tlearn: 0.0729541\ttotal: 30.5ms\tremaining: 2s\n",
      "15:\tlearn: 0.0703748\ttotal: 32.5ms\tremaining: 2s\n",
      "16:\tlearn: 0.0684573\ttotal: 34.5ms\tremaining: 1.99s\n",
      "17:\tlearn: 0.0657855\ttotal: 36.4ms\tremaining: 1.99s\n",
      "18:\tlearn: 0.0641152\ttotal: 38.7ms\tremaining: 2s\n",
      "19:\tlearn: 0.0638986\ttotal: 40.3ms\tremaining: 1.97s\n",
      "20:\tlearn: 0.0601897\ttotal: 42.3ms\tremaining: 1.97s\n",
      "21:\tlearn: 0.0574331\ttotal: 44.4ms\tremaining: 1.98s\n",
      "22:\tlearn: 0.0562059\ttotal: 46.3ms\tremaining: 1.97s\n",
      "23:\tlearn: 0.0523969\ttotal: 48.3ms\tremaining: 1.97s\n",
      "24:\tlearn: 0.0505157\ttotal: 50.5ms\tremaining: 1.97s\n",
      "25:\tlearn: 0.0492267\ttotal: 52.5ms\tremaining: 1.97s\n",
      "26:\tlearn: 0.0481276\ttotal: 54.6ms\tremaining: 1.97s\n",
      "27:\tlearn: 0.0472434\ttotal: 56.6ms\tremaining: 1.97s\n",
      "28:\tlearn: 0.0464736\ttotal: 58.7ms\tremaining: 1.96s\n",
      "29:\tlearn: 0.0450597\ttotal: 60.6ms\tremaining: 1.96s\n",
      "30:\tlearn: 0.0438833\ttotal: 62.7ms\tremaining: 1.96s\n",
      "31:\tlearn: 0.0419914\ttotal: 64.7ms\tremaining: 1.96s\n",
      "32:\tlearn: 0.0414237\ttotal: 66.6ms\tremaining: 1.95s\n",
      "33:\tlearn: 0.0406433\ttotal: 68.6ms\tremaining: 1.95s\n",
      "34:\tlearn: 0.0401653\ttotal: 71.2ms\tremaining: 1.96s\n",
      "35:\tlearn: 0.0394206\ttotal: 73.4ms\tremaining: 1.96s\n",
      "36:\tlearn: 0.0387426\ttotal: 75.7ms\tremaining: 1.97s\n",
      "37:\tlearn: 0.0384086\ttotal: 78ms\tremaining: 1.97s\n",
      "38:\tlearn: 0.0376688\ttotal: 79.9ms\tremaining: 1.97s\n",
      "39:\tlearn: 0.0368701\ttotal: 81.9ms\tremaining: 1.96s\n",
      "40:\tlearn: 0.0366864\ttotal: 84.1ms\tremaining: 1.97s\n",
      "41:\tlearn: 0.0365046\ttotal: 86.3ms\tremaining: 1.97s\n",
      "42:\tlearn: 0.0362098\ttotal: 88.3ms\tremaining: 1.97s\n",
      "43:\tlearn: 0.0359205\ttotal: 90.3ms\tremaining: 1.96s\n",
      "44:\tlearn: 0.0352894\ttotal: 92.3ms\tremaining: 1.96s\n",
      "45:\tlearn: 0.0350214\ttotal: 94.2ms\tremaining: 1.95s\n",
      "46:\tlearn: 0.0345385\ttotal: 96.1ms\tremaining: 1.95s\n",
      "47:\tlearn: 0.0335369\ttotal: 98.3ms\tremaining: 1.95s\n",
      "48:\tlearn: 0.0326506\ttotal: 100ms\tremaining: 1.95s\n",
      "49:\tlearn: 0.0321749\ttotal: 102ms\tremaining: 1.94s\n",
      "50:\tlearn: 0.0317021\ttotal: 104ms\tremaining: 1.94s\n",
      "51:\tlearn: 0.0312245\ttotal: 106ms\tremaining: 1.94s\n",
      "52:\tlearn: 0.0310850\ttotal: 108ms\tremaining: 1.94s\n",
      "53:\tlearn: 0.0303791\ttotal: 110ms\tremaining: 1.94s\n",
      "54:\tlearn: 0.0301295\ttotal: 112ms\tremaining: 1.93s\n",
      "55:\tlearn: 0.0301293\ttotal: 114ms\tremaining: 1.92s\n",
      "56:\tlearn: 0.0301292\ttotal: 115ms\tremaining: 1.9s\n",
      "57:\tlearn: 0.0301288\ttotal: 116ms\tremaining: 1.89s\n",
      "58:\tlearn: 0.0301287\ttotal: 118ms\tremaining: 1.88s\n",
      "59:\tlearn: 0.0301287\ttotal: 119ms\tremaining: 1.86s\n",
      "60:\tlearn: 0.0301286\ttotal: 120ms\tremaining: 1.85s\n",
      "61:\tlearn: 0.0301282\ttotal: 122ms\tremaining: 1.84s\n",
      "62:\tlearn: 0.0301281\ttotal: 123ms\tremaining: 1.83s\n",
      "63:\tlearn: 0.0301274\ttotal: 125ms\tremaining: 1.82s\n",
      "64:\tlearn: 0.0301273\ttotal: 126ms\tremaining: 1.81s\n",
      "65:\tlearn: 0.0301255\ttotal: 128ms\tremaining: 1.8s\n",
      "66:\tlearn: 0.0296301\ttotal: 130ms\tremaining: 1.8s\n",
      "67:\tlearn: 0.0292737\ttotal: 132ms\tremaining: 1.8s\n",
      "68:\tlearn: 0.0287295\ttotal: 134ms\tremaining: 1.8s\n",
      "69:\tlearn: 0.0283113\ttotal: 136ms\tremaining: 1.81s\n",
      "70:\tlearn: 0.0280868\ttotal: 138ms\tremaining: 1.81s\n",
      "71:\tlearn: 0.0278387\ttotal: 140ms\tremaining: 1.81s\n",
      "72:\tlearn: 0.0276977\ttotal: 142ms\tremaining: 1.8s\n",
      "73:\tlearn: 0.0274532\ttotal: 144ms\tremaining: 1.8s\n",
      "74:\tlearn: 0.0271832\ttotal: 146ms\tremaining: 1.8s\n",
      "75:\tlearn: 0.0271557\ttotal: 148ms\tremaining: 1.8s\n",
      "76:\tlearn: 0.0269451\ttotal: 150ms\tremaining: 1.79s\n",
      "77:\tlearn: 0.0266303\ttotal: 152ms\tremaining: 1.79s\n",
      "78:\tlearn: 0.0263318\ttotal: 154ms\tremaining: 1.79s\n",
      "79:\tlearn: 0.0261872\ttotal: 156ms\tremaining: 1.79s\n",
      "80:\tlearn: 0.0260155\ttotal: 158ms\tremaining: 1.79s\n",
      "81:\tlearn: 0.0257091\ttotal: 159ms\tremaining: 1.78s\n",
      "82:\tlearn: 0.0253500\ttotal: 161ms\tremaining: 1.78s\n",
      "83:\tlearn: 0.0252406\ttotal: 163ms\tremaining: 1.78s\n",
      "84:\tlearn: 0.0251365\ttotal: 165ms\tremaining: 1.78s\n",
      "85:\tlearn: 0.0248442\ttotal: 167ms\tremaining: 1.78s\n",
      "86:\tlearn: 0.0244418\ttotal: 169ms\tremaining: 1.78s\n",
      "87:\tlearn: 0.0243376\ttotal: 171ms\tremaining: 1.77s\n",
      "88:\tlearn: 0.0241974\ttotal: 173ms\tremaining: 1.77s\n",
      "89:\tlearn: 0.0241190\ttotal: 175ms\tremaining: 1.77s\n",
      "90:\tlearn: 0.0241186\ttotal: 177ms\tremaining: 1.77s\n",
      "91:\tlearn: 0.0239934\ttotal: 179ms\tremaining: 1.76s\n",
      "92:\tlearn: 0.0238682\ttotal: 181ms\tremaining: 1.76s\n",
      "93:\tlearn: 0.0237753\ttotal: 183ms\tremaining: 1.76s\n",
      "94:\tlearn: 0.0236707\ttotal: 185ms\tremaining: 1.76s\n",
      "95:\tlearn: 0.0234132\ttotal: 187ms\tremaining: 1.76s\n",
      "96:\tlearn: 0.0233440\ttotal: 189ms\tremaining: 1.76s\n",
      "97:\tlearn: 0.0232569\ttotal: 191ms\tremaining: 1.75s\n",
      "98:\tlearn: 0.0230486\ttotal: 193ms\tremaining: 1.75s\n",
      "99:\tlearn: 0.0230483\ttotal: 194ms\tremaining: 1.75s\n",
      "100:\tlearn: 0.0228969\ttotal: 197ms\tremaining: 1.76s\n",
      "101:\tlearn: 0.0228204\ttotal: 199ms\tremaining: 1.75s\n",
      "102:\tlearn: 0.0228204\ttotal: 201ms\tremaining: 1.75s\n",
      "103:\tlearn: 0.0227290\ttotal: 203ms\tremaining: 1.75s\n",
      "104:\tlearn: 0.0226438\ttotal: 205ms\tremaining: 1.75s\n",
      "105:\tlearn: 0.0225455\ttotal: 207ms\tremaining: 1.75s\n",
      "106:\tlearn: 0.0224813\ttotal: 209ms\tremaining: 1.75s\n",
      "107:\tlearn: 0.0223969\ttotal: 211ms\tremaining: 1.74s\n",
      "108:\tlearn: 0.0223968\ttotal: 213ms\tremaining: 1.74s\n",
      "109:\tlearn: 0.0223400\ttotal: 215ms\tremaining: 1.74s\n",
      "110:\tlearn: 0.0222004\ttotal: 217ms\tremaining: 1.74s\n",
      "111:\tlearn: 0.0220846\ttotal: 219ms\tremaining: 1.74s\n",
      "112:\tlearn: 0.0219812\ttotal: 221ms\tremaining: 1.73s\n",
      "113:\tlearn: 0.0219811\ttotal: 222ms\tremaining: 1.73s\n",
      "114:\tlearn: 0.0219100\ttotal: 224ms\tremaining: 1.73s\n",
      "115:\tlearn: 0.0219099\ttotal: 226ms\tremaining: 1.72s\n",
      "116:\tlearn: 0.0218549\ttotal: 228ms\tremaining: 1.72s\n",
      "117:\tlearn: 0.0217069\ttotal: 230ms\tremaining: 1.72s\n",
      "118:\tlearn: 0.0217068\ttotal: 232ms\tremaining: 1.71s\n",
      "119:\tlearn: 0.0217066\ttotal: 233ms\tremaining: 1.71s\n",
      "120:\tlearn: 0.0217062\ttotal: 235ms\tremaining: 1.71s\n",
      "121:\tlearn: 0.0217061\ttotal: 237ms\tremaining: 1.71s\n",
      "122:\tlearn: 0.0216596\ttotal: 239ms\tremaining: 1.7s\n",
      "123:\tlearn: 0.0216594\ttotal: 241ms\tremaining: 1.7s\n",
      "124:\tlearn: 0.0216593\ttotal: 242ms\tremaining: 1.7s\n",
      "125:\tlearn: 0.0216593\ttotal: 244ms\tremaining: 1.69s\n",
      "126:\tlearn: 0.0216589\ttotal: 246ms\tremaining: 1.69s\n",
      "127:\tlearn: 0.0216588\ttotal: 248ms\tremaining: 1.69s\n",
      "128:\tlearn: 0.0216587\ttotal: 250ms\tremaining: 1.68s\n",
      "129:\tlearn: 0.0216583\ttotal: 251ms\tremaining: 1.68s\n",
      "130:\tlearn: 0.0216032\ttotal: 253ms\tremaining: 1.68s\n",
      "131:\tlearn: 0.0216028\ttotal: 255ms\tremaining: 1.68s\n",
      "132:\tlearn: 0.0216028\ttotal: 257ms\tremaining: 1.67s\n",
      "133:\tlearn: 0.0216025\ttotal: 259ms\tremaining: 1.67s\n",
      "134:\tlearn: 0.0216024\ttotal: 260ms\tremaining: 1.67s\n",
      "135:\tlearn: 0.0216022\ttotal: 262ms\tremaining: 1.66s\n",
      "136:\tlearn: 0.0216022\ttotal: 264ms\tremaining: 1.66s\n",
      "137:\tlearn: 0.0216022\ttotal: 265ms\tremaining: 1.66s\n",
      "138:\tlearn: 0.0216022\ttotal: 267ms\tremaining: 1.66s\n",
      "139:\tlearn: 0.0216022\ttotal: 269ms\tremaining: 1.66s\n",
      "140:\tlearn: 0.0216022\ttotal: 271ms\tremaining: 1.65s\n",
      "141:\tlearn: 0.0216007\ttotal: 273ms\tremaining: 1.65s\n",
      "142:\tlearn: 0.0216005\ttotal: 275ms\tremaining: 1.65s\n",
      "143:\tlearn: 0.0216001\ttotal: 276ms\tremaining: 1.64s\n",
      "144:\tlearn: 0.0216000\ttotal: 278ms\tremaining: 1.64s\n",
      "145:\tlearn: 0.0215995\ttotal: 280ms\tremaining: 1.64s\n",
      "146:\tlearn: 0.0215993\ttotal: 283ms\tremaining: 1.64s\n",
      "147:\tlearn: 0.0215993\ttotal: 285ms\tremaining: 1.64s\n",
      "148:\tlearn: 0.0215992\ttotal: 287ms\tremaining: 1.64s\n",
      "149:\tlearn: 0.0215992\ttotal: 290ms\tremaining: 1.64s\n",
      "150:\tlearn: 0.0215992\ttotal: 292ms\tremaining: 1.64s\n",
      "151:\tlearn: 0.0215991\ttotal: 294ms\tremaining: 1.64s\n",
      "152:\tlearn: 0.0215991\ttotal: 296ms\tremaining: 1.64s\n",
      "153:\tlearn: 0.0215990\ttotal: 298ms\tremaining: 1.64s\n",
      "154:\tlearn: 0.0215986\ttotal: 300ms\tremaining: 1.64s\n",
      "155:\tlearn: 0.0215984\ttotal: 303ms\tremaining: 1.64s\n",
      "156:\tlearn: 0.0215983\ttotal: 305ms\tremaining: 1.64s\n",
      "157:\tlearn: 0.0215982\ttotal: 307ms\tremaining: 1.63s\n",
      "158:\tlearn: 0.0215978\ttotal: 309ms\tremaining: 1.63s\n",
      "159:\tlearn: 0.0215977\ttotal: 311ms\tremaining: 1.63s\n",
      "160:\tlearn: 0.0215977\ttotal: 313ms\tremaining: 1.63s\n",
      "161:\tlearn: 0.0215975\ttotal: 315ms\tremaining: 1.63s\n",
      "162:\tlearn: 0.0215975\ttotal: 318ms\tremaining: 1.63s\n",
      "163:\tlearn: 0.0215972\ttotal: 320ms\tremaining: 1.63s\n",
      "164:\tlearn: 0.0215971\ttotal: 321ms\tremaining: 1.63s\n",
      "165:\tlearn: 0.0215971\ttotal: 323ms\tremaining: 1.62s\n",
      "166:\tlearn: 0.0215971\ttotal: 325ms\tremaining: 1.62s\n",
      "167:\tlearn: 0.0215971\ttotal: 326ms\tremaining: 1.61s\n",
      "168:\tlearn: 0.0215971\ttotal: 328ms\tremaining: 1.61s\n",
      "169:\tlearn: 0.0215970\ttotal: 330ms\tremaining: 1.61s\n",
      "170:\tlearn: 0.0215968\ttotal: 331ms\tremaining: 1.61s\n",
      "171:\tlearn: 0.0215964\ttotal: 333ms\tremaining: 1.6s\n",
      "172:\tlearn: 0.0215962\ttotal: 335ms\tremaining: 1.6s\n",
      "173:\tlearn: 0.0215962\ttotal: 337ms\tremaining: 1.6s\n",
      "174:\tlearn: 0.0215961\ttotal: 338ms\tremaining: 1.59s\n",
      "175:\tlearn: 0.0215961\ttotal: 340ms\tremaining: 1.59s\n",
      "176:\tlearn: 0.0215957\ttotal: 342ms\tremaining: 1.59s\n",
      "177:\tlearn: 0.0215956\ttotal: 344ms\tremaining: 1.59s\n",
      "178:\tlearn: 0.0215954\ttotal: 346ms\tremaining: 1.59s\n",
      "179:\tlearn: 0.0215953\ttotal: 348ms\tremaining: 1.58s\n",
      "180:\tlearn: 0.0215951\ttotal: 349ms\tremaining: 1.58s\n",
      "181:\tlearn: 0.0215951\ttotal: 351ms\tremaining: 1.58s\n",
      "182:\tlearn: 0.0215951\ttotal: 353ms\tremaining: 1.57s\n",
      "183:\tlearn: 0.0215949\ttotal: 354ms\tremaining: 1.57s\n",
      "184:\tlearn: 0.0215949\ttotal: 356ms\tremaining: 1.57s\n",
      "185:\tlearn: 0.0215944\ttotal: 358ms\tremaining: 1.56s\n",
      "186:\tlearn: 0.0215943\ttotal: 360ms\tremaining: 1.56s\n",
      "187:\tlearn: 0.0215943\ttotal: 361ms\tremaining: 1.56s\n",
      "188:\tlearn: 0.0215943\ttotal: 363ms\tremaining: 1.56s\n",
      "189:\tlearn: 0.0215942\ttotal: 365ms\tremaining: 1.56s\n",
      "190:\tlearn: 0.0215942\ttotal: 367ms\tremaining: 1.55s\n",
      "191:\tlearn: 0.0215942\ttotal: 369ms\tremaining: 1.55s\n",
      "192:\tlearn: 0.0215938\ttotal: 371ms\tremaining: 1.55s\n",
      "193:\tlearn: 0.0215937\ttotal: 372ms\tremaining: 1.55s\n",
      "194:\tlearn: 0.0215936\ttotal: 374ms\tremaining: 1.54s\n",
      "195:\tlearn: 0.0215935\ttotal: 376ms\tremaining: 1.54s\n",
      "196:\tlearn: 0.0215932\ttotal: 378ms\tremaining: 1.54s\n",
      "197:\tlearn: 0.0215928\ttotal: 379ms\tremaining: 1.54s\n",
      "198:\tlearn: 0.0215924\ttotal: 381ms\tremaining: 1.53s\n",
      "199:\tlearn: 0.0215922\ttotal: 383ms\tremaining: 1.53s\n",
      "200:\tlearn: 0.0215920\ttotal: 385ms\tremaining: 1.53s\n",
      "201:\tlearn: 0.0215916\ttotal: 386ms\tremaining: 1.53s\n",
      "202:\tlearn: 0.0215916\ttotal: 389ms\tremaining: 1.52s\n",
      "203:\tlearn: 0.0215916\ttotal: 390ms\tremaining: 1.52s\n",
      "204:\tlearn: 0.0215915\ttotal: 392ms\tremaining: 1.52s\n",
      "205:\tlearn: 0.0215915\ttotal: 394ms\tremaining: 1.52s\n",
      "206:\tlearn: 0.0215914\ttotal: 396ms\tremaining: 1.51s\n",
      "207:\tlearn: 0.0215911\ttotal: 398ms\tremaining: 1.51s\n",
      "208:\tlearn: 0.0215911\ttotal: 399ms\tremaining: 1.51s\n",
      "209:\tlearn: 0.0215909\ttotal: 401ms\tremaining: 1.51s\n",
      "210:\tlearn: 0.0215909\ttotal: 403ms\tremaining: 1.51s\n",
      "211:\tlearn: 0.0215909\ttotal: 404ms\tremaining: 1.5s\n",
      "212:\tlearn: 0.0215907\ttotal: 406ms\tremaining: 1.5s\n",
      "213:\tlearn: 0.0215906\ttotal: 408ms\tremaining: 1.5s\n",
      "214:\tlearn: 0.0215907\ttotal: 410ms\tremaining: 1.5s\n",
      "215:\tlearn: 0.0215905\ttotal: 412ms\tremaining: 1.49s\n",
      "216:\tlearn: 0.0215904\ttotal: 414ms\tremaining: 1.49s\n",
      "217:\tlearn: 0.0215904\ttotal: 415ms\tremaining: 1.49s\n",
      "218:\tlearn: 0.0215904\ttotal: 417ms\tremaining: 1.49s\n",
      "219:\tlearn: 0.0215904\ttotal: 419ms\tremaining: 1.49s\n",
      "220:\tlearn: 0.0215904\ttotal: 421ms\tremaining: 1.48s\n",
      "221:\tlearn: 0.0215893\ttotal: 422ms\tremaining: 1.48s\n",
      "222:\tlearn: 0.0215384\ttotal: 424ms\tremaining: 1.48s\n",
      "223:\tlearn: 0.0215383\ttotal: 426ms\tremaining: 1.48s\n",
      "224:\tlearn: 0.0215383\ttotal: 428ms\tremaining: 1.47s\n",
      "225:\tlearn: 0.0215381\ttotal: 430ms\tremaining: 1.47s\n",
      "226:\tlearn: 0.0215370\ttotal: 431ms\tremaining: 1.47s\n",
      "227:\tlearn: 0.0215367\ttotal: 433ms\tremaining: 1.47s\n",
      "228:\tlearn: 0.0215365\ttotal: 435ms\tremaining: 1.46s\n",
      "229:\tlearn: 0.0215355\ttotal: 437ms\tremaining: 1.46s\n",
      "230:\tlearn: 0.0215351\ttotal: 439ms\tremaining: 1.46s\n",
      "231:\tlearn: 0.0215351\ttotal: 440ms\tremaining: 1.46s\n",
      "232:\tlearn: 0.0215349\ttotal: 442ms\tremaining: 1.46s\n",
      "233:\tlearn: 0.0215349\ttotal: 444ms\tremaining: 1.45s\n",
      "234:\tlearn: 0.0215349\ttotal: 445ms\tremaining: 1.45s\n",
      "235:\tlearn: 0.0215349\ttotal: 447ms\tremaining: 1.45s\n",
      "236:\tlearn: 0.0215349\ttotal: 449ms\tremaining: 1.44s\n",
      "237:\tlearn: 0.0214446\ttotal: 451ms\tremaining: 1.44s\n",
      "238:\tlearn: 0.0213633\ttotal: 453ms\tremaining: 1.44s\n",
      "239:\tlearn: 0.0213632\ttotal: 454ms\tremaining: 1.44s\n",
      "240:\tlearn: 0.0213630\ttotal: 456ms\tremaining: 1.44s\n",
      "241:\tlearn: 0.0213606\ttotal: 458ms\tremaining: 1.43s\n",
      "242:\tlearn: 0.0212625\ttotal: 460ms\tremaining: 1.43s\n",
      "243:\tlearn: 0.0212624\ttotal: 462ms\tremaining: 1.43s\n",
      "244:\tlearn: 0.0211883\ttotal: 464ms\tremaining: 1.43s\n",
      "245:\tlearn: 0.0211881\ttotal: 466ms\tremaining: 1.43s\n",
      "246:\tlearn: 0.0211881\ttotal: 467ms\tremaining: 1.42s\n",
      "247:\tlearn: 0.0211880\ttotal: 469ms\tremaining: 1.42s\n",
      "248:\tlearn: 0.0211879\ttotal: 470ms\tremaining: 1.42s\n",
      "249:\tlearn: 0.0211878\ttotal: 471ms\tremaining: 1.41s\n",
      "250:\tlearn: 0.0211878\ttotal: 472ms\tremaining: 1.41s\n",
      "251:\tlearn: 0.0211877\ttotal: 474ms\tremaining: 1.41s\n",
      "252:\tlearn: 0.0211875\ttotal: 476ms\tremaining: 1.41s\n",
      "253:\tlearn: 0.0211874\ttotal: 477ms\tremaining: 1.4s\n",
      "254:\tlearn: 0.0211873\ttotal: 479ms\tremaining: 1.4s\n",
      "255:\tlearn: 0.0211871\ttotal: 481ms\tremaining: 1.4s\n",
      "256:\tlearn: 0.0211869\ttotal: 483ms\tremaining: 1.4s\n",
      "257:\tlearn: 0.0211867\ttotal: 485ms\tremaining: 1.39s\n",
      "258:\tlearn: 0.0211867\ttotal: 487ms\tremaining: 1.39s\n",
      "259:\tlearn: 0.0211867\ttotal: 488ms\tremaining: 1.39s\n",
      "260:\tlearn: 0.0211862\ttotal: 490ms\tremaining: 1.39s\n",
      "261:\tlearn: 0.0211863\ttotal: 492ms\tremaining: 1.39s\n",
      "262:\tlearn: 0.0211861\ttotal: 494ms\tremaining: 1.38s\n",
      "263:\tlearn: 0.0211861\ttotal: 495ms\tremaining: 1.38s\n",
      "264:\tlearn: 0.0211861\ttotal: 497ms\tremaining: 1.38s\n",
      "265:\tlearn: 0.0211860\ttotal: 498ms\tremaining: 1.38s\n",
      "266:\tlearn: 0.0211860\ttotal: 500ms\tremaining: 1.37s\n",
      "267:\tlearn: 0.0211837\ttotal: 502ms\tremaining: 1.37s\n",
      "268:\tlearn: 0.0211837\ttotal: 504ms\tremaining: 1.37s\n",
      "269:\tlearn: 0.0211838\ttotal: 505ms\tremaining: 1.37s\n",
      "270:\tlearn: 0.0211836\ttotal: 507ms\tremaining: 1.36s\n",
      "271:\tlearn: 0.0211832\ttotal: 509ms\tremaining: 1.36s\n",
      "272:\tlearn: 0.0211831\ttotal: 511ms\tremaining: 1.36s\n",
      "273:\tlearn: 0.0211830\ttotal: 513ms\tremaining: 1.36s\n",
      "274:\tlearn: 0.0211830\ttotal: 515ms\tremaining: 1.36s\n",
      "275:\tlearn: 0.0211829\ttotal: 517ms\tremaining: 1.35s\n",
      "276:\tlearn: 0.0211828\ttotal: 519ms\tremaining: 1.35s\n",
      "277:\tlearn: 0.0211828\ttotal: 520ms\tremaining: 1.35s\n",
      "278:\tlearn: 0.0211827\ttotal: 522ms\tremaining: 1.35s\n",
      "279:\tlearn: 0.0211827\ttotal: 524ms\tremaining: 1.35s\n",
      "280:\tlearn: 0.0211827\ttotal: 525ms\tremaining: 1.34s\n",
      "281:\tlearn: 0.0211824\ttotal: 527ms\tremaining: 1.34s\n",
      "282:\tlearn: 0.0211824\ttotal: 529ms\tremaining: 1.34s\n",
      "283:\tlearn: 0.0211824\ttotal: 530ms\tremaining: 1.34s\n",
      "284:\tlearn: 0.0211823\ttotal: 532ms\tremaining: 1.33s\n",
      "285:\tlearn: 0.0211823\ttotal: 535ms\tremaining: 1.33s\n",
      "286:\tlearn: 0.0211823\ttotal: 536ms\tremaining: 1.33s\n",
      "287:\tlearn: 0.0211822\ttotal: 538ms\tremaining: 1.33s\n",
      "288:\tlearn: 0.0211822\ttotal: 540ms\tremaining: 1.33s\n",
      "289:\tlearn: 0.0211822\ttotal: 542ms\tremaining: 1.33s\n",
      "290:\tlearn: 0.0211821\ttotal: 543ms\tremaining: 1.32s\n",
      "291:\tlearn: 0.0211821\ttotal: 545ms\tremaining: 1.32s\n",
      "292:\tlearn: 0.0211820\ttotal: 547ms\tremaining: 1.32s\n",
      "293:\tlearn: 0.0211819\ttotal: 549ms\tremaining: 1.32s\n",
      "294:\tlearn: 0.0211819\ttotal: 551ms\tremaining: 1.31s\n",
      "295:\tlearn: 0.0211818\ttotal: 552ms\tremaining: 1.31s\n",
      "296:\tlearn: 0.0211818\ttotal: 554ms\tremaining: 1.31s\n",
      "297:\tlearn: 0.0211816\ttotal: 556ms\tremaining: 1.31s\n",
      "298:\tlearn: 0.0211815\ttotal: 558ms\tremaining: 1.31s\n",
      "299:\tlearn: 0.0211815\ttotal: 560ms\tremaining: 1.3s\n",
      "300:\tlearn: 0.0211815\ttotal: 561ms\tremaining: 1.3s\n",
      "301:\tlearn: 0.0211814\ttotal: 563ms\tremaining: 1.3s\n",
      "302:\tlearn: 0.0211814\ttotal: 565ms\tremaining: 1.3s\n",
      "303:\tlearn: 0.0211814\ttotal: 567ms\tremaining: 1.3s\n",
      "304:\tlearn: 0.0211813\ttotal: 568ms\tremaining: 1.29s\n",
      "305:\tlearn: 0.0211812\ttotal: 570ms\tremaining: 1.29s\n",
      "306:\tlearn: 0.0211811\ttotal: 572ms\tremaining: 1.29s\n",
      "307:\tlearn: 0.0211809\ttotal: 574ms\tremaining: 1.29s\n",
      "308:\tlearn: 0.0211805\ttotal: 576ms\tremaining: 1.29s\n",
      "309:\tlearn: 0.0211805\ttotal: 577ms\tremaining: 1.28s\n",
      "310:\tlearn: 0.0211803\ttotal: 579ms\tremaining: 1.28s\n",
      "311:\tlearn: 0.0211802\ttotal: 581ms\tremaining: 1.28s\n",
      "312:\tlearn: 0.0211800\ttotal: 583ms\tremaining: 1.28s\n",
      "313:\tlearn: 0.0211800\ttotal: 585ms\tremaining: 1.28s\n",
      "314:\tlearn: 0.0211798\ttotal: 587ms\tremaining: 1.27s\n",
      "315:\tlearn: 0.0211797\ttotal: 588ms\tremaining: 1.27s\n",
      "316:\tlearn: 0.0211796\ttotal: 590ms\tremaining: 1.27s\n",
      "317:\tlearn: 0.0211795\ttotal: 592ms\tremaining: 1.27s\n",
      "318:\tlearn: 0.0211795\ttotal: 594ms\tremaining: 1.27s\n",
      "319:\tlearn: 0.0211794\ttotal: 595ms\tremaining: 1.26s\n",
      "320:\tlearn: 0.0211792\ttotal: 597ms\tremaining: 1.26s\n",
      "321:\tlearn: 0.0211792\ttotal: 599ms\tremaining: 1.26s\n",
      "322:\tlearn: 0.0211789\ttotal: 601ms\tremaining: 1.26s\n",
      "323:\tlearn: 0.0211788\ttotal: 603ms\tremaining: 1.26s\n",
      "324:\tlearn: 0.0211788\ttotal: 604ms\tremaining: 1.25s\n",
      "325:\tlearn: 0.0211787\ttotal: 606ms\tremaining: 1.25s\n",
      "326:\tlearn: 0.0211785\ttotal: 608ms\tremaining: 1.25s\n",
      "327:\tlearn: 0.0211785\ttotal: 610ms\tremaining: 1.25s\n",
      "328:\tlearn: 0.0211783\ttotal: 611ms\tremaining: 1.25s\n",
      "329:\tlearn: 0.0211783\ttotal: 613ms\tremaining: 1.25s\n",
      "330:\tlearn: 0.0211780\ttotal: 615ms\tremaining: 1.24s\n",
      "331:\tlearn: 0.0211780\ttotal: 617ms\tremaining: 1.24s\n",
      "332:\tlearn: 0.0211778\ttotal: 619ms\tremaining: 1.24s\n",
      "333:\tlearn: 0.0211777\ttotal: 620ms\tremaining: 1.24s\n",
      "334:\tlearn: 0.0211777\ttotal: 622ms\tremaining: 1.23s\n",
      "335:\tlearn: 0.0211776\ttotal: 624ms\tremaining: 1.23s\n",
      "336:\tlearn: 0.0211773\ttotal: 626ms\tremaining: 1.23s\n",
      "337:\tlearn: 0.0211773\ttotal: 627ms\tremaining: 1.23s\n",
      "338:\tlearn: 0.0211771\ttotal: 629ms\tremaining: 1.23s\n",
      "339:\tlearn: 0.0211770\ttotal: 631ms\tremaining: 1.22s\n",
      "340:\tlearn: 0.0211769\ttotal: 633ms\tremaining: 1.22s\n",
      "341:\tlearn: 0.0211769\ttotal: 635ms\tremaining: 1.22s\n",
      "342:\tlearn: 0.0211766\ttotal: 637ms\tremaining: 1.22s\n",
      "343:\tlearn: 0.0211766\ttotal: 638ms\tremaining: 1.22s\n",
      "344:\tlearn: 0.0211766\ttotal: 640ms\tremaining: 1.22s\n",
      "345:\tlearn: 0.0211765\ttotal: 642ms\tremaining: 1.21s\n",
      "346:\tlearn: 0.0211764\ttotal: 643ms\tremaining: 1.21s\n",
      "347:\tlearn: 0.0211763\ttotal: 645ms\tremaining: 1.21s\n",
      "348:\tlearn: 0.0211763\ttotal: 647ms\tremaining: 1.21s\n",
      "349:\tlearn: 0.0211763\ttotal: 649ms\tremaining: 1.2s\n",
      "350:\tlearn: 0.0211761\ttotal: 650ms\tremaining: 1.2s\n",
      "351:\tlearn: 0.0211759\ttotal: 652ms\tremaining: 1.2s\n",
      "352:\tlearn: 0.0211757\ttotal: 654ms\tremaining: 1.2s\n",
      "353:\tlearn: 0.0211756\ttotal: 656ms\tremaining: 1.2s\n",
      "354:\tlearn: 0.0211756\ttotal: 658ms\tremaining: 1.2s\n",
      "355:\tlearn: 0.0211755\ttotal: 660ms\tremaining: 1.19s\n",
      "356:\tlearn: 0.0211754\ttotal: 661ms\tremaining: 1.19s\n",
      "357:\tlearn: 0.0211752\ttotal: 663ms\tremaining: 1.19s\n",
      "358:\tlearn: 0.0211751\ttotal: 665ms\tremaining: 1.19s\n",
      "359:\tlearn: 0.0211750\ttotal: 667ms\tremaining: 1.19s\n",
      "360:\tlearn: 0.0211749\ttotal: 669ms\tremaining: 1.18s\n",
      "361:\tlearn: 0.0211749\ttotal: 671ms\tremaining: 1.18s\n",
      "362:\tlearn: 0.0211749\ttotal: 672ms\tremaining: 1.18s\n",
      "363:\tlearn: 0.0211747\ttotal: 674ms\tremaining: 1.18s\n",
      "364:\tlearn: 0.0211744\ttotal: 676ms\tremaining: 1.18s\n",
      "365:\tlearn: 0.0211744\ttotal: 678ms\tremaining: 1.17s\n",
      "366:\tlearn: 0.0211742\ttotal: 680ms\tremaining: 1.17s\n",
      "367:\tlearn: 0.0211741\ttotal: 682ms\tremaining: 1.17s\n",
      "368:\tlearn: 0.0211740\ttotal: 684ms\tremaining: 1.17s\n",
      "369:\tlearn: 0.0211737\ttotal: 685ms\tremaining: 1.17s\n",
      "370:\tlearn: 0.0211736\ttotal: 687ms\tremaining: 1.17s\n",
      "371:\tlearn: 0.0211732\ttotal: 689ms\tremaining: 1.16s\n",
      "372:\tlearn: 0.0211732\ttotal: 691ms\tremaining: 1.16s\n",
      "373:\tlearn: 0.0211730\ttotal: 693ms\tremaining: 1.16s\n",
      "374:\tlearn: 0.0211730\ttotal: 695ms\tremaining: 1.16s\n",
      "375:\tlearn: 0.0211730\ttotal: 697ms\tremaining: 1.16s\n",
      "376:\tlearn: 0.0211728\ttotal: 699ms\tremaining: 1.15s\n",
      "377:\tlearn: 0.0211728\ttotal: 700ms\tremaining: 1.15s\n",
      "378:\tlearn: 0.0211727\ttotal: 702ms\tremaining: 1.15s\n",
      "379:\tlearn: 0.0211726\ttotal: 704ms\tremaining: 1.15s\n",
      "380:\tlearn: 0.0211725\ttotal: 706ms\tremaining: 1.15s\n",
      "381:\tlearn: 0.0211722\ttotal: 707ms\tremaining: 1.14s\n",
      "382:\tlearn: 0.0211722\ttotal: 709ms\tremaining: 1.14s\n",
      "383:\tlearn: 0.0211716\ttotal: 711ms\tremaining: 1.14s\n",
      "384:\tlearn: 0.0211713\ttotal: 713ms\tremaining: 1.14s\n",
      "385:\tlearn: 0.0211713\ttotal: 715ms\tremaining: 1.14s\n",
      "386:\tlearn: 0.0211711\ttotal: 716ms\tremaining: 1.13s\n",
      "387:\tlearn: 0.0211710\ttotal: 718ms\tremaining: 1.13s\n",
      "388:\tlearn: 0.0211709\ttotal: 720ms\tremaining: 1.13s\n",
      "389:\tlearn: 0.0211708\ttotal: 721ms\tremaining: 1.13s\n",
      "390:\tlearn: 0.0211707\ttotal: 723ms\tremaining: 1.13s\n",
      "391:\tlearn: 0.0211705\ttotal: 725ms\tremaining: 1.12s\n",
      "392:\tlearn: 0.0211703\ttotal: 727ms\tremaining: 1.12s\n",
      "393:\tlearn: 0.0211700\ttotal: 729ms\tremaining: 1.12s\n",
      "394:\tlearn: 0.0211697\ttotal: 731ms\tremaining: 1.12s\n",
      "395:\tlearn: 0.0211695\ttotal: 732ms\tremaining: 1.12s\n",
      "396:\tlearn: 0.0211693\ttotal: 734ms\tremaining: 1.11s\n",
      "397:\tlearn: 0.0211692\ttotal: 736ms\tremaining: 1.11s\n",
      "398:\tlearn: 0.0211692\ttotal: 737ms\tremaining: 1.11s\n",
      "399:\tlearn: 0.0211688\ttotal: 739ms\tremaining: 1.11s\n",
      "400:\tlearn: 0.0211687\ttotal: 741ms\tremaining: 1.11s\n",
      "401:\tlearn: 0.0211686\ttotal: 743ms\tremaining: 1.1s\n",
      "402:\tlearn: 0.0211684\ttotal: 744ms\tremaining: 1.1s\n",
      "403:\tlearn: 0.0211684\ttotal: 746ms\tremaining: 1.1s\n",
      "404:\tlearn: 0.0211682\ttotal: 748ms\tremaining: 1.1s\n",
      "405:\tlearn: 0.0211681\ttotal: 750ms\tremaining: 1.1s\n",
      "406:\tlearn: 0.0211681\ttotal: 752ms\tremaining: 1.09s\n",
      "407:\tlearn: 0.0211679\ttotal: 754ms\tremaining: 1.09s\n",
      "408:\tlearn: 0.0211679\ttotal: 755ms\tremaining: 1.09s\n",
      "409:\tlearn: 0.0211673\ttotal: 757ms\tremaining: 1.09s\n",
      "410:\tlearn: 0.0211670\ttotal: 759ms\tremaining: 1.09s\n",
      "411:\tlearn: 0.0211669\ttotal: 760ms\tremaining: 1.08s\n",
      "412:\tlearn: 0.0211665\ttotal: 762ms\tremaining: 1.08s\n",
      "413:\tlearn: 0.0211400\ttotal: 764ms\tremaining: 1.08s\n",
      "414:\tlearn: 0.0211264\ttotal: 766ms\tremaining: 1.08s\n",
      "415:\tlearn: 0.0210520\ttotal: 768ms\tremaining: 1.08s\n",
      "416:\tlearn: 0.0210519\ttotal: 770ms\tremaining: 1.07s\n",
      "417:\tlearn: 0.0210518\ttotal: 771ms\tremaining: 1.07s\n",
      "418:\tlearn: 0.0210517\ttotal: 773ms\tremaining: 1.07s\n",
      "419:\tlearn: 0.0210516\ttotal: 775ms\tremaining: 1.07s\n",
      "420:\tlearn: 0.0210515\ttotal: 777ms\tremaining: 1.07s\n",
      "421:\tlearn: 0.0210515\ttotal: 778ms\tremaining: 1.07s\n",
      "422:\tlearn: 0.0210515\ttotal: 780ms\tremaining: 1.06s\n",
      "423:\tlearn: 0.0210512\ttotal: 782ms\tremaining: 1.06s\n",
      "424:\tlearn: 0.0210511\ttotal: 784ms\tremaining: 1.06s\n",
      "425:\tlearn: 0.0210510\ttotal: 785ms\tremaining: 1.06s\n",
      "426:\tlearn: 0.0210511\ttotal: 787ms\tremaining: 1.06s\n",
      "427:\tlearn: 0.0210510\ttotal: 789ms\tremaining: 1.05s\n",
      "428:\tlearn: 0.0210509\ttotal: 791ms\tremaining: 1.05s\n",
      "429:\tlearn: 0.0210509\ttotal: 793ms\tremaining: 1.05s\n",
      "430:\tlearn: 0.0210507\ttotal: 794ms\tremaining: 1.05s\n",
      "431:\tlearn: 0.0210504\ttotal: 796ms\tremaining: 1.05s\n",
      "432:\tlearn: 0.0210504\ttotal: 798ms\tremaining: 1.04s\n",
      "433:\tlearn: 0.0210498\ttotal: 799ms\tremaining: 1.04s\n",
      "434:\tlearn: 0.0210496\ttotal: 801ms\tremaining: 1.04s\n",
      "435:\tlearn: 0.0210497\ttotal: 803ms\tremaining: 1.04s\n",
      "436:\tlearn: 0.0210495\ttotal: 805ms\tremaining: 1.04s\n",
      "437:\tlearn: 0.0210468\ttotal: 807ms\tremaining: 1.03s\n",
      "438:\tlearn: 0.0210467\ttotal: 808ms\tremaining: 1.03s\n",
      "439:\tlearn: 0.0210462\ttotal: 810ms\tremaining: 1.03s\n",
      "440:\tlearn: 0.0210462\ttotal: 811ms\tremaining: 1.03s\n",
      "441:\tlearn: 0.0210462\ttotal: 813ms\tremaining: 1.03s\n",
      "442:\tlearn: 0.0210436\ttotal: 815ms\tremaining: 1.02s\n",
      "443:\tlearn: 0.0210437\ttotal: 817ms\tremaining: 1.02s\n",
      "444:\tlearn: 0.0210432\ttotal: 818ms\tremaining: 1.02s\n",
      "445:\tlearn: 0.0210429\ttotal: 820ms\tremaining: 1.02s\n",
      "446:\tlearn: 0.0210428\ttotal: 822ms\tremaining: 1.02s\n",
      "447:\tlearn: 0.0210420\ttotal: 824ms\tremaining: 1.01s\n",
      "448:\tlearn: 0.0210419\ttotal: 826ms\tremaining: 1.01s\n",
      "449:\tlearn: 0.0210417\ttotal: 828ms\tremaining: 1.01s\n",
      "450:\tlearn: 0.0210413\ttotal: 829ms\tremaining: 1.01s\n",
      "451:\tlearn: 0.0210412\ttotal: 831ms\tremaining: 1.01s\n",
      "452:\tlearn: 0.0210408\ttotal: 833ms\tremaining: 1s\n",
      "453:\tlearn: 0.0210408\ttotal: 834ms\tremaining: 1s\n",
      "454:\tlearn: 0.0210407\ttotal: 836ms\tremaining: 1s\n",
      "455:\tlearn: 0.0210406\ttotal: 838ms\tremaining: 1000ms\n",
      "456:\tlearn: 0.0210406\ttotal: 840ms\tremaining: 998ms\n",
      "457:\tlearn: 0.0210406\ttotal: 842ms\tremaining: 996ms\n",
      "458:\tlearn: 0.0210405\ttotal: 843ms\tremaining: 994ms\n",
      "459:\tlearn: 0.0210402\ttotal: 845ms\tremaining: 992ms\n",
      "460:\tlearn: 0.0210399\ttotal: 847ms\tremaining: 991ms\n",
      "461:\tlearn: 0.0210394\ttotal: 849ms\tremaining: 989ms\n",
      "462:\tlearn: 0.0210393\ttotal: 851ms\tremaining: 987ms\n",
      "463:\tlearn: 0.0210392\ttotal: 852ms\tremaining: 985ms\n",
      "464:\tlearn: 0.0210391\ttotal: 854ms\tremaining: 983ms\n",
      "465:\tlearn: 0.0210390\ttotal: 856ms\tremaining: 981ms\n",
      "466:\tlearn: 0.0210378\ttotal: 858ms\tremaining: 979ms\n",
      "467:\tlearn: 0.0210371\ttotal: 859ms\tremaining: 977ms\n",
      "468:\tlearn: 0.0210371\ttotal: 861ms\tremaining: 975ms\n",
      "469:\tlearn: 0.0210369\ttotal: 863ms\tremaining: 973ms\n",
      "470:\tlearn: 0.0210368\ttotal: 865ms\tremaining: 971ms\n",
      "471:\tlearn: 0.0210365\ttotal: 867ms\tremaining: 969ms\n",
      "472:\tlearn: 0.0210365\ttotal: 869ms\tremaining: 968ms\n",
      "473:\tlearn: 0.0210358\ttotal: 870ms\tremaining: 966ms\n",
      "474:\tlearn: 0.0210355\ttotal: 872ms\tremaining: 964ms\n",
      "475:\tlearn: 0.0210352\ttotal: 874ms\tremaining: 962ms\n",
      "476:\tlearn: 0.0210339\ttotal: 876ms\tremaining: 960ms\n",
      "477:\tlearn: 0.0210333\ttotal: 877ms\tremaining: 958ms\n",
      "478:\tlearn: 0.0210328\ttotal: 879ms\tremaining: 956ms\n",
      "479:\tlearn: 0.0210047\ttotal: 881ms\tremaining: 954ms\n",
      "480:\tlearn: 0.0210046\ttotal: 883ms\tremaining: 952ms\n",
      "481:\tlearn: 0.0210046\ttotal: 884ms\tremaining: 950ms\n",
      "482:\tlearn: 0.0210043\ttotal: 886ms\tremaining: 949ms\n",
      "483:\tlearn: 0.0210042\ttotal: 888ms\tremaining: 947ms\n",
      "484:\tlearn: 0.0210042\ttotal: 889ms\tremaining: 944ms\n",
      "485:\tlearn: 0.0210041\ttotal: 891ms\tremaining: 942ms\n",
      "486:\tlearn: 0.0210034\ttotal: 893ms\tremaining: 941ms\n",
      "487:\tlearn: 0.0210032\ttotal: 895ms\tremaining: 939ms\n",
      "488:\tlearn: 0.0210030\ttotal: 896ms\tremaining: 937ms\n",
      "489:\tlearn: 0.0210029\ttotal: 898ms\tremaining: 935ms\n",
      "490:\tlearn: 0.0210027\ttotal: 900ms\tremaining: 933ms\n",
      "491:\tlearn: 0.0210026\ttotal: 902ms\tremaining: 931ms\n",
      "492:\tlearn: 0.0210024\ttotal: 903ms\tremaining: 929ms\n",
      "493:\tlearn: 0.0210024\ttotal: 905ms\tremaining: 927ms\n",
      "494:\tlearn: 0.0210024\ttotal: 907ms\tremaining: 926ms\n",
      "495:\tlearn: 0.0210023\ttotal: 909ms\tremaining: 924ms\n",
      "496:\tlearn: 0.0210022\ttotal: 911ms\tremaining: 922ms\n",
      "497:\tlearn: 0.0210021\ttotal: 913ms\tremaining: 920ms\n",
      "498:\tlearn: 0.0210020\ttotal: 914ms\tremaining: 918ms\n",
      "499:\tlearn: 0.0210016\ttotal: 916ms\tremaining: 916ms\n",
      "500:\tlearn: 0.0210016\ttotal: 918ms\tremaining: 914ms\n",
      "501:\tlearn: 0.0210015\ttotal: 920ms\tremaining: 912ms\n",
      "502:\tlearn: 0.0210014\ttotal: 921ms\tremaining: 910ms\n",
      "503:\tlearn: 0.0210014\ttotal: 923ms\tremaining: 908ms\n",
      "504:\tlearn: 0.0210014\ttotal: 925ms\tremaining: 906ms\n",
      "505:\tlearn: 0.0210012\ttotal: 927ms\tremaining: 905ms\n",
      "506:\tlearn: 0.0210010\ttotal: 928ms\tremaining: 903ms\n",
      "507:\tlearn: 0.0210010\ttotal: 930ms\tremaining: 901ms\n",
      "508:\tlearn: 0.0210009\ttotal: 932ms\tremaining: 899ms\n",
      "509:\tlearn: 0.0210007\ttotal: 933ms\tremaining: 897ms\n",
      "510:\tlearn: 0.0210006\ttotal: 935ms\tremaining: 895ms\n",
      "511:\tlearn: 0.0210006\ttotal: 937ms\tremaining: 893ms\n",
      "512:\tlearn: 0.0210005\ttotal: 939ms\tremaining: 892ms\n",
      "513:\tlearn: 0.0210005\ttotal: 941ms\tremaining: 890ms\n",
      "514:\tlearn: 0.0210003\ttotal: 943ms\tremaining: 888ms\n",
      "515:\tlearn: 0.0210001\ttotal: 945ms\tremaining: 886ms\n",
      "516:\tlearn: 0.0209996\ttotal: 946ms\tremaining: 884ms\n",
      "517:\tlearn: 0.0209997\ttotal: 948ms\tremaining: 882ms\n",
      "518:\tlearn: 0.0209996\ttotal: 950ms\tremaining: 880ms\n",
      "519:\tlearn: 0.0209995\ttotal: 951ms\tremaining: 878ms\n",
      "520:\tlearn: 0.0209995\ttotal: 953ms\tremaining: 876ms\n",
      "521:\tlearn: 0.0209993\ttotal: 955ms\tremaining: 874ms\n",
      "522:\tlearn: 0.0209992\ttotal: 957ms\tremaining: 872ms\n",
      "523:\tlearn: 0.0209991\ttotal: 958ms\tremaining: 871ms\n",
      "524:\tlearn: 0.0209989\ttotal: 960ms\tremaining: 869ms\n",
      "525:\tlearn: 0.0209989\ttotal: 962ms\tremaining: 867ms\n",
      "526:\tlearn: 0.0209988\ttotal: 963ms\tremaining: 865ms\n",
      "527:\tlearn: 0.0209986\ttotal: 965ms\tremaining: 863ms\n",
      "528:\tlearn: 0.0209983\ttotal: 967ms\tremaining: 861ms\n",
      "529:\tlearn: 0.0209982\ttotal: 969ms\tremaining: 859ms\n",
      "530:\tlearn: 0.0209983\ttotal: 970ms\tremaining: 857ms\n",
      "531:\tlearn: 0.0209981\ttotal: 972ms\tremaining: 855ms\n",
      "532:\tlearn: 0.0209978\ttotal: 974ms\tremaining: 853ms\n",
      "533:\tlearn: 0.0209978\ttotal: 976ms\tremaining: 851ms\n",
      "534:\tlearn: 0.0209976\ttotal: 977ms\tremaining: 849ms\n",
      "535:\tlearn: 0.0209975\ttotal: 979ms\tremaining: 848ms\n",
      "536:\tlearn: 0.0209972\ttotal: 981ms\tremaining: 846ms\n",
      "537:\tlearn: 0.0209972\ttotal: 982ms\tremaining: 844ms\n",
      "538:\tlearn: 0.0209971\ttotal: 984ms\tremaining: 842ms\n",
      "539:\tlearn: 0.0209971\ttotal: 986ms\tremaining: 840ms\n",
      "540:\tlearn: 0.0209969\ttotal: 988ms\tremaining: 838ms\n",
      "541:\tlearn: 0.0209969\ttotal: 989ms\tremaining: 836ms\n",
      "542:\tlearn: 0.0209967\ttotal: 991ms\tremaining: 834ms\n",
      "543:\tlearn: 0.0209966\ttotal: 993ms\tremaining: 832ms\n",
      "544:\tlearn: 0.0209963\ttotal: 995ms\tremaining: 831ms\n",
      "545:\tlearn: 0.0209961\ttotal: 997ms\tremaining: 829ms\n",
      "546:\tlearn: 0.0209960\ttotal: 998ms\tremaining: 827ms\n",
      "547:\tlearn: 0.0209959\ttotal: 1s\tremaining: 825ms\n",
      "548:\tlearn: 0.0209958\ttotal: 1s\tremaining: 823ms\n",
      "549:\tlearn: 0.0209956\ttotal: 1s\tremaining: 821ms\n",
      "550:\tlearn: 0.0209954\ttotal: 1s\tremaining: 819ms\n",
      "551:\tlearn: 0.0209954\ttotal: 1.01s\tremaining: 817ms\n",
      "552:\tlearn: 0.0209954\ttotal: 1.01s\tremaining: 815ms\n",
      "553:\tlearn: 0.0209952\ttotal: 1.01s\tremaining: 814ms\n",
      "554:\tlearn: 0.0209952\ttotal: 1.01s\tremaining: 812ms\n",
      "555:\tlearn: 0.0209951\ttotal: 1.01s\tremaining: 810ms\n",
      "556:\tlearn: 0.0209949\ttotal: 1.01s\tremaining: 808ms\n",
      "557:\tlearn: 0.0209949\ttotal: 1.02s\tremaining: 806ms\n",
      "558:\tlearn: 0.0209946\ttotal: 1.02s\tremaining: 804ms\n",
      "559:\tlearn: 0.0209946\ttotal: 1.02s\tremaining: 802ms\n",
      "560:\tlearn: 0.0209946\ttotal: 1.02s\tremaining: 800ms\n",
      "561:\tlearn: 0.0209942\ttotal: 1.02s\tremaining: 798ms\n",
      "562:\tlearn: 0.0209942\ttotal: 1.03s\tremaining: 796ms\n",
      "563:\tlearn: 0.0209940\ttotal: 1.03s\tremaining: 795ms\n",
      "564:\tlearn: 0.0209940\ttotal: 1.03s\tremaining: 793ms\n",
      "565:\tlearn: 0.0209938\ttotal: 1.03s\tremaining: 791ms\n",
      "566:\tlearn: 0.0209938\ttotal: 1.03s\tremaining: 789ms\n",
      "567:\tlearn: 0.0209936\ttotal: 1.03s\tremaining: 787ms\n",
      "568:\tlearn: 0.0209936\ttotal: 1.04s\tremaining: 785ms\n",
      "569:\tlearn: 0.0209934\ttotal: 1.04s\tremaining: 784ms\n",
      "570:\tlearn: 0.0209934\ttotal: 1.04s\tremaining: 782ms\n",
      "571:\tlearn: 0.0209933\ttotal: 1.04s\tremaining: 780ms\n",
      "572:\tlearn: 0.0209932\ttotal: 1.04s\tremaining: 779ms\n",
      "573:\tlearn: 0.0209932\ttotal: 1.05s\tremaining: 777ms\n",
      "574:\tlearn: 0.0209931\ttotal: 1.05s\tremaining: 775ms\n",
      "575:\tlearn: 0.0209930\ttotal: 1.05s\tremaining: 773ms\n",
      "576:\tlearn: 0.0209929\ttotal: 1.05s\tremaining: 771ms\n",
      "577:\tlearn: 0.0209926\ttotal: 1.05s\tremaining: 769ms\n",
      "578:\tlearn: 0.0209924\ttotal: 1.05s\tremaining: 767ms\n",
      "579:\tlearn: 0.0209922\ttotal: 1.06s\tremaining: 766ms\n",
      "580:\tlearn: 0.0209922\ttotal: 1.06s\tremaining: 764ms\n",
      "581:\tlearn: 0.0209921\ttotal: 1.06s\tremaining: 762ms\n",
      "582:\tlearn: 0.0209921\ttotal: 1.06s\tremaining: 760ms\n",
      "583:\tlearn: 0.0209919\ttotal: 1.06s\tremaining: 758ms\n",
      "584:\tlearn: 0.0209918\ttotal: 1.07s\tremaining: 757ms\n",
      "585:\tlearn: 0.0209917\ttotal: 1.07s\tremaining: 755ms\n",
      "586:\tlearn: 0.0209918\ttotal: 1.07s\tremaining: 753ms\n",
      "587:\tlearn: 0.0209917\ttotal: 1.07s\tremaining: 751ms\n",
      "588:\tlearn: 0.0209916\ttotal: 1.07s\tremaining: 749ms\n",
      "589:\tlearn: 0.0209916\ttotal: 1.07s\tremaining: 747ms\n",
      "590:\tlearn: 0.0209916\ttotal: 1.08s\tremaining: 745ms\n",
      "591:\tlearn: 0.0209914\ttotal: 1.08s\tremaining: 744ms\n",
      "592:\tlearn: 0.0209914\ttotal: 1.08s\tremaining: 742ms\n",
      "593:\tlearn: 0.0209914\ttotal: 1.08s\tremaining: 740ms\n",
      "594:\tlearn: 0.0209913\ttotal: 1.08s\tremaining: 738ms\n",
      "595:\tlearn: 0.0209912\ttotal: 1.09s\tremaining: 736ms\n",
      "596:\tlearn: 0.0209911\ttotal: 1.09s\tremaining: 735ms\n",
      "597:\tlearn: 0.0209910\ttotal: 1.09s\tremaining: 733ms\n",
      "598:\tlearn: 0.0209909\ttotal: 1.09s\tremaining: 731ms\n",
      "599:\tlearn: 0.0209908\ttotal: 1.09s\tremaining: 729ms\n",
      "600:\tlearn: 0.0209907\ttotal: 1.09s\tremaining: 727ms\n",
      "601:\tlearn: 0.0209906\ttotal: 1.1s\tremaining: 726ms\n",
      "602:\tlearn: 0.0209905\ttotal: 1.1s\tremaining: 724ms\n",
      "603:\tlearn: 0.0209904\ttotal: 1.1s\tremaining: 722ms\n",
      "604:\tlearn: 0.0209903\ttotal: 1.1s\tremaining: 720ms\n",
      "605:\tlearn: 0.0209902\ttotal: 1.1s\tremaining: 718ms\n",
      "606:\tlearn: 0.0209901\ttotal: 1.11s\tremaining: 716ms\n",
      "607:\tlearn: 0.0209900\ttotal: 1.11s\tremaining: 714ms\n",
      "608:\tlearn: 0.0209899\ttotal: 1.11s\tremaining: 713ms\n",
      "609:\tlearn: 0.0209896\ttotal: 1.11s\tremaining: 711ms\n",
      "610:\tlearn: 0.0209896\ttotal: 1.11s\tremaining: 709ms\n",
      "611:\tlearn: 0.0209895\ttotal: 1.11s\tremaining: 707ms\n",
      "612:\tlearn: 0.0209895\ttotal: 1.12s\tremaining: 705ms\n",
      "613:\tlearn: 0.0209894\ttotal: 1.12s\tremaining: 703ms\n",
      "614:\tlearn: 0.0209894\ttotal: 1.12s\tremaining: 701ms\n",
      "615:\tlearn: 0.0209893\ttotal: 1.12s\tremaining: 700ms\n",
      "616:\tlearn: 0.0209891\ttotal: 1.12s\tremaining: 698ms\n",
      "617:\tlearn: 0.0209890\ttotal: 1.13s\tremaining: 696ms\n",
      "618:\tlearn: 0.0209889\ttotal: 1.13s\tremaining: 694ms\n",
      "619:\tlearn: 0.0209887\ttotal: 1.13s\tremaining: 692ms\n",
      "620:\tlearn: 0.0209885\ttotal: 1.13s\tremaining: 690ms\n",
      "621:\tlearn: 0.0209884\ttotal: 1.13s\tremaining: 688ms\n",
      "622:\tlearn: 0.0209883\ttotal: 1.13s\tremaining: 686ms\n",
      "623:\tlearn: 0.0209882\ttotal: 1.14s\tremaining: 684ms\n",
      "624:\tlearn: 0.0209881\ttotal: 1.14s\tremaining: 683ms\n",
      "625:\tlearn: 0.0209880\ttotal: 1.14s\tremaining: 681ms\n",
      "626:\tlearn: 0.0209880\ttotal: 1.14s\tremaining: 679ms\n",
      "627:\tlearn: 0.0209880\ttotal: 1.14s\tremaining: 677ms\n",
      "628:\tlearn: 0.0209880\ttotal: 1.14s\tremaining: 675ms\n",
      "629:\tlearn: 0.0209879\ttotal: 1.15s\tremaining: 673ms\n",
      "630:\tlearn: 0.0209878\ttotal: 1.15s\tremaining: 671ms\n",
      "631:\tlearn: 0.0209877\ttotal: 1.15s\tremaining: 669ms\n",
      "632:\tlearn: 0.0209876\ttotal: 1.15s\tremaining: 668ms\n",
      "633:\tlearn: 0.0209876\ttotal: 1.15s\tremaining: 666ms\n",
      "634:\tlearn: 0.0209875\ttotal: 1.16s\tremaining: 664ms\n",
      "635:\tlearn: 0.0209875\ttotal: 1.16s\tremaining: 662ms\n",
      "636:\tlearn: 0.0209865\ttotal: 1.16s\tremaining: 661ms\n",
      "637:\tlearn: 0.0209864\ttotal: 1.16s\tremaining: 659ms\n",
      "638:\tlearn: 0.0209862\ttotal: 1.16s\tremaining: 657ms\n",
      "639:\tlearn: 0.0209862\ttotal: 1.16s\tremaining: 655ms\n",
      "640:\tlearn: 0.0209857\ttotal: 1.17s\tremaining: 653ms\n",
      "641:\tlearn: 0.0209856\ttotal: 1.17s\tremaining: 651ms\n",
      "642:\tlearn: 0.0209855\ttotal: 1.17s\tremaining: 649ms\n",
      "643:\tlearn: 0.0209853\ttotal: 1.17s\tremaining: 648ms\n",
      "644:\tlearn: 0.0209852\ttotal: 1.17s\tremaining: 646ms\n",
      "645:\tlearn: 0.0209851\ttotal: 1.18s\tremaining: 644ms\n",
      "646:\tlearn: 0.0209850\ttotal: 1.18s\tremaining: 642ms\n",
      "647:\tlearn: 0.0209849\ttotal: 1.18s\tremaining: 640ms\n",
      "648:\tlearn: 0.0209847\ttotal: 1.18s\tremaining: 638ms\n",
      "649:\tlearn: 0.0209847\ttotal: 1.18s\tremaining: 636ms\n",
      "650:\tlearn: 0.0209846\ttotal: 1.18s\tremaining: 635ms\n",
      "651:\tlearn: 0.0209842\ttotal: 1.19s\tremaining: 633ms\n",
      "652:\tlearn: 0.0209843\ttotal: 1.19s\tremaining: 631ms\n",
      "653:\tlearn: 0.0209842\ttotal: 1.19s\tremaining: 629ms\n",
      "654:\tlearn: 0.0209842\ttotal: 1.19s\tremaining: 627ms\n",
      "655:\tlearn: 0.0209839\ttotal: 1.19s\tremaining: 625ms\n",
      "656:\tlearn: 0.0209839\ttotal: 1.19s\tremaining: 623ms\n",
      "657:\tlearn: 0.0209837\ttotal: 1.2s\tremaining: 622ms\n",
      "658:\tlearn: 0.0209836\ttotal: 1.2s\tremaining: 620ms\n",
      "659:\tlearn: 0.0209836\ttotal: 1.2s\tremaining: 618ms\n",
      "660:\tlearn: 0.0209834\ttotal: 1.2s\tremaining: 616ms\n",
      "661:\tlearn: 0.0209834\ttotal: 1.2s\tremaining: 614ms\n",
      "662:\tlearn: 0.0209834\ttotal: 1.2s\tremaining: 612ms\n",
      "663:\tlearn: 0.0209834\ttotal: 1.21s\tremaining: 610ms\n",
      "664:\tlearn: 0.0209831\ttotal: 1.21s\tremaining: 609ms\n",
      "665:\tlearn: 0.0209823\ttotal: 1.21s\tremaining: 607ms\n",
      "666:\tlearn: 0.0209822\ttotal: 1.21s\tremaining: 605ms\n",
      "667:\tlearn: 0.0209822\ttotal: 1.21s\tremaining: 603ms\n",
      "668:\tlearn: 0.0209821\ttotal: 1.22s\tremaining: 601ms\n",
      "669:\tlearn: 0.0209810\ttotal: 1.22s\tremaining: 599ms\n",
      "670:\tlearn: 0.0209808\ttotal: 1.22s\tremaining: 597ms\n",
      "671:\tlearn: 0.0209808\ttotal: 1.22s\tremaining: 596ms\n",
      "672:\tlearn: 0.0209806\ttotal: 1.22s\tremaining: 594ms\n",
      "673:\tlearn: 0.0209805\ttotal: 1.22s\tremaining: 592ms\n",
      "674:\tlearn: 0.0209805\ttotal: 1.23s\tremaining: 590ms\n",
      "675:\tlearn: 0.0209804\ttotal: 1.23s\tremaining: 588ms\n",
      "676:\tlearn: 0.0209804\ttotal: 1.23s\tremaining: 586ms\n",
      "677:\tlearn: 0.0209804\ttotal: 1.23s\tremaining: 585ms\n",
      "678:\tlearn: 0.0209802\ttotal: 1.23s\tremaining: 583ms\n",
      "679:\tlearn: 0.0209801\ttotal: 1.23s\tremaining: 581ms\n",
      "680:\tlearn: 0.0209798\ttotal: 1.24s\tremaining: 579ms\n",
      "681:\tlearn: 0.0209798\ttotal: 1.24s\tremaining: 577ms\n",
      "682:\tlearn: 0.0209796\ttotal: 1.24s\tremaining: 576ms\n",
      "683:\tlearn: 0.0209794\ttotal: 1.24s\tremaining: 574ms\n",
      "684:\tlearn: 0.0209793\ttotal: 1.24s\tremaining: 572ms\n",
      "685:\tlearn: 0.0209793\ttotal: 1.25s\tremaining: 570ms\n",
      "686:\tlearn: 0.0209791\ttotal: 1.25s\tremaining: 568ms\n",
      "687:\tlearn: 0.0209791\ttotal: 1.25s\tremaining: 566ms\n",
      "688:\tlearn: 0.0209790\ttotal: 1.25s\tremaining: 564ms\n",
      "689:\tlearn: 0.0209789\ttotal: 1.25s\tremaining: 563ms\n",
      "690:\tlearn: 0.0209789\ttotal: 1.25s\tremaining: 561ms\n",
      "691:\tlearn: 0.0209787\ttotal: 1.26s\tremaining: 559ms\n",
      "692:\tlearn: 0.0209786\ttotal: 1.26s\tremaining: 557ms\n",
      "693:\tlearn: 0.0209786\ttotal: 1.26s\tremaining: 556ms\n",
      "694:\tlearn: 0.0209786\ttotal: 1.26s\tremaining: 554ms\n",
      "695:\tlearn: 0.0209784\ttotal: 1.26s\tremaining: 552ms\n",
      "696:\tlearn: 0.0209783\ttotal: 1.26s\tremaining: 550ms\n",
      "697:\tlearn: 0.0209774\ttotal: 1.27s\tremaining: 548ms\n",
      "698:\tlearn: 0.0209773\ttotal: 1.27s\tremaining: 546ms\n",
      "699:\tlearn: 0.0209773\ttotal: 1.27s\tremaining: 545ms\n",
      "700:\tlearn: 0.0209772\ttotal: 1.27s\tremaining: 543ms\n",
      "701:\tlearn: 0.0209771\ttotal: 1.27s\tremaining: 541ms\n",
      "702:\tlearn: 0.0209771\ttotal: 1.28s\tremaining: 539ms\n",
      "703:\tlearn: 0.0209771\ttotal: 1.28s\tremaining: 537ms\n",
      "704:\tlearn: 0.0209761\ttotal: 1.28s\tremaining: 535ms\n",
      "705:\tlearn: 0.0209761\ttotal: 1.28s\tremaining: 534ms\n",
      "706:\tlearn: 0.0209761\ttotal: 1.28s\tremaining: 532ms\n",
      "707:\tlearn: 0.0209761\ttotal: 1.28s\tremaining: 530ms\n",
      "708:\tlearn: 0.0209760\ttotal: 1.29s\tremaining: 528ms\n",
      "709:\tlearn: 0.0209758\ttotal: 1.29s\tremaining: 526ms\n",
      "710:\tlearn: 0.0209756\ttotal: 1.29s\tremaining: 524ms\n",
      "711:\tlearn: 0.0209755\ttotal: 1.29s\tremaining: 523ms\n",
      "712:\tlearn: 0.0209753\ttotal: 1.29s\tremaining: 521ms\n",
      "713:\tlearn: 0.0209753\ttotal: 1.29s\tremaining: 519ms\n",
      "714:\tlearn: 0.0209751\ttotal: 1.3s\tremaining: 517ms\n",
      "715:\tlearn: 0.0209751\ttotal: 1.3s\tremaining: 515ms\n",
      "716:\tlearn: 0.0209749\ttotal: 1.3s\tremaining: 513ms\n",
      "717:\tlearn: 0.0209739\ttotal: 1.3s\tremaining: 512ms\n",
      "718:\tlearn: 0.0209738\ttotal: 1.3s\tremaining: 510ms\n",
      "719:\tlearn: 0.0209737\ttotal: 1.31s\tremaining: 508ms\n",
      "720:\tlearn: 0.0209737\ttotal: 1.31s\tremaining: 506ms\n",
      "721:\tlearn: 0.0209736\ttotal: 1.31s\tremaining: 504ms\n",
      "722:\tlearn: 0.0209731\ttotal: 1.31s\tremaining: 502ms\n",
      "723:\tlearn: 0.0209730\ttotal: 1.31s\tremaining: 501ms\n",
      "724:\tlearn: 0.0209730\ttotal: 1.31s\tremaining: 499ms\n",
      "725:\tlearn: 0.0209723\ttotal: 1.32s\tremaining: 497ms\n",
      "726:\tlearn: 0.0209722\ttotal: 1.32s\tremaining: 495ms\n",
      "727:\tlearn: 0.0209722\ttotal: 1.32s\tremaining: 493ms\n",
      "728:\tlearn: 0.0209722\ttotal: 1.32s\tremaining: 491ms\n",
      "729:\tlearn: 0.0209719\ttotal: 1.32s\tremaining: 490ms\n",
      "730:\tlearn: 0.0209716\ttotal: 1.32s\tremaining: 488ms\n",
      "731:\tlearn: 0.0209714\ttotal: 1.33s\tremaining: 486ms\n",
      "732:\tlearn: 0.0209714\ttotal: 1.33s\tremaining: 484ms\n",
      "733:\tlearn: 0.0209711\ttotal: 1.33s\tremaining: 482ms\n",
      "734:\tlearn: 0.0209710\ttotal: 1.33s\tremaining: 480ms\n",
      "735:\tlearn: 0.0209709\ttotal: 1.33s\tremaining: 478ms\n",
      "736:\tlearn: 0.0209709\ttotal: 1.33s\tremaining: 477ms\n",
      "737:\tlearn: 0.0209707\ttotal: 1.34s\tremaining: 475ms\n",
      "738:\tlearn: 0.0209704\ttotal: 1.34s\tremaining: 473ms\n",
      "739:\tlearn: 0.0209704\ttotal: 1.34s\tremaining: 471ms\n",
      "740:\tlearn: 0.0209703\ttotal: 1.34s\tremaining: 469ms\n",
      "741:\tlearn: 0.0209703\ttotal: 1.34s\tremaining: 468ms\n",
      "742:\tlearn: 0.0209703\ttotal: 1.35s\tremaining: 466ms\n",
      "743:\tlearn: 0.0209701\ttotal: 1.35s\tremaining: 464ms\n",
      "744:\tlearn: 0.0209700\ttotal: 1.35s\tremaining: 462ms\n",
      "745:\tlearn: 0.0209699\ttotal: 1.35s\tremaining: 460ms\n",
      "746:\tlearn: 0.0209699\ttotal: 1.35s\tremaining: 458ms\n",
      "747:\tlearn: 0.0209697\ttotal: 1.35s\tremaining: 457ms\n",
      "748:\tlearn: 0.0209697\ttotal: 1.36s\tremaining: 455ms\n",
      "749:\tlearn: 0.0209696\ttotal: 1.36s\tremaining: 453ms\n",
      "750:\tlearn: 0.0209696\ttotal: 1.36s\tremaining: 451ms\n",
      "751:\tlearn: 0.0209695\ttotal: 1.36s\tremaining: 449ms\n",
      "752:\tlearn: 0.0209694\ttotal: 1.36s\tremaining: 448ms\n",
      "753:\tlearn: 0.0209693\ttotal: 1.37s\tremaining: 446ms\n",
      "754:\tlearn: 0.0209691\ttotal: 1.37s\tremaining: 444ms\n",
      "755:\tlearn: 0.0209688\ttotal: 1.37s\tremaining: 442ms\n",
      "756:\tlearn: 0.0209688\ttotal: 1.37s\tremaining: 440ms\n",
      "757:\tlearn: 0.0209687\ttotal: 1.37s\tremaining: 438ms\n",
      "758:\tlearn: 0.0209687\ttotal: 1.37s\tremaining: 437ms\n",
      "759:\tlearn: 0.0209686\ttotal: 1.38s\tremaining: 435ms\n",
      "760:\tlearn: 0.0209684\ttotal: 1.38s\tremaining: 433ms\n",
      "761:\tlearn: 0.0209683\ttotal: 1.38s\tremaining: 431ms\n",
      "762:\tlearn: 0.0209683\ttotal: 1.38s\tremaining: 429ms\n",
      "763:\tlearn: 0.0209683\ttotal: 1.38s\tremaining: 427ms\n",
      "764:\tlearn: 0.0209675\ttotal: 1.39s\tremaining: 425ms\n",
      "765:\tlearn: 0.0209674\ttotal: 1.39s\tremaining: 424ms\n",
      "766:\tlearn: 0.0209669\ttotal: 1.39s\tremaining: 422ms\n",
      "767:\tlearn: 0.0209665\ttotal: 1.39s\tremaining: 420ms\n",
      "768:\tlearn: 0.0209664\ttotal: 1.39s\tremaining: 418ms\n",
      "769:\tlearn: 0.0209664\ttotal: 1.39s\tremaining: 416ms\n",
      "770:\tlearn: 0.0209663\ttotal: 1.4s\tremaining: 415ms\n",
      "771:\tlearn: 0.0209663\ttotal: 1.4s\tremaining: 413ms\n",
      "772:\tlearn: 0.0209662\ttotal: 1.4s\tremaining: 411ms\n",
      "773:\tlearn: 0.0209662\ttotal: 1.4s\tremaining: 409ms\n",
      "774:\tlearn: 0.0209659\ttotal: 1.4s\tremaining: 407ms\n",
      "775:\tlearn: 0.0209659\ttotal: 1.4s\tremaining: 405ms\n",
      "776:\tlearn: 0.0209658\ttotal: 1.41s\tremaining: 404ms\n",
      "777:\tlearn: 0.0209658\ttotal: 1.41s\tremaining: 402ms\n",
      "778:\tlearn: 0.0209657\ttotal: 1.41s\tremaining: 400ms\n",
      "779:\tlearn: 0.0209657\ttotal: 1.41s\tremaining: 398ms\n",
      "780:\tlearn: 0.0209654\ttotal: 1.41s\tremaining: 396ms\n",
      "781:\tlearn: 0.0209650\ttotal: 1.41s\tremaining: 394ms\n",
      "782:\tlearn: 0.0209650\ttotal: 1.42s\tremaining: 393ms\n",
      "783:\tlearn: 0.0209648\ttotal: 1.42s\tremaining: 391ms\n",
      "784:\tlearn: 0.0209648\ttotal: 1.42s\tremaining: 389ms\n",
      "785:\tlearn: 0.0209647\ttotal: 1.42s\tremaining: 387ms\n",
      "786:\tlearn: 0.0209646\ttotal: 1.42s\tremaining: 385ms\n",
      "787:\tlearn: 0.0209647\ttotal: 1.43s\tremaining: 384ms\n",
      "788:\tlearn: 0.0209646\ttotal: 1.43s\tremaining: 382ms\n",
      "789:\tlearn: 0.0209644\ttotal: 1.43s\tremaining: 380ms\n",
      "790:\tlearn: 0.0209644\ttotal: 1.43s\tremaining: 378ms\n",
      "791:\tlearn: 0.0209642\ttotal: 1.43s\tremaining: 376ms\n",
      "792:\tlearn: 0.0209642\ttotal: 1.43s\tremaining: 374ms\n",
      "793:\tlearn: 0.0209642\ttotal: 1.44s\tremaining: 373ms\n",
      "794:\tlearn: 0.0209640\ttotal: 1.44s\tremaining: 371ms\n",
      "795:\tlearn: 0.0209639\ttotal: 1.44s\tremaining: 369ms\n",
      "796:\tlearn: 0.0209639\ttotal: 1.44s\tremaining: 367ms\n",
      "797:\tlearn: 0.0209639\ttotal: 1.44s\tremaining: 365ms\n",
      "798:\tlearn: 0.0209638\ttotal: 1.44s\tremaining: 363ms\n",
      "799:\tlearn: 0.0209637\ttotal: 1.45s\tremaining: 362ms\n",
      "800:\tlearn: 0.0209637\ttotal: 1.45s\tremaining: 360ms\n",
      "801:\tlearn: 0.0209637\ttotal: 1.45s\tremaining: 358ms\n",
      "802:\tlearn: 0.0209636\ttotal: 1.45s\tremaining: 356ms\n",
      "803:\tlearn: 0.0209636\ttotal: 1.45s\tremaining: 354ms\n",
      "804:\tlearn: 0.0209636\ttotal: 1.46s\tremaining: 353ms\n",
      "805:\tlearn: 0.0209634\ttotal: 1.46s\tremaining: 351ms\n",
      "806:\tlearn: 0.0209632\ttotal: 1.46s\tremaining: 349ms\n",
      "807:\tlearn: 0.0209631\ttotal: 1.46s\tremaining: 347ms\n",
      "808:\tlearn: 0.0209630\ttotal: 1.46s\tremaining: 345ms\n",
      "809:\tlearn: 0.0209630\ttotal: 1.46s\tremaining: 343ms\n",
      "810:\tlearn: 0.0209630\ttotal: 1.47s\tremaining: 342ms\n",
      "811:\tlearn: 0.0209629\ttotal: 1.47s\tremaining: 340ms\n",
      "812:\tlearn: 0.0209629\ttotal: 1.47s\tremaining: 338ms\n",
      "813:\tlearn: 0.0209629\ttotal: 1.47s\tremaining: 336ms\n",
      "814:\tlearn: 0.0209625\ttotal: 1.47s\tremaining: 335ms\n",
      "815:\tlearn: 0.0209624\ttotal: 1.48s\tremaining: 333ms\n",
      "816:\tlearn: 0.0209624\ttotal: 1.48s\tremaining: 331ms\n",
      "817:\tlearn: 0.0209622\ttotal: 1.48s\tremaining: 329ms\n",
      "818:\tlearn: 0.0209622\ttotal: 1.48s\tremaining: 327ms\n",
      "819:\tlearn: 0.0209619\ttotal: 1.48s\tremaining: 325ms\n",
      "820:\tlearn: 0.0209619\ttotal: 1.48s\tremaining: 324ms\n",
      "821:\tlearn: 0.0209616\ttotal: 1.49s\tremaining: 322ms\n",
      "822:\tlearn: 0.0209616\ttotal: 1.49s\tremaining: 320ms\n",
      "823:\tlearn: 0.0209615\ttotal: 1.49s\tremaining: 318ms\n",
      "824:\tlearn: 0.0209611\ttotal: 1.49s\tremaining: 316ms\n",
      "825:\tlearn: 0.0209610\ttotal: 1.49s\tremaining: 314ms\n",
      "826:\tlearn: 0.0209610\ttotal: 1.49s\tremaining: 313ms\n",
      "827:\tlearn: 0.0209609\ttotal: 1.5s\tremaining: 311ms\n",
      "828:\tlearn: 0.0209609\ttotal: 1.5s\tremaining: 309ms\n",
      "829:\tlearn: 0.0209607\ttotal: 1.5s\tremaining: 307ms\n",
      "830:\tlearn: 0.0209607\ttotal: 1.5s\tremaining: 305ms\n",
      "831:\tlearn: 0.0209606\ttotal: 1.5s\tremaining: 304ms\n",
      "832:\tlearn: 0.0209604\ttotal: 1.5s\tremaining: 302ms\n",
      "833:\tlearn: 0.0209602\ttotal: 1.51s\tremaining: 300ms\n",
      "834:\tlearn: 0.0209601\ttotal: 1.51s\tremaining: 298ms\n",
      "835:\tlearn: 0.0209601\ttotal: 1.51s\tremaining: 296ms\n",
      "836:\tlearn: 0.0209600\ttotal: 1.51s\tremaining: 295ms\n",
      "837:\tlearn: 0.0209597\ttotal: 1.51s\tremaining: 293ms\n",
      "838:\tlearn: 0.0209595\ttotal: 1.52s\tremaining: 291ms\n",
      "839:\tlearn: 0.0209595\ttotal: 1.52s\tremaining: 289ms\n",
      "840:\tlearn: 0.0209594\ttotal: 1.52s\tremaining: 287ms\n",
      "841:\tlearn: 0.0209594\ttotal: 1.52s\tremaining: 285ms\n",
      "842:\tlearn: 0.0209593\ttotal: 1.52s\tremaining: 284ms\n",
      "843:\tlearn: 0.0209593\ttotal: 1.52s\tremaining: 282ms\n",
      "844:\tlearn: 0.0209592\ttotal: 1.53s\tremaining: 280ms\n",
      "845:\tlearn: 0.0209591\ttotal: 1.53s\tremaining: 278ms\n",
      "846:\tlearn: 0.0209591\ttotal: 1.53s\tremaining: 276ms\n",
      "847:\tlearn: 0.0209590\ttotal: 1.53s\tremaining: 275ms\n",
      "848:\tlearn: 0.0209586\ttotal: 1.53s\tremaining: 273ms\n",
      "849:\tlearn: 0.0209586\ttotal: 1.53s\tremaining: 271ms\n",
      "850:\tlearn: 0.0209580\ttotal: 1.54s\tremaining: 269ms\n",
      "851:\tlearn: 0.0209580\ttotal: 1.54s\tremaining: 267ms\n",
      "852:\tlearn: 0.0209580\ttotal: 1.54s\tremaining: 265ms\n",
      "853:\tlearn: 0.0209580\ttotal: 1.54s\tremaining: 264ms\n",
      "854:\tlearn: 0.0209578\ttotal: 1.54s\tremaining: 262ms\n",
      "855:\tlearn: 0.0209577\ttotal: 1.54s\tremaining: 260ms\n",
      "856:\tlearn: 0.0209577\ttotal: 1.55s\tremaining: 258ms\n",
      "857:\tlearn: 0.0209574\ttotal: 1.55s\tremaining: 256ms\n",
      "858:\tlearn: 0.0209573\ttotal: 1.55s\tremaining: 255ms\n",
      "859:\tlearn: 0.0209573\ttotal: 1.55s\tremaining: 253ms\n",
      "860:\tlearn: 0.0209571\ttotal: 1.55s\tremaining: 251ms\n",
      "861:\tlearn: 0.0209570\ttotal: 1.56s\tremaining: 249ms\n",
      "862:\tlearn: 0.0209570\ttotal: 1.56s\tremaining: 247ms\n",
      "863:\tlearn: 0.0209569\ttotal: 1.56s\tremaining: 245ms\n",
      "864:\tlearn: 0.0209568\ttotal: 1.56s\tremaining: 244ms\n",
      "865:\tlearn: 0.0209568\ttotal: 1.56s\tremaining: 242ms\n",
      "866:\tlearn: 0.0209564\ttotal: 1.56s\tremaining: 240ms\n",
      "867:\tlearn: 0.0209563\ttotal: 1.57s\tremaining: 238ms\n",
      "868:\tlearn: 0.0209563\ttotal: 1.57s\tremaining: 236ms\n",
      "869:\tlearn: 0.0209561\ttotal: 1.57s\tremaining: 235ms\n",
      "870:\tlearn: 0.0209561\ttotal: 1.57s\tremaining: 233ms\n",
      "871:\tlearn: 0.0209561\ttotal: 1.57s\tremaining: 231ms\n",
      "872:\tlearn: 0.0209560\ttotal: 1.57s\tremaining: 229ms\n",
      "873:\tlearn: 0.0209559\ttotal: 1.58s\tremaining: 227ms\n",
      "874:\tlearn: 0.0209559\ttotal: 1.58s\tremaining: 226ms\n",
      "875:\tlearn: 0.0209560\ttotal: 1.58s\tremaining: 224ms\n",
      "876:\tlearn: 0.0209559\ttotal: 1.58s\tremaining: 222ms\n",
      "877:\tlearn: 0.0209558\ttotal: 1.58s\tremaining: 220ms\n",
      "878:\tlearn: 0.0209558\ttotal: 1.58s\tremaining: 218ms\n",
      "879:\tlearn: 0.0209557\ttotal: 1.59s\tremaining: 216ms\n",
      "880:\tlearn: 0.0209557\ttotal: 1.59s\tremaining: 215ms\n",
      "881:\tlearn: 0.0209556\ttotal: 1.59s\tremaining: 213ms\n",
      "882:\tlearn: 0.0209556\ttotal: 1.59s\tremaining: 211ms\n",
      "883:\tlearn: 0.0209555\ttotal: 1.59s\tremaining: 209ms\n",
      "884:\tlearn: 0.0209555\ttotal: 1.6s\tremaining: 207ms\n",
      "885:\tlearn: 0.0209553\ttotal: 1.6s\tremaining: 206ms\n",
      "886:\tlearn: 0.0209553\ttotal: 1.6s\tremaining: 204ms\n",
      "887:\tlearn: 0.0209552\ttotal: 1.6s\tremaining: 202ms\n",
      "888:\tlearn: 0.0209552\ttotal: 1.6s\tremaining: 200ms\n",
      "889:\tlearn: 0.0209552\ttotal: 1.6s\tremaining: 198ms\n",
      "890:\tlearn: 0.0209551\ttotal: 1.61s\tremaining: 196ms\n",
      "891:\tlearn: 0.0209550\ttotal: 1.61s\tremaining: 195ms\n",
      "892:\tlearn: 0.0209550\ttotal: 1.61s\tremaining: 193ms\n",
      "893:\tlearn: 0.0209549\ttotal: 1.61s\tremaining: 191ms\n",
      "894:\tlearn: 0.0209547\ttotal: 1.61s\tremaining: 189ms\n",
      "895:\tlearn: 0.0209548\ttotal: 1.61s\tremaining: 187ms\n",
      "896:\tlearn: 0.0209547\ttotal: 1.62s\tremaining: 186ms\n",
      "897:\tlearn: 0.0209546\ttotal: 1.62s\tremaining: 184ms\n",
      "898:\tlearn: 0.0209545\ttotal: 1.62s\tremaining: 182ms\n",
      "899:\tlearn: 0.0209545\ttotal: 1.62s\tremaining: 180ms\n",
      "900:\tlearn: 0.0209545\ttotal: 1.62s\tremaining: 178ms\n",
      "901:\tlearn: 0.0209544\ttotal: 1.63s\tremaining: 177ms\n",
      "902:\tlearn: 0.0209542\ttotal: 1.63s\tremaining: 175ms\n",
      "903:\tlearn: 0.0209542\ttotal: 1.63s\tremaining: 173ms\n",
      "904:\tlearn: 0.0209540\ttotal: 1.63s\tremaining: 171ms\n",
      "905:\tlearn: 0.0209539\ttotal: 1.63s\tremaining: 169ms\n",
      "906:\tlearn: 0.0209538\ttotal: 1.64s\tremaining: 168ms\n",
      "907:\tlearn: 0.0209538\ttotal: 1.64s\tremaining: 166ms\n",
      "908:\tlearn: 0.0209537\ttotal: 1.64s\tremaining: 164ms\n",
      "909:\tlearn: 0.0209536\ttotal: 1.64s\tremaining: 162ms\n",
      "910:\tlearn: 0.0209535\ttotal: 1.64s\tremaining: 160ms\n",
      "911:\tlearn: 0.0209535\ttotal: 1.64s\tremaining: 159ms\n",
      "912:\tlearn: 0.0209534\ttotal: 1.65s\tremaining: 157ms\n",
      "913:\tlearn: 0.0209533\ttotal: 1.65s\tremaining: 155ms\n",
      "914:\tlearn: 0.0209533\ttotal: 1.65s\tremaining: 153ms\n",
      "915:\tlearn: 0.0209533\ttotal: 1.65s\tremaining: 151ms\n",
      "916:\tlearn: 0.0209532\ttotal: 1.65s\tremaining: 150ms\n",
      "917:\tlearn: 0.0209531\ttotal: 1.66s\tremaining: 148ms\n",
      "918:\tlearn: 0.0209531\ttotal: 1.66s\tremaining: 146ms\n",
      "919:\tlearn: 0.0209529\ttotal: 1.66s\tremaining: 144ms\n",
      "920:\tlearn: 0.0209529\ttotal: 1.66s\tremaining: 142ms\n",
      "921:\tlearn: 0.0209529\ttotal: 1.66s\tremaining: 141ms\n",
      "922:\tlearn: 0.0209529\ttotal: 1.66s\tremaining: 139ms\n",
      "923:\tlearn: 0.0209522\ttotal: 1.67s\tremaining: 137ms\n",
      "924:\tlearn: 0.0209522\ttotal: 1.67s\tremaining: 135ms\n",
      "925:\tlearn: 0.0209521\ttotal: 1.67s\tremaining: 134ms\n",
      "926:\tlearn: 0.0209520\ttotal: 1.67s\tremaining: 132ms\n",
      "927:\tlearn: 0.0209521\ttotal: 1.67s\tremaining: 130ms\n",
      "928:\tlearn: 0.0209519\ttotal: 1.68s\tremaining: 128ms\n",
      "929:\tlearn: 0.0209519\ttotal: 1.68s\tremaining: 126ms\n",
      "930:\tlearn: 0.0209519\ttotal: 1.68s\tremaining: 124ms\n",
      "931:\tlearn: 0.0209519\ttotal: 1.68s\tremaining: 123ms\n",
      "932:\tlearn: 0.0209518\ttotal: 1.68s\tremaining: 121ms\n",
      "933:\tlearn: 0.0209518\ttotal: 1.69s\tremaining: 119ms\n",
      "934:\tlearn: 0.0209515\ttotal: 1.69s\tremaining: 117ms\n",
      "935:\tlearn: 0.0209515\ttotal: 1.69s\tremaining: 115ms\n",
      "936:\tlearn: 0.0209514\ttotal: 1.69s\tremaining: 114ms\n",
      "937:\tlearn: 0.0209514\ttotal: 1.69s\tremaining: 112ms\n",
      "938:\tlearn: 0.0209514\ttotal: 1.69s\tremaining: 110ms\n",
      "939:\tlearn: 0.0209513\ttotal: 1.7s\tremaining: 108ms\n",
      "940:\tlearn: 0.0209512\ttotal: 1.7s\tremaining: 106ms\n",
      "941:\tlearn: 0.0209512\ttotal: 1.7s\tremaining: 105ms\n",
      "942:\tlearn: 0.0209510\ttotal: 1.7s\tremaining: 103ms\n",
      "943:\tlearn: 0.0209509\ttotal: 1.7s\tremaining: 101ms\n",
      "944:\tlearn: 0.0209508\ttotal: 1.7s\tremaining: 99.2ms\n",
      "945:\tlearn: 0.0209508\ttotal: 1.71s\tremaining: 97.4ms\n",
      "946:\tlearn: 0.0209508\ttotal: 1.71s\tremaining: 95.6ms\n",
      "947:\tlearn: 0.0209507\ttotal: 1.71s\tremaining: 93.8ms\n",
      "948:\tlearn: 0.0209506\ttotal: 1.71s\tremaining: 92ms\n",
      "949:\tlearn: 0.0209504\ttotal: 1.71s\tremaining: 90.2ms\n",
      "950:\tlearn: 0.0209504\ttotal: 1.71s\tremaining: 88.4ms\n",
      "951:\tlearn: 0.0209503\ttotal: 1.72s\tremaining: 86.6ms\n",
      "952:\tlearn: 0.0209503\ttotal: 1.72s\tremaining: 84.8ms\n",
      "953:\tlearn: 0.0209494\ttotal: 1.72s\tremaining: 82.9ms\n",
      "954:\tlearn: 0.0209494\ttotal: 1.72s\tremaining: 81.1ms\n",
      "955:\tlearn: 0.0209493\ttotal: 1.72s\tremaining: 79.3ms\n",
      "956:\tlearn: 0.0209492\ttotal: 1.73s\tremaining: 77.5ms\n",
      "957:\tlearn: 0.0209488\ttotal: 1.73s\tremaining: 75.7ms\n",
      "958:\tlearn: 0.0209487\ttotal: 1.73s\tremaining: 73.9ms\n",
      "959:\tlearn: 0.0209488\ttotal: 1.73s\tremaining: 72.1ms\n",
      "960:\tlearn: 0.0209487\ttotal: 1.73s\tremaining: 70.3ms\n",
      "961:\tlearn: 0.0209486\ttotal: 1.73s\tremaining: 68.5ms\n",
      "962:\tlearn: 0.0209486\ttotal: 1.74s\tremaining: 66.7ms\n",
      "963:\tlearn: 0.0209486\ttotal: 1.74s\tremaining: 64.9ms\n",
      "964:\tlearn: 0.0209486\ttotal: 1.74s\tremaining: 63ms\n",
      "965:\tlearn: 0.0209486\ttotal: 1.74s\tremaining: 61.2ms\n",
      "966:\tlearn: 0.0209486\ttotal: 1.74s\tremaining: 59.4ms\n",
      "967:\tlearn: 0.0208764\ttotal: 1.74s\tremaining: 57.7ms\n",
      "968:\tlearn: 0.0208762\ttotal: 1.75s\tremaining: 55.8ms\n",
      "969:\tlearn: 0.0208761\ttotal: 1.75s\tremaining: 54.1ms\n",
      "970:\tlearn: 0.0208760\ttotal: 1.75s\tremaining: 52.2ms\n",
      "971:\tlearn: 0.0208760\ttotal: 1.75s\tremaining: 50.4ms\n",
      "972:\tlearn: 0.0208753\ttotal: 1.75s\tremaining: 48.6ms\n",
      "973:\tlearn: 0.0208729\ttotal: 1.75s\tremaining: 46.8ms\n",
      "974:\tlearn: 0.0208727\ttotal: 1.76s\tremaining: 45ms\n",
      "975:\tlearn: 0.0208726\ttotal: 1.76s\tremaining: 43.2ms\n",
      "976:\tlearn: 0.0208726\ttotal: 1.76s\tremaining: 41.4ms\n",
      "977:\tlearn: 0.0208724\ttotal: 1.76s\tremaining: 39.6ms\n",
      "978:\tlearn: 0.0208723\ttotal: 1.76s\tremaining: 37.8ms\n",
      "979:\tlearn: 0.0208722\ttotal: 1.76s\tremaining: 36ms\n",
      "980:\tlearn: 0.0208721\ttotal: 1.77s\tremaining: 34.2ms\n",
      "981:\tlearn: 0.0208720\ttotal: 1.77s\tremaining: 32.4ms\n",
      "982:\tlearn: 0.0208719\ttotal: 1.77s\tremaining: 30.6ms\n",
      "983:\tlearn: 0.0208718\ttotal: 1.77s\tremaining: 28.8ms\n",
      "984:\tlearn: 0.0208719\ttotal: 1.77s\tremaining: 27ms\n",
      "985:\tlearn: 0.0208718\ttotal: 1.77s\tremaining: 25.2ms\n",
      "986:\tlearn: 0.0208717\ttotal: 1.78s\tremaining: 23.4ms\n",
      "987:\tlearn: 0.0208715\ttotal: 1.78s\tremaining: 21.6ms\n",
      "988:\tlearn: 0.0208714\ttotal: 1.78s\tremaining: 19.8ms\n",
      "989:\tlearn: 0.0208713\ttotal: 1.78s\tremaining: 18ms\n",
      "990:\tlearn: 0.0208713\ttotal: 1.78s\tremaining: 16.2ms\n",
      "991:\tlearn: 0.0208712\ttotal: 1.78s\tremaining: 14.4ms\n",
      "992:\tlearn: 0.0208711\ttotal: 1.79s\tremaining: 12.6ms\n",
      "993:\tlearn: 0.0208709\ttotal: 1.79s\tremaining: 10.8ms\n",
      "994:\tlearn: 0.0208709\ttotal: 1.79s\tremaining: 9ms\n",
      "995:\tlearn: 0.0208708\ttotal: 1.79s\tremaining: 7.2ms\n",
      "996:\tlearn: 0.0208707\ttotal: 1.79s\tremaining: 5.4ms\n",
      "997:\tlearn: 0.0208705\ttotal: 1.8s\tremaining: 3.6ms\n",
      "998:\tlearn: 0.0208703\ttotal: 1.8s\tremaining: 1.8ms\n",
      "999:\tlearn: 0.0208702\ttotal: 1.8s\tremaining: 0us\n",
      "0:\tlearn: 0.2598694\ttotal: 1.51ms\tremaining: 1.51s\n",
      "1:\tlearn: 0.1750361\ttotal: 3.79ms\tremaining: 1.89s\n",
      "2:\tlearn: 0.1496628\ttotal: 5.75ms\tremaining: 1.91s\n",
      "3:\tlearn: 0.1271860\ttotal: 7.84ms\tremaining: 1.95s\n",
      "4:\tlearn: 0.1193936\ttotal: 9.86ms\tremaining: 1.96s\n",
      "5:\tlearn: 0.1111048\ttotal: 11.8ms\tremaining: 1.96s\n",
      "6:\tlearn: 0.1042729\ttotal: 13.9ms\tremaining: 1.98s\n",
      "7:\tlearn: 0.0985266\ttotal: 15.8ms\tremaining: 1.96s\n",
      "8:\tlearn: 0.0937515\ttotal: 17.8ms\tremaining: 1.96s\n",
      "9:\tlearn: 0.0891100\ttotal: 19.7ms\tremaining: 1.95s\n",
      "10:\tlearn: 0.0853868\ttotal: 21.8ms\tremaining: 1.96s\n",
      "11:\tlearn: 0.0791507\ttotal: 23.9ms\tremaining: 1.97s\n",
      "12:\tlearn: 0.0742012\ttotal: 26ms\tremaining: 1.98s\n",
      "13:\tlearn: 0.0680379\ttotal: 28.2ms\tremaining: 1.99s\n",
      "14:\tlearn: 0.0636840\ttotal: 30.2ms\tremaining: 1.98s\n",
      "15:\tlearn: 0.0615983\ttotal: 32.1ms\tremaining: 1.98s\n",
      "16:\tlearn: 0.0587932\ttotal: 34ms\tremaining: 1.97s\n",
      "17:\tlearn: 0.0569762\ttotal: 36.1ms\tremaining: 1.97s\n",
      "18:\tlearn: 0.0559944\ttotal: 38ms\tremaining: 1.96s\n",
      "19:\tlearn: 0.0541531\ttotal: 40.1ms\tremaining: 1.97s\n",
      "20:\tlearn: 0.0528057\ttotal: 42.4ms\tremaining: 1.98s\n",
      "21:\tlearn: 0.0515371\ttotal: 44.4ms\tremaining: 1.97s\n",
      "22:\tlearn: 0.0487694\ttotal: 46.3ms\tremaining: 1.97s\n",
      "23:\tlearn: 0.0466122\ttotal: 48.5ms\tremaining: 1.97s\n",
      "24:\tlearn: 0.0453246\ttotal: 50.4ms\tremaining: 1.97s\n",
      "25:\tlearn: 0.0438913\ttotal: 52.4ms\tremaining: 1.96s\n",
      "26:\tlearn: 0.0422872\ttotal: 54.4ms\tremaining: 1.96s\n",
      "27:\tlearn: 0.0412407\ttotal: 56.4ms\tremaining: 1.96s\n",
      "28:\tlearn: 0.0405139\ttotal: 58.3ms\tremaining: 1.95s\n",
      "29:\tlearn: 0.0400545\ttotal: 60.2ms\tremaining: 1.95s\n",
      "30:\tlearn: 0.0390872\ttotal: 62.2ms\tremaining: 1.94s\n",
      "31:\tlearn: 0.0385795\ttotal: 64.1ms\tremaining: 1.94s\n",
      "32:\tlearn: 0.0376537\ttotal: 66ms\tremaining: 1.94s\n",
      "33:\tlearn: 0.0371009\ttotal: 68ms\tremaining: 1.93s\n",
      "34:\tlearn: 0.0365604\ttotal: 70ms\tremaining: 1.93s\n",
      "35:\tlearn: 0.0357921\ttotal: 72ms\tremaining: 1.93s\n",
      "36:\tlearn: 0.0342424\ttotal: 74.1ms\tremaining: 1.93s\n",
      "37:\tlearn: 0.0334367\ttotal: 76.1ms\tremaining: 1.93s\n",
      "38:\tlearn: 0.0331581\ttotal: 78ms\tremaining: 1.92s\n",
      "39:\tlearn: 0.0328894\ttotal: 79.9ms\tremaining: 1.92s\n",
      "40:\tlearn: 0.0319697\ttotal: 81.9ms\tremaining: 1.92s\n",
      "41:\tlearn: 0.0314802\ttotal: 83.8ms\tremaining: 1.91s\n",
      "42:\tlearn: 0.0310958\ttotal: 85.8ms\tremaining: 1.91s\n",
      "43:\tlearn: 0.0308317\ttotal: 87.6ms\tremaining: 1.9s\n",
      "44:\tlearn: 0.0306160\ttotal: 89.8ms\tremaining: 1.9s\n",
      "45:\tlearn: 0.0302450\ttotal: 91.6ms\tremaining: 1.9s\n",
      "46:\tlearn: 0.0298901\ttotal: 93.6ms\tremaining: 1.9s\n",
      "47:\tlearn: 0.0295418\ttotal: 95.7ms\tremaining: 1.9s\n",
      "48:\tlearn: 0.0292908\ttotal: 97.7ms\tremaining: 1.9s\n",
      "49:\tlearn: 0.0289219\ttotal: 99.7ms\tremaining: 1.89s\n",
      "50:\tlearn: 0.0283752\ttotal: 102ms\tremaining: 1.89s\n",
      "51:\tlearn: 0.0282663\ttotal: 104ms\tremaining: 1.89s\n",
      "52:\tlearn: 0.0279975\ttotal: 106ms\tremaining: 1.89s\n",
      "53:\tlearn: 0.0277573\ttotal: 108ms\tremaining: 1.88s\n",
      "54:\tlearn: 0.0275475\ttotal: 110ms\tremaining: 1.88s\n",
      "55:\tlearn: 0.0273207\ttotal: 112ms\tremaining: 1.88s\n",
      "56:\tlearn: 0.0270745\ttotal: 114ms\tremaining: 1.88s\n",
      "57:\tlearn: 0.0268848\ttotal: 116ms\tremaining: 1.88s\n",
      "58:\tlearn: 0.0267012\ttotal: 118ms\tremaining: 1.88s\n",
      "59:\tlearn: 0.0265257\ttotal: 120ms\tremaining: 1.87s\n",
      "60:\tlearn: 0.0262896\ttotal: 122ms\tremaining: 1.87s\n",
      "61:\tlearn: 0.0260111\ttotal: 124ms\tremaining: 1.87s\n",
      "62:\tlearn: 0.0258981\ttotal: 126ms\tremaining: 1.87s\n",
      "63:\tlearn: 0.0255014\ttotal: 128ms\tremaining: 1.87s\n",
      "64:\tlearn: 0.0254107\ttotal: 131ms\tremaining: 1.89s\n",
      "65:\tlearn: 0.0252096\ttotal: 134ms\tremaining: 1.9s\n",
      "66:\tlearn: 0.0250744\ttotal: 137ms\tremaining: 1.9s\n",
      "67:\tlearn: 0.0249746\ttotal: 139ms\tremaining: 1.91s\n",
      "68:\tlearn: 0.0248661\ttotal: 142ms\tremaining: 1.92s\n",
      "69:\tlearn: 0.0244729\ttotal: 145ms\tremaining: 1.92s\n",
      "70:\tlearn: 0.0243723\ttotal: 147ms\tremaining: 1.92s\n",
      "71:\tlearn: 0.0242609\ttotal: 150ms\tremaining: 1.94s\n",
      "72:\tlearn: 0.0241180\ttotal: 153ms\tremaining: 1.94s\n",
      "73:\tlearn: 0.0239985\ttotal: 155ms\tremaining: 1.94s\n",
      "74:\tlearn: 0.0238464\ttotal: 157ms\tremaining: 1.94s\n",
      "75:\tlearn: 0.0238068\ttotal: 159ms\tremaining: 1.93s\n",
      "76:\tlearn: 0.0237079\ttotal: 162ms\tremaining: 1.94s\n",
      "77:\tlearn: 0.0234864\ttotal: 164ms\tremaining: 1.94s\n",
      "78:\tlearn: 0.0233928\ttotal: 166ms\tremaining: 1.93s\n",
      "79:\tlearn: 0.0232767\ttotal: 168ms\tremaining: 1.94s\n",
      "80:\tlearn: 0.0230990\ttotal: 170ms\tremaining: 1.93s\n",
      "81:\tlearn: 0.0230990\ttotal: 172ms\tremaining: 1.93s\n",
      "82:\tlearn: 0.0230214\ttotal: 175ms\tremaining: 1.93s\n",
      "83:\tlearn: 0.0230206\ttotal: 176ms\tremaining: 1.92s\n",
      "84:\tlearn: 0.0229025\ttotal: 178ms\tremaining: 1.92s\n",
      "85:\tlearn: 0.0227635\ttotal: 180ms\tremaining: 1.92s\n",
      "86:\tlearn: 0.0226438\ttotal: 182ms\tremaining: 1.91s\n",
      "87:\tlearn: 0.0226432\ttotal: 184ms\tremaining: 1.91s\n",
      "88:\tlearn: 0.0226431\ttotal: 186ms\tremaining: 1.9s\n",
      "89:\tlearn: 0.0226430\ttotal: 187ms\tremaining: 1.89s\n",
      "90:\tlearn: 0.0226429\ttotal: 189ms\tremaining: 1.89s\n",
      "91:\tlearn: 0.0226426\ttotal: 191ms\tremaining: 1.88s\n",
      "92:\tlearn: 0.0226423\ttotal: 192ms\tremaining: 1.88s\n",
      "93:\tlearn: 0.0226423\ttotal: 195ms\tremaining: 1.88s\n",
      "94:\tlearn: 0.0226422\ttotal: 197ms\tremaining: 1.87s\n",
      "95:\tlearn: 0.0226420\ttotal: 198ms\tremaining: 1.87s\n",
      "96:\tlearn: 0.0226415\ttotal: 200ms\tremaining: 1.86s\n",
      "97:\tlearn: 0.0226409\ttotal: 202ms\tremaining: 1.86s\n",
      "98:\tlearn: 0.0226405\ttotal: 204ms\tremaining: 1.85s\n",
      "99:\tlearn: 0.0226403\ttotal: 206ms\tremaining: 1.85s\n",
      "100:\tlearn: 0.0226398\ttotal: 208ms\tremaining: 1.85s\n",
      "101:\tlearn: 0.0226398\ttotal: 210ms\tremaining: 1.85s\n",
      "102:\tlearn: 0.0226398\ttotal: 211ms\tremaining: 1.84s\n",
      "103:\tlearn: 0.0226398\ttotal: 213ms\tremaining: 1.83s\n",
      "104:\tlearn: 0.0226398\ttotal: 215ms\tremaining: 1.83s\n",
      "105:\tlearn: 0.0226398\ttotal: 216ms\tremaining: 1.82s\n",
      "106:\tlearn: 0.0226398\ttotal: 218ms\tremaining: 1.82s\n",
      "107:\tlearn: 0.0226398\ttotal: 220ms\tremaining: 1.82s\n",
      "108:\tlearn: 0.0226398\ttotal: 222ms\tremaining: 1.81s\n",
      "109:\tlearn: 0.0226398\ttotal: 223ms\tremaining: 1.81s\n",
      "110:\tlearn: 0.0226398\ttotal: 225ms\tremaining: 1.8s\n",
      "111:\tlearn: 0.0226398\ttotal: 227ms\tremaining: 1.8s\n",
      "112:\tlearn: 0.0226398\ttotal: 228ms\tremaining: 1.79s\n",
      "113:\tlearn: 0.0226398\ttotal: 230ms\tremaining: 1.79s\n",
      "114:\tlearn: 0.0226398\ttotal: 232ms\tremaining: 1.78s\n",
      "115:\tlearn: 0.0226395\ttotal: 234ms\tremaining: 1.78s\n",
      "116:\tlearn: 0.0226395\ttotal: 235ms\tremaining: 1.78s\n",
      "117:\tlearn: 0.0226393\ttotal: 237ms\tremaining: 1.77s\n",
      "118:\tlearn: 0.0226389\ttotal: 239ms\tremaining: 1.77s\n",
      "119:\tlearn: 0.0226389\ttotal: 241ms\tremaining: 1.76s\n",
      "120:\tlearn: 0.0226384\ttotal: 243ms\tremaining: 1.76s\n",
      "121:\tlearn: 0.0226384\ttotal: 244ms\tremaining: 1.76s\n",
      "122:\tlearn: 0.0226383\ttotal: 246ms\tremaining: 1.75s\n",
      "123:\tlearn: 0.0226381\ttotal: 248ms\tremaining: 1.75s\n",
      "124:\tlearn: 0.0226381\ttotal: 250ms\tremaining: 1.75s\n",
      "125:\tlearn: 0.0226379\ttotal: 251ms\tremaining: 1.74s\n",
      "126:\tlearn: 0.0226378\ttotal: 253ms\tremaining: 1.74s\n",
      "127:\tlearn: 0.0226376\ttotal: 255ms\tremaining: 1.74s\n",
      "128:\tlearn: 0.0226374\ttotal: 257ms\tremaining: 1.73s\n",
      "129:\tlearn: 0.0226372\ttotal: 258ms\tremaining: 1.73s\n",
      "130:\tlearn: 0.0226368\ttotal: 260ms\tremaining: 1.73s\n",
      "131:\tlearn: 0.0226364\ttotal: 262ms\tremaining: 1.72s\n",
      "132:\tlearn: 0.0226364\ttotal: 264ms\tremaining: 1.72s\n",
      "133:\tlearn: 0.0226363\ttotal: 266ms\tremaining: 1.72s\n",
      "134:\tlearn: 0.0226358\ttotal: 267ms\tremaining: 1.71s\n",
      "135:\tlearn: 0.0226355\ttotal: 269ms\tremaining: 1.71s\n",
      "136:\tlearn: 0.0226351\ttotal: 271ms\tremaining: 1.71s\n",
      "137:\tlearn: 0.0226343\ttotal: 273ms\tremaining: 1.7s\n",
      "138:\tlearn: 0.0225634\ttotal: 275ms\tremaining: 1.7s\n",
      "139:\tlearn: 0.0224306\ttotal: 277ms\tremaining: 1.7s\n",
      "140:\tlearn: 0.0223355\ttotal: 278ms\tremaining: 1.7s\n",
      "141:\tlearn: 0.0223354\ttotal: 280ms\tremaining: 1.69s\n",
      "142:\tlearn: 0.0221883\ttotal: 282ms\tremaining: 1.69s\n",
      "143:\tlearn: 0.0221090\ttotal: 284ms\tremaining: 1.69s\n",
      "144:\tlearn: 0.0220191\ttotal: 286ms\tremaining: 1.69s\n",
      "145:\tlearn: 0.0218940\ttotal: 288ms\tremaining: 1.69s\n",
      "146:\tlearn: 0.0217850\ttotal: 290ms\tremaining: 1.68s\n",
      "147:\tlearn: 0.0216532\ttotal: 292ms\tremaining: 1.68s\n",
      "148:\tlearn: 0.0216531\ttotal: 294ms\tremaining: 1.68s\n",
      "149:\tlearn: 0.0215441\ttotal: 296ms\tremaining: 1.68s\n",
      "150:\tlearn: 0.0215439\ttotal: 298ms\tremaining: 1.67s\n",
      "151:\tlearn: 0.0215439\ttotal: 299ms\tremaining: 1.67s\n",
      "152:\tlearn: 0.0215437\ttotal: 301ms\tremaining: 1.67s\n",
      "153:\tlearn: 0.0215435\ttotal: 303ms\tremaining: 1.67s\n",
      "154:\tlearn: 0.0215427\ttotal: 305ms\tremaining: 1.66s\n",
      "155:\tlearn: 0.0215426\ttotal: 307ms\tremaining: 1.66s\n",
      "156:\tlearn: 0.0215419\ttotal: 309ms\tremaining: 1.66s\n",
      "157:\tlearn: 0.0215414\ttotal: 310ms\tremaining: 1.65s\n",
      "158:\tlearn: 0.0215408\ttotal: 312ms\tremaining: 1.65s\n",
      "159:\tlearn: 0.0215403\ttotal: 314ms\tremaining: 1.65s\n",
      "160:\tlearn: 0.0215402\ttotal: 316ms\tremaining: 1.65s\n",
      "161:\tlearn: 0.0215397\ttotal: 317ms\tremaining: 1.64s\n",
      "162:\tlearn: 0.0215395\ttotal: 319ms\tremaining: 1.64s\n",
      "163:\tlearn: 0.0215395\ttotal: 321ms\tremaining: 1.64s\n",
      "164:\tlearn: 0.0215395\ttotal: 323ms\tremaining: 1.63s\n",
      "165:\tlearn: 0.0215392\ttotal: 324ms\tremaining: 1.63s\n",
      "166:\tlearn: 0.0215386\ttotal: 326ms\tremaining: 1.63s\n",
      "167:\tlearn: 0.0215385\ttotal: 328ms\tremaining: 1.62s\n",
      "168:\tlearn: 0.0215384\ttotal: 330ms\tremaining: 1.62s\n",
      "169:\tlearn: 0.0215382\ttotal: 331ms\tremaining: 1.62s\n",
      "170:\tlearn: 0.0215382\ttotal: 333ms\tremaining: 1.61s\n",
      "171:\tlearn: 0.0215381\ttotal: 335ms\tremaining: 1.61s\n",
      "172:\tlearn: 0.0215381\ttotal: 337ms\tremaining: 1.61s\n",
      "173:\tlearn: 0.0215380\ttotal: 338ms\tremaining: 1.61s\n",
      "174:\tlearn: 0.0215379\ttotal: 340ms\tremaining: 1.6s\n",
      "175:\tlearn: 0.0215378\ttotal: 342ms\tremaining: 1.6s\n",
      "176:\tlearn: 0.0215373\ttotal: 344ms\tremaining: 1.6s\n",
      "177:\tlearn: 0.0215372\ttotal: 345ms\tremaining: 1.59s\n",
      "178:\tlearn: 0.0215370\ttotal: 347ms\tremaining: 1.59s\n",
      "179:\tlearn: 0.0215369\ttotal: 349ms\tremaining: 1.59s\n",
      "180:\tlearn: 0.0215365\ttotal: 351ms\tremaining: 1.59s\n",
      "181:\tlearn: 0.0215362\ttotal: 352ms\tremaining: 1.58s\n",
      "182:\tlearn: 0.0215359\ttotal: 354ms\tremaining: 1.58s\n",
      "183:\tlearn: 0.0215358\ttotal: 356ms\tremaining: 1.58s\n",
      "184:\tlearn: 0.0215357\ttotal: 358ms\tremaining: 1.57s\n",
      "185:\tlearn: 0.0215355\ttotal: 359ms\tremaining: 1.57s\n",
      "186:\tlearn: 0.0215350\ttotal: 361ms\tremaining: 1.57s\n",
      "187:\tlearn: 0.0215348\ttotal: 363ms\tremaining: 1.57s\n",
      "188:\tlearn: 0.0215347\ttotal: 365ms\tremaining: 1.56s\n",
      "189:\tlearn: 0.0215345\ttotal: 366ms\tremaining: 1.56s\n",
      "190:\tlearn: 0.0215345\ttotal: 368ms\tremaining: 1.56s\n",
      "191:\tlearn: 0.0215340\ttotal: 370ms\tremaining: 1.56s\n",
      "192:\tlearn: 0.0215335\ttotal: 372ms\tremaining: 1.55s\n",
      "193:\tlearn: 0.0215331\ttotal: 373ms\tremaining: 1.55s\n",
      "194:\tlearn: 0.0215331\ttotal: 375ms\tremaining: 1.55s\n",
      "195:\tlearn: 0.0215331\ttotal: 377ms\tremaining: 1.54s\n",
      "196:\tlearn: 0.0215304\ttotal: 378ms\tremaining: 1.54s\n",
      "197:\tlearn: 0.0215301\ttotal: 380ms\tremaining: 1.54s\n",
      "198:\tlearn: 0.0215301\ttotal: 382ms\tremaining: 1.54s\n",
      "199:\tlearn: 0.0215298\ttotal: 384ms\tremaining: 1.53s\n",
      "200:\tlearn: 0.0215298\ttotal: 385ms\tremaining: 1.53s\n",
      "201:\tlearn: 0.0215298\ttotal: 388ms\tremaining: 1.53s\n",
      "202:\tlearn: 0.0215293\ttotal: 389ms\tremaining: 1.53s\n",
      "203:\tlearn: 0.0215291\ttotal: 391ms\tremaining: 1.53s\n",
      "204:\tlearn: 0.0215290\ttotal: 393ms\tremaining: 1.52s\n",
      "205:\tlearn: 0.0214733\ttotal: 395ms\tremaining: 1.52s\n",
      "206:\tlearn: 0.0214733\ttotal: 397ms\tremaining: 1.52s\n",
      "207:\tlearn: 0.0214730\ttotal: 399ms\tremaining: 1.52s\n",
      "208:\tlearn: 0.0214728\ttotal: 401ms\tremaining: 1.52s\n",
      "209:\tlearn: 0.0214727\ttotal: 402ms\tremaining: 1.51s\n",
      "210:\tlearn: 0.0214720\ttotal: 404ms\tremaining: 1.51s\n",
      "211:\tlearn: 0.0214587\ttotal: 407ms\tremaining: 1.51s\n",
      "212:\tlearn: 0.0214586\ttotal: 408ms\tremaining: 1.51s\n",
      "213:\tlearn: 0.0214585\ttotal: 410ms\tremaining: 1.51s\n",
      "214:\tlearn: 0.0214585\ttotal: 412ms\tremaining: 1.5s\n",
      "215:\tlearn: 0.0214581\ttotal: 414ms\tremaining: 1.5s\n",
      "216:\tlearn: 0.0214581\ttotal: 415ms\tremaining: 1.5s\n",
      "217:\tlearn: 0.0214580\ttotal: 417ms\tremaining: 1.5s\n",
      "218:\tlearn: 0.0214149\ttotal: 419ms\tremaining: 1.49s\n",
      "219:\tlearn: 0.0214147\ttotal: 421ms\tremaining: 1.49s\n",
      "220:\tlearn: 0.0214145\ttotal: 422ms\tremaining: 1.49s\n",
      "221:\tlearn: 0.0213307\ttotal: 424ms\tremaining: 1.49s\n",
      "222:\tlearn: 0.0212747\ttotal: 426ms\tremaining: 1.49s\n",
      "223:\tlearn: 0.0211152\ttotal: 429ms\tremaining: 1.48s\n",
      "224:\tlearn: 0.0211149\ttotal: 430ms\tremaining: 1.48s\n",
      "225:\tlearn: 0.0210875\ttotal: 432ms\tremaining: 1.48s\n",
      "226:\tlearn: 0.0209118\ttotal: 434ms\tremaining: 1.48s\n",
      "227:\tlearn: 0.0209115\ttotal: 435ms\tremaining: 1.47s\n",
      "228:\tlearn: 0.0209114\ttotal: 437ms\tremaining: 1.47s\n",
      "229:\tlearn: 0.0209113\ttotal: 439ms\tremaining: 1.47s\n",
      "230:\tlearn: 0.0209109\ttotal: 441ms\tremaining: 1.47s\n",
      "231:\tlearn: 0.0209108\ttotal: 442ms\tremaining: 1.46s\n",
      "232:\tlearn: 0.0209108\ttotal: 444ms\tremaining: 1.46s\n",
      "233:\tlearn: 0.0209107\ttotal: 446ms\tremaining: 1.46s\n",
      "234:\tlearn: 0.0209103\ttotal: 448ms\tremaining: 1.46s\n",
      "235:\tlearn: 0.0209095\ttotal: 449ms\tremaining: 1.45s\n",
      "236:\tlearn: 0.0209094\ttotal: 451ms\tremaining: 1.45s\n",
      "237:\tlearn: 0.0209093\ttotal: 453ms\tremaining: 1.45s\n",
      "238:\tlearn: 0.0209089\ttotal: 455ms\tremaining: 1.45s\n",
      "239:\tlearn: 0.0209088\ttotal: 457ms\tremaining: 1.45s\n",
      "240:\tlearn: 0.0208490\ttotal: 459ms\tremaining: 1.44s\n",
      "241:\tlearn: 0.0206811\ttotal: 461ms\tremaining: 1.44s\n",
      "242:\tlearn: 0.0206811\ttotal: 462ms\tremaining: 1.44s\n",
      "243:\tlearn: 0.0206809\ttotal: 464ms\tremaining: 1.44s\n",
      "244:\tlearn: 0.0206808\ttotal: 466ms\tremaining: 1.44s\n",
      "245:\tlearn: 0.0206628\ttotal: 468ms\tremaining: 1.43s\n",
      "246:\tlearn: 0.0206627\ttotal: 469ms\tremaining: 1.43s\n",
      "247:\tlearn: 0.0206626\ttotal: 471ms\tremaining: 1.43s\n",
      "248:\tlearn: 0.0206626\ttotal: 473ms\tremaining: 1.43s\n",
      "249:\tlearn: 0.0206623\ttotal: 475ms\tremaining: 1.42s\n",
      "250:\tlearn: 0.0206623\ttotal: 476ms\tremaining: 1.42s\n",
      "251:\tlearn: 0.0206623\ttotal: 478ms\tremaining: 1.42s\n",
      "252:\tlearn: 0.0206619\ttotal: 480ms\tremaining: 1.42s\n",
      "253:\tlearn: 0.0206619\ttotal: 481ms\tremaining: 1.41s\n",
      "254:\tlearn: 0.0206619\ttotal: 483ms\tremaining: 1.41s\n",
      "255:\tlearn: 0.0206617\ttotal: 485ms\tremaining: 1.41s\n",
      "256:\tlearn: 0.0206615\ttotal: 487ms\tremaining: 1.41s\n",
      "257:\tlearn: 0.0206614\ttotal: 489ms\tremaining: 1.4s\n",
      "258:\tlearn: 0.0206612\ttotal: 490ms\tremaining: 1.4s\n",
      "259:\tlearn: 0.0206611\ttotal: 492ms\tremaining: 1.4s\n",
      "260:\tlearn: 0.0206608\ttotal: 494ms\tremaining: 1.4s\n",
      "261:\tlearn: 0.0206605\ttotal: 495ms\tremaining: 1.4s\n",
      "262:\tlearn: 0.0206604\ttotal: 497ms\tremaining: 1.39s\n",
      "263:\tlearn: 0.0206603\ttotal: 499ms\tremaining: 1.39s\n",
      "264:\tlearn: 0.0206603\ttotal: 501ms\tremaining: 1.39s\n",
      "265:\tlearn: 0.0206600\ttotal: 502ms\tremaining: 1.39s\n",
      "266:\tlearn: 0.0206595\ttotal: 504ms\tremaining: 1.38s\n",
      "267:\tlearn: 0.0206595\ttotal: 506ms\tremaining: 1.38s\n",
      "268:\tlearn: 0.0206592\ttotal: 508ms\tremaining: 1.38s\n",
      "269:\tlearn: 0.0206590\ttotal: 509ms\tremaining: 1.38s\n",
      "270:\tlearn: 0.0206590\ttotal: 511ms\tremaining: 1.38s\n",
      "271:\tlearn: 0.0206585\ttotal: 513ms\tremaining: 1.37s\n",
      "272:\tlearn: 0.0206584\ttotal: 515ms\tremaining: 1.37s\n",
      "273:\tlearn: 0.0206580\ttotal: 516ms\tremaining: 1.37s\n",
      "274:\tlearn: 0.0206576\ttotal: 518ms\tremaining: 1.36s\n",
      "275:\tlearn: 0.0206575\ttotal: 520ms\tremaining: 1.36s\n",
      "276:\tlearn: 0.0206575\ttotal: 522ms\tremaining: 1.36s\n",
      "277:\tlearn: 0.0206572\ttotal: 523ms\tremaining: 1.36s\n",
      "278:\tlearn: 0.0206572\ttotal: 525ms\tremaining: 1.36s\n",
      "279:\tlearn: 0.0206571\ttotal: 527ms\tremaining: 1.35s\n",
      "280:\tlearn: 0.0206569\ttotal: 529ms\tremaining: 1.35s\n",
      "281:\tlearn: 0.0206566\ttotal: 530ms\tremaining: 1.35s\n",
      "282:\tlearn: 0.0206562\ttotal: 532ms\tremaining: 1.35s\n",
      "283:\tlearn: 0.0206559\ttotal: 534ms\tremaining: 1.35s\n",
      "284:\tlearn: 0.0206557\ttotal: 536ms\tremaining: 1.34s\n",
      "285:\tlearn: 0.0206556\ttotal: 537ms\tremaining: 1.34s\n",
      "286:\tlearn: 0.0206554\ttotal: 539ms\tremaining: 1.34s\n",
      "287:\tlearn: 0.0206553\ttotal: 541ms\tremaining: 1.34s\n",
      "288:\tlearn: 0.0206549\ttotal: 542ms\tremaining: 1.33s\n",
      "289:\tlearn: 0.0206545\ttotal: 544ms\tremaining: 1.33s\n",
      "290:\tlearn: 0.0206544\ttotal: 546ms\tremaining: 1.33s\n",
      "291:\tlearn: 0.0206542\ttotal: 547ms\tremaining: 1.33s\n",
      "292:\tlearn: 0.0206540\ttotal: 549ms\tremaining: 1.32s\n",
      "293:\tlearn: 0.0206540\ttotal: 551ms\tremaining: 1.32s\n",
      "294:\tlearn: 0.0206537\ttotal: 553ms\tremaining: 1.32s\n",
      "295:\tlearn: 0.0206534\ttotal: 554ms\tremaining: 1.32s\n",
      "296:\tlearn: 0.0206531\ttotal: 556ms\tremaining: 1.32s\n",
      "297:\tlearn: 0.0206529\ttotal: 558ms\tremaining: 1.31s\n",
      "298:\tlearn: 0.0206527\ttotal: 560ms\tremaining: 1.31s\n",
      "299:\tlearn: 0.0206525\ttotal: 561ms\tremaining: 1.31s\n",
      "300:\tlearn: 0.0205447\ttotal: 563ms\tremaining: 1.31s\n",
      "301:\tlearn: 0.0205447\ttotal: 565ms\tremaining: 1.31s\n",
      "302:\tlearn: 0.0205445\ttotal: 567ms\tremaining: 1.3s\n",
      "303:\tlearn: 0.0205438\ttotal: 569ms\tremaining: 1.3s\n",
      "304:\tlearn: 0.0205437\ttotal: 571ms\tremaining: 1.3s\n",
      "305:\tlearn: 0.0205435\ttotal: 573ms\tremaining: 1.3s\n",
      "306:\tlearn: 0.0205434\ttotal: 574ms\tremaining: 1.3s\n",
      "307:\tlearn: 0.0205432\ttotal: 576ms\tremaining: 1.29s\n",
      "308:\tlearn: 0.0205431\ttotal: 578ms\tremaining: 1.29s\n",
      "309:\tlearn: 0.0205431\ttotal: 580ms\tremaining: 1.29s\n",
      "310:\tlearn: 0.0205430\ttotal: 582ms\tremaining: 1.29s\n",
      "311:\tlearn: 0.0205428\ttotal: 584ms\tremaining: 1.29s\n",
      "312:\tlearn: 0.0205424\ttotal: 585ms\tremaining: 1.28s\n",
      "313:\tlearn: 0.0205423\ttotal: 587ms\tremaining: 1.28s\n",
      "314:\tlearn: 0.0205421\ttotal: 589ms\tremaining: 1.28s\n",
      "315:\tlearn: 0.0205418\ttotal: 591ms\tremaining: 1.28s\n",
      "316:\tlearn: 0.0205417\ttotal: 593ms\tremaining: 1.28s\n",
      "317:\tlearn: 0.0205414\ttotal: 595ms\tremaining: 1.27s\n",
      "318:\tlearn: 0.0205414\ttotal: 597ms\tremaining: 1.27s\n",
      "319:\tlearn: 0.0205413\ttotal: 598ms\tremaining: 1.27s\n",
      "320:\tlearn: 0.0205413\ttotal: 600ms\tremaining: 1.27s\n",
      "321:\tlearn: 0.0205411\ttotal: 602ms\tremaining: 1.27s\n",
      "322:\tlearn: 0.0205403\ttotal: 604ms\tremaining: 1.26s\n",
      "323:\tlearn: 0.0205403\ttotal: 606ms\tremaining: 1.26s\n",
      "324:\tlearn: 0.0205402\ttotal: 608ms\tremaining: 1.26s\n",
      "325:\tlearn: 0.0205401\ttotal: 610ms\tremaining: 1.26s\n",
      "326:\tlearn: 0.0205399\ttotal: 611ms\tremaining: 1.26s\n",
      "327:\tlearn: 0.0205398\ttotal: 613ms\tremaining: 1.26s\n",
      "328:\tlearn: 0.0205395\ttotal: 615ms\tremaining: 1.25s\n",
      "329:\tlearn: 0.0205394\ttotal: 617ms\tremaining: 1.25s\n",
      "330:\tlearn: 0.0205393\ttotal: 618ms\tremaining: 1.25s\n",
      "331:\tlearn: 0.0205391\ttotal: 620ms\tremaining: 1.25s\n",
      "332:\tlearn: 0.0205389\ttotal: 622ms\tremaining: 1.25s\n",
      "333:\tlearn: 0.0205388\ttotal: 624ms\tremaining: 1.24s\n",
      "334:\tlearn: 0.0205384\ttotal: 626ms\tremaining: 1.24s\n",
      "335:\tlearn: 0.0205378\ttotal: 628ms\tremaining: 1.24s\n",
      "336:\tlearn: 0.0205377\ttotal: 629ms\tremaining: 1.24s\n",
      "337:\tlearn: 0.0205377\ttotal: 631ms\tremaining: 1.24s\n",
      "338:\tlearn: 0.0205373\ttotal: 633ms\tremaining: 1.23s\n",
      "339:\tlearn: 0.0205373\ttotal: 635ms\tremaining: 1.23s\n",
      "340:\tlearn: 0.0205371\ttotal: 636ms\tremaining: 1.23s\n",
      "341:\tlearn: 0.0205370\ttotal: 638ms\tremaining: 1.23s\n",
      "342:\tlearn: 0.0205369\ttotal: 640ms\tremaining: 1.23s\n",
      "343:\tlearn: 0.0205369\ttotal: 642ms\tremaining: 1.22s\n",
      "344:\tlearn: 0.0205366\ttotal: 643ms\tremaining: 1.22s\n",
      "345:\tlearn: 0.0205363\ttotal: 645ms\tremaining: 1.22s\n",
      "346:\tlearn: 0.0205362\ttotal: 647ms\tremaining: 1.22s\n",
      "347:\tlearn: 0.0205362\ttotal: 649ms\tremaining: 1.22s\n",
      "348:\tlearn: 0.0205362\ttotal: 650ms\tremaining: 1.21s\n",
      "349:\tlearn: 0.0205360\ttotal: 652ms\tremaining: 1.21s\n",
      "350:\tlearn: 0.0205355\ttotal: 654ms\tremaining: 1.21s\n",
      "351:\tlearn: 0.0205354\ttotal: 656ms\tremaining: 1.21s\n",
      "352:\tlearn: 0.0205354\ttotal: 657ms\tremaining: 1.2s\n",
      "353:\tlearn: 0.0205354\ttotal: 659ms\tremaining: 1.2s\n",
      "354:\tlearn: 0.0205353\ttotal: 661ms\tremaining: 1.2s\n",
      "355:\tlearn: 0.0205350\ttotal: 662ms\tremaining: 1.2s\n",
      "356:\tlearn: 0.0205348\ttotal: 664ms\tremaining: 1.2s\n",
      "357:\tlearn: 0.0205346\ttotal: 666ms\tremaining: 1.19s\n",
      "358:\tlearn: 0.0205342\ttotal: 668ms\tremaining: 1.19s\n",
      "359:\tlearn: 0.0205340\ttotal: 669ms\tremaining: 1.19s\n",
      "360:\tlearn: 0.0205337\ttotal: 671ms\tremaining: 1.19s\n",
      "361:\tlearn: 0.0205333\ttotal: 673ms\tremaining: 1.19s\n",
      "362:\tlearn: 0.0205327\ttotal: 675ms\tremaining: 1.18s\n",
      "363:\tlearn: 0.0205327\ttotal: 677ms\tremaining: 1.18s\n",
      "364:\tlearn: 0.0205325\ttotal: 679ms\tremaining: 1.18s\n",
      "365:\tlearn: 0.0205325\ttotal: 680ms\tremaining: 1.18s\n",
      "366:\tlearn: 0.0205324\ttotal: 682ms\tremaining: 1.18s\n",
      "367:\tlearn: 0.0205324\ttotal: 683ms\tremaining: 1.17s\n",
      "368:\tlearn: 0.0205321\ttotal: 685ms\tremaining: 1.17s\n",
      "369:\tlearn: 0.0205320\ttotal: 687ms\tremaining: 1.17s\n",
      "370:\tlearn: 0.0205320\ttotal: 689ms\tremaining: 1.17s\n",
      "371:\tlearn: 0.0205319\ttotal: 690ms\tremaining: 1.17s\n",
      "372:\tlearn: 0.0205319\ttotal: 692ms\tremaining: 1.16s\n",
      "373:\tlearn: 0.0205316\ttotal: 694ms\tremaining: 1.16s\n",
      "374:\tlearn: 0.0205315\ttotal: 696ms\tremaining: 1.16s\n",
      "375:\tlearn: 0.0205315\ttotal: 698ms\tremaining: 1.16s\n",
      "376:\tlearn: 0.0205308\ttotal: 699ms\tremaining: 1.16s\n",
      "377:\tlearn: 0.0205308\ttotal: 701ms\tremaining: 1.15s\n",
      "378:\tlearn: 0.0205307\ttotal: 703ms\tremaining: 1.15s\n",
      "379:\tlearn: 0.0205307\ttotal: 705ms\tremaining: 1.15s\n",
      "380:\tlearn: 0.0205305\ttotal: 706ms\tremaining: 1.15s\n",
      "381:\tlearn: 0.0205306\ttotal: 708ms\tremaining: 1.15s\n",
      "382:\tlearn: 0.0205304\ttotal: 710ms\tremaining: 1.14s\n",
      "383:\tlearn: 0.0205304\ttotal: 712ms\tremaining: 1.14s\n",
      "384:\tlearn: 0.0205303\ttotal: 713ms\tremaining: 1.14s\n",
      "385:\tlearn: 0.0205303\ttotal: 715ms\tremaining: 1.14s\n",
      "386:\tlearn: 0.0205300\ttotal: 717ms\tremaining: 1.14s\n",
      "387:\tlearn: 0.0205299\ttotal: 718ms\tremaining: 1.13s\n",
      "388:\tlearn: 0.0205296\ttotal: 720ms\tremaining: 1.13s\n",
      "389:\tlearn: 0.0205296\ttotal: 722ms\tremaining: 1.13s\n",
      "390:\tlearn: 0.0205295\ttotal: 724ms\tremaining: 1.13s\n",
      "391:\tlearn: 0.0205293\ttotal: 726ms\tremaining: 1.13s\n",
      "392:\tlearn: 0.0205291\ttotal: 727ms\tremaining: 1.12s\n",
      "393:\tlearn: 0.0205288\ttotal: 729ms\tremaining: 1.12s\n",
      "394:\tlearn: 0.0205286\ttotal: 731ms\tremaining: 1.12s\n",
      "395:\tlearn: 0.0205283\ttotal: 733ms\tremaining: 1.12s\n",
      "396:\tlearn: 0.0205283\ttotal: 734ms\tremaining: 1.11s\n",
      "397:\tlearn: 0.0205282\ttotal: 736ms\tremaining: 1.11s\n",
      "398:\tlearn: 0.0205280\ttotal: 738ms\tremaining: 1.11s\n",
      "399:\tlearn: 0.0205279\ttotal: 739ms\tremaining: 1.11s\n",
      "400:\tlearn: 0.0205278\ttotal: 741ms\tremaining: 1.11s\n",
      "401:\tlearn: 0.0205277\ttotal: 743ms\tremaining: 1.1s\n",
      "402:\tlearn: 0.0205276\ttotal: 745ms\tremaining: 1.1s\n",
      "403:\tlearn: 0.0205276\ttotal: 746ms\tremaining: 1.1s\n",
      "404:\tlearn: 0.0205257\ttotal: 748ms\tremaining: 1.1s\n",
      "405:\tlearn: 0.0205256\ttotal: 750ms\tremaining: 1.1s\n",
      "406:\tlearn: 0.0205253\ttotal: 751ms\tremaining: 1.09s\n",
      "407:\tlearn: 0.0205250\ttotal: 753ms\tremaining: 1.09s\n",
      "408:\tlearn: 0.0205251\ttotal: 755ms\tremaining: 1.09s\n",
      "409:\tlearn: 0.0205249\ttotal: 756ms\tremaining: 1.09s\n",
      "410:\tlearn: 0.0205247\ttotal: 758ms\tremaining: 1.09s\n",
      "411:\tlearn: 0.0205245\ttotal: 760ms\tremaining: 1.08s\n",
      "412:\tlearn: 0.0205245\ttotal: 761ms\tremaining: 1.08s\n",
      "413:\tlearn: 0.0205243\ttotal: 763ms\tremaining: 1.08s\n",
      "414:\tlearn: 0.0205242\ttotal: 765ms\tremaining: 1.08s\n",
      "415:\tlearn: 0.0205238\ttotal: 767ms\tremaining: 1.08s\n",
      "416:\tlearn: 0.0205238\ttotal: 769ms\tremaining: 1.07s\n",
      "417:\tlearn: 0.0205237\ttotal: 770ms\tremaining: 1.07s\n",
      "418:\tlearn: 0.0205233\ttotal: 772ms\tremaining: 1.07s\n",
      "419:\tlearn: 0.0205231\ttotal: 774ms\tremaining: 1.07s\n",
      "420:\tlearn: 0.0205227\ttotal: 776ms\tremaining: 1.07s\n",
      "421:\tlearn: 0.0205217\ttotal: 777ms\tremaining: 1.06s\n",
      "422:\tlearn: 0.0205214\ttotal: 779ms\tremaining: 1.06s\n",
      "423:\tlearn: 0.0205213\ttotal: 781ms\tremaining: 1.06s\n",
      "424:\tlearn: 0.0205210\ttotal: 783ms\tremaining: 1.06s\n",
      "425:\tlearn: 0.0205208\ttotal: 784ms\tremaining: 1.06s\n",
      "426:\tlearn: 0.0205207\ttotal: 787ms\tremaining: 1.05s\n",
      "427:\tlearn: 0.0205206\ttotal: 788ms\tremaining: 1.05s\n",
      "428:\tlearn: 0.0205204\ttotal: 790ms\tremaining: 1.05s\n",
      "429:\tlearn: 0.0205203\ttotal: 792ms\tremaining: 1.05s\n",
      "430:\tlearn: 0.0205201\ttotal: 794ms\tremaining: 1.05s\n",
      "431:\tlearn: 0.0205200\ttotal: 795ms\tremaining: 1.04s\n",
      "432:\tlearn: 0.0205198\ttotal: 797ms\tremaining: 1.04s\n",
      "433:\tlearn: 0.0205193\ttotal: 799ms\tremaining: 1.04s\n",
      "434:\tlearn: 0.0205182\ttotal: 801ms\tremaining: 1.04s\n",
      "435:\tlearn: 0.0205180\ttotal: 802ms\tremaining: 1.04s\n",
      "436:\tlearn: 0.0205177\ttotal: 804ms\tremaining: 1.04s\n",
      "437:\tlearn: 0.0205176\ttotal: 806ms\tremaining: 1.03s\n",
      "438:\tlearn: 0.0205175\ttotal: 808ms\tremaining: 1.03s\n",
      "439:\tlearn: 0.0205176\ttotal: 809ms\tremaining: 1.03s\n",
      "440:\tlearn: 0.0205165\ttotal: 811ms\tremaining: 1.03s\n",
      "441:\tlearn: 0.0205163\ttotal: 813ms\tremaining: 1.03s\n",
      "442:\tlearn: 0.0205161\ttotal: 815ms\tremaining: 1.02s\n",
      "443:\tlearn: 0.0205161\ttotal: 817ms\tremaining: 1.02s\n",
      "444:\tlearn: 0.0205156\ttotal: 818ms\tremaining: 1.02s\n",
      "445:\tlearn: 0.0205155\ttotal: 820ms\tremaining: 1.02s\n",
      "446:\tlearn: 0.0205155\ttotal: 822ms\tremaining: 1.02s\n",
      "447:\tlearn: 0.0205154\ttotal: 824ms\tremaining: 1.01s\n",
      "448:\tlearn: 0.0205154\ttotal: 825ms\tremaining: 1.01s\n",
      "449:\tlearn: 0.0205154\ttotal: 827ms\tremaining: 1.01s\n",
      "450:\tlearn: 0.0205153\ttotal: 829ms\tremaining: 1.01s\n",
      "451:\tlearn: 0.0205150\ttotal: 830ms\tremaining: 1.01s\n",
      "452:\tlearn: 0.0205148\ttotal: 832ms\tremaining: 1s\n",
      "453:\tlearn: 0.0205147\ttotal: 834ms\tremaining: 1s\n",
      "454:\tlearn: 0.0205146\ttotal: 835ms\tremaining: 1s\n",
      "455:\tlearn: 0.0205146\ttotal: 837ms\tremaining: 999ms\n",
      "456:\tlearn: 0.0205143\ttotal: 839ms\tremaining: 997ms\n",
      "457:\tlearn: 0.0205142\ttotal: 841ms\tremaining: 995ms\n",
      "458:\tlearn: 0.0205140\ttotal: 843ms\tremaining: 993ms\n",
      "459:\tlearn: 0.0205139\ttotal: 845ms\tremaining: 991ms\n",
      "460:\tlearn: 0.0205138\ttotal: 846ms\tremaining: 990ms\n",
      "461:\tlearn: 0.0205136\ttotal: 848ms\tremaining: 988ms\n",
      "462:\tlearn: 0.0205132\ttotal: 850ms\tremaining: 986ms\n",
      "463:\tlearn: 0.0205131\ttotal: 851ms\tremaining: 984ms\n",
      "464:\tlearn: 0.0205130\ttotal: 853ms\tremaining: 982ms\n",
      "465:\tlearn: 0.0205129\ttotal: 855ms\tremaining: 980ms\n",
      "466:\tlearn: 0.0205129\ttotal: 857ms\tremaining: 978ms\n",
      "467:\tlearn: 0.0205128\ttotal: 858ms\tremaining: 976ms\n",
      "468:\tlearn: 0.0205127\ttotal: 860ms\tremaining: 974ms\n",
      "469:\tlearn: 0.0205125\ttotal: 862ms\tremaining: 972ms\n",
      "470:\tlearn: 0.0205124\ttotal: 864ms\tremaining: 970ms\n",
      "471:\tlearn: 0.0205114\ttotal: 865ms\tremaining: 968ms\n",
      "472:\tlearn: 0.0205114\ttotal: 867ms\tremaining: 966ms\n",
      "473:\tlearn: 0.0205113\ttotal: 869ms\tremaining: 964ms\n",
      "474:\tlearn: 0.0205111\ttotal: 871ms\tremaining: 962ms\n",
      "475:\tlearn: 0.0205110\ttotal: 872ms\tremaining: 960ms\n",
      "476:\tlearn: 0.0205107\ttotal: 874ms\tremaining: 958ms\n",
      "477:\tlearn: 0.0205107\ttotal: 876ms\tremaining: 956ms\n",
      "478:\tlearn: 0.0205106\ttotal: 878ms\tremaining: 955ms\n",
      "479:\tlearn: 0.0205105\ttotal: 880ms\tremaining: 953ms\n",
      "480:\tlearn: 0.0205095\ttotal: 881ms\tremaining: 951ms\n",
      "481:\tlearn: 0.0205095\ttotal: 883ms\tremaining: 949ms\n",
      "482:\tlearn: 0.0205095\ttotal: 885ms\tremaining: 947ms\n",
      "483:\tlearn: 0.0205095\ttotal: 887ms\tremaining: 945ms\n",
      "484:\tlearn: 0.0205092\ttotal: 888ms\tremaining: 943ms\n",
      "485:\tlearn: 0.0205092\ttotal: 890ms\tremaining: 941ms\n",
      "486:\tlearn: 0.0205090\ttotal: 892ms\tremaining: 939ms\n",
      "487:\tlearn: 0.0205087\ttotal: 894ms\tremaining: 937ms\n",
      "488:\tlearn: 0.0205086\ttotal: 895ms\tremaining: 936ms\n",
      "489:\tlearn: 0.0205084\ttotal: 897ms\tremaining: 934ms\n",
      "490:\tlearn: 0.0205083\ttotal: 899ms\tremaining: 932ms\n",
      "491:\tlearn: 0.0205082\ttotal: 901ms\tremaining: 930ms\n",
      "492:\tlearn: 0.0205079\ttotal: 902ms\tremaining: 928ms\n",
      "493:\tlearn: 0.0205078\ttotal: 904ms\tremaining: 926ms\n",
      "494:\tlearn: 0.0205077\ttotal: 906ms\tremaining: 924ms\n",
      "495:\tlearn: 0.0205074\ttotal: 908ms\tremaining: 922ms\n",
      "496:\tlearn: 0.0205073\ttotal: 909ms\tremaining: 920ms\n",
      "497:\tlearn: 0.0205073\ttotal: 911ms\tremaining: 918ms\n",
      "498:\tlearn: 0.0205073\ttotal: 913ms\tremaining: 916ms\n",
      "499:\tlearn: 0.0205024\ttotal: 914ms\tremaining: 914ms\n",
      "500:\tlearn: 0.0205021\ttotal: 916ms\tremaining: 913ms\n",
      "501:\tlearn: 0.0205016\ttotal: 918ms\tremaining: 911ms\n",
      "502:\tlearn: 0.0204726\ttotal: 920ms\tremaining: 909ms\n",
      "503:\tlearn: 0.0204724\ttotal: 922ms\tremaining: 907ms\n",
      "504:\tlearn: 0.0204724\ttotal: 923ms\tremaining: 905ms\n",
      "505:\tlearn: 0.0204722\ttotal: 925ms\tremaining: 903ms\n",
      "506:\tlearn: 0.0204719\ttotal: 927ms\tremaining: 901ms\n",
      "507:\tlearn: 0.0204718\ttotal: 928ms\tremaining: 899ms\n",
      "508:\tlearn: 0.0204718\ttotal: 930ms\tremaining: 897ms\n",
      "509:\tlearn: 0.0204719\ttotal: 932ms\tremaining: 896ms\n",
      "510:\tlearn: 0.0204717\ttotal: 934ms\tremaining: 894ms\n",
      "511:\tlearn: 0.0204714\ttotal: 936ms\tremaining: 892ms\n",
      "512:\tlearn: 0.0204715\ttotal: 938ms\tremaining: 890ms\n",
      "513:\tlearn: 0.0204710\ttotal: 939ms\tremaining: 888ms\n",
      "514:\tlearn: 0.0204703\ttotal: 941ms\tremaining: 886ms\n",
      "515:\tlearn: 0.0204701\ttotal: 943ms\tremaining: 884ms\n",
      "516:\tlearn: 0.0204697\ttotal: 944ms\tremaining: 882ms\n",
      "517:\tlearn: 0.0204696\ttotal: 946ms\tremaining: 880ms\n",
      "518:\tlearn: 0.0204692\ttotal: 948ms\tremaining: 879ms\n",
      "519:\tlearn: 0.0204692\ttotal: 950ms\tremaining: 877ms\n",
      "520:\tlearn: 0.0204689\ttotal: 951ms\tremaining: 875ms\n",
      "521:\tlearn: 0.0204688\ttotal: 953ms\tremaining: 873ms\n",
      "522:\tlearn: 0.0204688\ttotal: 955ms\tremaining: 871ms\n",
      "523:\tlearn: 0.0204685\ttotal: 956ms\tremaining: 869ms\n",
      "524:\tlearn: 0.0204682\ttotal: 958ms\tremaining: 867ms\n",
      "525:\tlearn: 0.0204680\ttotal: 960ms\tremaining: 865ms\n",
      "526:\tlearn: 0.0204679\ttotal: 962ms\tremaining: 863ms\n",
      "527:\tlearn: 0.0204679\ttotal: 964ms\tremaining: 862ms\n",
      "528:\tlearn: 0.0204677\ttotal: 966ms\tremaining: 860ms\n",
      "529:\tlearn: 0.0204675\ttotal: 968ms\tremaining: 858ms\n",
      "530:\tlearn: 0.0204671\ttotal: 969ms\tremaining: 856ms\n",
      "531:\tlearn: 0.0204671\ttotal: 971ms\tremaining: 854ms\n",
      "532:\tlearn: 0.0204669\ttotal: 973ms\tremaining: 852ms\n",
      "533:\tlearn: 0.0204669\ttotal: 974ms\tremaining: 850ms\n",
      "534:\tlearn: 0.0204669\ttotal: 976ms\tremaining: 848ms\n",
      "535:\tlearn: 0.0204667\ttotal: 978ms\tremaining: 847ms\n",
      "536:\tlearn: 0.0204664\ttotal: 980ms\tremaining: 845ms\n",
      "537:\tlearn: 0.0204663\ttotal: 982ms\tremaining: 843ms\n",
      "538:\tlearn: 0.0204658\ttotal: 984ms\tremaining: 842ms\n",
      "539:\tlearn: 0.0204657\ttotal: 986ms\tremaining: 840ms\n",
      "540:\tlearn: 0.0204657\ttotal: 987ms\tremaining: 838ms\n",
      "541:\tlearn: 0.0204386\ttotal: 989ms\tremaining: 836ms\n",
      "542:\tlearn: 0.0204384\ttotal: 992ms\tremaining: 835ms\n",
      "543:\tlearn: 0.0203648\ttotal: 994ms\tremaining: 833ms\n",
      "544:\tlearn: 0.0203642\ttotal: 995ms\tremaining: 831ms\n",
      "545:\tlearn: 0.0202531\ttotal: 998ms\tremaining: 830ms\n",
      "546:\tlearn: 0.0202526\ttotal: 999ms\tremaining: 828ms\n",
      "547:\tlearn: 0.0202526\ttotal: 1s\tremaining: 826ms\n",
      "548:\tlearn: 0.0202522\ttotal: 1s\tremaining: 824ms\n",
      "549:\tlearn: 0.0202521\ttotal: 1s\tremaining: 822ms\n",
      "550:\tlearn: 0.0202520\ttotal: 1.01s\tremaining: 821ms\n",
      "551:\tlearn: 0.0202518\ttotal: 1.01s\tremaining: 819ms\n",
      "552:\tlearn: 0.0202517\ttotal: 1.01s\tremaining: 817ms\n",
      "553:\tlearn: 0.0202515\ttotal: 1.01s\tremaining: 815ms\n",
      "554:\tlearn: 0.0202514\ttotal: 1.01s\tremaining: 813ms\n",
      "555:\tlearn: 0.0202512\ttotal: 1.01s\tremaining: 811ms\n",
      "556:\tlearn: 0.0202508\ttotal: 1.02s\tremaining: 810ms\n",
      "557:\tlearn: 0.0202506\ttotal: 1.02s\tremaining: 808ms\n",
      "558:\tlearn: 0.0202505\ttotal: 1.02s\tremaining: 806ms\n",
      "559:\tlearn: 0.0202505\ttotal: 1.02s\tremaining: 804ms\n",
      "560:\tlearn: 0.0202500\ttotal: 1.02s\tremaining: 802ms\n",
      "561:\tlearn: 0.0202500\ttotal: 1.03s\tremaining: 800ms\n",
      "562:\tlearn: 0.0202499\ttotal: 1.03s\tremaining: 798ms\n",
      "563:\tlearn: 0.0202497\ttotal: 1.03s\tremaining: 797ms\n",
      "564:\tlearn: 0.0202484\ttotal: 1.03s\tremaining: 795ms\n",
      "565:\tlearn: 0.0202483\ttotal: 1.03s\tremaining: 793ms\n",
      "566:\tlearn: 0.0202480\ttotal: 1.03s\tremaining: 791ms\n",
      "567:\tlearn: 0.0202480\ttotal: 1.04s\tremaining: 789ms\n",
      "568:\tlearn: 0.0202477\ttotal: 1.04s\tremaining: 787ms\n",
      "569:\tlearn: 0.0202477\ttotal: 1.04s\tremaining: 785ms\n",
      "570:\tlearn: 0.0202477\ttotal: 1.04s\tremaining: 783ms\n",
      "571:\tlearn: 0.0202475\ttotal: 1.04s\tremaining: 781ms\n",
      "572:\tlearn: 0.0202474\ttotal: 1.05s\tremaining: 780ms\n",
      "573:\tlearn: 0.0202474\ttotal: 1.05s\tremaining: 778ms\n",
      "574:\tlearn: 0.0202473\ttotal: 1.05s\tremaining: 776ms\n",
      "575:\tlearn: 0.0202472\ttotal: 1.05s\tremaining: 774ms\n",
      "576:\tlearn: 0.0202471\ttotal: 1.05s\tremaining: 772ms\n",
      "577:\tlearn: 0.0202471\ttotal: 1.05s\tremaining: 770ms\n",
      "578:\tlearn: 0.0202468\ttotal: 1.06s\tremaining: 768ms\n",
      "579:\tlearn: 0.0202467\ttotal: 1.06s\tremaining: 767ms\n",
      "580:\tlearn: 0.0202460\ttotal: 1.06s\tremaining: 765ms\n",
      "581:\tlearn: 0.0202459\ttotal: 1.06s\tremaining: 763ms\n",
      "582:\tlearn: 0.0202457\ttotal: 1.06s\tremaining: 761ms\n",
      "583:\tlearn: 0.0202457\ttotal: 1.06s\tremaining: 759ms\n",
      "584:\tlearn: 0.0202456\ttotal: 1.07s\tremaining: 757ms\n",
      "585:\tlearn: 0.0202456\ttotal: 1.07s\tremaining: 755ms\n",
      "586:\tlearn: 0.0202456\ttotal: 1.07s\tremaining: 754ms\n",
      "587:\tlearn: 0.0202455\ttotal: 1.07s\tremaining: 752ms\n",
      "588:\tlearn: 0.0202454\ttotal: 1.07s\tremaining: 750ms\n",
      "589:\tlearn: 0.0202451\ttotal: 1.08s\tremaining: 748ms\n",
      "590:\tlearn: 0.0202447\ttotal: 1.08s\tremaining: 746ms\n",
      "591:\tlearn: 0.0202447\ttotal: 1.08s\tremaining: 745ms\n",
      "592:\tlearn: 0.0202445\ttotal: 1.08s\tremaining: 743ms\n",
      "593:\tlearn: 0.0202443\ttotal: 1.08s\tremaining: 741ms\n",
      "594:\tlearn: 0.0202443\ttotal: 1.08s\tremaining: 739ms\n",
      "595:\tlearn: 0.0202429\ttotal: 1.09s\tremaining: 737ms\n",
      "596:\tlearn: 0.0202428\ttotal: 1.09s\tremaining: 735ms\n",
      "597:\tlearn: 0.0202424\ttotal: 1.09s\tremaining: 733ms\n",
      "598:\tlearn: 0.0202423\ttotal: 1.09s\tremaining: 732ms\n",
      "599:\tlearn: 0.0202419\ttotal: 1.09s\tremaining: 730ms\n",
      "600:\tlearn: 0.0202419\ttotal: 1.1s\tremaining: 728ms\n",
      "601:\tlearn: 0.0202410\ttotal: 1.1s\tremaining: 726ms\n",
      "602:\tlearn: 0.0202409\ttotal: 1.1s\tremaining: 724ms\n",
      "603:\tlearn: 0.0202408\ttotal: 1.1s\tremaining: 722ms\n",
      "604:\tlearn: 0.0202408\ttotal: 1.1s\tremaining: 720ms\n",
      "605:\tlearn: 0.0202407\ttotal: 1.1s\tremaining: 719ms\n",
      "606:\tlearn: 0.0202404\ttotal: 1.11s\tremaining: 717ms\n",
      "607:\tlearn: 0.0202402\ttotal: 1.11s\tremaining: 715ms\n",
      "608:\tlearn: 0.0202402\ttotal: 1.11s\tremaining: 713ms\n",
      "609:\tlearn: 0.0202402\ttotal: 1.11s\tremaining: 711ms\n",
      "610:\tlearn: 0.0202400\ttotal: 1.11s\tremaining: 709ms\n",
      "611:\tlearn: 0.0202399\ttotal: 1.12s\tremaining: 708ms\n",
      "612:\tlearn: 0.0202397\ttotal: 1.12s\tremaining: 706ms\n",
      "613:\tlearn: 0.0202396\ttotal: 1.12s\tremaining: 704ms\n",
      "614:\tlearn: 0.0202396\ttotal: 1.12s\tremaining: 702ms\n",
      "615:\tlearn: 0.0202394\ttotal: 1.12s\tremaining: 700ms\n",
      "616:\tlearn: 0.0202393\ttotal: 1.13s\tremaining: 698ms\n",
      "617:\tlearn: 0.0202392\ttotal: 1.13s\tremaining: 697ms\n",
      "618:\tlearn: 0.0202391\ttotal: 1.13s\tremaining: 695ms\n",
      "619:\tlearn: 0.0202389\ttotal: 1.13s\tremaining: 693ms\n",
      "620:\tlearn: 0.0202389\ttotal: 1.13s\tremaining: 691ms\n",
      "621:\tlearn: 0.0202387\ttotal: 1.13s\tremaining: 689ms\n",
      "622:\tlearn: 0.0202384\ttotal: 1.14s\tremaining: 687ms\n",
      "623:\tlearn: 0.0202383\ttotal: 1.14s\tremaining: 685ms\n",
      "624:\tlearn: 0.0202382\ttotal: 1.14s\tremaining: 683ms\n",
      "625:\tlearn: 0.0202382\ttotal: 1.14s\tremaining: 682ms\n",
      "626:\tlearn: 0.0202381\ttotal: 1.14s\tremaining: 680ms\n",
      "627:\tlearn: 0.0202380\ttotal: 1.14s\tremaining: 678ms\n",
      "628:\tlearn: 0.0202380\ttotal: 1.15s\tremaining: 676ms\n",
      "629:\tlearn: 0.0202377\ttotal: 1.15s\tremaining: 674ms\n",
      "630:\tlearn: 0.0202375\ttotal: 1.15s\tremaining: 673ms\n",
      "631:\tlearn: 0.0202374\ttotal: 1.15s\tremaining: 671ms\n",
      "632:\tlearn: 0.0202374\ttotal: 1.15s\tremaining: 669ms\n",
      "633:\tlearn: 0.0202373\ttotal: 1.16s\tremaining: 667ms\n",
      "634:\tlearn: 0.0202372\ttotal: 1.16s\tremaining: 665ms\n",
      "635:\tlearn: 0.0202372\ttotal: 1.16s\tremaining: 663ms\n",
      "636:\tlearn: 0.0202372\ttotal: 1.16s\tremaining: 662ms\n",
      "637:\tlearn: 0.0202371\ttotal: 1.16s\tremaining: 660ms\n",
      "638:\tlearn: 0.0202371\ttotal: 1.16s\tremaining: 658ms\n",
      "639:\tlearn: 0.0202369\ttotal: 1.17s\tremaining: 656ms\n",
      "640:\tlearn: 0.0202368\ttotal: 1.17s\tremaining: 654ms\n",
      "641:\tlearn: 0.0202368\ttotal: 1.17s\tremaining: 652ms\n",
      "642:\tlearn: 0.0202367\ttotal: 1.17s\tremaining: 651ms\n",
      "643:\tlearn: 0.0202347\ttotal: 1.17s\tremaining: 649ms\n",
      "644:\tlearn: 0.0202346\ttotal: 1.18s\tremaining: 647ms\n",
      "645:\tlearn: 0.0202345\ttotal: 1.18s\tremaining: 645ms\n",
      "646:\tlearn: 0.0202344\ttotal: 1.18s\tremaining: 643ms\n",
      "647:\tlearn: 0.0202343\ttotal: 1.18s\tremaining: 641ms\n",
      "648:\tlearn: 0.0202342\ttotal: 1.18s\tremaining: 640ms\n",
      "649:\tlearn: 0.0202340\ttotal: 1.18s\tremaining: 638ms\n",
      "650:\tlearn: 0.0202336\ttotal: 1.19s\tremaining: 636ms\n",
      "651:\tlearn: 0.0202322\ttotal: 1.19s\tremaining: 634ms\n",
      "652:\tlearn: 0.0202322\ttotal: 1.19s\tremaining: 632ms\n",
      "653:\tlearn: 0.0202322\ttotal: 1.19s\tremaining: 630ms\n",
      "654:\tlearn: 0.0202319\ttotal: 1.19s\tremaining: 628ms\n",
      "655:\tlearn: 0.0202318\ttotal: 1.19s\tremaining: 626ms\n",
      "656:\tlearn: 0.0202304\ttotal: 1.2s\tremaining: 625ms\n",
      "657:\tlearn: 0.0202304\ttotal: 1.2s\tremaining: 623ms\n",
      "658:\tlearn: 0.0202304\ttotal: 1.2s\tremaining: 621ms\n",
      "659:\tlearn: 0.0202303\ttotal: 1.2s\tremaining: 619ms\n",
      "660:\tlearn: 0.0202302\ttotal: 1.2s\tremaining: 617ms\n",
      "661:\tlearn: 0.0202300\ttotal: 1.21s\tremaining: 615ms\n",
      "662:\tlearn: 0.0202298\ttotal: 1.21s\tremaining: 613ms\n",
      "663:\tlearn: 0.0202286\ttotal: 1.21s\tremaining: 612ms\n",
      "664:\tlearn: 0.0202284\ttotal: 1.21s\tremaining: 610ms\n",
      "665:\tlearn: 0.0202282\ttotal: 1.21s\tremaining: 608ms\n",
      "666:\tlearn: 0.0202281\ttotal: 1.21s\tremaining: 606ms\n",
      "667:\tlearn: 0.0202278\ttotal: 1.22s\tremaining: 604ms\n",
      "668:\tlearn: 0.0202276\ttotal: 1.22s\tremaining: 602ms\n",
      "669:\tlearn: 0.0202275\ttotal: 1.22s\tremaining: 601ms\n",
      "670:\tlearn: 0.0202273\ttotal: 1.22s\tremaining: 599ms\n",
      "671:\tlearn: 0.0202271\ttotal: 1.22s\tremaining: 597ms\n",
      "672:\tlearn: 0.0202271\ttotal: 1.22s\tremaining: 595ms\n",
      "673:\tlearn: 0.0202270\ttotal: 1.23s\tremaining: 593ms\n",
      "674:\tlearn: 0.0202268\ttotal: 1.23s\tremaining: 591ms\n",
      "675:\tlearn: 0.0202266\ttotal: 1.23s\tremaining: 589ms\n",
      "676:\tlearn: 0.0202266\ttotal: 1.23s\tremaining: 587ms\n",
      "677:\tlearn: 0.0202262\ttotal: 1.23s\tremaining: 586ms\n",
      "678:\tlearn: 0.0202261\ttotal: 1.23s\tremaining: 584ms\n",
      "679:\tlearn: 0.0202257\ttotal: 1.24s\tremaining: 582ms\n",
      "680:\tlearn: 0.0202257\ttotal: 1.24s\tremaining: 580ms\n",
      "681:\tlearn: 0.0202255\ttotal: 1.24s\tremaining: 578ms\n",
      "682:\tlearn: 0.0202255\ttotal: 1.24s\tremaining: 576ms\n",
      "683:\tlearn: 0.0202255\ttotal: 1.24s\tremaining: 575ms\n",
      "684:\tlearn: 0.0202254\ttotal: 1.25s\tremaining: 573ms\n",
      "685:\tlearn: 0.0202253\ttotal: 1.25s\tremaining: 571ms\n",
      "686:\tlearn: 0.0202253\ttotal: 1.25s\tremaining: 569ms\n",
      "687:\tlearn: 0.0202251\ttotal: 1.25s\tremaining: 567ms\n",
      "688:\tlearn: 0.0202248\ttotal: 1.25s\tremaining: 565ms\n",
      "689:\tlearn: 0.0202248\ttotal: 1.25s\tremaining: 564ms\n",
      "690:\tlearn: 0.0202243\ttotal: 1.26s\tremaining: 562ms\n",
      "691:\tlearn: 0.0202243\ttotal: 1.26s\tremaining: 560ms\n",
      "692:\tlearn: 0.0202241\ttotal: 1.26s\tremaining: 558ms\n",
      "693:\tlearn: 0.0202240\ttotal: 1.26s\tremaining: 556ms\n",
      "694:\tlearn: 0.0202241\ttotal: 1.26s\tremaining: 555ms\n",
      "695:\tlearn: 0.0202241\ttotal: 1.26s\tremaining: 553ms\n",
      "696:\tlearn: 0.0202240\ttotal: 1.27s\tremaining: 551ms\n",
      "697:\tlearn: 0.0202240\ttotal: 1.27s\tremaining: 549ms\n",
      "698:\tlearn: 0.0202237\ttotal: 1.27s\tremaining: 547ms\n",
      "699:\tlearn: 0.0202235\ttotal: 1.27s\tremaining: 545ms\n",
      "700:\tlearn: 0.0202234\ttotal: 1.27s\tremaining: 543ms\n",
      "701:\tlearn: 0.0202234\ttotal: 1.27s\tremaining: 542ms\n",
      "702:\tlearn: 0.0202232\ttotal: 1.28s\tremaining: 540ms\n",
      "703:\tlearn: 0.0202230\ttotal: 1.28s\tremaining: 538ms\n",
      "704:\tlearn: 0.0202230\ttotal: 1.28s\tremaining: 536ms\n",
      "705:\tlearn: 0.0202227\ttotal: 1.28s\tremaining: 534ms\n",
      "706:\tlearn: 0.0202227\ttotal: 1.28s\tremaining: 532ms\n",
      "707:\tlearn: 0.0202227\ttotal: 1.29s\tremaining: 531ms\n",
      "708:\tlearn: 0.0202227\ttotal: 1.29s\tremaining: 529ms\n",
      "709:\tlearn: 0.0202227\ttotal: 1.29s\tremaining: 527ms\n",
      "710:\tlearn: 0.0202225\ttotal: 1.29s\tremaining: 525ms\n",
      "711:\tlearn: 0.0202219\ttotal: 1.29s\tremaining: 523ms\n",
      "712:\tlearn: 0.0202219\ttotal: 1.29s\tremaining: 521ms\n",
      "713:\tlearn: 0.0202218\ttotal: 1.3s\tremaining: 519ms\n",
      "714:\tlearn: 0.0202217\ttotal: 1.3s\tremaining: 518ms\n",
      "715:\tlearn: 0.0202217\ttotal: 1.3s\tremaining: 516ms\n",
      "716:\tlearn: 0.0202218\ttotal: 1.3s\tremaining: 514ms\n",
      "717:\tlearn: 0.0202214\ttotal: 1.3s\tremaining: 512ms\n",
      "718:\tlearn: 0.0202212\ttotal: 1.3s\tremaining: 510ms\n",
      "719:\tlearn: 0.0202212\ttotal: 1.31s\tremaining: 508ms\n",
      "720:\tlearn: 0.0202208\ttotal: 1.31s\tremaining: 506ms\n",
      "721:\tlearn: 0.0202207\ttotal: 1.31s\tremaining: 505ms\n",
      "722:\tlearn: 0.0202205\ttotal: 1.31s\tremaining: 503ms\n",
      "723:\tlearn: 0.0202203\ttotal: 1.31s\tremaining: 501ms\n",
      "724:\tlearn: 0.0202202\ttotal: 1.31s\tremaining: 499ms\n",
      "725:\tlearn: 0.0202202\ttotal: 1.32s\tremaining: 497ms\n",
      "726:\tlearn: 0.0202201\ttotal: 1.32s\tremaining: 495ms\n",
      "727:\tlearn: 0.0202199\ttotal: 1.32s\tremaining: 494ms\n",
      "728:\tlearn: 0.0202197\ttotal: 1.32s\tremaining: 492ms\n",
      "729:\tlearn: 0.0202197\ttotal: 1.32s\tremaining: 490ms\n",
      "730:\tlearn: 0.0202196\ttotal: 1.33s\tremaining: 488ms\n",
      "731:\tlearn: 0.0202196\ttotal: 1.33s\tremaining: 486ms\n",
      "732:\tlearn: 0.0202195\ttotal: 1.33s\tremaining: 485ms\n",
      "733:\tlearn: 0.0202194\ttotal: 1.33s\tremaining: 483ms\n",
      "734:\tlearn: 0.0202194\ttotal: 1.33s\tremaining: 481ms\n",
      "735:\tlearn: 0.0202193\ttotal: 1.33s\tremaining: 479ms\n",
      "736:\tlearn: 0.0202193\ttotal: 1.34s\tremaining: 477ms\n",
      "737:\tlearn: 0.0202192\ttotal: 1.34s\tremaining: 475ms\n",
      "738:\tlearn: 0.0202191\ttotal: 1.34s\tremaining: 473ms\n",
      "739:\tlearn: 0.0202191\ttotal: 1.34s\tremaining: 472ms\n",
      "740:\tlearn: 0.0202186\ttotal: 1.34s\tremaining: 470ms\n",
      "741:\tlearn: 0.0202185\ttotal: 1.34s\tremaining: 468ms\n",
      "742:\tlearn: 0.0202185\ttotal: 1.35s\tremaining: 466ms\n",
      "743:\tlearn: 0.0202184\ttotal: 1.35s\tremaining: 464ms\n",
      "744:\tlearn: 0.0202183\ttotal: 1.35s\tremaining: 463ms\n",
      "745:\tlearn: 0.0202182\ttotal: 1.35s\tremaining: 461ms\n",
      "746:\tlearn: 0.0202182\ttotal: 1.35s\tremaining: 459ms\n",
      "747:\tlearn: 0.0202181\ttotal: 1.36s\tremaining: 457ms\n",
      "748:\tlearn: 0.0202179\ttotal: 1.36s\tremaining: 455ms\n",
      "749:\tlearn: 0.0202180\ttotal: 1.36s\tremaining: 453ms\n",
      "750:\tlearn: 0.0202179\ttotal: 1.36s\tremaining: 452ms\n",
      "751:\tlearn: 0.0202178\ttotal: 1.36s\tremaining: 450ms\n",
      "752:\tlearn: 0.0202177\ttotal: 1.36s\tremaining: 448ms\n",
      "753:\tlearn: 0.0202176\ttotal: 1.37s\tremaining: 446ms\n",
      "754:\tlearn: 0.0202176\ttotal: 1.37s\tremaining: 444ms\n",
      "755:\tlearn: 0.0202175\ttotal: 1.37s\tremaining: 443ms\n",
      "756:\tlearn: 0.0202175\ttotal: 1.37s\tremaining: 441ms\n",
      "757:\tlearn: 0.0202175\ttotal: 1.38s\tremaining: 439ms\n",
      "758:\tlearn: 0.0202173\ttotal: 1.38s\tremaining: 437ms\n",
      "759:\tlearn: 0.0202172\ttotal: 1.38s\tremaining: 435ms\n",
      "760:\tlearn: 0.0202172\ttotal: 1.38s\tremaining: 434ms\n",
      "761:\tlearn: 0.0202172\ttotal: 1.38s\tremaining: 432ms\n",
      "762:\tlearn: 0.0202171\ttotal: 1.38s\tremaining: 430ms\n",
      "763:\tlearn: 0.0202170\ttotal: 1.39s\tremaining: 428ms\n",
      "764:\tlearn: 0.0202170\ttotal: 1.39s\tremaining: 426ms\n",
      "765:\tlearn: 0.0202169\ttotal: 1.39s\tremaining: 424ms\n",
      "766:\tlearn: 0.0202167\ttotal: 1.39s\tremaining: 423ms\n",
      "767:\tlearn: 0.0202168\ttotal: 1.39s\tremaining: 421ms\n",
      "768:\tlearn: 0.0202165\ttotal: 1.39s\tremaining: 419ms\n",
      "769:\tlearn: 0.0202164\ttotal: 1.4s\tremaining: 417ms\n",
      "770:\tlearn: 0.0202163\ttotal: 1.4s\tremaining: 415ms\n",
      "771:\tlearn: 0.0202162\ttotal: 1.4s\tremaining: 413ms\n",
      "772:\tlearn: 0.0202159\ttotal: 1.4s\tremaining: 412ms\n",
      "773:\tlearn: 0.0202158\ttotal: 1.4s\tremaining: 410ms\n",
      "774:\tlearn: 0.0202158\ttotal: 1.41s\tremaining: 408ms\n",
      "775:\tlearn: 0.0202156\ttotal: 1.41s\tremaining: 406ms\n",
      "776:\tlearn: 0.0202154\ttotal: 1.41s\tremaining: 404ms\n",
      "777:\tlearn: 0.0202154\ttotal: 1.41s\tremaining: 403ms\n",
      "778:\tlearn: 0.0202153\ttotal: 1.41s\tremaining: 401ms\n",
      "779:\tlearn: 0.0202153\ttotal: 1.41s\tremaining: 399ms\n",
      "780:\tlearn: 0.0202152\ttotal: 1.42s\tremaining: 397ms\n",
      "781:\tlearn: 0.0202150\ttotal: 1.42s\tremaining: 395ms\n",
      "782:\tlearn: 0.0202148\ttotal: 1.42s\tremaining: 393ms\n",
      "783:\tlearn: 0.0202142\ttotal: 1.42s\tremaining: 392ms\n",
      "784:\tlearn: 0.0202141\ttotal: 1.42s\tremaining: 390ms\n",
      "785:\tlearn: 0.0202140\ttotal: 1.42s\tremaining: 388ms\n",
      "786:\tlearn: 0.0202139\ttotal: 1.43s\tremaining: 386ms\n",
      "787:\tlearn: 0.0202138\ttotal: 1.43s\tremaining: 384ms\n",
      "788:\tlearn: 0.0202139\ttotal: 1.43s\tremaining: 382ms\n",
      "789:\tlearn: 0.0202135\ttotal: 1.43s\tremaining: 381ms\n",
      "790:\tlearn: 0.0202135\ttotal: 1.43s\tremaining: 379ms\n",
      "791:\tlearn: 0.0202132\ttotal: 1.44s\tremaining: 377ms\n",
      "792:\tlearn: 0.0202130\ttotal: 1.44s\tremaining: 375ms\n",
      "793:\tlearn: 0.0202126\ttotal: 1.44s\tremaining: 373ms\n",
      "794:\tlearn: 0.0202126\ttotal: 1.44s\tremaining: 371ms\n",
      "795:\tlearn: 0.0202125\ttotal: 1.44s\tremaining: 370ms\n",
      "796:\tlearn: 0.0202125\ttotal: 1.44s\tremaining: 368ms\n",
      "797:\tlearn: 0.0202123\ttotal: 1.45s\tremaining: 366ms\n",
      "798:\tlearn: 0.0202123\ttotal: 1.45s\tremaining: 364ms\n",
      "799:\tlearn: 0.0202115\ttotal: 1.45s\tremaining: 362ms\n",
      "800:\tlearn: 0.0202114\ttotal: 1.45s\tremaining: 361ms\n",
      "801:\tlearn: 0.0202113\ttotal: 1.45s\tremaining: 359ms\n",
      "802:\tlearn: 0.0202113\ttotal: 1.46s\tremaining: 357ms\n",
      "803:\tlearn: 0.0202113\ttotal: 1.46s\tremaining: 355ms\n",
      "804:\tlearn: 0.0202113\ttotal: 1.46s\tremaining: 353ms\n",
      "805:\tlearn: 0.0202111\ttotal: 1.46s\tremaining: 352ms\n",
      "806:\tlearn: 0.0202111\ttotal: 1.46s\tremaining: 350ms\n",
      "807:\tlearn: 0.0202111\ttotal: 1.46s\tremaining: 348ms\n",
      "808:\tlearn: 0.0202108\ttotal: 1.47s\tremaining: 346ms\n",
      "809:\tlearn: 0.0202107\ttotal: 1.47s\tremaining: 344ms\n",
      "810:\tlearn: 0.0202107\ttotal: 1.47s\tremaining: 342ms\n",
      "811:\tlearn: 0.0202106\ttotal: 1.47s\tremaining: 341ms\n",
      "812:\tlearn: 0.0202104\ttotal: 1.47s\tremaining: 339ms\n",
      "813:\tlearn: 0.0202104\ttotal: 1.47s\tremaining: 337ms\n",
      "814:\tlearn: 0.0202103\ttotal: 1.48s\tremaining: 335ms\n",
      "815:\tlearn: 0.0202103\ttotal: 1.48s\tremaining: 333ms\n",
      "816:\tlearn: 0.0202101\ttotal: 1.48s\tremaining: 331ms\n",
      "817:\tlearn: 0.0202100\ttotal: 1.48s\tremaining: 330ms\n",
      "818:\tlearn: 0.0202098\ttotal: 1.48s\tremaining: 328ms\n",
      "819:\tlearn: 0.0202096\ttotal: 1.49s\tremaining: 326ms\n",
      "820:\tlearn: 0.0202095\ttotal: 1.49s\tremaining: 324ms\n",
      "821:\tlearn: 0.0202095\ttotal: 1.49s\tremaining: 322ms\n",
      "822:\tlearn: 0.0202095\ttotal: 1.49s\tremaining: 321ms\n",
      "823:\tlearn: 0.0202094\ttotal: 1.49s\tremaining: 319ms\n",
      "824:\tlearn: 0.0202093\ttotal: 1.49s\tremaining: 317ms\n",
      "825:\tlearn: 0.0202092\ttotal: 1.5s\tremaining: 315ms\n",
      "826:\tlearn: 0.0202091\ttotal: 1.5s\tremaining: 313ms\n",
      "827:\tlearn: 0.0202091\ttotal: 1.5s\tremaining: 311ms\n",
      "828:\tlearn: 0.0202085\ttotal: 1.5s\tremaining: 310ms\n",
      "829:\tlearn: 0.0202083\ttotal: 1.5s\tremaining: 308ms\n",
      "830:\tlearn: 0.0202080\ttotal: 1.5s\tremaining: 306ms\n",
      "831:\tlearn: 0.0202074\ttotal: 1.5s\tremaining: 304ms\n",
      "832:\tlearn: 0.0202073\ttotal: 1.51s\tremaining: 302ms\n",
      "833:\tlearn: 0.0202072\ttotal: 1.51s\tremaining: 300ms\n",
      "834:\tlearn: 0.0202069\ttotal: 1.51s\tremaining: 299ms\n",
      "835:\tlearn: 0.0202067\ttotal: 1.51s\tremaining: 297ms\n",
      "836:\tlearn: 0.0202065\ttotal: 1.51s\tremaining: 295ms\n",
      "837:\tlearn: 0.0202063\ttotal: 1.52s\tremaining: 293ms\n",
      "838:\tlearn: 0.0202062\ttotal: 1.52s\tremaining: 291ms\n",
      "839:\tlearn: 0.0202062\ttotal: 1.52s\tremaining: 289ms\n",
      "840:\tlearn: 0.0202060\ttotal: 1.52s\tremaining: 288ms\n",
      "841:\tlearn: 0.0202060\ttotal: 1.52s\tremaining: 286ms\n",
      "842:\tlearn: 0.0202058\ttotal: 1.52s\tremaining: 284ms\n",
      "843:\tlearn: 0.0202059\ttotal: 1.53s\tremaining: 282ms\n",
      "844:\tlearn: 0.0202057\ttotal: 1.53s\tremaining: 280ms\n",
      "845:\tlearn: 0.0202056\ttotal: 1.53s\tremaining: 279ms\n",
      "846:\tlearn: 0.0202052\ttotal: 1.53s\tremaining: 277ms\n",
      "847:\tlearn: 0.0202051\ttotal: 1.53s\tremaining: 275ms\n",
      "848:\tlearn: 0.0202049\ttotal: 1.53s\tremaining: 273ms\n",
      "849:\tlearn: 0.0202049\ttotal: 1.54s\tremaining: 271ms\n",
      "850:\tlearn: 0.0202049\ttotal: 1.54s\tremaining: 270ms\n",
      "851:\tlearn: 0.0202040\ttotal: 1.54s\tremaining: 268ms\n",
      "852:\tlearn: 0.0202040\ttotal: 1.54s\tremaining: 266ms\n",
      "853:\tlearn: 0.0202036\ttotal: 1.54s\tremaining: 264ms\n",
      "854:\tlearn: 0.0202033\ttotal: 1.55s\tremaining: 262ms\n",
      "855:\tlearn: 0.0202033\ttotal: 1.55s\tremaining: 261ms\n",
      "856:\tlearn: 0.0202031\ttotal: 1.55s\tremaining: 259ms\n",
      "857:\tlearn: 0.0202030\ttotal: 1.55s\tremaining: 257ms\n",
      "858:\tlearn: 0.0202030\ttotal: 1.55s\tremaining: 255ms\n",
      "859:\tlearn: 0.0202029\ttotal: 1.55s\tremaining: 253ms\n",
      "860:\tlearn: 0.0202026\ttotal: 1.56s\tremaining: 251ms\n",
      "861:\tlearn: 0.0202025\ttotal: 1.56s\tremaining: 250ms\n",
      "862:\tlearn: 0.0202023\ttotal: 1.56s\tremaining: 248ms\n",
      "863:\tlearn: 0.0202023\ttotal: 1.56s\tremaining: 246ms\n",
      "864:\tlearn: 0.0202020\ttotal: 1.56s\tremaining: 244ms\n",
      "865:\tlearn: 0.0202020\ttotal: 1.57s\tremaining: 242ms\n",
      "866:\tlearn: 0.0202018\ttotal: 1.57s\tremaining: 241ms\n",
      "867:\tlearn: 0.0202017\ttotal: 1.57s\tremaining: 239ms\n",
      "868:\tlearn: 0.0202016\ttotal: 1.57s\tremaining: 237ms\n",
      "869:\tlearn: 0.0202015\ttotal: 1.57s\tremaining: 235ms\n",
      "870:\tlearn: 0.0202014\ttotal: 1.57s\tremaining: 233ms\n",
      "871:\tlearn: 0.0202014\ttotal: 1.58s\tremaining: 232ms\n",
      "872:\tlearn: 0.0202012\ttotal: 1.58s\tremaining: 230ms\n",
      "873:\tlearn: 0.0202012\ttotal: 1.58s\tremaining: 228ms\n",
      "874:\tlearn: 0.0202009\ttotal: 1.58s\tremaining: 226ms\n",
      "875:\tlearn: 0.0202009\ttotal: 1.59s\tremaining: 225ms\n",
      "876:\tlearn: 0.0202007\ttotal: 1.59s\tremaining: 223ms\n",
      "877:\tlearn: 0.0202006\ttotal: 1.59s\tremaining: 221ms\n",
      "878:\tlearn: 0.0202006\ttotal: 1.59s\tremaining: 219ms\n",
      "879:\tlearn: 0.0202005\ttotal: 1.59s\tremaining: 217ms\n",
      "880:\tlearn: 0.0202004\ttotal: 1.6s\tremaining: 216ms\n",
      "881:\tlearn: 0.0202001\ttotal: 1.6s\tremaining: 214ms\n",
      "882:\tlearn: 0.0201999\ttotal: 1.6s\tremaining: 212ms\n",
      "883:\tlearn: 0.0201999\ttotal: 1.6s\tremaining: 210ms\n",
      "884:\tlearn: 0.0201998\ttotal: 1.6s\tremaining: 208ms\n",
      "885:\tlearn: 0.0201996\ttotal: 1.61s\tremaining: 207ms\n",
      "886:\tlearn: 0.0201995\ttotal: 1.61s\tremaining: 205ms\n",
      "887:\tlearn: 0.0201995\ttotal: 1.61s\tremaining: 203ms\n",
      "888:\tlearn: 0.0201994\ttotal: 1.61s\tremaining: 201ms\n",
      "889:\tlearn: 0.0201993\ttotal: 1.61s\tremaining: 199ms\n",
      "890:\tlearn: 0.0201992\ttotal: 1.61s\tremaining: 198ms\n",
      "891:\tlearn: 0.0201992\ttotal: 1.62s\tremaining: 196ms\n",
      "892:\tlearn: 0.0201991\ttotal: 1.62s\tremaining: 194ms\n",
      "893:\tlearn: 0.0201990\ttotal: 1.62s\tremaining: 192ms\n",
      "894:\tlearn: 0.0201990\ttotal: 1.62s\tremaining: 190ms\n",
      "895:\tlearn: 0.0201990\ttotal: 1.63s\tremaining: 189ms\n",
      "896:\tlearn: 0.0201989\ttotal: 1.63s\tremaining: 187ms\n",
      "897:\tlearn: 0.0201987\ttotal: 1.63s\tremaining: 185ms\n",
      "898:\tlearn: 0.0201985\ttotal: 1.63s\tremaining: 183ms\n",
      "899:\tlearn: 0.0201983\ttotal: 1.63s\tremaining: 182ms\n",
      "900:\tlearn: 0.0201982\ttotal: 1.64s\tremaining: 180ms\n",
      "901:\tlearn: 0.0201979\ttotal: 1.64s\tremaining: 178ms\n",
      "902:\tlearn: 0.0201975\ttotal: 1.64s\tremaining: 176ms\n",
      "903:\tlearn: 0.0201975\ttotal: 1.64s\tremaining: 174ms\n",
      "904:\tlearn: 0.0201974\ttotal: 1.64s\tremaining: 173ms\n",
      "905:\tlearn: 0.0201973\ttotal: 1.65s\tremaining: 171ms\n",
      "906:\tlearn: 0.0201973\ttotal: 1.65s\tremaining: 169ms\n",
      "907:\tlearn: 0.0201970\ttotal: 1.65s\tremaining: 167ms\n",
      "908:\tlearn: 0.0201970\ttotal: 1.65s\tremaining: 166ms\n",
      "909:\tlearn: 0.0201969\ttotal: 1.66s\tremaining: 164ms\n",
      "910:\tlearn: 0.0201969\ttotal: 1.66s\tremaining: 162ms\n",
      "911:\tlearn: 0.0201967\ttotal: 1.66s\tremaining: 160ms\n",
      "912:\tlearn: 0.0201965\ttotal: 1.66s\tremaining: 158ms\n",
      "913:\tlearn: 0.0201966\ttotal: 1.66s\tremaining: 157ms\n",
      "914:\tlearn: 0.0201965\ttotal: 1.67s\tremaining: 155ms\n",
      "915:\tlearn: 0.0201965\ttotal: 1.67s\tremaining: 153ms\n",
      "916:\tlearn: 0.0201963\ttotal: 1.67s\tremaining: 151ms\n",
      "917:\tlearn: 0.0201963\ttotal: 1.67s\tremaining: 149ms\n",
      "918:\tlearn: 0.0201960\ttotal: 1.67s\tremaining: 148ms\n",
      "919:\tlearn: 0.0201959\ttotal: 1.68s\tremaining: 146ms\n",
      "920:\tlearn: 0.0201958\ttotal: 1.68s\tremaining: 144ms\n",
      "921:\tlearn: 0.0201958\ttotal: 1.68s\tremaining: 142ms\n",
      "922:\tlearn: 0.0201957\ttotal: 1.68s\tremaining: 140ms\n",
      "923:\tlearn: 0.0201957\ttotal: 1.68s\tremaining: 139ms\n",
      "924:\tlearn: 0.0201957\ttotal: 1.69s\tremaining: 137ms\n",
      "925:\tlearn: 0.0201956\ttotal: 1.69s\tremaining: 135ms\n",
      "926:\tlearn: 0.0201956\ttotal: 1.69s\tremaining: 133ms\n",
      "927:\tlearn: 0.0201955\ttotal: 1.69s\tremaining: 131ms\n",
      "928:\tlearn: 0.0201953\ttotal: 1.69s\tremaining: 129ms\n",
      "929:\tlearn: 0.0201953\ttotal: 1.7s\tremaining: 128ms\n",
      "930:\tlearn: 0.0201952\ttotal: 1.7s\tremaining: 126ms\n",
      "931:\tlearn: 0.0201951\ttotal: 1.7s\tremaining: 124ms\n",
      "932:\tlearn: 0.0201948\ttotal: 1.7s\tremaining: 122ms\n",
      "933:\tlearn: 0.0201946\ttotal: 1.7s\tremaining: 120ms\n",
      "934:\tlearn: 0.0201947\ttotal: 1.71s\tremaining: 119ms\n",
      "935:\tlearn: 0.0201946\ttotal: 1.71s\tremaining: 117ms\n",
      "936:\tlearn: 0.0201943\ttotal: 1.71s\tremaining: 115ms\n",
      "937:\tlearn: 0.0201942\ttotal: 1.71s\tremaining: 113ms\n",
      "938:\tlearn: 0.0201941\ttotal: 1.71s\tremaining: 111ms\n",
      "939:\tlearn: 0.0201941\ttotal: 1.72s\tremaining: 110ms\n",
      "940:\tlearn: 0.0201939\ttotal: 1.72s\tremaining: 108ms\n",
      "941:\tlearn: 0.0201939\ttotal: 1.72s\tremaining: 106ms\n",
      "942:\tlearn: 0.0201939\ttotal: 1.72s\tremaining: 104ms\n",
      "943:\tlearn: 0.0201936\ttotal: 1.72s\tremaining: 102ms\n",
      "944:\tlearn: 0.0201935\ttotal: 1.73s\tremaining: 100ms\n",
      "945:\tlearn: 0.0201934\ttotal: 1.73s\tremaining: 98.7ms\n",
      "946:\tlearn: 0.0201933\ttotal: 1.73s\tremaining: 96.8ms\n",
      "947:\tlearn: 0.0201933\ttotal: 1.73s\tremaining: 95ms\n",
      "948:\tlearn: 0.0201931\ttotal: 1.73s\tremaining: 93.2ms\n",
      "949:\tlearn: 0.0201930\ttotal: 1.74s\tremaining: 91.4ms\n",
      "950:\tlearn: 0.0201929\ttotal: 1.74s\tremaining: 89.5ms\n",
      "951:\tlearn: 0.0201928\ttotal: 1.74s\tremaining: 87.7ms\n",
      "952:\tlearn: 0.0201922\ttotal: 1.74s\tremaining: 85.9ms\n",
      "953:\tlearn: 0.0201920\ttotal: 1.74s\tremaining: 84.1ms\n",
      "954:\tlearn: 0.0201917\ttotal: 1.75s\tremaining: 82.2ms\n",
      "955:\tlearn: 0.0201916\ttotal: 1.75s\tremaining: 80.4ms\n",
      "956:\tlearn: 0.0201915\ttotal: 1.75s\tremaining: 78.6ms\n",
      "957:\tlearn: 0.0201915\ttotal: 1.75s\tremaining: 76.7ms\n",
      "958:\tlearn: 0.0201914\ttotal: 1.75s\tremaining: 74.9ms\n",
      "959:\tlearn: 0.0201913\ttotal: 1.75s\tremaining: 73.1ms\n",
      "960:\tlearn: 0.0201911\ttotal: 1.76s\tremaining: 71.3ms\n",
      "961:\tlearn: 0.0201910\ttotal: 1.76s\tremaining: 69.4ms\n",
      "962:\tlearn: 0.0201909\ttotal: 1.76s\tremaining: 67.6ms\n",
      "963:\tlearn: 0.0201908\ttotal: 1.76s\tremaining: 65.8ms\n",
      "964:\tlearn: 0.0201908\ttotal: 1.76s\tremaining: 64ms\n",
      "965:\tlearn: 0.0201907\ttotal: 1.76s\tremaining: 62.1ms\n",
      "966:\tlearn: 0.0201907\ttotal: 1.77s\tremaining: 60.3ms\n",
      "967:\tlearn: 0.0201907\ttotal: 1.77s\tremaining: 58.5ms\n",
      "968:\tlearn: 0.0201907\ttotal: 1.77s\tremaining: 56.7ms\n",
      "969:\tlearn: 0.0201905\ttotal: 1.77s\tremaining: 54.9ms\n",
      "970:\tlearn: 0.0201905\ttotal: 1.78s\tremaining: 53.1ms\n",
      "971:\tlearn: 0.0201903\ttotal: 1.78s\tremaining: 51.3ms\n",
      "972:\tlearn: 0.0201903\ttotal: 1.78s\tremaining: 49.5ms\n",
      "973:\tlearn: 0.0201902\ttotal: 1.78s\tremaining: 47.6ms\n",
      "974:\tlearn: 0.0201902\ttotal: 1.79s\tremaining: 45.8ms\n",
      "975:\tlearn: 0.0201902\ttotal: 1.79s\tremaining: 44ms\n",
      "976:\tlearn: 0.0201900\ttotal: 1.79s\tremaining: 42.2ms\n",
      "977:\tlearn: 0.0201897\ttotal: 1.79s\tremaining: 40.3ms\n",
      "978:\tlearn: 0.0201895\ttotal: 1.79s\tremaining: 38.5ms\n",
      "979:\tlearn: 0.0201895\ttotal: 1.8s\tremaining: 36.7ms\n",
      "980:\tlearn: 0.0201894\ttotal: 1.8s\tremaining: 34.9ms\n",
      "981:\tlearn: 0.0201894\ttotal: 1.8s\tremaining: 33ms\n",
      "982:\tlearn: 0.0201894\ttotal: 1.8s\tremaining: 31.2ms\n",
      "983:\tlearn: 0.0201894\ttotal: 1.8s\tremaining: 29.3ms\n",
      "984:\tlearn: 0.0201893\ttotal: 1.81s\tremaining: 27.5ms\n",
      "985:\tlearn: 0.0201891\ttotal: 1.81s\tremaining: 25.7ms\n",
      "986:\tlearn: 0.0201889\ttotal: 1.81s\tremaining: 23.8ms\n",
      "987:\tlearn: 0.0201886\ttotal: 1.81s\tremaining: 22ms\n",
      "988:\tlearn: 0.0201887\ttotal: 1.81s\tremaining: 20.2ms\n",
      "989:\tlearn: 0.0201884\ttotal: 1.81s\tremaining: 18.3ms\n",
      "990:\tlearn: 0.0201882\ttotal: 1.82s\tremaining: 16.5ms\n",
      "991:\tlearn: 0.0201882\ttotal: 1.82s\tremaining: 14.7ms\n",
      "992:\tlearn: 0.0201877\ttotal: 1.82s\tremaining: 12.8ms\n",
      "993:\tlearn: 0.0201877\ttotal: 1.82s\tremaining: 11ms\n",
      "994:\tlearn: 0.0201876\ttotal: 1.82s\tremaining: 9.17ms\n",
      "995:\tlearn: 0.0201876\ttotal: 1.82s\tremaining: 7.33ms\n",
      "996:\tlearn: 0.0201873\ttotal: 1.83s\tremaining: 5.5ms\n",
      "997:\tlearn: 0.0201872\ttotal: 1.83s\tremaining: 3.67ms\n",
      "998:\tlearn: 0.0201872\ttotal: 1.83s\tremaining: 1.83ms\n",
      "999:\tlearn: 0.0201871\ttotal: 1.83s\tremaining: 0us\n"
     ]
    }
   ],
   "source": [
    "training_accuracy = []\n",
    "test_accuracy = []\n",
    "# try learning_rate from 0.1 to 0.9\n",
    "depth = range(1,10)\n",
    "for n in depth:\n",
    "    forest_test =  CatBoostClassifier(learning_rate = n*0.1)\n",
    "\n",
    "    forest_test.fit(X_train, y_train)\n",
    "    # record training set accuracy\n",
    "    training_accuracy.append(forest_test.score(X_train, y_train))\n",
    "    # record generalization accuracy\n",
    "    test_accuracy.append(forest_test.score(X_test, y_test))\n",
    "    "
   ]
  },
  {
   "cell_type": "code",
   "execution_count": 51,
   "id": "53d13ba8",
   "metadata": {},
   "outputs": [
    {
     "data": {
      "application/vnd.plotly.v1+json": {
       "config": {
        "plotlyServerURL": "https://plot.ly"
       },
       "data": [
        {
         "hovertemplate": "Accuracy Type=Training Accuracy<br>Learning Rate=%{x}<br>Accuracy=%{y}<extra></extra>",
         "legendgroup": "Training Accuracy",
         "line": {
          "color": "#636efa",
          "dash": "solid"
         },
         "marker": {
          "symbol": "circle"
         },
         "mode": "lines",
         "name": "Training Accuracy",
         "orientation": "v",
         "showlegend": true,
         "type": "scatter",
         "x": [
          1,
          2,
          3,
          4,
          5,
          6,
          7,
          8,
          9
         ],
         "xaxis": "x",
         "y": [
          0.9907271288024426,
          0.9907271288024426,
          0.9907271288024426,
          0.990953296392627,
          0.990953296392627,
          0.9910663801877191,
          0.9910663801877191,
          0.9910663801877191,
          0.9910663801877191
         ],
         "yaxis": "y"
        },
        {
         "hovertemplate": "Accuracy Type=Test Accuracy<br>Learning Rate=%{x}<br>Accuracy=%{y}<extra></extra>",
         "legendgroup": "Test Accuracy",
         "line": {
          "color": "#EF553B",
          "dash": "solid"
         },
         "marker": {
          "symbol": "circle"
         },
         "mode": "lines",
         "name": "Test Accuracy",
         "orientation": "v",
         "showlegend": true,
         "type": "scatter",
         "x": [
          1,
          2,
          3,
          4,
          5,
          6,
          7,
          8,
          9
         ],
         "xaxis": "x",
         "y": [
          0.9724106739032112,
          0.9706015377657169,
          0.9710538218000905,
          0.9701492537313433,
          0.9696969696969697,
          0.9674355495251018,
          0.9665309814563546,
          0.9687924016282226,
          0.9687924016282226
         ],
         "yaxis": "y"
        }
       ],
       "layout": {
        "legend": {
         "title": {
          "text": "Accuracy Type"
         },
         "tracegroupgap": 0
        },
        "template": {
         "data": {
          "bar": [
           {
            "error_x": {
             "color": "#2a3f5f"
            },
            "error_y": {
             "color": "#2a3f5f"
            },
            "marker": {
             "line": {
              "color": "#E5ECF6",
              "width": 0.5
             },
             "pattern": {
              "fillmode": "overlay",
              "size": 10,
              "solidity": 0.2
             }
            },
            "type": "bar"
           }
          ],
          "barpolar": [
           {
            "marker": {
             "line": {
              "color": "#E5ECF6",
              "width": 0.5
             },
             "pattern": {
              "fillmode": "overlay",
              "size": 10,
              "solidity": 0.2
             }
            },
            "type": "barpolar"
           }
          ],
          "carpet": [
           {
            "aaxis": {
             "endlinecolor": "#2a3f5f",
             "gridcolor": "white",
             "linecolor": "white",
             "minorgridcolor": "white",
             "startlinecolor": "#2a3f5f"
            },
            "baxis": {
             "endlinecolor": "#2a3f5f",
             "gridcolor": "white",
             "linecolor": "white",
             "minorgridcolor": "white",
             "startlinecolor": "#2a3f5f"
            },
            "type": "carpet"
           }
          ],
          "choropleth": [
           {
            "colorbar": {
             "outlinewidth": 0,
             "ticks": ""
            },
            "type": "choropleth"
           }
          ],
          "contour": [
           {
            "colorbar": {
             "outlinewidth": 0,
             "ticks": ""
            },
            "colorscale": [
             [
              0,
              "#0d0887"
             ],
             [
              0.1111111111111111,
              "#46039f"
             ],
             [
              0.2222222222222222,
              "#7201a8"
             ],
             [
              0.3333333333333333,
              "#9c179e"
             ],
             [
              0.4444444444444444,
              "#bd3786"
             ],
             [
              0.5555555555555556,
              "#d8576b"
             ],
             [
              0.6666666666666666,
              "#ed7953"
             ],
             [
              0.7777777777777778,
              "#fb9f3a"
             ],
             [
              0.8888888888888888,
              "#fdca26"
             ],
             [
              1,
              "#f0f921"
             ]
            ],
            "type": "contour"
           }
          ],
          "contourcarpet": [
           {
            "colorbar": {
             "outlinewidth": 0,
             "ticks": ""
            },
            "type": "contourcarpet"
           }
          ],
          "heatmap": [
           {
            "colorbar": {
             "outlinewidth": 0,
             "ticks": ""
            },
            "colorscale": [
             [
              0,
              "#0d0887"
             ],
             [
              0.1111111111111111,
              "#46039f"
             ],
             [
              0.2222222222222222,
              "#7201a8"
             ],
             [
              0.3333333333333333,
              "#9c179e"
             ],
             [
              0.4444444444444444,
              "#bd3786"
             ],
             [
              0.5555555555555556,
              "#d8576b"
             ],
             [
              0.6666666666666666,
              "#ed7953"
             ],
             [
              0.7777777777777778,
              "#fb9f3a"
             ],
             [
              0.8888888888888888,
              "#fdca26"
             ],
             [
              1,
              "#f0f921"
             ]
            ],
            "type": "heatmap"
           }
          ],
          "heatmapgl": [
           {
            "colorbar": {
             "outlinewidth": 0,
             "ticks": ""
            },
            "colorscale": [
             [
              0,
              "#0d0887"
             ],
             [
              0.1111111111111111,
              "#46039f"
             ],
             [
              0.2222222222222222,
              "#7201a8"
             ],
             [
              0.3333333333333333,
              "#9c179e"
             ],
             [
              0.4444444444444444,
              "#bd3786"
             ],
             [
              0.5555555555555556,
              "#d8576b"
             ],
             [
              0.6666666666666666,
              "#ed7953"
             ],
             [
              0.7777777777777778,
              "#fb9f3a"
             ],
             [
              0.8888888888888888,
              "#fdca26"
             ],
             [
              1,
              "#f0f921"
             ]
            ],
            "type": "heatmapgl"
           }
          ],
          "histogram": [
           {
            "marker": {
             "pattern": {
              "fillmode": "overlay",
              "size": 10,
              "solidity": 0.2
             }
            },
            "type": "histogram"
           }
          ],
          "histogram2d": [
           {
            "colorbar": {
             "outlinewidth": 0,
             "ticks": ""
            },
            "colorscale": [
             [
              0,
              "#0d0887"
             ],
             [
              0.1111111111111111,
              "#46039f"
             ],
             [
              0.2222222222222222,
              "#7201a8"
             ],
             [
              0.3333333333333333,
              "#9c179e"
             ],
             [
              0.4444444444444444,
              "#bd3786"
             ],
             [
              0.5555555555555556,
              "#d8576b"
             ],
             [
              0.6666666666666666,
              "#ed7953"
             ],
             [
              0.7777777777777778,
              "#fb9f3a"
             ],
             [
              0.8888888888888888,
              "#fdca26"
             ],
             [
              1,
              "#f0f921"
             ]
            ],
            "type": "histogram2d"
           }
          ],
          "histogram2dcontour": [
           {
            "colorbar": {
             "outlinewidth": 0,
             "ticks": ""
            },
            "colorscale": [
             [
              0,
              "#0d0887"
             ],
             [
              0.1111111111111111,
              "#46039f"
             ],
             [
              0.2222222222222222,
              "#7201a8"
             ],
             [
              0.3333333333333333,
              "#9c179e"
             ],
             [
              0.4444444444444444,
              "#bd3786"
             ],
             [
              0.5555555555555556,
              "#d8576b"
             ],
             [
              0.6666666666666666,
              "#ed7953"
             ],
             [
              0.7777777777777778,
              "#fb9f3a"
             ],
             [
              0.8888888888888888,
              "#fdca26"
             ],
             [
              1,
              "#f0f921"
             ]
            ],
            "type": "histogram2dcontour"
           }
          ],
          "mesh3d": [
           {
            "colorbar": {
             "outlinewidth": 0,
             "ticks": ""
            },
            "type": "mesh3d"
           }
          ],
          "parcoords": [
           {
            "line": {
             "colorbar": {
              "outlinewidth": 0,
              "ticks": ""
             }
            },
            "type": "parcoords"
           }
          ],
          "pie": [
           {
            "automargin": true,
            "type": "pie"
           }
          ],
          "scatter": [
           {
            "fillpattern": {
             "fillmode": "overlay",
             "size": 10,
             "solidity": 0.2
            },
            "type": "scatter"
           }
          ],
          "scatter3d": [
           {
            "line": {
             "colorbar": {
              "outlinewidth": 0,
              "ticks": ""
             }
            },
            "marker": {
             "colorbar": {
              "outlinewidth": 0,
              "ticks": ""
             }
            },
            "type": "scatter3d"
           }
          ],
          "scattercarpet": [
           {
            "marker": {
             "colorbar": {
              "outlinewidth": 0,
              "ticks": ""
             }
            },
            "type": "scattercarpet"
           }
          ],
          "scattergeo": [
           {
            "marker": {
             "colorbar": {
              "outlinewidth": 0,
              "ticks": ""
             }
            },
            "type": "scattergeo"
           }
          ],
          "scattergl": [
           {
            "marker": {
             "colorbar": {
              "outlinewidth": 0,
              "ticks": ""
             }
            },
            "type": "scattergl"
           }
          ],
          "scattermapbox": [
           {
            "marker": {
             "colorbar": {
              "outlinewidth": 0,
              "ticks": ""
             }
            },
            "type": "scattermapbox"
           }
          ],
          "scatterpolar": [
           {
            "marker": {
             "colorbar": {
              "outlinewidth": 0,
              "ticks": ""
             }
            },
            "type": "scatterpolar"
           }
          ],
          "scatterpolargl": [
           {
            "marker": {
             "colorbar": {
              "outlinewidth": 0,
              "ticks": ""
             }
            },
            "type": "scatterpolargl"
           }
          ],
          "scatterternary": [
           {
            "marker": {
             "colorbar": {
              "outlinewidth": 0,
              "ticks": ""
             }
            },
            "type": "scatterternary"
           }
          ],
          "surface": [
           {
            "colorbar": {
             "outlinewidth": 0,
             "ticks": ""
            },
            "colorscale": [
             [
              0,
              "#0d0887"
             ],
             [
              0.1111111111111111,
              "#46039f"
             ],
             [
              0.2222222222222222,
              "#7201a8"
             ],
             [
              0.3333333333333333,
              "#9c179e"
             ],
             [
              0.4444444444444444,
              "#bd3786"
             ],
             [
              0.5555555555555556,
              "#d8576b"
             ],
             [
              0.6666666666666666,
              "#ed7953"
             ],
             [
              0.7777777777777778,
              "#fb9f3a"
             ],
             [
              0.8888888888888888,
              "#fdca26"
             ],
             [
              1,
              "#f0f921"
             ]
            ],
            "type": "surface"
           }
          ],
          "table": [
           {
            "cells": {
             "fill": {
              "color": "#EBF0F8"
             },
             "line": {
              "color": "white"
             }
            },
            "header": {
             "fill": {
              "color": "#C8D4E3"
             },
             "line": {
              "color": "white"
             }
            },
            "type": "table"
           }
          ]
         },
         "layout": {
          "annotationdefaults": {
           "arrowcolor": "#2a3f5f",
           "arrowhead": 0,
           "arrowwidth": 1
          },
          "autotypenumbers": "strict",
          "coloraxis": {
           "colorbar": {
            "outlinewidth": 0,
            "ticks": ""
           }
          },
          "colorscale": {
           "diverging": [
            [
             0,
             "#8e0152"
            ],
            [
             0.1,
             "#c51b7d"
            ],
            [
             0.2,
             "#de77ae"
            ],
            [
             0.3,
             "#f1b6da"
            ],
            [
             0.4,
             "#fde0ef"
            ],
            [
             0.5,
             "#f7f7f7"
            ],
            [
             0.6,
             "#e6f5d0"
            ],
            [
             0.7,
             "#b8e186"
            ],
            [
             0.8,
             "#7fbc41"
            ],
            [
             0.9,
             "#4d9221"
            ],
            [
             1,
             "#276419"
            ]
           ],
           "sequential": [
            [
             0,
             "#0d0887"
            ],
            [
             0.1111111111111111,
             "#46039f"
            ],
            [
             0.2222222222222222,
             "#7201a8"
            ],
            [
             0.3333333333333333,
             "#9c179e"
            ],
            [
             0.4444444444444444,
             "#bd3786"
            ],
            [
             0.5555555555555556,
             "#d8576b"
            ],
            [
             0.6666666666666666,
             "#ed7953"
            ],
            [
             0.7777777777777778,
             "#fb9f3a"
            ],
            [
             0.8888888888888888,
             "#fdca26"
            ],
            [
             1,
             "#f0f921"
            ]
           ],
           "sequentialminus": [
            [
             0,
             "#0d0887"
            ],
            [
             0.1111111111111111,
             "#46039f"
            ],
            [
             0.2222222222222222,
             "#7201a8"
            ],
            [
             0.3333333333333333,
             "#9c179e"
            ],
            [
             0.4444444444444444,
             "#bd3786"
            ],
            [
             0.5555555555555556,
             "#d8576b"
            ],
            [
             0.6666666666666666,
             "#ed7953"
            ],
            [
             0.7777777777777778,
             "#fb9f3a"
            ],
            [
             0.8888888888888888,
             "#fdca26"
            ],
            [
             1,
             "#f0f921"
            ]
           ]
          },
          "colorway": [
           "#636efa",
           "#EF553B",
           "#00cc96",
           "#ab63fa",
           "#FFA15A",
           "#19d3f3",
           "#FF6692",
           "#B6E880",
           "#FF97FF",
           "#FECB52"
          ],
          "font": {
           "color": "#2a3f5f"
          },
          "geo": {
           "bgcolor": "white",
           "lakecolor": "white",
           "landcolor": "#E5ECF6",
           "showlakes": true,
           "showland": true,
           "subunitcolor": "white"
          },
          "hoverlabel": {
           "align": "left"
          },
          "hovermode": "closest",
          "mapbox": {
           "style": "light"
          },
          "paper_bgcolor": "white",
          "plot_bgcolor": "#E5ECF6",
          "polar": {
           "angularaxis": {
            "gridcolor": "white",
            "linecolor": "white",
            "ticks": ""
           },
           "bgcolor": "#E5ECF6",
           "radialaxis": {
            "gridcolor": "white",
            "linecolor": "white",
            "ticks": ""
           }
          },
          "scene": {
           "xaxis": {
            "backgroundcolor": "#E5ECF6",
            "gridcolor": "white",
            "gridwidth": 2,
            "linecolor": "white",
            "showbackground": true,
            "ticks": "",
            "zerolinecolor": "white"
           },
           "yaxis": {
            "backgroundcolor": "#E5ECF6",
            "gridcolor": "white",
            "gridwidth": 2,
            "linecolor": "white",
            "showbackground": true,
            "ticks": "",
            "zerolinecolor": "white"
           },
           "zaxis": {
            "backgroundcolor": "#E5ECF6",
            "gridcolor": "white",
            "gridwidth": 2,
            "linecolor": "white",
            "showbackground": true,
            "ticks": "",
            "zerolinecolor": "white"
           }
          },
          "shapedefaults": {
           "line": {
            "color": "#2a3f5f"
           }
          },
          "ternary": {
           "aaxis": {
            "gridcolor": "white",
            "linecolor": "white",
            "ticks": ""
           },
           "baxis": {
            "gridcolor": "white",
            "linecolor": "white",
            "ticks": ""
           },
           "bgcolor": "#E5ECF6",
           "caxis": {
            "gridcolor": "white",
            "linecolor": "white",
            "ticks": ""
           }
          },
          "title": {
           "x": 0.05
          },
          "xaxis": {
           "automargin": true,
           "gridcolor": "white",
           "linecolor": "white",
           "ticks": "",
           "title": {
            "standoff": 15
           },
           "zerolinecolor": "white",
           "zerolinewidth": 2
          },
          "yaxis": {
           "automargin": true,
           "gridcolor": "white",
           "linecolor": "white",
           "ticks": "",
           "title": {
            "standoff": 15
           },
           "zerolinecolor": "white",
           "zerolinewidth": 2
          }
         }
        },
        "title": {
         "text": "Training & Testing Accuracy vs Learning Rate"
        },
        "xaxis": {
         "anchor": "y",
         "domain": [
          0,
          1
         ],
         "title": {
          "text": "Learning Rate"
         }
        },
        "yaxis": {
         "anchor": "x",
         "domain": [
          0,
          1
         ],
         "title": {
          "text": "Accuracy"
         }
        }
       }
      }
     },
     "metadata": {},
     "output_type": "display_data"
    }
   ],
   "source": [
    "\n",
    "#plotting the training & testing accuracy for n_estimators from 1 to 50\n",
    "# plt.figure(figsize=None)\n",
    "# plt.plot(depth, training_accuracy, label=\"training accuracy\")\n",
    "# plt.plot(depth, test_accuracy, label=\"test accuracy\")\n",
    "# plt.ylabel(\"Accuracy\")  \n",
    "# plt.xlabel(\"learning_rate\")\n",
    "# plt.legend();\n",
    "\n",
    "# using plotly to plot the training & testing accuracy for n_estimators from 1 to 50\n",
    "# Create a DataFrame to hold training and testing accuracy values\n",
    "accuracy_df = pd.DataFrame({'Depth': depth, 'Training Accuracy': training_accuracy, 'Test Accuracy': test_accuracy})\n",
    "\n",
    "# Create an interactive line chart using Plotly Express\n",
    "fig = px.line(accuracy_df, x='Depth', y=['Training Accuracy', 'Test Accuracy'],\n",
    "              title=\"Training & Testing Accuracy vs Learning Rate\",\n",
    "              labels={'Depth': 'Learning Rate', 'value': 'Accuracy', 'variable': 'Accuracy Type'})\n",
    "\n",
    "# Show the interactive line chart\n",
    "fig.show()"
   ]
  },
  {
   "cell_type": "code",
   "execution_count": 52,
   "id": "080959b7",
   "metadata": {},
   "outputs": [],
   "source": [
    "#storing the results. The below mentioned order of parameter passing is important.\n",
    "\n",
    "storeResults('CatBoost Classifier',acc_test_cat,f1_score_test_cat,\n",
    "             recall_score_train_cat,precision_score_train_cat)"
   ]
  },
  {
   "cell_type": "markdown",
   "id": "c87f8a55",
   "metadata": {},
   "source": [
    "## 5.10. Multi-layer Perceptron classifier"
   ]
  },
  {
   "cell_type": "code",
   "execution_count": 53,
   "id": "5bfc3ea7",
   "metadata": {},
   "outputs": [
    {
     "data": {
      "text/html": [
       "<style>#sk-container-id-8 {color: black;background-color: white;}#sk-container-id-8 pre{padding: 0;}#sk-container-id-8 div.sk-toggleable {background-color: white;}#sk-container-id-8 label.sk-toggleable__label {cursor: pointer;display: block;width: 100%;margin-bottom: 0;padding: 0.3em;box-sizing: border-box;text-align: center;}#sk-container-id-8 label.sk-toggleable__label-arrow:before {content: \"▸\";float: left;margin-right: 0.25em;color: #696969;}#sk-container-id-8 label.sk-toggleable__label-arrow:hover:before {color: black;}#sk-container-id-8 div.sk-estimator:hover label.sk-toggleable__label-arrow:before {color: black;}#sk-container-id-8 div.sk-toggleable__content {max-height: 0;max-width: 0;overflow: hidden;text-align: left;background-color: #f0f8ff;}#sk-container-id-8 div.sk-toggleable__content pre {margin: 0.2em;color: black;border-radius: 0.25em;background-color: #f0f8ff;}#sk-container-id-8 input.sk-toggleable__control:checked~div.sk-toggleable__content {max-height: 200px;max-width: 100%;overflow: auto;}#sk-container-id-8 input.sk-toggleable__control:checked~label.sk-toggleable__label-arrow:before {content: \"▾\";}#sk-container-id-8 div.sk-estimator input.sk-toggleable__control:checked~label.sk-toggleable__label {background-color: #d4ebff;}#sk-container-id-8 div.sk-label input.sk-toggleable__control:checked~label.sk-toggleable__label {background-color: #d4ebff;}#sk-container-id-8 input.sk-hidden--visually {border: 0;clip: rect(1px 1px 1px 1px);clip: rect(1px, 1px, 1px, 1px);height: 1px;margin: -1px;overflow: hidden;padding: 0;position: absolute;width: 1px;}#sk-container-id-8 div.sk-estimator {font-family: monospace;background-color: #f0f8ff;border: 1px dotted black;border-radius: 0.25em;box-sizing: border-box;margin-bottom: 0.5em;}#sk-container-id-8 div.sk-estimator:hover {background-color: #d4ebff;}#sk-container-id-8 div.sk-parallel-item::after {content: \"\";width: 100%;border-bottom: 1px solid gray;flex-grow: 1;}#sk-container-id-8 div.sk-label:hover label.sk-toggleable__label {background-color: #d4ebff;}#sk-container-id-8 div.sk-serial::before {content: \"\";position: absolute;border-left: 1px solid gray;box-sizing: border-box;top: 0;bottom: 0;left: 50%;z-index: 0;}#sk-container-id-8 div.sk-serial {display: flex;flex-direction: column;align-items: center;background-color: white;padding-right: 0.2em;padding-left: 0.2em;position: relative;}#sk-container-id-8 div.sk-item {position: relative;z-index: 1;}#sk-container-id-8 div.sk-parallel {display: flex;align-items: stretch;justify-content: center;background-color: white;position: relative;}#sk-container-id-8 div.sk-item::before, #sk-container-id-8 div.sk-parallel-item::before {content: \"\";position: absolute;border-left: 1px solid gray;box-sizing: border-box;top: 0;bottom: 0;left: 50%;z-index: -1;}#sk-container-id-8 div.sk-parallel-item {display: flex;flex-direction: column;z-index: 1;position: relative;background-color: white;}#sk-container-id-8 div.sk-parallel-item:first-child::after {align-self: flex-end;width: 50%;}#sk-container-id-8 div.sk-parallel-item:last-child::after {align-self: flex-start;width: 50%;}#sk-container-id-8 div.sk-parallel-item:only-child::after {width: 0;}#sk-container-id-8 div.sk-dashed-wrapped {border: 1px dashed gray;margin: 0 0.4em 0.5em 0.4em;box-sizing: border-box;padding-bottom: 0.4em;background-color: white;}#sk-container-id-8 div.sk-label label {font-family: monospace;font-weight: bold;display: inline-block;line-height: 1.2em;}#sk-container-id-8 div.sk-label-container {text-align: center;}#sk-container-id-8 div.sk-container {/* jupyter's `normalize.less` sets `[hidden] { display: none; }` but bootstrap.min.css set `[hidden] { display: none !important; }` so we also need the `!important` here to be able to override the default hidden behavior on the sphinx rendered scikit-learn.org. See: https://github.com/scikit-learn/scikit-learn/issues/21755 */display: inline-block !important;position: relative;}#sk-container-id-8 div.sk-text-repr-fallback {display: none;}</style><div id=\"sk-container-id-8\" class=\"sk-top-container\"><div class=\"sk-text-repr-fallback\"><pre>MLPClassifier()</pre><b>In a Jupyter environment, please rerun this cell to show the HTML representation or trust the notebook. <br />On GitHub, the HTML representation is unable to render, please try loading this page with nbviewer.org.</b></div><div class=\"sk-container\" hidden><div class=\"sk-item\"><div class=\"sk-estimator sk-toggleable\"><input class=\"sk-toggleable__control sk-hidden--visually\" id=\"sk-estimator-id-10\" type=\"checkbox\" checked><label for=\"sk-estimator-id-10\" class=\"sk-toggleable__label sk-toggleable__label-arrow\">MLPClassifier</label><div class=\"sk-toggleable__content\"><pre>MLPClassifier()</pre></div></div></div></div></div>"
      ],
      "text/plain": [
       "MLPClassifier()"
      ]
     },
     "execution_count": 53,
     "metadata": {},
     "output_type": "execute_result"
    }
   ],
   "source": [
    "# Multi-layer Perceptron Classifier Model\n",
    "from sklearn.neural_network import MLPClassifier\n",
    "\n",
    "# instantiate the model\n",
    "mlp = MLPClassifier()\n",
    "#mlp = GridSearchCV(mlpc, parameter_space)\n",
    "\n",
    "# fit the model \n",
    "mlp.fit(X_train,y_train)"
   ]
  },
  {
   "cell_type": "code",
   "execution_count": 54,
   "id": "2cf7f1af",
   "metadata": {},
   "outputs": [],
   "source": [
    "#predicting the target value from the model for the samples\n",
    "y_train_mlp = mlp.predict(X_train)\n",
    "y_test_mlp = mlp.predict(X_test)"
   ]
  },
  {
   "cell_type": "code",
   "execution_count": 55,
   "id": "d68aa680",
   "metadata": {},
   "outputs": [
    {
     "name": "stdout",
     "output_type": "stream",
     "text": [
      "Multi-layer Perceptron : Accuracy on training Data: 0.987\n",
      "Multi-layer Perceptron : Accuracy on test Data: 0.970\n",
      "\n",
      "Multi-layer Perceptron : f1_score on training Data: 0.988\n",
      "Multi-layer Perceptron : f1_score on test Data: 0.988\n",
      "\n",
      "Multi-layer Perceptron : Recall on training Data: 0.993\n",
      "Multi-layer Perceptron : Recall on test Data: 0.982\n",
      "\n",
      "Multi-layer Perceptron : precision on training Data: 0.983\n",
      "Multi-layer Perceptron : precision on test Data: 0.965\n"
     ]
    }
   ],
   "source": [
    "#computing the accuracy, f1_score, Recall, precision of the model performance\n",
    "\n",
    "acc_train_mlp  = metrics.accuracy_score(y_train,y_train_mlp)\n",
    "acc_test_mlp = metrics.accuracy_score(y_test,y_test_mlp)\n",
    "print(\"Multi-layer Perceptron : Accuracy on training Data: {:.3f}\".format(acc_train_mlp))\n",
    "print(\"Multi-layer Perceptron : Accuracy on test Data: {:.3f}\".format(acc_test_mlp))\n",
    "print()\n",
    "\n",
    "f1_score_train_mlp = metrics.f1_score(y_train,y_train_mlp)\n",
    "f1_score_test_mlp = metrics.f1_score(y_test,y_test_mlp)\n",
    "print(\"Multi-layer Perceptron : f1_score on training Data: {:.3f}\".format(f1_score_train_mlp))\n",
    "print(\"Multi-layer Perceptron : f1_score on test Data: {:.3f}\".format(f1_score_train_mlp))\n",
    "print()\n",
    "\n",
    "recall_score_train_mlp = metrics.recall_score(y_train,y_train_mlp)\n",
    "recall_score_test_mlp = metrics.recall_score(y_test,y_test_mlp)\n",
    "print(\"Multi-layer Perceptron : Recall on training Data: {:.3f}\".format(recall_score_train_mlp))\n",
    "print(\"Multi-layer Perceptron : Recall on test Data: {:.3f}\".format(recall_score_test_mlp))\n",
    "print()\n",
    "\n",
    "precision_score_train_mlp = metrics.precision_score(y_train,y_train_mlp)\n",
    "precision_score_test_mlp = metrics.precision_score(y_test,y_test_mlp)\n",
    "print(\"Multi-layer Perceptron : precision on training Data: {:.3f}\".format(precision_score_train_mlp))\n",
    "print(\"Multi-layer Perceptron : precision on test Data: {:.3f}\".format(precision_score_test_mlp))"
   ]
  },
  {
   "cell_type": "code",
   "execution_count": 56,
   "id": "8983b248",
   "metadata": {},
   "outputs": [],
   "source": [
    "#storing the results. The below mentioned order of parameter passing is important.\n",
    "\n",
    "storeResults('Multi-layer Perceptron',acc_test_mlp,f1_score_test_mlp,\n",
    "             recall_score_train_mlp,precision_score_train_mlp)"
   ]
  },
  {
   "cell_type": "markdown",
   "id": "2cef57ca",
   "metadata": {},
   "source": [
    "## 6. Comparision of Models"
   ]
  },
  {
   "cell_type": "code",
   "execution_count": 57,
   "id": "bcddf7ae",
   "metadata": {},
   "outputs": [],
   "source": [
    "#creating dataframe\n",
    "result = pd.DataFrame({ 'ML Model' : ML_Model,\n",
    "                        'Accuracy' : accuracy,\n",
    "                        'f1_score' : f1_score,\n",
    "                        'Recall'   : recall,\n",
    "                        'Precision': precision,\n",
    "                      })\n"
   ]
  },
  {
   "cell_type": "code",
   "execution_count": 58,
   "id": "6851e518",
   "metadata": {},
   "outputs": [
    {
     "data": {
      "text/html": [
       "<div>\n",
       "<style scoped>\n",
       "    .dataframe tbody tr th:only-of-type {\n",
       "        vertical-align: middle;\n",
       "    }\n",
       "\n",
       "    .dataframe tbody tr th {\n",
       "        vertical-align: top;\n",
       "    }\n",
       "\n",
       "    .dataframe thead th {\n",
       "        text-align: right;\n",
       "    }\n",
       "</style>\n",
       "<table border=\"1\" class=\"dataframe\">\n",
       "  <thead>\n",
       "    <tr style=\"text-align: right;\">\n",
       "      <th></th>\n",
       "      <th>ML Model</th>\n",
       "      <th>Accuracy</th>\n",
       "      <th>f1_score</th>\n",
       "      <th>Recall</th>\n",
       "      <th>Precision</th>\n",
       "    </tr>\n",
       "  </thead>\n",
       "  <tbody>\n",
       "    <tr>\n",
       "      <th>0</th>\n",
       "      <td>Logistic Regression</td>\n",
       "      <td>0.934</td>\n",
       "      <td>0.941</td>\n",
       "      <td>0.943</td>\n",
       "      <td>0.927</td>\n",
       "    </tr>\n",
       "    <tr>\n",
       "      <th>1</th>\n",
       "      <td>K-Nearest Neighbors</td>\n",
       "      <td>0.956</td>\n",
       "      <td>0.961</td>\n",
       "      <td>0.991</td>\n",
       "      <td>0.989</td>\n",
       "    </tr>\n",
       "    <tr>\n",
       "      <th>2</th>\n",
       "      <td>Support Vector Machine</td>\n",
       "      <td>0.964</td>\n",
       "      <td>0.968</td>\n",
       "      <td>0.980</td>\n",
       "      <td>0.965</td>\n",
       "    </tr>\n",
       "    <tr>\n",
       "      <th>3</th>\n",
       "      <td>Naive Bayes Classifier</td>\n",
       "      <td>0.605</td>\n",
       "      <td>0.454</td>\n",
       "      <td>0.292</td>\n",
       "      <td>0.997</td>\n",
       "    </tr>\n",
       "    <tr>\n",
       "      <th>4</th>\n",
       "      <td>Decision Tree</td>\n",
       "      <td>0.960</td>\n",
       "      <td>0.964</td>\n",
       "      <td>0.991</td>\n",
       "      <td>0.993</td>\n",
       "    </tr>\n",
       "    <tr>\n",
       "      <th>5</th>\n",
       "      <td>Random Forest</td>\n",
       "      <td>0.969</td>\n",
       "      <td>0.972</td>\n",
       "      <td>0.992</td>\n",
       "      <td>0.990</td>\n",
       "    </tr>\n",
       "    <tr>\n",
       "      <th>6</th>\n",
       "      <td>Gradient Boosting Classifier</td>\n",
       "      <td>0.974</td>\n",
       "      <td>0.977</td>\n",
       "      <td>0.994</td>\n",
       "      <td>0.986</td>\n",
       "    </tr>\n",
       "    <tr>\n",
       "      <th>7</th>\n",
       "      <td>CatBoost Classifier</td>\n",
       "      <td>0.972</td>\n",
       "      <td>0.975</td>\n",
       "      <td>0.994</td>\n",
       "      <td>0.989</td>\n",
       "    </tr>\n",
       "    <tr>\n",
       "      <th>8</th>\n",
       "      <td>Multi-layer Perceptron</td>\n",
       "      <td>0.970</td>\n",
       "      <td>0.974</td>\n",
       "      <td>0.993</td>\n",
       "      <td>0.983</td>\n",
       "    </tr>\n",
       "  </tbody>\n",
       "</table>\n",
       "</div>"
      ],
      "text/plain": [
       "                       ML Model  Accuracy  f1_score  Recall  Precision\n",
       "0           Logistic Regression     0.934     0.941   0.943      0.927\n",
       "1           K-Nearest Neighbors     0.956     0.961   0.991      0.989\n",
       "2        Support Vector Machine     0.964     0.968   0.980      0.965\n",
       "3        Naive Bayes Classifier     0.605     0.454   0.292      0.997\n",
       "4                 Decision Tree     0.960     0.964   0.991      0.993\n",
       "5                 Random Forest     0.969     0.972   0.992      0.990\n",
       "6  Gradient Boosting Classifier     0.974     0.977   0.994      0.986\n",
       "7           CatBoost Classifier     0.972     0.975   0.994      0.989\n",
       "8        Multi-layer Perceptron     0.970     0.974   0.993      0.983"
      ]
     },
     "execution_count": 58,
     "metadata": {},
     "output_type": "execute_result"
    }
   ],
   "source": [
    "# dispalying total result\n",
    "result"
   ]
  },
  {
   "cell_type": "code",
   "execution_count": 59,
   "id": "b5ec314b",
   "metadata": {},
   "outputs": [],
   "source": [
    "#Sorting the datafram on accuracy\n",
    "sorted_result=result.sort_values(by=['Accuracy', 'f1_score'],ascending=False).reset_index(drop=True)"
   ]
  },
  {
   "cell_type": "code",
   "execution_count": 60,
   "id": "bf364ad6",
   "metadata": {},
   "outputs": [
    {
     "data": {
      "text/html": [
       "<div>\n",
       "<style scoped>\n",
       "    .dataframe tbody tr th:only-of-type {\n",
       "        vertical-align: middle;\n",
       "    }\n",
       "\n",
       "    .dataframe tbody tr th {\n",
       "        vertical-align: top;\n",
       "    }\n",
       "\n",
       "    .dataframe thead th {\n",
       "        text-align: right;\n",
       "    }\n",
       "</style>\n",
       "<table border=\"1\" class=\"dataframe\">\n",
       "  <thead>\n",
       "    <tr style=\"text-align: right;\">\n",
       "      <th></th>\n",
       "      <th>ML Model</th>\n",
       "      <th>Accuracy</th>\n",
       "      <th>f1_score</th>\n",
       "      <th>Recall</th>\n",
       "      <th>Precision</th>\n",
       "    </tr>\n",
       "  </thead>\n",
       "  <tbody>\n",
       "    <tr>\n",
       "      <th>0</th>\n",
       "      <td>Gradient Boosting Classifier</td>\n",
       "      <td>0.974</td>\n",
       "      <td>0.977</td>\n",
       "      <td>0.994</td>\n",
       "      <td>0.986</td>\n",
       "    </tr>\n",
       "    <tr>\n",
       "      <th>1</th>\n",
       "      <td>CatBoost Classifier</td>\n",
       "      <td>0.972</td>\n",
       "      <td>0.975</td>\n",
       "      <td>0.994</td>\n",
       "      <td>0.989</td>\n",
       "    </tr>\n",
       "    <tr>\n",
       "      <th>2</th>\n",
       "      <td>Multi-layer Perceptron</td>\n",
       "      <td>0.970</td>\n",
       "      <td>0.974</td>\n",
       "      <td>0.993</td>\n",
       "      <td>0.983</td>\n",
       "    </tr>\n",
       "    <tr>\n",
       "      <th>3</th>\n",
       "      <td>Random Forest</td>\n",
       "      <td>0.969</td>\n",
       "      <td>0.972</td>\n",
       "      <td>0.992</td>\n",
       "      <td>0.990</td>\n",
       "    </tr>\n",
       "    <tr>\n",
       "      <th>4</th>\n",
       "      <td>Support Vector Machine</td>\n",
       "      <td>0.964</td>\n",
       "      <td>0.968</td>\n",
       "      <td>0.980</td>\n",
       "      <td>0.965</td>\n",
       "    </tr>\n",
       "    <tr>\n",
       "      <th>5</th>\n",
       "      <td>Decision Tree</td>\n",
       "      <td>0.960</td>\n",
       "      <td>0.964</td>\n",
       "      <td>0.991</td>\n",
       "      <td>0.993</td>\n",
       "    </tr>\n",
       "    <tr>\n",
       "      <th>6</th>\n",
       "      <td>K-Nearest Neighbors</td>\n",
       "      <td>0.956</td>\n",
       "      <td>0.961</td>\n",
       "      <td>0.991</td>\n",
       "      <td>0.989</td>\n",
       "    </tr>\n",
       "    <tr>\n",
       "      <th>7</th>\n",
       "      <td>Logistic Regression</td>\n",
       "      <td>0.934</td>\n",
       "      <td>0.941</td>\n",
       "      <td>0.943</td>\n",
       "      <td>0.927</td>\n",
       "    </tr>\n",
       "    <tr>\n",
       "      <th>8</th>\n",
       "      <td>Naive Bayes Classifier</td>\n",
       "      <td>0.605</td>\n",
       "      <td>0.454</td>\n",
       "      <td>0.292</td>\n",
       "      <td>0.997</td>\n",
       "    </tr>\n",
       "  </tbody>\n",
       "</table>\n",
       "</div>"
      ],
      "text/plain": [
       "                       ML Model  Accuracy  f1_score  Recall  Precision\n",
       "0  Gradient Boosting Classifier     0.974     0.977   0.994      0.986\n",
       "1           CatBoost Classifier     0.972     0.975   0.994      0.989\n",
       "2        Multi-layer Perceptron     0.970     0.974   0.993      0.983\n",
       "3                 Random Forest     0.969     0.972   0.992      0.990\n",
       "4        Support Vector Machine     0.964     0.968   0.980      0.965\n",
       "5                 Decision Tree     0.960     0.964   0.991      0.993\n",
       "6           K-Nearest Neighbors     0.956     0.961   0.991      0.989\n",
       "7           Logistic Regression     0.934     0.941   0.943      0.927\n",
       "8        Naive Bayes Classifier     0.605     0.454   0.292      0.997"
      ]
     },
     "execution_count": 60,
     "metadata": {},
     "output_type": "execute_result"
    }
   ],
   "source": [
    "# dispalying total result\n",
    "sorted_result"
   ]
  },
  {
   "cell_type": "code",
   "execution_count": 61,
   "id": "3744e2f8",
   "metadata": {},
   "outputs": [
    {
     "data": {
      "application/vnd.plotly.v1+json": {
       "config": {
        "plotlyServerURL": "https://plot.ly"
       },
       "data": [
        {
         "mode": "lines+markers",
         "name": "Accuracy",
         "type": "scatter",
         "x": [
          "Gradient Boosting Classifier",
          "CatBoost Classifier",
          "Multi-layer Perceptron",
          "Random Forest",
          "Support Vector Machine",
          "Decision Tree",
          "K-Nearest Neighbors",
          "Logistic Regression",
          "Naive Bayes Classifier"
         ],
         "y": [
          0.974,
          0.972,
          0.97,
          0.969,
          0.964,
          0.96,
          0.956,
          0.934,
          0.605
         ]
        },
        {
         "mode": "lines+markers",
         "name": "F1 Score",
         "type": "scatter",
         "x": [
          "Gradient Boosting Classifier",
          "CatBoost Classifier",
          "Multi-layer Perceptron",
          "Random Forest",
          "Support Vector Machine",
          "Decision Tree",
          "K-Nearest Neighbors",
          "Logistic Regression",
          "Naive Bayes Classifier"
         ],
         "y": [
          0.977,
          0.975,
          0.974,
          0.972,
          0.968,
          0.964,
          0.961,
          0.941,
          0.454
         ]
        }
       ],
       "layout": {
        "height": 600,
        "legend": {
         "x": 0.02,
         "y": 1
        },
        "template": {
         "data": {
          "bar": [
           {
            "error_x": {
             "color": "#2a3f5f"
            },
            "error_y": {
             "color": "#2a3f5f"
            },
            "marker": {
             "line": {
              "color": "#E5ECF6",
              "width": 0.5
             },
             "pattern": {
              "fillmode": "overlay",
              "size": 10,
              "solidity": 0.2
             }
            },
            "type": "bar"
           }
          ],
          "barpolar": [
           {
            "marker": {
             "line": {
              "color": "#E5ECF6",
              "width": 0.5
             },
             "pattern": {
              "fillmode": "overlay",
              "size": 10,
              "solidity": 0.2
             }
            },
            "type": "barpolar"
           }
          ],
          "carpet": [
           {
            "aaxis": {
             "endlinecolor": "#2a3f5f",
             "gridcolor": "white",
             "linecolor": "white",
             "minorgridcolor": "white",
             "startlinecolor": "#2a3f5f"
            },
            "baxis": {
             "endlinecolor": "#2a3f5f",
             "gridcolor": "white",
             "linecolor": "white",
             "minorgridcolor": "white",
             "startlinecolor": "#2a3f5f"
            },
            "type": "carpet"
           }
          ],
          "choropleth": [
           {
            "colorbar": {
             "outlinewidth": 0,
             "ticks": ""
            },
            "type": "choropleth"
           }
          ],
          "contour": [
           {
            "colorbar": {
             "outlinewidth": 0,
             "ticks": ""
            },
            "colorscale": [
             [
              0,
              "#0d0887"
             ],
             [
              0.1111111111111111,
              "#46039f"
             ],
             [
              0.2222222222222222,
              "#7201a8"
             ],
             [
              0.3333333333333333,
              "#9c179e"
             ],
             [
              0.4444444444444444,
              "#bd3786"
             ],
             [
              0.5555555555555556,
              "#d8576b"
             ],
             [
              0.6666666666666666,
              "#ed7953"
             ],
             [
              0.7777777777777778,
              "#fb9f3a"
             ],
             [
              0.8888888888888888,
              "#fdca26"
             ],
             [
              1,
              "#f0f921"
             ]
            ],
            "type": "contour"
           }
          ],
          "contourcarpet": [
           {
            "colorbar": {
             "outlinewidth": 0,
             "ticks": ""
            },
            "type": "contourcarpet"
           }
          ],
          "heatmap": [
           {
            "colorbar": {
             "outlinewidth": 0,
             "ticks": ""
            },
            "colorscale": [
             [
              0,
              "#0d0887"
             ],
             [
              0.1111111111111111,
              "#46039f"
             ],
             [
              0.2222222222222222,
              "#7201a8"
             ],
             [
              0.3333333333333333,
              "#9c179e"
             ],
             [
              0.4444444444444444,
              "#bd3786"
             ],
             [
              0.5555555555555556,
              "#d8576b"
             ],
             [
              0.6666666666666666,
              "#ed7953"
             ],
             [
              0.7777777777777778,
              "#fb9f3a"
             ],
             [
              0.8888888888888888,
              "#fdca26"
             ],
             [
              1,
              "#f0f921"
             ]
            ],
            "type": "heatmap"
           }
          ],
          "heatmapgl": [
           {
            "colorbar": {
             "outlinewidth": 0,
             "ticks": ""
            },
            "colorscale": [
             [
              0,
              "#0d0887"
             ],
             [
              0.1111111111111111,
              "#46039f"
             ],
             [
              0.2222222222222222,
              "#7201a8"
             ],
             [
              0.3333333333333333,
              "#9c179e"
             ],
             [
              0.4444444444444444,
              "#bd3786"
             ],
             [
              0.5555555555555556,
              "#d8576b"
             ],
             [
              0.6666666666666666,
              "#ed7953"
             ],
             [
              0.7777777777777778,
              "#fb9f3a"
             ],
             [
              0.8888888888888888,
              "#fdca26"
             ],
             [
              1,
              "#f0f921"
             ]
            ],
            "type": "heatmapgl"
           }
          ],
          "histogram": [
           {
            "marker": {
             "pattern": {
              "fillmode": "overlay",
              "size": 10,
              "solidity": 0.2
             }
            },
            "type": "histogram"
           }
          ],
          "histogram2d": [
           {
            "colorbar": {
             "outlinewidth": 0,
             "ticks": ""
            },
            "colorscale": [
             [
              0,
              "#0d0887"
             ],
             [
              0.1111111111111111,
              "#46039f"
             ],
             [
              0.2222222222222222,
              "#7201a8"
             ],
             [
              0.3333333333333333,
              "#9c179e"
             ],
             [
              0.4444444444444444,
              "#bd3786"
             ],
             [
              0.5555555555555556,
              "#d8576b"
             ],
             [
              0.6666666666666666,
              "#ed7953"
             ],
             [
              0.7777777777777778,
              "#fb9f3a"
             ],
             [
              0.8888888888888888,
              "#fdca26"
             ],
             [
              1,
              "#f0f921"
             ]
            ],
            "type": "histogram2d"
           }
          ],
          "histogram2dcontour": [
           {
            "colorbar": {
             "outlinewidth": 0,
             "ticks": ""
            },
            "colorscale": [
             [
              0,
              "#0d0887"
             ],
             [
              0.1111111111111111,
              "#46039f"
             ],
             [
              0.2222222222222222,
              "#7201a8"
             ],
             [
              0.3333333333333333,
              "#9c179e"
             ],
             [
              0.4444444444444444,
              "#bd3786"
             ],
             [
              0.5555555555555556,
              "#d8576b"
             ],
             [
              0.6666666666666666,
              "#ed7953"
             ],
             [
              0.7777777777777778,
              "#fb9f3a"
             ],
             [
              0.8888888888888888,
              "#fdca26"
             ],
             [
              1,
              "#f0f921"
             ]
            ],
            "type": "histogram2dcontour"
           }
          ],
          "mesh3d": [
           {
            "colorbar": {
             "outlinewidth": 0,
             "ticks": ""
            },
            "type": "mesh3d"
           }
          ],
          "parcoords": [
           {
            "line": {
             "colorbar": {
              "outlinewidth": 0,
              "ticks": ""
             }
            },
            "type": "parcoords"
           }
          ],
          "pie": [
           {
            "automargin": true,
            "type": "pie"
           }
          ],
          "scatter": [
           {
            "fillpattern": {
             "fillmode": "overlay",
             "size": 10,
             "solidity": 0.2
            },
            "type": "scatter"
           }
          ],
          "scatter3d": [
           {
            "line": {
             "colorbar": {
              "outlinewidth": 0,
              "ticks": ""
             }
            },
            "marker": {
             "colorbar": {
              "outlinewidth": 0,
              "ticks": ""
             }
            },
            "type": "scatter3d"
           }
          ],
          "scattercarpet": [
           {
            "marker": {
             "colorbar": {
              "outlinewidth": 0,
              "ticks": ""
             }
            },
            "type": "scattercarpet"
           }
          ],
          "scattergeo": [
           {
            "marker": {
             "colorbar": {
              "outlinewidth": 0,
              "ticks": ""
             }
            },
            "type": "scattergeo"
           }
          ],
          "scattergl": [
           {
            "marker": {
             "colorbar": {
              "outlinewidth": 0,
              "ticks": ""
             }
            },
            "type": "scattergl"
           }
          ],
          "scattermapbox": [
           {
            "marker": {
             "colorbar": {
              "outlinewidth": 0,
              "ticks": ""
             }
            },
            "type": "scattermapbox"
           }
          ],
          "scatterpolar": [
           {
            "marker": {
             "colorbar": {
              "outlinewidth": 0,
              "ticks": ""
             }
            },
            "type": "scatterpolar"
           }
          ],
          "scatterpolargl": [
           {
            "marker": {
             "colorbar": {
              "outlinewidth": 0,
              "ticks": ""
             }
            },
            "type": "scatterpolargl"
           }
          ],
          "scatterternary": [
           {
            "marker": {
             "colorbar": {
              "outlinewidth": 0,
              "ticks": ""
             }
            },
            "type": "scatterternary"
           }
          ],
          "surface": [
           {
            "colorbar": {
             "outlinewidth": 0,
             "ticks": ""
            },
            "colorscale": [
             [
              0,
              "#0d0887"
             ],
             [
              0.1111111111111111,
              "#46039f"
             ],
             [
              0.2222222222222222,
              "#7201a8"
             ],
             [
              0.3333333333333333,
              "#9c179e"
             ],
             [
              0.4444444444444444,
              "#bd3786"
             ],
             [
              0.5555555555555556,
              "#d8576b"
             ],
             [
              0.6666666666666666,
              "#ed7953"
             ],
             [
              0.7777777777777778,
              "#fb9f3a"
             ],
             [
              0.8888888888888888,
              "#fdca26"
             ],
             [
              1,
              "#f0f921"
             ]
            ],
            "type": "surface"
           }
          ],
          "table": [
           {
            "cells": {
             "fill": {
              "color": "#EBF0F8"
             },
             "line": {
              "color": "white"
             }
            },
            "header": {
             "fill": {
              "color": "#C8D4E3"
             },
             "line": {
              "color": "white"
             }
            },
            "type": "table"
           }
          ]
         },
         "layout": {
          "annotationdefaults": {
           "arrowcolor": "#2a3f5f",
           "arrowhead": 0,
           "arrowwidth": 1
          },
          "autotypenumbers": "strict",
          "coloraxis": {
           "colorbar": {
            "outlinewidth": 0,
            "ticks": ""
           }
          },
          "colorscale": {
           "diverging": [
            [
             0,
             "#8e0152"
            ],
            [
             0.1,
             "#c51b7d"
            ],
            [
             0.2,
             "#de77ae"
            ],
            [
             0.3,
             "#f1b6da"
            ],
            [
             0.4,
             "#fde0ef"
            ],
            [
             0.5,
             "#f7f7f7"
            ],
            [
             0.6,
             "#e6f5d0"
            ],
            [
             0.7,
             "#b8e186"
            ],
            [
             0.8,
             "#7fbc41"
            ],
            [
             0.9,
             "#4d9221"
            ],
            [
             1,
             "#276419"
            ]
           ],
           "sequential": [
            [
             0,
             "#0d0887"
            ],
            [
             0.1111111111111111,
             "#46039f"
            ],
            [
             0.2222222222222222,
             "#7201a8"
            ],
            [
             0.3333333333333333,
             "#9c179e"
            ],
            [
             0.4444444444444444,
             "#bd3786"
            ],
            [
             0.5555555555555556,
             "#d8576b"
            ],
            [
             0.6666666666666666,
             "#ed7953"
            ],
            [
             0.7777777777777778,
             "#fb9f3a"
            ],
            [
             0.8888888888888888,
             "#fdca26"
            ],
            [
             1,
             "#f0f921"
            ]
           ],
           "sequentialminus": [
            [
             0,
             "#0d0887"
            ],
            [
             0.1111111111111111,
             "#46039f"
            ],
            [
             0.2222222222222222,
             "#7201a8"
            ],
            [
             0.3333333333333333,
             "#9c179e"
            ],
            [
             0.4444444444444444,
             "#bd3786"
            ],
            [
             0.5555555555555556,
             "#d8576b"
            ],
            [
             0.6666666666666666,
             "#ed7953"
            ],
            [
             0.7777777777777778,
             "#fb9f3a"
            ],
            [
             0.8888888888888888,
             "#fdca26"
            ],
            [
             1,
             "#f0f921"
            ]
           ]
          },
          "colorway": [
           "#636efa",
           "#EF553B",
           "#00cc96",
           "#ab63fa",
           "#FFA15A",
           "#19d3f3",
           "#FF6692",
           "#B6E880",
           "#FF97FF",
           "#FECB52"
          ],
          "font": {
           "color": "#2a3f5f"
          },
          "geo": {
           "bgcolor": "white",
           "lakecolor": "white",
           "landcolor": "#E5ECF6",
           "showlakes": true,
           "showland": true,
           "subunitcolor": "white"
          },
          "hoverlabel": {
           "align": "left"
          },
          "hovermode": "closest",
          "mapbox": {
           "style": "light"
          },
          "paper_bgcolor": "white",
          "plot_bgcolor": "#E5ECF6",
          "polar": {
           "angularaxis": {
            "gridcolor": "white",
            "linecolor": "white",
            "ticks": ""
           },
           "bgcolor": "#E5ECF6",
           "radialaxis": {
            "gridcolor": "white",
            "linecolor": "white",
            "ticks": ""
           }
          },
          "scene": {
           "xaxis": {
            "backgroundcolor": "#E5ECF6",
            "gridcolor": "white",
            "gridwidth": 2,
            "linecolor": "white",
            "showbackground": true,
            "ticks": "",
            "zerolinecolor": "white"
           },
           "yaxis": {
            "backgroundcolor": "#E5ECF6",
            "gridcolor": "white",
            "gridwidth": 2,
            "linecolor": "white",
            "showbackground": true,
            "ticks": "",
            "zerolinecolor": "white"
           },
           "zaxis": {
            "backgroundcolor": "#E5ECF6",
            "gridcolor": "white",
            "gridwidth": 2,
            "linecolor": "white",
            "showbackground": true,
            "ticks": "",
            "zerolinecolor": "white"
           }
          },
          "shapedefaults": {
           "line": {
            "color": "#2a3f5f"
           }
          },
          "ternary": {
           "aaxis": {
            "gridcolor": "white",
            "linecolor": "white",
            "ticks": ""
           },
           "baxis": {
            "gridcolor": "white",
            "linecolor": "white",
            "ticks": ""
           },
           "bgcolor": "#E5ECF6",
           "caxis": {
            "gridcolor": "white",
            "linecolor": "white",
            "ticks": ""
           }
          },
          "title": {
           "x": 0.05
          },
          "xaxis": {
           "automargin": true,
           "gridcolor": "white",
           "linecolor": "white",
           "ticks": "",
           "title": {
            "standoff": 15
           },
           "zerolinecolor": "white",
           "zerolinewidth": 2
          },
          "yaxis": {
           "automargin": true,
           "gridcolor": "white",
           "linecolor": "white",
           "ticks": "",
           "title": {
            "standoff": 15
           },
           "zerolinecolor": "white",
           "zerolinewidth": 2
          }
         }
        },
        "title": {
         "text": "Accuracy and F1 Score Curves"
        },
        "xaxis": {
         "tickangle": -45,
         "tickfont": {
          "size": 10
         },
         "title": {
          "text": "ML Model"
         }
        },
        "yaxis": {
         "title": {
          "text": "Score"
         }
        }
       }
      }
     },
     "metadata": {},
     "output_type": "display_data"
    }
   ],
   "source": [
    "\n",
    "\n",
    "# Sort the DataFrame by Accuracy in descending order\n",
    "sorted_result = sorted_result.sort_values(by='Accuracy', ascending=False)\n",
    "\n",
    "# Creating a line chart for accuracy and f1_score curves\n",
    "fig = go.Figure()\n",
    "\n",
    "# Add accuracy curves\n",
    "fig.add_trace(go.Scatter(x=sorted_result['ML Model'], y=sorted_result['Accuracy'],\n",
    "                         mode='lines+markers', name='Accuracy'))\n",
    "\n",
    "# Add f1_score curves\n",
    "fig.add_trace(go.Scatter(x=sorted_result['ML Model'], y=sorted_result['f1_score'],\n",
    "                         mode='lines+markers', name='F1 Score'))\n",
    "\n",
    "# Customize the layout\n",
    "fig.update_layout(title='Accuracy and F1 Score Curves',\n",
    "                  xaxis_title='ML Model', yaxis_title='Score',\n",
    "                  legend=dict(x=0.02, y=1),\n",
    "                  xaxis_tickangle=-45, xaxis_tickfont=dict(size=10),\n",
    "                  height=600)\n",
    "\n",
    "# Show the interactive plot\n",
    "fig.show()\n",
    "\n",
    "\n"
   ]
  },
  {
   "cell_type": "markdown",
   "id": "26cd1618",
   "metadata": {},
   "source": [
    "## Storing Best Model"
   ]
  },
  {
   "cell_type": "code",
   "execution_count": 62,
   "id": "8280bba0",
   "metadata": {},
   "outputs": [
    {
     "data": {
      "text/html": [
       "<style>#sk-container-id-9 {color: black;background-color: white;}#sk-container-id-9 pre{padding: 0;}#sk-container-id-9 div.sk-toggleable {background-color: white;}#sk-container-id-9 label.sk-toggleable__label {cursor: pointer;display: block;width: 100%;margin-bottom: 0;padding: 0.3em;box-sizing: border-box;text-align: center;}#sk-container-id-9 label.sk-toggleable__label-arrow:before {content: \"▸\";float: left;margin-right: 0.25em;color: #696969;}#sk-container-id-9 label.sk-toggleable__label-arrow:hover:before {color: black;}#sk-container-id-9 div.sk-estimator:hover label.sk-toggleable__label-arrow:before {color: black;}#sk-container-id-9 div.sk-toggleable__content {max-height: 0;max-width: 0;overflow: hidden;text-align: left;background-color: #f0f8ff;}#sk-container-id-9 div.sk-toggleable__content pre {margin: 0.2em;color: black;border-radius: 0.25em;background-color: #f0f8ff;}#sk-container-id-9 input.sk-toggleable__control:checked~div.sk-toggleable__content {max-height: 200px;max-width: 100%;overflow: auto;}#sk-container-id-9 input.sk-toggleable__control:checked~label.sk-toggleable__label-arrow:before {content: \"▾\";}#sk-container-id-9 div.sk-estimator input.sk-toggleable__control:checked~label.sk-toggleable__label {background-color: #d4ebff;}#sk-container-id-9 div.sk-label input.sk-toggleable__control:checked~label.sk-toggleable__label {background-color: #d4ebff;}#sk-container-id-9 input.sk-hidden--visually {border: 0;clip: rect(1px 1px 1px 1px);clip: rect(1px, 1px, 1px, 1px);height: 1px;margin: -1px;overflow: hidden;padding: 0;position: absolute;width: 1px;}#sk-container-id-9 div.sk-estimator {font-family: monospace;background-color: #f0f8ff;border: 1px dotted black;border-radius: 0.25em;box-sizing: border-box;margin-bottom: 0.5em;}#sk-container-id-9 div.sk-estimator:hover {background-color: #d4ebff;}#sk-container-id-9 div.sk-parallel-item::after {content: \"\";width: 100%;border-bottom: 1px solid gray;flex-grow: 1;}#sk-container-id-9 div.sk-label:hover label.sk-toggleable__label {background-color: #d4ebff;}#sk-container-id-9 div.sk-serial::before {content: \"\";position: absolute;border-left: 1px solid gray;box-sizing: border-box;top: 0;bottom: 0;left: 50%;z-index: 0;}#sk-container-id-9 div.sk-serial {display: flex;flex-direction: column;align-items: center;background-color: white;padding-right: 0.2em;padding-left: 0.2em;position: relative;}#sk-container-id-9 div.sk-item {position: relative;z-index: 1;}#sk-container-id-9 div.sk-parallel {display: flex;align-items: stretch;justify-content: center;background-color: white;position: relative;}#sk-container-id-9 div.sk-item::before, #sk-container-id-9 div.sk-parallel-item::before {content: \"\";position: absolute;border-left: 1px solid gray;box-sizing: border-box;top: 0;bottom: 0;left: 50%;z-index: -1;}#sk-container-id-9 div.sk-parallel-item {display: flex;flex-direction: column;z-index: 1;position: relative;background-color: white;}#sk-container-id-9 div.sk-parallel-item:first-child::after {align-self: flex-end;width: 50%;}#sk-container-id-9 div.sk-parallel-item:last-child::after {align-self: flex-start;width: 50%;}#sk-container-id-9 div.sk-parallel-item:only-child::after {width: 0;}#sk-container-id-9 div.sk-dashed-wrapped {border: 1px dashed gray;margin: 0 0.4em 0.5em 0.4em;box-sizing: border-box;padding-bottom: 0.4em;background-color: white;}#sk-container-id-9 div.sk-label label {font-family: monospace;font-weight: bold;display: inline-block;line-height: 1.2em;}#sk-container-id-9 div.sk-label-container {text-align: center;}#sk-container-id-9 div.sk-container {/* jupyter's `normalize.less` sets `[hidden] { display: none; }` but bootstrap.min.css set `[hidden] { display: none !important; }` so we also need the `!important` here to be able to override the default hidden behavior on the sphinx rendered scikit-learn.org. See: https://github.com/scikit-learn/scikit-learn/issues/21755 */display: inline-block !important;position: relative;}#sk-container-id-9 div.sk-text-repr-fallback {display: none;}</style><div id=\"sk-container-id-9\" class=\"sk-top-container\"><div class=\"sk-text-repr-fallback\"><pre>GradientBoostingClassifier(learning_rate=0.7, max_depth=4)</pre><b>In a Jupyter environment, please rerun this cell to show the HTML representation or trust the notebook. <br />On GitHub, the HTML representation is unable to render, please try loading this page with nbviewer.org.</b></div><div class=\"sk-container\" hidden><div class=\"sk-item\"><div class=\"sk-estimator sk-toggleable\"><input class=\"sk-toggleable__control sk-hidden--visually\" id=\"sk-estimator-id-11\" type=\"checkbox\" checked><label for=\"sk-estimator-id-11\" class=\"sk-toggleable__label sk-toggleable__label-arrow\">GradientBoostingClassifier</label><div class=\"sk-toggleable__content\"><pre>GradientBoostingClassifier(learning_rate=0.7, max_depth=4)</pre></div></div></div></div></div>"
      ],
      "text/plain": [
       "GradientBoostingClassifier(learning_rate=0.7, max_depth=4)"
      ]
     },
     "execution_count": 62,
     "metadata": {},
     "output_type": "execute_result"
    }
   ],
   "source": [
    "\n",
    "# instantiate the model\n",
    "gbc = GradientBoostingClassifier(max_depth=4,learning_rate=0.7)\n",
    "\n",
    "# fit the model \n",
    "gbc.fit(X_train,y_train)"
   ]
  },
  {
   "cell_type": "code",
   "execution_count": 63,
   "id": "74208873",
   "metadata": {},
   "outputs": [],
   "source": [
    "import pickle\n",
    "\n",
    "# dump information to that file\n",
    "pickle.dump(gbc, open('pickle/model.pkl', 'wb'))"
   ]
  },
  {
   "cell_type": "code",
   "execution_count": 64,
   "id": "b594a036",
   "metadata": {},
   "outputs": [
    {
     "data": {
      "application/vnd.plotly.v1+json": {
       "config": {
        "plotlyServerURL": "https://plot.ly"
       },
       "data": [
        {
         "alignmentgroup": "True",
         "hovertemplate": "Feature Importance=%{x}<br>Feature=%{y}<extra></extra>",
         "legendgroup": "",
         "marker": {
          "color": "#636efa",
          "pattern": {
           "shape": ""
          }
         },
         "name": "",
         "offsetgroup": "",
         "orientation": "h",
         "showlegend": false,
         "textposition": "auto",
         "type": "bar",
         "x": [
          0.002745035386355909,
          0.00419387948926056,
          0.0007931449550491736,
          0.00013217775743355295,
          0.00031718769294716105,
          0.0241155417255959,
          0.011944980975389794,
          0.6966237887915795,
          0.005417633639909406,
          0.00027109152180839597,
          0.00004021635385252632,
          0.0014869473581559792,
          0.004376589661605274,
          0.13223077786299198,
          0.032652183251655434,
          0.008265489291392494,
          0.0017062987173516403,
          0.0005300602897086237,
          0.0008541283119595462,
          0.001482549587736705,
          0.0006877414255872786,
          0.0019767947783818018,
          0.00045727599451267034,
          0.0024337085829104228,
          0.00400998894207291,
          0.04136790129079227,
          0.0016678587545407028,
          0.007596570185610292,
          0.009469803551175982,
          0.00015265387267614764
         ],
         "xaxis": "x",
         "y": [
          "UsingIP",
          "LongURL",
          "ShortURL",
          "Symbol@",
          "Redirecting//",
          "PrefixSuffix-",
          "SubDomains",
          "HTTPS",
          "DomainRegLen",
          "Favicon",
          "NonStdPort",
          "HTTPSDomainURL",
          "RequestURL",
          "AnchorURL",
          "LinksInScriptTags",
          "ServerFormHandler",
          "InfoEmail",
          "AbnormalURL",
          "WebsiteForwarding",
          "StatusBarCust",
          "DisableRightClick",
          "UsingPopupWindow",
          "IframeRedirection",
          "AgeofDomain",
          "DNSRecording",
          "WebsiteTraffic",
          "PageRank",
          "GoogleIndex",
          "LinksPointingToPage",
          "StatsReport"
         ],
         "yaxis": "y"
        }
       ],
       "layout": {
        "barmode": "relative",
        "legend": {
         "tracegroupgap": 0
        },
        "template": {
         "data": {
          "bar": [
           {
            "error_x": {
             "color": "#2a3f5f"
            },
            "error_y": {
             "color": "#2a3f5f"
            },
            "marker": {
             "line": {
              "color": "#E5ECF6",
              "width": 0.5
             },
             "pattern": {
              "fillmode": "overlay",
              "size": 10,
              "solidity": 0.2
             }
            },
            "type": "bar"
           }
          ],
          "barpolar": [
           {
            "marker": {
             "line": {
              "color": "#E5ECF6",
              "width": 0.5
             },
             "pattern": {
              "fillmode": "overlay",
              "size": 10,
              "solidity": 0.2
             }
            },
            "type": "barpolar"
           }
          ],
          "carpet": [
           {
            "aaxis": {
             "endlinecolor": "#2a3f5f",
             "gridcolor": "white",
             "linecolor": "white",
             "minorgridcolor": "white",
             "startlinecolor": "#2a3f5f"
            },
            "baxis": {
             "endlinecolor": "#2a3f5f",
             "gridcolor": "white",
             "linecolor": "white",
             "minorgridcolor": "white",
             "startlinecolor": "#2a3f5f"
            },
            "type": "carpet"
           }
          ],
          "choropleth": [
           {
            "colorbar": {
             "outlinewidth": 0,
             "ticks": ""
            },
            "type": "choropleth"
           }
          ],
          "contour": [
           {
            "colorbar": {
             "outlinewidth": 0,
             "ticks": ""
            },
            "colorscale": [
             [
              0,
              "#0d0887"
             ],
             [
              0.1111111111111111,
              "#46039f"
             ],
             [
              0.2222222222222222,
              "#7201a8"
             ],
             [
              0.3333333333333333,
              "#9c179e"
             ],
             [
              0.4444444444444444,
              "#bd3786"
             ],
             [
              0.5555555555555556,
              "#d8576b"
             ],
             [
              0.6666666666666666,
              "#ed7953"
             ],
             [
              0.7777777777777778,
              "#fb9f3a"
             ],
             [
              0.8888888888888888,
              "#fdca26"
             ],
             [
              1,
              "#f0f921"
             ]
            ],
            "type": "contour"
           }
          ],
          "contourcarpet": [
           {
            "colorbar": {
             "outlinewidth": 0,
             "ticks": ""
            },
            "type": "contourcarpet"
           }
          ],
          "heatmap": [
           {
            "colorbar": {
             "outlinewidth": 0,
             "ticks": ""
            },
            "colorscale": [
             [
              0,
              "#0d0887"
             ],
             [
              0.1111111111111111,
              "#46039f"
             ],
             [
              0.2222222222222222,
              "#7201a8"
             ],
             [
              0.3333333333333333,
              "#9c179e"
             ],
             [
              0.4444444444444444,
              "#bd3786"
             ],
             [
              0.5555555555555556,
              "#d8576b"
             ],
             [
              0.6666666666666666,
              "#ed7953"
             ],
             [
              0.7777777777777778,
              "#fb9f3a"
             ],
             [
              0.8888888888888888,
              "#fdca26"
             ],
             [
              1,
              "#f0f921"
             ]
            ],
            "type": "heatmap"
           }
          ],
          "heatmapgl": [
           {
            "colorbar": {
             "outlinewidth": 0,
             "ticks": ""
            },
            "colorscale": [
             [
              0,
              "#0d0887"
             ],
             [
              0.1111111111111111,
              "#46039f"
             ],
             [
              0.2222222222222222,
              "#7201a8"
             ],
             [
              0.3333333333333333,
              "#9c179e"
             ],
             [
              0.4444444444444444,
              "#bd3786"
             ],
             [
              0.5555555555555556,
              "#d8576b"
             ],
             [
              0.6666666666666666,
              "#ed7953"
             ],
             [
              0.7777777777777778,
              "#fb9f3a"
             ],
             [
              0.8888888888888888,
              "#fdca26"
             ],
             [
              1,
              "#f0f921"
             ]
            ],
            "type": "heatmapgl"
           }
          ],
          "histogram": [
           {
            "marker": {
             "pattern": {
              "fillmode": "overlay",
              "size": 10,
              "solidity": 0.2
             }
            },
            "type": "histogram"
           }
          ],
          "histogram2d": [
           {
            "colorbar": {
             "outlinewidth": 0,
             "ticks": ""
            },
            "colorscale": [
             [
              0,
              "#0d0887"
             ],
             [
              0.1111111111111111,
              "#46039f"
             ],
             [
              0.2222222222222222,
              "#7201a8"
             ],
             [
              0.3333333333333333,
              "#9c179e"
             ],
             [
              0.4444444444444444,
              "#bd3786"
             ],
             [
              0.5555555555555556,
              "#d8576b"
             ],
             [
              0.6666666666666666,
              "#ed7953"
             ],
             [
              0.7777777777777778,
              "#fb9f3a"
             ],
             [
              0.8888888888888888,
              "#fdca26"
             ],
             [
              1,
              "#f0f921"
             ]
            ],
            "type": "histogram2d"
           }
          ],
          "histogram2dcontour": [
           {
            "colorbar": {
             "outlinewidth": 0,
             "ticks": ""
            },
            "colorscale": [
             [
              0,
              "#0d0887"
             ],
             [
              0.1111111111111111,
              "#46039f"
             ],
             [
              0.2222222222222222,
              "#7201a8"
             ],
             [
              0.3333333333333333,
              "#9c179e"
             ],
             [
              0.4444444444444444,
              "#bd3786"
             ],
             [
              0.5555555555555556,
              "#d8576b"
             ],
             [
              0.6666666666666666,
              "#ed7953"
             ],
             [
              0.7777777777777778,
              "#fb9f3a"
             ],
             [
              0.8888888888888888,
              "#fdca26"
             ],
             [
              1,
              "#f0f921"
             ]
            ],
            "type": "histogram2dcontour"
           }
          ],
          "mesh3d": [
           {
            "colorbar": {
             "outlinewidth": 0,
             "ticks": ""
            },
            "type": "mesh3d"
           }
          ],
          "parcoords": [
           {
            "line": {
             "colorbar": {
              "outlinewidth": 0,
              "ticks": ""
             }
            },
            "type": "parcoords"
           }
          ],
          "pie": [
           {
            "automargin": true,
            "type": "pie"
           }
          ],
          "scatter": [
           {
            "fillpattern": {
             "fillmode": "overlay",
             "size": 10,
             "solidity": 0.2
            },
            "type": "scatter"
           }
          ],
          "scatter3d": [
           {
            "line": {
             "colorbar": {
              "outlinewidth": 0,
              "ticks": ""
             }
            },
            "marker": {
             "colorbar": {
              "outlinewidth": 0,
              "ticks": ""
             }
            },
            "type": "scatter3d"
           }
          ],
          "scattercarpet": [
           {
            "marker": {
             "colorbar": {
              "outlinewidth": 0,
              "ticks": ""
             }
            },
            "type": "scattercarpet"
           }
          ],
          "scattergeo": [
           {
            "marker": {
             "colorbar": {
              "outlinewidth": 0,
              "ticks": ""
             }
            },
            "type": "scattergeo"
           }
          ],
          "scattergl": [
           {
            "marker": {
             "colorbar": {
              "outlinewidth": 0,
              "ticks": ""
             }
            },
            "type": "scattergl"
           }
          ],
          "scattermapbox": [
           {
            "marker": {
             "colorbar": {
              "outlinewidth": 0,
              "ticks": ""
             }
            },
            "type": "scattermapbox"
           }
          ],
          "scatterpolar": [
           {
            "marker": {
             "colorbar": {
              "outlinewidth": 0,
              "ticks": ""
             }
            },
            "type": "scatterpolar"
           }
          ],
          "scatterpolargl": [
           {
            "marker": {
             "colorbar": {
              "outlinewidth": 0,
              "ticks": ""
             }
            },
            "type": "scatterpolargl"
           }
          ],
          "scatterternary": [
           {
            "marker": {
             "colorbar": {
              "outlinewidth": 0,
              "ticks": ""
             }
            },
            "type": "scatterternary"
           }
          ],
          "surface": [
           {
            "colorbar": {
             "outlinewidth": 0,
             "ticks": ""
            },
            "colorscale": [
             [
              0,
              "#0d0887"
             ],
             [
              0.1111111111111111,
              "#46039f"
             ],
             [
              0.2222222222222222,
              "#7201a8"
             ],
             [
              0.3333333333333333,
              "#9c179e"
             ],
             [
              0.4444444444444444,
              "#bd3786"
             ],
             [
              0.5555555555555556,
              "#d8576b"
             ],
             [
              0.6666666666666666,
              "#ed7953"
             ],
             [
              0.7777777777777778,
              "#fb9f3a"
             ],
             [
              0.8888888888888888,
              "#fdca26"
             ],
             [
              1,
              "#f0f921"
             ]
            ],
            "type": "surface"
           }
          ],
          "table": [
           {
            "cells": {
             "fill": {
              "color": "#EBF0F8"
             },
             "line": {
              "color": "white"
             }
            },
            "header": {
             "fill": {
              "color": "#C8D4E3"
             },
             "line": {
              "color": "white"
             }
            },
            "type": "table"
           }
          ]
         },
         "layout": {
          "annotationdefaults": {
           "arrowcolor": "#2a3f5f",
           "arrowhead": 0,
           "arrowwidth": 1
          },
          "autotypenumbers": "strict",
          "coloraxis": {
           "colorbar": {
            "outlinewidth": 0,
            "ticks": ""
           }
          },
          "colorscale": {
           "diverging": [
            [
             0,
             "#8e0152"
            ],
            [
             0.1,
             "#c51b7d"
            ],
            [
             0.2,
             "#de77ae"
            ],
            [
             0.3,
             "#f1b6da"
            ],
            [
             0.4,
             "#fde0ef"
            ],
            [
             0.5,
             "#f7f7f7"
            ],
            [
             0.6,
             "#e6f5d0"
            ],
            [
             0.7,
             "#b8e186"
            ],
            [
             0.8,
             "#7fbc41"
            ],
            [
             0.9,
             "#4d9221"
            ],
            [
             1,
             "#276419"
            ]
           ],
           "sequential": [
            [
             0,
             "#0d0887"
            ],
            [
             0.1111111111111111,
             "#46039f"
            ],
            [
             0.2222222222222222,
             "#7201a8"
            ],
            [
             0.3333333333333333,
             "#9c179e"
            ],
            [
             0.4444444444444444,
             "#bd3786"
            ],
            [
             0.5555555555555556,
             "#d8576b"
            ],
            [
             0.6666666666666666,
             "#ed7953"
            ],
            [
             0.7777777777777778,
             "#fb9f3a"
            ],
            [
             0.8888888888888888,
             "#fdca26"
            ],
            [
             1,
             "#f0f921"
            ]
           ],
           "sequentialminus": [
            [
             0,
             "#0d0887"
            ],
            [
             0.1111111111111111,
             "#46039f"
            ],
            [
             0.2222222222222222,
             "#7201a8"
            ],
            [
             0.3333333333333333,
             "#9c179e"
            ],
            [
             0.4444444444444444,
             "#bd3786"
            ],
            [
             0.5555555555555556,
             "#d8576b"
            ],
            [
             0.6666666666666666,
             "#ed7953"
            ],
            [
             0.7777777777777778,
             "#fb9f3a"
            ],
            [
             0.8888888888888888,
             "#fdca26"
            ],
            [
             1,
             "#f0f921"
            ]
           ]
          },
          "colorway": [
           "#636efa",
           "#EF553B",
           "#00cc96",
           "#ab63fa",
           "#FFA15A",
           "#19d3f3",
           "#FF6692",
           "#B6E880",
           "#FF97FF",
           "#FECB52"
          ],
          "font": {
           "color": "#2a3f5f"
          },
          "geo": {
           "bgcolor": "white",
           "lakecolor": "white",
           "landcolor": "#E5ECF6",
           "showlakes": true,
           "showland": true,
           "subunitcolor": "white"
          },
          "hoverlabel": {
           "align": "left"
          },
          "hovermode": "closest",
          "mapbox": {
           "style": "light"
          },
          "paper_bgcolor": "white",
          "plot_bgcolor": "#E5ECF6",
          "polar": {
           "angularaxis": {
            "gridcolor": "white",
            "linecolor": "white",
            "ticks": ""
           },
           "bgcolor": "#E5ECF6",
           "radialaxis": {
            "gridcolor": "white",
            "linecolor": "white",
            "ticks": ""
           }
          },
          "scene": {
           "xaxis": {
            "backgroundcolor": "#E5ECF6",
            "gridcolor": "white",
            "gridwidth": 2,
            "linecolor": "white",
            "showbackground": true,
            "ticks": "",
            "zerolinecolor": "white"
           },
           "yaxis": {
            "backgroundcolor": "#E5ECF6",
            "gridcolor": "white",
            "gridwidth": 2,
            "linecolor": "white",
            "showbackground": true,
            "ticks": "",
            "zerolinecolor": "white"
           },
           "zaxis": {
            "backgroundcolor": "#E5ECF6",
            "gridcolor": "white",
            "gridwidth": 2,
            "linecolor": "white",
            "showbackground": true,
            "ticks": "",
            "zerolinecolor": "white"
           }
          },
          "shapedefaults": {
           "line": {
            "color": "#2a3f5f"
           }
          },
          "ternary": {
           "aaxis": {
            "gridcolor": "white",
            "linecolor": "white",
            "ticks": ""
           },
           "baxis": {
            "gridcolor": "white",
            "linecolor": "white",
            "ticks": ""
           },
           "bgcolor": "#E5ECF6",
           "caxis": {
            "gridcolor": "white",
            "linecolor": "white",
            "ticks": ""
           }
          },
          "title": {
           "x": 0.05
          },
          "xaxis": {
           "automargin": true,
           "gridcolor": "white",
           "linecolor": "white",
           "ticks": "",
           "title": {
            "standoff": 15
           },
           "zerolinecolor": "white",
           "zerolinewidth": 2
          },
          "yaxis": {
           "automargin": true,
           "gridcolor": "white",
           "linecolor": "white",
           "ticks": "",
           "title": {
            "standoff": 15
           },
           "zerolinecolor": "white",
           "zerolinewidth": 2
          }
         }
        },
        "title": {
         "text": "Feature Importances using Permutation on Full Model"
        },
        "xaxis": {
         "anchor": "y",
         "domain": [
          0,
          1
         ],
         "title": {
          "text": "Feature Importance"
         }
        },
        "yaxis": {
         "anchor": "x",
         "domain": [
          0,
          1
         ],
         "title": {
          "text": "Feature"
         }
        }
       }
      }
     },
     "metadata": {},
     "output_type": "display_data"
    }
   ],
   "source": [
    "#checking the feature improtance in the model\n",
    "# plt.figure(figsize=(9,7))\n",
    "# n_features = X_train.shape[1]\n",
    "# plt.barh(range(n_features), gbc.feature_importances_, align='center')\n",
    "# plt.yticks(np.arange(n_features), X_train.columns)\n",
    "# plt.title(\"Feature importances using permutation on full model\")\n",
    "# plt.xlabel(\"Feature importance\")\n",
    "# plt.ylabel(\"Feature\")\n",
    "# plt.show()\n",
    "\n",
    "\n",
    "\n",
    "#using plotly\n",
    "# Checking the feature importance in the model\n",
    "n_features = X_train.shape[1]\n",
    "\n",
    "# Create a DataFrame to hold feature importances and corresponding feature names\n",
    "df = pd.DataFrame({'Feature': X_train.columns, 'Importance': gbc.feature_importances_})\n",
    "\n",
    "# Create an interactive bar chart using Plotly Express\n",
    "fig = px.bar(df, x='Importance', y='Feature', orientation='h',\n",
    "             title=\"Feature Importances using Permutation on Full Model\",\n",
    "             labels={'Importance': 'Feature Importance', 'Feature': 'Feature'})\n",
    "\n",
    "# Show the interactive bar chart\n",
    "fig.show()\n",
    "\n"
   ]
  },
  {
   "cell_type": "code",
   "execution_count": null,
   "id": "25f6bb6a",
   "metadata": {},
   "outputs": [],
   "source": []
  }
 ],
 "metadata": {
  "kernelspec": {
   "display_name": "Python 3 (ipykernel)",
   "language": "python",
   "name": "python3"
  },
  "language_info": {
   "codemirror_mode": {
    "name": "ipython",
    "version": 3
   },
   "file_extension": ".py",
   "mimetype": "text/x-python",
   "name": "python",
   "nbconvert_exporter": "python",
   "pygments_lexer": "ipython3",
   "version": "3.11.6"
  },
  "vscode": {
   "interpreter": {
    "hash": "a4868653bb6f8972e87e4c446ab8a445a15b25dedb8594cc74c480f8152ea86a"
   }
  }
 },
 "nbformat": 4,
 "nbformat_minor": 5
}
